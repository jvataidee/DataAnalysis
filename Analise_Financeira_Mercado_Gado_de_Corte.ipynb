{
  "nbformat": 4,
  "nbformat_minor": 0,
  "metadata": {
    "colab": {
      "name": "Analise_Financeira_Mercado_Gado_de_Corte.ipynb",
      "provenance": [],
      "collapsed_sections": [],
      "include_colab_link": true
    },
    "kernelspec": {
      "name": "python3",
      "display_name": "Python 3"
    },
    "language_info": {
      "name": "python"
    },
    "accelerator": "GPU"
  },
  "cells": [
    {
      "cell_type": "markdown",
      "metadata": {
        "id": "view-in-github",
        "colab_type": "text"
      },
      "source": [
        "<a href=\"https://colab.research.google.com/github/jvataidee/DataAnalysis/blob/master/Analise_Financeira_Mercado_Gado_de_Corte.ipynb\" target=\"_parent\"><img src=\"https://colab.research.google.com/assets/colab-badge.svg\" alt=\"Open In Colab\"/></a>"
      ]
    },
    {
      "cell_type": "markdown",
      "metadata": {
        "id": "iyF3cpCh9xBf"
      },
      "source": [
        "**by: [João Ataíde](https://www.joaoataide.com)**\n",
        "# Análise Mercado Financeira de Gado de Corte\n",
        "\n",
        "\n",
        "---\n"
      ]
    },
    {
      "cell_type": "markdown",
      "metadata": {
        "id": "-jEcTjEbDMfM"
      },
      "source": [
        "## Importanto bibliotecas básicas"
      ]
    },
    {
      "cell_type": "code",
      "metadata": {
        "id": "iHyBpQRa9lg5"
      },
      "source": [
        "#importar bibliotecas básicas\n",
        "import pandas as pd\n",
        "import numpy as np\n",
        "import matplotlib.pyplot as plt\n",
        "import seaborn as sns\n",
        "import requests\n",
        "from statsmodels.tsa.seasonal import seasonal_decompose\n",
        "\n",
        "# configurar a visualização\n",
        "sns.set()\n",
        "%matplotlib inline\n",
        "%config InlineBackend.figure_format = 'svg'"
      ],
      "execution_count": 54,
      "outputs": []
    },
    {
      "cell_type": "markdown",
      "metadata": {
        "id": "7iwDAi1hA_Nu"
      },
      "source": [
        "## Obtenção dos dados"
      ]
    },
    {
      "cell_type": "code",
      "metadata": {
        "id": "aFfpT5tHBfhs",
        "outputId": "db5121d5-686e-4ff3-c4cd-732fb6ab5111",
        "colab": {
          "base_uri": "https://localhost:8080/"
        }
      },
      "source": [
        "!pip install investpy -q"
      ],
      "execution_count": 2,
      "outputs": [
        {
          "output_type": "stream",
          "text": [
            "\u001b[K     |████████████████████████████████| 4.4 MB 9.5 MB/s \n",
            "\u001b[K     |████████████████████████████████| 241 kB 55.7 MB/s \n",
            "\u001b[K     |████████████████████████████████| 6.3 MB 60.4 MB/s \n",
            "\u001b[K     |████████████████████████████████| 510 kB 53.8 MB/s \n",
            "\u001b[?25h  Building wheel for investpy (setup.py) ... \u001b[?25l\u001b[?25hdone\n"
          ],
          "name": "stdout"
        }
      ]
    },
    {
      "cell_type": "code",
      "metadata": {
        "id": "rEVIsMYn7RGH",
        "outputId": "95958f0c-6a9d-47ad-d256-ddc36abebfde",
        "colab": {
          "base_uri": "https://localhost:8080/"
        }
      },
      "source": [
        "!pip install yfinance -q"
      ],
      "execution_count": 3,
      "outputs": [
        {
          "output_type": "stream",
          "text": [
            "  Building wheel for yfinance (setup.py) ... \u001b[?25l\u001b[?25hdone\n"
          ],
          "name": "stdout"
        }
      ]
    },
    {
      "cell_type": "code",
      "metadata": {
        "id": "BPSmATfGDQSp"
      },
      "source": [
        "#importar bibliotecas financeiras\n",
        "import investpy\n",
        "import yfinance as yf"
      ],
      "execution_count": 4,
      "outputs": []
    },
    {
      "cell_type": "markdown",
      "metadata": {
        "id": "wFLXpq1q40V_"
      },
      "source": [
        "### Dados de Commodities"
      ]
    },
    {
      "cell_type": "markdown",
      "metadata": {
        "id": "J4dvP5sWtxZl"
      },
      "source": [
        "Para fazer as análises do mercado de pecuária, diversas commodities são variáveis para o trabalho, sendo elas as seguintes:\n",
        "\n",
        "\n",
        "\n",
        "*   `Live Cattle` - preço do Boi Gordo\n",
        "*   `Feeder Cattle` - preço do Boi em engorda\n",
        "*   `US Soybeans` - preço da soja\n",
        "*   `US Corn` - preço do milho\n",
        "*   `Dollar` - preço do Dollar/Real\n",
        "\n",
        "Para importar esses dados usarei a biblioteca investpy, que possui um API com comandos para diversos dados financeiros. Para isso, precisaremos estipular uma janela de programação no qual precisa ser maior que 6 anos, devido ao ciclo da pecuária de corte.\n",
        "\n"
      ]
    },
    {
      "cell_type": "code",
      "metadata": {
        "id": "JNLqIvJwgO1Y"
      },
      "source": [
        "#Lista de commodities\n",
        "commodities = [\"Live Cattle\", \"Feeder Cattle\", \"US Soybeans\",\"US Corn\"]\n",
        "\n",
        "#Data de inicio e fim de análise\n",
        "inicio = \"01/01/2014\"\n",
        "fim = \"31/12/2021\""
      ],
      "execution_count": 5,
      "outputs": []
    },
    {
      "cell_type": "code",
      "metadata": {
        "id": "FuwlmI-8a3_D",
        "colab": {
          "base_uri": "https://localhost:8080/",
          "height": 202
        },
        "outputId": "138c031d-db1b-4308-861c-580b9fb49916"
      },
      "source": [
        "#Função para importar dados das commodities\n",
        "def commodities_df(commodities, inicio,fim):\n",
        "  precos = pd.DataFrame()\n",
        "  for i in commodities:\n",
        "    df = investpy.commodities.get_commodity_historical_data(commodity=i, from_date=inicio, to_date=fim).Close\n",
        "    df.rename(i, inplace=True)\n",
        "    df.columns = [i]\n",
        "    precos = pd.concat([precos,df], axis=1)\n",
        "    precos.index.name=\"Date\"\n",
        "  return precos\n",
        "\n",
        "\n",
        "#Data Frame de commodites\n",
        "df = commodities_df(commodities,inicio,fim)\n",
        "\n",
        "#Importar dollar\n",
        "doll = yf.Ticker(\"USDBRL=x\")\n",
        "dollar = pd.DataFrame(doll.history(start =\"2014-01-01\", end =\"2020-12-31\" ).Close)\n",
        "dollar.columns = [\"Dollar\"]\n",
        "dollar.index.name=\"Date\"\n",
        "\n",
        "#merge dado\n",
        "dados =pd.merge(df, dollar, how='inner', right_index=True, left_index=True)\n",
        "\n",
        "#Agrupar a média por trimestre\n",
        "dados_trimestre = dados.groupby(pd.Grouper(freq='Q')).mean()\n",
        "dados_trimestre = dados_trimestre.reset_index()\n",
        "dados_trimestre.head()"
      ],
      "execution_count": 6,
      "outputs": [
        {
          "output_type": "execute_result",
          "data": {
            "text/html": [
              "<div>\n",
              "<style scoped>\n",
              "    .dataframe tbody tr th:only-of-type {\n",
              "        vertical-align: middle;\n",
              "    }\n",
              "\n",
              "    .dataframe tbody tr th {\n",
              "        vertical-align: top;\n",
              "    }\n",
              "\n",
              "    .dataframe thead th {\n",
              "        text-align: right;\n",
              "    }\n",
              "</style>\n",
              "<table border=\"1\" class=\"dataframe\">\n",
              "  <thead>\n",
              "    <tr style=\"text-align: right;\">\n",
              "      <th></th>\n",
              "      <th>Date</th>\n",
              "      <th>Live Cattle</th>\n",
              "      <th>Feeder Cattle</th>\n",
              "      <th>US Soybeans</th>\n",
              "      <th>US Corn</th>\n",
              "      <th>Dollar</th>\n",
              "    </tr>\n",
              "  </thead>\n",
              "  <tbody>\n",
              "    <tr>\n",
              "      <th>0</th>\n",
              "      <td>2014-03-31</td>\n",
              "      <td>142.532871</td>\n",
              "      <td>171.350492</td>\n",
              "      <td>1351.535000</td>\n",
              "      <td>451.977903</td>\n",
              "      <td>2.361074</td>\n",
              "    </tr>\n",
              "    <tr>\n",
              "      <th>1</th>\n",
              "      <td>2014-06-30</td>\n",
              "      <td>142.672619</td>\n",
              "      <td>190.970476</td>\n",
              "      <td>1462.786349</td>\n",
              "      <td>479.190476</td>\n",
              "      <td>2.225935</td>\n",
              "    </tr>\n",
              "    <tr>\n",
              "      <th>2</th>\n",
              "      <td>2014-09-30</td>\n",
              "      <td>154.548047</td>\n",
              "      <td>220.610000</td>\n",
              "      <td>1089.502969</td>\n",
              "      <td>359.718750</td>\n",
              "      <td>2.268325</td>\n",
              "    </tr>\n",
              "    <tr>\n",
              "      <th>3</th>\n",
              "      <td>2014-12-31</td>\n",
              "      <td>165.997308</td>\n",
              "      <td>233.692187</td>\n",
              "      <td>1008.709385</td>\n",
              "      <td>372.705846</td>\n",
              "      <td>2.538731</td>\n",
              "    </tr>\n",
              "    <tr>\n",
              "      <th>4</th>\n",
              "      <td>2015-03-31</td>\n",
              "      <td>157.177049</td>\n",
              "      <td>210.525246</td>\n",
              "      <td>991.899180</td>\n",
              "      <td>384.864754</td>\n",
              "      <td>2.864362</td>\n",
              "    </tr>\n",
              "  </tbody>\n",
              "</table>\n",
              "</div>"
            ],
            "text/plain": [
              "        Date  Live Cattle  Feeder Cattle  US Soybeans     US Corn    Dollar\n",
              "0 2014-03-31   142.532871     171.350492  1351.535000  451.977903  2.361074\n",
              "1 2014-06-30   142.672619     190.970476  1462.786349  479.190476  2.225935\n",
              "2 2014-09-30   154.548047     220.610000  1089.502969  359.718750  2.268325\n",
              "3 2014-12-31   165.997308     233.692187  1008.709385  372.705846  2.538731\n",
              "4 2015-03-31   157.177049     210.525246   991.899180  384.864754  2.864362"
            ]
          },
          "metadata": {
            "tags": []
          },
          "execution_count": 6
        }
      ]
    },
    {
      "cell_type": "markdown",
      "metadata": {
        "id": "88CdpPXg34ke"
      },
      "source": [
        "### Dados do SIDRA\n",
        "\n",
        "Outro dados importante é referente aos número de abates dos animais por classe dentro do intervalo de tempo, sendo usado então validar os ciclos e as sazonalidades das culturas. Para isso, precisaremos baixar todas as classes os dados referentes ao intervalo e cabeças abatidas de cada classe:\n",
        "\n",
        "*   `Bois` - Animal macho\n",
        "*   `Vacas` - Animal fêmea\n",
        "*   `Novilhas` - Animal fêmea mais nova \n",
        "*   `Novilhos` - Animal macho mais novo\n",
        "*   `Totais` -  Soma de todas as classes\n",
        "\n"
      ]
    },
    {
      "cell_type": "code",
      "metadata": {
        "id": "BfaIAApC34w4"
      },
      "source": [
        "#link do banco de dados sidra\n",
        "consulta = 'https://apisidra.ibge.gov.br/values/t/1092/n1/all/v/all/p/all/c12716/all/c18/55,56,992,111734,111735/c12529/all/d/v1000151%202,v1000284%202,v1000285%202'\n",
        "ufs = [5] #numero de consultas\n",
        "\n",
        "#Baixar dados do sidra\n",
        "df2 = pd.DataFrame()\n",
        "for uf in ufs:\n",
        "    url = consulta.format(uf)\n",
        "    dados_json = requests.get(url).json()\n",
        "    dados_pandas = pd.DataFrame(dados_json)\n",
        "    df2 = pd.concat([dados_pandas,df2])"
      ],
      "execution_count": 7,
      "outputs": []
    },
    {
      "cell_type": "code",
      "metadata": {
        "colab": {
          "base_uri": "https://localhost:8080/",
          "height": 220
        },
        "id": "4xUS58nNAEwI",
        "outputId": "48e987ab-b5ec-4124-ce56-01d5bbbc43a9"
      },
      "source": [
        "#Renomear colunas\n",
        "sidra = df2.copy() \n",
        "colunas = list(df2.iloc[0,:])\n",
        "sidra.columns = colunas\n",
        "\n",
        "#Filtrar dados\n",
        "sidra = sidra.iloc[1:,:]\n",
        "sidra = sidra[sidra[\"Variável\"]==\"Animais abatidos\"]\n",
        "sidra = sidra[sidra[\"Tipo de inspeção\"]==\"Total\"]\n",
        "sidra = sidra[sidra[\"Unidade de Medida\"]==\"Cabeças\"]\n",
        "sidra = sidra[sidra[\"Referência temporal\"]==\"Total do trimestre\"]\n",
        "\n",
        "#Escolher colunas necessárias para a análise\n",
        "sidra = sidra.reset_index()\n",
        "sidra = sidra.iloc[:, [5, 11, 15]]\n",
        "\n",
        "#Dropar coluna de valor X\n",
        "sidra = sidra.drop(sidra[sidra[\"Valor\"] == 'X'].index)\n",
        "\n",
        "#tranformar valor em float\n",
        "sidra[\"Valor\"] = sidra[\"Valor\"].astype(float)\n",
        "\n",
        "#Encontrar datas\n",
        "times = sidra.Trimestre.str.split(expand=True)\n",
        "times[2] = pd.to_datetime(times[2])\n",
        "sidra3 = sidra.copy()\n",
        "sidra3 = sidra3[times[2] >= \"2014-01-01\"]\n",
        "sidra3 = sidra3[times[2] < \"2021-01-01\"]\n",
        "sidra3.head()"
      ],
      "execution_count": 8,
      "outputs": [
        {
          "output_type": "stream",
          "text": [
            "/usr/local/lib/python3.7/dist-packages/ipykernel_launcher.py:28: UserWarning: Boolean Series key will be reindexed to match DataFrame index.\n"
          ],
          "name": "stderr"
        },
        {
          "output_type": "execute_result",
          "data": {
            "text/html": [
              "<div>\n",
              "<style scoped>\n",
              "    .dataframe tbody tr th:only-of-type {\n",
              "        vertical-align: middle;\n",
              "    }\n",
              "\n",
              "    .dataframe tbody tr th {\n",
              "        vertical-align: top;\n",
              "    }\n",
              "\n",
              "    .dataframe thead th {\n",
              "        text-align: right;\n",
              "    }\n",
              "</style>\n",
              "<table border=\"1\" class=\"dataframe\">\n",
              "  <thead>\n",
              "    <tr style=\"text-align: right;\">\n",
              "      <th></th>\n",
              "      <th>Valor</th>\n",
              "      <th>Trimestre</th>\n",
              "      <th>Tipo de rebanho bovino</th>\n",
              "    </tr>\n",
              "  </thead>\n",
              "  <tbody>\n",
              "    <tr>\n",
              "      <th>340</th>\n",
              "      <td>3993691.0</td>\n",
              "      <td>1º trimestre 2014</td>\n",
              "      <td>Bois</td>\n",
              "    </tr>\n",
              "    <tr>\n",
              "      <th>341</th>\n",
              "      <td>3067441.0</td>\n",
              "      <td>1º trimestre 2014</td>\n",
              "      <td>Vacas</td>\n",
              "    </tr>\n",
              "    <tr>\n",
              "      <th>342</th>\n",
              "      <td>8372872.0</td>\n",
              "      <td>1º trimestre 2014</td>\n",
              "      <td>Total</td>\n",
              "    </tr>\n",
              "    <tr>\n",
              "      <th>343</th>\n",
              "      <td>447977.0</td>\n",
              "      <td>1º trimestre 2014</td>\n",
              "      <td>Novilhos</td>\n",
              "    </tr>\n",
              "    <tr>\n",
              "      <th>344</th>\n",
              "      <td>863763.0</td>\n",
              "      <td>1º trimestre 2014</td>\n",
              "      <td>Novilhas</td>\n",
              "    </tr>\n",
              "  </tbody>\n",
              "</table>\n",
              "</div>"
            ],
            "text/plain": [
              "         Valor          Trimestre Tipo de rebanho bovino\n",
              "340  3993691.0  1º trimestre 2014                   Bois\n",
              "341  3067441.0  1º trimestre 2014                  Vacas\n",
              "342  8372872.0  1º trimestre 2014                  Total\n",
              "343   447977.0  1º trimestre 2014               Novilhos\n",
              "344   863763.0  1º trimestre 2014               Novilhas"
            ]
          },
          "metadata": {
            "tags": []
          },
          "execution_count": 8
        }
      ]
    },
    {
      "cell_type": "code",
      "metadata": {
        "id": "O_84GEzp4Xao"
      },
      "source": [
        "#Separar dados pelo tipo de rebanho\n",
        "bois = sidra3[sidra3[\"Tipo de rebanho bovino\"] == \"Bois\"]\n",
        "vacas = sidra3[sidra3[\"Tipo de rebanho bovino\"] == \"Vacas\"]\n",
        "novilhas = sidra3[sidra3[\"Tipo de rebanho bovino\"] == \"Novilhos\"]\n",
        "novilhos = sidra3[sidra3[\"Tipo de rebanho bovino\"] == \"Novilhas\"]\n",
        "total = sidra3[sidra3[\"Tipo de rebanho bovino\"] == \"Total\"]"
      ],
      "execution_count": 9,
      "outputs": []
    },
    {
      "cell_type": "code",
      "metadata": {
        "id": "TRouEEkX1rSV"
      },
      "source": [
        "#Função de pré join\n",
        "def pre_join(dataframe, nome):\n",
        "  dataframe = dataframe.reset_index()\n",
        "  dataframe = dataframe.iloc[:, [1, 2]]\n",
        "  dataframe.columns = [nome, \"Trimestre\"]\n",
        "  return dataframe\n",
        "\n",
        "#Criar contador de trimestre\n",
        "bois = pre_join(bois, \"Bois\")\n",
        "vacas = pre_join(vacas, \"Vacas\")\n",
        "novilhas = pre_join(novilhas, \"Novilhas\")\n",
        "novilhos = pre_join(novilhos, \"Novilhos\")\n",
        "total = pre_join(total, \"Total\")"
      ],
      "execution_count": 10,
      "outputs": []
    },
    {
      "cell_type": "code",
      "metadata": {
        "colab": {
          "base_uri": "https://localhost:8080/",
          "height": 233
        },
        "id": "KxRh7_Ic8sn1",
        "outputId": "03796c33-30e9-4928-a123-96187be353fa"
      },
      "source": [
        "#Joins de todos os datasets\n",
        "df_final = dados_trimestre.copy()\n",
        "df_final = df_final.join(bois)\n",
        "df_final = df_final.join(vacas.Vacas)\n",
        "df_final = df_final.join(novilhas.Novilhas)\n",
        "df_final = df_final.join(novilhos.Novilhos)\n",
        "df_final = df_final.join(total.Total)\n",
        "\n",
        "#indexar por data\n",
        "df_final=df_final.set_index(\"Date\")\n",
        "df_final.head()"
      ],
      "execution_count": 11,
      "outputs": [
        {
          "output_type": "execute_result",
          "data": {
            "text/html": [
              "<div>\n",
              "<style scoped>\n",
              "    .dataframe tbody tr th:only-of-type {\n",
              "        vertical-align: middle;\n",
              "    }\n",
              "\n",
              "    .dataframe tbody tr th {\n",
              "        vertical-align: top;\n",
              "    }\n",
              "\n",
              "    .dataframe thead th {\n",
              "        text-align: right;\n",
              "    }\n",
              "</style>\n",
              "<table border=\"1\" class=\"dataframe\">\n",
              "  <thead>\n",
              "    <tr style=\"text-align: right;\">\n",
              "      <th></th>\n",
              "      <th>Live Cattle</th>\n",
              "      <th>Feeder Cattle</th>\n",
              "      <th>US Soybeans</th>\n",
              "      <th>US Corn</th>\n",
              "      <th>Dollar</th>\n",
              "      <th>Bois</th>\n",
              "      <th>Trimestre</th>\n",
              "      <th>Vacas</th>\n",
              "      <th>Novilhas</th>\n",
              "      <th>Novilhos</th>\n",
              "      <th>Total</th>\n",
              "    </tr>\n",
              "    <tr>\n",
              "      <th>Date</th>\n",
              "      <th></th>\n",
              "      <th></th>\n",
              "      <th></th>\n",
              "      <th></th>\n",
              "      <th></th>\n",
              "      <th></th>\n",
              "      <th></th>\n",
              "      <th></th>\n",
              "      <th></th>\n",
              "      <th></th>\n",
              "      <th></th>\n",
              "    </tr>\n",
              "  </thead>\n",
              "  <tbody>\n",
              "    <tr>\n",
              "      <th>2014-03-31</th>\n",
              "      <td>142.532871</td>\n",
              "      <td>171.350492</td>\n",
              "      <td>1351.535000</td>\n",
              "      <td>451.977903</td>\n",
              "      <td>2.361074</td>\n",
              "      <td>3993691.0</td>\n",
              "      <td>1º trimestre 2014</td>\n",
              "      <td>3067441.0</td>\n",
              "      <td>447977.0</td>\n",
              "      <td>863763.0</td>\n",
              "      <td>8372872.0</td>\n",
              "    </tr>\n",
              "    <tr>\n",
              "      <th>2014-06-30</th>\n",
              "      <td>142.672619</td>\n",
              "      <td>190.970476</td>\n",
              "      <td>1462.786349</td>\n",
              "      <td>479.190476</td>\n",
              "      <td>2.225935</td>\n",
              "      <td>4317627.0</td>\n",
              "      <td>2º trimestre 2014</td>\n",
              "      <td>2899909.0</td>\n",
              "      <td>438998.0</td>\n",
              "      <td>882370.0</td>\n",
              "      <td>8538904.0</td>\n",
              "    </tr>\n",
              "    <tr>\n",
              "      <th>2014-09-30</th>\n",
              "      <td>154.548047</td>\n",
              "      <td>220.610000</td>\n",
              "      <td>1089.502969</td>\n",
              "      <td>359.718750</td>\n",
              "      <td>2.268325</td>\n",
              "      <td>4627826.0</td>\n",
              "      <td>3º trimestre 2014</td>\n",
              "      <td>2561439.0</td>\n",
              "      <td>561864.0</td>\n",
              "      <td>719751.0</td>\n",
              "      <td>8470880.0</td>\n",
              "    </tr>\n",
              "    <tr>\n",
              "      <th>2014-12-31</th>\n",
              "      <td>165.997308</td>\n",
              "      <td>233.692187</td>\n",
              "      <td>1008.709385</td>\n",
              "      <td>372.705846</td>\n",
              "      <td>2.538731</td>\n",
              "      <td>4780410.0</td>\n",
              "      <td>4º trimestre 2014</td>\n",
              "      <td>2501305.0</td>\n",
              "      <td>565254.0</td>\n",
              "      <td>678093.0</td>\n",
              "      <td>8525062.0</td>\n",
              "    </tr>\n",
              "    <tr>\n",
              "      <th>2015-03-31</th>\n",
              "      <td>157.177049</td>\n",
              "      <td>210.525246</td>\n",
              "      <td>991.899180</td>\n",
              "      <td>384.864754</td>\n",
              "      <td>2.864362</td>\n",
              "      <td>3967926.0</td>\n",
              "      <td>1º trimestre 2015</td>\n",
              "      <td>2669421.0</td>\n",
              "      <td>363654.0</td>\n",
              "      <td>738649.0</td>\n",
              "      <td>7739650.0</td>\n",
              "    </tr>\n",
              "  </tbody>\n",
              "</table>\n",
              "</div>"
            ],
            "text/plain": [
              "            Live Cattle  Feeder Cattle  ...  Novilhos      Total\n",
              "Date                                    ...                     \n",
              "2014-03-31   142.532871     171.350492  ...  863763.0  8372872.0\n",
              "2014-06-30   142.672619     190.970476  ...  882370.0  8538904.0\n",
              "2014-09-30   154.548047     220.610000  ...  719751.0  8470880.0\n",
              "2014-12-31   165.997308     233.692187  ...  678093.0  8525062.0\n",
              "2015-03-31   157.177049     210.525246  ...  738649.0  7739650.0\n",
              "\n",
              "[5 rows x 11 columns]"
            ]
          },
          "metadata": {
            "tags": []
          },
          "execution_count": 11
        }
      ]
    },
    {
      "cell_type": "code",
      "metadata": {
        "id": "GMXTnlR1MgYD"
      },
      "source": [
        "#Criar coluna de média todos os trimestres \n",
        "df_final[\"Média Bois\"] = df_final[\"Bois\"].mean()\n",
        "df_final[\"Média Vacas\"] = df_final[\"Vacas\"].mean()\n",
        "df_final[\"Média Novilhas\"] = df_final[\"Novilhas\"].mean()\n",
        "df_final[\"Média Novilhos\"] = df_final[\"Novilhos\"].mean()\n",
        "df_final[\"Média Total\"] = df_final[\"Total\"].mean()"
      ],
      "execution_count": 12,
      "outputs": []
    },
    {
      "cell_type": "markdown",
      "metadata": {
        "id": "IY3o8ZVvCfy7"
      },
      "source": [
        "##Análises exploratória"
      ]
    },
    {
      "cell_type": "code",
      "metadata": {
        "colab": {
          "base_uri": "https://localhost:8080/",
          "height": 331
        },
        "id": "JtJ-O6pyLtPY",
        "outputId": "73fccff0-a795-4953-eeb6-ed95e6a252d8"
      },
      "source": [
        "#Resumos estatisticos\n",
        "df_final.describe()"
      ],
      "execution_count": 13,
      "outputs": [
        {
          "output_type": "execute_result",
          "data": {
            "text/html": [
              "<div>\n",
              "<style scoped>\n",
              "    .dataframe tbody tr th:only-of-type {\n",
              "        vertical-align: middle;\n",
              "    }\n",
              "\n",
              "    .dataframe tbody tr th {\n",
              "        vertical-align: top;\n",
              "    }\n",
              "\n",
              "    .dataframe thead th {\n",
              "        text-align: right;\n",
              "    }\n",
              "</style>\n",
              "<table border=\"1\" class=\"dataframe\">\n",
              "  <thead>\n",
              "    <tr style=\"text-align: right;\">\n",
              "      <th></th>\n",
              "      <th>Live Cattle</th>\n",
              "      <th>Feeder Cattle</th>\n",
              "      <th>US Soybeans</th>\n",
              "      <th>US Corn</th>\n",
              "      <th>Dollar</th>\n",
              "      <th>Bois</th>\n",
              "      <th>Vacas</th>\n",
              "      <th>Novilhas</th>\n",
              "      <th>Novilhos</th>\n",
              "      <th>Total</th>\n",
              "      <th>Média Bois</th>\n",
              "      <th>Média Vacas</th>\n",
              "      <th>Média Novilhas</th>\n",
              "      <th>Média Novilhos</th>\n",
              "      <th>Média Total</th>\n",
              "    </tr>\n",
              "  </thead>\n",
              "  <tbody>\n",
              "    <tr>\n",
              "      <th>count</th>\n",
              "      <td>28.000000</td>\n",
              "      <td>28.000000</td>\n",
              "      <td>28.000000</td>\n",
              "      <td>28.000000</td>\n",
              "      <td>28.000000</td>\n",
              "      <td>2.800000e+01</td>\n",
              "      <td>2.800000e+01</td>\n",
              "      <td>28.000000</td>\n",
              "      <td>28.000000</td>\n",
              "      <td>2.800000e+01</td>\n",
              "      <td>28.0</td>\n",
              "      <td>2.800000e+01</td>\n",
              "      <td>2.800000e+01</td>\n",
              "      <td>2.800000e+01</td>\n",
              "      <td>2.800000e+01</td>\n",
              "    </tr>\n",
              "    <tr>\n",
              "      <th>mean</th>\n",
              "      <td>124.396518</td>\n",
              "      <td>159.462812</td>\n",
              "      <td>988.685829</td>\n",
              "      <td>375.188511</td>\n",
              "      <td>3.581626</td>\n",
              "      <td>4.302830e+06</td>\n",
              "      <td>2.373637e+06</td>\n",
              "      <td>409688.035714</td>\n",
              "      <td>752787.321429</td>\n",
              "      <td>7.838941e+06</td>\n",
              "      <td>4302829.5</td>\n",
              "      <td>2.373637e+06</td>\n",
              "      <td>4.096880e+05</td>\n",
              "      <td>7.527873e+05</td>\n",
              "      <td>7.838941e+06</td>\n",
              "    </tr>\n",
              "    <tr>\n",
              "      <th>std</th>\n",
              "      <td>18.598465</td>\n",
              "      <td>31.380170</td>\n",
              "      <td>139.147232</td>\n",
              "      <td>32.534830</td>\n",
              "      <td>0.844111</td>\n",
              "      <td>3.598183e+05</td>\n",
              "      <td>3.167198e+05</td>\n",
              "      <td>73410.415549</td>\n",
              "      <td>123321.602372</td>\n",
              "      <td>4.092228e+05</td>\n",
              "      <td>0.0</td>\n",
              "      <td>9.484125e-10</td>\n",
              "      <td>1.778273e-10</td>\n",
              "      <td>2.371031e-10</td>\n",
              "      <td>9.484125e-10</td>\n",
              "    </tr>\n",
              "    <tr>\n",
              "      <th>min</th>\n",
              "      <td>93.533203</td>\n",
              "      <td>125.676094</td>\n",
              "      <td>852.115692</td>\n",
              "      <td>322.609692</td>\n",
              "      <td>2.225935</td>\n",
              "      <td>3.755566e+06</td>\n",
              "      <td>1.580888e+06</td>\n",
              "      <td>306041.000000</td>\n",
              "      <td>535527.000000</td>\n",
              "      <td>7.319737e+06</td>\n",
              "      <td>4302829.5</td>\n",
              "      <td>2.373637e+06</td>\n",
              "      <td>4.096880e+05</td>\n",
              "      <td>7.527873e+05</td>\n",
              "      <td>7.838941e+06</td>\n",
              "    </tr>\n",
              "    <tr>\n",
              "      <th>25%</th>\n",
              "      <td>110.184514</td>\n",
              "      <td>140.419572</td>\n",
              "      <td>891.692638</td>\n",
              "      <td>359.468498</td>\n",
              "      <td>3.153977</td>\n",
              "      <td>3.982352e+06</td>\n",
              "      <td>2.148468e+06</td>\n",
              "      <td>349225.750000</td>\n",
              "      <td>646798.000000</td>\n",
              "      <td>7.419143e+06</td>\n",
              "      <td>4302829.5</td>\n",
              "      <td>2.373637e+06</td>\n",
              "      <td>4.096880e+05</td>\n",
              "      <td>7.527873e+05</td>\n",
              "      <td>7.838941e+06</td>\n",
              "    </tr>\n",
              "    <tr>\n",
              "      <th>50%</th>\n",
              "      <td>118.241081</td>\n",
              "      <td>145.981779</td>\n",
              "      <td>964.929365</td>\n",
              "      <td>371.237538</td>\n",
              "      <td>3.511189</td>\n",
              "      <td>4.299057e+06</td>\n",
              "      <td>2.392764e+06</td>\n",
              "      <td>397021.500000</td>\n",
              "      <td>733685.500000</td>\n",
              "      <td>7.769778e+06</td>\n",
              "      <td>4302829.5</td>\n",
              "      <td>2.373637e+06</td>\n",
              "      <td>4.096880e+05</td>\n",
              "      <td>7.527873e+05</td>\n",
              "      <td>7.838941e+06</td>\n",
              "    </tr>\n",
              "    <tr>\n",
              "      <th>75%</th>\n",
              "      <td>136.921947</td>\n",
              "      <td>171.901384</td>\n",
              "      <td>1009.090506</td>\n",
              "      <td>383.985419</td>\n",
              "      <td>3.917743</td>\n",
              "      <td>4.655434e+06</td>\n",
              "      <td>2.564431e+06</td>\n",
              "      <td>448866.500000</td>\n",
              "      <td>865435.750000</td>\n",
              "      <td>8.106913e+06</td>\n",
              "      <td>4302829.5</td>\n",
              "      <td>2.373637e+06</td>\n",
              "      <td>4.096880e+05</td>\n",
              "      <td>7.527873e+05</td>\n",
              "      <td>7.838941e+06</td>\n",
              "    </tr>\n",
              "    <tr>\n",
              "      <th>max</th>\n",
              "      <td>165.997308</td>\n",
              "      <td>233.692187</td>\n",
              "      <td>1462.786349</td>\n",
              "      <td>479.190476</td>\n",
              "      <td>5.405579</td>\n",
              "      <td>4.892194e+06</td>\n",
              "      <td>3.067441e+06</td>\n",
              "      <td>565254.000000</td>\n",
              "      <td>990814.000000</td>\n",
              "      <td>8.538904e+06</td>\n",
              "      <td>4302829.5</td>\n",
              "      <td>2.373637e+06</td>\n",
              "      <td>4.096880e+05</td>\n",
              "      <td>7.527873e+05</td>\n",
              "      <td>7.838941e+06</td>\n",
              "    </tr>\n",
              "  </tbody>\n",
              "</table>\n",
              "</div>"
            ],
            "text/plain": [
              "       Live Cattle  Feeder Cattle  ...  Média Novilhos   Média Total\n",
              "count    28.000000      28.000000  ...    2.800000e+01  2.800000e+01\n",
              "mean    124.396518     159.462812  ...    7.527873e+05  7.838941e+06\n",
              "std      18.598465      31.380170  ...    2.371031e-10  9.484125e-10\n",
              "min      93.533203     125.676094  ...    7.527873e+05  7.838941e+06\n",
              "25%     110.184514     140.419572  ...    7.527873e+05  7.838941e+06\n",
              "50%     118.241081     145.981779  ...    7.527873e+05  7.838941e+06\n",
              "75%     136.921947     171.901384  ...    7.527873e+05  7.838941e+06\n",
              "max     165.997308     233.692187  ...    7.527873e+05  7.838941e+06\n",
              "\n",
              "[8 rows x 15 columns]"
            ]
          },
          "metadata": {
            "tags": []
          },
          "execution_count": 13
        }
      ]
    },
    {
      "cell_type": "code",
      "metadata": {
        "id": "vP_B73_JG_zK"
      },
      "source": [
        "df_final2 = df_final.iloc[:, 0:11]\n",
        "lista_colunas = list(df_final2.columns[df_final2.columns != \"Trimestre\"])\n",
        "n_colunas= len(lista_colunas)"
      ],
      "execution_count": 15,
      "outputs": []
    },
    {
      "cell_type": "code",
      "metadata": {
        "id": "p8ruSj84GOXs"
      },
      "source": [
        "fig, ax = plt.subplots(n_colunas,figsize=(10,24))\n",
        "\n",
        "for i in list(range(len(lista_colunas))):\n",
        "  ax[i].plot(df_final[lista_colunas[i]])\n",
        "  ax[i].set_title(lista_colunas[i])\n",
        "\n",
        "fig.autofmt_xdate()\n",
        "plt.show()"
      ],
      "execution_count": null,
      "outputs": []
    },
    {
      "cell_type": "code",
      "metadata": {
        "id": "4Bsro6-vOb09"
      },
      "source": [
        "#Plotar Boxplot e Histograma\n",
        "fig, ax = plt.subplots(n_colunas,2,figsize=(10, 20))\n",
        "\n",
        "for i in list(range(len(lista_colunas))):\n",
        "  ax[i,0].boxplot(df_final[lista_colunas[i]],vert=False)\n",
        "  ax[i,0].set_title(lista_colunas[i])\n",
        "  ax[i,1].hist(df_final[lista_colunas[i]], bins = 10,)\n",
        "  ax[i,1].set_title(lista_colunas[i])\n",
        "fig.autofmt_xdate()\n",
        "plt.show()"
      ],
      "execution_count": null,
      "outputs": []
    },
    {
      "cell_type": "markdown",
      "metadata": {
        "id": "WMwNGweloi-5"
      },
      "source": [
        "### Análise de tendências, ciclos e sazonalidades"
      ]
    },
    {
      "cell_type": "markdown",
      "metadata": {
        "id": "FtDJjvHVs3uc"
      },
      "source": [
        "#### Ciclos"
      ]
    },
    {
      "cell_type": "code",
      "metadata": {
        "id": "9SPyQtxpxcIK"
      },
      "source": [
        "#Decompor séries temporais\n",
        "boi_gordo_seasonal = seasonal_decompose(df_final[\"Live Cattle\"])\n",
        "novilho_gordo_seasonal = seasonal_decompose(df_final[\"Feeder Cattle\"])\n",
        "dollar_seasonal = seasonal_decompose(df_final[\"Dollar\"])\n",
        "soja_seasonal = seasonal_decompose(df_final[\"US Soybeans\"])\n",
        "milho_seasonal = seasonal_decompose(df_final[\"US Corn\"])\n",
        "bois_seasonal = seasonal_decompose(df_final[\"Bois\"])\n",
        "vacas_seasonal = seasonal_decompose(df_final[\"Vacas\"])\n",
        "novilhas_seasonal = seasonal_decompose(df_final[\"Novilhas\"])\n",
        "novilhos_seasonal = seasonal_decompose(df_final[\"Novilhos\"])"
      ],
      "execution_count": 19,
      "outputs": []
    },
    {
      "cell_type": "code",
      "metadata": {
        "colab": {
          "base_uri": "https://localhost:8080/",
          "height": 562
        },
        "id": "u15fA3ZlM2bf",
        "outputId": "04d0c79c-7e18-4f3e-efe4-95af399f231d"
      },
      "source": [
        "# Plotar quantidade de abates por trimestre\n",
        "width = 0.3\n",
        "labels = list(df_final.Trimestre)\n",
        "x = np.arange(len(labels))\n",
        "\n",
        "fig, ax = plt.subplots(figsize = (15,6))\n",
        "ax.fill_between(x, df_final.Bois, width, label='Bois', alpha=0.5)\n",
        "ax.fill_between(x , df_final.Vacas, width, label='Vacas',alpha=0.5)\n",
        "ax.fill_between(x, df_final.Novilhos, width, label='Novilhos',alpha=0.5)\n",
        "ax.fill_between(x, df_final.Novilhas, width, label='Novilhas',alpha=0.5)\n",
        "\n",
        "ax.set_ylabel('Abates')\n",
        "ax.set_xlabel('Trimestres')\n",
        "ax.set_title('Número de Animais abatidos por Trimestre')\n",
        "ax.set_xticks(x)\n",
        "ax.set_xticklabels(labels)\n",
        "ax.legend()\n",
        "\n",
        "fig.autofmt_xdate()\n",
        "plt.show()"
      ],
      "execution_count": 20,
      "outputs": [
        {
          "output_type": "display_data",
          "data": {
            "text/plain": [
              "<Figure size 1080x432 with 1 Axes>"
            ],
            "image/svg+xml": "<?xml version=\"1.0\" encoding=\"utf-8\" standalone=\"no\"?>\n<!DOCTYPE svg PUBLIC \"-//W3C//DTD SVG 1.1//EN\"\n  \"http://www.w3.org/Graphics/SVG/1.1/DTD/svg11.dtd\">\n<!-- Created with matplotlib (https://matplotlib.org/) -->\n<svg height=\"406.905746pt\" version=\"1.1\" viewBox=\"0 0 903.226221 406.905746\" width=\"903.226221pt\" xmlns=\"http://www.w3.org/2000/svg\" xmlns:xlink=\"http://www.w3.org/1999/xlink\">\n <defs>\n  <style type=\"text/css\">\n*{stroke-linecap:butt;stroke-linejoin:round;}\n  </style>\n </defs>\n <g id=\"figure_1\">\n  <g id=\"patch_1\">\n   <path d=\"M 0 406.905746 \nL 903.226221 406.905746 \nL 903.226221 0 \nL 0 0 \nz\n\" style=\"fill:none;\"/>\n  </g>\n  <g id=\"axes_1\">\n   <g id=\"patch_2\">\n    <path d=\"M 59.026221 316.558125 \nL 896.026221 316.558125 \nL 896.026221 22.798125 \nL 59.026221 22.798125 \nz\n\" style=\"fill:#eaeaf2;\"/>\n   </g>\n   <g id=\"matplotlib.axis_1\">\n    <g id=\"xtick_1\">\n     <g id=\"line2d_1\">\n      <path clip-path=\"url(#p8873674ca2)\" d=\"M 97.071676 316.558125 \nL 97.071676 22.798125 \n\" style=\"fill:none;stroke:#ffffff;stroke-linecap:round;\"/>\n     </g>\n     <g id=\"text_1\">\n      <!-- 1º trimestre 2014 -->\n      <defs>\n       <path d=\"M 12.40625 8.296875 \nL 28.515625 8.296875 \nL 28.515625 63.921875 \nL 10.984375 60.40625 \nL 10.984375 69.390625 \nL 28.421875 72.90625 \nL 38.28125 72.90625 \nL 38.28125 8.296875 \nL 54.390625 8.296875 \nL 54.390625 0 \nL 12.40625 0 \nz\n\" id=\"DejaVuSans-49\"/>\n       <path d=\"M 6.78125 28.90625 \nL 40.375 28.90625 \nL 40.375 22.90625 \nL 6.78125 22.90625 \nz\nM 23.578125 74.21875 \nQ 32.328125 74.21875 37.359375 68.8125 \nQ 42.390625 63.421875 42.390625 54.109375 \nQ 42.390625 44.78125 37.359375 39.421875 \nQ 32.328125 34.078125 23.578125 34.078125 \nQ 14.84375 34.078125 9.765625 39.453125 \nQ 4.6875 44.828125 4.6875 54.109375 \nQ 4.6875 63.421875 9.765625 68.8125 \nQ 14.84375 74.21875 23.578125 74.21875 \nz\nM 23.578125 68.609375 \nQ 18.453125 68.609375 15.375 64.671875 \nQ 12.3125 60.75 12.3125 54.109375 \nQ 12.3125 47.609375 15.40625 43.703125 \nQ 18.5 39.796875 23.578125 39.796875 \nQ 28.71875 39.796875 31.765625 43.703125 \nQ 34.8125 47.609375 34.8125 54.109375 \nQ 34.8125 60.796875 31.78125 64.703125 \nQ 28.765625 68.609375 23.578125 68.609375 \nz\n\" id=\"DejaVuSans-186\"/>\n       <path id=\"DejaVuSans-32\"/>\n       <path d=\"M 18.3125 70.21875 \nL 18.3125 54.6875 \nL 36.8125 54.6875 \nL 36.8125 47.703125 \nL 18.3125 47.703125 \nL 18.3125 18.015625 \nQ 18.3125 11.328125 20.140625 9.421875 \nQ 21.96875 7.515625 27.59375 7.515625 \nL 36.8125 7.515625 \nL 36.8125 0 \nL 27.59375 0 \nQ 17.1875 0 13.234375 3.875 \nQ 9.28125 7.765625 9.28125 18.015625 \nL 9.28125 47.703125 \nL 2.6875 47.703125 \nL 2.6875 54.6875 \nL 9.28125 54.6875 \nL 9.28125 70.21875 \nz\n\" id=\"DejaVuSans-116\"/>\n       <path d=\"M 41.109375 46.296875 \nQ 39.59375 47.171875 37.8125 47.578125 \nQ 36.03125 48 33.890625 48 \nQ 26.265625 48 22.1875 43.046875 \nQ 18.109375 38.09375 18.109375 28.8125 \nL 18.109375 0 \nL 9.078125 0 \nL 9.078125 54.6875 \nL 18.109375 54.6875 \nL 18.109375 46.1875 \nQ 20.953125 51.171875 25.484375 53.578125 \nQ 30.03125 56 36.53125 56 \nQ 37.453125 56 38.578125 55.875 \nQ 39.703125 55.765625 41.0625 55.515625 \nz\n\" id=\"DejaVuSans-114\"/>\n       <path d=\"M 9.421875 54.6875 \nL 18.40625 54.6875 \nL 18.40625 0 \nL 9.421875 0 \nz\nM 9.421875 75.984375 \nL 18.40625 75.984375 \nL 18.40625 64.59375 \nL 9.421875 64.59375 \nz\n\" id=\"DejaVuSans-105\"/>\n       <path d=\"M 52 44.1875 \nQ 55.375 50.25 60.0625 53.125 \nQ 64.75 56 71.09375 56 \nQ 79.640625 56 84.28125 50.015625 \nQ 88.921875 44.046875 88.921875 33.015625 \nL 88.921875 0 \nL 79.890625 0 \nL 79.890625 32.71875 \nQ 79.890625 40.578125 77.09375 44.375 \nQ 74.3125 48.1875 68.609375 48.1875 \nQ 61.625 48.1875 57.5625 43.546875 \nQ 53.515625 38.921875 53.515625 30.90625 \nL 53.515625 0 \nL 44.484375 0 \nL 44.484375 32.71875 \nQ 44.484375 40.625 41.703125 44.40625 \nQ 38.921875 48.1875 33.109375 48.1875 \nQ 26.21875 48.1875 22.15625 43.53125 \nQ 18.109375 38.875 18.109375 30.90625 \nL 18.109375 0 \nL 9.078125 0 \nL 9.078125 54.6875 \nL 18.109375 54.6875 \nL 18.109375 46.1875 \nQ 21.1875 51.21875 25.484375 53.609375 \nQ 29.78125 56 35.6875 56 \nQ 41.65625 56 45.828125 52.96875 \nQ 50 49.953125 52 44.1875 \nz\n\" id=\"DejaVuSans-109\"/>\n       <path d=\"M 56.203125 29.59375 \nL 56.203125 25.203125 \nL 14.890625 25.203125 \nQ 15.484375 15.921875 20.484375 11.0625 \nQ 25.484375 6.203125 34.421875 6.203125 \nQ 39.59375 6.203125 44.453125 7.46875 \nQ 49.3125 8.734375 54.109375 11.28125 \nL 54.109375 2.78125 \nQ 49.265625 0.734375 44.1875 -0.34375 \nQ 39.109375 -1.421875 33.890625 -1.421875 \nQ 20.796875 -1.421875 13.15625 6.1875 \nQ 5.515625 13.8125 5.515625 26.8125 \nQ 5.515625 40.234375 12.765625 48.109375 \nQ 20.015625 56 32.328125 56 \nQ 43.359375 56 49.78125 48.890625 \nQ 56.203125 41.796875 56.203125 29.59375 \nz\nM 47.21875 32.234375 \nQ 47.125 39.59375 43.09375 43.984375 \nQ 39.0625 48.390625 32.421875 48.390625 \nQ 24.90625 48.390625 20.390625 44.140625 \nQ 15.875 39.890625 15.1875 32.171875 \nz\n\" id=\"DejaVuSans-101\"/>\n       <path d=\"M 44.28125 53.078125 \nL 44.28125 44.578125 \nQ 40.484375 46.53125 36.375 47.5 \nQ 32.28125 48.484375 27.875 48.484375 \nQ 21.1875 48.484375 17.84375 46.4375 \nQ 14.5 44.390625 14.5 40.28125 \nQ 14.5 37.15625 16.890625 35.375 \nQ 19.28125 33.59375 26.515625 31.984375 \nL 29.59375 31.296875 \nQ 39.15625 29.25 43.1875 25.515625 \nQ 47.21875 21.78125 47.21875 15.09375 \nQ 47.21875 7.46875 41.1875 3.015625 \nQ 35.15625 -1.421875 24.609375 -1.421875 \nQ 20.21875 -1.421875 15.453125 -0.5625 \nQ 10.6875 0.296875 5.421875 2 \nL 5.421875 11.28125 \nQ 10.40625 8.6875 15.234375 7.390625 \nQ 20.0625 6.109375 24.8125 6.109375 \nQ 31.15625 6.109375 34.5625 8.28125 \nQ 37.984375 10.453125 37.984375 14.40625 \nQ 37.984375 18.0625 35.515625 20.015625 \nQ 33.0625 21.96875 24.703125 23.78125 \nL 21.578125 24.515625 \nQ 13.234375 26.265625 9.515625 29.90625 \nQ 5.8125 33.546875 5.8125 39.890625 \nQ 5.8125 47.609375 11.28125 51.796875 \nQ 16.75 56 26.8125 56 \nQ 31.78125 56 36.171875 55.265625 \nQ 40.578125 54.546875 44.28125 53.078125 \nz\n\" id=\"DejaVuSans-115\"/>\n       <path d=\"M 19.1875 8.296875 \nL 53.609375 8.296875 \nL 53.609375 0 \nL 7.328125 0 \nL 7.328125 8.296875 \nQ 12.9375 14.109375 22.625 23.890625 \nQ 32.328125 33.6875 34.8125 36.53125 \nQ 39.546875 41.84375 41.421875 45.53125 \nQ 43.3125 49.21875 43.3125 52.78125 \nQ 43.3125 58.59375 39.234375 62.25 \nQ 35.15625 65.921875 28.609375 65.921875 \nQ 23.96875 65.921875 18.8125 64.3125 \nQ 13.671875 62.703125 7.8125 59.421875 \nL 7.8125 69.390625 \nQ 13.765625 71.78125 18.9375 73 \nQ 24.125 74.21875 28.421875 74.21875 \nQ 39.75 74.21875 46.484375 68.546875 \nQ 53.21875 62.890625 53.21875 53.421875 \nQ 53.21875 48.921875 51.53125 44.890625 \nQ 49.859375 40.875 45.40625 35.40625 \nQ 44.1875 33.984375 37.640625 27.21875 \nQ 31.109375 20.453125 19.1875 8.296875 \nz\n\" id=\"DejaVuSans-50\"/>\n       <path d=\"M 31.78125 66.40625 \nQ 24.171875 66.40625 20.328125 58.90625 \nQ 16.5 51.421875 16.5 36.375 \nQ 16.5 21.390625 20.328125 13.890625 \nQ 24.171875 6.390625 31.78125 6.390625 \nQ 39.453125 6.390625 43.28125 13.890625 \nQ 47.125 21.390625 47.125 36.375 \nQ 47.125 51.421875 43.28125 58.90625 \nQ 39.453125 66.40625 31.78125 66.40625 \nz\nM 31.78125 74.21875 \nQ 44.046875 74.21875 50.515625 64.515625 \nQ 56.984375 54.828125 56.984375 36.375 \nQ 56.984375 17.96875 50.515625 8.265625 \nQ 44.046875 -1.421875 31.78125 -1.421875 \nQ 19.53125 -1.421875 13.0625 8.265625 \nQ 6.59375 17.96875 6.59375 36.375 \nQ 6.59375 54.828125 13.0625 64.515625 \nQ 19.53125 74.21875 31.78125 74.21875 \nz\n\" id=\"DejaVuSans-48\"/>\n       <path d=\"M 37.796875 64.3125 \nL 12.890625 25.390625 \nL 37.796875 25.390625 \nz\nM 35.203125 72.90625 \nL 47.609375 72.90625 \nL 47.609375 25.390625 \nL 58.015625 25.390625 \nL 58.015625 17.1875 \nL 47.609375 17.1875 \nL 47.609375 0 \nL 37.796875 0 \nL 37.796875 17.1875 \nL 4.890625 17.1875 \nL 4.890625 26.703125 \nz\n\" id=\"DejaVuSans-52\"/>\n      </defs>\n      <g style=\"fill:#262626;\" transform=\"translate(11.379141 382.110828)rotate(-30)scale(0.11 -0.11)\">\n       <use xlink:href=\"#DejaVuSans-49\"/>\n       <use x=\"63.623047\" xlink:href=\"#DejaVuSans-186\"/>\n       <use x=\"110.742188\" xlink:href=\"#DejaVuSans-32\"/>\n       <use x=\"142.529297\" xlink:href=\"#DejaVuSans-116\"/>\n       <use x=\"181.738281\" xlink:href=\"#DejaVuSans-114\"/>\n       <use x=\"222.851562\" xlink:href=\"#DejaVuSans-105\"/>\n       <use x=\"250.634766\" xlink:href=\"#DejaVuSans-109\"/>\n       <use x=\"348.046875\" xlink:href=\"#DejaVuSans-101\"/>\n       <use x=\"409.570312\" xlink:href=\"#DejaVuSans-115\"/>\n       <use x=\"461.669922\" xlink:href=\"#DejaVuSans-116\"/>\n       <use x=\"500.878906\" xlink:href=\"#DejaVuSans-114\"/>\n       <use x=\"539.742188\" xlink:href=\"#DejaVuSans-101\"/>\n       <use x=\"601.265625\" xlink:href=\"#DejaVuSans-32\"/>\n       <use x=\"633.052734\" xlink:href=\"#DejaVuSans-50\"/>\n       <use x=\"696.675781\" xlink:href=\"#DejaVuSans-48\"/>\n       <use x=\"760.298828\" xlink:href=\"#DejaVuSans-49\"/>\n       <use x=\"823.921875\" xlink:href=\"#DejaVuSans-52\"/>\n      </g>\n     </g>\n    </g>\n    <g id=\"xtick_2\">\n     <g id=\"line2d_2\">\n      <path clip-path=\"url(#p8873674ca2)\" d=\"M 125.253494 316.558125 \nL 125.253494 22.798125 \n\" style=\"fill:none;stroke:#ffffff;stroke-linecap:round;\"/>\n     </g>\n     <g id=\"text_2\">\n      <!-- 2º trimestre 2014 -->\n      <g style=\"fill:#262626;\" transform=\"translate(39.560959 382.110828)rotate(-30)scale(0.11 -0.11)\">\n       <use xlink:href=\"#DejaVuSans-50\"/>\n       <use x=\"63.623047\" xlink:href=\"#DejaVuSans-186\"/>\n       <use x=\"110.742188\" xlink:href=\"#DejaVuSans-32\"/>\n       <use x=\"142.529297\" xlink:href=\"#DejaVuSans-116\"/>\n       <use x=\"181.738281\" xlink:href=\"#DejaVuSans-114\"/>\n       <use x=\"222.851562\" xlink:href=\"#DejaVuSans-105\"/>\n       <use x=\"250.634766\" xlink:href=\"#DejaVuSans-109\"/>\n       <use x=\"348.046875\" xlink:href=\"#DejaVuSans-101\"/>\n       <use x=\"409.570312\" xlink:href=\"#DejaVuSans-115\"/>\n       <use x=\"461.669922\" xlink:href=\"#DejaVuSans-116\"/>\n       <use x=\"500.878906\" xlink:href=\"#DejaVuSans-114\"/>\n       <use x=\"539.742188\" xlink:href=\"#DejaVuSans-101\"/>\n       <use x=\"601.265625\" xlink:href=\"#DejaVuSans-32\"/>\n       <use x=\"633.052734\" xlink:href=\"#DejaVuSans-50\"/>\n       <use x=\"696.675781\" xlink:href=\"#DejaVuSans-48\"/>\n       <use x=\"760.298828\" xlink:href=\"#DejaVuSans-49\"/>\n       <use x=\"823.921875\" xlink:href=\"#DejaVuSans-52\"/>\n      </g>\n     </g>\n    </g>\n    <g id=\"xtick_3\">\n     <g id=\"line2d_3\">\n      <path clip-path=\"url(#p8873674ca2)\" d=\"M 153.435312 316.558125 \nL 153.435312 22.798125 \n\" style=\"fill:none;stroke:#ffffff;stroke-linecap:round;\"/>\n     </g>\n     <g id=\"text_3\">\n      <!-- 3º trimestre 2014 -->\n      <defs>\n       <path d=\"M 40.578125 39.3125 \nQ 47.65625 37.796875 51.625 33 \nQ 55.609375 28.21875 55.609375 21.1875 \nQ 55.609375 10.40625 48.1875 4.484375 \nQ 40.765625 -1.421875 27.09375 -1.421875 \nQ 22.515625 -1.421875 17.65625 -0.515625 \nQ 12.796875 0.390625 7.625 2.203125 \nL 7.625 11.71875 \nQ 11.71875 9.328125 16.59375 8.109375 \nQ 21.484375 6.890625 26.8125 6.890625 \nQ 36.078125 6.890625 40.9375 10.546875 \nQ 45.796875 14.203125 45.796875 21.1875 \nQ 45.796875 27.640625 41.28125 31.265625 \nQ 36.765625 34.90625 28.71875 34.90625 \nL 20.21875 34.90625 \nL 20.21875 43.015625 \nL 29.109375 43.015625 \nQ 36.375 43.015625 40.234375 45.921875 \nQ 44.09375 48.828125 44.09375 54.296875 \nQ 44.09375 59.90625 40.109375 62.90625 \nQ 36.140625 65.921875 28.71875 65.921875 \nQ 24.65625 65.921875 20.015625 65.03125 \nQ 15.375 64.15625 9.8125 62.3125 \nL 9.8125 71.09375 \nQ 15.4375 72.65625 20.34375 73.4375 \nQ 25.25 74.21875 29.59375 74.21875 \nQ 40.828125 74.21875 47.359375 69.109375 \nQ 53.90625 64.015625 53.90625 55.328125 \nQ 53.90625 49.265625 50.4375 45.09375 \nQ 46.96875 40.921875 40.578125 39.3125 \nz\n\" id=\"DejaVuSans-51\"/>\n      </defs>\n      <g style=\"fill:#262626;\" transform=\"translate(67.742777 382.110828)rotate(-30)scale(0.11 -0.11)\">\n       <use xlink:href=\"#DejaVuSans-51\"/>\n       <use x=\"63.623047\" xlink:href=\"#DejaVuSans-186\"/>\n       <use x=\"110.742188\" xlink:href=\"#DejaVuSans-32\"/>\n       <use x=\"142.529297\" xlink:href=\"#DejaVuSans-116\"/>\n       <use x=\"181.738281\" xlink:href=\"#DejaVuSans-114\"/>\n       <use x=\"222.851562\" xlink:href=\"#DejaVuSans-105\"/>\n       <use x=\"250.634766\" xlink:href=\"#DejaVuSans-109\"/>\n       <use x=\"348.046875\" xlink:href=\"#DejaVuSans-101\"/>\n       <use x=\"409.570312\" xlink:href=\"#DejaVuSans-115\"/>\n       <use x=\"461.669922\" xlink:href=\"#DejaVuSans-116\"/>\n       <use x=\"500.878906\" xlink:href=\"#DejaVuSans-114\"/>\n       <use x=\"539.742188\" xlink:href=\"#DejaVuSans-101\"/>\n       <use x=\"601.265625\" xlink:href=\"#DejaVuSans-32\"/>\n       <use x=\"633.052734\" xlink:href=\"#DejaVuSans-50\"/>\n       <use x=\"696.675781\" xlink:href=\"#DejaVuSans-48\"/>\n       <use x=\"760.298828\" xlink:href=\"#DejaVuSans-49\"/>\n       <use x=\"823.921875\" xlink:href=\"#DejaVuSans-52\"/>\n      </g>\n     </g>\n    </g>\n    <g id=\"xtick_4\">\n     <g id=\"line2d_4\">\n      <path clip-path=\"url(#p8873674ca2)\" d=\"M 181.61713 316.558125 \nL 181.61713 22.798125 \n\" style=\"fill:none;stroke:#ffffff;stroke-linecap:round;\"/>\n     </g>\n     <g id=\"text_4\">\n      <!-- 4º trimestre 2014 -->\n      <g style=\"fill:#262626;\" transform=\"translate(95.924595 382.110828)rotate(-30)scale(0.11 -0.11)\">\n       <use xlink:href=\"#DejaVuSans-52\"/>\n       <use x=\"63.623047\" xlink:href=\"#DejaVuSans-186\"/>\n       <use x=\"110.742188\" xlink:href=\"#DejaVuSans-32\"/>\n       <use x=\"142.529297\" xlink:href=\"#DejaVuSans-116\"/>\n       <use x=\"181.738281\" xlink:href=\"#DejaVuSans-114\"/>\n       <use x=\"222.851562\" xlink:href=\"#DejaVuSans-105\"/>\n       <use x=\"250.634766\" xlink:href=\"#DejaVuSans-109\"/>\n       <use x=\"348.046875\" xlink:href=\"#DejaVuSans-101\"/>\n       <use x=\"409.570312\" xlink:href=\"#DejaVuSans-115\"/>\n       <use x=\"461.669922\" xlink:href=\"#DejaVuSans-116\"/>\n       <use x=\"500.878906\" xlink:href=\"#DejaVuSans-114\"/>\n       <use x=\"539.742188\" xlink:href=\"#DejaVuSans-101\"/>\n       <use x=\"601.265625\" xlink:href=\"#DejaVuSans-32\"/>\n       <use x=\"633.052734\" xlink:href=\"#DejaVuSans-50\"/>\n       <use x=\"696.675781\" xlink:href=\"#DejaVuSans-48\"/>\n       <use x=\"760.298828\" xlink:href=\"#DejaVuSans-49\"/>\n       <use x=\"823.921875\" xlink:href=\"#DejaVuSans-52\"/>\n      </g>\n     </g>\n    </g>\n    <g id=\"xtick_5\">\n     <g id=\"line2d_5\">\n      <path clip-path=\"url(#p8873674ca2)\" d=\"M 209.798948 316.558125 \nL 209.798948 22.798125 \n\" style=\"fill:none;stroke:#ffffff;stroke-linecap:round;\"/>\n     </g>\n     <g id=\"text_5\">\n      <!-- 1º trimestre 2015 -->\n      <defs>\n       <path d=\"M 10.796875 72.90625 \nL 49.515625 72.90625 \nL 49.515625 64.59375 \nL 19.828125 64.59375 \nL 19.828125 46.734375 \nQ 21.96875 47.46875 24.109375 47.828125 \nQ 26.265625 48.1875 28.421875 48.1875 \nQ 40.625 48.1875 47.75 41.5 \nQ 54.890625 34.8125 54.890625 23.390625 \nQ 54.890625 11.625 47.5625 5.09375 \nQ 40.234375 -1.421875 26.90625 -1.421875 \nQ 22.3125 -1.421875 17.546875 -0.640625 \nQ 12.796875 0.140625 7.71875 1.703125 \nL 7.71875 11.625 \nQ 12.109375 9.234375 16.796875 8.0625 \nQ 21.484375 6.890625 26.703125 6.890625 \nQ 35.15625 6.890625 40.078125 11.328125 \nQ 45.015625 15.765625 45.015625 23.390625 \nQ 45.015625 31 40.078125 35.4375 \nQ 35.15625 39.890625 26.703125 39.890625 \nQ 22.75 39.890625 18.8125 39.015625 \nQ 14.890625 38.140625 10.796875 36.28125 \nz\n\" id=\"DejaVuSans-53\"/>\n      </defs>\n      <g style=\"fill:#262626;\" transform=\"translate(124.106413 382.110828)rotate(-30)scale(0.11 -0.11)\">\n       <use xlink:href=\"#DejaVuSans-49\"/>\n       <use x=\"63.623047\" xlink:href=\"#DejaVuSans-186\"/>\n       <use x=\"110.742188\" xlink:href=\"#DejaVuSans-32\"/>\n       <use x=\"142.529297\" xlink:href=\"#DejaVuSans-116\"/>\n       <use x=\"181.738281\" xlink:href=\"#DejaVuSans-114\"/>\n       <use x=\"222.851562\" xlink:href=\"#DejaVuSans-105\"/>\n       <use x=\"250.634766\" xlink:href=\"#DejaVuSans-109\"/>\n       <use x=\"348.046875\" xlink:href=\"#DejaVuSans-101\"/>\n       <use x=\"409.570312\" xlink:href=\"#DejaVuSans-115\"/>\n       <use x=\"461.669922\" xlink:href=\"#DejaVuSans-116\"/>\n       <use x=\"500.878906\" xlink:href=\"#DejaVuSans-114\"/>\n       <use x=\"539.742188\" xlink:href=\"#DejaVuSans-101\"/>\n       <use x=\"601.265625\" xlink:href=\"#DejaVuSans-32\"/>\n       <use x=\"633.052734\" xlink:href=\"#DejaVuSans-50\"/>\n       <use x=\"696.675781\" xlink:href=\"#DejaVuSans-48\"/>\n       <use x=\"760.298828\" xlink:href=\"#DejaVuSans-49\"/>\n       <use x=\"823.921875\" xlink:href=\"#DejaVuSans-53\"/>\n      </g>\n     </g>\n    </g>\n    <g id=\"xtick_6\">\n     <g id=\"line2d_6\">\n      <path clip-path=\"url(#p8873674ca2)\" d=\"M 237.980767 316.558125 \nL 237.980767 22.798125 \n\" style=\"fill:none;stroke:#ffffff;stroke-linecap:round;\"/>\n     </g>\n     <g id=\"text_6\">\n      <!-- 2º trimestre 2015 -->\n      <g style=\"fill:#262626;\" transform=\"translate(152.288232 382.110828)rotate(-30)scale(0.11 -0.11)\">\n       <use xlink:href=\"#DejaVuSans-50\"/>\n       <use x=\"63.623047\" xlink:href=\"#DejaVuSans-186\"/>\n       <use x=\"110.742188\" xlink:href=\"#DejaVuSans-32\"/>\n       <use x=\"142.529297\" xlink:href=\"#DejaVuSans-116\"/>\n       <use x=\"181.738281\" xlink:href=\"#DejaVuSans-114\"/>\n       <use x=\"222.851562\" xlink:href=\"#DejaVuSans-105\"/>\n       <use x=\"250.634766\" xlink:href=\"#DejaVuSans-109\"/>\n       <use x=\"348.046875\" xlink:href=\"#DejaVuSans-101\"/>\n       <use x=\"409.570312\" xlink:href=\"#DejaVuSans-115\"/>\n       <use x=\"461.669922\" xlink:href=\"#DejaVuSans-116\"/>\n       <use x=\"500.878906\" xlink:href=\"#DejaVuSans-114\"/>\n       <use x=\"539.742188\" xlink:href=\"#DejaVuSans-101\"/>\n       <use x=\"601.265625\" xlink:href=\"#DejaVuSans-32\"/>\n       <use x=\"633.052734\" xlink:href=\"#DejaVuSans-50\"/>\n       <use x=\"696.675781\" xlink:href=\"#DejaVuSans-48\"/>\n       <use x=\"760.298828\" xlink:href=\"#DejaVuSans-49\"/>\n       <use x=\"823.921875\" xlink:href=\"#DejaVuSans-53\"/>\n      </g>\n     </g>\n    </g>\n    <g id=\"xtick_7\">\n     <g id=\"line2d_7\">\n      <path clip-path=\"url(#p8873674ca2)\" d=\"M 266.162585 316.558125 \nL 266.162585 22.798125 \n\" style=\"fill:none;stroke:#ffffff;stroke-linecap:round;\"/>\n     </g>\n     <g id=\"text_7\">\n      <!-- 3º trimestre 2015 -->\n      <g style=\"fill:#262626;\" transform=\"translate(180.47005 382.110828)rotate(-30)scale(0.11 -0.11)\">\n       <use xlink:href=\"#DejaVuSans-51\"/>\n       <use x=\"63.623047\" xlink:href=\"#DejaVuSans-186\"/>\n       <use x=\"110.742188\" xlink:href=\"#DejaVuSans-32\"/>\n       <use x=\"142.529297\" xlink:href=\"#DejaVuSans-116\"/>\n       <use x=\"181.738281\" xlink:href=\"#DejaVuSans-114\"/>\n       <use x=\"222.851562\" xlink:href=\"#DejaVuSans-105\"/>\n       <use x=\"250.634766\" xlink:href=\"#DejaVuSans-109\"/>\n       <use x=\"348.046875\" xlink:href=\"#DejaVuSans-101\"/>\n       <use x=\"409.570312\" xlink:href=\"#DejaVuSans-115\"/>\n       <use x=\"461.669922\" xlink:href=\"#DejaVuSans-116\"/>\n       <use x=\"500.878906\" xlink:href=\"#DejaVuSans-114\"/>\n       <use x=\"539.742188\" xlink:href=\"#DejaVuSans-101\"/>\n       <use x=\"601.265625\" xlink:href=\"#DejaVuSans-32\"/>\n       <use x=\"633.052734\" xlink:href=\"#DejaVuSans-50\"/>\n       <use x=\"696.675781\" xlink:href=\"#DejaVuSans-48\"/>\n       <use x=\"760.298828\" xlink:href=\"#DejaVuSans-49\"/>\n       <use x=\"823.921875\" xlink:href=\"#DejaVuSans-53\"/>\n      </g>\n     </g>\n    </g>\n    <g id=\"xtick_8\">\n     <g id=\"line2d_8\">\n      <path clip-path=\"url(#p8873674ca2)\" d=\"M 294.344403 316.558125 \nL 294.344403 22.798125 \n\" style=\"fill:none;stroke:#ffffff;stroke-linecap:round;\"/>\n     </g>\n     <g id=\"text_8\">\n      <!-- 4º trimestre 2015 -->\n      <g style=\"fill:#262626;\" transform=\"translate(208.651868 382.110828)rotate(-30)scale(0.11 -0.11)\">\n       <use xlink:href=\"#DejaVuSans-52\"/>\n       <use x=\"63.623047\" xlink:href=\"#DejaVuSans-186\"/>\n       <use x=\"110.742188\" xlink:href=\"#DejaVuSans-32\"/>\n       <use x=\"142.529297\" xlink:href=\"#DejaVuSans-116\"/>\n       <use x=\"181.738281\" xlink:href=\"#DejaVuSans-114\"/>\n       <use x=\"222.851562\" xlink:href=\"#DejaVuSans-105\"/>\n       <use x=\"250.634766\" xlink:href=\"#DejaVuSans-109\"/>\n       <use x=\"348.046875\" xlink:href=\"#DejaVuSans-101\"/>\n       <use x=\"409.570312\" xlink:href=\"#DejaVuSans-115\"/>\n       <use x=\"461.669922\" xlink:href=\"#DejaVuSans-116\"/>\n       <use x=\"500.878906\" xlink:href=\"#DejaVuSans-114\"/>\n       <use x=\"539.742188\" xlink:href=\"#DejaVuSans-101\"/>\n       <use x=\"601.265625\" xlink:href=\"#DejaVuSans-32\"/>\n       <use x=\"633.052734\" xlink:href=\"#DejaVuSans-50\"/>\n       <use x=\"696.675781\" xlink:href=\"#DejaVuSans-48\"/>\n       <use x=\"760.298828\" xlink:href=\"#DejaVuSans-49\"/>\n       <use x=\"823.921875\" xlink:href=\"#DejaVuSans-53\"/>\n      </g>\n     </g>\n    </g>\n    <g id=\"xtick_9\">\n     <g id=\"line2d_9\">\n      <path clip-path=\"url(#p8873674ca2)\" d=\"M 322.526221 316.558125 \nL 322.526221 22.798125 \n\" style=\"fill:none;stroke:#ffffff;stroke-linecap:round;\"/>\n     </g>\n     <g id=\"text_9\">\n      <!-- 1º trimestre 2016 -->\n      <defs>\n       <path d=\"M 33.015625 40.375 \nQ 26.375 40.375 22.484375 35.828125 \nQ 18.609375 31.296875 18.609375 23.390625 \nQ 18.609375 15.53125 22.484375 10.953125 \nQ 26.375 6.390625 33.015625 6.390625 \nQ 39.65625 6.390625 43.53125 10.953125 \nQ 47.40625 15.53125 47.40625 23.390625 \nQ 47.40625 31.296875 43.53125 35.828125 \nQ 39.65625 40.375 33.015625 40.375 \nz\nM 52.59375 71.296875 \nL 52.59375 62.3125 \nQ 48.875 64.0625 45.09375 64.984375 \nQ 41.3125 65.921875 37.59375 65.921875 \nQ 27.828125 65.921875 22.671875 59.328125 \nQ 17.53125 52.734375 16.796875 39.40625 \nQ 19.671875 43.65625 24.015625 45.921875 \nQ 28.375 48.1875 33.59375 48.1875 \nQ 44.578125 48.1875 50.953125 41.515625 \nQ 57.328125 34.859375 57.328125 23.390625 \nQ 57.328125 12.15625 50.6875 5.359375 \nQ 44.046875 -1.421875 33.015625 -1.421875 \nQ 20.359375 -1.421875 13.671875 8.265625 \nQ 6.984375 17.96875 6.984375 36.375 \nQ 6.984375 53.65625 15.1875 63.9375 \nQ 23.390625 74.21875 37.203125 74.21875 \nQ 40.921875 74.21875 44.703125 73.484375 \nQ 48.484375 72.75 52.59375 71.296875 \nz\n\" id=\"DejaVuSans-54\"/>\n      </defs>\n      <g style=\"fill:#262626;\" transform=\"translate(236.833686 382.110828)rotate(-30)scale(0.11 -0.11)\">\n       <use xlink:href=\"#DejaVuSans-49\"/>\n       <use x=\"63.623047\" xlink:href=\"#DejaVuSans-186\"/>\n       <use x=\"110.742188\" xlink:href=\"#DejaVuSans-32\"/>\n       <use x=\"142.529297\" xlink:href=\"#DejaVuSans-116\"/>\n       <use x=\"181.738281\" xlink:href=\"#DejaVuSans-114\"/>\n       <use x=\"222.851562\" xlink:href=\"#DejaVuSans-105\"/>\n       <use x=\"250.634766\" xlink:href=\"#DejaVuSans-109\"/>\n       <use x=\"348.046875\" xlink:href=\"#DejaVuSans-101\"/>\n       <use x=\"409.570312\" xlink:href=\"#DejaVuSans-115\"/>\n       <use x=\"461.669922\" xlink:href=\"#DejaVuSans-116\"/>\n       <use x=\"500.878906\" xlink:href=\"#DejaVuSans-114\"/>\n       <use x=\"539.742188\" xlink:href=\"#DejaVuSans-101\"/>\n       <use x=\"601.265625\" xlink:href=\"#DejaVuSans-32\"/>\n       <use x=\"633.052734\" xlink:href=\"#DejaVuSans-50\"/>\n       <use x=\"696.675781\" xlink:href=\"#DejaVuSans-48\"/>\n       <use x=\"760.298828\" xlink:href=\"#DejaVuSans-49\"/>\n       <use x=\"823.921875\" xlink:href=\"#DejaVuSans-54\"/>\n      </g>\n     </g>\n    </g>\n    <g id=\"xtick_10\">\n     <g id=\"line2d_10\">\n      <path clip-path=\"url(#p8873674ca2)\" d=\"M 350.708039 316.558125 \nL 350.708039 22.798125 \n\" style=\"fill:none;stroke:#ffffff;stroke-linecap:round;\"/>\n     </g>\n     <g id=\"text_10\">\n      <!-- 2º trimestre 2016 -->\n      <g style=\"fill:#262626;\" transform=\"translate(265.015504 382.110828)rotate(-30)scale(0.11 -0.11)\">\n       <use xlink:href=\"#DejaVuSans-50\"/>\n       <use x=\"63.623047\" xlink:href=\"#DejaVuSans-186\"/>\n       <use x=\"110.742188\" xlink:href=\"#DejaVuSans-32\"/>\n       <use x=\"142.529297\" xlink:href=\"#DejaVuSans-116\"/>\n       <use x=\"181.738281\" xlink:href=\"#DejaVuSans-114\"/>\n       <use x=\"222.851562\" xlink:href=\"#DejaVuSans-105\"/>\n       <use x=\"250.634766\" xlink:href=\"#DejaVuSans-109\"/>\n       <use x=\"348.046875\" xlink:href=\"#DejaVuSans-101\"/>\n       <use x=\"409.570312\" xlink:href=\"#DejaVuSans-115\"/>\n       <use x=\"461.669922\" xlink:href=\"#DejaVuSans-116\"/>\n       <use x=\"500.878906\" xlink:href=\"#DejaVuSans-114\"/>\n       <use x=\"539.742188\" xlink:href=\"#DejaVuSans-101\"/>\n       <use x=\"601.265625\" xlink:href=\"#DejaVuSans-32\"/>\n       <use x=\"633.052734\" xlink:href=\"#DejaVuSans-50\"/>\n       <use x=\"696.675781\" xlink:href=\"#DejaVuSans-48\"/>\n       <use x=\"760.298828\" xlink:href=\"#DejaVuSans-49\"/>\n       <use x=\"823.921875\" xlink:href=\"#DejaVuSans-54\"/>\n      </g>\n     </g>\n    </g>\n    <g id=\"xtick_11\">\n     <g id=\"line2d_11\">\n      <path clip-path=\"url(#p8873674ca2)\" d=\"M 378.889858 316.558125 \nL 378.889858 22.798125 \n\" style=\"fill:none;stroke:#ffffff;stroke-linecap:round;\"/>\n     </g>\n     <g id=\"text_11\">\n      <!-- 3º trimestre 2016 -->\n      <g style=\"fill:#262626;\" transform=\"translate(293.197322 382.110828)rotate(-30)scale(0.11 -0.11)\">\n       <use xlink:href=\"#DejaVuSans-51\"/>\n       <use x=\"63.623047\" xlink:href=\"#DejaVuSans-186\"/>\n       <use x=\"110.742188\" xlink:href=\"#DejaVuSans-32\"/>\n       <use x=\"142.529297\" xlink:href=\"#DejaVuSans-116\"/>\n       <use x=\"181.738281\" xlink:href=\"#DejaVuSans-114\"/>\n       <use x=\"222.851562\" xlink:href=\"#DejaVuSans-105\"/>\n       <use x=\"250.634766\" xlink:href=\"#DejaVuSans-109\"/>\n       <use x=\"348.046875\" xlink:href=\"#DejaVuSans-101\"/>\n       <use x=\"409.570312\" xlink:href=\"#DejaVuSans-115\"/>\n       <use x=\"461.669922\" xlink:href=\"#DejaVuSans-116\"/>\n       <use x=\"500.878906\" xlink:href=\"#DejaVuSans-114\"/>\n       <use x=\"539.742188\" xlink:href=\"#DejaVuSans-101\"/>\n       <use x=\"601.265625\" xlink:href=\"#DejaVuSans-32\"/>\n       <use x=\"633.052734\" xlink:href=\"#DejaVuSans-50\"/>\n       <use x=\"696.675781\" xlink:href=\"#DejaVuSans-48\"/>\n       <use x=\"760.298828\" xlink:href=\"#DejaVuSans-49\"/>\n       <use x=\"823.921875\" xlink:href=\"#DejaVuSans-54\"/>\n      </g>\n     </g>\n    </g>\n    <g id=\"xtick_12\">\n     <g id=\"line2d_12\">\n      <path clip-path=\"url(#p8873674ca2)\" d=\"M 407.071676 316.558125 \nL 407.071676 22.798125 \n\" style=\"fill:none;stroke:#ffffff;stroke-linecap:round;\"/>\n     </g>\n     <g id=\"text_12\">\n      <!-- 4º trimestre 2016 -->\n      <g style=\"fill:#262626;\" transform=\"translate(321.379141 382.110828)rotate(-30)scale(0.11 -0.11)\">\n       <use xlink:href=\"#DejaVuSans-52\"/>\n       <use x=\"63.623047\" xlink:href=\"#DejaVuSans-186\"/>\n       <use x=\"110.742188\" xlink:href=\"#DejaVuSans-32\"/>\n       <use x=\"142.529297\" xlink:href=\"#DejaVuSans-116\"/>\n       <use x=\"181.738281\" xlink:href=\"#DejaVuSans-114\"/>\n       <use x=\"222.851562\" xlink:href=\"#DejaVuSans-105\"/>\n       <use x=\"250.634766\" xlink:href=\"#DejaVuSans-109\"/>\n       <use x=\"348.046875\" xlink:href=\"#DejaVuSans-101\"/>\n       <use x=\"409.570312\" xlink:href=\"#DejaVuSans-115\"/>\n       <use x=\"461.669922\" xlink:href=\"#DejaVuSans-116\"/>\n       <use x=\"500.878906\" xlink:href=\"#DejaVuSans-114\"/>\n       <use x=\"539.742188\" xlink:href=\"#DejaVuSans-101\"/>\n       <use x=\"601.265625\" xlink:href=\"#DejaVuSans-32\"/>\n       <use x=\"633.052734\" xlink:href=\"#DejaVuSans-50\"/>\n       <use x=\"696.675781\" xlink:href=\"#DejaVuSans-48\"/>\n       <use x=\"760.298828\" xlink:href=\"#DejaVuSans-49\"/>\n       <use x=\"823.921875\" xlink:href=\"#DejaVuSans-54\"/>\n      </g>\n     </g>\n    </g>\n    <g id=\"xtick_13\">\n     <g id=\"line2d_13\">\n      <path clip-path=\"url(#p8873674ca2)\" d=\"M 435.253494 316.558125 \nL 435.253494 22.798125 \n\" style=\"fill:none;stroke:#ffffff;stroke-linecap:round;\"/>\n     </g>\n     <g id=\"text_13\">\n      <!-- 1º trimestre 2017 -->\n      <defs>\n       <path d=\"M 8.203125 72.90625 \nL 55.078125 72.90625 \nL 55.078125 68.703125 \nL 28.609375 0 \nL 18.3125 0 \nL 43.21875 64.59375 \nL 8.203125 64.59375 \nz\n\" id=\"DejaVuSans-55\"/>\n      </defs>\n      <g style=\"fill:#262626;\" transform=\"translate(349.560959 382.110828)rotate(-30)scale(0.11 -0.11)\">\n       <use xlink:href=\"#DejaVuSans-49\"/>\n       <use x=\"63.623047\" xlink:href=\"#DejaVuSans-186\"/>\n       <use x=\"110.742188\" xlink:href=\"#DejaVuSans-32\"/>\n       <use x=\"142.529297\" xlink:href=\"#DejaVuSans-116\"/>\n       <use x=\"181.738281\" xlink:href=\"#DejaVuSans-114\"/>\n       <use x=\"222.851562\" xlink:href=\"#DejaVuSans-105\"/>\n       <use x=\"250.634766\" xlink:href=\"#DejaVuSans-109\"/>\n       <use x=\"348.046875\" xlink:href=\"#DejaVuSans-101\"/>\n       <use x=\"409.570312\" xlink:href=\"#DejaVuSans-115\"/>\n       <use x=\"461.669922\" xlink:href=\"#DejaVuSans-116\"/>\n       <use x=\"500.878906\" xlink:href=\"#DejaVuSans-114\"/>\n       <use x=\"539.742188\" xlink:href=\"#DejaVuSans-101\"/>\n       <use x=\"601.265625\" xlink:href=\"#DejaVuSans-32\"/>\n       <use x=\"633.052734\" xlink:href=\"#DejaVuSans-50\"/>\n       <use x=\"696.675781\" xlink:href=\"#DejaVuSans-48\"/>\n       <use x=\"760.298828\" xlink:href=\"#DejaVuSans-49\"/>\n       <use x=\"823.921875\" xlink:href=\"#DejaVuSans-55\"/>\n      </g>\n     </g>\n    </g>\n    <g id=\"xtick_14\">\n     <g id=\"line2d_14\">\n      <path clip-path=\"url(#p8873674ca2)\" d=\"M 463.435312 316.558125 \nL 463.435312 22.798125 \n\" style=\"fill:none;stroke:#ffffff;stroke-linecap:round;\"/>\n     </g>\n     <g id=\"text_14\">\n      <!-- 2º trimestre 2017 -->\n      <g style=\"fill:#262626;\" transform=\"translate(377.742777 382.110828)rotate(-30)scale(0.11 -0.11)\">\n       <use xlink:href=\"#DejaVuSans-50\"/>\n       <use x=\"63.623047\" xlink:href=\"#DejaVuSans-186\"/>\n       <use x=\"110.742188\" xlink:href=\"#DejaVuSans-32\"/>\n       <use x=\"142.529297\" xlink:href=\"#DejaVuSans-116\"/>\n       <use x=\"181.738281\" xlink:href=\"#DejaVuSans-114\"/>\n       <use x=\"222.851562\" xlink:href=\"#DejaVuSans-105\"/>\n       <use x=\"250.634766\" xlink:href=\"#DejaVuSans-109\"/>\n       <use x=\"348.046875\" xlink:href=\"#DejaVuSans-101\"/>\n       <use x=\"409.570312\" xlink:href=\"#DejaVuSans-115\"/>\n       <use x=\"461.669922\" xlink:href=\"#DejaVuSans-116\"/>\n       <use x=\"500.878906\" xlink:href=\"#DejaVuSans-114\"/>\n       <use x=\"539.742188\" xlink:href=\"#DejaVuSans-101\"/>\n       <use x=\"601.265625\" xlink:href=\"#DejaVuSans-32\"/>\n       <use x=\"633.052734\" xlink:href=\"#DejaVuSans-50\"/>\n       <use x=\"696.675781\" xlink:href=\"#DejaVuSans-48\"/>\n       <use x=\"760.298828\" xlink:href=\"#DejaVuSans-49\"/>\n       <use x=\"823.921875\" xlink:href=\"#DejaVuSans-55\"/>\n      </g>\n     </g>\n    </g>\n    <g id=\"xtick_15\">\n     <g id=\"line2d_15\">\n      <path clip-path=\"url(#p8873674ca2)\" d=\"M 491.61713 316.558125 \nL 491.61713 22.798125 \n\" style=\"fill:none;stroke:#ffffff;stroke-linecap:round;\"/>\n     </g>\n     <g id=\"text_15\">\n      <!-- 3º trimestre 2017 -->\n      <g style=\"fill:#262626;\" transform=\"translate(405.924595 382.110828)rotate(-30)scale(0.11 -0.11)\">\n       <use xlink:href=\"#DejaVuSans-51\"/>\n       <use x=\"63.623047\" xlink:href=\"#DejaVuSans-186\"/>\n       <use x=\"110.742188\" xlink:href=\"#DejaVuSans-32\"/>\n       <use x=\"142.529297\" xlink:href=\"#DejaVuSans-116\"/>\n       <use x=\"181.738281\" xlink:href=\"#DejaVuSans-114\"/>\n       <use x=\"222.851562\" xlink:href=\"#DejaVuSans-105\"/>\n       <use x=\"250.634766\" xlink:href=\"#DejaVuSans-109\"/>\n       <use x=\"348.046875\" xlink:href=\"#DejaVuSans-101\"/>\n       <use x=\"409.570312\" xlink:href=\"#DejaVuSans-115\"/>\n       <use x=\"461.669922\" xlink:href=\"#DejaVuSans-116\"/>\n       <use x=\"500.878906\" xlink:href=\"#DejaVuSans-114\"/>\n       <use x=\"539.742188\" xlink:href=\"#DejaVuSans-101\"/>\n       <use x=\"601.265625\" xlink:href=\"#DejaVuSans-32\"/>\n       <use x=\"633.052734\" xlink:href=\"#DejaVuSans-50\"/>\n       <use x=\"696.675781\" xlink:href=\"#DejaVuSans-48\"/>\n       <use x=\"760.298828\" xlink:href=\"#DejaVuSans-49\"/>\n       <use x=\"823.921875\" xlink:href=\"#DejaVuSans-55\"/>\n      </g>\n     </g>\n    </g>\n    <g id=\"xtick_16\">\n     <g id=\"line2d_16\">\n      <path clip-path=\"url(#p8873674ca2)\" d=\"M 519.798948 316.558125 \nL 519.798948 22.798125 \n\" style=\"fill:none;stroke:#ffffff;stroke-linecap:round;\"/>\n     </g>\n     <g id=\"text_16\">\n      <!-- 4º trimestre 2017 -->\n      <g style=\"fill:#262626;\" transform=\"translate(434.106413 382.110828)rotate(-30)scale(0.11 -0.11)\">\n       <use xlink:href=\"#DejaVuSans-52\"/>\n       <use x=\"63.623047\" xlink:href=\"#DejaVuSans-186\"/>\n       <use x=\"110.742188\" xlink:href=\"#DejaVuSans-32\"/>\n       <use x=\"142.529297\" xlink:href=\"#DejaVuSans-116\"/>\n       <use x=\"181.738281\" xlink:href=\"#DejaVuSans-114\"/>\n       <use x=\"222.851562\" xlink:href=\"#DejaVuSans-105\"/>\n       <use x=\"250.634766\" xlink:href=\"#DejaVuSans-109\"/>\n       <use x=\"348.046875\" xlink:href=\"#DejaVuSans-101\"/>\n       <use x=\"409.570312\" xlink:href=\"#DejaVuSans-115\"/>\n       <use x=\"461.669922\" xlink:href=\"#DejaVuSans-116\"/>\n       <use x=\"500.878906\" xlink:href=\"#DejaVuSans-114\"/>\n       <use x=\"539.742188\" xlink:href=\"#DejaVuSans-101\"/>\n       <use x=\"601.265625\" xlink:href=\"#DejaVuSans-32\"/>\n       <use x=\"633.052734\" xlink:href=\"#DejaVuSans-50\"/>\n       <use x=\"696.675781\" xlink:href=\"#DejaVuSans-48\"/>\n       <use x=\"760.298828\" xlink:href=\"#DejaVuSans-49\"/>\n       <use x=\"823.921875\" xlink:href=\"#DejaVuSans-55\"/>\n      </g>\n     </g>\n    </g>\n    <g id=\"xtick_17\">\n     <g id=\"line2d_17\">\n      <path clip-path=\"url(#p8873674ca2)\" d=\"M 547.980767 316.558125 \nL 547.980767 22.798125 \n\" style=\"fill:none;stroke:#ffffff;stroke-linecap:round;\"/>\n     </g>\n     <g id=\"text_17\">\n      <!-- 1º trimestre 2018 -->\n      <defs>\n       <path d=\"M 31.78125 34.625 \nQ 24.75 34.625 20.71875 30.859375 \nQ 16.703125 27.09375 16.703125 20.515625 \nQ 16.703125 13.921875 20.71875 10.15625 \nQ 24.75 6.390625 31.78125 6.390625 \nQ 38.8125 6.390625 42.859375 10.171875 \nQ 46.921875 13.96875 46.921875 20.515625 \nQ 46.921875 27.09375 42.890625 30.859375 \nQ 38.875 34.625 31.78125 34.625 \nz\nM 21.921875 38.8125 \nQ 15.578125 40.375 12.03125 44.71875 \nQ 8.5 49.078125 8.5 55.328125 \nQ 8.5 64.0625 14.71875 69.140625 \nQ 20.953125 74.21875 31.78125 74.21875 \nQ 42.671875 74.21875 48.875 69.140625 \nQ 55.078125 64.0625 55.078125 55.328125 \nQ 55.078125 49.078125 51.53125 44.71875 \nQ 48 40.375 41.703125 38.8125 \nQ 48.828125 37.15625 52.796875 32.3125 \nQ 56.78125 27.484375 56.78125 20.515625 \nQ 56.78125 9.90625 50.3125 4.234375 \nQ 43.84375 -1.421875 31.78125 -1.421875 \nQ 19.734375 -1.421875 13.25 4.234375 \nQ 6.78125 9.90625 6.78125 20.515625 \nQ 6.78125 27.484375 10.78125 32.3125 \nQ 14.796875 37.15625 21.921875 38.8125 \nz\nM 18.3125 54.390625 \nQ 18.3125 48.734375 21.84375 45.5625 \nQ 25.390625 42.390625 31.78125 42.390625 \nQ 38.140625 42.390625 41.71875 45.5625 \nQ 45.3125 48.734375 45.3125 54.390625 \nQ 45.3125 60.0625 41.71875 63.234375 \nQ 38.140625 66.40625 31.78125 66.40625 \nQ 25.390625 66.40625 21.84375 63.234375 \nQ 18.3125 60.0625 18.3125 54.390625 \nz\n\" id=\"DejaVuSans-56\"/>\n      </defs>\n      <g style=\"fill:#262626;\" transform=\"translate(462.288232 382.110828)rotate(-30)scale(0.11 -0.11)\">\n       <use xlink:href=\"#DejaVuSans-49\"/>\n       <use x=\"63.623047\" xlink:href=\"#DejaVuSans-186\"/>\n       <use x=\"110.742188\" xlink:href=\"#DejaVuSans-32\"/>\n       <use x=\"142.529297\" xlink:href=\"#DejaVuSans-116\"/>\n       <use x=\"181.738281\" xlink:href=\"#DejaVuSans-114\"/>\n       <use x=\"222.851562\" xlink:href=\"#DejaVuSans-105\"/>\n       <use x=\"250.634766\" xlink:href=\"#DejaVuSans-109\"/>\n       <use x=\"348.046875\" xlink:href=\"#DejaVuSans-101\"/>\n       <use x=\"409.570312\" xlink:href=\"#DejaVuSans-115\"/>\n       <use x=\"461.669922\" xlink:href=\"#DejaVuSans-116\"/>\n       <use x=\"500.878906\" xlink:href=\"#DejaVuSans-114\"/>\n       <use x=\"539.742188\" xlink:href=\"#DejaVuSans-101\"/>\n       <use x=\"601.265625\" xlink:href=\"#DejaVuSans-32\"/>\n       <use x=\"633.052734\" xlink:href=\"#DejaVuSans-50\"/>\n       <use x=\"696.675781\" xlink:href=\"#DejaVuSans-48\"/>\n       <use x=\"760.298828\" xlink:href=\"#DejaVuSans-49\"/>\n       <use x=\"823.921875\" xlink:href=\"#DejaVuSans-56\"/>\n      </g>\n     </g>\n    </g>\n    <g id=\"xtick_18\">\n     <g id=\"line2d_18\">\n      <path clip-path=\"url(#p8873674ca2)\" d=\"M 576.162585 316.558125 \nL 576.162585 22.798125 \n\" style=\"fill:none;stroke:#ffffff;stroke-linecap:round;\"/>\n     </g>\n     <g id=\"text_18\">\n      <!-- 2º trimestre 2018 -->\n      <g style=\"fill:#262626;\" transform=\"translate(490.47005 382.110828)rotate(-30)scale(0.11 -0.11)\">\n       <use xlink:href=\"#DejaVuSans-50\"/>\n       <use x=\"63.623047\" xlink:href=\"#DejaVuSans-186\"/>\n       <use x=\"110.742188\" xlink:href=\"#DejaVuSans-32\"/>\n       <use x=\"142.529297\" xlink:href=\"#DejaVuSans-116\"/>\n       <use x=\"181.738281\" xlink:href=\"#DejaVuSans-114\"/>\n       <use x=\"222.851562\" xlink:href=\"#DejaVuSans-105\"/>\n       <use x=\"250.634766\" xlink:href=\"#DejaVuSans-109\"/>\n       <use x=\"348.046875\" xlink:href=\"#DejaVuSans-101\"/>\n       <use x=\"409.570312\" xlink:href=\"#DejaVuSans-115\"/>\n       <use x=\"461.669922\" xlink:href=\"#DejaVuSans-116\"/>\n       <use x=\"500.878906\" xlink:href=\"#DejaVuSans-114\"/>\n       <use x=\"539.742188\" xlink:href=\"#DejaVuSans-101\"/>\n       <use x=\"601.265625\" xlink:href=\"#DejaVuSans-32\"/>\n       <use x=\"633.052734\" xlink:href=\"#DejaVuSans-50\"/>\n       <use x=\"696.675781\" xlink:href=\"#DejaVuSans-48\"/>\n       <use x=\"760.298828\" xlink:href=\"#DejaVuSans-49\"/>\n       <use x=\"823.921875\" xlink:href=\"#DejaVuSans-56\"/>\n      </g>\n     </g>\n    </g>\n    <g id=\"xtick_19\">\n     <g id=\"line2d_19\">\n      <path clip-path=\"url(#p8873674ca2)\" d=\"M 604.344403 316.558125 \nL 604.344403 22.798125 \n\" style=\"fill:none;stroke:#ffffff;stroke-linecap:round;\"/>\n     </g>\n     <g id=\"text_19\">\n      <!-- 3º trimestre 2018 -->\n      <g style=\"fill:#262626;\" transform=\"translate(518.651868 382.110828)rotate(-30)scale(0.11 -0.11)\">\n       <use xlink:href=\"#DejaVuSans-51\"/>\n       <use x=\"63.623047\" xlink:href=\"#DejaVuSans-186\"/>\n       <use x=\"110.742188\" xlink:href=\"#DejaVuSans-32\"/>\n       <use x=\"142.529297\" xlink:href=\"#DejaVuSans-116\"/>\n       <use x=\"181.738281\" xlink:href=\"#DejaVuSans-114\"/>\n       <use x=\"222.851562\" xlink:href=\"#DejaVuSans-105\"/>\n       <use x=\"250.634766\" xlink:href=\"#DejaVuSans-109\"/>\n       <use x=\"348.046875\" xlink:href=\"#DejaVuSans-101\"/>\n       <use x=\"409.570312\" xlink:href=\"#DejaVuSans-115\"/>\n       <use x=\"461.669922\" xlink:href=\"#DejaVuSans-116\"/>\n       <use x=\"500.878906\" xlink:href=\"#DejaVuSans-114\"/>\n       <use x=\"539.742188\" xlink:href=\"#DejaVuSans-101\"/>\n       <use x=\"601.265625\" xlink:href=\"#DejaVuSans-32\"/>\n       <use x=\"633.052734\" xlink:href=\"#DejaVuSans-50\"/>\n       <use x=\"696.675781\" xlink:href=\"#DejaVuSans-48\"/>\n       <use x=\"760.298828\" xlink:href=\"#DejaVuSans-49\"/>\n       <use x=\"823.921875\" xlink:href=\"#DejaVuSans-56\"/>\n      </g>\n     </g>\n    </g>\n    <g id=\"xtick_20\">\n     <g id=\"line2d_20\">\n      <path clip-path=\"url(#p8873674ca2)\" d=\"M 632.526221 316.558125 \nL 632.526221 22.798125 \n\" style=\"fill:none;stroke:#ffffff;stroke-linecap:round;\"/>\n     </g>\n     <g id=\"text_20\">\n      <!-- 4º trimestre 2018 -->\n      <g style=\"fill:#262626;\" transform=\"translate(546.833686 382.110828)rotate(-30)scale(0.11 -0.11)\">\n       <use xlink:href=\"#DejaVuSans-52\"/>\n       <use x=\"63.623047\" xlink:href=\"#DejaVuSans-186\"/>\n       <use x=\"110.742188\" xlink:href=\"#DejaVuSans-32\"/>\n       <use x=\"142.529297\" xlink:href=\"#DejaVuSans-116\"/>\n       <use x=\"181.738281\" xlink:href=\"#DejaVuSans-114\"/>\n       <use x=\"222.851562\" xlink:href=\"#DejaVuSans-105\"/>\n       <use x=\"250.634766\" xlink:href=\"#DejaVuSans-109\"/>\n       <use x=\"348.046875\" xlink:href=\"#DejaVuSans-101\"/>\n       <use x=\"409.570312\" xlink:href=\"#DejaVuSans-115\"/>\n       <use x=\"461.669922\" xlink:href=\"#DejaVuSans-116\"/>\n       <use x=\"500.878906\" xlink:href=\"#DejaVuSans-114\"/>\n       <use x=\"539.742188\" xlink:href=\"#DejaVuSans-101\"/>\n       <use x=\"601.265625\" xlink:href=\"#DejaVuSans-32\"/>\n       <use x=\"633.052734\" xlink:href=\"#DejaVuSans-50\"/>\n       <use x=\"696.675781\" xlink:href=\"#DejaVuSans-48\"/>\n       <use x=\"760.298828\" xlink:href=\"#DejaVuSans-49\"/>\n       <use x=\"823.921875\" xlink:href=\"#DejaVuSans-56\"/>\n      </g>\n     </g>\n    </g>\n    <g id=\"xtick_21\">\n     <g id=\"line2d_21\">\n      <path clip-path=\"url(#p8873674ca2)\" d=\"M 660.708039 316.558125 \nL 660.708039 22.798125 \n\" style=\"fill:none;stroke:#ffffff;stroke-linecap:round;\"/>\n     </g>\n     <g id=\"text_21\">\n      <!-- 1º trimestre 2019 -->\n      <defs>\n       <path d=\"M 10.984375 1.515625 \nL 10.984375 10.5 \nQ 14.703125 8.734375 18.5 7.8125 \nQ 22.3125 6.890625 25.984375 6.890625 \nQ 35.75 6.890625 40.890625 13.453125 \nQ 46.046875 20.015625 46.78125 33.40625 \nQ 43.953125 29.203125 39.59375 26.953125 \nQ 35.25 24.703125 29.984375 24.703125 \nQ 19.046875 24.703125 12.671875 31.3125 \nQ 6.296875 37.9375 6.296875 49.421875 \nQ 6.296875 60.640625 12.9375 67.421875 \nQ 19.578125 74.21875 30.609375 74.21875 \nQ 43.265625 74.21875 49.921875 64.515625 \nQ 56.59375 54.828125 56.59375 36.375 \nQ 56.59375 19.140625 48.40625 8.859375 \nQ 40.234375 -1.421875 26.421875 -1.421875 \nQ 22.703125 -1.421875 18.890625 -0.6875 \nQ 15.09375 0.046875 10.984375 1.515625 \nz\nM 30.609375 32.421875 \nQ 37.25 32.421875 41.125 36.953125 \nQ 45.015625 41.5 45.015625 49.421875 \nQ 45.015625 57.28125 41.125 61.84375 \nQ 37.25 66.40625 30.609375 66.40625 \nQ 23.96875 66.40625 20.09375 61.84375 \nQ 16.21875 57.28125 16.21875 49.421875 \nQ 16.21875 41.5 20.09375 36.953125 \nQ 23.96875 32.421875 30.609375 32.421875 \nz\n\" id=\"DejaVuSans-57\"/>\n      </defs>\n      <g style=\"fill:#262626;\" transform=\"translate(575.015504 382.110828)rotate(-30)scale(0.11 -0.11)\">\n       <use xlink:href=\"#DejaVuSans-49\"/>\n       <use x=\"63.623047\" xlink:href=\"#DejaVuSans-186\"/>\n       <use x=\"110.742188\" xlink:href=\"#DejaVuSans-32\"/>\n       <use x=\"142.529297\" xlink:href=\"#DejaVuSans-116\"/>\n       <use x=\"181.738281\" xlink:href=\"#DejaVuSans-114\"/>\n       <use x=\"222.851562\" xlink:href=\"#DejaVuSans-105\"/>\n       <use x=\"250.634766\" xlink:href=\"#DejaVuSans-109\"/>\n       <use x=\"348.046875\" xlink:href=\"#DejaVuSans-101\"/>\n       <use x=\"409.570312\" xlink:href=\"#DejaVuSans-115\"/>\n       <use x=\"461.669922\" xlink:href=\"#DejaVuSans-116\"/>\n       <use x=\"500.878906\" xlink:href=\"#DejaVuSans-114\"/>\n       <use x=\"539.742188\" xlink:href=\"#DejaVuSans-101\"/>\n       <use x=\"601.265625\" xlink:href=\"#DejaVuSans-32\"/>\n       <use x=\"633.052734\" xlink:href=\"#DejaVuSans-50\"/>\n       <use x=\"696.675781\" xlink:href=\"#DejaVuSans-48\"/>\n       <use x=\"760.298828\" xlink:href=\"#DejaVuSans-49\"/>\n       <use x=\"823.921875\" xlink:href=\"#DejaVuSans-57\"/>\n      </g>\n     </g>\n    </g>\n    <g id=\"xtick_22\">\n     <g id=\"line2d_22\">\n      <path clip-path=\"url(#p8873674ca2)\" d=\"M 688.889858 316.558125 \nL 688.889858 22.798125 \n\" style=\"fill:none;stroke:#ffffff;stroke-linecap:round;\"/>\n     </g>\n     <g id=\"text_22\">\n      <!-- 2º trimestre 2019 -->\n      <g style=\"fill:#262626;\" transform=\"translate(603.197322 382.110828)rotate(-30)scale(0.11 -0.11)\">\n       <use xlink:href=\"#DejaVuSans-50\"/>\n       <use x=\"63.623047\" xlink:href=\"#DejaVuSans-186\"/>\n       <use x=\"110.742188\" xlink:href=\"#DejaVuSans-32\"/>\n       <use x=\"142.529297\" xlink:href=\"#DejaVuSans-116\"/>\n       <use x=\"181.738281\" xlink:href=\"#DejaVuSans-114\"/>\n       <use x=\"222.851562\" xlink:href=\"#DejaVuSans-105\"/>\n       <use x=\"250.634766\" xlink:href=\"#DejaVuSans-109\"/>\n       <use x=\"348.046875\" xlink:href=\"#DejaVuSans-101\"/>\n       <use x=\"409.570312\" xlink:href=\"#DejaVuSans-115\"/>\n       <use x=\"461.669922\" xlink:href=\"#DejaVuSans-116\"/>\n       <use x=\"500.878906\" xlink:href=\"#DejaVuSans-114\"/>\n       <use x=\"539.742188\" xlink:href=\"#DejaVuSans-101\"/>\n       <use x=\"601.265625\" xlink:href=\"#DejaVuSans-32\"/>\n       <use x=\"633.052734\" xlink:href=\"#DejaVuSans-50\"/>\n       <use x=\"696.675781\" xlink:href=\"#DejaVuSans-48\"/>\n       <use x=\"760.298828\" xlink:href=\"#DejaVuSans-49\"/>\n       <use x=\"823.921875\" xlink:href=\"#DejaVuSans-57\"/>\n      </g>\n     </g>\n    </g>\n    <g id=\"xtick_23\">\n     <g id=\"line2d_23\">\n      <path clip-path=\"url(#p8873674ca2)\" d=\"M 717.071676 316.558125 \nL 717.071676 22.798125 \n\" style=\"fill:none;stroke:#ffffff;stroke-linecap:round;\"/>\n     </g>\n     <g id=\"text_23\">\n      <!-- 3º trimestre 2019 -->\n      <g style=\"fill:#262626;\" transform=\"translate(631.379141 382.110828)rotate(-30)scale(0.11 -0.11)\">\n       <use xlink:href=\"#DejaVuSans-51\"/>\n       <use x=\"63.623047\" xlink:href=\"#DejaVuSans-186\"/>\n       <use x=\"110.742188\" xlink:href=\"#DejaVuSans-32\"/>\n       <use x=\"142.529297\" xlink:href=\"#DejaVuSans-116\"/>\n       <use x=\"181.738281\" xlink:href=\"#DejaVuSans-114\"/>\n       <use x=\"222.851562\" xlink:href=\"#DejaVuSans-105\"/>\n       <use x=\"250.634766\" xlink:href=\"#DejaVuSans-109\"/>\n       <use x=\"348.046875\" xlink:href=\"#DejaVuSans-101\"/>\n       <use x=\"409.570312\" xlink:href=\"#DejaVuSans-115\"/>\n       <use x=\"461.669922\" xlink:href=\"#DejaVuSans-116\"/>\n       <use x=\"500.878906\" xlink:href=\"#DejaVuSans-114\"/>\n       <use x=\"539.742188\" xlink:href=\"#DejaVuSans-101\"/>\n       <use x=\"601.265625\" xlink:href=\"#DejaVuSans-32\"/>\n       <use x=\"633.052734\" xlink:href=\"#DejaVuSans-50\"/>\n       <use x=\"696.675781\" xlink:href=\"#DejaVuSans-48\"/>\n       <use x=\"760.298828\" xlink:href=\"#DejaVuSans-49\"/>\n       <use x=\"823.921875\" xlink:href=\"#DejaVuSans-57\"/>\n      </g>\n     </g>\n    </g>\n    <g id=\"xtick_24\">\n     <g id=\"line2d_24\">\n      <path clip-path=\"url(#p8873674ca2)\" d=\"M 745.253494 316.558125 \nL 745.253494 22.798125 \n\" style=\"fill:none;stroke:#ffffff;stroke-linecap:round;\"/>\n     </g>\n     <g id=\"text_24\">\n      <!-- 4º trimestre 2019 -->\n      <g style=\"fill:#262626;\" transform=\"translate(659.560959 382.110828)rotate(-30)scale(0.11 -0.11)\">\n       <use xlink:href=\"#DejaVuSans-52\"/>\n       <use x=\"63.623047\" xlink:href=\"#DejaVuSans-186\"/>\n       <use x=\"110.742188\" xlink:href=\"#DejaVuSans-32\"/>\n       <use x=\"142.529297\" xlink:href=\"#DejaVuSans-116\"/>\n       <use x=\"181.738281\" xlink:href=\"#DejaVuSans-114\"/>\n       <use x=\"222.851562\" xlink:href=\"#DejaVuSans-105\"/>\n       <use x=\"250.634766\" xlink:href=\"#DejaVuSans-109\"/>\n       <use x=\"348.046875\" xlink:href=\"#DejaVuSans-101\"/>\n       <use x=\"409.570312\" xlink:href=\"#DejaVuSans-115\"/>\n       <use x=\"461.669922\" xlink:href=\"#DejaVuSans-116\"/>\n       <use x=\"500.878906\" xlink:href=\"#DejaVuSans-114\"/>\n       <use x=\"539.742188\" xlink:href=\"#DejaVuSans-101\"/>\n       <use x=\"601.265625\" xlink:href=\"#DejaVuSans-32\"/>\n       <use x=\"633.052734\" xlink:href=\"#DejaVuSans-50\"/>\n       <use x=\"696.675781\" xlink:href=\"#DejaVuSans-48\"/>\n       <use x=\"760.298828\" xlink:href=\"#DejaVuSans-49\"/>\n       <use x=\"823.921875\" xlink:href=\"#DejaVuSans-57\"/>\n      </g>\n     </g>\n    </g>\n    <g id=\"xtick_25\">\n     <g id=\"line2d_25\">\n      <path clip-path=\"url(#p8873674ca2)\" d=\"M 773.435312 316.558125 \nL 773.435312 22.798125 \n\" style=\"fill:none;stroke:#ffffff;stroke-linecap:round;\"/>\n     </g>\n     <g id=\"text_25\">\n      <!-- 1º trimestre 2020 -->\n      <g style=\"fill:#262626;\" transform=\"translate(687.742777 382.110828)rotate(-30)scale(0.11 -0.11)\">\n       <use xlink:href=\"#DejaVuSans-49\"/>\n       <use x=\"63.623047\" xlink:href=\"#DejaVuSans-186\"/>\n       <use x=\"110.742188\" xlink:href=\"#DejaVuSans-32\"/>\n       <use x=\"142.529297\" xlink:href=\"#DejaVuSans-116\"/>\n       <use x=\"181.738281\" xlink:href=\"#DejaVuSans-114\"/>\n       <use x=\"222.851562\" xlink:href=\"#DejaVuSans-105\"/>\n       <use x=\"250.634766\" xlink:href=\"#DejaVuSans-109\"/>\n       <use x=\"348.046875\" xlink:href=\"#DejaVuSans-101\"/>\n       <use x=\"409.570312\" xlink:href=\"#DejaVuSans-115\"/>\n       <use x=\"461.669922\" xlink:href=\"#DejaVuSans-116\"/>\n       <use x=\"500.878906\" xlink:href=\"#DejaVuSans-114\"/>\n       <use x=\"539.742188\" xlink:href=\"#DejaVuSans-101\"/>\n       <use x=\"601.265625\" xlink:href=\"#DejaVuSans-32\"/>\n       <use x=\"633.052734\" xlink:href=\"#DejaVuSans-50\"/>\n       <use x=\"696.675781\" xlink:href=\"#DejaVuSans-48\"/>\n       <use x=\"760.298828\" xlink:href=\"#DejaVuSans-50\"/>\n       <use x=\"823.921875\" xlink:href=\"#DejaVuSans-48\"/>\n      </g>\n     </g>\n    </g>\n    <g id=\"xtick_26\">\n     <g id=\"line2d_26\">\n      <path clip-path=\"url(#p8873674ca2)\" d=\"M 801.61713 316.558125 \nL 801.61713 22.798125 \n\" style=\"fill:none;stroke:#ffffff;stroke-linecap:round;\"/>\n     </g>\n     <g id=\"text_26\">\n      <!-- 2º trimestre 2020 -->\n      <g style=\"fill:#262626;\" transform=\"translate(715.924595 382.110828)rotate(-30)scale(0.11 -0.11)\">\n       <use xlink:href=\"#DejaVuSans-50\"/>\n       <use x=\"63.623047\" xlink:href=\"#DejaVuSans-186\"/>\n       <use x=\"110.742188\" xlink:href=\"#DejaVuSans-32\"/>\n       <use x=\"142.529297\" xlink:href=\"#DejaVuSans-116\"/>\n       <use x=\"181.738281\" xlink:href=\"#DejaVuSans-114\"/>\n       <use x=\"222.851562\" xlink:href=\"#DejaVuSans-105\"/>\n       <use x=\"250.634766\" xlink:href=\"#DejaVuSans-109\"/>\n       <use x=\"348.046875\" xlink:href=\"#DejaVuSans-101\"/>\n       <use x=\"409.570312\" xlink:href=\"#DejaVuSans-115\"/>\n       <use x=\"461.669922\" xlink:href=\"#DejaVuSans-116\"/>\n       <use x=\"500.878906\" xlink:href=\"#DejaVuSans-114\"/>\n       <use x=\"539.742188\" xlink:href=\"#DejaVuSans-101\"/>\n       <use x=\"601.265625\" xlink:href=\"#DejaVuSans-32\"/>\n       <use x=\"633.052734\" xlink:href=\"#DejaVuSans-50\"/>\n       <use x=\"696.675781\" xlink:href=\"#DejaVuSans-48\"/>\n       <use x=\"760.298828\" xlink:href=\"#DejaVuSans-50\"/>\n       <use x=\"823.921875\" xlink:href=\"#DejaVuSans-48\"/>\n      </g>\n     </g>\n    </g>\n    <g id=\"xtick_27\">\n     <g id=\"line2d_27\">\n      <path clip-path=\"url(#p8873674ca2)\" d=\"M 829.798948 316.558125 \nL 829.798948 22.798125 \n\" style=\"fill:none;stroke:#ffffff;stroke-linecap:round;\"/>\n     </g>\n     <g id=\"text_27\">\n      <!-- 3º trimestre 2020 -->\n      <g style=\"fill:#262626;\" transform=\"translate(744.106413 382.110828)rotate(-30)scale(0.11 -0.11)\">\n       <use xlink:href=\"#DejaVuSans-51\"/>\n       <use x=\"63.623047\" xlink:href=\"#DejaVuSans-186\"/>\n       <use x=\"110.742188\" xlink:href=\"#DejaVuSans-32\"/>\n       <use x=\"142.529297\" xlink:href=\"#DejaVuSans-116\"/>\n       <use x=\"181.738281\" xlink:href=\"#DejaVuSans-114\"/>\n       <use x=\"222.851562\" xlink:href=\"#DejaVuSans-105\"/>\n       <use x=\"250.634766\" xlink:href=\"#DejaVuSans-109\"/>\n       <use x=\"348.046875\" xlink:href=\"#DejaVuSans-101\"/>\n       <use x=\"409.570312\" xlink:href=\"#DejaVuSans-115\"/>\n       <use x=\"461.669922\" xlink:href=\"#DejaVuSans-116\"/>\n       <use x=\"500.878906\" xlink:href=\"#DejaVuSans-114\"/>\n       <use x=\"539.742188\" xlink:href=\"#DejaVuSans-101\"/>\n       <use x=\"601.265625\" xlink:href=\"#DejaVuSans-32\"/>\n       <use x=\"633.052734\" xlink:href=\"#DejaVuSans-50\"/>\n       <use x=\"696.675781\" xlink:href=\"#DejaVuSans-48\"/>\n       <use x=\"760.298828\" xlink:href=\"#DejaVuSans-50\"/>\n       <use x=\"823.921875\" xlink:href=\"#DejaVuSans-48\"/>\n      </g>\n     </g>\n    </g>\n    <g id=\"xtick_28\">\n     <g id=\"line2d_28\">\n      <path clip-path=\"url(#p8873674ca2)\" d=\"M 857.980767 316.558125 \nL 857.980767 22.798125 \n\" style=\"fill:none;stroke:#ffffff;stroke-linecap:round;\"/>\n     </g>\n     <g id=\"text_28\">\n      <!-- 4º trimestre 2020 -->\n      <g style=\"fill:#262626;\" transform=\"translate(772.288232 382.110828)rotate(-30)scale(0.11 -0.11)\">\n       <use xlink:href=\"#DejaVuSans-52\"/>\n       <use x=\"63.623047\" xlink:href=\"#DejaVuSans-186\"/>\n       <use x=\"110.742188\" xlink:href=\"#DejaVuSans-32\"/>\n       <use x=\"142.529297\" xlink:href=\"#DejaVuSans-116\"/>\n       <use x=\"181.738281\" xlink:href=\"#DejaVuSans-114\"/>\n       <use x=\"222.851562\" xlink:href=\"#DejaVuSans-105\"/>\n       <use x=\"250.634766\" xlink:href=\"#DejaVuSans-109\"/>\n       <use x=\"348.046875\" xlink:href=\"#DejaVuSans-101\"/>\n       <use x=\"409.570312\" xlink:href=\"#DejaVuSans-115\"/>\n       <use x=\"461.669922\" xlink:href=\"#DejaVuSans-116\"/>\n       <use x=\"500.878906\" xlink:href=\"#DejaVuSans-114\"/>\n       <use x=\"539.742188\" xlink:href=\"#DejaVuSans-101\"/>\n       <use x=\"601.265625\" xlink:href=\"#DejaVuSans-32\"/>\n       <use x=\"633.052734\" xlink:href=\"#DejaVuSans-50\"/>\n       <use x=\"696.675781\" xlink:href=\"#DejaVuSans-48\"/>\n       <use x=\"760.298828\" xlink:href=\"#DejaVuSans-50\"/>\n       <use x=\"823.921875\" xlink:href=\"#DejaVuSans-48\"/>\n      </g>\n     </g>\n    </g>\n    <g id=\"text_29\">\n     <!-- Trimestres -->\n     <defs>\n      <path d=\"M -0.296875 72.90625 \nL 61.375 72.90625 \nL 61.375 64.59375 \nL 35.5 64.59375 \nL 35.5 0 \nL 25.59375 0 \nL 25.59375 64.59375 \nL -0.296875 64.59375 \nz\n\" id=\"DejaVuSans-84\"/>\n     </defs>\n     <g style=\"fill:#262626;\" transform=\"translate(446.449971 397.210121)scale(0.12 -0.12)\">\n      <use xlink:href=\"#DejaVuSans-84\"/>\n      <use x=\"46.333984\" xlink:href=\"#DejaVuSans-114\"/>\n      <use x=\"87.447266\" xlink:href=\"#DejaVuSans-105\"/>\n      <use x=\"115.230469\" xlink:href=\"#DejaVuSans-109\"/>\n      <use x=\"212.642578\" xlink:href=\"#DejaVuSans-101\"/>\n      <use x=\"274.166016\" xlink:href=\"#DejaVuSans-115\"/>\n      <use x=\"326.265625\" xlink:href=\"#DejaVuSans-116\"/>\n      <use x=\"365.474609\" xlink:href=\"#DejaVuSans-114\"/>\n      <use x=\"404.337891\" xlink:href=\"#DejaVuSans-101\"/>\n      <use x=\"465.861328\" xlink:href=\"#DejaVuSans-115\"/>\n     </g>\n    </g>\n   </g>\n   <g id=\"matplotlib.axis_2\">\n    <g id=\"ytick_1\">\n     <g id=\"line2d_29\">\n      <path clip-path=\"url(#p8873674ca2)\" d=\"M 59.026221 303.205414 \nL 896.026221 303.205414 \n\" style=\"fill:none;stroke:#ffffff;stroke-linecap:round;\"/>\n     </g>\n     <g id=\"text_30\">\n      <!-- 0 -->\n      <g style=\"fill:#262626;\" transform=\"translate(42.527471 307.384555)scale(0.11 -0.11)\">\n       <use xlink:href=\"#DejaVuSans-48\"/>\n      </g>\n     </g>\n    </g>\n    <g id=\"ytick_2\">\n     <g id=\"line2d_30\">\n      <path clip-path=\"url(#p8873674ca2)\" d=\"M 59.026221 248.617521 \nL 896.026221 248.617521 \n\" style=\"fill:none;stroke:#ffffff;stroke-linecap:round;\"/>\n     </g>\n     <g id=\"text_31\">\n      <!-- 1 -->\n      <g style=\"fill:#262626;\" transform=\"translate(42.527471 252.796662)scale(0.11 -0.11)\">\n       <use xlink:href=\"#DejaVuSans-49\"/>\n      </g>\n     </g>\n    </g>\n    <g id=\"ytick_3\">\n     <g id=\"line2d_31\">\n      <path clip-path=\"url(#p8873674ca2)\" d=\"M 59.026221 194.029628 \nL 896.026221 194.029628 \n\" style=\"fill:none;stroke:#ffffff;stroke-linecap:round;\"/>\n     </g>\n     <g id=\"text_32\">\n      <!-- 2 -->\n      <g style=\"fill:#262626;\" transform=\"translate(42.527471 198.208769)scale(0.11 -0.11)\">\n       <use xlink:href=\"#DejaVuSans-50\"/>\n      </g>\n     </g>\n    </g>\n    <g id=\"ytick_4\">\n     <g id=\"line2d_32\">\n      <path clip-path=\"url(#p8873674ca2)\" d=\"M 59.026221 139.441736 \nL 896.026221 139.441736 \n\" style=\"fill:none;stroke:#ffffff;stroke-linecap:round;\"/>\n     </g>\n     <g id=\"text_33\">\n      <!-- 3 -->\n      <g style=\"fill:#262626;\" transform=\"translate(42.527471 143.620876)scale(0.11 -0.11)\">\n       <use xlink:href=\"#DejaVuSans-51\"/>\n      </g>\n     </g>\n    </g>\n    <g id=\"ytick_5\">\n     <g id=\"line2d_33\">\n      <path clip-path=\"url(#p8873674ca2)\" d=\"M 59.026221 84.853843 \nL 896.026221 84.853843 \n\" style=\"fill:none;stroke:#ffffff;stroke-linecap:round;\"/>\n     </g>\n     <g id=\"text_34\">\n      <!-- 4 -->\n      <g style=\"fill:#262626;\" transform=\"translate(42.527471 89.032983)scale(0.11 -0.11)\">\n       <use xlink:href=\"#DejaVuSans-52\"/>\n      </g>\n     </g>\n    </g>\n    <g id=\"ytick_6\">\n     <g id=\"line2d_34\">\n      <path clip-path=\"url(#p8873674ca2)\" d=\"M 59.026221 30.26595 \nL 896.026221 30.26595 \n\" style=\"fill:none;stroke:#ffffff;stroke-linecap:round;\"/>\n     </g>\n     <g id=\"text_35\">\n      <!-- 5 -->\n      <g style=\"fill:#262626;\" transform=\"translate(42.527471 34.445091)scale(0.11 -0.11)\">\n       <use xlink:href=\"#DejaVuSans-53\"/>\n      </g>\n     </g>\n    </g>\n    <g id=\"text_36\">\n     <!-- Abates -->\n     <defs>\n      <path d=\"M 34.1875 63.1875 \nL 20.796875 26.90625 \nL 47.609375 26.90625 \nz\nM 28.609375 72.90625 \nL 39.796875 72.90625 \nL 67.578125 0 \nL 57.328125 0 \nL 50.6875 18.703125 \nL 17.828125 18.703125 \nL 11.1875 0 \nL 0.78125 0 \nz\n\" id=\"DejaVuSans-65\"/>\n      <path d=\"M 48.6875 27.296875 \nQ 48.6875 37.203125 44.609375 42.84375 \nQ 40.53125 48.484375 33.40625 48.484375 \nQ 26.265625 48.484375 22.1875 42.84375 \nQ 18.109375 37.203125 18.109375 27.296875 \nQ 18.109375 17.390625 22.1875 11.75 \nQ 26.265625 6.109375 33.40625 6.109375 \nQ 40.53125 6.109375 44.609375 11.75 \nQ 48.6875 17.390625 48.6875 27.296875 \nz\nM 18.109375 46.390625 \nQ 20.953125 51.265625 25.265625 53.625 \nQ 29.59375 56 35.59375 56 \nQ 45.5625 56 51.78125 48.09375 \nQ 58.015625 40.1875 58.015625 27.296875 \nQ 58.015625 14.40625 51.78125 6.484375 \nQ 45.5625 -1.421875 35.59375 -1.421875 \nQ 29.59375 -1.421875 25.265625 0.953125 \nQ 20.953125 3.328125 18.109375 8.203125 \nL 18.109375 0 \nL 9.078125 0 \nL 9.078125 75.984375 \nL 18.109375 75.984375 \nz\n\" id=\"DejaVuSans-98\"/>\n      <path d=\"M 34.28125 27.484375 \nQ 23.390625 27.484375 19.1875 25 \nQ 14.984375 22.515625 14.984375 16.5 \nQ 14.984375 11.71875 18.140625 8.90625 \nQ 21.296875 6.109375 26.703125 6.109375 \nQ 34.1875 6.109375 38.703125 11.40625 \nQ 43.21875 16.703125 43.21875 25.484375 \nL 43.21875 27.484375 \nz\nM 52.203125 31.203125 \nL 52.203125 0 \nL 43.21875 0 \nL 43.21875 8.296875 \nQ 40.140625 3.328125 35.546875 0.953125 \nQ 30.953125 -1.421875 24.3125 -1.421875 \nQ 15.921875 -1.421875 10.953125 3.296875 \nQ 6 8.015625 6 15.921875 \nQ 6 25.140625 12.171875 29.828125 \nQ 18.359375 34.515625 30.609375 34.515625 \nL 43.21875 34.515625 \nL 43.21875 35.40625 \nQ 43.21875 41.609375 39.140625 45 \nQ 35.0625 48.390625 27.6875 48.390625 \nQ 23 48.390625 18.546875 47.265625 \nQ 14.109375 46.140625 10.015625 43.890625 \nL 10.015625 52.203125 \nQ 14.9375 54.109375 19.578125 55.046875 \nQ 24.21875 56 28.609375 56 \nQ 40.484375 56 46.34375 49.84375 \nQ 52.203125 43.703125 52.203125 31.203125 \nz\n\" id=\"DejaVuSans-97\"/>\n     </defs>\n     <g style=\"fill:#262626;\" transform=\"translate(36.031846 190.438125)rotate(-90)scale(0.12 -0.12)\">\n      <use xlink:href=\"#DejaVuSans-65\"/>\n      <use x=\"68.408203\" xlink:href=\"#DejaVuSans-98\"/>\n      <use x=\"131.884766\" xlink:href=\"#DejaVuSans-97\"/>\n      <use x=\"193.164062\" xlink:href=\"#DejaVuSans-116\"/>\n      <use x=\"232.373047\" xlink:href=\"#DejaVuSans-101\"/>\n      <use x=\"293.896484\" xlink:href=\"#DejaVuSans-115\"/>\n     </g>\n    </g>\n    <g id=\"text_37\">\n     <!-- 1e6 -->\n     <g style=\"fill:#262626;\" transform=\"translate(59.026221 19.798125)scale(0.11 -0.11)\">\n      <use xlink:href=\"#DejaVuSans-49\"/>\n      <use x=\"63.623047\" xlink:href=\"#DejaVuSans-101\"/>\n      <use x=\"125.146484\" xlink:href=\"#DejaVuSans-54\"/>\n     </g>\n    </g>\n   </g>\n   <g id=\"PolyCollection_1\">\n    <defs>\n     <path d=\"M 97.071676 -103.700348 \nL 97.071676 -321.707508 \nL 125.253494 -339.390492 \nL 153.435312 -356.323602 \nL 181.61713 -364.652841 \nL 209.798948 -320.301051 \nL 237.980767 -325.499129 \nL 266.162585 -339.805633 \nL 294.344403 -353.227649 \nL 322.526221 -316.247464 \nL 350.708039 -331.046787 \nL 378.889858 -337.363098 \nL 407.071676 -340.305494 \nL 435.253494 -308.708766 \nL 463.435312 -318.131346 \nL 491.61713 -351.308448 \nL 519.798948 -357.417106 \nL 547.980767 -310.613556 \nL 576.162585 -321.351049 \nL 604.344403 -359.071393 \nL 632.526221 -362.133882 \nL 660.708039 -316.258545 \nL 688.889858 -327.295725 \nL 717.071676 -370.754894 \nL 745.253494 -364.006029 \nL 773.435312 -315.560038 \nL 801.61713 -328.982601 \nL 829.798948 -362.196986 \nL 857.980767 -360.65526 \nL 857.980767 -103.700348 \nL 857.980767 -103.700348 \nL 829.798948 -103.700348 \nL 801.61713 -103.700348 \nL 773.435312 -103.700348 \nL 745.253494 -103.700348 \nL 717.071676 -103.700348 \nL 688.889858 -103.700348 \nL 660.708039 -103.700348 \nL 632.526221 -103.700348 \nL 604.344403 -103.700348 \nL 576.162585 -103.700348 \nL 547.980767 -103.700348 \nL 519.798948 -103.700348 \nL 491.61713 -103.700348 \nL 463.435312 -103.700348 \nL 435.253494 -103.700348 \nL 407.071676 -103.700348 \nL 378.889858 -103.700348 \nL 350.708039 -103.700348 \nL 322.526221 -103.700348 \nL 294.344403 -103.700348 \nL 266.162585 -103.700348 \nL 237.980767 -103.700348 \nL 209.798948 -103.700348 \nL 181.61713 -103.700348 \nL 153.435312 -103.700348 \nL 125.253494 -103.700348 \nL 97.071676 -103.700348 \nz\n\" id=\"m6f45f09882\" style=\"stroke:#ffffff;stroke-opacity:0.5;\"/>\n    </defs>\n    <g clip-path=\"url(#p8873674ca2)\">\n     <use style=\"fill:#4c72b0;fill-opacity:0.5;stroke:#ffffff;stroke-opacity:0.5;\" x=\"0\" xlink:href=\"#m6f45f09882\" y=\"406.905746\"/>\n    </g>\n   </g>\n   <g id=\"PolyCollection_2\">\n    <defs>\n     <path d=\"M 97.071676 -103.700348 \nL 97.071676 -271.145473 \nL 125.253494 -262.000254 \nL 153.435312 -243.52389 \nL 181.61713 -240.241301 \nL 209.798948 -249.418399 \nL 237.980767 -238.559175 \nL 266.162585 -221.858228 \nL 294.344403 -214.348299 \nL 322.526221 -232.279384 \nL 350.708039 -234.136901 \nL 378.889858 -218.347953 \nL 407.071676 -216.896407 \nL 435.253494 -244.182765 \nL 463.435312 -237.458738 \nL 491.61713 -234.495598 \nL 519.798948 -230.60501 \nL 547.980767 -255.925385 \nL 576.162585 -244.177198 \nL 604.344403 -234.740261 \nL 632.526221 -230.185775 \nL 660.708039 -251.062969 \nL 688.889858 -240.924633 \nL 717.071676 -229.115197 \nL 745.253494 -217.592293 \nL 773.435312 -226.239234 \nL 801.61713 -216.246975 \nL 829.798948 -205.914797 \nL 857.980767 -189.997677 \nL 857.980767 -103.700348 \nL 857.980767 -103.700348 \nL 829.798948 -103.700348 \nL 801.61713 -103.700348 \nL 773.435312 -103.700348 \nL 745.253494 -103.700348 \nL 717.071676 -103.700348 \nL 688.889858 -103.700348 \nL 660.708039 -103.700348 \nL 632.526221 -103.700348 \nL 604.344403 -103.700348 \nL 576.162585 -103.700348 \nL 547.980767 -103.700348 \nL 519.798948 -103.700348 \nL 491.61713 -103.700348 \nL 463.435312 -103.700348 \nL 435.253494 -103.700348 \nL 407.071676 -103.700348 \nL 378.889858 -103.700348 \nL 350.708039 -103.700348 \nL 322.526221 -103.700348 \nL 294.344403 -103.700348 \nL 266.162585 -103.700348 \nL 237.980767 -103.700348 \nL 209.798948 -103.700348 \nL 181.61713 -103.700348 \nL 153.435312 -103.700348 \nL 125.253494 -103.700348 \nL 97.071676 -103.700348 \nz\n\" id=\"mc4639c5104\" style=\"stroke:#ffffff;stroke-opacity:0.5;\"/>\n    </defs>\n    <g clip-path=\"url(#p8873674ca2)\">\n     <use style=\"fill:#dd8452;fill-opacity:0.5;stroke:#ffffff;stroke-opacity:0.5;\" x=\"0\" xlink:href=\"#mc4639c5104\" y=\"406.905746\"/>\n    </g>\n   </g>\n   <g id=\"PolyCollection_3\">\n    <defs>\n     <path d=\"M 97.071676 -103.700348 \nL 97.071676 -150.851334 \nL 125.253494 -151.867051 \nL 153.435312 -142.990022 \nL 181.61713 -140.716 \nL 209.798948 -144.021624 \nL 237.980767 -143.473999 \nL 266.162585 -136.342636 \nL 294.344403 -132.933622 \nL 322.526221 -137.325437 \nL 350.708039 -143.47973 \nL 378.889858 -135.510662 \nL 407.071676 -137.164239 \nL 435.253494 -145.351113 \nL 463.435312 -142.798255 \nL 491.61713 -139.230609 \nL 519.798948 -138.338861 \nL 547.980767 -149.70406 \nL 576.162585 -151.294861 \nL 604.344403 -148.710724 \nL 632.526221 -142.984236 \nL 660.708039 -157.78678 \nL 688.889858 -157.744639 \nL 717.071676 -151.290494 \nL 745.253494 -146.232543 \nL 773.435312 -152.062421 \nL 801.61713 -151.216582 \nL 829.798948 -145.911839 \nL 857.980767 -136.880982 \nL 857.980767 -103.700348 \nL 857.980767 -103.700348 \nL 829.798948 -103.700348 \nL 801.61713 -103.700348 \nL 773.435312 -103.700348 \nL 745.253494 -103.700348 \nL 717.071676 -103.700348 \nL 688.889858 -103.700348 \nL 660.708039 -103.700348 \nL 632.526221 -103.700348 \nL 604.344403 -103.700348 \nL 576.162585 -103.700348 \nL 547.980767 -103.700348 \nL 519.798948 -103.700348 \nL 491.61713 -103.700348 \nL 463.435312 -103.700348 \nL 435.253494 -103.700348 \nL 407.071676 -103.700348 \nL 378.889858 -103.700348 \nL 350.708039 -103.700348 \nL 322.526221 -103.700348 \nL 294.344403 -103.700348 \nL 266.162585 -103.700348 \nL 237.980767 -103.700348 \nL 209.798948 -103.700348 \nL 181.61713 -103.700348 \nL 153.435312 -103.700348 \nL 125.253494 -103.700348 \nL 97.071676 -103.700348 \nz\n\" id=\"m7beb8d7196\" style=\"stroke:#ffffff;stroke-opacity:0.5;\"/>\n    </defs>\n    <g clip-path=\"url(#p8873674ca2)\">\n     <use style=\"fill:#55a868;fill-opacity:0.5;stroke:#ffffff;stroke-opacity:0.5;\" x=\"0\" xlink:href=\"#m7beb8d7196\" y=\"406.905746\"/>\n    </g>\n   </g>\n   <g id=\"PolyCollection_4\">\n    <defs>\n     <path d=\"M 97.071676 -103.700348 \nL 97.071676 -128.154452 \nL 125.253494 -127.664308 \nL 153.435312 -134.371304 \nL 181.61713 -134.556357 \nL 209.798948 -123.551438 \nL 237.980767 -123.940485 \nL 266.162585 -130.868835 \nL 294.344403 -134.272391 \nL 322.526221 -128.518062 \nL 350.708039 -123.973402 \nL 378.889858 -123.250112 \nL 407.071676 -124.732392 \nL 435.253494 -120.406465 \nL 463.435312 -121.64108 \nL 491.61713 -125.728566 \nL 519.798948 -128.348676 \nL 547.980767 -122.87029 \nL 576.162585 -122.010258 \nL 604.344403 -126.279577 \nL 632.526221 -126.295626 \nL 660.708039 -122.429984 \nL 688.889858 -122.202571 \nL 717.071676 -127.568451 \nL 745.253494 -128.090148 \nL 773.435312 -121.390194 \nL 801.61713 -122.44445 \nL 829.798948 -125.017232 \nL 857.980767 -129.224375 \nL 857.980767 -103.700348 \nL 857.980767 -103.700348 \nL 829.798948 -103.700348 \nL 801.61713 -103.700348 \nL 773.435312 -103.700348 \nL 745.253494 -103.700348 \nL 717.071676 -103.700348 \nL 688.889858 -103.700348 \nL 660.708039 -103.700348 \nL 632.526221 -103.700348 \nL 604.344403 -103.700348 \nL 576.162585 -103.700348 \nL 547.980767 -103.700348 \nL 519.798948 -103.700348 \nL 491.61713 -103.700348 \nL 463.435312 -103.700348 \nL 435.253494 -103.700348 \nL 407.071676 -103.700348 \nL 378.889858 -103.700348 \nL 350.708039 -103.700348 \nL 322.526221 -103.700348 \nL 294.344403 -103.700348 \nL 266.162585 -103.700348 \nL 237.980767 -103.700348 \nL 209.798948 -103.700348 \nL 181.61713 -103.700348 \nL 153.435312 -103.700348 \nL 125.253494 -103.700348 \nL 97.071676 -103.700348 \nz\n\" id=\"m2ecc257c26\" style=\"stroke:#ffffff;stroke-opacity:0.5;\"/>\n    </defs>\n    <g clip-path=\"url(#p8873674ca2)\">\n     <use style=\"fill:#c44e52;fill-opacity:0.5;stroke:#ffffff;stroke-opacity:0.5;\" x=\"0\" xlink:href=\"#m2ecc257c26\" y=\"406.905746\"/>\n    </g>\n   </g>\n   <g id=\"patch_3\">\n    <path d=\"M 59.026221 316.558125 \nL 59.026221 22.798125 \n\" style=\"fill:none;stroke:#ffffff;stroke-linecap:square;stroke-linejoin:miter;stroke-width:1.25;\"/>\n   </g>\n   <g id=\"patch_4\">\n    <path d=\"M 896.026221 316.558125 \nL 896.026221 22.798125 \n\" style=\"fill:none;stroke:#ffffff;stroke-linecap:square;stroke-linejoin:miter;stroke-width:1.25;\"/>\n   </g>\n   <g id=\"patch_5\">\n    <path d=\"M 59.026221 316.558125 \nL 896.026221 316.558125 \n\" style=\"fill:none;stroke:#ffffff;stroke-linecap:square;stroke-linejoin:miter;stroke-width:1.25;\"/>\n   </g>\n   <g id=\"patch_6\">\n    <path d=\"M 59.026221 22.798125 \nL 896.026221 22.798125 \n\" style=\"fill:none;stroke:#ffffff;stroke-linecap:square;stroke-linejoin:miter;stroke-width:1.25;\"/>\n   </g>\n   <g id=\"text_38\">\n    <!-- Número de Animais abatidos por Trimestre -->\n    <defs>\n     <path d=\"M 9.8125 72.90625 \nL 23.09375 72.90625 \nL 55.421875 11.921875 \nL 55.421875 72.90625 \nL 64.984375 72.90625 \nL 64.984375 0 \nL 51.703125 0 \nL 19.390625 60.984375 \nL 19.390625 0 \nL 9.8125 0 \nz\n\" id=\"DejaVuSans-78\"/>\n     <path d=\"M 8.5 21.578125 \nL 8.5 54.6875 \nL 17.484375 54.6875 \nL 17.484375 21.921875 \nQ 17.484375 14.15625 20.5 10.265625 \nQ 23.53125 6.390625 29.59375 6.390625 \nQ 36.859375 6.390625 41.078125 11.03125 \nQ 45.3125 15.671875 45.3125 23.6875 \nL 45.3125 54.6875 \nL 54.296875 54.6875 \nL 54.296875 0 \nL 45.3125 0 \nL 45.3125 8.40625 \nQ 42.046875 3.421875 37.71875 1 \nQ 33.40625 -1.421875 27.6875 -1.421875 \nQ 18.265625 -1.421875 13.375 4.4375 \nQ 8.5 10.296875 8.5 21.578125 \nz\nM 31.109375 56 \nz\nM 37.78125 79.984375 \nL 47.5 79.984375 \nL 31.59375 61.625 \nL 24.109375 61.625 \nz\n\" id=\"DejaVuSans-250\"/>\n     <path d=\"M 30.609375 48.390625 \nQ 23.390625 48.390625 19.1875 42.75 \nQ 14.984375 37.109375 14.984375 27.296875 \nQ 14.984375 17.484375 19.15625 11.84375 \nQ 23.34375 6.203125 30.609375 6.203125 \nQ 37.796875 6.203125 41.984375 11.859375 \nQ 46.1875 17.53125 46.1875 27.296875 \nQ 46.1875 37.015625 41.984375 42.703125 \nQ 37.796875 48.390625 30.609375 48.390625 \nz\nM 30.609375 56 \nQ 42.328125 56 49.015625 48.375 \nQ 55.71875 40.765625 55.71875 27.296875 \nQ 55.71875 13.875 49.015625 6.21875 \nQ 42.328125 -1.421875 30.609375 -1.421875 \nQ 18.84375 -1.421875 12.171875 6.21875 \nQ 5.515625 13.875 5.515625 27.296875 \nQ 5.515625 40.765625 12.171875 48.375 \nQ 18.84375 56 30.609375 56 \nz\n\" id=\"DejaVuSans-111\"/>\n     <path d=\"M 45.40625 46.390625 \nL 45.40625 75.984375 \nL 54.390625 75.984375 \nL 54.390625 0 \nL 45.40625 0 \nL 45.40625 8.203125 \nQ 42.578125 3.328125 38.25 0.953125 \nQ 33.9375 -1.421875 27.875 -1.421875 \nQ 17.96875 -1.421875 11.734375 6.484375 \nQ 5.515625 14.40625 5.515625 27.296875 \nQ 5.515625 40.1875 11.734375 48.09375 \nQ 17.96875 56 27.875 56 \nQ 33.9375 56 38.25 53.625 \nQ 42.578125 51.265625 45.40625 46.390625 \nz\nM 14.796875 27.296875 \nQ 14.796875 17.390625 18.875 11.75 \nQ 22.953125 6.109375 30.078125 6.109375 \nQ 37.203125 6.109375 41.296875 11.75 \nQ 45.40625 17.390625 45.40625 27.296875 \nQ 45.40625 37.203125 41.296875 42.84375 \nQ 37.203125 48.484375 30.078125 48.484375 \nQ 22.953125 48.484375 18.875 42.84375 \nQ 14.796875 37.203125 14.796875 27.296875 \nz\n\" id=\"DejaVuSans-100\"/>\n     <path d=\"M 54.890625 33.015625 \nL 54.890625 0 \nL 45.90625 0 \nL 45.90625 32.71875 \nQ 45.90625 40.484375 42.875 44.328125 \nQ 39.84375 48.1875 33.796875 48.1875 \nQ 26.515625 48.1875 22.3125 43.546875 \nQ 18.109375 38.921875 18.109375 30.90625 \nL 18.109375 0 \nL 9.078125 0 \nL 9.078125 54.6875 \nL 18.109375 54.6875 \nL 18.109375 46.1875 \nQ 21.34375 51.125 25.703125 53.5625 \nQ 30.078125 56 35.796875 56 \nQ 45.21875 56 50.046875 50.171875 \nQ 54.890625 44.34375 54.890625 33.015625 \nz\n\" id=\"DejaVuSans-110\"/>\n     <path d=\"M 18.109375 8.203125 \nL 18.109375 -20.796875 \nL 9.078125 -20.796875 \nL 9.078125 54.6875 \nL 18.109375 54.6875 \nL 18.109375 46.390625 \nQ 20.953125 51.265625 25.265625 53.625 \nQ 29.59375 56 35.59375 56 \nQ 45.5625 56 51.78125 48.09375 \nQ 58.015625 40.1875 58.015625 27.296875 \nQ 58.015625 14.40625 51.78125 6.484375 \nQ 45.5625 -1.421875 35.59375 -1.421875 \nQ 29.59375 -1.421875 25.265625 0.953125 \nQ 20.953125 3.328125 18.109375 8.203125 \nz\nM 48.6875 27.296875 \nQ 48.6875 37.203125 44.609375 42.84375 \nQ 40.53125 48.484375 33.40625 48.484375 \nQ 26.265625 48.484375 22.1875 42.84375 \nQ 18.109375 37.203125 18.109375 27.296875 \nQ 18.109375 17.390625 22.1875 11.75 \nQ 26.265625 6.109375 33.40625 6.109375 \nQ 40.53125 6.109375 44.609375 11.75 \nQ 48.6875 17.390625 48.6875 27.296875 \nz\n\" id=\"DejaVuSans-112\"/>\n    </defs>\n    <g style=\"fill:#262626;\" transform=\"translate(349.087784 16.798125)scale(0.12 -0.12)\">\n     <use xlink:href=\"#DejaVuSans-78\"/>\n     <use x=\"74.804688\" xlink:href=\"#DejaVuSans-250\"/>\n     <use x=\"138.183594\" xlink:href=\"#DejaVuSans-109\"/>\n     <use x=\"235.595703\" xlink:href=\"#DejaVuSans-101\"/>\n     <use x=\"297.119141\" xlink:href=\"#DejaVuSans-114\"/>\n     <use x=\"335.982422\" xlink:href=\"#DejaVuSans-111\"/>\n     <use x=\"397.164062\" xlink:href=\"#DejaVuSans-32\"/>\n     <use x=\"428.951172\" xlink:href=\"#DejaVuSans-100\"/>\n     <use x=\"492.427734\" xlink:href=\"#DejaVuSans-101\"/>\n     <use x=\"553.951172\" xlink:href=\"#DejaVuSans-32\"/>\n     <use x=\"585.738281\" xlink:href=\"#DejaVuSans-65\"/>\n     <use x=\"654.146484\" xlink:href=\"#DejaVuSans-110\"/>\n     <use x=\"717.525391\" xlink:href=\"#DejaVuSans-105\"/>\n     <use x=\"745.308594\" xlink:href=\"#DejaVuSans-109\"/>\n     <use x=\"842.720703\" xlink:href=\"#DejaVuSans-97\"/>\n     <use x=\"904\" xlink:href=\"#DejaVuSans-105\"/>\n     <use x=\"931.783203\" xlink:href=\"#DejaVuSans-115\"/>\n     <use x=\"983.882812\" xlink:href=\"#DejaVuSans-32\"/>\n     <use x=\"1015.669922\" xlink:href=\"#DejaVuSans-97\"/>\n     <use x=\"1076.949219\" xlink:href=\"#DejaVuSans-98\"/>\n     <use x=\"1140.425781\" xlink:href=\"#DejaVuSans-97\"/>\n     <use x=\"1201.705078\" xlink:href=\"#DejaVuSans-116\"/>\n     <use x=\"1240.914062\" xlink:href=\"#DejaVuSans-105\"/>\n     <use x=\"1268.697266\" xlink:href=\"#DejaVuSans-100\"/>\n     <use x=\"1332.173828\" xlink:href=\"#DejaVuSans-111\"/>\n     <use x=\"1393.355469\" xlink:href=\"#DejaVuSans-115\"/>\n     <use x=\"1445.455078\" xlink:href=\"#DejaVuSans-32\"/>\n     <use x=\"1477.242188\" xlink:href=\"#DejaVuSans-112\"/>\n     <use x=\"1540.71875\" xlink:href=\"#DejaVuSans-111\"/>\n     <use x=\"1601.900391\" xlink:href=\"#DejaVuSans-114\"/>\n     <use x=\"1643.013672\" xlink:href=\"#DejaVuSans-32\"/>\n     <use x=\"1674.800781\" xlink:href=\"#DejaVuSans-84\"/>\n     <use x=\"1721.134766\" xlink:href=\"#DejaVuSans-114\"/>\n     <use x=\"1762.248047\" xlink:href=\"#DejaVuSans-105\"/>\n     <use x=\"1790.03125\" xlink:href=\"#DejaVuSans-109\"/>\n     <use x=\"1887.443359\" xlink:href=\"#DejaVuSans-101\"/>\n     <use x=\"1948.966797\" xlink:href=\"#DejaVuSans-115\"/>\n     <use x=\"2001.066406\" xlink:href=\"#DejaVuSans-116\"/>\n     <use x=\"2040.275391\" xlink:href=\"#DejaVuSans-114\"/>\n     <use x=\"2079.138672\" xlink:href=\"#DejaVuSans-101\"/>\n    </g>\n   </g>\n   <g id=\"legend_1\">\n    <g id=\"patch_7\">\n     <path d=\"M 806.101221 96.181875 \nL 888.326221 96.181875 \nQ 890.526221 96.181875 890.526221 93.981875 \nL 890.526221 30.498125 \nQ 890.526221 28.298125 888.326221 28.298125 \nL 806.101221 28.298125 \nQ 803.901221 28.298125 803.901221 30.498125 \nL 803.901221 93.981875 \nQ 803.901221 96.181875 806.101221 96.181875 \nz\n\" style=\"fill:#eaeaf2;opacity:0.8;stroke:#cccccc;stroke-linejoin:miter;\"/>\n    </g>\n    <g id=\"patch_8\">\n     <path d=\"M 808.301221 41.056406 \nL 830.301221 41.056406 \nL 830.301221 33.356406 \nL 808.301221 33.356406 \nz\n\" style=\"fill:#4c72b0;opacity:0.5;stroke:#ffffff;stroke-linejoin:miter;\"/>\n    </g>\n    <g id=\"text_39\">\n     <!-- Bois -->\n     <defs>\n      <path d=\"M 19.671875 34.8125 \nL 19.671875 8.109375 \nL 35.5 8.109375 \nQ 43.453125 8.109375 47.28125 11.40625 \nQ 51.125 14.703125 51.125 21.484375 \nQ 51.125 28.328125 47.28125 31.5625 \nQ 43.453125 34.8125 35.5 34.8125 \nz\nM 19.671875 64.796875 \nL 19.671875 42.828125 \nL 34.28125 42.828125 \nQ 41.5 42.828125 45.03125 45.53125 \nQ 48.578125 48.25 48.578125 53.8125 \nQ 48.578125 59.328125 45.03125 62.0625 \nQ 41.5 64.796875 34.28125 64.796875 \nz\nM 9.8125 72.90625 \nL 35.015625 72.90625 \nQ 46.296875 72.90625 52.390625 68.21875 \nQ 58.5 63.53125 58.5 54.890625 \nQ 58.5 48.1875 55.375 44.234375 \nQ 52.25 40.28125 46.1875 39.3125 \nQ 53.46875 37.75 57.5 32.78125 \nQ 61.53125 27.828125 61.53125 20.40625 \nQ 61.53125 10.640625 54.890625 5.3125 \nQ 48.25 0 35.984375 0 \nL 9.8125 0 \nz\n\" id=\"DejaVuSans-66\"/>\n     </defs>\n     <g style=\"fill:#262626;\" transform=\"translate(839.101221 41.056406)scale(0.11 -0.11)\">\n      <use xlink:href=\"#DejaVuSans-66\"/>\n      <use x=\"68.603516\" xlink:href=\"#DejaVuSans-111\"/>\n      <use x=\"129.785156\" xlink:href=\"#DejaVuSans-105\"/>\n      <use x=\"157.568359\" xlink:href=\"#DejaVuSans-115\"/>\n     </g>\n    </g>\n    <g id=\"patch_9\">\n     <path d=\"M 808.301221 57.202344 \nL 830.301221 57.202344 \nL 830.301221 49.502344 \nL 808.301221 49.502344 \nz\n\" style=\"fill:#dd8452;opacity:0.5;stroke:#ffffff;stroke-linejoin:miter;\"/>\n    </g>\n    <g id=\"text_40\">\n     <!-- Vacas -->\n     <defs>\n      <path d=\"M 28.609375 0 \nL 0.78125 72.90625 \nL 11.078125 72.90625 \nL 34.1875 11.53125 \nL 57.328125 72.90625 \nL 67.578125 72.90625 \nL 39.796875 0 \nz\n\" id=\"DejaVuSans-86\"/>\n      <path d=\"M 48.78125 52.59375 \nL 48.78125 44.1875 \nQ 44.96875 46.296875 41.140625 47.34375 \nQ 37.3125 48.390625 33.40625 48.390625 \nQ 24.65625 48.390625 19.8125 42.84375 \nQ 14.984375 37.3125 14.984375 27.296875 \nQ 14.984375 17.28125 19.8125 11.734375 \nQ 24.65625 6.203125 33.40625 6.203125 \nQ 37.3125 6.203125 41.140625 7.25 \nQ 44.96875 8.296875 48.78125 10.40625 \nL 48.78125 2.09375 \nQ 45.015625 0.34375 40.984375 -0.53125 \nQ 36.96875 -1.421875 32.421875 -1.421875 \nQ 20.0625 -1.421875 12.78125 6.34375 \nQ 5.515625 14.109375 5.515625 27.296875 \nQ 5.515625 40.671875 12.859375 48.328125 \nQ 20.21875 56 33.015625 56 \nQ 37.15625 56 41.109375 55.140625 \nQ 45.0625 54.296875 48.78125 52.59375 \nz\n\" id=\"DejaVuSans-99\"/>\n     </defs>\n     <g style=\"fill:#262626;\" transform=\"translate(839.101221 57.202344)scale(0.11 -0.11)\">\n      <use xlink:href=\"#DejaVuSans-86\"/>\n      <use x=\"60.658203\" xlink:href=\"#DejaVuSans-97\"/>\n      <use x=\"121.9375\" xlink:href=\"#DejaVuSans-99\"/>\n      <use x=\"176.917969\" xlink:href=\"#DejaVuSans-97\"/>\n      <use x=\"238.197266\" xlink:href=\"#DejaVuSans-115\"/>\n     </g>\n    </g>\n    <g id=\"patch_10\">\n     <path d=\"M 808.301221 73.348281 \nL 830.301221 73.348281 \nL 830.301221 65.648281 \nL 808.301221 65.648281 \nz\n\" style=\"fill:#55a868;opacity:0.5;stroke:#ffffff;stroke-linejoin:miter;\"/>\n    </g>\n    <g id=\"text_41\">\n     <!-- Novilhos -->\n     <defs>\n      <path d=\"M 2.984375 54.6875 \nL 12.5 54.6875 \nL 29.59375 8.796875 \nL 46.6875 54.6875 \nL 56.203125 54.6875 \nL 35.6875 0 \nL 23.484375 0 \nz\n\" id=\"DejaVuSans-118\"/>\n      <path d=\"M 9.421875 75.984375 \nL 18.40625 75.984375 \nL 18.40625 0 \nL 9.421875 0 \nz\n\" id=\"DejaVuSans-108\"/>\n      <path d=\"M 54.890625 33.015625 \nL 54.890625 0 \nL 45.90625 0 \nL 45.90625 32.71875 \nQ 45.90625 40.484375 42.875 44.328125 \nQ 39.84375 48.1875 33.796875 48.1875 \nQ 26.515625 48.1875 22.3125 43.546875 \nQ 18.109375 38.921875 18.109375 30.90625 \nL 18.109375 0 \nL 9.078125 0 \nL 9.078125 75.984375 \nL 18.109375 75.984375 \nL 18.109375 46.1875 \nQ 21.34375 51.125 25.703125 53.5625 \nQ 30.078125 56 35.796875 56 \nQ 45.21875 56 50.046875 50.171875 \nQ 54.890625 44.34375 54.890625 33.015625 \nz\n\" id=\"DejaVuSans-104\"/>\n     </defs>\n     <g style=\"fill:#262626;\" transform=\"translate(839.101221 73.348281)scale(0.11 -0.11)\">\n      <use xlink:href=\"#DejaVuSans-78\"/>\n      <use x=\"74.804688\" xlink:href=\"#DejaVuSans-111\"/>\n      <use x=\"135.986328\" xlink:href=\"#DejaVuSans-118\"/>\n      <use x=\"195.166016\" xlink:href=\"#DejaVuSans-105\"/>\n      <use x=\"222.949219\" xlink:href=\"#DejaVuSans-108\"/>\n      <use x=\"250.732422\" xlink:href=\"#DejaVuSans-104\"/>\n      <use x=\"314.111328\" xlink:href=\"#DejaVuSans-111\"/>\n      <use x=\"375.292969\" xlink:href=\"#DejaVuSans-115\"/>\n     </g>\n    </g>\n    <g id=\"patch_11\">\n     <path d=\"M 808.301221 89.494219 \nL 830.301221 89.494219 \nL 830.301221 81.794219 \nL 808.301221 81.794219 \nz\n\" style=\"fill:#c44e52;opacity:0.5;stroke:#ffffff;stroke-linejoin:miter;\"/>\n    </g>\n    <g id=\"text_42\">\n     <!-- Novilhas -->\n     <g style=\"fill:#262626;\" transform=\"translate(839.101221 89.494219)scale(0.11 -0.11)\">\n      <use xlink:href=\"#DejaVuSans-78\"/>\n      <use x=\"74.804688\" xlink:href=\"#DejaVuSans-111\"/>\n      <use x=\"135.986328\" xlink:href=\"#DejaVuSans-118\"/>\n      <use x=\"195.166016\" xlink:href=\"#DejaVuSans-105\"/>\n      <use x=\"222.949219\" xlink:href=\"#DejaVuSans-108\"/>\n      <use x=\"250.732422\" xlink:href=\"#DejaVuSans-104\"/>\n      <use x=\"314.111328\" xlink:href=\"#DejaVuSans-97\"/>\n      <use x=\"375.390625\" xlink:href=\"#DejaVuSans-115\"/>\n     </g>\n    </g>\n   </g>\n  </g>\n </g>\n <defs>\n  <clipPath id=\"p8873674ca2\">\n   <rect height=\"293.76\" width=\"837\" x=\"59.026221\" y=\"22.798125\"/>\n  </clipPath>\n </defs>\n</svg>\n"
          },
          "metadata": {
            "tags": [],
            "needs_background": "light"
          }
        }
      ]
    }
  ]
}