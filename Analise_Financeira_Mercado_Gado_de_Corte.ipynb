{
  "nbformat": 4,
  "nbformat_minor": 0,
  "metadata": {
    "colab": {
      "name": "Otimização_Abate_de_Gado_de_Corte.ipynb",
      "provenance": [],
      "collapsed_sections": [],
      "include_colab_link": true
    },
    "kernelspec": {
      "name": "python3",
      "display_name": "Python 3"
    },
    "language_info": {
      "name": "python"
    }
  },
  "cells": [
    {
      "cell_type": "markdown",
      "metadata": {
        "id": "view-in-github",
        "colab_type": "text"
      },
      "source": [
        "<a href=\"https://colab.research.google.com/github/jvataidee/DataAnalysis/blob/master/Analise_Financeira_Mercado_Gado_de_Corte.ipynb\" target=\"_parent\"><img src=\"https://colab.research.google.com/assets/colab-badge.svg\" alt=\"Open In Colab\"/></a>"
      ]
    },
    {
      "cell_type": "markdown",
      "metadata": {
        "id": "iyF3cpCh9xBf"
      },
      "source": [
        "\n",
        "<p align=\"center\"><img src=\"https://static.wixstatic.com/media/bdd7cb_ce7cb603d09d4263921dda3fb68a395f~mv2.png\" height=\"75px\"></p>\n",
        "\n",
        "**by: [João Ataíde](https://www.joaoataide.com)**\n",
        "# Análise Mercado Financeira de Gado de Corte\n",
        "\n",
        "\n",
        "---\n",
        "\n",
        "<p align=\"center\"><img src=\"https://static.wixstatic.com/media/bdd7cb_a59ef6dfb8914eea869878888a5d0acd~mv2.jpg\"></p>\n",
        "\n"
      ]
    },
    {
      "cell_type": "code",
      "metadata": {
        "colab": {
          "base_uri": "https://localhost:8080/"
        },
        "id": "aFfpT5tHBfhs",
        "outputId": "7815c5f5-e36e-4525-a088-965b9bc57556"
      },
      "source": [
        "!pip install investpy -q"
      ],
      "execution_count": 1,
      "outputs": [
        {
          "output_type": "stream",
          "text": [
            "\u001b[K     |████████████████████████████████| 4.4 MB 5.1 MB/s \n",
            "\u001b[K     |████████████████████████████████| 241 kB 56.3 MB/s \n",
            "\u001b[K     |████████████████████████████████| 6.3 MB 52.0 MB/s \n",
            "\u001b[K     |████████████████████████████████| 510 kB 47.4 MB/s \n",
            "\u001b[?25h  Building wheel for investpy (setup.py) ... \u001b[?25l\u001b[?25hdone\n"
          ],
          "name": "stdout"
        }
      ]
    },
    {
      "cell_type": "code",
      "metadata": {
        "colab": {
          "base_uri": "https://localhost:8080/"
        },
        "id": "LIEXiI8HW96b",
        "outputId": "03102e6d-5a34-407c-ec4d-24dda14c6859"
      },
      "source": [
        "!pip install yfinance -q"
      ],
      "execution_count": 2,
      "outputs": [
        {
          "output_type": "stream",
          "text": [
            "  Building wheel for yfinance (setup.py) ... \u001b[?25l\u001b[?25hdone\n"
          ],
          "name": "stdout"
        }
      ]
    },
    {
      "cell_type": "code",
      "metadata": {
        "colab": {
          "base_uri": "https://localhost:8080/"
        },
        "id": "nwLK9ZfVYTpb",
        "outputId": "20f24525-57e6-4a69-9156-e60ab2f458b9"
      },
      "source": [
        "!pip install pyportfolioopt -q"
      ],
      "execution_count": 6,
      "outputs": [
        {
          "output_type": "stream",
          "text": [
            "\u001b[K     |████████████████████████████████| 60 kB 2.9 MB/s \n",
            "\u001b[K     |████████████████████████████████| 2.7 MB 9.3 MB/s \n",
            "\u001b[?25h"
          ],
          "name": "stdout"
        }
      ]
    },
    {
      "cell_type": "code",
      "metadata": {
        "id": "iHyBpQRa9lg5"
      },
      "source": [
        "#importar bibliotecas básicas\n",
        "import pandas as pd\n",
        "import numpy as np\n",
        "import matplotlib.pyplot as plt\n",
        "import seaborn as sns\n",
        "\n",
        "#importar bibliotecas financeiras\n",
        "import investpy\n",
        "import yfinance as yf\n",
        "import pypfopt\n",
        "\n",
        "# configurar a visualização\n",
        "sns.set()\n",
        "%matplotlib inline\n",
        "%config InlineBackend.figure_format = 'svg'"
      ],
      "execution_count": 9,
      "outputs": []
    },
    {
      "cell_type": "code",
      "metadata": {
        "colab": {
          "base_uri": "https://localhost:8080/",
          "height": 234
        },
        "id": "aQp0LqPxX-lk",
        "outputId": "5f413590-6558-4941-cc0f-b49ca223e6af"
      },
      "source": [
        "#Importar historico do dollar\n",
        "doll = yf.Ticker(\"USDBRL=x\")\n",
        "dollar = doll.history(start =\"2020-01-01\", end =\"2020-12-31\" )\n",
        "dollar.head()"
      ],
      "execution_count": 4,
      "outputs": [
        {
          "output_type": "execute_result",
          "data": {
            "text/html": [
              "<div>\n",
              "<style scoped>\n",
              "    .dataframe tbody tr th:only-of-type {\n",
              "        vertical-align: middle;\n",
              "    }\n",
              "\n",
              "    .dataframe tbody tr th {\n",
              "        vertical-align: top;\n",
              "    }\n",
              "\n",
              "    .dataframe thead th {\n",
              "        text-align: right;\n",
              "    }\n",
              "</style>\n",
              "<table border=\"1\" class=\"dataframe\">\n",
              "  <thead>\n",
              "    <tr style=\"text-align: right;\">\n",
              "      <th></th>\n",
              "      <th>Open</th>\n",
              "      <th>High</th>\n",
              "      <th>Low</th>\n",
              "      <th>Close</th>\n",
              "      <th>Volume</th>\n",
              "      <th>Dividends</th>\n",
              "      <th>Stock Splits</th>\n",
              "    </tr>\n",
              "    <tr>\n",
              "      <th>Date</th>\n",
              "      <th></th>\n",
              "      <th></th>\n",
              "      <th></th>\n",
              "      <th></th>\n",
              "      <th></th>\n",
              "      <th></th>\n",
              "      <th></th>\n",
              "    </tr>\n",
              "  </thead>\n",
              "  <tbody>\n",
              "    <tr>\n",
              "      <th>2020-01-01</th>\n",
              "      <td>4.016786</td>\n",
              "      <td>4.018200</td>\n",
              "      <td>4.016300</td>\n",
              "      <td>4.016786</td>\n",
              "      <td>0</td>\n",
              "      <td>0</td>\n",
              "      <td>0</td>\n",
              "    </tr>\n",
              "    <tr>\n",
              "      <th>2020-01-02</th>\n",
              "      <td>4.016300</td>\n",
              "      <td>4.038700</td>\n",
              "      <td>4.000820</td>\n",
              "      <td>4.016300</td>\n",
              "      <td>0</td>\n",
              "      <td>0</td>\n",
              "      <td>0</td>\n",
              "    </tr>\n",
              "    <tr>\n",
              "      <th>2020-01-03</th>\n",
              "      <td>4.023700</td>\n",
              "      <td>4.067005</td>\n",
              "      <td>4.021125</td>\n",
              "      <td>4.023400</td>\n",
              "      <td>0</td>\n",
              "      <td>0</td>\n",
              "      <td>0</td>\n",
              "    </tr>\n",
              "    <tr>\n",
              "      <th>2020-01-06</th>\n",
              "      <td>4.057000</td>\n",
              "      <td>4.066200</td>\n",
              "      <td>4.044942</td>\n",
              "      <td>4.057000</td>\n",
              "      <td>0</td>\n",
              "      <td>0</td>\n",
              "      <td>0</td>\n",
              "    </tr>\n",
              "    <tr>\n",
              "      <th>2020-01-07</th>\n",
              "      <td>4.060500</td>\n",
              "      <td>4.090600</td>\n",
              "      <td>4.043024</td>\n",
              "      <td>4.060400</td>\n",
              "      <td>0</td>\n",
              "      <td>0</td>\n",
              "      <td>0</td>\n",
              "    </tr>\n",
              "  </tbody>\n",
              "</table>\n",
              "</div>"
            ],
            "text/plain": [
              "                Open      High       Low  ...  Volume  Dividends  Stock Splits\n",
              "Date                                      ...                                 \n",
              "2020-01-01  4.016786  4.018200  4.016300  ...       0          0             0\n",
              "2020-01-02  4.016300  4.038700  4.000820  ...       0          0             0\n",
              "2020-01-03  4.023700  4.067005  4.021125  ...       0          0             0\n",
              "2020-01-06  4.057000  4.066200  4.044942  ...       0          0             0\n",
              "2020-01-07  4.060500  4.090600  4.043024  ...       0          0             0\n",
              "\n",
              "[5 rows x 7 columns]"
            ]
          },
          "metadata": {
            "tags": []
          },
          "execution_count": 4
        }
      ]
    },
    {
      "cell_type": "code",
      "metadata": {
        "colab": {
          "base_uri": "https://localhost:8080/",
          "height": 234
        },
        "id": "tpmYIgB3Ya9e",
        "outputId": "0003e533-d600-4a4c-d535-5569de6966a4"
      },
      "source": [
        "#Importar historico do boi gordo\n",
        "lcf = yf.Ticker(\"LE=F\")\n",
        "boi_gordo = lcf.history(start =\"2020-01-01\", end =\"2020-12-31\" )\n",
        "boi_gordo.head()"
      ],
      "execution_count": 13,
      "outputs": [
        {
          "output_type": "execute_result",
          "data": {
            "text/html": [
              "<div>\n",
              "<style scoped>\n",
              "    .dataframe tbody tr th:only-of-type {\n",
              "        vertical-align: middle;\n",
              "    }\n",
              "\n",
              "    .dataframe tbody tr th {\n",
              "        vertical-align: top;\n",
              "    }\n",
              "\n",
              "    .dataframe thead th {\n",
              "        text-align: right;\n",
              "    }\n",
              "</style>\n",
              "<table border=\"1\" class=\"dataframe\">\n",
              "  <thead>\n",
              "    <tr style=\"text-align: right;\">\n",
              "      <th></th>\n",
              "      <th>Open</th>\n",
              "      <th>High</th>\n",
              "      <th>Low</th>\n",
              "      <th>Close</th>\n",
              "      <th>Volume</th>\n",
              "      <th>Dividends</th>\n",
              "      <th>Stock Splits</th>\n",
              "    </tr>\n",
              "    <tr>\n",
              "      <th>Date</th>\n",
              "      <th></th>\n",
              "      <th></th>\n",
              "      <th></th>\n",
              "      <th></th>\n",
              "      <th></th>\n",
              "      <th></th>\n",
              "      <th></th>\n",
              "    </tr>\n",
              "  </thead>\n",
              "  <tbody>\n",
              "    <tr>\n",
              "      <th>2020-01-02</th>\n",
              "      <td>126.000000</td>\n",
              "      <td>126.324997</td>\n",
              "      <td>124.550003</td>\n",
              "      <td>125.775002</td>\n",
              "      <td>28659</td>\n",
              "      <td>0</td>\n",
              "      <td>0</td>\n",
              "    </tr>\n",
              "    <tr>\n",
              "      <th>2020-01-03</th>\n",
              "      <td>125.775002</td>\n",
              "      <td>125.949997</td>\n",
              "      <td>124.574997</td>\n",
              "      <td>124.724998</td>\n",
              "      <td>32902</td>\n",
              "      <td>0</td>\n",
              "      <td>0</td>\n",
              "    </tr>\n",
              "    <tr>\n",
              "      <th>2020-01-06</th>\n",
              "      <td>125.000000</td>\n",
              "      <td>127.425003</td>\n",
              "      <td>124.750000</td>\n",
              "      <td>127.275002</td>\n",
              "      <td>33907</td>\n",
              "      <td>0</td>\n",
              "      <td>0</td>\n",
              "    </tr>\n",
              "    <tr>\n",
              "      <th>2020-01-07</th>\n",
              "      <td>127.000000</td>\n",
              "      <td>127.250000</td>\n",
              "      <td>125.775002</td>\n",
              "      <td>126.525002</td>\n",
              "      <td>28583</td>\n",
              "      <td>0</td>\n",
              "      <td>0</td>\n",
              "    </tr>\n",
              "    <tr>\n",
              "      <th>2020-01-08</th>\n",
              "      <td>126.449997</td>\n",
              "      <td>126.949997</td>\n",
              "      <td>126.025002</td>\n",
              "      <td>126.349998</td>\n",
              "      <td>41439</td>\n",
              "      <td>0</td>\n",
              "      <td>0</td>\n",
              "    </tr>\n",
              "  </tbody>\n",
              "</table>\n",
              "</div>"
            ],
            "text/plain": [
              "                  Open        High         Low  ...  Volume  Dividends  Stock Splits\n",
              "Date                                            ...                                 \n",
              "2020-01-02  126.000000  126.324997  124.550003  ...   28659          0             0\n",
              "2020-01-03  125.775002  125.949997  124.574997  ...   32902          0             0\n",
              "2020-01-06  125.000000  127.425003  124.750000  ...   33907          0             0\n",
              "2020-01-07  127.000000  127.250000  125.775002  ...   28583          0             0\n",
              "2020-01-08  126.449997  126.949997  126.025002  ...   41439          0             0\n",
              "\n",
              "[5 rows x 7 columns]"
            ]
          },
          "metadata": {
            "tags": []
          },
          "execution_count": 13
        }
      ]
    },
    {
      "cell_type": "code",
      "metadata": {
        "id": "qDf1T0FiZ8f2"
      },
      "source": [
        "#Importar historico do trigo\n",
        "lcf = yf.Ticker(\"LE=F\")\n",
        "boi_gordo = lcf.history(start =\"2020-01-01\", end =\"2020-12-31\" )\n",
        "boi_gordo.head()"
      ],
      "execution_count": null,
      "outputs": []
    },
    {
      "cell_type": "code",
      "metadata": {
        "id": "0o0osd5EZ-dD"
      },
      "source": [
        "#Importar historico da soja\n",
        "lcf = yf.Ticker(\"LE=F\")\n",
        "boi_gordo = lcf.history(start =\"2020-01-01\", end =\"2020-12-31\" )\n",
        "boi_gordo.head()"
      ],
      "execution_count": null,
      "outputs": []
    }
  ]
}