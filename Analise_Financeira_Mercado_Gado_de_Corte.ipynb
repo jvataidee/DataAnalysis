{
  "nbformat": 4,
  "nbformat_minor": 0,
  "metadata": {
    "colab": {
      "name": "Analise_Financeira_Mercado_Gado_de_Corte.ipynb",
      "provenance": [],
      "collapsed_sections": [],
      "include_colab_link": true
    },
    "kernelspec": {
      "name": "python3",
      "display_name": "Python 3"
    },
    "language_info": {
      "name": "python"
    }
  },
  "cells": [
    {
      "cell_type": "markdown",
      "metadata": {
        "id": "view-in-github",
        "colab_type": "text"
      },
      "source": [
        "<a href=\"https://colab.research.google.com/github/jvataidee/DataAnalysis/blob/master/Analise_Financeira_Mercado_Gado_de_Corte.ipynb\" target=\"_parent\"><img src=\"https://colab.research.google.com/assets/colab-badge.svg\" alt=\"Open In Colab\"/></a>"
      ]
    },
    {
      "cell_type": "markdown",
      "metadata": {
        "id": "iyF3cpCh9xBf"
      },
      "source": [
        "**by: [João Ataíde](https://www.joaoataide.com)**\n",
        "# Análise Mercado Financeira de Gado de Corte\n",
        "\n",
        "\n",
        "---\n"
      ]
    },
    {
      "cell_type": "markdown",
      "metadata": {
        "id": "-jEcTjEbDMfM"
      },
      "source": [
        "## Importanto bibliotecas básicas"
      ]
    },
    {
      "cell_type": "code",
      "metadata": {
        "id": "iHyBpQRa9lg5"
      },
      "source": [
        "#importar bibliotecas básicas\n",
        "import pandas as pd\n",
        "import numpy as np\n",
        "import matplotlib.pyplot as plt\n",
        "import seaborn as sns\n",
        "\n",
        "# configurar a visualização\n",
        "sns.set()\n",
        "%matplotlib inline\n",
        "%config InlineBackend.figure_format = 'svg'"
      ],
      "execution_count": 1,
      "outputs": []
    },
    {
      "cell_type": "markdown",
      "metadata": {
        "id": "7iwDAi1hA_Nu"
      },
      "source": [
        "## Obtenção dos dados"
      ]
    },
    {
      "cell_type": "markdown",
      "metadata": {
        "id": "8t7BdNiNA5R-"
      },
      "source": [
        "Encontrar dados para começar as análises sempre é um processo complicado, em especial quando a gente está falando de um eixo de mercado ainda muito artesanal, o qual etá modificando agora seu modo com a Pecuária 4.0, assim, não foi possível encontrar uma API nacional que automatize a obtenção dados sobre o preço das commodities.\n",
        "\n",
        "Então, para isso realizei a instalação de duas bibliotecas investpy, API criada a parti da plataforma [investing.com](https://investing.com/) que possui diversos bases de dados financeiras, não somente de commodities. Outra biblioteca que foi necessária foi a [Yahoo! Finance](https://finance.yahoo.com/) a qual utilizei para obter os dados referentes a cotas do dollar.\n"
      ]
    },
    {
      "cell_type": "code",
      "metadata": {
        "id": "aFfpT5tHBfhs"
      },
      "source": [
        "!pip install investpy -q"
      ],
      "execution_count": null,
      "outputs": []
    },
    {
      "cell_type": "code",
      "metadata": {
        "id": "rEVIsMYn7RGH"
      },
      "source": [
        "!pip install yfinance -q"
      ],
      "execution_count": null,
      "outputs": []
    },
    {
      "cell_type": "code",
      "metadata": {
        "id": "R_iTVMN7HPES"
      },
      "source": [
        "pip install -U sidrapy -q"
      ],
      "execution_count": 4,
      "outputs": []
    },
    {
      "cell_type": "code",
      "metadata": {
        "id": "BPSmATfGDQSp"
      },
      "source": [
        "#importar bibliotecas financeiras\n",
        "import investpy\n",
        "import yfinance as yf\n",
        "import sidrapy"
      ],
      "execution_count": 5,
      "outputs": []
    },
    {
      "cell_type": "markdown",
      "metadata": {
        "id": "wFLXpq1q40V_"
      },
      "source": [
        "### Dados de Commodities"
      ]
    },
    {
      "cell_type": "code",
      "metadata": {
        "id": "JNLqIvJwgO1Y"
      },
      "source": [
        "#Lista de commodities\n",
        "commodities = [\"Live Cattle\", \"Feeder Cattle\", ]\n",
        "\n",
        "#Data de inicio e fim de análise\n",
        "inicio = \"01/01/2014\"\n",
        "fim = \"31/12/2020\""
      ],
      "execution_count": 87,
      "outputs": []
    },
    {
      "cell_type": "code",
      "metadata": {
        "id": "FuwlmI-8a3_D",
        "colab": {
          "base_uri": "https://localhost:8080/",
          "height": 234
        },
        "outputId": "6a1b00f6-d35d-41e0-bc14-7f17ad5c3c0c"
      },
      "source": [
        "#Função para importar dados das commodities\n",
        "def commodities_df(commodities, inicio,fim):\n",
        "  precos = pd.DataFrame()\n",
        "  for i in commodities:\n",
        "    df = investpy.commodities.get_commodity_historical_data(commodity=i, from_date=inicio, to_date=fim).Close\n",
        "    df.rename(i, inplace=True)\n",
        "    df.columns = [i]\n",
        "    precos = pd.concat([precos,df], axis=1)\n",
        "    precos.index.name=\"Date\"\n",
        "  return precos\n",
        "\n",
        "\n",
        "#Data Frame de commodites\n",
        "df = commodities_df(commodities,inicio,fim)\n",
        "\n",
        "#Importar dollar\n",
        "doll = yf.Ticker(\"USDBRL=x\")\n",
        "dollar = pd.DataFrame(doll.history(start =\"2014-01-01\", end =\"2020-12-31\" ).Close)\n",
        "dollar.columns = [\"Dollar\"]\n",
        "dollar.index.name=\"Date\"\n",
        "\n",
        "#Concatenar dado\n",
        "dados =pd.merge(df, dollar, how='inner', right_index=True, left_index=True)\n",
        "dados.head()"
      ],
      "execution_count": 88,
      "outputs": [
        {
          "output_type": "execute_result",
          "data": {
            "text/html": [
              "<div>\n",
              "<style scoped>\n",
              "    .dataframe tbody tr th:only-of-type {\n",
              "        vertical-align: middle;\n",
              "    }\n",
              "\n",
              "    .dataframe tbody tr th {\n",
              "        vertical-align: top;\n",
              "    }\n",
              "\n",
              "    .dataframe thead th {\n",
              "        text-align: right;\n",
              "    }\n",
              "</style>\n",
              "<table border=\"1\" class=\"dataframe\">\n",
              "  <thead>\n",
              "    <tr style=\"text-align: right;\">\n",
              "      <th></th>\n",
              "      <th>Live Cattle</th>\n",
              "      <th>Feeder Cattle</th>\n",
              "      <th>Dollar</th>\n",
              "    </tr>\n",
              "    <tr>\n",
              "      <th>Date</th>\n",
              "      <th></th>\n",
              "      <th></th>\n",
              "      <th></th>\n",
              "    </tr>\n",
              "  </thead>\n",
              "  <tbody>\n",
              "    <tr>\n",
              "      <th>2014-01-01</th>\n",
              "      <td>134.688</td>\n",
              "      <td>NaN</td>\n",
              "      <td>2.3592</td>\n",
              "    </tr>\n",
              "    <tr>\n",
              "      <th>2014-01-02</th>\n",
              "      <td>135.625</td>\n",
              "      <td>167.00</td>\n",
              "      <td>2.3571</td>\n",
              "    </tr>\n",
              "    <tr>\n",
              "      <th>2014-01-03</th>\n",
              "      <td>136.300</td>\n",
              "      <td>167.62</td>\n",
              "      <td>2.3847</td>\n",
              "    </tr>\n",
              "    <tr>\n",
              "      <th>2014-01-06</th>\n",
              "      <td>136.825</td>\n",
              "      <td>168.03</td>\n",
              "      <td>2.3715</td>\n",
              "    </tr>\n",
              "    <tr>\n",
              "      <th>2014-01-07</th>\n",
              "      <td>136.525</td>\n",
              "      <td>168.05</td>\n",
              "      <td>2.3737</td>\n",
              "    </tr>\n",
              "  </tbody>\n",
              "</table>\n",
              "</div>"
            ],
            "text/plain": [
              "            Live Cattle  Feeder Cattle  Dollar\n",
              "Date                                          \n",
              "2014-01-01      134.688            NaN  2.3592\n",
              "2014-01-02      135.625         167.00  2.3571\n",
              "2014-01-03      136.300         167.62  2.3847\n",
              "2014-01-06      136.825         168.03  2.3715\n",
              "2014-01-07      136.525         168.05  2.3737"
            ]
          },
          "metadata": {
            "tags": []
          },
          "execution_count": 88
        }
      ]
    },
    {
      "cell_type": "code",
      "metadata": {
        "colab": {
          "base_uri": "https://localhost:8080/",
          "height": 203
        },
        "id": "D25TSMCtxahO",
        "outputId": "d6fc13c8-d387-42a7-844a-1fe1471b9701"
      },
      "source": [
        "dados_trimestre = dados.groupby(pd.Grouper(freq='Q')).mean()\n",
        "dados_trimestre = dados_trimestre.reset_index()\n",
        "dados_trimestre[\"Count\"] = dados_trimestre.index + 1\n",
        "dados_trimestre.head()"
      ],
      "execution_count": 89,
      "outputs": [
        {
          "output_type": "execute_result",
          "data": {
            "text/html": [
              "<div>\n",
              "<style scoped>\n",
              "    .dataframe tbody tr th:only-of-type {\n",
              "        vertical-align: middle;\n",
              "    }\n",
              "\n",
              "    .dataframe tbody tr th {\n",
              "        vertical-align: top;\n",
              "    }\n",
              "\n",
              "    .dataframe thead th {\n",
              "        text-align: right;\n",
              "    }\n",
              "</style>\n",
              "<table border=\"1\" class=\"dataframe\">\n",
              "  <thead>\n",
              "    <tr style=\"text-align: right;\">\n",
              "      <th></th>\n",
              "      <th>Date</th>\n",
              "      <th>Live Cattle</th>\n",
              "      <th>Feeder Cattle</th>\n",
              "      <th>Dollar</th>\n",
              "      <th>Count</th>\n",
              "    </tr>\n",
              "  </thead>\n",
              "  <tbody>\n",
              "    <tr>\n",
              "      <th>0</th>\n",
              "      <td>2014-03-31</td>\n",
              "      <td>142.532871</td>\n",
              "      <td>171.350492</td>\n",
              "      <td>2.361074</td>\n",
              "      <td>1</td>\n",
              "    </tr>\n",
              "    <tr>\n",
              "      <th>1</th>\n",
              "      <td>2014-06-30</td>\n",
              "      <td>142.672619</td>\n",
              "      <td>190.970476</td>\n",
              "      <td>2.225935</td>\n",
              "      <td>2</td>\n",
              "    </tr>\n",
              "    <tr>\n",
              "      <th>2</th>\n",
              "      <td>2014-09-30</td>\n",
              "      <td>154.548047</td>\n",
              "      <td>220.610000</td>\n",
              "      <td>2.268325</td>\n",
              "      <td>3</td>\n",
              "    </tr>\n",
              "    <tr>\n",
              "      <th>3</th>\n",
              "      <td>2014-12-31</td>\n",
              "      <td>165.997308</td>\n",
              "      <td>233.692187</td>\n",
              "      <td>2.538731</td>\n",
              "      <td>4</td>\n",
              "    </tr>\n",
              "    <tr>\n",
              "      <th>4</th>\n",
              "      <td>2015-03-31</td>\n",
              "      <td>157.177049</td>\n",
              "      <td>210.525246</td>\n",
              "      <td>2.864362</td>\n",
              "      <td>5</td>\n",
              "    </tr>\n",
              "  </tbody>\n",
              "</table>\n",
              "</div>"
            ],
            "text/plain": [
              "        Date  Live Cattle  Feeder Cattle    Dollar  Count\n",
              "0 2014-03-31   142.532871     171.350492  2.361074      1\n",
              "1 2014-06-30   142.672619     190.970476  2.225935      2\n",
              "2 2014-09-30   154.548047     220.610000  2.268325      3\n",
              "3 2014-12-31   165.997308     233.692187  2.538731      4\n",
              "4 2015-03-31   157.177049     210.525246  2.864362      5"
            ]
          },
          "metadata": {
            "tags": []
          },
          "execution_count": 89
        }
      ]
    },
    {
      "cell_type": "code",
      "metadata": {
        "id": "zcw_83Pr1aJP",
        "outputId": "e06c65ac-02cf-4296-dfd0-604d02697730",
        "colab": {
          "base_uri": "https://localhost:8080/"
        }
      },
      "source": [
        "dados_trimestre.shape"
      ],
      "execution_count": 90,
      "outputs": [
        {
          "output_type": "execute_result",
          "data": {
            "text/plain": [
              "(28, 5)"
            ]
          },
          "metadata": {
            "tags": []
          },
          "execution_count": 90
        }
      ]
    },
    {
      "cell_type": "markdown",
      "metadata": {
        "id": "88CdpPXg34ke"
      },
      "source": [
        "### Dados do SIDRA"
      ]
    },
    {
      "cell_type": "code",
      "metadata": {
        "colab": {
          "base_uri": "https://localhost:8080/",
          "height": 203
        },
        "id": "BfaIAApC34w4",
        "outputId": "f56f9491-aa4d-4cf2-c8ce-5974662d4b83"
      },
      "source": [
        "import requests\n",
        "\n",
        "#link do banco de dados sidra\n",
        "consulta = 'https://apisidra.ibge.gov.br/values/t/1092/n1/all/v/all/p/all/c12716/all/c18/55,56,992,111734,111735/c12529/all/d/v1000151%202,v1000284%202,v1000285%202'\n",
        "ufs = [5]\n",
        "\n",
        "#Baixar dados do sidra\n",
        "df2 = pd.DataFrame()\n",
        "for uf in ufs:\n",
        "    url = consulta.format(uf)\n",
        "    dados_json = requests.get(url).json()\n",
        "    dados_pandas = pd.DataFrame(dados_json)\n",
        "    df2 = pd.concat([dados_pandas,df2])\n",
        "  \n",
        "#Renomear colunas\n",
        "sidra = df2.copy() \n",
        "colunas = list(df2.iloc[0,:])\n",
        "sidra.columns = colunas\n",
        "\n",
        "#Filtrar dados\n",
        "sidra = sidra.iloc[1:,:]\n",
        "sidra = sidra[sidra[\"Variável\"]==\"Animais abatidos\"]\n",
        "sidra = sidra[sidra[\"Tipo de inspeção\"]==\"Total\"]\n",
        "sidra = sidra[sidra[\"Unidade de Medida\"]==\"Cabeças\"]\n",
        "sidra = sidra[sidra[\"Tipo de inspeção\"]==\"Total\"]\n",
        "sidra = sidra[sidra[\"Referência temporal\"]==\"Total do trimestre\"]\n",
        "\n",
        "#Escolher colunas necessárias para a análise\n",
        "sidra = sidra.reset_index()\n",
        "sidra = sidra.iloc[:, [5, 11, 15]]\n",
        "\n",
        "#Dropar coluna de valor X\n",
        "sidra = sidra.drop(sidra[sidra[\"Valor\"] == 'X'].index)\n",
        "\n",
        "#tranformar valor em float\n",
        "sidra[\"Valor\"] = sidra[\"Valor\"].astype(float)\n",
        "sidra.head()"
      ],
      "execution_count": 91,
      "outputs": [
        {
          "output_type": "execute_result",
          "data": {
            "text/html": [
              "<div>\n",
              "<style scoped>\n",
              "    .dataframe tbody tr th:only-of-type {\n",
              "        vertical-align: middle;\n",
              "    }\n",
              "\n",
              "    .dataframe tbody tr th {\n",
              "        vertical-align: top;\n",
              "    }\n",
              "\n",
              "    .dataframe thead th {\n",
              "        text-align: right;\n",
              "    }\n",
              "</style>\n",
              "<table border=\"1\" class=\"dataframe\">\n",
              "  <thead>\n",
              "    <tr style=\"text-align: right;\">\n",
              "      <th></th>\n",
              "      <th>Valor</th>\n",
              "      <th>Trimestre</th>\n",
              "      <th>Tipo de rebanho bovino</th>\n",
              "    </tr>\n",
              "  </thead>\n",
              "  <tbody>\n",
              "    <tr>\n",
              "      <th>0</th>\n",
              "      <td>1721468.0</td>\n",
              "      <td>1º trimestre 1997</td>\n",
              "      <td>Bois</td>\n",
              "    </tr>\n",
              "    <tr>\n",
              "      <th>1</th>\n",
              "      <td>1173546.0</td>\n",
              "      <td>1º trimestre 1997</td>\n",
              "      <td>Vacas</td>\n",
              "    </tr>\n",
              "    <tr>\n",
              "      <th>2</th>\n",
              "      <td>3510085.0</td>\n",
              "      <td>1º trimestre 1997</td>\n",
              "      <td>Total</td>\n",
              "    </tr>\n",
              "    <tr>\n",
              "      <th>3</th>\n",
              "      <td>468475.0</td>\n",
              "      <td>1º trimestre 1997</td>\n",
              "      <td>Novilhos</td>\n",
              "    </tr>\n",
              "    <tr>\n",
              "      <th>4</th>\n",
              "      <td>142442.0</td>\n",
              "      <td>1º trimestre 1997</td>\n",
              "      <td>Novilhas</td>\n",
              "    </tr>\n",
              "  </tbody>\n",
              "</table>\n",
              "</div>"
            ],
            "text/plain": [
              "       Valor          Trimestre Tipo de rebanho bovino\n",
              "0  1721468.0  1º trimestre 1997                   Bois\n",
              "1  1173546.0  1º trimestre 1997                  Vacas\n",
              "2  3510085.0  1º trimestre 1997                  Total\n",
              "3   468475.0  1º trimestre 1997               Novilhos\n",
              "4   142442.0  1º trimestre 1997               Novilhas"
            ]
          },
          "metadata": {
            "tags": []
          },
          "execution_count": 91
        }
      ]
    },
    {
      "cell_type": "code",
      "metadata": {
        "colab": {
          "base_uri": "https://localhost:8080/",
          "height": 238
        },
        "id": "1mxNHuuG-wOr",
        "outputId": "0fb24098-fa9a-478a-9585-3be6147b3632"
      },
      "source": [
        "#Encontrar datas\n",
        "times = sidra.Trimestre.str.split(expand=True)\n",
        "times[2] = pd.to_datetime(times[2])\n",
        "sidra3 = sidra.copy()\n",
        "sidra3 = sidra3[times[2] >= \"2014-01-01\"]\n",
        "sidra3 = sidra3[times[2] < \"2021-01-01\"]\n",
        "sidra3.head()"
      ],
      "execution_count": 92,
      "outputs": [
        {
          "output_type": "stream",
          "text": [
            "/usr/local/lib/python3.7/dist-packages/ipykernel_launcher.py:6: UserWarning: Boolean Series key will be reindexed to match DataFrame index.\n",
            "  \n"
          ],
          "name": "stderr"
        },
        {
          "output_type": "execute_result",
          "data": {
            "text/html": [
              "<div>\n",
              "<style scoped>\n",
              "    .dataframe tbody tr th:only-of-type {\n",
              "        vertical-align: middle;\n",
              "    }\n",
              "\n",
              "    .dataframe tbody tr th {\n",
              "        vertical-align: top;\n",
              "    }\n",
              "\n",
              "    .dataframe thead th {\n",
              "        text-align: right;\n",
              "    }\n",
              "</style>\n",
              "<table border=\"1\" class=\"dataframe\">\n",
              "  <thead>\n",
              "    <tr style=\"text-align: right;\">\n",
              "      <th></th>\n",
              "      <th>Valor</th>\n",
              "      <th>Trimestre</th>\n",
              "      <th>Tipo de rebanho bovino</th>\n",
              "    </tr>\n",
              "  </thead>\n",
              "  <tbody>\n",
              "    <tr>\n",
              "      <th>340</th>\n",
              "      <td>3993691.0</td>\n",
              "      <td>1º trimestre 2014</td>\n",
              "      <td>Bois</td>\n",
              "    </tr>\n",
              "    <tr>\n",
              "      <th>341</th>\n",
              "      <td>3067441.0</td>\n",
              "      <td>1º trimestre 2014</td>\n",
              "      <td>Vacas</td>\n",
              "    </tr>\n",
              "    <tr>\n",
              "      <th>342</th>\n",
              "      <td>8372872.0</td>\n",
              "      <td>1º trimestre 2014</td>\n",
              "      <td>Total</td>\n",
              "    </tr>\n",
              "    <tr>\n",
              "      <th>343</th>\n",
              "      <td>447977.0</td>\n",
              "      <td>1º trimestre 2014</td>\n",
              "      <td>Novilhos</td>\n",
              "    </tr>\n",
              "    <tr>\n",
              "      <th>344</th>\n",
              "      <td>863763.0</td>\n",
              "      <td>1º trimestre 2014</td>\n",
              "      <td>Novilhas</td>\n",
              "    </tr>\n",
              "  </tbody>\n",
              "</table>\n",
              "</div>"
            ],
            "text/plain": [
              "         Valor          Trimestre Tipo de rebanho bovino\n",
              "340  3993691.0  1º trimestre 2014                   Bois\n",
              "341  3067441.0  1º trimestre 2014                  Vacas\n",
              "342  8372872.0  1º trimestre 2014                  Total\n",
              "343   447977.0  1º trimestre 2014               Novilhos\n",
              "344   863763.0  1º trimestre 2014               Novilhas"
            ]
          },
          "metadata": {
            "tags": []
          },
          "execution_count": 92
        }
      ]
    },
    {
      "cell_type": "code",
      "metadata": {
        "id": "O_84GEzp4Xao"
      },
      "source": [
        "#Separar dados pelo tipo de rebanho\n",
        "bois = sidra3[sidra3[\"Tipo de rebanho bovino\"] == \"Bois\"]\n",
        "vacas = sidra3[sidra3[\"Tipo de rebanho bovino\"] == \"Vacas\"]\n",
        "novilhas = sidra3[sidra3[\"Tipo de rebanho bovino\"] == \"Novilhos\"]\n",
        "novilhos = sidra3[sidra3[\"Tipo de rebanho bovino\"] == \"Novilhas\"]\n",
        "total = sidra3[sidra3[\"Tipo de rebanho bovino\"] == \"Total\"]"
      ],
      "execution_count": 93,
      "outputs": []
    },
    {
      "cell_type": "code",
      "metadata": {
        "id": "TRouEEkX1rSV"
      },
      "source": [
        "#Função de contador\n",
        "def contador(dataframe):\n",
        "  dataframe2 = dataframe.reset_index()\n",
        "  dataframe2 = dataframe2.iloc[:, 1:]\n",
        "  dataframe2[\"Count\"] = dataframe2.index + 1\n",
        "  return dataframe2\n",
        "\n",
        "#Criar contador de trimestre\n",
        "bois = contador(bois)\n",
        "vacas = contador(vacas)\n",
        "novilhas = contador(novilhas)\n",
        "novilhos = contador(novilhos)\n",
        "total = contador(total)"
      ],
      "execution_count": 118,
      "outputs": []
    },
    {
      "cell_type": "markdown",
      "metadata": {
        "id": "IY3o8ZVvCfy7"
      },
      "source": [
        "##Análises exploratória"
      ]
    },
    {
      "cell_type": "markdown",
      "metadata": {
        "id": "HAr3xfQfCDXW"
      },
      "source": [
        "###Pré-processamento\n"
      ]
    },
    {
      "cell_type": "markdown",
      "metadata": {
        "id": "5C85F-gHCKJE"
      },
      "source": [
        "### Análises da série temporal"
      ]
    },
    {
      "cell_type": "markdown",
      "metadata": {
        "id": "BHiCF_sbCVp1"
      },
      "source": [
        "## Modelo de previsão"
      ]
    },
    {
      "cell_type": "markdown",
      "metadata": {
        "id": "z9wObyKVDEAe"
      },
      "source": [
        "### Tratamento dos dados"
      ]
    },
    {
      "cell_type": "markdown",
      "metadata": {
        "id": "JFrit6o9DYRD"
      },
      "source": [
        "##Conclusão"
      ]
    }
  ]
}