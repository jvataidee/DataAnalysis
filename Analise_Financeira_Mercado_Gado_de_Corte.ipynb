{
  "nbformat": 4,
  "nbformat_minor": 0,
  "metadata": {
    "colab": {
      "name": "Otimização_Abate_de_Gado_de_Corte.ipynb",
      "provenance": [],
      "collapsed_sections": [],
      "include_colab_link": true
    },
    "kernelspec": {
      "name": "python3",
      "display_name": "Python 3"
    },
    "language_info": {
      "name": "python"
    }
  },
  "cells": [
    {
      "cell_type": "markdown",
      "metadata": {
        "id": "view-in-github",
        "colab_type": "text"
      },
      "source": [
        "<a href=\"https://colab.research.google.com/github/jvataidee/DataAnalysis/blob/master/Analise_Financeira_Mercado_Gado_de_Corte.ipynb\" target=\"_parent\"><img src=\"https://colab.research.google.com/assets/colab-badge.svg\" alt=\"Open In Colab\"/></a>"
      ]
    },
    {
      "cell_type": "markdown",
      "metadata": {
        "id": "iyF3cpCh9xBf"
      },
      "source": [
        "\n",
        "<p align=\"center\"><img src=\"https://static.wixstatic.com/media/bdd7cb_ce7cb603d09d4263921dda3fb68a395f~mv2.png\" height=\"75px\"></p>\n",
        "\n",
        "**by: [João Ataíde](https://www.joaoataide.com)**\n",
        "# Análise Mercado Financeira de Gado de Corte\n",
        "\n",
        "\n",
        "---\n",
        "\n",
        "<p align=\"center\"><img src=\"https://static.wixstatic.com/media/bdd7cb_a59ef6dfb8914eea869878888a5d0acd~mv2.jpg\"></p>\n",
        "\n",
        "Saber que a agricultura é nosso pilar da economia isso não novidade, mas como é possível realizar análises financeiras das commodites? como aplicar ciência de dados para esses mercados? como prever tedências de mercado? como o produtor pode controlar uma industria a céu aberto que é sujeita a diversas variáveis exogenas? \n",
        "\n",
        "Foi devido a isso que criei este artigo, onde pretendo realizar algumas análises financeiras, mostrando alguns indicadores e técnincas utilizadas no mercado do agro, neste caso a pecuária especificamente a cultura de animais de corte.\n",
        "\n",
        "## O que são commodities?\n",
        "\n",
        "- Live Cattle - Boi Gordo\n",
        "- Feeder Cattle - Bezerro\n",
        "\n",
        "## Como analisas commodities?\n"
      ]
    },
    {
      "cell_type": "markdown",
      "metadata": {
        "id": "-jEcTjEbDMfM"
      },
      "source": [
        "## Importanto bibliotecas básicas"
      ]
    },
    {
      "cell_type": "code",
      "metadata": {
        "id": "iHyBpQRa9lg5"
      },
      "source": [
        "#importar bibliotecas básicas\n",
        "import pandas as pd\n",
        "import numpy as np\n",
        "import matplotlib.pyplot as plt\n",
        "import seaborn as sns\n",
        "\n",
        "# configurar a visualização\n",
        "sns.set()\n",
        "%matplotlib inline\n",
        "%config InlineBackend.figure_format = 'svg'"
      ],
      "execution_count": 1,
      "outputs": []
    },
    {
      "cell_type": "markdown",
      "metadata": {
        "id": "7iwDAi1hA_Nu"
      },
      "source": [
        "## Obtenção dos dados"
      ]
    },
    {
      "cell_type": "markdown",
      "metadata": {
        "id": "8t7BdNiNA5R-"
      },
      "source": [
        "Encontrar dados para começar as análises sempre é um processo complicado, em especial quando a gente está falando de um eixo de mercado ainda muito artesanal, o qual etá modificando agora seu modo com a Pecuária 4.0, assim, não foi possível encontrar uma API nacional que automatize a obtenção dados sobre o preço das commodities.\n",
        "\n",
        "Então, para isso realizei a instalação de duas bibliotecas investpy, API criada a parti da plataforma [investing.com](https://investing.com/) que possui diversos bases de dados financeiras, não somente de commodities. Outra biblioteca que foi necessária foi a [Yahoo! Finance](https://finance.yahoo.com/) a qual utilizei para obter os dados referentes a cotas do dollar.\n"
      ]
    },
    {
      "cell_type": "code",
      "metadata": {
        "id": "aFfpT5tHBfhs",
        "outputId": "2ac74424-1506-4597-ead7-e76164293077",
        "colab": {
          "base_uri": "https://localhost:8080/"
        }
      },
      "source": [
        "!pip install investpy -q"
      ],
      "execution_count": 2,
      "outputs": [
        {
          "output_type": "stream",
          "text": [
            "\u001b[K     |████████████████████████████████| 4.4 MB 4.9 MB/s \n",
            "\u001b[K     |████████████████████████████████| 241 kB 45.6 MB/s \n",
            "\u001b[K     |████████████████████████████████| 6.3 MB 38.9 MB/s \n",
            "\u001b[K     |████████████████████████████████| 510 kB 42.6 MB/s \n",
            "\u001b[?25h  Building wheel for investpy (setup.py) ... \u001b[?25l\u001b[?25hdone\n"
          ],
          "name": "stdout"
        }
      ]
    },
    {
      "cell_type": "code",
      "metadata": {
        "id": "rEVIsMYn7RGH",
        "outputId": "24524538-1dc6-484c-dd59-cacc30ce2f45",
        "colab": {
          "base_uri": "https://localhost:8080/"
        }
      },
      "source": [
        "!pip install yfinance -q"
      ],
      "execution_count": 3,
      "outputs": [
        {
          "output_type": "stream",
          "text": [
            "  Building wheel for yfinance (setup.py) ... \u001b[?25l\u001b[?25hdone\n"
          ],
          "name": "stdout"
        }
      ]
    },
    {
      "cell_type": "code",
      "metadata": {
        "id": "R_iTVMN7HPES"
      },
      "source": [
        "pip install -U sidrapy -q"
      ],
      "execution_count": 4,
      "outputs": []
    },
    {
      "cell_type": "code",
      "metadata": {
        "id": "BPSmATfGDQSp"
      },
      "source": [
        "#importar bibliotecas financeiras\n",
        "import investpy\n",
        "import yfinance as yf\n",
        "import sidrapy"
      ],
      "execution_count": 5,
      "outputs": []
    },
    {
      "cell_type": "code",
      "metadata": {
        "id": "JNLqIvJwgO1Y"
      },
      "source": [
        "#Lista de commodities\n",
        "commodities = [\"Live Cattle\", \"Feeder Cattle\", ]\n",
        "\n",
        "#Data de inicio e fim de análise\n",
        "inicio = \"01/07/2014\"\n",
        "fim = \"01/07/2021\""
      ],
      "execution_count": 6,
      "outputs": []
    },
    {
      "cell_type": "code",
      "metadata": {
        "id": "FuwlmI-8a3_D"
      },
      "source": [
        "#Função para importar dados das commodities\n",
        "def commodities_df(commodities, inicio,fim):\n",
        "  precos = pd.DataFrame()\n",
        "  for i in commodities:\n",
        "    df = investpy.commodities.get_commodity_historical_data(commodity=i, from_date=inicio, to_date=fim).Close\n",
        "    df.rename(i, inplace=True)\n",
        "    df.columns = [i]\n",
        "    precos = pd.concat([precos,df], axis=1)\n",
        "    precos.index.name=\"Date\"\n",
        "  return precos"
      ],
      "execution_count": 7,
      "outputs": []
    },
    {
      "cell_type": "code",
      "metadata": {
        "colab": {
          "base_uri": "https://localhost:8080/",
          "height": 234
        },
        "id": "OsLp0Ck9f0Ke",
        "outputId": "3a7d1710-55bc-4078-c0e2-42a7d18f2adf"
      },
      "source": [
        "#Data Frame de commodites\n",
        "df = commodities_df(commodities,inicio,fim)\n",
        "df.head()"
      ],
      "execution_count": 8,
      "outputs": [
        {
          "output_type": "execute_result",
          "data": {
            "text/html": [
              "<div>\n",
              "<style scoped>\n",
              "    .dataframe tbody tr th:only-of-type {\n",
              "        vertical-align: middle;\n",
              "    }\n",
              "\n",
              "    .dataframe tbody tr th {\n",
              "        vertical-align: top;\n",
              "    }\n",
              "\n",
              "    .dataframe thead th {\n",
              "        text-align: right;\n",
              "    }\n",
              "</style>\n",
              "<table border=\"1\" class=\"dataframe\">\n",
              "  <thead>\n",
              "    <tr style=\"text-align: right;\">\n",
              "      <th></th>\n",
              "      <th>Live Cattle</th>\n",
              "      <th>Feeder Cattle</th>\n",
              "    </tr>\n",
              "    <tr>\n",
              "      <th>Date</th>\n",
              "      <th></th>\n",
              "      <th></th>\n",
              "    </tr>\n",
              "  </thead>\n",
              "  <tbody>\n",
              "    <tr>\n",
              "      <th>2014-07-01 00:00:00</th>\n",
              "      <td>151.500</td>\n",
              "      <td>215.78</td>\n",
              "    </tr>\n",
              "    <tr>\n",
              "      <th>2014-07-02 00:00:00</th>\n",
              "      <td>152.325</td>\n",
              "      <td>216.20</td>\n",
              "    </tr>\n",
              "    <tr>\n",
              "      <th>2014-07-03 00:00:00</th>\n",
              "      <td>155.000</td>\n",
              "      <td>217.62</td>\n",
              "    </tr>\n",
              "    <tr>\n",
              "      <th>2014-07-07 00:00:00</th>\n",
              "      <td>154.950</td>\n",
              "      <td>218.00</td>\n",
              "    </tr>\n",
              "    <tr>\n",
              "      <th>2014-07-08 00:00:00</th>\n",
              "      <td>153.525</td>\n",
              "      <td>215.90</td>\n",
              "    </tr>\n",
              "  </tbody>\n",
              "</table>\n",
              "</div>"
            ],
            "text/plain": [
              "                     Live Cattle  Feeder Cattle\n",
              "Date                                           \n",
              "2014-07-01 00:00:00      151.500         215.78\n",
              "2014-07-02 00:00:00      152.325         216.20\n",
              "2014-07-03 00:00:00      155.000         217.62\n",
              "2014-07-07 00:00:00      154.950         218.00\n",
              "2014-07-08 00:00:00      153.525         215.90"
            ]
          },
          "metadata": {
            "tags": []
          },
          "execution_count": 8
        }
      ]
    },
    {
      "cell_type": "code",
      "metadata": {
        "colab": {
          "base_uri": "https://localhost:8080/",
          "height": 234
        },
        "id": "yUnF6IAXnq6-",
        "outputId": "bf434ee0-37b1-40bd-f69f-d93286fced6d"
      },
      "source": [
        "#Importar historico do dollar\n",
        "doll = yf.Ticker(\"USDBRL=x\")\n",
        "dollar = pd.DataFrame(doll.history(start =\"2014-07-01\", end =\"2021-07-01\" ).Close)\n",
        "dollar.columns = [\"Dollar\"]\n",
        "dollar.index.name=\"Date\"\n",
        "dollar.head()"
      ],
      "execution_count": 9,
      "outputs": [
        {
          "output_type": "execute_result",
          "data": {
            "text/html": [
              "<div>\n",
              "<style scoped>\n",
              "    .dataframe tbody tr th:only-of-type {\n",
              "        vertical-align: middle;\n",
              "    }\n",
              "\n",
              "    .dataframe tbody tr th {\n",
              "        vertical-align: top;\n",
              "    }\n",
              "\n",
              "    .dataframe thead th {\n",
              "        text-align: right;\n",
              "    }\n",
              "</style>\n",
              "<table border=\"1\" class=\"dataframe\">\n",
              "  <thead>\n",
              "    <tr style=\"text-align: right;\">\n",
              "      <th></th>\n",
              "      <th>Dollar</th>\n",
              "    </tr>\n",
              "    <tr>\n",
              "      <th>Date</th>\n",
              "      <th></th>\n",
              "    </tr>\n",
              "  </thead>\n",
              "  <tbody>\n",
              "    <tr>\n",
              "      <th>2014-07-01</th>\n",
              "      <td>2.2117</td>\n",
              "    </tr>\n",
              "    <tr>\n",
              "      <th>2014-07-02</th>\n",
              "      <td>2.1981</td>\n",
              "    </tr>\n",
              "    <tr>\n",
              "      <th>2014-07-03</th>\n",
              "      <td>2.2223</td>\n",
              "    </tr>\n",
              "    <tr>\n",
              "      <th>2014-07-04</th>\n",
              "      <td>2.2068</td>\n",
              "    </tr>\n",
              "    <tr>\n",
              "      <th>2014-07-07</th>\n",
              "      <td>2.2098</td>\n",
              "    </tr>\n",
              "  </tbody>\n",
              "</table>\n",
              "</div>"
            ],
            "text/plain": [
              "            Dollar\n",
              "Date              \n",
              "2014-07-01  2.2117\n",
              "2014-07-02  2.1981\n",
              "2014-07-03  2.2223\n",
              "2014-07-04  2.2068\n",
              "2014-07-07  2.2098"
            ]
          },
          "metadata": {
            "tags": []
          },
          "execution_count": 9
        }
      ]
    },
    {
      "cell_type": "code",
      "metadata": {
        "id": "byL6KyWYPvqh"
      },
      "source": [
        "https://apisidra.ibge.gov.br/values/t/1092/n1/all/v/all/p/all/c12716/all/c18/55,56,992,111734,111735/c12529/all/d/v1000151%202,v1000284%202,v1000285%202"
      ],
      "execution_count": null,
      "outputs": []
    },
    {
      "cell_type": "code",
      "metadata": {
        "id": "BSE_zWpmSDLF",
        "outputId": "35735571-1105-4d44-af82-93442a982291",
        "colab": {
          "base_uri": "https://localhost:8080/",
          "height": 203
        }
      },
      "source": [
        "import pandas as pd\n",
        "import requests\n",
        "\n",
        "consulta = 'https://apisidra.ibge.gov.br/values/t/1092/n1/all/v/all/p/all/c12716/all/c18/55,56,992,111734,111735/c12529/all/d/v1000151%202,v1000284%202,v1000285%202'\n",
        "ufs = [5]\n",
        "\n",
        "df2 = pd.DataFrame()\n",
        "for uf in ufs:\n",
        "    url = consulta.format(uf)\n",
        "    dados_json = requests.get(url).json()\n",
        "    dados_pandas = pd.DataFrame(dados_json)\n",
        "    df2 = pd.concat([dados_pandas,df2])\n",
        "    \n",
        "sidra = df2.copy() \n",
        "colunas = list(df2.iloc[0,:])\n",
        "sidra.columns = colunas\n",
        "sidra = sidra.iloc[1:,:]\n",
        "sidra = sidra[sidra[\"Variável\"]==\"Animais abatidos\"]\n",
        "sidra = sidra[sidra[\"Tipo de inspeção\"]==\"Federal\"]\n",
        "sidra = sidra.iloc[:, [4, 10, 14]]\n",
        "sidra = sidra.drop(sidra[sidra[\"Valor\"] == 'X'].index)\n",
        "sidra[\"Valor\"] = sidra[\"Valor\"].astype(float)\n",
        "\n",
        "sidra.head()"
      ],
      "execution_count": 117,
      "outputs": [
        {
          "output_type": "execute_result",
          "data": {
            "text/html": [
              "<div>\n",
              "<style scoped>\n",
              "    .dataframe tbody tr th:only-of-type {\n",
              "        vertical-align: middle;\n",
              "    }\n",
              "\n",
              "    .dataframe tbody tr th {\n",
              "        vertical-align: top;\n",
              "    }\n",
              "\n",
              "    .dataframe thead th {\n",
              "        text-align: right;\n",
              "    }\n",
              "</style>\n",
              "<table border=\"1\" class=\"dataframe\">\n",
              "  <thead>\n",
              "    <tr style=\"text-align: right;\">\n",
              "      <th></th>\n",
              "      <th>Valor</th>\n",
              "      <th>Trimestre</th>\n",
              "      <th>Tipo de rebanho bovino</th>\n",
              "    </tr>\n",
              "  </thead>\n",
              "  <tbody>\n",
              "    <tr>\n",
              "      <th>15522</th>\n",
              "      <td>1376884.0</td>\n",
              "      <td>1º trimestre 1997</td>\n",
              "      <td>Bois</td>\n",
              "    </tr>\n",
              "    <tr>\n",
              "      <th>15526</th>\n",
              "      <td>867851.0</td>\n",
              "      <td>1º trimestre 1997</td>\n",
              "      <td>Vacas</td>\n",
              "    </tr>\n",
              "    <tr>\n",
              "      <th>15530</th>\n",
              "      <td>2726534.0</td>\n",
              "      <td>1º trimestre 1997</td>\n",
              "      <td>Total</td>\n",
              "    </tr>\n",
              "    <tr>\n",
              "      <th>15534</th>\n",
              "      <td>376902.0</td>\n",
              "      <td>1º trimestre 1997</td>\n",
              "      <td>Novilhos</td>\n",
              "    </tr>\n",
              "    <tr>\n",
              "      <th>15538</th>\n",
              "      <td>101791.0</td>\n",
              "      <td>1º trimestre 1997</td>\n",
              "      <td>Novilhas</td>\n",
              "    </tr>\n",
              "  </tbody>\n",
              "</table>\n",
              "</div>"
            ],
            "text/plain": [
              "           Valor          Trimestre Tipo de rebanho bovino\n",
              "15522  1376884.0  1º trimestre 1997                   Bois\n",
              "15526   867851.0  1º trimestre 1997                  Vacas\n",
              "15530  2726534.0  1º trimestre 1997                  Total\n",
              "15534   376902.0  1º trimestre 1997               Novilhos\n",
              "15538   101791.0  1º trimestre 1997               Novilhas"
            ]
          },
          "metadata": {
            "tags": []
          },
          "execution_count": 117
        }
      ]
    },
    {
      "cell_type": "code",
      "metadata": {
        "id": "vBp1bRJOXYh_"
      },
      "source": [
        "bois = sidra[sidra[\"Tipo de rebanho bovino\"]==\"Bois\"]\n",
        "vacas = sidra[sidra[\"Tipo de rebanho bovino\"]==\"Vacas\"]\n",
        "novilhas = sidra[sidra[\"Tipo de rebanho bovino\"]==\"Novilhas\"]\n",
        "novilhos = sidra[sidra[\"Tipo de rebanho bovino\"]==\"Novilhos\"]\n",
        "totais = sidra[sidra[\"Tipo de rebanho bovino\"]==\"Total\"]"
      ],
      "execution_count": 118,
      "outputs": []
    },
    {
      "cell_type": "markdown",
      "metadata": {
        "id": "IY3o8ZVvCfy7"
      },
      "source": [
        "##Análises exploratória"
      ]
    },
    {
      "cell_type": "markdown",
      "metadata": {
        "id": "HAr3xfQfCDXW"
      },
      "source": [
        "###Pré-processamento\n"
      ]
    },
    {
      "cell_type": "markdown",
      "metadata": {
        "id": "5C85F-gHCKJE"
      },
      "source": [
        "### Análises da série temporal"
      ]
    },
    {
      "cell_type": "markdown",
      "metadata": {
        "id": "BHiCF_sbCVp1"
      },
      "source": [
        "## Modelo de previsão"
      ]
    },
    {
      "cell_type": "markdown",
      "metadata": {
        "id": "z9wObyKVDEAe"
      },
      "source": [
        "### Tratamento dos dados"
      ]
    },
    {
      "cell_type": "markdown",
      "metadata": {
        "id": "JFrit6o9DYRD"
      },
      "source": [
        "##Conclusão"
      ]
    }
  ]
}