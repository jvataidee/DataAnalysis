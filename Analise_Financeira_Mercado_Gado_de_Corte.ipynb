{
  "nbformat": 4,
  "nbformat_minor": 0,
  "metadata": {
    "colab": {
      "name": "Analise_Financeira_Mercado_Gado_de_Corte.ipynb",
      "provenance": [],
      "collapsed_sections": [],
      "include_colab_link": true
    },
    "kernelspec": {
      "name": "python3",
      "display_name": "Python 3"
    },
    "language_info": {
      "name": "python"
    }
  },
  "cells": [
    {
      "cell_type": "markdown",
      "metadata": {
        "id": "view-in-github",
        "colab_type": "text"
      },
      "source": [
        "<a href=\"https://colab.research.google.com/github/jvataidee/DataAnalysis/blob/master/Analise_Financeira_Mercado_Gado_de_Corte.ipynb\" target=\"_parent\"><img src=\"https://colab.research.google.com/assets/colab-badge.svg\" alt=\"Open In Colab\"/></a>"
      ]
    },
    {
      "cell_type": "markdown",
      "metadata": {
        "id": "iyF3cpCh9xBf"
      },
      "source": [
        "**by: [João Ataíde](https://www.joaoataide.com)**\n",
        "# Análise Mercado Financeira de Gado de Corte\n",
        "\n",
        "\n",
        "---\n"
      ]
    },
    {
      "cell_type": "markdown",
      "metadata": {
        "id": "-jEcTjEbDMfM"
      },
      "source": [
        "## Importanto bibliotecas básicas"
      ]
    },
    {
      "cell_type": "code",
      "metadata": {
        "id": "iHyBpQRa9lg5"
      },
      "source": [
        "#importar bibliotecas básicas\n",
        "import pandas as pd\n",
        "import numpy as np\n",
        "import matplotlib.pyplot as plt\n",
        "import seaborn as sns\n",
        "\n",
        "# configurar a visualização\n",
        "sns.set()\n",
        "%matplotlib inline\n",
        "%config InlineBackend.figure_format = 'svg'"
      ],
      "execution_count": 1,
      "outputs": []
    },
    {
      "cell_type": "markdown",
      "metadata": {
        "id": "7iwDAi1hA_Nu"
      },
      "source": [
        "## Obtenção dos dados"
      ]
    },
    {
      "cell_type": "code",
      "metadata": {
        "id": "aFfpT5tHBfhs",
        "outputId": "5c1ff84f-7c0f-4940-efa5-8f79ba0715d8",
        "colab": {
          "base_uri": "https://localhost:8080/"
        }
      },
      "source": [
        "!pip install investpy -q"
      ],
      "execution_count": 2,
      "outputs": [
        {
          "output_type": "stream",
          "text": [
            "\u001b[K     |████████████████████████████████| 4.4 MB 9.0 MB/s \n",
            "\u001b[K     |████████████████████████████████| 241 kB 58.1 MB/s \n",
            "\u001b[K     |████████████████████████████████| 6.3 MB 31.9 MB/s \n",
            "\u001b[K     |████████████████████████████████| 510 kB 48.3 MB/s \n",
            "\u001b[?25h  Building wheel for investpy (setup.py) ... \u001b[?25l\u001b[?25hdone\n"
          ],
          "name": "stdout"
        }
      ]
    },
    {
      "cell_type": "code",
      "metadata": {
        "id": "rEVIsMYn7RGH",
        "outputId": "5bb25dab-79a5-435c-a16b-9e280adf7b00",
        "colab": {
          "base_uri": "https://localhost:8080/"
        }
      },
      "source": [
        "!pip install yfinance -q"
      ],
      "execution_count": 3,
      "outputs": [
        {
          "output_type": "stream",
          "text": [
            "  Building wheel for yfinance (setup.py) ... \u001b[?25l\u001b[?25hdone\n"
          ],
          "name": "stdout"
        }
      ]
    },
    {
      "cell_type": "code",
      "metadata": {
        "id": "BPSmATfGDQSp"
      },
      "source": [
        "#importar bibliotecas financeiras\n",
        "import investpy\n",
        "import yfinance as yf"
      ],
      "execution_count": 5,
      "outputs": []
    },
    {
      "cell_type": "markdown",
      "metadata": {
        "id": "wFLXpq1q40V_"
      },
      "source": [
        "### Dados de Commodities"
      ]
    },
    {
      "cell_type": "code",
      "metadata": {
        "id": "JNLqIvJwgO1Y"
      },
      "source": [
        "#Lista de commodities\n",
        "commodities = [\"Live Cattle\", \"Feeder Cattle\", \"US Soybeans\",\"US Corn\"]\n",
        "\n",
        "#Data de inicio e fim de análise\n",
        "inicio = \"01/01/2014\"\n",
        "fim = \"31/12/2020\""
      ],
      "execution_count": 8,
      "outputs": []
    },
    {
      "cell_type": "code",
      "metadata": {
        "id": "FuwlmI-8a3_D",
        "colab": {
          "base_uri": "https://localhost:8080/",
          "height": 234
        },
        "outputId": "4c38906e-7d61-4cca-a16f-ecf11538016f"
      },
      "source": [
        "#Função para importar dados das commodities\n",
        "def commodities_df(commodities, inicio,fim):\n",
        "  precos = pd.DataFrame()\n",
        "  for i in commodities:\n",
        "    df = investpy.commodities.get_commodity_historical_data(commodity=i, from_date=inicio, to_date=fim).Close\n",
        "    df.rename(i, inplace=True)\n",
        "    df.columns = [i]\n",
        "    precos = pd.concat([precos,df], axis=1)\n",
        "    precos.index.name=\"Date\"\n",
        "  return precos\n",
        "\n",
        "\n",
        "#Data Frame de commodites\n",
        "df = commodities_df(commodities,inicio,fim)\n",
        "\n",
        "#Importar dollar\n",
        "doll = yf.Ticker(\"USDBRL=x\")\n",
        "dollar = pd.DataFrame(doll.history(start =\"2014-01-01\", end =\"2020-12-31\" ).Close)\n",
        "dollar.columns = [\"Dollar\"]\n",
        "dollar.index.name=\"Date\"\n",
        "\n",
        "#Concatenar dado\n",
        "dados =pd.merge(df, dollar, how='inner', right_index=True, left_index=True)\n",
        "dados.head()"
      ],
      "execution_count": 10,
      "outputs": [
        {
          "output_type": "execute_result",
          "data": {
            "text/html": [
              "<div>\n",
              "<style scoped>\n",
              "    .dataframe tbody tr th:only-of-type {\n",
              "        vertical-align: middle;\n",
              "    }\n",
              "\n",
              "    .dataframe tbody tr th {\n",
              "        vertical-align: top;\n",
              "    }\n",
              "\n",
              "    .dataframe thead th {\n",
              "        text-align: right;\n",
              "    }\n",
              "</style>\n",
              "<table border=\"1\" class=\"dataframe\">\n",
              "  <thead>\n",
              "    <tr style=\"text-align: right;\">\n",
              "      <th></th>\n",
              "      <th>Live Cattle</th>\n",
              "      <th>Feeder Cattle</th>\n",
              "      <th>US Soybeans</th>\n",
              "      <th>US Corn</th>\n",
              "      <th>Dollar</th>\n",
              "    </tr>\n",
              "    <tr>\n",
              "      <th>Date</th>\n",
              "      <th></th>\n",
              "      <th></th>\n",
              "      <th></th>\n",
              "      <th></th>\n",
              "      <th></th>\n",
              "    </tr>\n",
              "  </thead>\n",
              "  <tbody>\n",
              "    <tr>\n",
              "      <th>2014-01-01</th>\n",
              "      <td>134.688</td>\n",
              "      <td>NaN</td>\n",
              "      <td>1289.38</td>\n",
              "      <td>421.38</td>\n",
              "      <td>2.3592</td>\n",
              "    </tr>\n",
              "    <tr>\n",
              "      <th>2014-01-02</th>\n",
              "      <td>135.625</td>\n",
              "      <td>167.00</td>\n",
              "      <td>1270.75</td>\n",
              "      <td>420.50</td>\n",
              "      <td>2.3571</td>\n",
              "    </tr>\n",
              "    <tr>\n",
              "      <th>2014-01-03</th>\n",
              "      <td>136.300</td>\n",
              "      <td>167.62</td>\n",
              "      <td>1271.75</td>\n",
              "      <td>423.50</td>\n",
              "      <td>2.3847</td>\n",
              "    </tr>\n",
              "    <tr>\n",
              "      <th>2014-01-06</th>\n",
              "      <td>136.825</td>\n",
              "      <td>168.03</td>\n",
              "      <td>1278.13</td>\n",
              "      <td>427.75</td>\n",
              "      <td>2.3715</td>\n",
              "    </tr>\n",
              "    <tr>\n",
              "      <th>2014-01-07</th>\n",
              "      <td>136.525</td>\n",
              "      <td>168.05</td>\n",
              "      <td>1274.50</td>\n",
              "      <td>426.00</td>\n",
              "      <td>2.3737</td>\n",
              "    </tr>\n",
              "  </tbody>\n",
              "</table>\n",
              "</div>"
            ],
            "text/plain": [
              "            Live Cattle  Feeder Cattle  US Soybeans  US Corn  Dollar\n",
              "Date                                                                \n",
              "2014-01-01      134.688            NaN      1289.38   421.38  2.3592\n",
              "2014-01-02      135.625         167.00      1270.75   420.50  2.3571\n",
              "2014-01-03      136.300         167.62      1271.75   423.50  2.3847\n",
              "2014-01-06      136.825         168.03      1278.13   427.75  2.3715\n",
              "2014-01-07      136.525         168.05      1274.50   426.00  2.3737"
            ]
          },
          "metadata": {
            "tags": []
          },
          "execution_count": 10
        }
      ]
    },
    {
      "cell_type": "code",
      "metadata": {
        "colab": {
          "base_uri": "https://localhost:8080/",
          "height": 203
        },
        "id": "D25TSMCtxahO",
        "outputId": "543dd4a9-3db5-444c-d17e-44c717db79c1"
      },
      "source": [
        "#Agrupar a média por trimestre\n",
        "dados_trimestre = dados.groupby(pd.Grouper(freq='Q')).mean()\n",
        "dados_trimestre = dados_trimestre.reset_index()\n",
        "dados_trimestre.head()"
      ],
      "execution_count": 11,
      "outputs": [
        {
          "output_type": "execute_result",
          "data": {
            "text/html": [
              "<div>\n",
              "<style scoped>\n",
              "    .dataframe tbody tr th:only-of-type {\n",
              "        vertical-align: middle;\n",
              "    }\n",
              "\n",
              "    .dataframe tbody tr th {\n",
              "        vertical-align: top;\n",
              "    }\n",
              "\n",
              "    .dataframe thead th {\n",
              "        text-align: right;\n",
              "    }\n",
              "</style>\n",
              "<table border=\"1\" class=\"dataframe\">\n",
              "  <thead>\n",
              "    <tr style=\"text-align: right;\">\n",
              "      <th></th>\n",
              "      <th>Date</th>\n",
              "      <th>Live Cattle</th>\n",
              "      <th>Feeder Cattle</th>\n",
              "      <th>US Soybeans</th>\n",
              "      <th>US Corn</th>\n",
              "      <th>Dollar</th>\n",
              "    </tr>\n",
              "  </thead>\n",
              "  <tbody>\n",
              "    <tr>\n",
              "      <th>0</th>\n",
              "      <td>2014-03-31</td>\n",
              "      <td>142.532871</td>\n",
              "      <td>171.350492</td>\n",
              "      <td>1351.535000</td>\n",
              "      <td>451.977903</td>\n",
              "      <td>2.361074</td>\n",
              "    </tr>\n",
              "    <tr>\n",
              "      <th>1</th>\n",
              "      <td>2014-06-30</td>\n",
              "      <td>142.672619</td>\n",
              "      <td>190.970476</td>\n",
              "      <td>1462.786349</td>\n",
              "      <td>479.190476</td>\n",
              "      <td>2.225935</td>\n",
              "    </tr>\n",
              "    <tr>\n",
              "      <th>2</th>\n",
              "      <td>2014-09-30</td>\n",
              "      <td>154.548047</td>\n",
              "      <td>220.610000</td>\n",
              "      <td>1089.502969</td>\n",
              "      <td>359.718750</td>\n",
              "      <td>2.268325</td>\n",
              "    </tr>\n",
              "    <tr>\n",
              "      <th>3</th>\n",
              "      <td>2014-12-31</td>\n",
              "      <td>165.997308</td>\n",
              "      <td>233.692187</td>\n",
              "      <td>1008.709385</td>\n",
              "      <td>372.705846</td>\n",
              "      <td>2.538731</td>\n",
              "    </tr>\n",
              "    <tr>\n",
              "      <th>4</th>\n",
              "      <td>2015-03-31</td>\n",
              "      <td>157.177049</td>\n",
              "      <td>210.525246</td>\n",
              "      <td>991.899180</td>\n",
              "      <td>384.864754</td>\n",
              "      <td>2.864362</td>\n",
              "    </tr>\n",
              "  </tbody>\n",
              "</table>\n",
              "</div>"
            ],
            "text/plain": [
              "        Date  Live Cattle  Feeder Cattle  US Soybeans     US Corn    Dollar\n",
              "0 2014-03-31   142.532871     171.350492  1351.535000  451.977903  2.361074\n",
              "1 2014-06-30   142.672619     190.970476  1462.786349  479.190476  2.225935\n",
              "2 2014-09-30   154.548047     220.610000  1089.502969  359.718750  2.268325\n",
              "3 2014-12-31   165.997308     233.692187  1008.709385  372.705846  2.538731\n",
              "4 2015-03-31   157.177049     210.525246   991.899180  384.864754  2.864362"
            ]
          },
          "metadata": {
            "tags": []
          },
          "execution_count": 11
        }
      ]
    },
    {
      "cell_type": "markdown",
      "metadata": {
        "id": "88CdpPXg34ke"
      },
      "source": [
        "### Dados do SIDRA"
      ]
    },
    {
      "cell_type": "code",
      "metadata": {
        "colab": {
          "base_uri": "https://localhost:8080/",
          "height": 221
        },
        "id": "BfaIAApC34w4",
        "outputId": "e31e2880-b76a-4fb0-da11-571c9b99ddc3"
      },
      "source": [
        "import requests\n",
        "\n",
        "#link do banco de dados sidra\n",
        "consulta = 'https://apisidra.ibge.gov.br/values/t/1092/n1/all/v/all/p/all/c12716/all/c18/55,56,992,111734,111735/c12529/all/d/v1000151%202,v1000284%202,v1000285%202'\n",
        "ufs = [5]\n",
        "\n",
        "#Baixar dados do sidra\n",
        "df2 = pd.DataFrame()\n",
        "for uf in ufs:\n",
        "    url = consulta.format(uf)\n",
        "    dados_json = requests.get(url).json()\n",
        "    dados_pandas = pd.DataFrame(dados_json)\n",
        "    df2 = pd.concat([dados_pandas,df2])\n",
        "  \n",
        "#Renomear colunas\n",
        "sidra = df2.copy() \n",
        "colunas = list(df2.iloc[0,:])\n",
        "sidra.columns = colunas\n",
        "\n",
        "#Filtrar dados\n",
        "sidra = sidra.iloc[1:,:]\n",
        "sidra = sidra[sidra[\"Variável\"]==\"Animais abatidos\"]\n",
        "sidra = sidra[sidra[\"Tipo de inspeção\"]==\"Total\"]\n",
        "sidra = sidra[sidra[\"Unidade de Medida\"]==\"Cabeças\"]\n",
        "sidra = sidra[sidra[\"Referência temporal\"]==\"Total do trimestre\"]\n",
        "\n",
        "#Escolher colunas necessárias para a análise\n",
        "sidra = sidra.reset_index()\n",
        "sidra = sidra.iloc[:, [5, 11, 15]]\n",
        "\n",
        "#Dropar coluna de valor X\n",
        "sidra = sidra.drop(sidra[sidra[\"Valor\"] == 'X'].index)\n",
        "\n",
        "#tranformar valor em float\n",
        "sidra[\"Valor\"] = sidra[\"Valor\"].astype(float)\n",
        "\n",
        "#Encontrar datas\n",
        "times = sidra.Trimestre.str.split(expand=True)\n",
        "times[2] = pd.to_datetime(times[2])\n",
        "sidra3 = sidra.copy()\n",
        "sidra3 = sidra3[times[2] >= \"2014-01-01\"]\n",
        "sidra3 = sidra3[times[2] < \"2021-01-01\"]\n",
        "sidra3.head()"
      ],
      "execution_count": 12,
      "outputs": [
        {
          "output_type": "stream",
          "text": [
            "/usr/local/lib/python3.7/dist-packages/ipykernel_launcher.py:42: UserWarning: Boolean Series key will be reindexed to match DataFrame index.\n"
          ],
          "name": "stderr"
        },
        {
          "output_type": "execute_result",
          "data": {
            "text/html": [
              "<div>\n",
              "<style scoped>\n",
              "    .dataframe tbody tr th:only-of-type {\n",
              "        vertical-align: middle;\n",
              "    }\n",
              "\n",
              "    .dataframe tbody tr th {\n",
              "        vertical-align: top;\n",
              "    }\n",
              "\n",
              "    .dataframe thead th {\n",
              "        text-align: right;\n",
              "    }\n",
              "</style>\n",
              "<table border=\"1\" class=\"dataframe\">\n",
              "  <thead>\n",
              "    <tr style=\"text-align: right;\">\n",
              "      <th></th>\n",
              "      <th>Valor</th>\n",
              "      <th>Trimestre</th>\n",
              "      <th>Tipo de rebanho bovino</th>\n",
              "    </tr>\n",
              "  </thead>\n",
              "  <tbody>\n",
              "    <tr>\n",
              "      <th>340</th>\n",
              "      <td>3993691.0</td>\n",
              "      <td>1º trimestre 2014</td>\n",
              "      <td>Bois</td>\n",
              "    </tr>\n",
              "    <tr>\n",
              "      <th>341</th>\n",
              "      <td>3067441.0</td>\n",
              "      <td>1º trimestre 2014</td>\n",
              "      <td>Vacas</td>\n",
              "    </tr>\n",
              "    <tr>\n",
              "      <th>342</th>\n",
              "      <td>8372872.0</td>\n",
              "      <td>1º trimestre 2014</td>\n",
              "      <td>Total</td>\n",
              "    </tr>\n",
              "    <tr>\n",
              "      <th>343</th>\n",
              "      <td>447977.0</td>\n",
              "      <td>1º trimestre 2014</td>\n",
              "      <td>Novilhos</td>\n",
              "    </tr>\n",
              "    <tr>\n",
              "      <th>344</th>\n",
              "      <td>863763.0</td>\n",
              "      <td>1º trimestre 2014</td>\n",
              "      <td>Novilhas</td>\n",
              "    </tr>\n",
              "  </tbody>\n",
              "</table>\n",
              "</div>"
            ],
            "text/plain": [
              "         Valor          Trimestre Tipo de rebanho bovino\n",
              "340  3993691.0  1º trimestre 2014                   Bois\n",
              "341  3067441.0  1º trimestre 2014                  Vacas\n",
              "342  8372872.0  1º trimestre 2014                  Total\n",
              "343   447977.0  1º trimestre 2014               Novilhos\n",
              "344   863763.0  1º trimestre 2014               Novilhas"
            ]
          },
          "metadata": {
            "tags": []
          },
          "execution_count": 12
        }
      ]
    },
    {
      "cell_type": "code",
      "metadata": {
        "id": "O_84GEzp4Xao"
      },
      "source": [
        "#Separar dados pelo tipo de rebanho\n",
        "bois = sidra3[sidra3[\"Tipo de rebanho bovino\"] == \"Bois\"]\n",
        "vacas = sidra3[sidra3[\"Tipo de rebanho bovino\"] == \"Vacas\"]\n",
        "novilhas = sidra3[sidra3[\"Tipo de rebanho bovino\"] == \"Novilhos\"]\n",
        "novilhos = sidra3[sidra3[\"Tipo de rebanho bovino\"] == \"Novilhas\"]\n",
        "total = sidra3[sidra3[\"Tipo de rebanho bovino\"] == \"Total\"]"
      ],
      "execution_count": 16,
      "outputs": []
    },
    {
      "cell_type": "code",
      "metadata": {
        "id": "TRouEEkX1rSV"
      },
      "source": [
        "#Função de contador\n",
        "def pre_join(dataframe, nome):\n",
        "  dataframe = dataframe.reset_index()\n",
        "  dataframe = dataframe.iloc[:, [1]]\n",
        "  dataframe.columns = [nome]\n",
        "  return dataframe\n",
        "\n",
        "#Criar contador de trimestre\n",
        "bois = pre_join(bois, \"Bois\")\n",
        "vacas = pre_join(vacas, \"Vacas\")\n",
        "novilhas = pre_join(novilhas, \"Novilhas\")\n",
        "novilhos = pre_join(novilhos, \"Novilhos\")\n",
        "total = pre_join(total, \"Total\")"
      ],
      "execution_count": 17,
      "outputs": []
    },
    {
      "cell_type": "markdown",
      "metadata": {
        "id": "dC0M1aw28lN3"
      },
      "source": [
        "### Juntar os dois datasets"
      ]
    },
    {
      "cell_type": "code",
      "metadata": {
        "colab": {
          "base_uri": "https://localhost:8080/",
          "height": 234
        },
        "id": "KxRh7_Ic8sn1",
        "outputId": "bb2d0400-0eb5-4c0e-9161-8e4f466da650"
      },
      "source": [
        "#Função de join\n",
        "df_final = dados_trimestre.copy()\n",
        "df_final = df_final.join(bois)\n",
        "df_final = df_final.join(vacas)\n",
        "df_final = df_final.join(novilhas)\n",
        "df_final = df_final.join(novilhos)\n",
        "df_final = df_final.join(total)\n",
        "\n",
        "#indexar por data\n",
        "df_final=df_final.set_index(\"Date\")\n",
        "df_final.head()"
      ],
      "execution_count": 18,
      "outputs": [
        {
          "output_type": "execute_result",
          "data": {
            "text/html": [
              "<div>\n",
              "<style scoped>\n",
              "    .dataframe tbody tr th:only-of-type {\n",
              "        vertical-align: middle;\n",
              "    }\n",
              "\n",
              "    .dataframe tbody tr th {\n",
              "        vertical-align: top;\n",
              "    }\n",
              "\n",
              "    .dataframe thead th {\n",
              "        text-align: right;\n",
              "    }\n",
              "</style>\n",
              "<table border=\"1\" class=\"dataframe\">\n",
              "  <thead>\n",
              "    <tr style=\"text-align: right;\">\n",
              "      <th></th>\n",
              "      <th>Live Cattle</th>\n",
              "      <th>Feeder Cattle</th>\n",
              "      <th>US Soybeans</th>\n",
              "      <th>US Corn</th>\n",
              "      <th>Dollar</th>\n",
              "      <th>Bois</th>\n",
              "      <th>Vacas</th>\n",
              "      <th>Novilhas</th>\n",
              "      <th>Novilhos</th>\n",
              "      <th>Total</th>\n",
              "    </tr>\n",
              "    <tr>\n",
              "      <th>Date</th>\n",
              "      <th></th>\n",
              "      <th></th>\n",
              "      <th></th>\n",
              "      <th></th>\n",
              "      <th></th>\n",
              "      <th></th>\n",
              "      <th></th>\n",
              "      <th></th>\n",
              "      <th></th>\n",
              "      <th></th>\n",
              "    </tr>\n",
              "  </thead>\n",
              "  <tbody>\n",
              "    <tr>\n",
              "      <th>2014-03-31</th>\n",
              "      <td>142.532871</td>\n",
              "      <td>171.350492</td>\n",
              "      <td>1351.535000</td>\n",
              "      <td>451.977903</td>\n",
              "      <td>2.361074</td>\n",
              "      <td>3993691.0</td>\n",
              "      <td>3067441.0</td>\n",
              "      <td>447977.0</td>\n",
              "      <td>863763.0</td>\n",
              "      <td>8372872.0</td>\n",
              "    </tr>\n",
              "    <tr>\n",
              "      <th>2014-06-30</th>\n",
              "      <td>142.672619</td>\n",
              "      <td>190.970476</td>\n",
              "      <td>1462.786349</td>\n",
              "      <td>479.190476</td>\n",
              "      <td>2.225935</td>\n",
              "      <td>4317627.0</td>\n",
              "      <td>2899909.0</td>\n",
              "      <td>438998.0</td>\n",
              "      <td>882370.0</td>\n",
              "      <td>8538904.0</td>\n",
              "    </tr>\n",
              "    <tr>\n",
              "      <th>2014-09-30</th>\n",
              "      <td>154.548047</td>\n",
              "      <td>220.610000</td>\n",
              "      <td>1089.502969</td>\n",
              "      <td>359.718750</td>\n",
              "      <td>2.268325</td>\n",
              "      <td>4627826.0</td>\n",
              "      <td>2561439.0</td>\n",
              "      <td>561864.0</td>\n",
              "      <td>719751.0</td>\n",
              "      <td>8470880.0</td>\n",
              "    </tr>\n",
              "    <tr>\n",
              "      <th>2014-12-31</th>\n",
              "      <td>165.997308</td>\n",
              "      <td>233.692187</td>\n",
              "      <td>1008.709385</td>\n",
              "      <td>372.705846</td>\n",
              "      <td>2.538731</td>\n",
              "      <td>4780410.0</td>\n",
              "      <td>2501305.0</td>\n",
              "      <td>565254.0</td>\n",
              "      <td>678093.0</td>\n",
              "      <td>8525062.0</td>\n",
              "    </tr>\n",
              "    <tr>\n",
              "      <th>2015-03-31</th>\n",
              "      <td>157.177049</td>\n",
              "      <td>210.525246</td>\n",
              "      <td>991.899180</td>\n",
              "      <td>384.864754</td>\n",
              "      <td>2.864362</td>\n",
              "      <td>3967926.0</td>\n",
              "      <td>2669421.0</td>\n",
              "      <td>363654.0</td>\n",
              "      <td>738649.0</td>\n",
              "      <td>7739650.0</td>\n",
              "    </tr>\n",
              "  </tbody>\n",
              "</table>\n",
              "</div>"
            ],
            "text/plain": [
              "            Live Cattle  Feeder Cattle  ...  Novilhos      Total\n",
              "Date                                    ...                     \n",
              "2014-03-31   142.532871     171.350492  ...  863763.0  8372872.0\n",
              "2014-06-30   142.672619     190.970476  ...  882370.0  8538904.0\n",
              "2014-09-30   154.548047     220.610000  ...  719751.0  8470880.0\n",
              "2014-12-31   165.997308     233.692187  ...  678093.0  8525062.0\n",
              "2015-03-31   157.177049     210.525246  ...  738649.0  7739650.0\n",
              "\n",
              "[5 rows x 10 columns]"
            ]
          },
          "metadata": {
            "tags": []
          },
          "execution_count": 18
        }
      ]
    },
    {
      "cell_type": "markdown",
      "metadata": {
        "id": "IY3o8ZVvCfy7"
      },
      "source": [
        "##Análises exploratória"
      ]
    },
    {
      "cell_type": "markdown",
      "metadata": {
        "id": "HAr3xfQfCDXW"
      },
      "source": [
        "###Pré-processamento\n"
      ]
    },
    {
      "cell_type": "markdown",
      "metadata": {
        "id": "5C85F-gHCKJE"
      },
      "source": [
        "### Análises da série temporal"
      ]
    },
    {
      "cell_type": "markdown",
      "metadata": {
        "id": "BHiCF_sbCVp1"
      },
      "source": [
        "## Modelo de previsão"
      ]
    },
    {
      "cell_type": "markdown",
      "metadata": {
        "id": "z9wObyKVDEAe"
      },
      "source": [
        "### Tratamento dos dados"
      ]
    },
    {
      "cell_type": "markdown",
      "metadata": {
        "id": "JFrit6o9DYRD"
      },
      "source": [
        "##Conclusão"
      ]
    }
  ]
}