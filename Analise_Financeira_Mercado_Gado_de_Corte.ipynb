{
  "nbformat": 4,
  "nbformat_minor": 0,
  "metadata": {
    "colab": {
      "name": "Analise_Financeira_Mercado_Gado_de_Corte.ipynb",
      "provenance": [],
      "collapsed_sections": [],
      "include_colab_link": true
    },
    "kernelspec": {
      "name": "python3",
      "display_name": "Python 3"
    },
    "language_info": {
      "name": "python"
    }
  },
  "cells": [
    {
      "cell_type": "markdown",
      "metadata": {
        "id": "view-in-github",
        "colab_type": "text"
      },
      "source": [
        "<a href=\"https://colab.research.google.com/github/jvataidee/DataAnalysis/blob/master/Analise_Financeira_Mercado_Gado_de_Corte.ipynb\" target=\"_parent\"><img src=\"https://colab.research.google.com/assets/colab-badge.svg\" alt=\"Open In Colab\"/></a>"
      ]
    },
    {
      "cell_type": "markdown",
      "metadata": {
        "id": "iyF3cpCh9xBf"
      },
      "source": [
        "**by: [João Ataíde](https://www.joaoataide.com)**\n",
        "# Análise Mercado Financeira de Gado de Corte\n",
        "\n",
        "\n",
        "---\n"
      ]
    },
    {
      "cell_type": "markdown",
      "metadata": {
        "id": "-jEcTjEbDMfM"
      },
      "source": [
        "## Importanto bibliotecas básicas"
      ]
    },
    {
      "cell_type": "code",
      "metadata": {
        "id": "iHyBpQRa9lg5"
      },
      "source": [
        "#importar bibliotecas básicas\n",
        "import pandas as pd\n",
        "import numpy as np\n",
        "import matplotlib.pyplot as plt\n",
        "import seaborn as sns\n",
        "\n",
        "# configurar a visualização\n",
        "sns.set()\n",
        "%matplotlib inline\n",
        "%config InlineBackend.figure_format = 'svg'"
      ],
      "execution_count": 1,
      "outputs": []
    },
    {
      "cell_type": "markdown",
      "metadata": {
        "id": "7iwDAi1hA_Nu"
      },
      "source": [
        "## Obtenção dos dados"
      ]
    },
    {
      "cell_type": "markdown",
      "metadata": {
        "id": "8t7BdNiNA5R-"
      },
      "source": [
        "Encontrar dados para começar as análises sempre é um processo complicado, em especial quando a gente está falando de um eixo de mercado ainda muito artesanal, o qual etá modificando agora seu modo com a Pecuária 4.0, assim, não foi possível encontrar uma API nacional que automatize a obtenção dados sobre o preço das commodities.\n",
        "\n",
        "Então, para isso realizei a instalação de duas bibliotecas investpy, API criada a parti da plataforma [investing.com](https://investing.com/) que possui diversos bases de dados financeiras, não somente de commodities. Outra biblioteca que foi necessária foi a [Yahoo! Finance](https://finance.yahoo.com/) a qual utilizei para obter os dados referentes a cotas do dollar.\n"
      ]
    },
    {
      "cell_type": "code",
      "metadata": {
        "id": "aFfpT5tHBfhs"
      },
      "source": [
        "!pip install investpy -q"
      ],
      "execution_count": null,
      "outputs": []
    },
    {
      "cell_type": "code",
      "metadata": {
        "id": "rEVIsMYn7RGH"
      },
      "source": [
        "!pip install yfinance -q"
      ],
      "execution_count": null,
      "outputs": []
    },
    {
      "cell_type": "code",
      "metadata": {
        "id": "R_iTVMN7HPES"
      },
      "source": [
        "pip install -U sidrapy -q"
      ],
      "execution_count": 4,
      "outputs": []
    },
    {
      "cell_type": "code",
      "metadata": {
        "id": "BPSmATfGDQSp"
      },
      "source": [
        "#importar bibliotecas financeiras\n",
        "import investpy\n",
        "import yfinance as yf\n",
        "import sidrapy"
      ],
      "execution_count": 5,
      "outputs": []
    },
    {
      "cell_type": "markdown",
      "metadata": {
        "id": "wFLXpq1q40V_"
      },
      "source": [
        "### Dados de Commodities"
      ]
    },
    {
      "cell_type": "code",
      "metadata": {
        "id": "JNLqIvJwgO1Y"
      },
      "source": [
        "#Lista de commodities\n",
        "commodities = [\"Live Cattle\", \"Feeder Cattle\", ]\n",
        "\n",
        "#Data de inicio e fim de análise\n",
        "inicio = \"01/01/2014\"\n",
        "fim = \"31/12/2020\""
      ],
      "execution_count": 87,
      "outputs": []
    },
    {
      "cell_type": "code",
      "metadata": {
        "id": "FuwlmI-8a3_D",
        "colab": {
          "base_uri": "https://localhost:8080/",
          "height": 234
        },
        "outputId": "6a1b00f6-d35d-41e0-bc14-7f17ad5c3c0c"
      },
      "source": [
        "#Função para importar dados das commodities\n",
        "def commodities_df(commodities, inicio,fim):\n",
        "  precos = pd.DataFrame()\n",
        "  for i in commodities:\n",
        "    df = investpy.commodities.get_commodity_historical_data(commodity=i, from_date=inicio, to_date=fim).Close\n",
        "    df.rename(i, inplace=True)\n",
        "    df.columns = [i]\n",
        "    precos = pd.concat([precos,df], axis=1)\n",
        "    precos.index.name=\"Date\"\n",
        "  return precos\n",
        "\n",
        "\n",
        "#Data Frame de commodites\n",
        "df = commodities_df(commodities,inicio,fim)\n",
        "\n",
        "#Importar dollar\n",
        "doll = yf.Ticker(\"USDBRL=x\")\n",
        "dollar = pd.DataFrame(doll.history(start =\"2014-01-01\", end =\"2020-12-31\" ).Close)\n",
        "dollar.columns = [\"Dollar\"]\n",
        "dollar.index.name=\"Date\"\n",
        "\n",
        "#Concatenar dado\n",
        "dados =pd.merge(df, dollar, how='inner', right_index=True, left_index=True)\n",
        "dados.head()"
      ],
      "execution_count": 88,
      "outputs": [
        {
          "output_type": "execute_result",
          "data": {
            "text/html": [
              "<div>\n",
              "<style scoped>\n",
              "    .dataframe tbody tr th:only-of-type {\n",
              "        vertical-align: middle;\n",
              "    }\n",
              "\n",
              "    .dataframe tbody tr th {\n",
              "        vertical-align: top;\n",
              "    }\n",
              "\n",
              "    .dataframe thead th {\n",
              "        text-align: right;\n",
              "    }\n",
              "</style>\n",
              "<table border=\"1\" class=\"dataframe\">\n",
              "  <thead>\n",
              "    <tr style=\"text-align: right;\">\n",
              "      <th></th>\n",
              "      <th>Live Cattle</th>\n",
              "      <th>Feeder Cattle</th>\n",
              "      <th>Dollar</th>\n",
              "    </tr>\n",
              "    <tr>\n",
              "      <th>Date</th>\n",
              "      <th></th>\n",
              "      <th></th>\n",
              "      <th></th>\n",
              "    </tr>\n",
              "  </thead>\n",
              "  <tbody>\n",
              "    <tr>\n",
              "      <th>2014-01-01</th>\n",
              "      <td>134.688</td>\n",
              "      <td>NaN</td>\n",
              "      <td>2.3592</td>\n",
              "    </tr>\n",
              "    <tr>\n",
              "      <th>2014-01-02</th>\n",
              "      <td>135.625</td>\n",
              "      <td>167.00</td>\n",
              "      <td>2.3571</td>\n",
              "    </tr>\n",
              "    <tr>\n",
              "      <th>2014-01-03</th>\n",
              "      <td>136.300</td>\n",
              "      <td>167.62</td>\n",
              "      <td>2.3847</td>\n",
              "    </tr>\n",
              "    <tr>\n",
              "      <th>2014-01-06</th>\n",
              "      <td>136.825</td>\n",
              "      <td>168.03</td>\n",
              "      <td>2.3715</td>\n",
              "    </tr>\n",
              "    <tr>\n",
              "      <th>2014-01-07</th>\n",
              "      <td>136.525</td>\n",
              "      <td>168.05</td>\n",
              "      <td>2.3737</td>\n",
              "    </tr>\n",
              "  </tbody>\n",
              "</table>\n",
              "</div>"
            ],
            "text/plain": [
              "            Live Cattle  Feeder Cattle  Dollar\n",
              "Date                                          \n",
              "2014-01-01      134.688            NaN  2.3592\n",
              "2014-01-02      135.625         167.00  2.3571\n",
              "2014-01-03      136.300         167.62  2.3847\n",
              "2014-01-06      136.825         168.03  2.3715\n",
              "2014-01-07      136.525         168.05  2.3737"
            ]
          },
          "metadata": {
            "tags": []
          },
          "execution_count": 88
        }
      ]
    },
    {
      "cell_type": "code",
      "metadata": {
        "colab": {
          "base_uri": "https://localhost:8080/",
          "height": 203
        },
        "id": "D25TSMCtxahO",
        "outputId": "b20df136-b79f-4c1f-8c58-2743578041e1"
      },
      "source": [
        "dados_trimestre = dados.groupby(pd.Grouper(freq='Q')).mean()\n",
        "dados_trimestre = dados_trimestre.reset_index()\n",
        "dados_trimestre.head()"
      ],
      "execution_count": 133,
      "outputs": [
        {
          "output_type": "execute_result",
          "data": {
            "text/html": [
              "<div>\n",
              "<style scoped>\n",
              "    .dataframe tbody tr th:only-of-type {\n",
              "        vertical-align: middle;\n",
              "    }\n",
              "\n",
              "    .dataframe tbody tr th {\n",
              "        vertical-align: top;\n",
              "    }\n",
              "\n",
              "    .dataframe thead th {\n",
              "        text-align: right;\n",
              "    }\n",
              "</style>\n",
              "<table border=\"1\" class=\"dataframe\">\n",
              "  <thead>\n",
              "    <tr style=\"text-align: right;\">\n",
              "      <th></th>\n",
              "      <th>Date</th>\n",
              "      <th>Live Cattle</th>\n",
              "      <th>Feeder Cattle</th>\n",
              "      <th>Dollar</th>\n",
              "    </tr>\n",
              "  </thead>\n",
              "  <tbody>\n",
              "    <tr>\n",
              "      <th>0</th>\n",
              "      <td>2014-03-31</td>\n",
              "      <td>142.532871</td>\n",
              "      <td>171.350492</td>\n",
              "      <td>2.361074</td>\n",
              "    </tr>\n",
              "    <tr>\n",
              "      <th>1</th>\n",
              "      <td>2014-06-30</td>\n",
              "      <td>142.672619</td>\n",
              "      <td>190.970476</td>\n",
              "      <td>2.225935</td>\n",
              "    </tr>\n",
              "    <tr>\n",
              "      <th>2</th>\n",
              "      <td>2014-09-30</td>\n",
              "      <td>154.548047</td>\n",
              "      <td>220.610000</td>\n",
              "      <td>2.268325</td>\n",
              "    </tr>\n",
              "    <tr>\n",
              "      <th>3</th>\n",
              "      <td>2014-12-31</td>\n",
              "      <td>165.997308</td>\n",
              "      <td>233.692187</td>\n",
              "      <td>2.538731</td>\n",
              "    </tr>\n",
              "    <tr>\n",
              "      <th>4</th>\n",
              "      <td>2015-03-31</td>\n",
              "      <td>157.177049</td>\n",
              "      <td>210.525246</td>\n",
              "      <td>2.864362</td>\n",
              "    </tr>\n",
              "  </tbody>\n",
              "</table>\n",
              "</div>"
            ],
            "text/plain": [
              "        Date  Live Cattle  Feeder Cattle    Dollar\n",
              "0 2014-03-31   142.532871     171.350492  2.361074\n",
              "1 2014-06-30   142.672619     190.970476  2.225935\n",
              "2 2014-09-30   154.548047     220.610000  2.268325\n",
              "3 2014-12-31   165.997308     233.692187  2.538731\n",
              "4 2015-03-31   157.177049     210.525246  2.864362"
            ]
          },
          "metadata": {
            "tags": []
          },
          "execution_count": 133
        }
      ]
    },
    {
      "cell_type": "markdown",
      "metadata": {
        "id": "88CdpPXg34ke"
      },
      "source": [
        "### Dados do SIDRA"
      ]
    },
    {
      "cell_type": "code",
      "metadata": {
        "colab": {
          "base_uri": "https://localhost:8080/",
          "height": 203
        },
        "id": "BfaIAApC34w4",
        "outputId": "f56f9491-aa4d-4cf2-c8ce-5974662d4b83"
      },
      "source": [
        "import requests\n",
        "\n",
        "#link do banco de dados sidra\n",
        "consulta = 'https://apisidra.ibge.gov.br/values/t/1092/n1/all/v/all/p/all/c12716/all/c18/55,56,992,111734,111735/c12529/all/d/v1000151%202,v1000284%202,v1000285%202'\n",
        "ufs = [5]\n",
        "\n",
        "#Baixar dados do sidra\n",
        "df2 = pd.DataFrame()\n",
        "for uf in ufs:\n",
        "    url = consulta.format(uf)\n",
        "    dados_json = requests.get(url).json()\n",
        "    dados_pandas = pd.DataFrame(dados_json)\n",
        "    df2 = pd.concat([dados_pandas,df2])\n",
        "  \n",
        "#Renomear colunas\n",
        "sidra = df2.copy() \n",
        "colunas = list(df2.iloc[0,:])\n",
        "sidra.columns = colunas\n",
        "\n",
        "#Filtrar dados\n",
        "sidra = sidra.iloc[1:,:]\n",
        "sidra = sidra[sidra[\"Variável\"]==\"Animais abatidos\"]\n",
        "sidra = sidra[sidra[\"Tipo de inspeção\"]==\"Total\"]\n",
        "sidra = sidra[sidra[\"Unidade de Medida\"]==\"Cabeças\"]\n",
        "sidra = sidra[sidra[\"Tipo de inspeção\"]==\"Total\"]\n",
        "sidra = sidra[sidra[\"Referência temporal\"]==\"Total do trimestre\"]\n",
        "\n",
        "#Escolher colunas necessárias para a análise\n",
        "sidra = sidra.reset_index()\n",
        "sidra = sidra.iloc[:, [5, 11, 15]]\n",
        "\n",
        "#Dropar coluna de valor X\n",
        "sidra = sidra.drop(sidra[sidra[\"Valor\"] == 'X'].index)\n",
        "\n",
        "#tranformar valor em float\n",
        "sidra[\"Valor\"] = sidra[\"Valor\"].astype(float)\n",
        "sidra.head()"
      ],
      "execution_count": 91,
      "outputs": [
        {
          "output_type": "execute_result",
          "data": {
            "text/html": [
              "<div>\n",
              "<style scoped>\n",
              "    .dataframe tbody tr th:only-of-type {\n",
              "        vertical-align: middle;\n",
              "    }\n",
              "\n",
              "    .dataframe tbody tr th {\n",
              "        vertical-align: top;\n",
              "    }\n",
              "\n",
              "    .dataframe thead th {\n",
              "        text-align: right;\n",
              "    }\n",
              "</style>\n",
              "<table border=\"1\" class=\"dataframe\">\n",
              "  <thead>\n",
              "    <tr style=\"text-align: right;\">\n",
              "      <th></th>\n",
              "      <th>Valor</th>\n",
              "      <th>Trimestre</th>\n",
              "      <th>Tipo de rebanho bovino</th>\n",
              "    </tr>\n",
              "  </thead>\n",
              "  <tbody>\n",
              "    <tr>\n",
              "      <th>0</th>\n",
              "      <td>1721468.0</td>\n",
              "      <td>1º trimestre 1997</td>\n",
              "      <td>Bois</td>\n",
              "    </tr>\n",
              "    <tr>\n",
              "      <th>1</th>\n",
              "      <td>1173546.0</td>\n",
              "      <td>1º trimestre 1997</td>\n",
              "      <td>Vacas</td>\n",
              "    </tr>\n",
              "    <tr>\n",
              "      <th>2</th>\n",
              "      <td>3510085.0</td>\n",
              "      <td>1º trimestre 1997</td>\n",
              "      <td>Total</td>\n",
              "    </tr>\n",
              "    <tr>\n",
              "      <th>3</th>\n",
              "      <td>468475.0</td>\n",
              "      <td>1º trimestre 1997</td>\n",
              "      <td>Novilhos</td>\n",
              "    </tr>\n",
              "    <tr>\n",
              "      <th>4</th>\n",
              "      <td>142442.0</td>\n",
              "      <td>1º trimestre 1997</td>\n",
              "      <td>Novilhas</td>\n",
              "    </tr>\n",
              "  </tbody>\n",
              "</table>\n",
              "</div>"
            ],
            "text/plain": [
              "       Valor          Trimestre Tipo de rebanho bovino\n",
              "0  1721468.0  1º trimestre 1997                   Bois\n",
              "1  1173546.0  1º trimestre 1997                  Vacas\n",
              "2  3510085.0  1º trimestre 1997                  Total\n",
              "3   468475.0  1º trimestre 1997               Novilhos\n",
              "4   142442.0  1º trimestre 1997               Novilhas"
            ]
          },
          "metadata": {
            "tags": []
          },
          "execution_count": 91
        }
      ]
    },
    {
      "cell_type": "code",
      "metadata": {
        "colab": {
          "base_uri": "https://localhost:8080/",
          "height": 238
        },
        "id": "1mxNHuuG-wOr",
        "outputId": "0fb24098-fa9a-478a-9585-3be6147b3632"
      },
      "source": [
        "#Encontrar datas\n",
        "times = sidra.Trimestre.str.split(expand=True)\n",
        "times[2] = pd.to_datetime(times[2])\n",
        "sidra3 = sidra.copy()\n",
        "sidra3 = sidra3[times[2] >= \"2014-01-01\"]\n",
        "sidra3 = sidra3[times[2] < \"2021-01-01\"]\n",
        "sidra3.head()"
      ],
      "execution_count": 92,
      "outputs": [
        {
          "output_type": "stream",
          "text": [
            "/usr/local/lib/python3.7/dist-packages/ipykernel_launcher.py:6: UserWarning: Boolean Series key will be reindexed to match DataFrame index.\n",
            "  \n"
          ],
          "name": "stderr"
        },
        {
          "output_type": "execute_result",
          "data": {
            "text/html": [
              "<div>\n",
              "<style scoped>\n",
              "    .dataframe tbody tr th:only-of-type {\n",
              "        vertical-align: middle;\n",
              "    }\n",
              "\n",
              "    .dataframe tbody tr th {\n",
              "        vertical-align: top;\n",
              "    }\n",
              "\n",
              "    .dataframe thead th {\n",
              "        text-align: right;\n",
              "    }\n",
              "</style>\n",
              "<table border=\"1\" class=\"dataframe\">\n",
              "  <thead>\n",
              "    <tr style=\"text-align: right;\">\n",
              "      <th></th>\n",
              "      <th>Valor</th>\n",
              "      <th>Trimestre</th>\n",
              "      <th>Tipo de rebanho bovino</th>\n",
              "    </tr>\n",
              "  </thead>\n",
              "  <tbody>\n",
              "    <tr>\n",
              "      <th>340</th>\n",
              "      <td>3993691.0</td>\n",
              "      <td>1º trimestre 2014</td>\n",
              "      <td>Bois</td>\n",
              "    </tr>\n",
              "    <tr>\n",
              "      <th>341</th>\n",
              "      <td>3067441.0</td>\n",
              "      <td>1º trimestre 2014</td>\n",
              "      <td>Vacas</td>\n",
              "    </tr>\n",
              "    <tr>\n",
              "      <th>342</th>\n",
              "      <td>8372872.0</td>\n",
              "      <td>1º trimestre 2014</td>\n",
              "      <td>Total</td>\n",
              "    </tr>\n",
              "    <tr>\n",
              "      <th>343</th>\n",
              "      <td>447977.0</td>\n",
              "      <td>1º trimestre 2014</td>\n",
              "      <td>Novilhos</td>\n",
              "    </tr>\n",
              "    <tr>\n",
              "      <th>344</th>\n",
              "      <td>863763.0</td>\n",
              "      <td>1º trimestre 2014</td>\n",
              "      <td>Novilhas</td>\n",
              "    </tr>\n",
              "  </tbody>\n",
              "</table>\n",
              "</div>"
            ],
            "text/plain": [
              "         Valor          Trimestre Tipo de rebanho bovino\n",
              "340  3993691.0  1º trimestre 2014                   Bois\n",
              "341  3067441.0  1º trimestre 2014                  Vacas\n",
              "342  8372872.0  1º trimestre 2014                  Total\n",
              "343   447977.0  1º trimestre 2014               Novilhos\n",
              "344   863763.0  1º trimestre 2014               Novilhas"
            ]
          },
          "metadata": {
            "tags": []
          },
          "execution_count": 92
        }
      ]
    },
    {
      "cell_type": "code",
      "metadata": {
        "id": "O_84GEzp4Xao"
      },
      "source": [
        "#Separar dados pelo tipo de rebanho\n",
        "bois = sidra3[sidra3[\"Tipo de rebanho bovino\"] == \"Bois\"]\n",
        "vacas = sidra3[sidra3[\"Tipo de rebanho bovino\"] == \"Vacas\"]\n",
        "novilhas = sidra3[sidra3[\"Tipo de rebanho bovino\"] == \"Novilhos\"]\n",
        "novilhos = sidra3[sidra3[\"Tipo de rebanho bovino\"] == \"Novilhas\"]\n",
        "total = sidra3[sidra3[\"Tipo de rebanho bovino\"] == \"Total\"]\n",
        "\n",
        "#renomear coluna\n",
        "bois.columns = [\"Bois\", \"Tirmestre\", \"Tipo de rebanho bovino\"]"
      ],
      "execution_count": 123,
      "outputs": []
    },
    {
      "cell_type": "code",
      "metadata": {
        "id": "TRouEEkX1rSV"
      },
      "source": [
        "#Função de contador\n",
        "def pre_join(dataframe, nome):\n",
        "  dataframe = dataframe.reset_index()\n",
        "  dataframe = dataframe.iloc[:, [1]]\n",
        "  dataframe.columns = [nome]\n",
        "  return dataframe\n",
        "\n",
        "#Criar contador de trimestre\n",
        "bois = pre_join(bois, \"Bois\")\n",
        "vacas = pre_join(vacas, \"Vacas\")\n",
        "novilhas = pre_join(novilhas, \"Novilhas\")\n",
        "novilhos = pre_join(novilhos, \"Novilhos\")\n",
        "total = pre_join(total, \"Total\")"
      ],
      "execution_count": 148,
      "outputs": []
    },
    {
      "cell_type": "markdown",
      "metadata": {
        "id": "dC0M1aw28lN3"
      },
      "source": [
        "### Juntar os dois datasets"
      ]
    },
    {
      "cell_type": "code",
      "metadata": {
        "id": "KxRh7_Ic8sn1",
        "outputId": "8fb0c5cc-512e-4921-e5c7-769cb6846875",
        "colab": {
          "base_uri": "https://localhost:8080/",
          "height": 203
        }
      },
      "source": [
        "#Função de join\n",
        "df_final = dados_trimestre.copy()\n",
        "df_final = df_final.join(bois)\n",
        "df_final = df_final.join(vacas)\n",
        "df_final = df_final.join(novilhas)\n",
        "df_final = df_final.join(novilhos)\n",
        "df_final = df_final.join(total)\n",
        "df_final.head()"
      ],
      "execution_count": 151,
      "outputs": [
        {
          "output_type": "execute_result",
          "data": {
            "text/html": [
              "<div>\n",
              "<style scoped>\n",
              "    .dataframe tbody tr th:only-of-type {\n",
              "        vertical-align: middle;\n",
              "    }\n",
              "\n",
              "    .dataframe tbody tr th {\n",
              "        vertical-align: top;\n",
              "    }\n",
              "\n",
              "    .dataframe thead th {\n",
              "        text-align: right;\n",
              "    }\n",
              "</style>\n",
              "<table border=\"1\" class=\"dataframe\">\n",
              "  <thead>\n",
              "    <tr style=\"text-align: right;\">\n",
              "      <th></th>\n",
              "      <th>Date</th>\n",
              "      <th>Live Cattle</th>\n",
              "      <th>Feeder Cattle</th>\n",
              "      <th>Dollar</th>\n",
              "      <th>Bois</th>\n",
              "      <th>Vacas</th>\n",
              "      <th>Novilhas</th>\n",
              "      <th>Novilhos</th>\n",
              "      <th>Total</th>\n",
              "    </tr>\n",
              "  </thead>\n",
              "  <tbody>\n",
              "    <tr>\n",
              "      <th>0</th>\n",
              "      <td>2014-03-31</td>\n",
              "      <td>142.532871</td>\n",
              "      <td>171.350492</td>\n",
              "      <td>2.361074</td>\n",
              "      <td>3993691.0</td>\n",
              "      <td>3067441.0</td>\n",
              "      <td>447977.0</td>\n",
              "      <td>863763.0</td>\n",
              "      <td>8372872.0</td>\n",
              "    </tr>\n",
              "    <tr>\n",
              "      <th>1</th>\n",
              "      <td>2014-06-30</td>\n",
              "      <td>142.672619</td>\n",
              "      <td>190.970476</td>\n",
              "      <td>2.225935</td>\n",
              "      <td>4317627.0</td>\n",
              "      <td>2899909.0</td>\n",
              "      <td>438998.0</td>\n",
              "      <td>882370.0</td>\n",
              "      <td>8538904.0</td>\n",
              "    </tr>\n",
              "    <tr>\n",
              "      <th>2</th>\n",
              "      <td>2014-09-30</td>\n",
              "      <td>154.548047</td>\n",
              "      <td>220.610000</td>\n",
              "      <td>2.268325</td>\n",
              "      <td>4627826.0</td>\n",
              "      <td>2561439.0</td>\n",
              "      <td>561864.0</td>\n",
              "      <td>719751.0</td>\n",
              "      <td>8470880.0</td>\n",
              "    </tr>\n",
              "    <tr>\n",
              "      <th>3</th>\n",
              "      <td>2014-12-31</td>\n",
              "      <td>165.997308</td>\n",
              "      <td>233.692187</td>\n",
              "      <td>2.538731</td>\n",
              "      <td>4780410.0</td>\n",
              "      <td>2501305.0</td>\n",
              "      <td>565254.0</td>\n",
              "      <td>678093.0</td>\n",
              "      <td>8525062.0</td>\n",
              "    </tr>\n",
              "    <tr>\n",
              "      <th>4</th>\n",
              "      <td>2015-03-31</td>\n",
              "      <td>157.177049</td>\n",
              "      <td>210.525246</td>\n",
              "      <td>2.864362</td>\n",
              "      <td>3967926.0</td>\n",
              "      <td>2669421.0</td>\n",
              "      <td>363654.0</td>\n",
              "      <td>738649.0</td>\n",
              "      <td>7739650.0</td>\n",
              "    </tr>\n",
              "  </tbody>\n",
              "</table>\n",
              "</div>"
            ],
            "text/plain": [
              "        Date  Live Cattle  Feeder Cattle  ...  Novilhas  Novilhos      Total\n",
              "0 2014-03-31   142.532871     171.350492  ...  447977.0  863763.0  8372872.0\n",
              "1 2014-06-30   142.672619     190.970476  ...  438998.0  882370.0  8538904.0\n",
              "2 2014-09-30   154.548047     220.610000  ...  561864.0  719751.0  8470880.0\n",
              "3 2014-12-31   165.997308     233.692187  ...  565254.0  678093.0  8525062.0\n",
              "4 2015-03-31   157.177049     210.525246  ...  363654.0  738649.0  7739650.0\n",
              "\n",
              "[5 rows x 9 columns]"
            ]
          },
          "metadata": {
            "tags": []
          },
          "execution_count": 151
        }
      ]
    },
    {
      "cell_type": "code",
      "metadata": {
        "id": "fVvNQ7nC_vH0",
        "outputId": "99f15ff6-2215-4175-b4f1-b1b4f57ab618",
        "colab": {
          "base_uri": "https://localhost:8080/",
          "height": 911
        }
      },
      "source": [
        "df_final"
      ],
      "execution_count": 143,
      "outputs": [
        {
          "output_type": "execute_result",
          "data": {
            "text/html": [
              "<div>\n",
              "<style scoped>\n",
              "    .dataframe tbody tr th:only-of-type {\n",
              "        vertical-align: middle;\n",
              "    }\n",
              "\n",
              "    .dataframe tbody tr th {\n",
              "        vertical-align: top;\n",
              "    }\n",
              "\n",
              "    .dataframe thead th {\n",
              "        text-align: right;\n",
              "    }\n",
              "</style>\n",
              "<table border=\"1\" class=\"dataframe\">\n",
              "  <thead>\n",
              "    <tr style=\"text-align: right;\">\n",
              "      <th></th>\n",
              "      <th>Date</th>\n",
              "      <th>Live Cattle</th>\n",
              "      <th>Feeder Cattle</th>\n",
              "      <th>Dollar</th>\n",
              "    </tr>\n",
              "  </thead>\n",
              "  <tbody>\n",
              "    <tr>\n",
              "      <th>0</th>\n",
              "      <td>2014-03-31</td>\n",
              "      <td>142.532871</td>\n",
              "      <td>171.350492</td>\n",
              "      <td>2.361074</td>\n",
              "    </tr>\n",
              "    <tr>\n",
              "      <th>1</th>\n",
              "      <td>2014-06-30</td>\n",
              "      <td>142.672619</td>\n",
              "      <td>190.970476</td>\n",
              "      <td>2.225935</td>\n",
              "    </tr>\n",
              "    <tr>\n",
              "      <th>2</th>\n",
              "      <td>2014-09-30</td>\n",
              "      <td>154.548047</td>\n",
              "      <td>220.610000</td>\n",
              "      <td>2.268325</td>\n",
              "    </tr>\n",
              "    <tr>\n",
              "      <th>3</th>\n",
              "      <td>2014-12-31</td>\n",
              "      <td>165.997308</td>\n",
              "      <td>233.692187</td>\n",
              "      <td>2.538731</td>\n",
              "    </tr>\n",
              "    <tr>\n",
              "      <th>4</th>\n",
              "      <td>2015-03-31</td>\n",
              "      <td>157.177049</td>\n",
              "      <td>210.525246</td>\n",
              "      <td>2.864362</td>\n",
              "    </tr>\n",
              "    <tr>\n",
              "      <th>5</th>\n",
              "      <td>2015-06-30</td>\n",
              "      <td>154.694531</td>\n",
              "      <td>218.881905</td>\n",
              "      <td>3.068503</td>\n",
              "    </tr>\n",
              "    <tr>\n",
              "      <th>6</th>\n",
              "      <td>2015-09-30</td>\n",
              "      <td>143.911338</td>\n",
              "      <td>207.060313</td>\n",
              "      <td>3.520658</td>\n",
              "    </tr>\n",
              "    <tr>\n",
              "      <th>7</th>\n",
              "      <td>2015-12-31</td>\n",
              "      <td>130.377734</td>\n",
              "      <td>173.554063</td>\n",
              "      <td>3.842519</td>\n",
              "    </tr>\n",
              "    <tr>\n",
              "      <th>8</th>\n",
              "      <td>2016-03-31</td>\n",
              "      <td>135.051639</td>\n",
              "      <td>158.540984</td>\n",
              "      <td>3.897398</td>\n",
              "    </tr>\n",
              "    <tr>\n",
              "      <th>9</th>\n",
              "      <td>2016-06-30</td>\n",
              "      <td>122.838672</td>\n",
              "      <td>147.086508</td>\n",
              "      <td>3.501720</td>\n",
              "    </tr>\n",
              "    <tr>\n",
              "      <th>10</th>\n",
              "      <td>2016-09-30</td>\n",
              "      <td>110.294846</td>\n",
              "      <td>140.555937</td>\n",
              "      <td>3.242698</td>\n",
              "    </tr>\n",
              "    <tr>\n",
              "      <th>11</th>\n",
              "      <td>2016-12-31</td>\n",
              "      <td>106.283730</td>\n",
              "      <td>125.844762</td>\n",
              "      <td>3.296757</td>\n",
              "    </tr>\n",
              "    <tr>\n",
              "      <th>12</th>\n",
              "      <td>2017-03-31</td>\n",
              "      <td>118.525806</td>\n",
              "      <td>127.805161</td>\n",
              "      <td>3.140139</td>\n",
              "    </tr>\n",
              "    <tr>\n",
              "      <th>13</th>\n",
              "      <td>2017-06-30</td>\n",
              "      <td>124.986111</td>\n",
              "      <td>144.554921</td>\n",
              "      <td>3.211083</td>\n",
              "    </tr>\n",
              "    <tr>\n",
              "      <th>14</th>\n",
              "      <td>2017-09-30</td>\n",
              "      <td>110.477823</td>\n",
              "      <td>147.107419</td>\n",
              "      <td>3.158590</td>\n",
              "    </tr>\n",
              "    <tr>\n",
              "      <th>15</th>\n",
              "      <td>2017-12-31</td>\n",
              "      <td>117.278629</td>\n",
              "      <td>152.154355</td>\n",
              "      <td>3.243268</td>\n",
              "    </tr>\n",
              "    <tr>\n",
              "      <th>16</th>\n",
              "      <td>2018-03-31</td>\n",
              "      <td>122.889344</td>\n",
              "      <td>144.877049</td>\n",
              "      <td>3.243471</td>\n",
              "    </tr>\n",
              "    <tr>\n",
              "      <th>17</th>\n",
              "      <td>2018-06-30</td>\n",
              "      <td>109.853516</td>\n",
              "      <td>140.801250</td>\n",
              "      <td>3.597400</td>\n",
              "    </tr>\n",
              "    <tr>\n",
              "      <th>18</th>\n",
              "      <td>2018-09-30</td>\n",
              "      <td>109.090873</td>\n",
              "      <td>152.209048</td>\n",
              "      <td>3.943960</td>\n",
              "    </tr>\n",
              "    <tr>\n",
              "      <th>19</th>\n",
              "      <td>2018-12-31</td>\n",
              "      <td>116.259766</td>\n",
              "      <td>150.576406</td>\n",
              "      <td>3.807872</td>\n",
              "    </tr>\n",
              "    <tr>\n",
              "      <th>20</th>\n",
              "      <td>2019-03-31</td>\n",
              "      <td>126.975410</td>\n",
              "      <td>143.314426</td>\n",
              "      <td>3.761336</td>\n",
              "    </tr>\n",
              "    <tr>\n",
              "      <th>21</th>\n",
              "      <td>2019-06-30</td>\n",
              "      <td>115.618254</td>\n",
              "      <td>140.010476</td>\n",
              "      <td>3.916484</td>\n",
              "    </tr>\n",
              "    <tr>\n",
              "      <th>22</th>\n",
              "      <td>2019-09-30</td>\n",
              "      <td>104.954000</td>\n",
              "      <td>138.508600</td>\n",
              "      <td>3.921518</td>\n",
              "    </tr>\n",
              "    <tr>\n",
              "      <th>23</th>\n",
              "      <td>2019-12-31</td>\n",
              "      <td>117.956356</td>\n",
              "      <td>144.603051</td>\n",
              "      <td>4.113124</td>\n",
              "    </tr>\n",
              "    <tr>\n",
              "      <th>24</th>\n",
              "      <td>2020-03-31</td>\n",
              "      <td>115.307540</td>\n",
              "      <td>134.802857</td>\n",
              "      <td>4.448513</td>\n",
              "    </tr>\n",
              "    <tr>\n",
              "      <th>25</th>\n",
              "      <td>2020-06-30</td>\n",
              "      <td>93.533203</td>\n",
              "      <td>125.676094</td>\n",
              "      <td>5.362974</td>\n",
              "    </tr>\n",
              "    <tr>\n",
              "      <th>26</th>\n",
              "      <td>2020-09-30</td>\n",
              "      <td>103.972266</td>\n",
              "      <td>140.869375</td>\n",
              "      <td>5.376181</td>\n",
              "    </tr>\n",
              "    <tr>\n",
              "      <th>27</th>\n",
              "      <td>2020-12-31</td>\n",
              "      <td>109.043231</td>\n",
              "      <td>138.415385</td>\n",
              "      <td>5.405579</td>\n",
              "    </tr>\n",
              "  </tbody>\n",
              "</table>\n",
              "</div>"
            ],
            "text/plain": [
              "         Date  Live Cattle  Feeder Cattle    Dollar\n",
              "0  2014-03-31   142.532871     171.350492  2.361074\n",
              "1  2014-06-30   142.672619     190.970476  2.225935\n",
              "2  2014-09-30   154.548047     220.610000  2.268325\n",
              "3  2014-12-31   165.997308     233.692187  2.538731\n",
              "4  2015-03-31   157.177049     210.525246  2.864362\n",
              "5  2015-06-30   154.694531     218.881905  3.068503\n",
              "6  2015-09-30   143.911338     207.060313  3.520658\n",
              "7  2015-12-31   130.377734     173.554063  3.842519\n",
              "8  2016-03-31   135.051639     158.540984  3.897398\n",
              "9  2016-06-30   122.838672     147.086508  3.501720\n",
              "10 2016-09-30   110.294846     140.555937  3.242698\n",
              "11 2016-12-31   106.283730     125.844762  3.296757\n",
              "12 2017-03-31   118.525806     127.805161  3.140139\n",
              "13 2017-06-30   124.986111     144.554921  3.211083\n",
              "14 2017-09-30   110.477823     147.107419  3.158590\n",
              "15 2017-12-31   117.278629     152.154355  3.243268\n",
              "16 2018-03-31   122.889344     144.877049  3.243471\n",
              "17 2018-06-30   109.853516     140.801250  3.597400\n",
              "18 2018-09-30   109.090873     152.209048  3.943960\n",
              "19 2018-12-31   116.259766     150.576406  3.807872\n",
              "20 2019-03-31   126.975410     143.314426  3.761336\n",
              "21 2019-06-30   115.618254     140.010476  3.916484\n",
              "22 2019-09-30   104.954000     138.508600  3.921518\n",
              "23 2019-12-31   117.956356     144.603051  4.113124\n",
              "24 2020-03-31   115.307540     134.802857  4.448513\n",
              "25 2020-06-30    93.533203     125.676094  5.362974\n",
              "26 2020-09-30   103.972266     140.869375  5.376181\n",
              "27 2020-12-31   109.043231     138.415385  5.405579"
            ]
          },
          "metadata": {
            "tags": []
          },
          "execution_count": 143
        }
      ]
    },
    {
      "cell_type": "code",
      "metadata": {
        "id": "CLw9CLeU_izn"
      },
      "source": [
        ""
      ],
      "execution_count": null,
      "outputs": []
    },
    {
      "cell_type": "code",
      "metadata": {
        "id": "o9-LFHWm8oNS"
      },
      "source": [
        "bois = contador(bois)\n",
        "vacas = contador(vacas)\n",
        "novilhas = contador(novilhas)\n",
        "novilhos = contador(novilhos)\n",
        "total = contador(total)"
      ],
      "execution_count": null,
      "outputs": []
    },
    {
      "cell_type": "markdown",
      "metadata": {
        "id": "IY3o8ZVvCfy7"
      },
      "source": [
        "##Análises exploratória"
      ]
    },
    {
      "cell_type": "markdown",
      "metadata": {
        "id": "HAr3xfQfCDXW"
      },
      "source": [
        "###Pré-processamento\n"
      ]
    },
    {
      "cell_type": "markdown",
      "metadata": {
        "id": "5C85F-gHCKJE"
      },
      "source": [
        "### Análises da série temporal"
      ]
    },
    {
      "cell_type": "markdown",
      "metadata": {
        "id": "BHiCF_sbCVp1"
      },
      "source": [
        "## Modelo de previsão"
      ]
    },
    {
      "cell_type": "markdown",
      "metadata": {
        "id": "z9wObyKVDEAe"
      },
      "source": [
        "### Tratamento dos dados"
      ]
    },
    {
      "cell_type": "markdown",
      "metadata": {
        "id": "JFrit6o9DYRD"
      },
      "source": [
        "##Conclusão"
      ]
    }
  ]
}