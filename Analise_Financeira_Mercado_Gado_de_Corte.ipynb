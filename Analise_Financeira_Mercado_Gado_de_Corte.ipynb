{
  "nbformat": 4,
  "nbformat_minor": 0,
  "metadata": {
    "colab": {
      "name": "Analise_Financeira_Mercado_Gado_de_Corte.ipynb",
      "provenance": [],
      "collapsed_sections": [],
      "toc_visible": true,
      "include_colab_link": true
    },
    "kernelspec": {
      "name": "python3",
      "display_name": "Python 3"
    },
    "language_info": {
      "name": "python"
    },
    "accelerator": "GPU"
  },
  "cells": [
    {
      "cell_type": "markdown",
      "metadata": {
        "id": "view-in-github",
        "colab_type": "text"
      },
      "source": [
        "<a href=\"https://colab.research.google.com/github/jvataidee/DataAnalysis/blob/master/Analise_Financeira_Mercado_Gado_de_Corte.ipynb\" target=\"_parent\"><img src=\"https://colab.research.google.com/assets/colab-badge.svg\" alt=\"Open In Colab\"/></a>"
      ]
    },
    {
      "cell_type": "markdown",
      "metadata": {
        "id": "iyF3cpCh9xBf"
      },
      "source": [
        "**by: [João Ataíde](https://www.joaoataide.com)**\n",
        "# Análise Mercado Financeira de Gado de Corte\n",
        "\n",
        "\n",
        "---\n"
      ]
    },
    {
      "cell_type": "markdown",
      "metadata": {
        "id": "-jEcTjEbDMfM"
      },
      "source": [
        "## Importanto bibliotecas básicas"
      ]
    },
    {
      "cell_type": "code",
      "metadata": {
        "id": "iHyBpQRa9lg5",
        "colab": {
          "base_uri": "https://localhost:8080/"
        },
        "outputId": "14252f9e-4274-4234-f909-ccb20fad103a"
      },
      "source": [
        "#importar bibliotecas básicas\n",
        "import pandas as pd\n",
        "import numpy as np\n",
        "import matplotlib.pyplot as plt\n",
        "import seaborn as sns\n",
        "import requests\n",
        "from statsmodels.tsa.seasonal import seasonal_decompose\n",
        "\n",
        "# configurar a visualização\n",
        "sns.set()\n",
        "%matplotlib inline\n",
        "%config InlineBackend.figure_format = 'svg'"
      ],
      "execution_count": 1,
      "outputs": [
        {
          "output_type": "stream",
          "text": [
            "/usr/local/lib/python3.7/dist-packages/statsmodels/tools/_testing.py:19: FutureWarning: pandas.util.testing is deprecated. Use the functions in the public API at pandas.testing instead.\n",
            "  import pandas.util.testing as tm\n"
          ],
          "name": "stderr"
        }
      ]
    },
    {
      "cell_type": "markdown",
      "metadata": {
        "id": "7iwDAi1hA_Nu"
      },
      "source": [
        "## Obtenção dos dados"
      ]
    },
    {
      "cell_type": "code",
      "metadata": {
        "id": "aFfpT5tHBfhs"
      },
      "source": [
        "!pip install investpy -q"
      ],
      "execution_count": 2,
      "outputs": []
    },
    {
      "cell_type": "code",
      "metadata": {
        "id": "rEVIsMYn7RGH"
      },
      "source": [
        "!pip install yfinance -q"
      ],
      "execution_count": 3,
      "outputs": []
    },
    {
      "cell_type": "code",
      "metadata": {
        "id": "BPSmATfGDQSp"
      },
      "source": [
        "#importar bibliotecas financeiras\n",
        "import investpy\n",
        "import yfinance as yf"
      ],
      "execution_count": 4,
      "outputs": []
    },
    {
      "cell_type": "markdown",
      "metadata": {
        "id": "wFLXpq1q40V_"
      },
      "source": [
        "### Dados de Commodities"
      ]
    },
    {
      "cell_type": "markdown",
      "metadata": {
        "id": "J4dvP5sWtxZl"
      },
      "source": [
        "Para fazer as análises do mercado de pecuária, diversas commodities são variáveis para o trabalho, sendo elas as seguintes:\n",
        "\n",
        "\n",
        "\n",
        "*   `Live Cattle` - preço do Boi Gordo\n",
        "*   `Feeder Cattle` - preço do Boi em engorda\n",
        "*   `US Soybeans` - preço da soja\n",
        "*   `US Corn` - preço do milho\n",
        "*   `Dollar` - preço do Dollar/Real\n",
        "\n",
        "Para importar esses dados usarei a biblioteca investpy, que possui um API com comandos para diversos dados financeiros. Para isso, precisaremos estipular uma janela de programação no qual precisa ser maior que 6 anos, devido ao ciclo da pecuária de corte.\n",
        "\n"
      ]
    },
    {
      "cell_type": "code",
      "metadata": {
        "id": "JNLqIvJwgO1Y"
      },
      "source": [
        "#Lista de commodities\n",
        "commodities = [\"Live Cattle\", \"Feeder Cattle\", \"US Soybeans\",\"US Corn\"]\n",
        "\n",
        "#Data de inicio e fim de análise\n",
        "inicio = \"01/01/1997\"\n",
        "fim = \"31/12/2021\""
      ],
      "execution_count": 5,
      "outputs": []
    },
    {
      "cell_type": "code",
      "metadata": {
        "id": "FuwlmI-8a3_D",
        "colab": {
          "base_uri": "https://localhost:8080/",
          "height": 202
        },
        "outputId": "9a4f1b73-4838-4ae6-ac6f-33dbf5454450"
      },
      "source": [
        "#Função para importar dados das commodities\n",
        "def commodities_df(commodities, inicio,fim):\n",
        "  precos = pd.DataFrame()\n",
        "  for i in commodities:\n",
        "    df = investpy.commodities.get_commodity_historical_data(commodity=i, from_date=inicio, to_date=fim).Close\n",
        "    df.rename(i, inplace=True)\n",
        "    df.columns = [i]\n",
        "    precos = pd.concat([precos,df], axis=1)\n",
        "    precos.index.name=\"Date\"\n",
        "  return precos\n",
        "\n",
        "\n",
        "#Data Frame de commodites\n",
        "df = commodities_df(commodities,inicio,fim)\n",
        "\n",
        "#Importar dollar dos anos de 2014 e 2020\n",
        "doll = yf.Ticker(\"USDBRL=x\")\n",
        "dollar = pd.DataFrame(doll.history(start =\"2014-01-01\", end =\"2020-12-31\" ).Close)\n",
        "dollar.columns = [\"Dollar\"]\n",
        "dollar.index.name=\"Date\"\n",
        "\n",
        "#merge dado\n",
        "dados =pd.merge(df, dollar, how='inner', right_index=True, left_index=True)\n",
        "\n",
        "#Agrupar a média por trimestre\n",
        "dados_trimestre = dados.groupby(pd.Grouper(freq='Q')).mean()\n",
        "dados_trimestre = dados_trimestre.reset_index()\n",
        "dados_trimestre.head()"
      ],
      "execution_count": 6,
      "outputs": [
        {
          "output_type": "execute_result",
          "data": {
            "text/html": [
              "<div>\n",
              "<style scoped>\n",
              "    .dataframe tbody tr th:only-of-type {\n",
              "        vertical-align: middle;\n",
              "    }\n",
              "\n",
              "    .dataframe tbody tr th {\n",
              "        vertical-align: top;\n",
              "    }\n",
              "\n",
              "    .dataframe thead th {\n",
              "        text-align: right;\n",
              "    }\n",
              "</style>\n",
              "<table border=\"1\" class=\"dataframe\">\n",
              "  <thead>\n",
              "    <tr style=\"text-align: right;\">\n",
              "      <th></th>\n",
              "      <th>Date</th>\n",
              "      <th>Live Cattle</th>\n",
              "      <th>Feeder Cattle</th>\n",
              "      <th>US Soybeans</th>\n",
              "      <th>US Corn</th>\n",
              "      <th>Dollar</th>\n",
              "    </tr>\n",
              "  </thead>\n",
              "  <tbody>\n",
              "    <tr>\n",
              "      <th>0</th>\n",
              "      <td>2014-03-31</td>\n",
              "      <td>142.532871</td>\n",
              "      <td>171.350492</td>\n",
              "      <td>1351.535000</td>\n",
              "      <td>451.977903</td>\n",
              "      <td>2.361074</td>\n",
              "    </tr>\n",
              "    <tr>\n",
              "      <th>1</th>\n",
              "      <td>2014-06-30</td>\n",
              "      <td>142.672619</td>\n",
              "      <td>190.970476</td>\n",
              "      <td>1462.786349</td>\n",
              "      <td>479.190476</td>\n",
              "      <td>2.225935</td>\n",
              "    </tr>\n",
              "    <tr>\n",
              "      <th>2</th>\n",
              "      <td>2014-09-30</td>\n",
              "      <td>154.548047</td>\n",
              "      <td>220.610000</td>\n",
              "      <td>1089.502969</td>\n",
              "      <td>359.718750</td>\n",
              "      <td>2.268325</td>\n",
              "    </tr>\n",
              "    <tr>\n",
              "      <th>3</th>\n",
              "      <td>2014-12-31</td>\n",
              "      <td>165.997308</td>\n",
              "      <td>233.692187</td>\n",
              "      <td>1008.709385</td>\n",
              "      <td>372.705846</td>\n",
              "      <td>2.538731</td>\n",
              "    </tr>\n",
              "    <tr>\n",
              "      <th>4</th>\n",
              "      <td>2015-03-31</td>\n",
              "      <td>157.177049</td>\n",
              "      <td>210.525246</td>\n",
              "      <td>991.899180</td>\n",
              "      <td>384.864754</td>\n",
              "      <td>2.864362</td>\n",
              "    </tr>\n",
              "  </tbody>\n",
              "</table>\n",
              "</div>"
            ],
            "text/plain": [
              "        Date  Live Cattle  Feeder Cattle  US Soybeans     US Corn    Dollar\n",
              "0 2014-03-31   142.532871     171.350492  1351.535000  451.977903  2.361074\n",
              "1 2014-06-30   142.672619     190.970476  1462.786349  479.190476  2.225935\n",
              "2 2014-09-30   154.548047     220.610000  1089.502969  359.718750  2.268325\n",
              "3 2014-12-31   165.997308     233.692187  1008.709385  372.705846  2.538731\n",
              "4 2015-03-31   157.177049     210.525246   991.899180  384.864754  2.864362"
            ]
          },
          "metadata": {
            "tags": []
          },
          "execution_count": 6
        }
      ]
    },
    {
      "cell_type": "markdown",
      "metadata": {
        "id": "88CdpPXg34ke"
      },
      "source": [
        "### Dados do SIDRA\n",
        "\n",
        "Outro dados importante é referente aos número de abates dos animais por classe dentro do intervalo de tempo, sendo usado então validar os ciclos e as sazonalidades das culturas. Para isso, precisaremos baixar todas as classes os dados referentes ao intervalo e cabeças abatidas de cada classe:\n",
        "\n",
        "*   `Bois` - Animal macho\n",
        "*   `Vacas` - Animal fêmea\n",
        "*   `Novilhas` - Animal fêmea mais nova \n",
        "*   `Novilhos` - Animal macho mais novo\n",
        "*   `Totais` -  Soma de todas as classes\n",
        "\n"
      ]
    },
    {
      "cell_type": "code",
      "metadata": {
        "id": "BfaIAApC34w4"
      },
      "source": [
        "#link do banco de dados sidra\n",
        "consulta = 'https://apisidra.ibge.gov.br/values/t/1092/n1/all/v/all/p/all/c12716/all/c18/55,56,992,111734,111735/c12529/all/d/v1000151%202,v1000284%202,v1000285%202'\n",
        "ufs = [5] #numero de consultas\n",
        "\n",
        "#Baixar dados do sidra\n",
        "df2 = pd.DataFrame()\n",
        "for uf in ufs:\n",
        "    url = consulta.format(uf)\n",
        "    dados_json = requests.get(url).json()\n",
        "    dados_pandas = pd.DataFrame(dados_json)\n",
        "    df2 = pd.concat([dados_pandas,df2])"
      ],
      "execution_count": 7,
      "outputs": []
    },
    {
      "cell_type": "code",
      "metadata": {
        "colab": {
          "base_uri": "https://localhost:8080/",
          "height": 220
        },
        "id": "4xUS58nNAEwI",
        "outputId": "8389bf53-c1d0-4b06-a746-5457004d7eb8"
      },
      "source": [
        "#Renomear colunas\n",
        "sidra = df2.copy() \n",
        "colunas = list(df2.iloc[0,:])\n",
        "sidra.columns = colunas\n",
        "\n",
        "#Filtrar dados\n",
        "sidra = sidra.iloc[1:,:]\n",
        "sidra = sidra[sidra[\"Variável\"]==\"Animais abatidos\"]\n",
        "sidra = sidra[sidra[\"Tipo de inspeção\"]==\"Total\"]\n",
        "sidra = sidra[sidra[\"Unidade de Medida\"]==\"Cabeças\"]\n",
        "sidra = sidra[sidra[\"Referência temporal\"]==\"Total do trimestre\"]\n",
        "\n",
        "#Escolher colunas necessárias para a análise\n",
        "sidra = sidra.reset_index()\n",
        "sidra = sidra.iloc[:, [5, 11, 15]]\n",
        "\n",
        "#Dropar coluna de valor X\n",
        "sidra = sidra.drop(sidra[sidra[\"Valor\"] == 'X'].index)\n",
        "\n",
        "#tranformar valor em float\n",
        "sidra[\"Valor\"] = sidra[\"Valor\"].astype(float)\n",
        "\n",
        "#Encontrar datas\n",
        "times = sidra.Trimestre.str.split(expand=True)\n",
        "times[2] = pd.to_datetime(times[2])\n",
        "sidra3 = sidra.copy()\n",
        "sidra3 = sidra3[times[2] >= \"2014-01-01\"]\n",
        "sidra3 = sidra3[times[2] < \"2021-01-01\"]\n",
        "sidra3.head()"
      ],
      "execution_count": 8,
      "outputs": [
        {
          "output_type": "stream",
          "text": [
            "/usr/local/lib/python3.7/dist-packages/ipykernel_launcher.py:28: UserWarning: Boolean Series key will be reindexed to match DataFrame index.\n"
          ],
          "name": "stderr"
        },
        {
          "output_type": "execute_result",
          "data": {
            "text/html": [
              "<div>\n",
              "<style scoped>\n",
              "    .dataframe tbody tr th:only-of-type {\n",
              "        vertical-align: middle;\n",
              "    }\n",
              "\n",
              "    .dataframe tbody tr th {\n",
              "        vertical-align: top;\n",
              "    }\n",
              "\n",
              "    .dataframe thead th {\n",
              "        text-align: right;\n",
              "    }\n",
              "</style>\n",
              "<table border=\"1\" class=\"dataframe\">\n",
              "  <thead>\n",
              "    <tr style=\"text-align: right;\">\n",
              "      <th></th>\n",
              "      <th>Valor</th>\n",
              "      <th>Trimestre</th>\n",
              "      <th>Tipo de rebanho bovino</th>\n",
              "    </tr>\n",
              "  </thead>\n",
              "  <tbody>\n",
              "    <tr>\n",
              "      <th>340</th>\n",
              "      <td>3993691.0</td>\n",
              "      <td>1º trimestre 2014</td>\n",
              "      <td>Bois</td>\n",
              "    </tr>\n",
              "    <tr>\n",
              "      <th>341</th>\n",
              "      <td>3067441.0</td>\n",
              "      <td>1º trimestre 2014</td>\n",
              "      <td>Vacas</td>\n",
              "    </tr>\n",
              "    <tr>\n",
              "      <th>342</th>\n",
              "      <td>8372872.0</td>\n",
              "      <td>1º trimestre 2014</td>\n",
              "      <td>Total</td>\n",
              "    </tr>\n",
              "    <tr>\n",
              "      <th>343</th>\n",
              "      <td>447977.0</td>\n",
              "      <td>1º trimestre 2014</td>\n",
              "      <td>Novilhos</td>\n",
              "    </tr>\n",
              "    <tr>\n",
              "      <th>344</th>\n",
              "      <td>863763.0</td>\n",
              "      <td>1º trimestre 2014</td>\n",
              "      <td>Novilhas</td>\n",
              "    </tr>\n",
              "  </tbody>\n",
              "</table>\n",
              "</div>"
            ],
            "text/plain": [
              "         Valor          Trimestre Tipo de rebanho bovino\n",
              "340  3993691.0  1º trimestre 2014                   Bois\n",
              "341  3067441.0  1º trimestre 2014                  Vacas\n",
              "342  8372872.0  1º trimestre 2014                  Total\n",
              "343   447977.0  1º trimestre 2014               Novilhos\n",
              "344   863763.0  1º trimestre 2014               Novilhas"
            ]
          },
          "metadata": {
            "tags": []
          },
          "execution_count": 8
        }
      ]
    },
    {
      "cell_type": "code",
      "metadata": {
        "id": "O_84GEzp4Xao"
      },
      "source": [
        "#Separar dados pelo tipo de rebanho\n",
        "bois = sidra3[sidra3[\"Tipo de rebanho bovino\"] == \"Bois\"]\n",
        "vacas = sidra3[sidra3[\"Tipo de rebanho bovino\"] == \"Vacas\"]\n",
        "novilhas = sidra3[sidra3[\"Tipo de rebanho bovino\"] == \"Novilhos\"]\n",
        "novilhos = sidra3[sidra3[\"Tipo de rebanho bovino\"] == \"Novilhas\"]\n",
        "total = sidra3[sidra3[\"Tipo de rebanho bovino\"] == \"Total\"]"
      ],
      "execution_count": 9,
      "outputs": []
    },
    {
      "cell_type": "code",
      "metadata": {
        "id": "TRouEEkX1rSV"
      },
      "source": [
        "#Função de pré join\n",
        "def pre_join(dataframe, nome):\n",
        "  dataframe = dataframe.reset_index()\n",
        "  dataframe = dataframe.iloc[:, [1, 2]]\n",
        "  dataframe.columns = [nome, \"Trimestre\"]\n",
        "  return dataframe\n",
        "\n",
        "#Criar contador de trimestre\n",
        "bois = pre_join(bois, \"Bois\")\n",
        "vacas = pre_join(vacas, \"Vacas\")\n",
        "novilhas = pre_join(novilhas, \"Novilhas\")\n",
        "novilhos = pre_join(novilhos, \"Novilhos\")\n",
        "total = pre_join(total, \"Total\")"
      ],
      "execution_count": 10,
      "outputs": []
    },
    {
      "cell_type": "code",
      "metadata": {
        "colab": {
          "base_uri": "https://localhost:8080/",
          "height": 233
        },
        "id": "KxRh7_Ic8sn1",
        "outputId": "f93f196b-040c-47bd-bc33-e34c2d35f357"
      },
      "source": [
        "#Joins de todos os datasets\n",
        "df_final = dados_trimestre.copy()\n",
        "df_final = df_final.join(bois)\n",
        "df_final = df_final.join(vacas.Vacas)\n",
        "df_final = df_final.join(novilhas.Novilhas)\n",
        "df_final = df_final.join(novilhos.Novilhos)\n",
        "df_final = df_final.join(total.Total)\n",
        "\n",
        "#indexar por data\n",
        "df_final=df_final.set_index(\"Date\")\n",
        "df_final.head()"
      ],
      "execution_count": 11,
      "outputs": [
        {
          "output_type": "execute_result",
          "data": {
            "text/html": [
              "<div>\n",
              "<style scoped>\n",
              "    .dataframe tbody tr th:only-of-type {\n",
              "        vertical-align: middle;\n",
              "    }\n",
              "\n",
              "    .dataframe tbody tr th {\n",
              "        vertical-align: top;\n",
              "    }\n",
              "\n",
              "    .dataframe thead th {\n",
              "        text-align: right;\n",
              "    }\n",
              "</style>\n",
              "<table border=\"1\" class=\"dataframe\">\n",
              "  <thead>\n",
              "    <tr style=\"text-align: right;\">\n",
              "      <th></th>\n",
              "      <th>Live Cattle</th>\n",
              "      <th>Feeder Cattle</th>\n",
              "      <th>US Soybeans</th>\n",
              "      <th>US Corn</th>\n",
              "      <th>Dollar</th>\n",
              "      <th>Bois</th>\n",
              "      <th>Trimestre</th>\n",
              "      <th>Vacas</th>\n",
              "      <th>Novilhas</th>\n",
              "      <th>Novilhos</th>\n",
              "      <th>Total</th>\n",
              "    </tr>\n",
              "    <tr>\n",
              "      <th>Date</th>\n",
              "      <th></th>\n",
              "      <th></th>\n",
              "      <th></th>\n",
              "      <th></th>\n",
              "      <th></th>\n",
              "      <th></th>\n",
              "      <th></th>\n",
              "      <th></th>\n",
              "      <th></th>\n",
              "      <th></th>\n",
              "      <th></th>\n",
              "    </tr>\n",
              "  </thead>\n",
              "  <tbody>\n",
              "    <tr>\n",
              "      <th>2014-03-31</th>\n",
              "      <td>142.532871</td>\n",
              "      <td>171.350492</td>\n",
              "      <td>1351.535000</td>\n",
              "      <td>451.977903</td>\n",
              "      <td>2.361074</td>\n",
              "      <td>3993691.0</td>\n",
              "      <td>1º trimestre 2014</td>\n",
              "      <td>3067441.0</td>\n",
              "      <td>447977.0</td>\n",
              "      <td>863763.0</td>\n",
              "      <td>8372872.0</td>\n",
              "    </tr>\n",
              "    <tr>\n",
              "      <th>2014-06-30</th>\n",
              "      <td>142.672619</td>\n",
              "      <td>190.970476</td>\n",
              "      <td>1462.786349</td>\n",
              "      <td>479.190476</td>\n",
              "      <td>2.225935</td>\n",
              "      <td>4317627.0</td>\n",
              "      <td>2º trimestre 2014</td>\n",
              "      <td>2899909.0</td>\n",
              "      <td>438998.0</td>\n",
              "      <td>882370.0</td>\n",
              "      <td>8538904.0</td>\n",
              "    </tr>\n",
              "    <tr>\n",
              "      <th>2014-09-30</th>\n",
              "      <td>154.548047</td>\n",
              "      <td>220.610000</td>\n",
              "      <td>1089.502969</td>\n",
              "      <td>359.718750</td>\n",
              "      <td>2.268325</td>\n",
              "      <td>4627826.0</td>\n",
              "      <td>3º trimestre 2014</td>\n",
              "      <td>2561439.0</td>\n",
              "      <td>561864.0</td>\n",
              "      <td>719751.0</td>\n",
              "      <td>8470880.0</td>\n",
              "    </tr>\n",
              "    <tr>\n",
              "      <th>2014-12-31</th>\n",
              "      <td>165.997308</td>\n",
              "      <td>233.692187</td>\n",
              "      <td>1008.709385</td>\n",
              "      <td>372.705846</td>\n",
              "      <td>2.538731</td>\n",
              "      <td>4780410.0</td>\n",
              "      <td>4º trimestre 2014</td>\n",
              "      <td>2501305.0</td>\n",
              "      <td>565254.0</td>\n",
              "      <td>678093.0</td>\n",
              "      <td>8525062.0</td>\n",
              "    </tr>\n",
              "    <tr>\n",
              "      <th>2015-03-31</th>\n",
              "      <td>157.177049</td>\n",
              "      <td>210.525246</td>\n",
              "      <td>991.899180</td>\n",
              "      <td>384.864754</td>\n",
              "      <td>2.864362</td>\n",
              "      <td>3967926.0</td>\n",
              "      <td>1º trimestre 2015</td>\n",
              "      <td>2669421.0</td>\n",
              "      <td>363654.0</td>\n",
              "      <td>738649.0</td>\n",
              "      <td>7739650.0</td>\n",
              "    </tr>\n",
              "  </tbody>\n",
              "</table>\n",
              "</div>"
            ],
            "text/plain": [
              "            Live Cattle  Feeder Cattle  ...  Novilhos      Total\n",
              "Date                                    ...                     \n",
              "2014-03-31   142.532871     171.350492  ...  863763.0  8372872.0\n",
              "2014-06-30   142.672619     190.970476  ...  882370.0  8538904.0\n",
              "2014-09-30   154.548047     220.610000  ...  719751.0  8470880.0\n",
              "2014-12-31   165.997308     233.692187  ...  678093.0  8525062.0\n",
              "2015-03-31   157.177049     210.525246  ...  738649.0  7739650.0\n",
              "\n",
              "[5 rows x 11 columns]"
            ]
          },
          "metadata": {
            "tags": []
          },
          "execution_count": 11
        }
      ]
    },
    {
      "cell_type": "code",
      "metadata": {
        "id": "GMXTnlR1MgYD"
      },
      "source": [
        "#Criar coluna de média todos os trimestres \n",
        "df_final[\"Média Bois\"] = df_final[\"Bois\"].mean()\n",
        "df_final[\"Média Vacas\"] = df_final[\"Vacas\"].mean()\n",
        "df_final[\"Média Novilhas\"] = df_final[\"Novilhas\"].mean()\n",
        "df_final[\"Média Novilhos\"] = df_final[\"Novilhos\"].mean()\n",
        "df_final[\"Média Total\"] = df_final[\"Total\"].mean()"
      ],
      "execution_count": 12,
      "outputs": []
    },
    {
      "cell_type": "markdown",
      "metadata": {
        "id": "QJ4Aqgl2MWXB"
      },
      "source": [
        "## Sazonalidade\n",
        "\n",
        "A sazonalidade são eventos que costumam ocorrer em determinado momento do ano, assim como toda e qualquer cultura a pecuária de corte não é diferente, entretanto, tal se diferência devido ao seu comportameto plurianual, modificando então suas cultura a decorrer da passagem de alguns anos, que geralmente são de 5 à 6 anos."
      ]
    },
    {
      "cell_type": "code",
      "metadata": {
        "id": "jvFv4mygM2l9",
        "outputId": "1ab0c9df-8336-41af-8579-04cfa39d7587",
        "colab": {
          "base_uri": "https://localhost:8080/",
          "height": 239
        }
      },
      "source": [
        "#Agrupar por trimestre\n",
        "trimestre = df_final.Trimestre.str.split(expand=True)\n",
        "trimestre = df_final.join(trimestre)\n",
        "trimestre = trimestre.groupby([0,2]).sum()\n",
        "trimestre= trimestre.reset_index()\n",
        "trimestre.head()"
      ],
      "execution_count": 13,
      "outputs": [
        {
          "output_type": "execute_result",
          "data": {
            "text/html": [
              "<div>\n",
              "<style scoped>\n",
              "    .dataframe tbody tr th:only-of-type {\n",
              "        vertical-align: middle;\n",
              "    }\n",
              "\n",
              "    .dataframe tbody tr th {\n",
              "        vertical-align: top;\n",
              "    }\n",
              "\n",
              "    .dataframe thead th {\n",
              "        text-align: right;\n",
              "    }\n",
              "</style>\n",
              "<table border=\"1\" class=\"dataframe\">\n",
              "  <thead>\n",
              "    <tr style=\"text-align: right;\">\n",
              "      <th></th>\n",
              "      <th>0</th>\n",
              "      <th>2</th>\n",
              "      <th>Live Cattle</th>\n",
              "      <th>Feeder Cattle</th>\n",
              "      <th>US Soybeans</th>\n",
              "      <th>US Corn</th>\n",
              "      <th>Dollar</th>\n",
              "      <th>Bois</th>\n",
              "      <th>Vacas</th>\n",
              "      <th>Novilhas</th>\n",
              "      <th>Novilhos</th>\n",
              "      <th>Total</th>\n",
              "      <th>Média Bois</th>\n",
              "      <th>Média Vacas</th>\n",
              "      <th>Média Novilhas</th>\n",
              "      <th>Média Novilhos</th>\n",
              "      <th>Média Total</th>\n",
              "    </tr>\n",
              "  </thead>\n",
              "  <tbody>\n",
              "    <tr>\n",
              "      <th>0</th>\n",
              "      <td>1º</td>\n",
              "      <td>2014</td>\n",
              "      <td>142.532871</td>\n",
              "      <td>171.350492</td>\n",
              "      <td>1351.535000</td>\n",
              "      <td>451.977903</td>\n",
              "      <td>2.361074</td>\n",
              "      <td>3993691.0</td>\n",
              "      <td>3067441.0</td>\n",
              "      <td>447977.0</td>\n",
              "      <td>863763.0</td>\n",
              "      <td>8372872.0</td>\n",
              "      <td>4302829.5</td>\n",
              "      <td>2.373637e+06</td>\n",
              "      <td>409688.035714</td>\n",
              "      <td>752787.321429</td>\n",
              "      <td>7.838941e+06</td>\n",
              "    </tr>\n",
              "    <tr>\n",
              "      <th>1</th>\n",
              "      <td>1º</td>\n",
              "      <td>2015</td>\n",
              "      <td>157.177049</td>\n",
              "      <td>210.525246</td>\n",
              "      <td>991.899180</td>\n",
              "      <td>384.864754</td>\n",
              "      <td>2.864362</td>\n",
              "      <td>3967926.0</td>\n",
              "      <td>2669421.0</td>\n",
              "      <td>363654.0</td>\n",
              "      <td>738649.0</td>\n",
              "      <td>7739650.0</td>\n",
              "      <td>4302829.5</td>\n",
              "      <td>2.373637e+06</td>\n",
              "      <td>409688.035714</td>\n",
              "      <td>752787.321429</td>\n",
              "      <td>7.838941e+06</td>\n",
              "    </tr>\n",
              "    <tr>\n",
              "      <th>2</th>\n",
              "      <td>1º</td>\n",
              "      <td>2016</td>\n",
              "      <td>135.051639</td>\n",
              "      <td>158.540984</td>\n",
              "      <td>880.295902</td>\n",
              "      <td>362.911290</td>\n",
              "      <td>3.899123</td>\n",
              "      <td>3893668.0</td>\n",
              "      <td>2355450.0</td>\n",
              "      <td>454638.0</td>\n",
              "      <td>615981.0</td>\n",
              "      <td>7319737.0</td>\n",
              "      <td>4302829.5</td>\n",
              "      <td>2.373637e+06</td>\n",
              "      <td>409688.035714</td>\n",
              "      <td>752787.321429</td>\n",
              "      <td>7.838941e+06</td>\n",
              "    </tr>\n",
              "    <tr>\n",
              "      <th>3</th>\n",
              "      <td>1º</td>\n",
              "      <td>2017</td>\n",
              "      <td>118.525806</td>\n",
              "      <td>127.805161</td>\n",
              "      <td>1023.722903</td>\n",
              "      <td>364.439516</td>\n",
              "      <td>3.140139</td>\n",
              "      <td>3755566.0</td>\n",
              "      <td>2573509.0</td>\n",
              "      <td>306041.0</td>\n",
              "      <td>763004.0</td>\n",
              "      <td>7398120.0</td>\n",
              "      <td>4302829.5</td>\n",
              "      <td>2.373637e+06</td>\n",
              "      <td>409688.035714</td>\n",
              "      <td>752787.321429</td>\n",
              "      <td>7.838941e+06</td>\n",
              "    </tr>\n",
              "    <tr>\n",
              "      <th>4</th>\n",
              "      <td>1º</td>\n",
              "      <td>2018</td>\n",
              "      <td>122.889344</td>\n",
              "      <td>144.877049</td>\n",
              "      <td>1010.233871</td>\n",
              "      <td>366.108871</td>\n",
              "      <td>3.243224</td>\n",
              "      <td>3790460.0</td>\n",
              "      <td>2788623.0</td>\n",
              "      <td>351176.0</td>\n",
              "      <td>842746.0</td>\n",
              "      <td>7773005.0</td>\n",
              "      <td>4302829.5</td>\n",
              "      <td>2.373637e+06</td>\n",
              "      <td>409688.035714</td>\n",
              "      <td>752787.321429</td>\n",
              "      <td>7.838941e+06</td>\n",
              "    </tr>\n",
              "  </tbody>\n",
              "</table>\n",
              "</div>"
            ],
            "text/plain": [
              "    0     2  Live Cattle  ...  Média Novilhas  Média Novilhos   Média Total\n",
              "0  1º  2014   142.532871  ...   409688.035714   752787.321429  7.838941e+06\n",
              "1  1º  2015   157.177049  ...   409688.035714   752787.321429  7.838941e+06\n",
              "2  1º  2016   135.051639  ...   409688.035714   752787.321429  7.838941e+06\n",
              "3  1º  2017   118.525806  ...   409688.035714   752787.321429  7.838941e+06\n",
              "4  1º  2018   122.889344  ...   409688.035714   752787.321429  7.838941e+06\n",
              "\n",
              "[5 rows x 17 columns]"
            ]
          },
          "metadata": {
            "tags": []
          },
          "execution_count": 13
        }
      ]
    },
    {
      "cell_type": "code",
      "metadata": {
        "id": "HHH229G_VAW_",
        "outputId": "8858d30f-4056-47b3-9db7-bfef0d2c4cd1",
        "colab": {
          "base_uri": "https://localhost:8080/",
          "height": 172
        }
      },
      "source": [
        "#Dataset por ano\n",
        "df_2014 = trimestre[trimestre[2]== \"2014\"]\n",
        "df_2015 = trimestre[trimestre[2]== \"2015\"]\n",
        "df_2016 = trimestre[trimestre[2]== \"2016\"]\n",
        "df_2017 = trimestre[trimestre[2]== \"2017\"]\n",
        "df_2018 = trimestre[trimestre[2]== \"2018\"]\n",
        "df_2019 = trimestre[trimestre[2]== \"2019\"]\n",
        "df_2020 = trimestre[trimestre[2]== \"2020\"]\n",
        "\n",
        "#criar dataset abate de vacas por ano\n",
        "df_vacas_ano = pd.DataFrame()\n",
        "df_vacas_ano[\"2014\"]= list(df_2014.Vacas)\n",
        "df_vacas_ano[\"2015\"] = list(df_2015.Vacas)\n",
        "df_vacas_ano[\"2016\"]= list(df_2016.Vacas)\n",
        "df_vacas_ano[\"2017\"]= list(df_2017.Vacas)\n",
        "df_vacas_ano[\"2018\"]= list(df_2018.Vacas)\n",
        "df_vacas_ano[\"2019\"]= list(df_2019.Vacas)\n",
        "df_vacas_ano[\"2020\"]= list(df_2020.Vacas)\n",
        "df_vacas_ano"
      ],
      "execution_count": 14,
      "outputs": [
        {
          "output_type": "execute_result",
          "data": {
            "text/html": [
              "<div>\n",
              "<style scoped>\n",
              "    .dataframe tbody tr th:only-of-type {\n",
              "        vertical-align: middle;\n",
              "    }\n",
              "\n",
              "    .dataframe tbody tr th {\n",
              "        vertical-align: top;\n",
              "    }\n",
              "\n",
              "    .dataframe thead th {\n",
              "        text-align: right;\n",
              "    }\n",
              "</style>\n",
              "<table border=\"1\" class=\"dataframe\">\n",
              "  <thead>\n",
              "    <tr style=\"text-align: right;\">\n",
              "      <th></th>\n",
              "      <th>2014</th>\n",
              "      <th>2015</th>\n",
              "      <th>2016</th>\n",
              "      <th>2017</th>\n",
              "      <th>2018</th>\n",
              "      <th>2019</th>\n",
              "      <th>2020</th>\n",
              "    </tr>\n",
              "  </thead>\n",
              "  <tbody>\n",
              "    <tr>\n",
              "      <th>0</th>\n",
              "      <td>3067441.0</td>\n",
              "      <td>2669421.0</td>\n",
              "      <td>2355450.0</td>\n",
              "      <td>2573509.0</td>\n",
              "      <td>2788623.0</td>\n",
              "      <td>2699548.0</td>\n",
              "      <td>2244800.0</td>\n",
              "    </tr>\n",
              "    <tr>\n",
              "      <th>1</th>\n",
              "      <td>2899909.0</td>\n",
              "      <td>2470490.0</td>\n",
              "      <td>2389478.0</td>\n",
              "      <td>2450331.0</td>\n",
              "      <td>2573407.0</td>\n",
              "      <td>2513823.0</td>\n",
              "      <td>2061751.0</td>\n",
              "    </tr>\n",
              "    <tr>\n",
              "      <th>2</th>\n",
              "      <td>2561439.0</td>\n",
              "      <td>2164544.0</td>\n",
              "      <td>2100239.0</td>\n",
              "      <td>2396049.0</td>\n",
              "      <td>2400531.0</td>\n",
              "      <td>2297485.0</td>\n",
              "      <td>1872475.0</td>\n",
              "    </tr>\n",
              "    <tr>\n",
              "      <th>3</th>\n",
              "      <td>2501305.0</td>\n",
              "      <td>2026969.0</td>\n",
              "      <td>2073648.0</td>\n",
              "      <td>2324777.0</td>\n",
              "      <td>2317097.0</td>\n",
              "      <td>2086396.0</td>\n",
              "      <td>1580888.0</td>\n",
              "    </tr>\n",
              "  </tbody>\n",
              "</table>\n",
              "</div>"
            ],
            "text/plain": [
              "        2014       2015       2016       2017       2018       2019       2020\n",
              "0  3067441.0  2669421.0  2355450.0  2573509.0  2788623.0  2699548.0  2244800.0\n",
              "1  2899909.0  2470490.0  2389478.0  2450331.0  2573407.0  2513823.0  2061751.0\n",
              "2  2561439.0  2164544.0  2100239.0  2396049.0  2400531.0  2297485.0  1872475.0\n",
              "3  2501305.0  2026969.0  2073648.0  2324777.0  2317097.0  2086396.0  1580888.0"
            ]
          },
          "metadata": {
            "tags": []
          },
          "execution_count": 14
        }
      ]
    },
    {
      "cell_type": "code",
      "metadata": {
        "id": "Mpt2NZumXU7i",
        "outputId": "988cbd35-aaec-4ab3-dcc4-b2d023d1fb9f",
        "colab": {
          "base_uri": "https://localhost:8080/",
          "height": 366
        }
      },
      "source": [
        "df_vacas_ano.plot(kind=\"bar\", figsize = (15,4));"
      ],
      "execution_count": 15,
      "outputs": [
        {
          "output_type": "display_data",
          "data": {
            "text/plain": [
              "<Figure size 1080x288 with 1 Axes>"
            ],
            "image/svg+xml": "<?xml version=\"1.0\" encoding=\"utf-8\" standalone=\"no\"?>\n<!DOCTYPE svg PUBLIC \"-//W3C//DTD SVG 1.1//EN\"\n  \"http://www.w3.org/Graphics/SVG/1.1/DTD/svg11.dtd\">\n<!-- Created with matplotlib (https://matplotlib.org/) -->\n<svg height=\"259.697031pt\" version=\"1.1\" viewBox=\"0 0 878.393438 259.697031\" width=\"878.393438pt\" xmlns=\"http://www.w3.org/2000/svg\" xmlns:xlink=\"http://www.w3.org/1999/xlink\">\n <defs>\n  <style type=\"text/css\">\n*{stroke-linecap:butt;stroke-linejoin:round;}\n  </style>\n </defs>\n <g id=\"figure_1\">\n  <g id=\"patch_1\">\n   <path d=\"M 0 259.697031 \nL 878.393438 259.697031 \nL 878.393438 0 \nL 0 0 \nz\n\" style=\"fill:none;\"/>\n  </g>\n  <g id=\"axes_1\">\n   <g id=\"patch_2\">\n    <path d=\"M 34.193438 235.998281 \nL 871.193438 235.998281 \nL 871.193438 18.558281 \nL 34.193438 18.558281 \nz\n\" style=\"fill:#eaeaf2;\"/>\n   </g>\n   <g id=\"matplotlib.axis_1\">\n    <g id=\"xtick_1\">\n     <g id=\"line2d_1\">\n      <path clip-path=\"url(#pdbfb372d5f)\" d=\"M 138.818438 235.998281 \nL 138.818438 18.558281 \n\" style=\"fill:none;stroke:#ffffff;stroke-linecap:round;\"/>\n     </g>\n     <g id=\"text_1\">\n      <!-- 0 -->\n      <defs>\n       <path d=\"M 31.78125 66.40625 \nQ 24.171875 66.40625 20.328125 58.90625 \nQ 16.5 51.421875 16.5 36.375 \nQ 16.5 21.390625 20.328125 13.890625 \nQ 24.171875 6.390625 31.78125 6.390625 \nQ 39.453125 6.390625 43.28125 13.890625 \nQ 47.125 21.390625 47.125 36.375 \nQ 47.125 51.421875 43.28125 58.90625 \nQ 39.453125 66.40625 31.78125 66.40625 \nz\nM 31.78125 74.21875 \nQ 44.046875 74.21875 50.515625 64.515625 \nQ 56.984375 54.828125 56.984375 36.375 \nQ 56.984375 17.96875 50.515625 8.265625 \nQ 44.046875 -1.421875 31.78125 -1.421875 \nQ 19.53125 -1.421875 13.0625 8.265625 \nQ 6.59375 17.96875 6.59375 36.375 \nQ 6.59375 54.828125 13.0625 64.515625 \nQ 19.53125 74.21875 31.78125 74.21875 \nz\n\" id=\"DejaVuSans-48\"/>\n      </defs>\n      <g style=\"fill:#262626;\" transform=\"translate(141.85375 252.497031)rotate(-90)scale(0.11 -0.11)\">\n       <use xlink:href=\"#DejaVuSans-48\"/>\n      </g>\n     </g>\n    </g>\n    <g id=\"xtick_2\">\n     <g id=\"line2d_2\">\n      <path clip-path=\"url(#pdbfb372d5f)\" d=\"M 348.068438 235.998281 \nL 348.068438 18.558281 \n\" style=\"fill:none;stroke:#ffffff;stroke-linecap:round;\"/>\n     </g>\n     <g id=\"text_2\">\n      <!-- 1 -->\n      <defs>\n       <path d=\"M 12.40625 8.296875 \nL 28.515625 8.296875 \nL 28.515625 63.921875 \nL 10.984375 60.40625 \nL 10.984375 69.390625 \nL 28.421875 72.90625 \nL 38.28125 72.90625 \nL 38.28125 8.296875 \nL 54.390625 8.296875 \nL 54.390625 0 \nL 12.40625 0 \nz\n\" id=\"DejaVuSans-49\"/>\n      </defs>\n      <g style=\"fill:#262626;\" transform=\"translate(351.10375 252.497031)rotate(-90)scale(0.11 -0.11)\">\n       <use xlink:href=\"#DejaVuSans-49\"/>\n      </g>\n     </g>\n    </g>\n    <g id=\"xtick_3\">\n     <g id=\"line2d_3\">\n      <path clip-path=\"url(#pdbfb372d5f)\" d=\"M 557.318438 235.998281 \nL 557.318438 18.558281 \n\" style=\"fill:none;stroke:#ffffff;stroke-linecap:round;\"/>\n     </g>\n     <g id=\"text_3\">\n      <!-- 2 -->\n      <defs>\n       <path d=\"M 19.1875 8.296875 \nL 53.609375 8.296875 \nL 53.609375 0 \nL 7.328125 0 \nL 7.328125 8.296875 \nQ 12.9375 14.109375 22.625 23.890625 \nQ 32.328125 33.6875 34.8125 36.53125 \nQ 39.546875 41.84375 41.421875 45.53125 \nQ 43.3125 49.21875 43.3125 52.78125 \nQ 43.3125 58.59375 39.234375 62.25 \nQ 35.15625 65.921875 28.609375 65.921875 \nQ 23.96875 65.921875 18.8125 64.3125 \nQ 13.671875 62.703125 7.8125 59.421875 \nL 7.8125 69.390625 \nQ 13.765625 71.78125 18.9375 73 \nQ 24.125 74.21875 28.421875 74.21875 \nQ 39.75 74.21875 46.484375 68.546875 \nQ 53.21875 62.890625 53.21875 53.421875 \nQ 53.21875 48.921875 51.53125 44.890625 \nQ 49.859375 40.875 45.40625 35.40625 \nQ 44.1875 33.984375 37.640625 27.21875 \nQ 31.109375 20.453125 19.1875 8.296875 \nz\n\" id=\"DejaVuSans-50\"/>\n      </defs>\n      <g style=\"fill:#262626;\" transform=\"translate(560.35375 252.497031)rotate(-90)scale(0.11 -0.11)\">\n       <use xlink:href=\"#DejaVuSans-50\"/>\n      </g>\n     </g>\n    </g>\n    <g id=\"xtick_4\">\n     <g id=\"line2d_4\">\n      <path clip-path=\"url(#pdbfb372d5f)\" d=\"M 766.568438 235.998281 \nL 766.568438 18.558281 \n\" style=\"fill:none;stroke:#ffffff;stroke-linecap:round;\"/>\n     </g>\n     <g id=\"text_4\">\n      <!-- 3 -->\n      <defs>\n       <path d=\"M 40.578125 39.3125 \nQ 47.65625 37.796875 51.625 33 \nQ 55.609375 28.21875 55.609375 21.1875 \nQ 55.609375 10.40625 48.1875 4.484375 \nQ 40.765625 -1.421875 27.09375 -1.421875 \nQ 22.515625 -1.421875 17.65625 -0.515625 \nQ 12.796875 0.390625 7.625 2.203125 \nL 7.625 11.71875 \nQ 11.71875 9.328125 16.59375 8.109375 \nQ 21.484375 6.890625 26.8125 6.890625 \nQ 36.078125 6.890625 40.9375 10.546875 \nQ 45.796875 14.203125 45.796875 21.1875 \nQ 45.796875 27.640625 41.28125 31.265625 \nQ 36.765625 34.90625 28.71875 34.90625 \nL 20.21875 34.90625 \nL 20.21875 43.015625 \nL 29.109375 43.015625 \nQ 36.375 43.015625 40.234375 45.921875 \nQ 44.09375 48.828125 44.09375 54.296875 \nQ 44.09375 59.90625 40.109375 62.90625 \nQ 36.140625 65.921875 28.71875 65.921875 \nQ 24.65625 65.921875 20.015625 65.03125 \nQ 15.375 64.15625 9.8125 62.3125 \nL 9.8125 71.09375 \nQ 15.4375 72.65625 20.34375 73.4375 \nQ 25.25 74.21875 29.59375 74.21875 \nQ 40.828125 74.21875 47.359375 69.109375 \nQ 53.90625 64.015625 53.90625 55.328125 \nQ 53.90625 49.265625 50.4375 45.09375 \nQ 46.96875 40.921875 40.578125 39.3125 \nz\n\" id=\"DejaVuSans-51\"/>\n      </defs>\n      <g style=\"fill:#262626;\" transform=\"translate(769.60375 252.497031)rotate(-90)scale(0.11 -0.11)\">\n       <use xlink:href=\"#DejaVuSans-51\"/>\n      </g>\n     </g>\n    </g>\n   </g>\n   <g id=\"matplotlib.axis_2\">\n    <g id=\"ytick_1\">\n     <g id=\"line2d_5\">\n      <path clip-path=\"url(#pdbfb372d5f)\" d=\"M 34.193438 235.998281 \nL 871.193438 235.998281 \n\" style=\"fill:none;stroke:#ffffff;stroke-linecap:round;\"/>\n     </g>\n     <g id=\"text_5\">\n      <!-- 0.0 -->\n      <defs>\n       <path d=\"M 10.6875 12.40625 \nL 21 12.40625 \nL 21 0 \nL 10.6875 0 \nz\n\" id=\"DejaVuSans-46\"/>\n      </defs>\n      <g style=\"fill:#262626;\" transform=\"translate(7.2 240.177422)scale(0.11 -0.11)\">\n       <use xlink:href=\"#DejaVuSans-48\"/>\n       <use x=\"63.623047\" xlink:href=\"#DejaVuSans-46\"/>\n       <use x=\"95.410156\" xlink:href=\"#DejaVuSans-48\"/>\n      </g>\n     </g>\n    </g>\n    <g id=\"ytick_2\">\n     <g id=\"line2d_6\">\n      <path clip-path=\"url(#pdbfb372d5f)\" d=\"M 34.193438 202.242829 \nL 871.193438 202.242829 \n\" style=\"fill:none;stroke:#ffffff;stroke-linecap:round;\"/>\n     </g>\n     <g id=\"text_6\">\n      <!-- 0.5 -->\n      <defs>\n       <path d=\"M 10.796875 72.90625 \nL 49.515625 72.90625 \nL 49.515625 64.59375 \nL 19.828125 64.59375 \nL 19.828125 46.734375 \nQ 21.96875 47.46875 24.109375 47.828125 \nQ 26.265625 48.1875 28.421875 48.1875 \nQ 40.625 48.1875 47.75 41.5 \nQ 54.890625 34.8125 54.890625 23.390625 \nQ 54.890625 11.625 47.5625 5.09375 \nQ 40.234375 -1.421875 26.90625 -1.421875 \nQ 22.3125 -1.421875 17.546875 -0.640625 \nQ 12.796875 0.140625 7.71875 1.703125 \nL 7.71875 11.625 \nQ 12.109375 9.234375 16.796875 8.0625 \nQ 21.484375 6.890625 26.703125 6.890625 \nQ 35.15625 6.890625 40.078125 11.328125 \nQ 45.015625 15.765625 45.015625 23.390625 \nQ 45.015625 31 40.078125 35.4375 \nQ 35.15625 39.890625 26.703125 39.890625 \nQ 22.75 39.890625 18.8125 39.015625 \nQ 14.890625 38.140625 10.796875 36.28125 \nz\n\" id=\"DejaVuSans-53\"/>\n      </defs>\n      <g style=\"fill:#262626;\" transform=\"translate(7.2 206.42197)scale(0.11 -0.11)\">\n       <use xlink:href=\"#DejaVuSans-48\"/>\n       <use x=\"63.623047\" xlink:href=\"#DejaVuSans-46\"/>\n       <use x=\"95.410156\" xlink:href=\"#DejaVuSans-53\"/>\n      </g>\n     </g>\n    </g>\n    <g id=\"ytick_3\">\n     <g id=\"line2d_7\">\n      <path clip-path=\"url(#pdbfb372d5f)\" d=\"M 34.193438 168.487377 \nL 871.193438 168.487377 \n\" style=\"fill:none;stroke:#ffffff;stroke-linecap:round;\"/>\n     </g>\n     <g id=\"text_7\">\n      <!-- 1.0 -->\n      <g style=\"fill:#262626;\" transform=\"translate(7.2 172.666518)scale(0.11 -0.11)\">\n       <use xlink:href=\"#DejaVuSans-49\"/>\n       <use x=\"63.623047\" xlink:href=\"#DejaVuSans-46\"/>\n       <use x=\"95.410156\" xlink:href=\"#DejaVuSans-48\"/>\n      </g>\n     </g>\n    </g>\n    <g id=\"ytick_4\">\n     <g id=\"line2d_8\">\n      <path clip-path=\"url(#pdbfb372d5f)\" d=\"M 34.193438 134.731926 \nL 871.193438 134.731926 \n\" style=\"fill:none;stroke:#ffffff;stroke-linecap:round;\"/>\n     </g>\n     <g id=\"text_8\">\n      <!-- 1.5 -->\n      <g style=\"fill:#262626;\" transform=\"translate(7.2 138.911066)scale(0.11 -0.11)\">\n       <use xlink:href=\"#DejaVuSans-49\"/>\n       <use x=\"63.623047\" xlink:href=\"#DejaVuSans-46\"/>\n       <use x=\"95.410156\" xlink:href=\"#DejaVuSans-53\"/>\n      </g>\n     </g>\n    </g>\n    <g id=\"ytick_5\">\n     <g id=\"line2d_9\">\n      <path clip-path=\"url(#pdbfb372d5f)\" d=\"M 34.193438 100.976474 \nL 871.193438 100.976474 \n\" style=\"fill:none;stroke:#ffffff;stroke-linecap:round;\"/>\n     </g>\n     <g id=\"text_9\">\n      <!-- 2.0 -->\n      <g style=\"fill:#262626;\" transform=\"translate(7.2 105.155614)scale(0.11 -0.11)\">\n       <use xlink:href=\"#DejaVuSans-50\"/>\n       <use x=\"63.623047\" xlink:href=\"#DejaVuSans-46\"/>\n       <use x=\"95.410156\" xlink:href=\"#DejaVuSans-48\"/>\n      </g>\n     </g>\n    </g>\n    <g id=\"ytick_6\">\n     <g id=\"line2d_10\">\n      <path clip-path=\"url(#pdbfb372d5f)\" d=\"M 34.193438 67.221022 \nL 871.193438 67.221022 \n\" style=\"fill:none;stroke:#ffffff;stroke-linecap:round;\"/>\n     </g>\n     <g id=\"text_10\">\n      <!-- 2.5 -->\n      <g style=\"fill:#262626;\" transform=\"translate(7.2 71.400162)scale(0.11 -0.11)\">\n       <use xlink:href=\"#DejaVuSans-50\"/>\n       <use x=\"63.623047\" xlink:href=\"#DejaVuSans-46\"/>\n       <use x=\"95.410156\" xlink:href=\"#DejaVuSans-53\"/>\n      </g>\n     </g>\n    </g>\n    <g id=\"ytick_7\">\n     <g id=\"line2d_11\">\n      <path clip-path=\"url(#pdbfb372d5f)\" d=\"M 34.193438 33.46557 \nL 871.193438 33.46557 \n\" style=\"fill:none;stroke:#ffffff;stroke-linecap:round;\"/>\n     </g>\n     <g id=\"text_11\">\n      <!-- 3.0 -->\n      <g style=\"fill:#262626;\" transform=\"translate(7.2 37.64471)scale(0.11 -0.11)\">\n       <use xlink:href=\"#DejaVuSans-51\"/>\n       <use x=\"63.623047\" xlink:href=\"#DejaVuSans-46\"/>\n       <use x=\"95.410156\" xlink:href=\"#DejaVuSans-48\"/>\n      </g>\n     </g>\n    </g>\n    <g id=\"text_12\">\n     <!-- 1e6 -->\n     <defs>\n      <path d=\"M 56.203125 29.59375 \nL 56.203125 25.203125 \nL 14.890625 25.203125 \nQ 15.484375 15.921875 20.484375 11.0625 \nQ 25.484375 6.203125 34.421875 6.203125 \nQ 39.59375 6.203125 44.453125 7.46875 \nQ 49.3125 8.734375 54.109375 11.28125 \nL 54.109375 2.78125 \nQ 49.265625 0.734375 44.1875 -0.34375 \nQ 39.109375 -1.421875 33.890625 -1.421875 \nQ 20.796875 -1.421875 13.15625 6.1875 \nQ 5.515625 13.8125 5.515625 26.8125 \nQ 5.515625 40.234375 12.765625 48.109375 \nQ 20.015625 56 32.328125 56 \nQ 43.359375 56 49.78125 48.890625 \nQ 56.203125 41.796875 56.203125 29.59375 \nz\nM 47.21875 32.234375 \nQ 47.125 39.59375 43.09375 43.984375 \nQ 39.0625 48.390625 32.421875 48.390625 \nQ 24.90625 48.390625 20.390625 44.140625 \nQ 15.875 39.890625 15.1875 32.171875 \nz\n\" id=\"DejaVuSans-101\"/>\n      <path d=\"M 33.015625 40.375 \nQ 26.375 40.375 22.484375 35.828125 \nQ 18.609375 31.296875 18.609375 23.390625 \nQ 18.609375 15.53125 22.484375 10.953125 \nQ 26.375 6.390625 33.015625 6.390625 \nQ 39.65625 6.390625 43.53125 10.953125 \nQ 47.40625 15.53125 47.40625 23.390625 \nQ 47.40625 31.296875 43.53125 35.828125 \nQ 39.65625 40.375 33.015625 40.375 \nz\nM 52.59375 71.296875 \nL 52.59375 62.3125 \nQ 48.875 64.0625 45.09375 64.984375 \nQ 41.3125 65.921875 37.59375 65.921875 \nQ 27.828125 65.921875 22.671875 59.328125 \nQ 17.53125 52.734375 16.796875 39.40625 \nQ 19.671875 43.65625 24.015625 45.921875 \nQ 28.375 48.1875 33.59375 48.1875 \nQ 44.578125 48.1875 50.953125 41.515625 \nQ 57.328125 34.859375 57.328125 23.390625 \nQ 57.328125 12.15625 50.6875 5.359375 \nQ 44.046875 -1.421875 33.015625 -1.421875 \nQ 20.359375 -1.421875 13.671875 8.265625 \nQ 6.984375 17.96875 6.984375 36.375 \nQ 6.984375 53.65625 15.1875 63.9375 \nQ 23.390625 74.21875 37.203125 74.21875 \nQ 40.921875 74.21875 44.703125 73.484375 \nQ 48.484375 72.75 52.59375 71.296875 \nz\n\" id=\"DejaVuSans-54\"/>\n     </defs>\n     <g style=\"fill:#262626;\" transform=\"translate(34.193438 15.558281)scale(0.11 -0.11)\">\n      <use xlink:href=\"#DejaVuSans-49\"/>\n      <use x=\"63.623047\" xlink:href=\"#DejaVuSans-101\"/>\n      <use x=\"125.146484\" xlink:href=\"#DejaVuSans-54\"/>\n     </g>\n    </g>\n   </g>\n   <g id=\"patch_3\">\n    <path clip-path=\"url(#pdbfb372d5f)\" d=\"M 86.505938 235.998281 \nL 101.452366 235.998281 \nL 101.452366 28.912567 \nL 86.505938 28.912567 \nz\n\" style=\"fill:#4c72b0;stroke:#ffffff;stroke-linejoin:miter;\"/>\n   </g>\n   <g id=\"patch_4\">\n    <path clip-path=\"url(#pdbfb372d5f)\" d=\"M 295.755938 235.998281 \nL 310.702366 235.998281 \nL 310.702366 40.222804 \nL 295.755938 40.222804 \nz\n\" style=\"fill:#4c72b0;stroke:#ffffff;stroke-linejoin:miter;\"/>\n   </g>\n   <g id=\"patch_5\">\n    <path clip-path=\"url(#pdbfb372d5f)\" d=\"M 505.005938 235.998281 \nL 519.952366 235.998281 \nL 519.952366 63.073219 \nL 505.005938 63.073219 \nz\n\" style=\"fill:#4c72b0;stroke:#ffffff;stroke-linejoin:miter;\"/>\n   </g>\n   <g id=\"patch_6\">\n    <path clip-path=\"url(#pdbfb372d5f)\" d=\"M 714.255938 235.998281 \nL 729.202366 235.998281 \nL 729.202366 67.13292 \nL 714.255938 67.13292 \nz\n\" style=\"fill:#4c72b0;stroke:#ffffff;stroke-linejoin:miter;\"/>\n   </g>\n   <g id=\"patch_7\">\n    <path clip-path=\"url(#pdbfb372d5f)\" d=\"M 101.452366 235.998281 \nL 116.398795 235.998281 \nL 116.398795 55.783257 \nL 101.452366 55.783257 \nz\n\" style=\"fill:#dd8452;stroke:#ffffff;stroke-linejoin:miter;\"/>\n   </g>\n   <g id=\"patch_8\">\n    <path clip-path=\"url(#pdbfb372d5f)\" d=\"M 310.702366 235.998281 \nL 325.648795 235.998281 \nL 325.648795 69.213269 \nL 310.702366 69.213269 \nz\n\" style=\"fill:#dd8452;stroke:#ffffff;stroke-linejoin:miter;\"/>\n   </g>\n   <g id=\"patch_9\">\n    <path clip-path=\"url(#pdbfb372d5f)\" d=\"M 519.952366 235.998281 \nL 534.898795 235.998281 \nL 534.898795 89.867959 \nL 519.952366 89.867959 \nz\n\" style=\"fill:#dd8452;stroke:#ffffff;stroke-linejoin:miter;\"/>\n   </g>\n   <g id=\"patch_10\">\n    <path clip-path=\"url(#pdbfb372d5f)\" d=\"M 729.202366 235.998281 \nL 744.148795 235.998281 \nL 744.148795 99.155772 \nL 729.202366 99.155772 \nz\n\" style=\"fill:#dd8452;stroke:#ffffff;stroke-linejoin:miter;\"/>\n   </g>\n   <g id=\"patch_11\">\n    <path clip-path=\"url(#pdbfb372d5f)\" d=\"M 116.398795 235.998281 \nL 131.345223 235.998281 \nL 131.345223 76.979723 \nL 116.398795 76.979723 \nz\n\" style=\"fill:#55a868;stroke:#ffffff;stroke-linejoin:miter;\"/>\n   </g>\n   <g id=\"patch_12\">\n    <path clip-path=\"url(#pdbfb372d5f)\" d=\"M 325.648795 235.998281 \nL 340.595223 235.998281 \nL 340.595223 74.682462 \nL 325.648795 74.682462 \nz\n\" style=\"fill:#55a868;stroke:#ffffff;stroke-linejoin:miter;\"/>\n   </g>\n   <g id=\"patch_13\">\n    <path clip-path=\"url(#pdbfb372d5f)\" d=\"M 534.898795 235.998281 \nL 549.845223 235.998281 \nL 549.845223 94.209248 \nL 534.898795 94.209248 \nz\n\" style=\"fill:#55a868;stroke:#ffffff;stroke-linejoin:miter;\"/>\n   </g>\n   <g id=\"patch_14\">\n    <path clip-path=\"url(#pdbfb372d5f)\" d=\"M 744.148795 235.998281 \nL 759.095223 235.998281 \nL 759.095223 96.004431 \nL 744.148795 96.004431 \nz\n\" style=\"fill:#55a868;stroke:#ffffff;stroke-linejoin:miter;\"/>\n   </g>\n   <g id=\"patch_15\">\n    <path clip-path=\"url(#pdbfb372d5f)\" d=\"M 131.345223 235.998281 \nL 146.291652 235.998281 \nL 146.291652 62.258363 \nL 131.345223 62.258363 \nz\n\" style=\"fill:#c44e52;stroke:#ffffff;stroke-linejoin:miter;\"/>\n   </g>\n   <g id=\"patch_16\">\n    <path clip-path=\"url(#pdbfb372d5f)\" d=\"M 340.595223 235.998281 \nL 355.541652 235.998281 \nL 355.541652 70.574221 \nL 340.595223 70.574221 \nz\n\" style=\"fill:#c44e52;stroke:#ffffff;stroke-linejoin:miter;\"/>\n   </g>\n   <g id=\"patch_17\">\n    <path clip-path=\"url(#pdbfb372d5f)\" d=\"M 549.845223 235.998281 \nL 564.791652 235.998281 \nL 564.791652 74.238848 \nL 549.845223 74.238848 \nz\n\" style=\"fill:#c44e52;stroke:#ffffff;stroke-linejoin:miter;\"/>\n   </g>\n   <g id=\"patch_18\">\n    <path clip-path=\"url(#pdbfb372d5f)\" d=\"M 759.095223 235.998281 \nL 774.041652 235.998281 \nL 774.041652 79.050485 \nL 759.095223 79.050485 \nz\n\" style=\"fill:#c44e52;stroke:#ffffff;stroke-linejoin:miter;\"/>\n   </g>\n   <g id=\"patch_19\">\n    <path clip-path=\"url(#pdbfb372d5f)\" d=\"M 146.291652 235.998281 \nL 161.23808 235.998281 \nL 161.23808 47.735822 \nL 146.291652 47.735822 \nz\n\" style=\"fill:#8172b3;stroke:#ffffff;stroke-linejoin:miter;\"/>\n   </g>\n   <g id=\"patch_20\">\n    <path clip-path=\"url(#pdbfb372d5f)\" d=\"M 355.541652 235.998281 \nL 370.48808 235.998281 \nL 370.48808 62.265249 \nL 355.541652 62.265249 \nz\n\" style=\"fill:#8172b3;stroke:#ffffff;stroke-linejoin:miter;\"/>\n   </g>\n   <g id=\"patch_21\">\n    <path clip-path=\"url(#pdbfb372d5f)\" d=\"M 564.791652 235.998281 \nL 579.73808 235.998281 \nL 579.73808 73.936264 \nL 564.791652 73.936264 \nz\n\" style=\"fill:#8172b3;stroke:#ffffff;stroke-linejoin:miter;\"/>\n   </g>\n   <g id=\"patch_22\">\n    <path clip-path=\"url(#pdbfb372d5f)\" d=\"M 774.041652 235.998281 \nL 788.98808 235.998281 \nL 788.98808 79.568969 \nL 774.041652 79.568969 \nz\n\" style=\"fill:#8172b3;stroke:#ffffff;stroke-linejoin:miter;\"/>\n   </g>\n   <g id=\"patch_23\">\n    <path clip-path=\"url(#pdbfb372d5f)\" d=\"M 161.23808 235.998281 \nL 176.184509 235.998281 \nL 176.184509 53.749356 \nL 161.23808 53.749356 \nz\n\" style=\"fill:#937860;stroke:#ffffff;stroke-linejoin:miter;\"/>\n   </g>\n   <g id=\"patch_24\">\n    <path clip-path=\"url(#pdbfb372d5f)\" d=\"M 370.48808 235.998281 \nL 385.434509 235.998281 \nL 385.434509 66.287819 \nL 370.48808 66.287819 \nz\n\" style=\"fill:#937860;stroke:#ffffff;stroke-linejoin:miter;\"/>\n   </g>\n   <g id=\"patch_25\">\n    <path clip-path=\"url(#pdbfb372d5f)\" d=\"M 579.73808 235.998281 \nL 594.684509 235.998281 \nL 594.684509 80.892992 \nL 579.73808 80.892992 \nz\n\" style=\"fill:#937860;stroke:#ffffff;stroke-linejoin:miter;\"/>\n   </g>\n   <g id=\"patch_26\">\n    <path clip-path=\"url(#pdbfb372d5f)\" d=\"M 788.98808 235.998281 \nL 803.934509 235.998281 \nL 803.934509 95.143802 \nL 788.98808 95.143802 \nz\n\" style=\"fill:#937860;stroke:#ffffff;stroke-linejoin:miter;\"/>\n   </g>\n   <g id=\"patch_27\">\n    <path clip-path=\"url(#pdbfb372d5f)\" d=\"M 176.184509 235.998281 \nL 191.130938 235.998281 \nL 191.130938 84.449804 \nL 176.184509 84.449804 \nz\n\" style=\"fill:#da8bc3;stroke:#ffffff;stroke-linejoin:miter;\"/>\n   </g>\n   <g id=\"patch_28\">\n    <path clip-path=\"url(#pdbfb372d5f)\" d=\"M 385.434509 235.998281 \nL 400.380937 235.998281 \nL 400.380937 96.807608 \nL 385.434509 96.807608 \nz\n\" style=\"fill:#da8bc3;stroke:#ffffff;stroke-linejoin:miter;\"/>\n   </g>\n   <g id=\"patch_29\">\n    <path clip-path=\"url(#pdbfb372d5f)\" d=\"M 594.684509 235.998281 \nL 609.630938 235.998281 \nL 609.630938 109.585802 \nL 594.684509 109.585802 \nz\n\" style=\"fill:#da8bc3;stroke:#ffffff;stroke-linejoin:miter;\"/>\n   </g>\n   <g id=\"patch_30\">\n    <path clip-path=\"url(#pdbfb372d5f)\" d=\"M 803.934509 235.998281 \nL 818.880938 235.998281 \nL 818.880938 129.271104 \nL 803.934509 129.271104 \nz\n\" style=\"fill:#da8bc3;stroke:#ffffff;stroke-linejoin:miter;\"/>\n   </g>\n   <g id=\"patch_31\">\n    <path d=\"M 34.193438 235.998281 \nL 34.193438 18.558281 \n\" style=\"fill:none;stroke:#ffffff;stroke-linecap:square;stroke-linejoin:miter;stroke-width:1.25;\"/>\n   </g>\n   <g id=\"patch_32\">\n    <path d=\"M 871.193438 235.998281 \nL 871.193438 18.558281 \n\" style=\"fill:none;stroke:#ffffff;stroke-linecap:square;stroke-linejoin:miter;stroke-width:1.25;\"/>\n   </g>\n   <g id=\"patch_33\">\n    <path d=\"M 34.193438 235.998281 \nL 871.193438 235.998281 \n\" style=\"fill:none;stroke:#ffffff;stroke-linecap:square;stroke-linejoin:miter;stroke-width:1.25;\"/>\n   </g>\n   <g id=\"patch_34\">\n    <path d=\"M 34.193438 18.558281 \nL 871.193438 18.558281 \n\" style=\"fill:none;stroke:#ffffff;stroke-linecap:square;stroke-linejoin:miter;stroke-width:1.25;\"/>\n   </g>\n   <g id=\"legend_1\">\n    <g id=\"patch_35\">\n     <path d=\"M 421.095937 230.498281 \nL 484.290937 230.498281 \nQ 486.490937 230.498281 486.490937 228.298281 \nL 486.490937 116.376719 \nQ 486.490937 114.176719 484.290937 114.176719 \nL 421.095937 114.176719 \nQ 418.895938 114.176719 418.895938 116.376719 \nL 418.895938 228.298281 \nQ 418.895938 230.498281 421.095937 230.498281 \nz\n\" style=\"fill:#eaeaf2;opacity:0.8;stroke:#cccccc;stroke-linejoin:miter;\"/>\n    </g>\n    <g id=\"patch_36\">\n     <path d=\"M 423.295937 126.935 \nL 445.295937 126.935 \nL 445.295937 119.235 \nL 423.295937 119.235 \nz\n\" style=\"fill:#4c72b0;stroke:#ffffff;stroke-linejoin:miter;\"/>\n    </g>\n    <g id=\"text_13\">\n     <!-- 2014 -->\n     <defs>\n      <path d=\"M 37.796875 64.3125 \nL 12.890625 25.390625 \nL 37.796875 25.390625 \nz\nM 35.203125 72.90625 \nL 47.609375 72.90625 \nL 47.609375 25.390625 \nL 58.015625 25.390625 \nL 58.015625 17.1875 \nL 47.609375 17.1875 \nL 47.609375 0 \nL 37.796875 0 \nL 37.796875 17.1875 \nL 4.890625 17.1875 \nL 4.890625 26.703125 \nz\n\" id=\"DejaVuSans-52\"/>\n     </defs>\n     <g style=\"fill:#262626;\" transform=\"translate(454.095937 126.935)scale(0.11 -0.11)\">\n      <use xlink:href=\"#DejaVuSans-50\"/>\n      <use x=\"63.623047\" xlink:href=\"#DejaVuSans-48\"/>\n      <use x=\"127.246094\" xlink:href=\"#DejaVuSans-49\"/>\n      <use x=\"190.869141\" xlink:href=\"#DejaVuSans-52\"/>\n     </g>\n    </g>\n    <g id=\"patch_37\">\n     <path d=\"M 423.295937 143.080938 \nL 445.295937 143.080938 \nL 445.295937 135.380938 \nL 423.295937 135.380938 \nz\n\" style=\"fill:#dd8452;stroke:#ffffff;stroke-linejoin:miter;\"/>\n    </g>\n    <g id=\"text_14\">\n     <!-- 2015 -->\n     <g style=\"fill:#262626;\" transform=\"translate(454.095937 143.080938)scale(0.11 -0.11)\">\n      <use xlink:href=\"#DejaVuSans-50\"/>\n      <use x=\"63.623047\" xlink:href=\"#DejaVuSans-48\"/>\n      <use x=\"127.246094\" xlink:href=\"#DejaVuSans-49\"/>\n      <use x=\"190.869141\" xlink:href=\"#DejaVuSans-53\"/>\n     </g>\n    </g>\n    <g id=\"patch_38\">\n     <path d=\"M 423.295937 159.226875 \nL 445.295937 159.226875 \nL 445.295937 151.526875 \nL 423.295937 151.526875 \nz\n\" style=\"fill:#55a868;stroke:#ffffff;stroke-linejoin:miter;\"/>\n    </g>\n    <g id=\"text_15\">\n     <!-- 2016 -->\n     <g style=\"fill:#262626;\" transform=\"translate(454.095937 159.226875)scale(0.11 -0.11)\">\n      <use xlink:href=\"#DejaVuSans-50\"/>\n      <use x=\"63.623047\" xlink:href=\"#DejaVuSans-48\"/>\n      <use x=\"127.246094\" xlink:href=\"#DejaVuSans-49\"/>\n      <use x=\"190.869141\" xlink:href=\"#DejaVuSans-54\"/>\n     </g>\n    </g>\n    <g id=\"patch_39\">\n     <path d=\"M 423.295937 175.372813 \nL 445.295937 175.372813 \nL 445.295937 167.672813 \nL 423.295937 167.672813 \nz\n\" style=\"fill:#c44e52;stroke:#ffffff;stroke-linejoin:miter;\"/>\n    </g>\n    <g id=\"text_16\">\n     <!-- 2017 -->\n     <defs>\n      <path d=\"M 8.203125 72.90625 \nL 55.078125 72.90625 \nL 55.078125 68.703125 \nL 28.609375 0 \nL 18.3125 0 \nL 43.21875 64.59375 \nL 8.203125 64.59375 \nz\n\" id=\"DejaVuSans-55\"/>\n     </defs>\n     <g style=\"fill:#262626;\" transform=\"translate(454.095937 175.372813)scale(0.11 -0.11)\">\n      <use xlink:href=\"#DejaVuSans-50\"/>\n      <use x=\"63.623047\" xlink:href=\"#DejaVuSans-48\"/>\n      <use x=\"127.246094\" xlink:href=\"#DejaVuSans-49\"/>\n      <use x=\"190.869141\" xlink:href=\"#DejaVuSans-55\"/>\n     </g>\n    </g>\n    <g id=\"patch_40\">\n     <path d=\"M 423.295937 191.51875 \nL 445.295937 191.51875 \nL 445.295937 183.81875 \nL 423.295937 183.81875 \nz\n\" style=\"fill:#8172b3;stroke:#ffffff;stroke-linejoin:miter;\"/>\n    </g>\n    <g id=\"text_17\">\n     <!-- 2018 -->\n     <defs>\n      <path d=\"M 31.78125 34.625 \nQ 24.75 34.625 20.71875 30.859375 \nQ 16.703125 27.09375 16.703125 20.515625 \nQ 16.703125 13.921875 20.71875 10.15625 \nQ 24.75 6.390625 31.78125 6.390625 \nQ 38.8125 6.390625 42.859375 10.171875 \nQ 46.921875 13.96875 46.921875 20.515625 \nQ 46.921875 27.09375 42.890625 30.859375 \nQ 38.875 34.625 31.78125 34.625 \nz\nM 21.921875 38.8125 \nQ 15.578125 40.375 12.03125 44.71875 \nQ 8.5 49.078125 8.5 55.328125 \nQ 8.5 64.0625 14.71875 69.140625 \nQ 20.953125 74.21875 31.78125 74.21875 \nQ 42.671875 74.21875 48.875 69.140625 \nQ 55.078125 64.0625 55.078125 55.328125 \nQ 55.078125 49.078125 51.53125 44.71875 \nQ 48 40.375 41.703125 38.8125 \nQ 48.828125 37.15625 52.796875 32.3125 \nQ 56.78125 27.484375 56.78125 20.515625 \nQ 56.78125 9.90625 50.3125 4.234375 \nQ 43.84375 -1.421875 31.78125 -1.421875 \nQ 19.734375 -1.421875 13.25 4.234375 \nQ 6.78125 9.90625 6.78125 20.515625 \nQ 6.78125 27.484375 10.78125 32.3125 \nQ 14.796875 37.15625 21.921875 38.8125 \nz\nM 18.3125 54.390625 \nQ 18.3125 48.734375 21.84375 45.5625 \nQ 25.390625 42.390625 31.78125 42.390625 \nQ 38.140625 42.390625 41.71875 45.5625 \nQ 45.3125 48.734375 45.3125 54.390625 \nQ 45.3125 60.0625 41.71875 63.234375 \nQ 38.140625 66.40625 31.78125 66.40625 \nQ 25.390625 66.40625 21.84375 63.234375 \nQ 18.3125 60.0625 18.3125 54.390625 \nz\n\" id=\"DejaVuSans-56\"/>\n     </defs>\n     <g style=\"fill:#262626;\" transform=\"translate(454.095937 191.51875)scale(0.11 -0.11)\">\n      <use xlink:href=\"#DejaVuSans-50\"/>\n      <use x=\"63.623047\" xlink:href=\"#DejaVuSans-48\"/>\n      <use x=\"127.246094\" xlink:href=\"#DejaVuSans-49\"/>\n      <use x=\"190.869141\" xlink:href=\"#DejaVuSans-56\"/>\n     </g>\n    </g>\n    <g id=\"patch_41\">\n     <path d=\"M 423.295937 207.664688 \nL 445.295937 207.664688 \nL 445.295937 199.964688 \nL 423.295937 199.964688 \nz\n\" style=\"fill:#937860;stroke:#ffffff;stroke-linejoin:miter;\"/>\n    </g>\n    <g id=\"text_18\">\n     <!-- 2019 -->\n     <defs>\n      <path d=\"M 10.984375 1.515625 \nL 10.984375 10.5 \nQ 14.703125 8.734375 18.5 7.8125 \nQ 22.3125 6.890625 25.984375 6.890625 \nQ 35.75 6.890625 40.890625 13.453125 \nQ 46.046875 20.015625 46.78125 33.40625 \nQ 43.953125 29.203125 39.59375 26.953125 \nQ 35.25 24.703125 29.984375 24.703125 \nQ 19.046875 24.703125 12.671875 31.3125 \nQ 6.296875 37.9375 6.296875 49.421875 \nQ 6.296875 60.640625 12.9375 67.421875 \nQ 19.578125 74.21875 30.609375 74.21875 \nQ 43.265625 74.21875 49.921875 64.515625 \nQ 56.59375 54.828125 56.59375 36.375 \nQ 56.59375 19.140625 48.40625 8.859375 \nQ 40.234375 -1.421875 26.421875 -1.421875 \nQ 22.703125 -1.421875 18.890625 -0.6875 \nQ 15.09375 0.046875 10.984375 1.515625 \nz\nM 30.609375 32.421875 \nQ 37.25 32.421875 41.125 36.953125 \nQ 45.015625 41.5 45.015625 49.421875 \nQ 45.015625 57.28125 41.125 61.84375 \nQ 37.25 66.40625 30.609375 66.40625 \nQ 23.96875 66.40625 20.09375 61.84375 \nQ 16.21875 57.28125 16.21875 49.421875 \nQ 16.21875 41.5 20.09375 36.953125 \nQ 23.96875 32.421875 30.609375 32.421875 \nz\n\" id=\"DejaVuSans-57\"/>\n     </defs>\n     <g style=\"fill:#262626;\" transform=\"translate(454.095937 207.664688)scale(0.11 -0.11)\">\n      <use xlink:href=\"#DejaVuSans-50\"/>\n      <use x=\"63.623047\" xlink:href=\"#DejaVuSans-48\"/>\n      <use x=\"127.246094\" xlink:href=\"#DejaVuSans-49\"/>\n      <use x=\"190.869141\" xlink:href=\"#DejaVuSans-57\"/>\n     </g>\n    </g>\n    <g id=\"patch_42\">\n     <path d=\"M 423.295937 223.810625 \nL 445.295937 223.810625 \nL 445.295937 216.110625 \nL 423.295937 216.110625 \nz\n\" style=\"fill:#da8bc3;stroke:#ffffff;stroke-linejoin:miter;\"/>\n    </g>\n    <g id=\"text_19\">\n     <!-- 2020 -->\n     <g style=\"fill:#262626;\" transform=\"translate(454.095937 223.810625)scale(0.11 -0.11)\">\n      <use xlink:href=\"#DejaVuSans-50\"/>\n      <use x=\"63.623047\" xlink:href=\"#DejaVuSans-48\"/>\n      <use x=\"127.246094\" xlink:href=\"#DejaVuSans-50\"/>\n      <use x=\"190.869141\" xlink:href=\"#DejaVuSans-48\"/>\n     </g>\n    </g>\n   </g>\n  </g>\n </g>\n <defs>\n  <clipPath id=\"pdbfb372d5f\">\n   <rect height=\"217.44\" width=\"837\" x=\"34.193438\" y=\"18.558281\"/>\n  </clipPath>\n </defs>\n</svg>\n"
          },
          "metadata": {
            "tags": [],
            "needs_background": "light"
          }
        }
      ]
    },
    {
      "cell_type": "markdown",
      "metadata": {
        "id": "8KsbQ8anYmxh"
      },
      "source": [
        "Eu agrupei o número de abates das fêmeas por ano e trimestre, assim foi possível identificar que no primeiro trimestre é sempre onde tem maior número de abate de fêmeas. Isso mostra a importância da questão da oferta de fêmeas no período de abate, pois quando a oferta está muito alta ela tende a preencher a escala do frigorifico e pressionar o preços da @ de macho."
      ]
    },
    {
      "cell_type": "markdown",
      "metadata": {
        "id": "HKUFevexZnWu"
      },
      "source": [
        "**Mas por que isso é mais forte no primeiro trimestre?** isso é devido ao processo de classificação do produtor quanto as fêmeas que não irão emprenhar novamente no outro ano, assim decorre o descarte maior dessas no primeiro e no segundo semestre. Outra quesão é a redução que ocorre no terceiro trimestre que é devido a entressafra, decorrente da não existência de bois de pasto e o momento com menor oferta de fêmeas."
      ]
    },
    {
      "cell_type": "markdown",
      "metadata": {
        "id": "Ufa-0MqnaUan"
      },
      "source": [
        "### Sazonalidade do Boi Gordo"
      ]
    },
    {
      "cell_type": "code",
      "metadata": {
        "id": "ysBn6pH-fhYV",
        "outputId": "ce733e1c-a411-4899-d8dd-3836ba22dcad",
        "colab": {
          "base_uri": "https://localhost:8080/",
          "height": 233
        }
      },
      "source": [
        "#Pré-processando dados\n",
        "dados2 = df.copy()\n",
        "boi_gordo = pd.DataFrame(dados2[\"Live Cattle\"].fillna(dados2[\"Live Cattle\"].median()))\n",
        "boi_gordo = boi_gordo.reset_index()\n",
        "boi_gordo = boi_gordo.groupby(pd.Grouper(key='Date',freq='M')).first()\n",
        "boi_gordo2 = boi_gordo[boi_gordo.index > '2014-01-01']\n",
        "boi_gordo3 = boi_gordo[boi_gordo.index > '2017-01-01']\n",
        "boi_gordo.head()"
      ],
      "execution_count": 29,
      "outputs": [
        {
          "output_type": "execute_result",
          "data": {
            "text/html": [
              "<div>\n",
              "<style scoped>\n",
              "    .dataframe tbody tr th:only-of-type {\n",
              "        vertical-align: middle;\n",
              "    }\n",
              "\n",
              "    .dataframe tbody tr th {\n",
              "        vertical-align: top;\n",
              "    }\n",
              "\n",
              "    .dataframe thead th {\n",
              "        text-align: right;\n",
              "    }\n",
              "</style>\n",
              "<table border=\"1\" class=\"dataframe\">\n",
              "  <thead>\n",
              "    <tr style=\"text-align: right;\">\n",
              "      <th></th>\n",
              "      <th>Live Cattle</th>\n",
              "    </tr>\n",
              "    <tr>\n",
              "      <th>Date</th>\n",
              "      <th></th>\n",
              "    </tr>\n",
              "  </thead>\n",
              "  <tbody>\n",
              "    <tr>\n",
              "      <th>1997-01-31</th>\n",
              "      <td>64.800</td>\n",
              "    </tr>\n",
              "    <tr>\n",
              "      <th>1997-02-28</th>\n",
              "      <td>63.825</td>\n",
              "    </tr>\n",
              "    <tr>\n",
              "      <th>1997-03-31</th>\n",
              "      <td>69.250</td>\n",
              "    </tr>\n",
              "    <tr>\n",
              "      <th>1997-04-30</th>\n",
              "      <td>68.200</td>\n",
              "    </tr>\n",
              "    <tr>\n",
              "      <th>1997-05-31</th>\n",
              "      <td>65.225</td>\n",
              "    </tr>\n",
              "  </tbody>\n",
              "</table>\n",
              "</div>"
            ],
            "text/plain": [
              "            Live Cattle\n",
              "Date                   \n",
              "1997-01-31       64.800\n",
              "1997-02-28       63.825\n",
              "1997-03-31       69.250\n",
              "1997-04-30       68.200\n",
              "1997-05-31       65.225"
            ]
          },
          "metadata": {
            "tags": []
          },
          "execution_count": 29
        }
      ]
    },
    {
      "cell_type": "code",
      "metadata": {
        "id": "ybt2QXM2dJcX"
      },
      "source": [
        "#Calcular decomposição da série\n",
        "boi_gordo_seasonal = seasonal_decompose(boi_gordo)\n",
        "boi_gordo2_seasonal = seasonal_decompose(boi_gordo2)\n",
        "boi_gordo3_seasonal = seasonal_decompose(boi_gordo3)"
      ],
      "execution_count": 47,
      "outputs": []
    },
    {
      "cell_type": "code",
      "metadata": {
        "id": "3YgO94tXqjUJ",
        "outputId": "ae9e7a57-f403-4dde-bb26-924fa00547db",
        "colab": {
          "base_uri": "https://localhost:8080/",
          "height": 625
        }
      },
      "source": [
        "# Plotar decomposição e série do boi gordo\n",
        "fig, ax = plt.subplots(4,figsize = (10,8))\n",
        "ax[0].plot(boi_gordo_seasonal.observed)\n",
        "ax[1].plot(boi_gordo_seasonal.trend)\n",
        "ax[2].plot(boi_gordo_seasonal.seasonal)\n",
        "ax[3].plot(boi_gordo_seasonal.resid)\n",
        "\n",
        "ax[0].set_title('Observado')\n",
        "ax[1].set_title('Tendência')\n",
        "ax[2].set_title('Sazonalidade')\n",
        "ax[3].set_title('Ruído')\n",
        "fig.autofmt_xdate()\n",
        "plt.show()"
      ],
      "execution_count": 39,
      "outputs": [
        {
          "output_type": "display_data",
          "data": {
            "text/plain": [
              "<Figure size 720x576 with 4 Axes>"
            ],
            "image/svg+xml": "<?xml version=\"1.0\" encoding=\"utf-8\" standalone=\"no\"?>\n<!DOCTYPE svg PUBLIC \"-//W3C//DTD SVG 1.1//EN\"\n  \"http://www.w3.org/Graphics/SVG/1.1/DTD/svg11.dtd\">\n<!-- Created with matplotlib (https://matplotlib.org/) -->\n<svg height=\"453.915277pt\" version=\"1.1\" viewBox=\"0 0 608.611094 453.915277\" width=\"608.611094pt\" xmlns=\"http://www.w3.org/2000/svg\" xmlns:xlink=\"http://www.w3.org/1999/xlink\">\n <defs>\n  <style type=\"text/css\">\n*{stroke-linecap:butt;stroke-linejoin:round;}\n  </style>\n </defs>\n <g id=\"figure_1\">\n  <g id=\"patch_1\">\n   <path d=\"M 0 453.915277 \nL 608.611094 453.915277 \nL 608.611094 0 \nL 0 0 \nz\n\" style=\"fill:none;\"/>\n  </g>\n  <g id=\"axes_1\">\n   <g id=\"patch_2\">\n    <path d=\"M 43.411094 107.465951 \nL 601.411094 107.465951 \nL 601.411094 22.318125 \nL 43.411094 22.318125 \nz\n\" style=\"fill:#eaeaf2;\"/>\n   </g>\n   <g id=\"matplotlib.axis_1\">\n    <g id=\"xtick_1\">\n     <g id=\"line2d_1\">\n      <path clip-path=\"url(#p2a96fcbe8c)\" d=\"M 46.400036 107.465951 \nL 46.400036 22.318125 \n\" style=\"fill:none;stroke:#ffffff;stroke-linecap:round;\"/>\n     </g>\n    </g>\n    <g id=\"xtick_2\">\n     <g id=\"line2d_2\">\n      <path clip-path=\"url(#p2a96fcbe8c)\" d=\"M 128.949096 107.465951 \nL 128.949096 22.318125 \n\" style=\"fill:none;stroke:#ffffff;stroke-linecap:round;\"/>\n     </g>\n    </g>\n    <g id=\"xtick_3\">\n     <g id=\"line2d_3\">\n      <path clip-path=\"url(#p2a96fcbe8c)\" d=\"M 211.498155 107.465951 \nL 211.498155 22.318125 \n\" style=\"fill:none;stroke:#ffffff;stroke-linecap:round;\"/>\n     </g>\n    </g>\n    <g id=\"xtick_4\">\n     <g id=\"line2d_4\">\n      <path clip-path=\"url(#p2a96fcbe8c)\" d=\"M 294.047214 107.465951 \nL 294.047214 22.318125 \n\" style=\"fill:none;stroke:#ffffff;stroke-linecap:round;\"/>\n     </g>\n    </g>\n    <g id=\"xtick_5\">\n     <g id=\"line2d_5\">\n      <path clip-path=\"url(#p2a96fcbe8c)\" d=\"M 376.596274 107.465951 \nL 376.596274 22.318125 \n\" style=\"fill:none;stroke:#ffffff;stroke-linecap:round;\"/>\n     </g>\n    </g>\n    <g id=\"xtick_6\">\n     <g id=\"line2d_6\">\n      <path clip-path=\"url(#p2a96fcbe8c)\" d=\"M 459.145333 107.465951 \nL 459.145333 22.318125 \n\" style=\"fill:none;stroke:#ffffff;stroke-linecap:round;\"/>\n     </g>\n    </g>\n    <g id=\"xtick_7\">\n     <g id=\"line2d_7\">\n      <path clip-path=\"url(#p2a96fcbe8c)\" d=\"M 541.694392 107.465951 \nL 541.694392 22.318125 \n\" style=\"fill:none;stroke:#ffffff;stroke-linecap:round;\"/>\n     </g>\n    </g>\n   </g>\n   <g id=\"matplotlib.axis_2\">\n    <g id=\"ytick_1\">\n     <g id=\"line2d_8\">\n      <path clip-path=\"url(#p2a96fcbe8c)\" d=\"M 43.411094 74.695783 \nL 601.411094 74.695783 \n\" style=\"fill:none;stroke:#ffffff;stroke-linecap:round;\"/>\n     </g>\n     <g id=\"text_1\">\n      <!-- 100 -->\n      <defs>\n       <path d=\"M 12.40625 8.296875 \nL 28.515625 8.296875 \nL 28.515625 63.921875 \nL 10.984375 60.40625 \nL 10.984375 69.390625 \nL 28.421875 72.90625 \nL 38.28125 72.90625 \nL 38.28125 8.296875 \nL 54.390625 8.296875 \nL 54.390625 0 \nL 12.40625 0 \nz\n\" id=\"DejaVuSans-49\"/>\n       <path d=\"M 31.78125 66.40625 \nQ 24.171875 66.40625 20.328125 58.90625 \nQ 16.5 51.421875 16.5 36.375 \nQ 16.5 21.390625 20.328125 13.890625 \nQ 24.171875 6.390625 31.78125 6.390625 \nQ 39.453125 6.390625 43.28125 13.890625 \nQ 47.125 21.390625 47.125 36.375 \nQ 47.125 51.421875 43.28125 58.90625 \nQ 39.453125 66.40625 31.78125 66.40625 \nz\nM 31.78125 74.21875 \nQ 44.046875 74.21875 50.515625 64.515625 \nQ 56.984375 54.828125 56.984375 36.375 \nQ 56.984375 17.96875 50.515625 8.265625 \nQ 44.046875 -1.421875 31.78125 -1.421875 \nQ 19.53125 -1.421875 13.0625 8.265625 \nQ 6.59375 17.96875 6.59375 36.375 \nQ 6.59375 54.828125 13.0625 64.515625 \nQ 19.53125 74.21875 31.78125 74.21875 \nz\n\" id=\"DejaVuSans-48\"/>\n      </defs>\n      <g style=\"fill:#262626;\" transform=\"translate(12.914844 78.874924)scale(0.11 -0.11)\">\n       <use xlink:href=\"#DejaVuSans-49\"/>\n       <use x=\"63.623047\" xlink:href=\"#DejaVuSans-48\"/>\n       <use x=\"127.246094\" xlink:href=\"#DejaVuSans-48\"/>\n      </g>\n     </g>\n    </g>\n    <g id=\"ytick_2\">\n     <g id=\"line2d_9\">\n      <path clip-path=\"url(#p2a96fcbe8c)\" d=\"M 43.411094 40.022944 \nL 601.411094 40.022944 \n\" style=\"fill:none;stroke:#ffffff;stroke-linecap:round;\"/>\n     </g>\n     <g id=\"text_2\">\n      <!-- 150 -->\n      <defs>\n       <path d=\"M 10.796875 72.90625 \nL 49.515625 72.90625 \nL 49.515625 64.59375 \nL 19.828125 64.59375 \nL 19.828125 46.734375 \nQ 21.96875 47.46875 24.109375 47.828125 \nQ 26.265625 48.1875 28.421875 48.1875 \nQ 40.625 48.1875 47.75 41.5 \nQ 54.890625 34.8125 54.890625 23.390625 \nQ 54.890625 11.625 47.5625 5.09375 \nQ 40.234375 -1.421875 26.90625 -1.421875 \nQ 22.3125 -1.421875 17.546875 -0.640625 \nQ 12.796875 0.140625 7.71875 1.703125 \nL 7.71875 11.625 \nQ 12.109375 9.234375 16.796875 8.0625 \nQ 21.484375 6.890625 26.703125 6.890625 \nQ 35.15625 6.890625 40.078125 11.328125 \nQ 45.015625 15.765625 45.015625 23.390625 \nQ 45.015625 31 40.078125 35.4375 \nQ 35.15625 39.890625 26.703125 39.890625 \nQ 22.75 39.890625 18.8125 39.015625 \nQ 14.890625 38.140625 10.796875 36.28125 \nz\n\" id=\"DejaVuSans-53\"/>\n      </defs>\n      <g style=\"fill:#262626;\" transform=\"translate(12.914844 44.202084)scale(0.11 -0.11)\">\n       <use xlink:href=\"#DejaVuSans-49\"/>\n       <use x=\"63.623047\" xlink:href=\"#DejaVuSans-53\"/>\n       <use x=\"127.246094\" xlink:href=\"#DejaVuSans-48\"/>\n      </g>\n     </g>\n    </g>\n   </g>\n   <g id=\"line2d_10\">\n    <path clip-path=\"url(#p2a96fcbe8c)\" d=\"M 68.77473 99.105463 \nL 70.356779 99.781583 \nL 72.108333 96.01958 \nL 73.803386 96.74771 \nL 75.55494 98.810743 \nL 77.249993 99.382845 \nL 79.001547 99.226818 \nL 80.753101 97.215793 \nL 82.448154 97.302475 \nL 84.199708 97.874577 \nL 85.894761 97.493176 \nL 87.646315 97.701213 \nL 90.979919 100.041629 \nL 92.731473 98.914762 \nL 94.426525 99.226818 \nL 96.17808 95.898225 \nL 97.873132 99.001444 \nL 99.624687 99.521537 \nL 101.376241 103.595595 \nL 103.071293 103.127512 \nL 104.822848 102.763447 \nL 106.5179 99.538873 \nL 108.269455 100.214993 \nL 110.021009 102.694102 \nL 111.603058 100.648404 \nL 113.354612 96.713037 \nL 115.049665 97.510512 \nL 116.801219 100.544385 \nL 118.496272 99.3135 \nL 120.247826 100.787095 \nL 121.99938 99.174808 \nL 123.694433 98.013268 \nL 125.445987 96.348972 \nL 127.14104 96.869064 \nL 128.892594 95.794206 \nL 130.644148 95.707524 \nL 132.282699 95.014068 \nL 134.034253 94.12991 \nL 135.729306 94.025892 \nL 137.48086 96.383645 \nL 139.175913 96.799719 \nL 140.927467 97.701213 \nL 142.679021 97.978595 \nL 144.374074 97.631867 \nL 146.125628 95.932898 \nL 147.820681 93.991219 \nL 149.572235 93.817855 \nL 151.323789 90.003842 \nL 152.905838 89.223703 \nL 154.657393 87.715435 \nL 156.352445 89.414404 \nL 158.104 94.233929 \nL 159.799052 92.222904 \nL 161.550606 92.795006 \nL 163.302161 94.37262 \nL 164.997213 93.159071 \nL 166.748768 98.047941 \nL 168.44382 96.782382 \nL 170.195375 97.441166 \nL 171.946929 95.135422 \nL 173.528978 93.332435 \nL 175.280532 92.257577 \nL 176.975585 94.164583 \nL 178.727139 100.197657 \nL 180.422192 101.064478 \nL 182.173746 99.122799 \nL 183.9253 99.348172 \nL 185.620353 97.597194 \nL 187.371907 97.354484 \nL 189.06696 93.384444 \nL 190.818514 92.04954 \nL 192.570068 88.842302 \nL 194.152117 86.692586 \nL 195.903672 92.066876 \nL 197.598724 91.182719 \nL 199.350278 91.893512 \nL 201.045331 90.766645 \nL 202.796885 93.973882 \nL 204.54844 89.102348 \nL 206.243492 85.236327 \nL 207.995046 82.393154 \nL 209.690099 76.654799 \nL 211.441653 75.371904 \nL 213.193208 92.864351 \nL 214.831758 90.974682 \nL 216.583313 88.772956 \nL 218.278365 89.18903 \nL 220.02992 84.889598 \nL 221.724972 83.953432 \nL 223.476526 83.641376 \nL 225.228081 84.924271 \nL 226.923133 85.444364 \nL 228.674688 84.490861 \nL 230.36974 84.404179 \nL 232.121294 82.202453 \nL 233.872849 78.899865 \nL 237.206452 83.468012 \nL 238.901505 81.821052 \nL 240.653059 81.630351 \nL 242.348112 85.479037 \nL 244.099666 89.033003 \nL 245.85122 87.264688 \nL 247.546273 87.83679 \nL 249.297827 82.16778 \nL 250.99288 81.682361 \nL 252.744434 78.596478 \nL 254.495988 77.209564 \nL 256.078037 79.515308 \nL 257.829591 83.693385 \nL 259.524644 88.408892 \nL 261.276198 92.014867 \nL 262.971251 88.582256 \nL 264.722805 84.161469 \nL 266.47436 85.964456 \nL 268.169412 79.307271 \nL 269.920966 80.538157 \nL 271.616019 83.329321 \nL 273.367573 84.750907 \nL 275.119128 78.899865 \nL 276.701177 81.751706 \nL 278.452731 77.365592 \nL 280.147783 75.38924 \nL 281.899338 78.943206 \nL 283.59439 81.075586 \nL 285.345945 81.855725 \nL 287.097499 79.255262 \nL 288.792551 76.342743 \nL 290.544106 77.313583 \nL 292.239158 78.787179 \nL 293.990713 78.700496 \nL 295.742267 77.296246 \nL 297.380818 81.474324 \nL 299.132372 79.792691 \nL 300.827425 83.433339 \nL 304.274031 77.885685 \nL 306.025586 72.39004 \nL 307.77714 74.678447 \nL 309.472193 72.09532 \nL 312.918799 79.324608 \nL 314.670354 84.78558 \nL 316.421908 83.641376 \nL 318.003957 85.860438 \nL 319.755511 85.825765 \nL 321.450564 85.94712 \nL 324.897171 88.200855 \nL 326.648725 84.577543 \nL 328.400279 85.479037 \nL 330.095332 84.334833 \nL 331.846886 85.721746 \nL 333.541939 78.899865 \nL 335.293493 86.796605 \nL 337.045047 84.239136 \nL 338.627097 84.924271 \nL 340.378651 80.434138 \nL 342.073703 77.018864 \nL 343.825258 77.799003 \nL 345.52031 81.075586 \nL 347.271865 81.665024 \nL 350.718471 76.256061 \nL 352.470026 77.504283 \nL 354.165078 75.978679 \nL 355.916633 72.216675 \nL 357.668187 69.858922 \nL 361.00179 66.790376 \nL 362.696843 59.387725 \nL 364.448397 78.899865 \nL 366.14345 73.204851 \nL 367.895004 65.784864 \nL 371.341611 65.264771 \nL 373.093165 78.899865 \nL 374.788218 59.717117 \nL 376.539772 59.50908 \nL 378.291326 59.613098 \nL 379.929877 56.873944 \nL 381.681431 53.233296 \nL 383.376484 78.899865 \nL 385.128038 65.31678 \nL 386.823091 62.421598 \nL 388.574645 78.899865 \nL 390.326199 61.520104 \nL 392.021252 56.544552 \nL 393.772806 58.728941 \nL 395.467859 57.13399 \nL 397.219413 78.899865 \nL 398.970967 52.24512 \nL 400.553016 55.903104 \nL 402.304571 53.926752 \nL 403.999623 54.758901 \nL 405.751178 59.110342 \nL 407.44623 60.323891 \nL 409.197784 59.318379 \nL 410.949339 60.271882 \nL 412.644391 56.527215 \nL 414.395946 55.799086 \nL 416.090998 52.453157 \nL 417.842552 51.638345 \nL 419.594107 50.641154 \nL 421.176156 46.697465 \nL 422.92771 44.097002 \nL 424.622763 43.663592 \nL 426.374317 47.477604 \nL 428.06937 48.552462 \nL 429.820924 38.982759 \nL 431.572478 34.960709 \nL 433.267531 38.341311 \nL 435.019085 31.37207 \nL 436.714138 28.199505 \nL 438.465692 26.188481 \nL 440.217246 29.153009 \nL 441.799295 37.803882 \nL 443.55085 37.630518 \nL 445.245902 31.840154 \nL 446.997456 40.595046 \nL 448.692509 37.838555 \nL 450.444063 39.277478 \nL 452.195618 41.409857 \nL 453.89067 46.038681 \nL 455.642224 59.855808 \nL 457.337277 45.795972 \nL 459.088831 52.43582 \nL 460.840386 49.43662 \nL 462.478936 49.956712 \nL 464.230491 48.968536 \nL 465.925543 51.829046 \nL 467.677098 63.739166 \nL 469.37215 59.838472 \nL 471.123704 65.698182 \nL 472.875259 63.652484 \nL 474.570311 72.216675 \nL 476.321866 75.44125 \nL 478.016918 70.864435 \nL 479.768472 67.362478 \nL 481.520027 64.380614 \nL 483.102076 63.895194 \nL 486.548683 61.225385 \nL 488.300237 57.966138 \nL 489.995289 55.677731 \nL 491.746844 63.773839 \nL 493.498398 65.819537 \nL 495.193451 71.124481 \nL 496.945005 69.269484 \nL 498.640057 56.249833 \nL 500.391612 62.75099 \nL 502.143166 58.503567 \nL 503.725215 56.371188 \nL 505.476769 58.520904 \nL 507.171822 66.096919 \nL 508.923376 70.656398 \nL 510.618429 71.297845 \nL 512.369983 69.910932 \nL 514.121537 68.714719 \nL 515.81659 78.899865 \nL 517.568144 65.212762 \nL 519.263197 62.820336 \nL 521.014751 62.9937 \nL 522.766305 58.382212 \nL 524.348355 57.047308 \nL 526.099909 54.204135 \nL 527.794961 56.544552 \nL 529.546516 65.07407 \nL 531.241568 69.997614 \nL 532.993123 71.852611 \nL 534.744677 69.234811 \nL 536.439729 75.19854 \nL 538.191284 71.488546 \nL 539.886336 61.15604 \nL 541.637891 78.899865 \nL 543.389445 56.683243 \nL 545.027996 59.665107 \nL 546.77955 67.657197 \nL 548.474603 76.55078 \nL 550.226157 83.537358 \nL 551.921209 75.87466 \nL 553.672764 76.568117 \nL 555.424318 78.899865 \nL 557.119371 70.899108 \nL 558.870925 68.784064 \nL 560.565977 78.899865 \nL 562.317532 67.327805 \nL 564.069086 64.207249 \nL 565.651135 64.380614 \nL 567.402689 61.537441 \nL 569.097742 60.809311 \nL 570.849296 78.899865 \nL 572.544349 65.299444 \nL 574.295903 58.34754 \nL 576.047457 78.899865 \nL 576.047457 78.899865 \n\" style=\"fill:none;stroke:#4c72b0;stroke-linecap:round;stroke-width:1.5;\"/>\n   </g>\n   <g id=\"patch_3\">\n    <path d=\"M 43.411094 107.465951 \nL 43.411094 22.318125 \n\" style=\"fill:none;stroke:#ffffff;stroke-linecap:square;stroke-linejoin:miter;stroke-width:1.25;\"/>\n   </g>\n   <g id=\"patch_4\">\n    <path d=\"M 601.411094 107.465951 \nL 601.411094 22.318125 \n\" style=\"fill:none;stroke:#ffffff;stroke-linecap:square;stroke-linejoin:miter;stroke-width:1.25;\"/>\n   </g>\n   <g id=\"patch_5\">\n    <path d=\"M 43.411094 107.465951 \nL 601.411094 107.465951 \n\" style=\"fill:none;stroke:#ffffff;stroke-linecap:square;stroke-linejoin:miter;stroke-width:1.25;\"/>\n   </g>\n   <g id=\"patch_6\">\n    <path d=\"M 43.411094 22.318125 \nL 601.411094 22.318125 \n\" style=\"fill:none;stroke:#ffffff;stroke-linecap:square;stroke-linejoin:miter;stroke-width:1.25;\"/>\n   </g>\n   <g id=\"text_3\">\n    <!-- Observado -->\n    <defs>\n     <path d=\"M 39.40625 66.21875 \nQ 28.65625 66.21875 22.328125 58.203125 \nQ 16.015625 50.203125 16.015625 36.375 \nQ 16.015625 22.609375 22.328125 14.59375 \nQ 28.65625 6.59375 39.40625 6.59375 \nQ 50.140625 6.59375 56.421875 14.59375 \nQ 62.703125 22.609375 62.703125 36.375 \nQ 62.703125 50.203125 56.421875 58.203125 \nQ 50.140625 66.21875 39.40625 66.21875 \nz\nM 39.40625 74.21875 \nQ 54.734375 74.21875 63.90625 63.9375 \nQ 73.09375 53.65625 73.09375 36.375 \nQ 73.09375 19.140625 63.90625 8.859375 \nQ 54.734375 -1.421875 39.40625 -1.421875 \nQ 24.03125 -1.421875 14.8125 8.828125 \nQ 5.609375 19.09375 5.609375 36.375 \nQ 5.609375 53.65625 14.8125 63.9375 \nQ 24.03125 74.21875 39.40625 74.21875 \nz\n\" id=\"DejaVuSans-79\"/>\n     <path d=\"M 48.6875 27.296875 \nQ 48.6875 37.203125 44.609375 42.84375 \nQ 40.53125 48.484375 33.40625 48.484375 \nQ 26.265625 48.484375 22.1875 42.84375 \nQ 18.109375 37.203125 18.109375 27.296875 \nQ 18.109375 17.390625 22.1875 11.75 \nQ 26.265625 6.109375 33.40625 6.109375 \nQ 40.53125 6.109375 44.609375 11.75 \nQ 48.6875 17.390625 48.6875 27.296875 \nz\nM 18.109375 46.390625 \nQ 20.953125 51.265625 25.265625 53.625 \nQ 29.59375 56 35.59375 56 \nQ 45.5625 56 51.78125 48.09375 \nQ 58.015625 40.1875 58.015625 27.296875 \nQ 58.015625 14.40625 51.78125 6.484375 \nQ 45.5625 -1.421875 35.59375 -1.421875 \nQ 29.59375 -1.421875 25.265625 0.953125 \nQ 20.953125 3.328125 18.109375 8.203125 \nL 18.109375 0 \nL 9.078125 0 \nL 9.078125 75.984375 \nL 18.109375 75.984375 \nz\n\" id=\"DejaVuSans-98\"/>\n     <path d=\"M 44.28125 53.078125 \nL 44.28125 44.578125 \nQ 40.484375 46.53125 36.375 47.5 \nQ 32.28125 48.484375 27.875 48.484375 \nQ 21.1875 48.484375 17.84375 46.4375 \nQ 14.5 44.390625 14.5 40.28125 \nQ 14.5 37.15625 16.890625 35.375 \nQ 19.28125 33.59375 26.515625 31.984375 \nL 29.59375 31.296875 \nQ 39.15625 29.25 43.1875 25.515625 \nQ 47.21875 21.78125 47.21875 15.09375 \nQ 47.21875 7.46875 41.1875 3.015625 \nQ 35.15625 -1.421875 24.609375 -1.421875 \nQ 20.21875 -1.421875 15.453125 -0.5625 \nQ 10.6875 0.296875 5.421875 2 \nL 5.421875 11.28125 \nQ 10.40625 8.6875 15.234375 7.390625 \nQ 20.0625 6.109375 24.8125 6.109375 \nQ 31.15625 6.109375 34.5625 8.28125 \nQ 37.984375 10.453125 37.984375 14.40625 \nQ 37.984375 18.0625 35.515625 20.015625 \nQ 33.0625 21.96875 24.703125 23.78125 \nL 21.578125 24.515625 \nQ 13.234375 26.265625 9.515625 29.90625 \nQ 5.8125 33.546875 5.8125 39.890625 \nQ 5.8125 47.609375 11.28125 51.796875 \nQ 16.75 56 26.8125 56 \nQ 31.78125 56 36.171875 55.265625 \nQ 40.578125 54.546875 44.28125 53.078125 \nz\n\" id=\"DejaVuSans-115\"/>\n     <path d=\"M 56.203125 29.59375 \nL 56.203125 25.203125 \nL 14.890625 25.203125 \nQ 15.484375 15.921875 20.484375 11.0625 \nQ 25.484375 6.203125 34.421875 6.203125 \nQ 39.59375 6.203125 44.453125 7.46875 \nQ 49.3125 8.734375 54.109375 11.28125 \nL 54.109375 2.78125 \nQ 49.265625 0.734375 44.1875 -0.34375 \nQ 39.109375 -1.421875 33.890625 -1.421875 \nQ 20.796875 -1.421875 13.15625 6.1875 \nQ 5.515625 13.8125 5.515625 26.8125 \nQ 5.515625 40.234375 12.765625 48.109375 \nQ 20.015625 56 32.328125 56 \nQ 43.359375 56 49.78125 48.890625 \nQ 56.203125 41.796875 56.203125 29.59375 \nz\nM 47.21875 32.234375 \nQ 47.125 39.59375 43.09375 43.984375 \nQ 39.0625 48.390625 32.421875 48.390625 \nQ 24.90625 48.390625 20.390625 44.140625 \nQ 15.875 39.890625 15.1875 32.171875 \nz\n\" id=\"DejaVuSans-101\"/>\n     <path d=\"M 41.109375 46.296875 \nQ 39.59375 47.171875 37.8125 47.578125 \nQ 36.03125 48 33.890625 48 \nQ 26.265625 48 22.1875 43.046875 \nQ 18.109375 38.09375 18.109375 28.8125 \nL 18.109375 0 \nL 9.078125 0 \nL 9.078125 54.6875 \nL 18.109375 54.6875 \nL 18.109375 46.1875 \nQ 20.953125 51.171875 25.484375 53.578125 \nQ 30.03125 56 36.53125 56 \nQ 37.453125 56 38.578125 55.875 \nQ 39.703125 55.765625 41.0625 55.515625 \nz\n\" id=\"DejaVuSans-114\"/>\n     <path d=\"M 2.984375 54.6875 \nL 12.5 54.6875 \nL 29.59375 8.796875 \nL 46.6875 54.6875 \nL 56.203125 54.6875 \nL 35.6875 0 \nL 23.484375 0 \nz\n\" id=\"DejaVuSans-118\"/>\n     <path d=\"M 34.28125 27.484375 \nQ 23.390625 27.484375 19.1875 25 \nQ 14.984375 22.515625 14.984375 16.5 \nQ 14.984375 11.71875 18.140625 8.90625 \nQ 21.296875 6.109375 26.703125 6.109375 \nQ 34.1875 6.109375 38.703125 11.40625 \nQ 43.21875 16.703125 43.21875 25.484375 \nL 43.21875 27.484375 \nz\nM 52.203125 31.203125 \nL 52.203125 0 \nL 43.21875 0 \nL 43.21875 8.296875 \nQ 40.140625 3.328125 35.546875 0.953125 \nQ 30.953125 -1.421875 24.3125 -1.421875 \nQ 15.921875 -1.421875 10.953125 3.296875 \nQ 6 8.015625 6 15.921875 \nQ 6 25.140625 12.171875 29.828125 \nQ 18.359375 34.515625 30.609375 34.515625 \nL 43.21875 34.515625 \nL 43.21875 35.40625 \nQ 43.21875 41.609375 39.140625 45 \nQ 35.0625 48.390625 27.6875 48.390625 \nQ 23 48.390625 18.546875 47.265625 \nQ 14.109375 46.140625 10.015625 43.890625 \nL 10.015625 52.203125 \nQ 14.9375 54.109375 19.578125 55.046875 \nQ 24.21875 56 28.609375 56 \nQ 40.484375 56 46.34375 49.84375 \nQ 52.203125 43.703125 52.203125 31.203125 \nz\n\" id=\"DejaVuSans-97\"/>\n     <path d=\"M 45.40625 46.390625 \nL 45.40625 75.984375 \nL 54.390625 75.984375 \nL 54.390625 0 \nL 45.40625 0 \nL 45.40625 8.203125 \nQ 42.578125 3.328125 38.25 0.953125 \nQ 33.9375 -1.421875 27.875 -1.421875 \nQ 17.96875 -1.421875 11.734375 6.484375 \nQ 5.515625 14.40625 5.515625 27.296875 \nQ 5.515625 40.1875 11.734375 48.09375 \nQ 17.96875 56 27.875 56 \nQ 33.9375 56 38.25 53.625 \nQ 42.578125 51.265625 45.40625 46.390625 \nz\nM 14.796875 27.296875 \nQ 14.796875 17.390625 18.875 11.75 \nQ 22.953125 6.109375 30.078125 6.109375 \nQ 37.203125 6.109375 41.296875 11.75 \nQ 45.40625 17.390625 45.40625 27.296875 \nQ 45.40625 37.203125 41.296875 42.84375 \nQ 37.203125 48.484375 30.078125 48.484375 \nQ 22.953125 48.484375 18.875 42.84375 \nQ 14.796875 37.203125 14.796875 27.296875 \nz\n\" id=\"DejaVuSans-100\"/>\n     <path d=\"M 30.609375 48.390625 \nQ 23.390625 48.390625 19.1875 42.75 \nQ 14.984375 37.109375 14.984375 27.296875 \nQ 14.984375 17.484375 19.15625 11.84375 \nQ 23.34375 6.203125 30.609375 6.203125 \nQ 37.796875 6.203125 41.984375 11.859375 \nQ 46.1875 17.53125 46.1875 27.296875 \nQ 46.1875 37.015625 41.984375 42.703125 \nQ 37.796875 48.390625 30.609375 48.390625 \nz\nM 30.609375 56 \nQ 42.328125 56 49.015625 48.375 \nQ 55.71875 40.765625 55.71875 27.296875 \nQ 55.71875 13.875 49.015625 6.21875 \nQ 42.328125 -1.421875 30.609375 -1.421875 \nQ 18.84375 -1.421875 12.171875 6.21875 \nQ 5.515625 13.875 5.515625 27.296875 \nQ 5.515625 40.765625 12.171875 48.375 \nQ 18.84375 56 30.609375 56 \nz\n\" id=\"DejaVuSans-111\"/>\n    </defs>\n    <g style=\"fill:#262626;\" transform=\"translate(289.886406 16.318125)scale(0.12 -0.12)\">\n     <use xlink:href=\"#DejaVuSans-79\"/>\n     <use x=\"78.710938\" xlink:href=\"#DejaVuSans-98\"/>\n     <use x=\"142.1875\" xlink:href=\"#DejaVuSans-115\"/>\n     <use x=\"194.287109\" xlink:href=\"#DejaVuSans-101\"/>\n     <use x=\"255.810547\" xlink:href=\"#DejaVuSans-114\"/>\n     <use x=\"296.923828\" xlink:href=\"#DejaVuSans-118\"/>\n     <use x=\"356.103516\" xlink:href=\"#DejaVuSans-97\"/>\n     <use x=\"417.382812\" xlink:href=\"#DejaVuSans-100\"/>\n     <use x=\"480.859375\" xlink:href=\"#DejaVuSans-111\"/>\n    </g>\n   </g>\n  </g>\n  <g id=\"axes_2\">\n   <g id=\"patch_7\">\n    <path d=\"M 43.411094 209.643342 \nL 601.411094 209.643342 \nL 601.411094 124.495516 \nL 43.411094 124.495516 \nz\n\" style=\"fill:#eaeaf2;\"/>\n   </g>\n   <g id=\"matplotlib.axis_3\">\n    <g id=\"xtick_8\">\n     <g id=\"line2d_11\">\n      <path clip-path=\"url(#p2318a2e925)\" d=\"M 120.838946 209.643342 \nL 120.838946 124.495516 \n\" style=\"fill:none;stroke:#ffffff;stroke-linecap:round;\"/>\n     </g>\n    </g>\n    <g id=\"xtick_9\">\n     <g id=\"line2d_12\">\n      <path clip-path=\"url(#p2318a2e925)\" d=\"M 206.886253 209.643342 \nL 206.886253 124.495516 \n\" style=\"fill:none;stroke:#ffffff;stroke-linecap:round;\"/>\n     </g>\n    </g>\n    <g id=\"xtick_10\">\n     <g id=\"line2d_13\">\n      <path clip-path=\"url(#p2318a2e925)\" d=\"M 292.93356 209.643342 \nL 292.93356 124.495516 \n\" style=\"fill:none;stroke:#ffffff;stroke-linecap:round;\"/>\n     </g>\n    </g>\n    <g id=\"xtick_11\">\n     <g id=\"line2d_14\">\n      <path clip-path=\"url(#p2318a2e925)\" d=\"M 378.980867 209.643342 \nL 378.980867 124.495516 \n\" style=\"fill:none;stroke:#ffffff;stroke-linecap:round;\"/>\n     </g>\n    </g>\n    <g id=\"xtick_12\">\n     <g id=\"line2d_15\">\n      <path clip-path=\"url(#p2318a2e925)\" d=\"M 465.028174 209.643342 \nL 465.028174 124.495516 \n\" style=\"fill:none;stroke:#ffffff;stroke-linecap:round;\"/>\n     </g>\n    </g>\n    <g id=\"xtick_13\">\n     <g id=\"line2d_16\">\n      <path clip-path=\"url(#p2318a2e925)\" d=\"M 551.075481 209.643342 \nL 551.075481 124.495516 \n\" style=\"fill:none;stroke:#ffffff;stroke-linecap:round;\"/>\n     </g>\n    </g>\n   </g>\n   <g id=\"matplotlib.axis_4\">\n    <g id=\"ytick_3\">\n     <g id=\"line2d_17\">\n      <path clip-path=\"url(#p2318a2e925)\" d=\"M 43.411094 175.496367 \nL 601.411094 175.496367 \n\" style=\"fill:none;stroke:#ffffff;stroke-linecap:round;\"/>\n     </g>\n     <g id=\"text_4\">\n      <!-- 100 -->\n      <g style=\"fill:#262626;\" transform=\"translate(12.914844 179.675508)scale(0.11 -0.11)\">\n       <use xlink:href=\"#DejaVuSans-49\"/>\n       <use x=\"63.623047\" xlink:href=\"#DejaVuSans-48\"/>\n       <use x=\"127.246094\" xlink:href=\"#DejaVuSans-48\"/>\n      </g>\n     </g>\n    </g>\n    <g id=\"ytick_4\">\n     <g id=\"line2d_18\">\n      <path clip-path=\"url(#p2318a2e925)\" d=\"M 43.411094 134.921284 \nL 601.411094 134.921284 \n\" style=\"fill:none;stroke:#ffffff;stroke-linecap:round;\"/>\n     </g>\n     <g id=\"text_5\">\n      <!-- 150 -->\n      <g style=\"fill:#262626;\" transform=\"translate(12.914844 139.100425)scale(0.11 -0.11)\">\n       <use xlink:href=\"#DejaVuSans-49\"/>\n       <use x=\"63.623047\" xlink:href=\"#DejaVuSans-53\"/>\n       <use x=\"127.246094\" xlink:href=\"#DejaVuSans-48\"/>\n      </g>\n     </g>\n    </g>\n   </g>\n   <g id=\"line2d_19\">\n    <path clip-path=\"url(#p2318a2e925)\" d=\"M 68.77473 202.827067 \nL 70.600511 202.834674 \nL 75.960063 203.229436 \nL 77.785844 203.068826 \nL 79.611626 203.0646 \nL 81.260719 203.390046 \nL 84.853385 204.507551 \nL 88.446051 205.067995 \nL 92.097614 205.580255 \nL 97.457166 205.454303 \nL 99.282947 205.696063 \nL 101.108728 205.772987 \nL 102.757821 205.619139 \nL 111.768935 203.247188 \nL 113.594717 202.631799 \nL 115.361602 202.23112 \nL 118.954268 201.562476 \nL 122.605831 200.963994 \nL 124.31382 200.755201 \nL 129.732268 200.478784 \nL 131.499153 200.242096 \nL 133.324934 199.867621 \nL 138.743382 198.174457 \nL 144.16183 197.054416 \nL 147.636704 196.24545 \nL 149.403589 196.130487 \nL 152.996256 196.682477 \nL 160.240485 198.434814 \nL 162.00737 198.957218 \nL 167.308025 200.969911 \nL 169.133807 201.428917 \nL 170.900692 201.611505 \nL 172.726473 201.412011 \nL 174.493358 200.983436 \nL 178.144921 199.78309 \nL 179.911806 199.450036 \nL 181.737588 199.295344 \nL 183.504473 198.745044 \nL 185.330254 197.838022 \nL 188.805128 196.334208 \nL 190.630909 195.231918 \nL 192.397795 193.899703 \nL 195.990461 190.725548 \nL 197.816242 190.108469 \nL 199.642024 190.513374 \nL 201.408909 190.561557 \nL 203.23469 190.303736 \nL 205.001575 189.865018 \nL 206.827357 189.191303 \nL 210.361127 187.647759 \nL 212.186908 187.454182 \nL 213.953793 187.566609 \nL 215.779575 188.046747 \nL 217.54646 188.757657 \nL 219.372241 188.40981 \nL 221.198023 187.24708 \nL 222.964908 186.506585 \nL 226.557574 185.370482 \nL 228.383356 185.285951 \nL 233.684011 186.231012 \nL 235.450896 186.234394 \nL 242.695125 185.262282 \nL 244.46201 185.196348 \nL 246.287792 185.528556 \nL 248.054677 186.356119 \nL 249.880458 187.013773 \nL 251.70624 186.927551 \nL 253.355332 186.626619 \nL 256.947999 185.651972 \nL 258.77378 185.652817 \nL 262.366447 186.415713 \nL 264.192228 186.607177 \nL 265.959113 186.407683 \nL 267.784894 185.464312 \nL 269.55178 184.192114 \nL 271.377561 183.188726 \nL 276.678216 181.79903 \nL 280.270883 181.118552 \nL 282.037768 180.602065 \nL 283.863549 180.228859 \nL 285.689331 180.137142 \nL 287.456216 180.241961 \nL 291.048882 181.226752 \nL 292.874664 181.15321 \nL 298.234215 179.421161 \nL 300.0011 179.134599 \nL 301.826882 179.081345 \nL 303.593767 179.404255 \nL 307.24533 180.533594 \nL 310.837996 181.458368 \nL 312.604881 181.897086 \nL 314.430662 182.716196 \nL 316.256444 183.813414 \nL 319.731318 186.057723 \nL 321.498203 187.143952 \nL 323.323984 187.612678 \nL 328.742432 187.800727 \nL 330.509317 187.492187 \nL 332.335099 186.793958 \nL 335.927765 185.103329 \nL 339.402639 184.151083 \nL 346.587972 181.245315 \nL 350.239535 178.329015 \nL 353.832201 175.335757 \nL 355.599087 174.52975 \nL 357.424868 174.199655 \nL 359.250649 173.041574 \nL 360.899742 171.612571 \nL 362.725523 170.421946 \nL 364.492408 169.954064 \nL 366.31819 169.229207 \nL 368.085075 167.816687 \nL 373.503523 164.407535 \nL 377.096189 164.986998 \nL 378.921971 163.798909 \nL 380.747752 163.912603 \nL 382.455741 164.359352 \nL 384.281522 163.741427 \nL 386.048407 162.332711 \nL 387.874189 161.223236 \nL 389.641074 162.042768 \nL 391.466855 162.628994 \nL 393.292636 162.222398 \nL 395.059522 162.208873 \nL 396.885303 161.065585 \nL 398.652188 159.585862 \nL 400.477969 159.180957 \nL 403.952844 157.108246 \nL 407.54551 156.902835 \nL 409.371291 156.531742 \nL 411.138176 154.974251 \nL 412.963958 153.566786 \nL 414.789739 153.039715 \nL 418.382406 151.091266 \nL 421.975072 148.841885 \nL 423.800853 147.276363 \nL 425.449946 145.05065 \nL 429.042613 140.851975 \nL 434.461061 133.766145 \nL 436.286842 132.284749 \nL 439.879508 130.643994 \nL 443.472175 128.873906 \nL 445.297956 128.365872 \nL 446.947049 128.694699 \nL 448.77283 129.384476 \nL 450.539715 131.148646 \nL 455.958163 137.802115 \nL 457.783945 139.383698 \nL 459.55083 140.529098 \nL 461.376611 142.056581 \nL 464.969277 146.360921 \nL 472.095714 155.492006 \nL 475.688381 159.424407 \nL 481.106829 163.629 \nL 482.93261 164.747351 \nL 484.699495 164.924022 \nL 486.525276 164.439657 \nL 488.351058 164.142951 \nL 491.825932 164.207195 \nL 493.592817 163.853009 \nL 497.185483 161.902023 \nL 499.011265 161.390608 \nL 502.603931 160.175892 \nL 504.429713 160.219003 \nL 506.196598 161.075306 \nL 508.022379 162.455704 \nL 509.84816 163.516574 \nL 513.323034 164.477273 \nL 520.508367 165.119289 \nL 522.334149 165.146339 \nL 524.101034 164.968823 \nL 527.6937 163.554613 \nL 529.519482 163.219023 \nL 536.587022 163.340748 \nL 538.412804 163.565602 \nL 542.00547 164.952763 \nL 543.831251 164.997564 \nL 545.598137 165.78117 \nL 547.423918 167.412627 \nL 549.190803 169.288379 \nL 551.016584 170.4752 \nL 552.842366 170.991687 \nL 554.550355 171.692876 \nL 556.376136 171.9545 \nL 558.143021 171.612993 \nL 559.968802 172.346303 \nL 561.735688 172.647235 \nL 563.561469 172.449854 \nL 565.38725 173.046646 \nL 567.154135 172.978176 \nL 570.746802 170.918568 \nL 572.572583 170.176804 \nL 574.398365 168.772738 \nL 576.047457 167.884312 \nL 576.047457 167.884312 \n\" style=\"fill:none;stroke:#4c72b0;stroke-linecap:round;stroke-width:1.5;\"/>\n   </g>\n   <g id=\"patch_8\">\n    <path d=\"M 43.411094 209.643342 \nL 43.411094 124.495516 \n\" style=\"fill:none;stroke:#ffffff;stroke-linecap:square;stroke-linejoin:miter;stroke-width:1.25;\"/>\n   </g>\n   <g id=\"patch_9\">\n    <path d=\"M 601.411094 209.643342 \nL 601.411094 124.495516 \n\" style=\"fill:none;stroke:#ffffff;stroke-linecap:square;stroke-linejoin:miter;stroke-width:1.25;\"/>\n   </g>\n   <g id=\"patch_10\">\n    <path d=\"M 43.411094 209.643342 \nL 601.411094 209.643342 \n\" style=\"fill:none;stroke:#ffffff;stroke-linecap:square;stroke-linejoin:miter;stroke-width:1.25;\"/>\n   </g>\n   <g id=\"patch_11\">\n    <path d=\"M 43.411094 124.495516 \nL 601.411094 124.495516 \n\" style=\"fill:none;stroke:#ffffff;stroke-linecap:square;stroke-linejoin:miter;stroke-width:1.25;\"/>\n   </g>\n   <g id=\"text_6\">\n    <!-- Tendência -->\n    <defs>\n     <path d=\"M -0.296875 72.90625 \nL 61.375 72.90625 \nL 61.375 64.59375 \nL 35.5 64.59375 \nL 35.5 0 \nL 25.59375 0 \nL 25.59375 64.59375 \nL -0.296875 64.59375 \nz\n\" id=\"DejaVuSans-84\"/>\n     <path d=\"M 54.890625 33.015625 \nL 54.890625 0 \nL 45.90625 0 \nL 45.90625 32.71875 \nQ 45.90625 40.484375 42.875 44.328125 \nQ 39.84375 48.1875 33.796875 48.1875 \nQ 26.515625 48.1875 22.3125 43.546875 \nQ 18.109375 38.921875 18.109375 30.90625 \nL 18.109375 0 \nL 9.078125 0 \nL 9.078125 54.6875 \nL 18.109375 54.6875 \nL 18.109375 46.1875 \nQ 21.34375 51.125 25.703125 53.5625 \nQ 30.078125 56 35.796875 56 \nQ 45.21875 56 50.046875 50.171875 \nQ 54.890625 44.34375 54.890625 33.015625 \nz\n\" id=\"DejaVuSans-110\"/>\n     <path d=\"M 56.203125 29.59375 \nL 56.203125 25.203125 \nL 14.890625 25.203125 \nQ 15.484375 15.921875 20.484375 11.0625 \nQ 25.484375 6.203125 34.421875 6.203125 \nQ 39.59375 6.203125 44.453125 7.46875 \nQ 49.3125 8.734375 54.109375 11.28125 \nL 54.109375 2.78125 \nQ 49.265625 0.734375 44.1875 -0.34375 \nQ 39.109375 -1.421875 33.890625 -1.421875 \nQ 20.796875 -1.421875 13.15625 6.1875 \nQ 5.515625 13.8125 5.515625 26.8125 \nQ 5.515625 40.234375 12.765625 48.109375 \nQ 20.015625 56 32.328125 56 \nQ 43.359375 56 49.78125 48.890625 \nQ 56.203125 41.796875 56.203125 29.59375 \nz\nM 47.21875 32.234375 \nQ 47.125 39.59375 43.09375 43.984375 \nQ 39.0625 48.390625 32.421875 48.390625 \nQ 24.90625 48.390625 20.390625 44.140625 \nQ 15.875 39.890625 15.1875 32.171875 \nz\nM 28.140625 79.984375 \nL 35.359375 79.984375 \nL 47.328125 61.625 \nL 40.546875 61.625 \nL 31.75 73.578125 \nL 22.96875 61.625 \nL 16.171875 61.625 \nz\n\" id=\"DejaVuSans-234\"/>\n     <path d=\"M 48.78125 52.59375 \nL 48.78125 44.1875 \nQ 44.96875 46.296875 41.140625 47.34375 \nQ 37.3125 48.390625 33.40625 48.390625 \nQ 24.65625 48.390625 19.8125 42.84375 \nQ 14.984375 37.3125 14.984375 27.296875 \nQ 14.984375 17.28125 19.8125 11.734375 \nQ 24.65625 6.203125 33.40625 6.203125 \nQ 37.3125 6.203125 41.140625 7.25 \nQ 44.96875 8.296875 48.78125 10.40625 \nL 48.78125 2.09375 \nQ 45.015625 0.34375 40.984375 -0.53125 \nQ 36.96875 -1.421875 32.421875 -1.421875 \nQ 20.0625 -1.421875 12.78125 6.34375 \nQ 5.515625 14.109375 5.515625 27.296875 \nQ 5.515625 40.671875 12.859375 48.328125 \nQ 20.21875 56 33.015625 56 \nQ 37.15625 56 41.109375 55.140625 \nQ 45.0625 54.296875 48.78125 52.59375 \nz\n\" id=\"DejaVuSans-99\"/>\n     <path d=\"M 9.421875 54.6875 \nL 18.40625 54.6875 \nL 18.40625 0 \nL 9.421875 0 \nz\nM 9.421875 75.984375 \nL 18.40625 75.984375 \nL 18.40625 64.59375 \nL 9.421875 64.59375 \nz\n\" id=\"DejaVuSans-105\"/>\n    </defs>\n    <g style=\"fill:#262626;\" transform=\"translate(292.325781 118.495516)scale(0.12 -0.12)\">\n     <use xlink:href=\"#DejaVuSans-84\"/>\n     <use x=\"44.083984\" xlink:href=\"#DejaVuSans-101\"/>\n     <use x=\"105.607422\" xlink:href=\"#DejaVuSans-110\"/>\n     <use x=\"168.986328\" xlink:href=\"#DejaVuSans-100\"/>\n     <use x=\"232.462891\" xlink:href=\"#DejaVuSans-234\"/>\n     <use x=\"293.986328\" xlink:href=\"#DejaVuSans-110\"/>\n     <use x=\"357.365234\" xlink:href=\"#DejaVuSans-99\"/>\n     <use x=\"412.345703\" xlink:href=\"#DejaVuSans-105\"/>\n     <use x=\"440.128906\" xlink:href=\"#DejaVuSans-97\"/>\n    </g>\n   </g>\n  </g>\n  <g id=\"axes_3\">\n   <g id=\"patch_12\">\n    <path d=\"M 43.411094 311.820734 \nL 601.411094 311.820734 \nL 601.411094 226.672908 \nL 43.411094 226.672908 \nz\n\" style=\"fill:#eaeaf2;\"/>\n   </g>\n   <g id=\"matplotlib.axis_5\">\n    <g id=\"xtick_14\">\n     <g id=\"line2d_20\">\n      <path clip-path=\"url(#p9b0c794186)\" d=\"M 46.400036 311.820734 \nL 46.400036 226.672908 \n\" style=\"fill:none;stroke:#ffffff;stroke-linecap:round;\"/>\n     </g>\n    </g>\n    <g id=\"xtick_15\">\n     <g id=\"line2d_21\">\n      <path clip-path=\"url(#p9b0c794186)\" d=\"M 128.949096 311.820734 \nL 128.949096 226.672908 \n\" style=\"fill:none;stroke:#ffffff;stroke-linecap:round;\"/>\n     </g>\n    </g>\n    <g id=\"xtick_16\">\n     <g id=\"line2d_22\">\n      <path clip-path=\"url(#p9b0c794186)\" d=\"M 211.498155 311.820734 \nL 211.498155 226.672908 \n\" style=\"fill:none;stroke:#ffffff;stroke-linecap:round;\"/>\n     </g>\n    </g>\n    <g id=\"xtick_17\">\n     <g id=\"line2d_23\">\n      <path clip-path=\"url(#p9b0c794186)\" d=\"M 294.047214 311.820734 \nL 294.047214 226.672908 \n\" style=\"fill:none;stroke:#ffffff;stroke-linecap:round;\"/>\n     </g>\n    </g>\n    <g id=\"xtick_18\">\n     <g id=\"line2d_24\">\n      <path clip-path=\"url(#p9b0c794186)\" d=\"M 376.596274 311.820734 \nL 376.596274 226.672908 \n\" style=\"fill:none;stroke:#ffffff;stroke-linecap:round;\"/>\n     </g>\n    </g>\n    <g id=\"xtick_19\">\n     <g id=\"line2d_25\">\n      <path clip-path=\"url(#p9b0c794186)\" d=\"M 459.145333 311.820734 \nL 459.145333 226.672908 \n\" style=\"fill:none;stroke:#ffffff;stroke-linecap:round;\"/>\n     </g>\n    </g>\n    <g id=\"xtick_20\">\n     <g id=\"line2d_26\">\n      <path clip-path=\"url(#p9b0c794186)\" d=\"M 541.694392 311.820734 \nL 541.694392 226.672908 \n\" style=\"fill:none;stroke:#ffffff;stroke-linecap:round;\"/>\n     </g>\n    </g>\n   </g>\n   <g id=\"matplotlib.axis_6\">\n    <g id=\"ytick_5\">\n     <g id=\"line2d_27\">\n      <path clip-path=\"url(#p9b0c794186)\" d=\"M 43.411094 301.649567 \nL 601.411094 301.649567 \n\" style=\"fill:none;stroke:#ffffff;stroke-linecap:round;\"/>\n     </g>\n     <g id=\"text_7\">\n      <!-- −2.5 -->\n      <defs>\n       <path d=\"M 10.59375 35.5 \nL 73.1875 35.5 \nL 73.1875 27.203125 \nL 10.59375 27.203125 \nz\n\" id=\"DejaVuSans-8722\"/>\n       <path d=\"M 19.1875 8.296875 \nL 53.609375 8.296875 \nL 53.609375 0 \nL 7.328125 0 \nL 7.328125 8.296875 \nQ 12.9375 14.109375 22.625 23.890625 \nQ 32.328125 33.6875 34.8125 36.53125 \nQ 39.546875 41.84375 41.421875 45.53125 \nQ 43.3125 49.21875 43.3125 52.78125 \nQ 43.3125 58.59375 39.234375 62.25 \nQ 35.15625 65.921875 28.609375 65.921875 \nQ 23.96875 65.921875 18.8125 64.3125 \nQ 13.671875 62.703125 7.8125 59.421875 \nL 7.8125 69.390625 \nQ 13.765625 71.78125 18.9375 73 \nQ 24.125 74.21875 28.421875 74.21875 \nQ 39.75 74.21875 46.484375 68.546875 \nQ 53.21875 62.890625 53.21875 53.421875 \nQ 53.21875 48.921875 51.53125 44.890625 \nQ 49.859375 40.875 45.40625 35.40625 \nQ 44.1875 33.984375 37.640625 27.21875 \nQ 31.109375 20.453125 19.1875 8.296875 \nz\n\" id=\"DejaVuSans-50\"/>\n       <path d=\"M 10.6875 12.40625 \nL 21 12.40625 \nL 21 0 \nL 10.6875 0 \nz\n\" id=\"DejaVuSans-46\"/>\n      </defs>\n      <g style=\"fill:#262626;\" transform=\"translate(7.2 305.828708)scale(0.11 -0.11)\">\n       <use xlink:href=\"#DejaVuSans-8722\"/>\n       <use x=\"83.789062\" xlink:href=\"#DejaVuSans-50\"/>\n       <use x=\"147.412109\" xlink:href=\"#DejaVuSans-46\"/>\n       <use x=\"179.199219\" xlink:href=\"#DejaVuSans-53\"/>\n      </g>\n     </g>\n    </g>\n    <g id=\"ytick_6\">\n     <g id=\"line2d_28\">\n      <path clip-path=\"url(#p9b0c794186)\" d=\"M 43.411094 274.005019 \nL 601.411094 274.005019 \n\" style=\"fill:none;stroke:#ffffff;stroke-linecap:round;\"/>\n     </g>\n     <g id=\"text_8\">\n      <!-- 0.0 -->\n      <g style=\"fill:#262626;\" transform=\"translate(16.417656 278.18416)scale(0.11 -0.11)\">\n       <use xlink:href=\"#DejaVuSans-48\"/>\n       <use x=\"63.623047\" xlink:href=\"#DejaVuSans-46\"/>\n       <use x=\"95.410156\" xlink:href=\"#DejaVuSans-48\"/>\n      </g>\n     </g>\n    </g>\n    <g id=\"ytick_7\">\n     <g id=\"line2d_29\">\n      <path clip-path=\"url(#p9b0c794186)\" d=\"M 43.411094 246.360471 \nL 601.411094 246.360471 \n\" style=\"fill:none;stroke:#ffffff;stroke-linecap:round;\"/>\n     </g>\n     <g id=\"text_9\">\n      <!-- 2.5 -->\n      <g style=\"fill:#262626;\" transform=\"translate(16.417656 250.539612)scale(0.11 -0.11)\">\n       <use xlink:href=\"#DejaVuSans-50\"/>\n       <use x=\"63.623047\" xlink:href=\"#DejaVuSans-46\"/>\n       <use x=\"95.410156\" xlink:href=\"#DejaVuSans-53\"/>\n      </g>\n     </g>\n    </g>\n   </g>\n   <g id=\"line2d_30\">\n    <path clip-path=\"url(#p9b0c794186)\" d=\"M 68.77473 230.543263 \nL 70.356779 238.863245 \nL 72.108333 231.203163 \nL 73.803386 259.735642 \nL 75.55494 307.567972 \nL 77.249993 299.216764 \nL 79.001547 307.950378 \nL 80.753101 294.409829 \nL 82.448154 294.703072 \nL 84.199708 299.474636 \nL 85.894761 248.812883 \nL 87.646315 275.57938 \nL 89.39787 230.543263 \nL 90.979919 238.863245 \nL 92.731473 231.203163 \nL 94.426525 259.735642 \nL 96.17808 307.567972 \nL 97.873132 299.216764 \nL 99.624687 307.950378 \nL 101.376241 294.409829 \nL 103.071293 294.703072 \nL 104.822848 299.474636 \nL 106.5179 248.812883 \nL 108.269455 275.57938 \nL 110.021009 230.543263 \nL 111.603058 238.863245 \nL 113.354612 231.203163 \nL 115.049665 259.735642 \nL 116.801219 307.567972 \nL 118.496272 299.216764 \nL 120.247826 307.950378 \nL 121.99938 294.409829 \nL 123.694433 294.703072 \nL 125.445987 299.474636 \nL 127.14104 248.812883 \nL 128.892594 275.57938 \nL 130.644148 230.543263 \nL 132.282699 238.863245 \nL 134.034253 231.203163 \nL 135.729306 259.735642 \nL 137.48086 307.567972 \nL 139.175913 299.216764 \nL 140.927467 307.950378 \nL 142.679021 294.409829 \nL 144.374074 294.703072 \nL 146.125628 299.474636 \nL 147.820681 248.812883 \nL 149.572235 275.57938 \nL 151.323789 230.543263 \nL 152.905838 238.863245 \nL 154.657393 231.203163 \nL 156.352445 259.735642 \nL 158.104 307.567972 \nL 159.799052 299.216764 \nL 161.550606 307.950378 \nL 163.302161 294.409829 \nL 164.997213 294.703072 \nL 166.748768 299.474636 \nL 168.44382 248.812883 \nL 170.195375 275.57938 \nL 171.946929 230.543263 \nL 173.528978 238.863245 \nL 175.280532 231.203163 \nL 176.975585 259.735642 \nL 178.727139 307.567972 \nL 180.422192 299.216764 \nL 182.173746 307.950378 \nL 183.9253 294.409829 \nL 185.620353 294.703072 \nL 187.371907 299.474636 \nL 189.06696 248.812883 \nL 190.818514 275.57938 \nL 192.570068 230.543263 \nL 194.152117 238.863245 \nL 195.903672 231.203163 \nL 197.598724 259.735642 \nL 199.350278 307.567972 \nL 201.045331 299.216764 \nL 202.796885 307.950378 \nL 204.54844 294.409829 \nL 206.243492 294.703072 \nL 207.995046 299.474636 \nL 209.690099 248.812883 \nL 211.441653 275.57938 \nL 213.193208 230.543263 \nL 214.831758 238.863245 \nL 216.583313 231.203163 \nL 218.278365 259.735642 \nL 220.02992 307.567972 \nL 221.724972 299.216764 \nL 223.476526 307.950378 \nL 225.228081 294.409829 \nL 226.923133 294.703072 \nL 228.674688 299.474636 \nL 230.36974 248.812883 \nL 232.121294 275.57938 \nL 233.872849 230.543263 \nL 235.454898 238.863245 \nL 237.206452 231.203163 \nL 238.901505 259.735642 \nL 240.653059 307.567972 \nL 242.348112 299.216764 \nL 244.099666 307.950378 \nL 245.85122 294.409829 \nL 247.546273 294.703072 \nL 249.297827 299.474636 \nL 250.99288 248.812883 \nL 252.744434 275.57938 \nL 254.495988 230.543263 \nL 256.078037 238.863245 \nL 257.829591 231.203163 \nL 259.524644 259.735642 \nL 261.276198 307.567972 \nL 262.971251 299.216764 \nL 264.722805 307.950378 \nL 266.47436 294.409829 \nL 268.169412 294.703072 \nL 269.920966 299.474636 \nL 271.616019 248.812883 \nL 273.367573 275.57938 \nL 275.119128 230.543263 \nL 276.701177 238.863245 \nL 278.452731 231.203163 \nL 280.147783 259.735642 \nL 281.899338 307.567972 \nL 283.59439 299.216764 \nL 285.345945 307.950378 \nL 287.097499 294.409829 \nL 288.792551 294.703072 \nL 290.544106 299.474636 \nL 292.239158 248.812883 \nL 293.990713 275.57938 \nL 295.742267 230.543263 \nL 297.380818 238.863245 \nL 299.132372 231.203163 \nL 300.827425 259.735642 \nL 302.578979 307.567972 \nL 304.274031 299.216764 \nL 306.025586 307.950378 \nL 307.77714 294.409829 \nL 309.472193 294.703072 \nL 311.223747 299.474636 \nL 312.918799 248.812883 \nL 314.670354 275.57938 \nL 316.421908 230.543263 \nL 318.003957 238.863245 \nL 319.755511 231.203163 \nL 321.450564 259.735642 \nL 323.202118 307.567972 \nL 324.897171 299.216764 \nL 326.648725 307.950378 \nL 328.400279 294.409829 \nL 330.095332 294.703072 \nL 331.846886 299.474636 \nL 333.541939 248.812883 \nL 335.293493 275.57938 \nL 337.045047 230.543263 \nL 338.627097 238.863245 \nL 340.378651 231.203163 \nL 342.073703 259.735642 \nL 343.825258 307.567972 \nL 345.52031 299.216764 \nL 347.271865 307.950378 \nL 349.023419 294.409829 \nL 350.718471 294.703072 \nL 352.470026 299.474636 \nL 354.165078 248.812883 \nL 355.916633 275.57938 \nL 357.668187 230.543263 \nL 359.250236 238.863245 \nL 361.00179 231.203163 \nL 362.696843 259.735642 \nL 364.448397 307.567972 \nL 366.14345 299.216764 \nL 367.895004 307.950378 \nL 369.646558 294.409829 \nL 371.341611 294.703072 \nL 373.093165 299.474636 \nL 374.788218 248.812883 \nL 376.539772 275.57938 \nL 378.291326 230.543263 \nL 379.929877 238.863245 \nL 381.681431 231.203163 \nL 383.376484 259.735642 \nL 385.128038 307.567972 \nL 386.823091 299.216764 \nL 388.574645 307.950378 \nL 390.326199 294.409829 \nL 392.021252 294.703072 \nL 393.772806 299.474636 \nL 395.467859 248.812883 \nL 397.219413 275.57938 \nL 398.970967 230.543263 \nL 400.553016 238.863245 \nL 402.304571 231.203163 \nL 403.999623 259.735642 \nL 405.751178 307.567972 \nL 407.44623 299.216764 \nL 409.197784 307.950378 \nL 410.949339 294.409829 \nL 412.644391 294.703072 \nL 414.395946 299.474636 \nL 416.090998 248.812883 \nL 417.842552 275.57938 \nL 419.594107 230.543263 \nL 421.176156 238.863245 \nL 422.92771 231.203163 \nL 424.622763 259.735642 \nL 426.374317 307.567972 \nL 428.06937 299.216764 \nL 429.820924 307.950378 \nL 431.572478 294.409829 \nL 433.267531 294.703072 \nL 435.019085 299.474636 \nL 436.714138 248.812883 \nL 438.465692 275.57938 \nL 440.217246 230.543263 \nL 441.799295 238.863245 \nL 443.55085 231.203163 \nL 445.245902 259.735642 \nL 446.997456 307.567972 \nL 448.692509 299.216764 \nL 450.444063 307.950378 \nL 452.195618 294.409829 \nL 453.89067 294.703072 \nL 455.642224 299.474636 \nL 457.337277 248.812883 \nL 459.088831 275.57938 \nL 460.840386 230.543263 \nL 462.478936 238.863245 \nL 464.230491 231.203163 \nL 465.925543 259.735642 \nL 467.677098 307.567972 \nL 469.37215 299.216764 \nL 471.123704 307.950378 \nL 472.875259 294.409829 \nL 474.570311 294.703072 \nL 476.321866 299.474636 \nL 478.016918 248.812883 \nL 479.768472 275.57938 \nL 481.520027 230.543263 \nL 483.102076 238.863245 \nL 484.85363 231.203163 \nL 486.548683 259.735642 \nL 488.300237 307.567972 \nL 489.995289 299.216764 \nL 491.746844 307.950378 \nL 493.498398 294.409829 \nL 495.193451 294.703072 \nL 496.945005 299.474636 \nL 498.640057 248.812883 \nL 500.391612 275.57938 \nL 502.143166 230.543263 \nL 503.725215 238.863245 \nL 505.476769 231.203163 \nL 507.171822 259.735642 \nL 508.923376 307.567972 \nL 510.618429 299.216764 \nL 512.369983 307.950378 \nL 514.121537 294.409829 \nL 515.81659 294.703072 \nL 517.568144 299.474636 \nL 519.263197 248.812883 \nL 521.014751 275.57938 \nL 522.766305 230.543263 \nL 524.348355 238.863245 \nL 526.099909 231.203163 \nL 527.794961 259.735642 \nL 529.546516 307.567972 \nL 531.241568 299.216764 \nL 532.993123 307.950378 \nL 534.744677 294.409829 \nL 536.439729 294.703072 \nL 538.191284 299.474636 \nL 539.886336 248.812883 \nL 541.637891 275.57938 \nL 543.389445 230.543263 \nL 545.027996 238.863245 \nL 546.77955 231.203163 \nL 548.474603 259.735642 \nL 550.226157 307.567972 \nL 551.921209 299.216764 \nL 553.672764 307.950378 \nL 555.424318 294.409829 \nL 557.119371 294.703072 \nL 558.870925 299.474636 \nL 560.565977 248.812883 \nL 562.317532 275.57938 \nL 564.069086 230.543263 \nL 565.651135 238.863245 \nL 567.402689 231.203163 \nL 569.097742 259.735642 \nL 570.849296 307.567972 \nL 572.544349 299.216764 \nL 574.295903 307.950378 \nL 576.047457 294.409829 \nL 576.047457 294.409829 \n\" style=\"fill:none;stroke:#4c72b0;stroke-linecap:round;stroke-width:1.5;\"/>\n   </g>\n   <g id=\"patch_13\">\n    <path d=\"M 43.411094 311.820734 \nL 43.411094 226.672908 \n\" style=\"fill:none;stroke:#ffffff;stroke-linecap:square;stroke-linejoin:miter;stroke-width:1.25;\"/>\n   </g>\n   <g id=\"patch_14\">\n    <path d=\"M 601.411094 311.820734 \nL 601.411094 226.672908 \n\" style=\"fill:none;stroke:#ffffff;stroke-linecap:square;stroke-linejoin:miter;stroke-width:1.25;\"/>\n   </g>\n   <g id=\"patch_15\">\n    <path d=\"M 43.411094 311.820734 \nL 601.411094 311.820734 \n\" style=\"fill:none;stroke:#ffffff;stroke-linecap:square;stroke-linejoin:miter;stroke-width:1.25;\"/>\n   </g>\n   <g id=\"patch_16\">\n    <path d=\"M 43.411094 226.672908 \nL 601.411094 226.672908 \n\" style=\"fill:none;stroke:#ffffff;stroke-linecap:square;stroke-linejoin:miter;stroke-width:1.25;\"/>\n   </g>\n   <g id=\"text_10\">\n    <!-- Sazonalidade -->\n    <defs>\n     <path d=\"M 53.515625 70.515625 \nL 53.515625 60.890625 \nQ 47.90625 63.578125 42.921875 64.890625 \nQ 37.9375 66.21875 33.296875 66.21875 \nQ 25.25 66.21875 20.875 63.09375 \nQ 16.5 59.96875 16.5 54.203125 \nQ 16.5 49.359375 19.40625 46.890625 \nQ 22.3125 44.4375 30.421875 42.921875 \nL 36.375 41.703125 \nQ 47.40625 39.59375 52.65625 34.296875 \nQ 57.90625 29 57.90625 20.125 \nQ 57.90625 9.515625 50.796875 4.046875 \nQ 43.703125 -1.421875 29.984375 -1.421875 \nQ 24.8125 -1.421875 18.96875 -0.25 \nQ 13.140625 0.921875 6.890625 3.21875 \nL 6.890625 13.375 \nQ 12.890625 10.015625 18.65625 8.296875 \nQ 24.421875 6.59375 29.984375 6.59375 \nQ 38.421875 6.59375 43.015625 9.90625 \nQ 47.609375 13.234375 47.609375 19.390625 \nQ 47.609375 24.75 44.3125 27.78125 \nQ 41.015625 30.8125 33.5 32.328125 \nL 27.484375 33.5 \nQ 16.453125 35.6875 11.515625 40.375 \nQ 6.59375 45.0625 6.59375 53.421875 \nQ 6.59375 63.09375 13.40625 68.65625 \nQ 20.21875 74.21875 32.171875 74.21875 \nQ 37.3125 74.21875 42.625 73.28125 \nQ 47.953125 72.359375 53.515625 70.515625 \nz\n\" id=\"DejaVuSans-83\"/>\n     <path d=\"M 5.515625 54.6875 \nL 48.1875 54.6875 \nL 48.1875 46.484375 \nL 14.40625 7.171875 \nL 48.1875 7.171875 \nL 48.1875 0 \nL 4.296875 0 \nL 4.296875 8.203125 \nL 38.09375 47.515625 \nL 5.515625 47.515625 \nz\n\" id=\"DejaVuSans-122\"/>\n     <path d=\"M 9.421875 75.984375 \nL 18.40625 75.984375 \nL 18.40625 0 \nL 9.421875 0 \nz\n\" id=\"DejaVuSans-108\"/>\n    </defs>\n    <g style=\"fill:#262626;\" transform=\"translate(282.304844 220.672908)scale(0.12 -0.12)\">\n     <use xlink:href=\"#DejaVuSans-83\"/>\n     <use x=\"63.476562\" xlink:href=\"#DejaVuSans-97\"/>\n     <use x=\"124.755859\" xlink:href=\"#DejaVuSans-122\"/>\n     <use x=\"177.246094\" xlink:href=\"#DejaVuSans-111\"/>\n     <use x=\"238.427734\" xlink:href=\"#DejaVuSans-110\"/>\n     <use x=\"301.806641\" xlink:href=\"#DejaVuSans-97\"/>\n     <use x=\"363.085938\" xlink:href=\"#DejaVuSans-108\"/>\n     <use x=\"390.869141\" xlink:href=\"#DejaVuSans-105\"/>\n     <use x=\"418.652344\" xlink:href=\"#DejaVuSans-100\"/>\n     <use x=\"482.128906\" xlink:href=\"#DejaVuSans-97\"/>\n     <use x=\"543.408203\" xlink:href=\"#DejaVuSans-100\"/>\n     <use x=\"606.884766\" xlink:href=\"#DejaVuSans-101\"/>\n    </g>\n   </g>\n  </g>\n  <g id=\"axes_4\">\n   <g id=\"patch_17\">\n    <path d=\"M 43.411094 413.998125 \nL 601.411094 413.998125 \nL 601.411094 328.850299 \nL 43.411094 328.850299 \nz\n\" style=\"fill:#eaeaf2;\"/>\n   </g>\n   <g id=\"matplotlib.axis_7\">\n    <g id=\"xtick_21\">\n     <g id=\"line2d_31\">\n      <path clip-path=\"url(#p5bc7a5d8b4)\" d=\"M 120.838946 413.998125 \nL 120.838946 328.850299 \n\" style=\"fill:none;stroke:#ffffff;stroke-linecap:round;\"/>\n     </g>\n     <g id=\"text_11\">\n      <!-- 2000 -->\n      <g style=\"fill:#262626;\" transform=\"translate(95.450737 444.734109)rotate(-30)scale(0.11 -0.11)\">\n       <use xlink:href=\"#DejaVuSans-50\"/>\n       <use x=\"63.623047\" xlink:href=\"#DejaVuSans-48\"/>\n       <use x=\"127.246094\" xlink:href=\"#DejaVuSans-48\"/>\n       <use x=\"190.869141\" xlink:href=\"#DejaVuSans-48\"/>\n      </g>\n     </g>\n    </g>\n    <g id=\"xtick_22\">\n     <g id=\"line2d_32\">\n      <path clip-path=\"url(#p5bc7a5d8b4)\" d=\"M 206.886253 413.998125 \nL 206.886253 328.850299 \n\" style=\"fill:none;stroke:#ffffff;stroke-linecap:round;\"/>\n     </g>\n     <g id=\"text_12\">\n      <!-- 2004 -->\n      <defs>\n       <path d=\"M 37.796875 64.3125 \nL 12.890625 25.390625 \nL 37.796875 25.390625 \nz\nM 35.203125 72.90625 \nL 47.609375 72.90625 \nL 47.609375 25.390625 \nL 58.015625 25.390625 \nL 58.015625 17.1875 \nL 47.609375 17.1875 \nL 47.609375 0 \nL 37.796875 0 \nL 37.796875 17.1875 \nL 4.890625 17.1875 \nL 4.890625 26.703125 \nz\n\" id=\"DejaVuSans-52\"/>\n      </defs>\n      <g style=\"fill:#262626;\" transform=\"translate(181.498044 444.734109)rotate(-30)scale(0.11 -0.11)\">\n       <use xlink:href=\"#DejaVuSans-50\"/>\n       <use x=\"63.623047\" xlink:href=\"#DejaVuSans-48\"/>\n       <use x=\"127.246094\" xlink:href=\"#DejaVuSans-48\"/>\n       <use x=\"190.869141\" xlink:href=\"#DejaVuSans-52\"/>\n      </g>\n     </g>\n    </g>\n    <g id=\"xtick_23\">\n     <g id=\"line2d_33\">\n      <path clip-path=\"url(#p5bc7a5d8b4)\" d=\"M 292.93356 413.998125 \nL 292.93356 328.850299 \n\" style=\"fill:none;stroke:#ffffff;stroke-linecap:round;\"/>\n     </g>\n     <g id=\"text_13\">\n      <!-- 2008 -->\n      <defs>\n       <path d=\"M 31.78125 34.625 \nQ 24.75 34.625 20.71875 30.859375 \nQ 16.703125 27.09375 16.703125 20.515625 \nQ 16.703125 13.921875 20.71875 10.15625 \nQ 24.75 6.390625 31.78125 6.390625 \nQ 38.8125 6.390625 42.859375 10.171875 \nQ 46.921875 13.96875 46.921875 20.515625 \nQ 46.921875 27.09375 42.890625 30.859375 \nQ 38.875 34.625 31.78125 34.625 \nz\nM 21.921875 38.8125 \nQ 15.578125 40.375 12.03125 44.71875 \nQ 8.5 49.078125 8.5 55.328125 \nQ 8.5 64.0625 14.71875 69.140625 \nQ 20.953125 74.21875 31.78125 74.21875 \nQ 42.671875 74.21875 48.875 69.140625 \nQ 55.078125 64.0625 55.078125 55.328125 \nQ 55.078125 49.078125 51.53125 44.71875 \nQ 48 40.375 41.703125 38.8125 \nQ 48.828125 37.15625 52.796875 32.3125 \nQ 56.78125 27.484375 56.78125 20.515625 \nQ 56.78125 9.90625 50.3125 4.234375 \nQ 43.84375 -1.421875 31.78125 -1.421875 \nQ 19.734375 -1.421875 13.25 4.234375 \nQ 6.78125 9.90625 6.78125 20.515625 \nQ 6.78125 27.484375 10.78125 32.3125 \nQ 14.796875 37.15625 21.921875 38.8125 \nz\nM 18.3125 54.390625 \nQ 18.3125 48.734375 21.84375 45.5625 \nQ 25.390625 42.390625 31.78125 42.390625 \nQ 38.140625 42.390625 41.71875 45.5625 \nQ 45.3125 48.734375 45.3125 54.390625 \nQ 45.3125 60.0625 41.71875 63.234375 \nQ 38.140625 66.40625 31.78125 66.40625 \nQ 25.390625 66.40625 21.84375 63.234375 \nQ 18.3125 60.0625 18.3125 54.390625 \nz\n\" id=\"DejaVuSans-56\"/>\n      </defs>\n      <g style=\"fill:#262626;\" transform=\"translate(267.54535 444.734109)rotate(-30)scale(0.11 -0.11)\">\n       <use xlink:href=\"#DejaVuSans-50\"/>\n       <use x=\"63.623047\" xlink:href=\"#DejaVuSans-48\"/>\n       <use x=\"127.246094\" xlink:href=\"#DejaVuSans-48\"/>\n       <use x=\"190.869141\" xlink:href=\"#DejaVuSans-56\"/>\n      </g>\n     </g>\n    </g>\n    <g id=\"xtick_24\">\n     <g id=\"line2d_34\">\n      <path clip-path=\"url(#p5bc7a5d8b4)\" d=\"M 378.980867 413.998125 \nL 378.980867 328.850299 \n\" style=\"fill:none;stroke:#ffffff;stroke-linecap:round;\"/>\n     </g>\n     <g id=\"text_14\">\n      <!-- 2012 -->\n      <g style=\"fill:#262626;\" transform=\"translate(353.592657 444.734109)rotate(-30)scale(0.11 -0.11)\">\n       <use xlink:href=\"#DejaVuSans-50\"/>\n       <use x=\"63.623047\" xlink:href=\"#DejaVuSans-48\"/>\n       <use x=\"127.246094\" xlink:href=\"#DejaVuSans-49\"/>\n       <use x=\"190.869141\" xlink:href=\"#DejaVuSans-50\"/>\n      </g>\n     </g>\n    </g>\n    <g id=\"xtick_25\">\n     <g id=\"line2d_35\">\n      <path clip-path=\"url(#p5bc7a5d8b4)\" d=\"M 465.028174 413.998125 \nL 465.028174 328.850299 \n\" style=\"fill:none;stroke:#ffffff;stroke-linecap:round;\"/>\n     </g>\n     <g id=\"text_15\">\n      <!-- 2016 -->\n      <defs>\n       <path d=\"M 33.015625 40.375 \nQ 26.375 40.375 22.484375 35.828125 \nQ 18.609375 31.296875 18.609375 23.390625 \nQ 18.609375 15.53125 22.484375 10.953125 \nQ 26.375 6.390625 33.015625 6.390625 \nQ 39.65625 6.390625 43.53125 10.953125 \nQ 47.40625 15.53125 47.40625 23.390625 \nQ 47.40625 31.296875 43.53125 35.828125 \nQ 39.65625 40.375 33.015625 40.375 \nz\nM 52.59375 71.296875 \nL 52.59375 62.3125 \nQ 48.875 64.0625 45.09375 64.984375 \nQ 41.3125 65.921875 37.59375 65.921875 \nQ 27.828125 65.921875 22.671875 59.328125 \nQ 17.53125 52.734375 16.796875 39.40625 \nQ 19.671875 43.65625 24.015625 45.921875 \nQ 28.375 48.1875 33.59375 48.1875 \nQ 44.578125 48.1875 50.953125 41.515625 \nQ 57.328125 34.859375 57.328125 23.390625 \nQ 57.328125 12.15625 50.6875 5.359375 \nQ 44.046875 -1.421875 33.015625 -1.421875 \nQ 20.359375 -1.421875 13.671875 8.265625 \nQ 6.984375 17.96875 6.984375 36.375 \nQ 6.984375 53.65625 15.1875 63.9375 \nQ 23.390625 74.21875 37.203125 74.21875 \nQ 40.921875 74.21875 44.703125 73.484375 \nQ 48.484375 72.75 52.59375 71.296875 \nz\n\" id=\"DejaVuSans-54\"/>\n      </defs>\n      <g style=\"fill:#262626;\" transform=\"translate(439.639964 444.734109)rotate(-30)scale(0.11 -0.11)\">\n       <use xlink:href=\"#DejaVuSans-50\"/>\n       <use x=\"63.623047\" xlink:href=\"#DejaVuSans-48\"/>\n       <use x=\"127.246094\" xlink:href=\"#DejaVuSans-49\"/>\n       <use x=\"190.869141\" xlink:href=\"#DejaVuSans-54\"/>\n      </g>\n     </g>\n    </g>\n    <g id=\"xtick_26\">\n     <g id=\"line2d_36\">\n      <path clip-path=\"url(#p5bc7a5d8b4)\" d=\"M 551.075481 413.998125 \nL 551.075481 328.850299 \n\" style=\"fill:none;stroke:#ffffff;stroke-linecap:round;\"/>\n     </g>\n     <g id=\"text_16\">\n      <!-- 2020 -->\n      <g style=\"fill:#262626;\" transform=\"translate(525.687271 444.734109)rotate(-30)scale(0.11 -0.11)\">\n       <use xlink:href=\"#DejaVuSans-50\"/>\n       <use x=\"63.623047\" xlink:href=\"#DejaVuSans-48\"/>\n       <use x=\"127.246094\" xlink:href=\"#DejaVuSans-50\"/>\n       <use x=\"190.869141\" xlink:href=\"#DejaVuSans-48\"/>\n      </g>\n     </g>\n    </g>\n   </g>\n   <g id=\"matplotlib.axis_8\">\n    <g id=\"ytick_8\">\n     <g id=\"line2d_37\">\n      <path clip-path=\"url(#p5bc7a5d8b4)\" d=\"M 43.411094 399.158439 \nL 601.411094 399.158439 \n\" style=\"fill:none;stroke:#ffffff;stroke-linecap:round;\"/>\n     </g>\n     <g id=\"text_17\">\n      <!-- −20 -->\n      <g style=\"fill:#262626;\" transform=\"translate(10.695937 403.33758)scale(0.11 -0.11)\">\n       <use xlink:href=\"#DejaVuSans-8722\"/>\n       <use x=\"83.789062\" xlink:href=\"#DejaVuSans-50\"/>\n       <use x=\"147.412109\" xlink:href=\"#DejaVuSans-48\"/>\n      </g>\n     </g>\n    </g>\n    <g id=\"ytick_9\">\n     <g id=\"line2d_38\">\n      <path clip-path=\"url(#p5bc7a5d8b4)\" d=\"M 43.411094 362.747739 \nL 601.411094 362.747739 \n\" style=\"fill:none;stroke:#ffffff;stroke-linecap:round;\"/>\n     </g>\n     <g id=\"text_18\">\n      <!-- 0 -->\n      <g style=\"fill:#262626;\" transform=\"translate(26.912344 366.926879)scale(0.11 -0.11)\">\n       <use xlink:href=\"#DejaVuSans-48\"/>\n      </g>\n     </g>\n    </g>\n   </g>\n   <g id=\"line2d_39\">\n    <path clip-path=\"url(#p5bc7a5d8b4)\" d=\"M 68.77473 360.246373 \nL 70.600511 357.17904 \nL 72.367397 357.013185 \nL 74.193178 357.141666 \nL 75.960063 364.528621 \nL 77.785844 361.028318 \nL 79.611626 371.865951 \nL 81.260719 372.49686 \nL 83.0865 369.46457 \nL 84.853385 364.414317 \nL 86.679166 347.042183 \nL 88.446051 356.065251 \nL 90.271833 355.313861 \nL 92.097614 367.768486 \nL 93.864499 366.665814 \nL 95.690281 365.353037 \nL 97.457166 364.907899 \nL 99.282947 361.733776 \nL 101.108728 375.484264 \nL 102.757821 369.089045 \nL 104.583603 361.061663 \nL 106.350488 359.718853 \nL 108.176269 360.802393 \nL 109.943154 359.721492 \nL 111.768935 363.400071 \nL 113.594717 362.777186 \nL 115.361602 360.5784 \nL 117.187383 356.087273 \nL 118.954268 366.629822 \nL 120.78005 360.131326 \nL 122.605831 367.93094 \nL 124.31382 365.20903 \nL 126.139601 364.321559 \nL 127.906487 359.438188 \nL 129.732268 358.113311 \nL 131.499153 361.111546 \nL 133.324934 362.88046 \nL 135.150716 367.095267 \nL 136.917601 367.47178 \nL 138.743382 363.431994 \nL 140.510267 367.414928 \nL 142.336049 363.288816 \nL 144.16183 361.727846 \nL 145.810923 359.241089 \nL 147.636704 357.426282 \nL 149.403589 357.446977 \nL 151.229371 361.688008 \nL 152.996256 357.081716 \nL 154.822037 356.188097 \nL 156.647818 361.548325 \nL 158.414704 357.36781 \nL 160.240485 368.400537 \nL 162.00737 372.246931 \nL 163.833151 367.950144 \nL 165.658933 367.652171 \nL 167.308025 360.312549 \nL 169.133807 357.722119 \nL 170.900692 357.621445 \nL 172.726473 366.032639 \nL 174.493358 370.644702 \nL 176.31914 365.387488 \nL 178.144921 369.623156 \nL 179.911806 365.725204 \nL 181.737588 364.649476 \nL 183.504473 363.802303 \nL 185.330254 357.925823 \nL 187.156035 358.61018 \nL 188.805128 353.280733 \nL 190.630909 371.123912 \nL 192.397795 367.093917 \nL 194.223576 364.551558 \nL 195.990461 366.622458 \nL 197.816242 374.988914 \nL 199.642024 363.520571 \nL 201.408909 353.214715 \nL 203.23469 345.54334 \nL 206.827357 333.540136 \nL 208.653138 388.75331 \nL 210.361127 384.009847 \nL 213.953793 376.067637 \nL 215.779575 355.828161 \nL 217.54646 353.150498 \nL 219.372241 351.673739 \nL 221.198023 359.879501 \nL 222.964908 362.857861 \nL 224.790689 360.955307 \nL 226.557574 370.231068 \nL 228.383356 360.233731 \nL 230.209137 358.22142 \nL 231.85823 361.763288 \nL 233.684011 368.742045 \nL 235.450896 359.713164 \nL 237.276677 351.889357 \nL 239.043563 364.060434 \nL 240.869344 372.53214 \nL 242.695125 370.476532 \nL 244.46201 372.078113 \nL 246.287792 355.664377 \nL 248.054677 360.874276 \nL 249.880458 346.890726 \nL 251.70624 350.857735 \nL 253.355332 356.216346 \nL 255.181114 369.521462 \nL 256.947999 378.31486 \nL 258.77378 379.904737 \nL 260.540665 371.414637 \nL 262.366447 357.512726 \nL 264.192228 364.045871 \nL 265.959113 346.968004 \nL 267.784894 351.530246 \nL 269.55178 370.052807 \nL 271.377561 371.629142 \nL 273.203342 364.756382 \nL 274.852435 371.859672 \nL 278.445102 353.455075 \nL 280.270883 355.759891 \nL 282.037768 363.891655 \nL 283.863549 365.33913 \nL 285.689331 360.947169 \nL 287.456216 353.01749 \nL 289.281997 353.635239 \nL 291.048882 364.780841 \nL 292.874664 360.311483 \nL 294.700445 365.423912 \nL 296.408434 376.558928 \nL 298.234215 374.370533 \nL 300.0011 379.873694 \nL 301.826882 364.74499 \nL 303.593767 358.204379 \nL 305.419548 340.979044 \nL 307.24533 348.04223 \nL 309.012215 340.072727 \nL 310.837996 347.773496 \nL 312.604881 364.687918 \nL 314.430662 372.780251 \nL 316.256444 374.729501 \nL 317.905537 376.670815 \nL 319.731318 375.320624 \nL 321.498203 368.504831 \nL 323.323984 362.627669 \nL 325.09087 366.696417 \nL 326.916651 355.460869 \nL 328.742432 360.093869 \nL 330.509317 357.73389 \nL 332.335099 362.155799 \nL 334.101984 354.582128 \nL 335.927765 372.704472 \nL 337.753546 374.502996 \nL 339.402639 375.970175 \nL 341.228421 367.046748 \nL 342.995306 355.165695 \nL 344.821087 350.557219 \nL 346.587972 362.448578 \nL 348.413754 365.726032 \nL 350.239535 364.070524 \nL 352.00642 360.375486 \nL 353.832201 366.287958 \nL 355.599087 372.431829 \nL 357.424868 358.88919 \nL 359.250649 362.712073 \nL 360.899742 360.861555 \nL 362.725523 360.424476 \nL 364.492408 337.342392 \nL 366.31819 382.318842 \nL 368.085075 371.911491 \nL 369.910856 353.504704 \nL 371.736638 357.302306 \nL 373.503523 359.457633 \nL 375.329304 393.816913 \nL 377.096189 351.148637 \nL 378.921971 348.861076 \nL 380.747752 356.293739 \nL 382.455741 346.730599 \nL 384.281522 339.820191 \nL 386.048407 405.665555 \nL 387.874189 364.619828 \nL 389.641074 356.555468 \nL 391.466855 397.062902 \nL 393.292636 354.577192 \nL 395.059522 341.496917 \nL 398.652188 356.484132 \nL 400.477969 410.127769 \nL 402.303751 349.937037 \nL 403.952844 360.44909 \nL 405.778625 356.66014 \nL 407.54551 354.469644 \nL 409.371291 358.851007 \nL 411.138176 366.905968 \nL 412.963958 365.985838 \nL 414.789739 371.900797 \nL 416.556624 364.103866 \nL 418.382406 363.695668 \nL 420.149291 365.738594 \nL 421.975072 361.752815 \nL 423.800853 370.061649 \nL 425.449946 363.331679 \nL 427.275728 362.523856 \nL 429.042613 361.349825 \nL 430.868394 368.812823 \nL 432.635279 378.446529 \nL 434.461061 357.019703 \nL 436.286842 352.013272 \nL 438.053727 362.520304 \nL 439.879508 345.439039 \nL 441.646393 347.497136 \nL 443.472175 339.735644 \nL 445.297956 356.072809 \nL 446.947049 376.676505 \nL 448.77283 375.935055 \nL 450.539715 352.078295 \nL 452.365497 362.146934 \nL 454.132382 351.48926 \nL 455.958163 348.739075 \nL 457.783945 353.018359 \nL 459.55083 362.552542 \nL 461.376611 394.614345 \nL 463.143496 361.325617 \nL 464.969277 369.412262 \nL 468.503048 358.328925 \nL 470.328829 351.699182 \nL 472.095714 349.94296 \nL 473.921496 368.888603 \nL 475.688381 355.648045 \nL 477.514162 366.326202 \nL 479.339943 360.025523 \nL 481.106829 379.455072 \nL 482.93261 384.626056 \nL 484.699495 380.555019 \nL 486.525276 368.041171 \nL 488.351058 368.293151 \nL 490.00015 365.622443 \nL 491.825932 363.124936 \nL 493.592817 355.854009 \nL 495.418598 341.696257 \nL 497.185483 339.166513 \nL 499.011265 360.130693 \nL 500.837046 369.196468 \nL 502.603931 384.334486 \nL 504.429713 378.582259 \nL 506.196598 350.821509 \nL 508.022379 360.385442 \nL 509.84816 354.269342 \nL 511.497253 346.313394 \nL 513.323034 352.050963 \nL 515.08992 366.836008 \nL 516.915701 370.656039 \nL 518.682586 372.969677 \nL 520.508367 367.877449 \nL 522.334149 366.905628 \nL 524.101034 393.9947 \nL 525.926815 358.793422 \nL 527.6937 362.508965 \nL 529.519482 359.310188 \nL 531.345263 354.548111 \nL 534.820137 343.549443 \nL 536.587022 344.714611 \nL 540.179689 371.47058 \nL 542.00547 373.348536 \nL 543.831251 368.604794 \nL 545.598137 382.455162 \nL 547.423918 368.269686 \nL 549.190803 345.276463 \nL 551.016584 384.790094 \nL 552.842366 332.720655 \nL 554.550355 337.606116 \nL 556.376136 359.261988 \nL 558.143021 378.678967 \nL 559.968802 387.500729 \nL 561.735688 368.083627 \nL 563.561469 368.909086 \nL 565.38725 375.921069 \nL 567.154135 355.021975 \nL 568.979917 351.075112 \nL 570.746802 388.202214 \nL 572.572583 355.079341 \nL 574.398365 357.451485 \nL 576.047457 358.529942 \nL 576.047457 358.529942 \n\" style=\"fill:none;stroke:#4c72b0;stroke-linecap:round;stroke-width:1.5;\"/>\n   </g>\n   <g id=\"patch_18\">\n    <path d=\"M 43.411094 413.998125 \nL 43.411094 328.850299 \n\" style=\"fill:none;stroke:#ffffff;stroke-linecap:square;stroke-linejoin:miter;stroke-width:1.25;\"/>\n   </g>\n   <g id=\"patch_19\">\n    <path d=\"M 601.411094 413.998125 \nL 601.411094 328.850299 \n\" style=\"fill:none;stroke:#ffffff;stroke-linecap:square;stroke-linejoin:miter;stroke-width:1.25;\"/>\n   </g>\n   <g id=\"patch_20\">\n    <path d=\"M 43.411094 413.998125 \nL 601.411094 413.998125 \n\" style=\"fill:none;stroke:#ffffff;stroke-linecap:square;stroke-linejoin:miter;stroke-width:1.25;\"/>\n   </g>\n   <g id=\"patch_21\">\n    <path d=\"M 43.411094 328.850299 \nL 601.411094 328.850299 \n\" style=\"fill:none;stroke:#ffffff;stroke-linecap:square;stroke-linejoin:miter;stroke-width:1.25;\"/>\n   </g>\n   <g id=\"text_19\">\n    <!-- Ruído -->\n    <defs>\n     <path d=\"M 44.390625 34.1875 \nQ 47.5625 33.109375 50.5625 29.59375 \nQ 53.5625 26.078125 56.59375 19.921875 \nL 66.609375 0 \nL 56 0 \nL 46.6875 18.703125 \nQ 43.0625 26.03125 39.671875 28.421875 \nQ 36.28125 30.8125 30.421875 30.8125 \nL 19.671875 30.8125 \nL 19.671875 0 \nL 9.8125 0 \nL 9.8125 72.90625 \nL 32.078125 72.90625 \nQ 44.578125 72.90625 50.734375 67.671875 \nQ 56.890625 62.453125 56.890625 51.90625 \nQ 56.890625 45.015625 53.6875 40.46875 \nQ 50.484375 35.9375 44.390625 34.1875 \nz\nM 19.671875 64.796875 \nL 19.671875 38.921875 \nL 32.078125 38.921875 \nQ 39.203125 38.921875 42.84375 42.21875 \nQ 46.484375 45.515625 46.484375 51.90625 \nQ 46.484375 58.296875 42.84375 61.546875 \nQ 39.203125 64.796875 32.078125 64.796875 \nz\n\" id=\"DejaVuSans-82\"/>\n     <path d=\"M 8.5 21.578125 \nL 8.5 54.6875 \nL 17.484375 54.6875 \nL 17.484375 21.921875 \nQ 17.484375 14.15625 20.5 10.265625 \nQ 23.53125 6.390625 29.59375 6.390625 \nQ 36.859375 6.390625 41.078125 11.03125 \nQ 45.3125 15.671875 45.3125 23.6875 \nL 45.3125 54.6875 \nL 54.296875 54.6875 \nL 54.296875 0 \nL 45.3125 0 \nL 45.3125 8.40625 \nQ 42.046875 3.421875 37.71875 1 \nQ 33.40625 -1.421875 27.6875 -1.421875 \nQ 18.265625 -1.421875 13.375 4.4375 \nQ 8.5 10.296875 8.5 21.578125 \nz\nM 31.109375 56 \nz\n\" id=\"DejaVuSans-117\"/>\n     <path d=\"M 20.65625 79.984375 \nL 30.375 79.984375 \nL 14.46875 61.625 \nL 6.984375 61.625 \nz\nM 9.421875 54.6875 \nL 18.40625 54.6875 \nL 18.40625 0 \nL 9.421875 0 \nz\nM 13.921875 56 \nz\n\" id=\"DejaVuSans-237\"/>\n    </defs>\n    <g style=\"fill:#262626;\" transform=\"translate(305.562344 322.850299)scale(0.12 -0.12)\">\n     <use xlink:href=\"#DejaVuSans-82\"/>\n     <use x=\"64.982422\" xlink:href=\"#DejaVuSans-117\"/>\n     <use x=\"128.361328\" xlink:href=\"#DejaVuSans-237\"/>\n     <use x=\"156.144531\" xlink:href=\"#DejaVuSans-100\"/>\n     <use x=\"219.621094\" xlink:href=\"#DejaVuSans-111\"/>\n    </g>\n   </g>\n  </g>\n </g>\n <defs>\n  <clipPath id=\"p2a96fcbe8c\">\n   <rect height=\"85.147826\" width=\"558\" x=\"43.411094\" y=\"22.318125\"/>\n  </clipPath>\n  <clipPath id=\"p2318a2e925\">\n   <rect height=\"85.147826\" width=\"558\" x=\"43.411094\" y=\"124.495516\"/>\n  </clipPath>\n  <clipPath id=\"p9b0c794186\">\n   <rect height=\"85.147826\" width=\"558\" x=\"43.411094\" y=\"226.672908\"/>\n  </clipPath>\n  <clipPath id=\"p5bc7a5d8b4\">\n   <rect height=\"85.147826\" width=\"558\" x=\"43.411094\" y=\"328.850299\"/>\n  </clipPath>\n </defs>\n</svg>\n"
          },
          "metadata": {
            "tags": [],
            "needs_background": "light"
          }
        }
      ]
    },
    {
      "cell_type": "markdown",
      "metadata": {
        "id": "vKMtvERQlfMD"
      },
      "source": [
        "Olhando o gráfico acima podemos ver a decomposição da série temporal do preço do boi gordo no intervalo de 2014 a 2019, indicando quais as tendência e sazonalide do preço do boi gordo."
      ]
    },
    {
      "cell_type": "code",
      "metadata": {
        "id": "HkXjk5v8tUsd"
      },
      "source": [
        "#escolhendo 1 ano\n",
        "boi_plot = pd.DataFrame(boi_gordo_seasonal.seasonal)\n",
        "boi_plot = boi_plot.reset_index()\n",
        "boi_plot = boi_plot[boi_plot[\"Date\"] >= \"2020-01-01\"]\n",
        "boi_plot = boi_plot[boi_plot[\"Date\"] <= \"2020-12-31\"]\n",
        "boi_plot[\"Média\"] = boi_plot[\"Live Cattle\"].mean()\n",
        "\n",
        "boi_plot2 = pd.DataFrame(boi_gordo2_seasonal.seasonal)\n",
        "boi_plot2 = boi_plot2.reset_index()\n",
        "boi_plot2 = boi_plot2[boi_plot2[\"Date\"] >= \"2020-01-01\"]\n",
        "boi_plot2 = boi_plot2[boi_plot2[\"Date\"] <= \"2020-12-31\"]\n",
        "\n",
        "\n",
        "boi_plot3 = pd.DataFrame(boi_gordo3_seasonal.seasonal)\n",
        "boi_plot3 = boi_plot3.reset_index()\n",
        "boi_plot3 = boi_plot3[boi_plot3[\"Date\"] >= \"2020-01-01\"]\n",
        "boi_plot3 = boi_plot3[boi_plot3[\"Date\"] <= \"2020-12-31\"]\n"
      ],
      "execution_count": 42,
      "outputs": []
    },
    {
      "cell_type": "code",
      "metadata": {
        "id": "m-pLhxQQsgiV",
        "outputId": "1f31562f-5fb4-4365-fc93-a9f685055eea",
        "colab": {
          "base_uri": "https://localhost:8080/",
          "height": 376
        }
      },
      "source": [
        "#plotar sazonalidade de 1 ano\n",
        "fig, ax = plt.subplots(figsize = (12,4))\n",
        "\n",
        "ax.plot(boi_plot[\"Date\"], boi_plot[\"Live Cattle\"],label='1997 - 2020')\n",
        "ax.plot(boi_plot[\"Date\"], boi_plot[\"Média\"], ls ='--', color= \"Grey\",label='Média')\n",
        "ax.plot(boi_plot2[\"Date\"], boi_plot2[\"Live Cattle\"], ls ='--', color= \"Green\",label='2014 - 2020', alpha = 0.2)\n",
        "ax.plot(boi_plot3[\"Date\"], boi_plot3[\"Live Cattle\"], ls ='--', color= \"Red\",label='2017 - 2020', alpha = 0.2)\n",
        "ax.set_title('Sazonalidades Boi Gordo')\n",
        "ax.legend()\n",
        "plt.show()"
      ],
      "execution_count": 51,
      "outputs": [
        {
          "output_type": "display_data",
          "data": {
            "text/plain": [
              "<Figure size 864x288 with 1 Axes>"
            ],
            "image/svg+xml": "<?xml version=\"1.0\" encoding=\"utf-8\" standalone=\"no\"?>\n<!DOCTYPE svg PUBLIC \"-//W3C//DTD SVG 1.1//EN\"\n  \"http://www.w3.org/Graphics/SVG/1.1/DTD/svg11.dtd\">\n<!-- Created with matplotlib (https://matplotlib.org/) -->\n<svg height=\"267.104062pt\" version=\"1.1\" viewBox=\"0 0 716.715156 267.104062\" width=\"716.715156pt\" xmlns=\"http://www.w3.org/2000/svg\" xmlns:xlink=\"http://www.w3.org/1999/xlink\">\n <defs>\n  <style type=\"text/css\">\n*{stroke-linecap:butt;stroke-linejoin:round;}\n  </style>\n </defs>\n <g id=\"figure_1\">\n  <g id=\"patch_1\">\n   <path d=\"M 0 267.104062 \nL 716.715156 267.104062 \nL 716.715156 0 \nL 0 0 \nz\n\" style=\"fill:none;\"/>\n  </g>\n  <g id=\"axes_1\">\n   <g id=\"patch_2\">\n    <path d=\"M 39.915156 239.758125 \nL 709.515156 239.758125 \nL 709.515156 22.318125 \nL 39.915156 22.318125 \nz\n\" style=\"fill:#eaeaf2;\"/>\n   </g>\n   <g id=\"matplotlib.axis_1\">\n    <g id=\"xtick_1\">\n     <g id=\"line2d_1\">\n      <path clip-path=\"url(#p1b7c48dff5)\" d=\"M 124.86441 239.758125 \nL 124.86441 22.318125 \n\" style=\"fill:none;stroke:#ffffff;stroke-linecap:round;\"/>\n     </g>\n     <g id=\"text_1\">\n      <!-- 2020-03 -->\n      <defs>\n       <path d=\"M 19.1875 8.296875 \nL 53.609375 8.296875 \nL 53.609375 0 \nL 7.328125 0 \nL 7.328125 8.296875 \nQ 12.9375 14.109375 22.625 23.890625 \nQ 32.328125 33.6875 34.8125 36.53125 \nQ 39.546875 41.84375 41.421875 45.53125 \nQ 43.3125 49.21875 43.3125 52.78125 \nQ 43.3125 58.59375 39.234375 62.25 \nQ 35.15625 65.921875 28.609375 65.921875 \nQ 23.96875 65.921875 18.8125 64.3125 \nQ 13.671875 62.703125 7.8125 59.421875 \nL 7.8125 69.390625 \nQ 13.765625 71.78125 18.9375 73 \nQ 24.125 74.21875 28.421875 74.21875 \nQ 39.75 74.21875 46.484375 68.546875 \nQ 53.21875 62.890625 53.21875 53.421875 \nQ 53.21875 48.921875 51.53125 44.890625 \nQ 49.859375 40.875 45.40625 35.40625 \nQ 44.1875 33.984375 37.640625 27.21875 \nQ 31.109375 20.453125 19.1875 8.296875 \nz\n\" id=\"DejaVuSans-50\"/>\n       <path d=\"M 31.78125 66.40625 \nQ 24.171875 66.40625 20.328125 58.90625 \nQ 16.5 51.421875 16.5 36.375 \nQ 16.5 21.390625 20.328125 13.890625 \nQ 24.171875 6.390625 31.78125 6.390625 \nQ 39.453125 6.390625 43.28125 13.890625 \nQ 47.125 21.390625 47.125 36.375 \nQ 47.125 51.421875 43.28125 58.90625 \nQ 39.453125 66.40625 31.78125 66.40625 \nz\nM 31.78125 74.21875 \nQ 44.046875 74.21875 50.515625 64.515625 \nQ 56.984375 54.828125 56.984375 36.375 \nQ 56.984375 17.96875 50.515625 8.265625 \nQ 44.046875 -1.421875 31.78125 -1.421875 \nQ 19.53125 -1.421875 13.0625 8.265625 \nQ 6.59375 17.96875 6.59375 36.375 \nQ 6.59375 54.828125 13.0625 64.515625 \nQ 19.53125 74.21875 31.78125 74.21875 \nz\n\" id=\"DejaVuSans-48\"/>\n       <path d=\"M 4.890625 31.390625 \nL 31.203125 31.390625 \nL 31.203125 23.390625 \nL 4.890625 23.390625 \nz\n\" id=\"DejaVuSans-45\"/>\n       <path d=\"M 40.578125 39.3125 \nQ 47.65625 37.796875 51.625 33 \nQ 55.609375 28.21875 55.609375 21.1875 \nQ 55.609375 10.40625 48.1875 4.484375 \nQ 40.765625 -1.421875 27.09375 -1.421875 \nQ 22.515625 -1.421875 17.65625 -0.515625 \nQ 12.796875 0.390625 7.625 2.203125 \nL 7.625 11.71875 \nQ 11.71875 9.328125 16.59375 8.109375 \nQ 21.484375 6.890625 26.8125 6.890625 \nQ 36.078125 6.890625 40.9375 10.546875 \nQ 45.796875 14.203125 45.796875 21.1875 \nQ 45.796875 27.640625 41.28125 31.265625 \nQ 36.765625 34.90625 28.71875 34.90625 \nL 20.21875 34.90625 \nL 20.21875 43.015625 \nL 29.109375 43.015625 \nQ 36.375 43.015625 40.234375 45.921875 \nQ 44.09375 48.828125 44.09375 54.296875 \nQ 44.09375 59.90625 40.109375 62.90625 \nQ 36.140625 65.921875 28.71875 65.921875 \nQ 24.65625 65.921875 20.015625 65.03125 \nQ 15.375 64.15625 9.8125 62.3125 \nL 9.8125 71.09375 \nQ 15.4375 72.65625 20.34375 73.4375 \nQ 25.25 74.21875 29.59375 74.21875 \nQ 40.828125 74.21875 47.359375 69.109375 \nQ 53.90625 64.015625 53.90625 55.328125 \nQ 53.90625 49.265625 50.4375 45.09375 \nQ 46.96875 40.921875 40.578125 39.3125 \nz\n\" id=\"DejaVuSans-51\"/>\n      </defs>\n      <g style=\"fill:#262626;\" transform=\"translate(101.883863 257.616406)scale(0.11 -0.11)\">\n       <use xlink:href=\"#DejaVuSans-50\"/>\n       <use x=\"63.623047\" xlink:href=\"#DejaVuSans-48\"/>\n       <use x=\"127.246094\" xlink:href=\"#DejaVuSans-50\"/>\n       <use x=\"190.869141\" xlink:href=\"#DejaVuSans-48\"/>\n       <use x=\"254.492188\" xlink:href=\"#DejaVuSans-45\"/>\n       <use x=\"290.576172\" xlink:href=\"#DejaVuSans-48\"/>\n       <use x=\"354.199219\" xlink:href=\"#DejaVuSans-51\"/>\n      </g>\n     </g>\n    </g>\n    <g id=\"xtick_2\">\n     <g id=\"line2d_2\">\n      <path clip-path=\"url(#p1b7c48dff5)\" d=\"M 235.707287 239.758125 \nL 235.707287 22.318125 \n\" style=\"fill:none;stroke:#ffffff;stroke-linecap:round;\"/>\n     </g>\n     <g id=\"text_2\">\n      <!-- 2020-05 -->\n      <defs>\n       <path d=\"M 10.796875 72.90625 \nL 49.515625 72.90625 \nL 49.515625 64.59375 \nL 19.828125 64.59375 \nL 19.828125 46.734375 \nQ 21.96875 47.46875 24.109375 47.828125 \nQ 26.265625 48.1875 28.421875 48.1875 \nQ 40.625 48.1875 47.75 41.5 \nQ 54.890625 34.8125 54.890625 23.390625 \nQ 54.890625 11.625 47.5625 5.09375 \nQ 40.234375 -1.421875 26.90625 -1.421875 \nQ 22.3125 -1.421875 17.546875 -0.640625 \nQ 12.796875 0.140625 7.71875 1.703125 \nL 7.71875 11.625 \nQ 12.109375 9.234375 16.796875 8.0625 \nQ 21.484375 6.890625 26.703125 6.890625 \nQ 35.15625 6.890625 40.078125 11.328125 \nQ 45.015625 15.765625 45.015625 23.390625 \nQ 45.015625 31 40.078125 35.4375 \nQ 35.15625 39.890625 26.703125 39.890625 \nQ 22.75 39.890625 18.8125 39.015625 \nQ 14.890625 38.140625 10.796875 36.28125 \nz\n\" id=\"DejaVuSans-53\"/>\n      </defs>\n      <g style=\"fill:#262626;\" transform=\"translate(212.72674 257.616406)scale(0.11 -0.11)\">\n       <use xlink:href=\"#DejaVuSans-50\"/>\n       <use x=\"63.623047\" xlink:href=\"#DejaVuSans-48\"/>\n       <use x=\"127.246094\" xlink:href=\"#DejaVuSans-50\"/>\n       <use x=\"190.869141\" xlink:href=\"#DejaVuSans-48\"/>\n       <use x=\"254.492188\" xlink:href=\"#DejaVuSans-45\"/>\n       <use x=\"290.576172\" xlink:href=\"#DejaVuSans-48\"/>\n       <use x=\"354.199219\" xlink:href=\"#DejaVuSans-53\"/>\n      </g>\n     </g>\n    </g>\n    <g id=\"xtick_3\">\n     <g id=\"line2d_3\">\n      <path clip-path=\"url(#p1b7c48dff5)\" d=\"M 346.550163 239.758125 \nL 346.550163 22.318125 \n\" style=\"fill:none;stroke:#ffffff;stroke-linecap:round;\"/>\n     </g>\n     <g id=\"text_3\">\n      <!-- 2020-07 -->\n      <defs>\n       <path d=\"M 8.203125 72.90625 \nL 55.078125 72.90625 \nL 55.078125 68.703125 \nL 28.609375 0 \nL 18.3125 0 \nL 43.21875 64.59375 \nL 8.203125 64.59375 \nz\n\" id=\"DejaVuSans-55\"/>\n      </defs>\n      <g style=\"fill:#262626;\" transform=\"translate(323.569616 257.616406)scale(0.11 -0.11)\">\n       <use xlink:href=\"#DejaVuSans-50\"/>\n       <use x=\"63.623047\" xlink:href=\"#DejaVuSans-48\"/>\n       <use x=\"127.246094\" xlink:href=\"#DejaVuSans-50\"/>\n       <use x=\"190.869141\" xlink:href=\"#DejaVuSans-48\"/>\n       <use x=\"254.492188\" xlink:href=\"#DejaVuSans-45\"/>\n       <use x=\"290.576172\" xlink:href=\"#DejaVuSans-48\"/>\n       <use x=\"354.199219\" xlink:href=\"#DejaVuSans-55\"/>\n      </g>\n     </g>\n    </g>\n    <g id=\"xtick_4\">\n     <g id=\"line2d_4\">\n      <path clip-path=\"url(#p1b7c48dff5)\" d=\"M 459.210136 239.758125 \nL 459.210136 22.318125 \n\" style=\"fill:none;stroke:#ffffff;stroke-linecap:round;\"/>\n     </g>\n     <g id=\"text_4\">\n      <!-- 2020-09 -->\n      <defs>\n       <path d=\"M 10.984375 1.515625 \nL 10.984375 10.5 \nQ 14.703125 8.734375 18.5 7.8125 \nQ 22.3125 6.890625 25.984375 6.890625 \nQ 35.75 6.890625 40.890625 13.453125 \nQ 46.046875 20.015625 46.78125 33.40625 \nQ 43.953125 29.203125 39.59375 26.953125 \nQ 35.25 24.703125 29.984375 24.703125 \nQ 19.046875 24.703125 12.671875 31.3125 \nQ 6.296875 37.9375 6.296875 49.421875 \nQ 6.296875 60.640625 12.9375 67.421875 \nQ 19.578125 74.21875 30.609375 74.21875 \nQ 43.265625 74.21875 49.921875 64.515625 \nQ 56.59375 54.828125 56.59375 36.375 \nQ 56.59375 19.140625 48.40625 8.859375 \nQ 40.234375 -1.421875 26.421875 -1.421875 \nQ 22.703125 -1.421875 18.890625 -0.6875 \nQ 15.09375 0.046875 10.984375 1.515625 \nz\nM 30.609375 32.421875 \nQ 37.25 32.421875 41.125 36.953125 \nQ 45.015625 41.5 45.015625 49.421875 \nQ 45.015625 57.28125 41.125 61.84375 \nQ 37.25 66.40625 30.609375 66.40625 \nQ 23.96875 66.40625 20.09375 61.84375 \nQ 16.21875 57.28125 16.21875 49.421875 \nQ 16.21875 41.5 20.09375 36.953125 \nQ 23.96875 32.421875 30.609375 32.421875 \nz\n\" id=\"DejaVuSans-57\"/>\n      </defs>\n      <g style=\"fill:#262626;\" transform=\"translate(436.229589 257.616406)scale(0.11 -0.11)\">\n       <use xlink:href=\"#DejaVuSans-50\"/>\n       <use x=\"63.623047\" xlink:href=\"#DejaVuSans-48\"/>\n       <use x=\"127.246094\" xlink:href=\"#DejaVuSans-50\"/>\n       <use x=\"190.869141\" xlink:href=\"#DejaVuSans-48\"/>\n       <use x=\"254.492188\" xlink:href=\"#DejaVuSans-45\"/>\n       <use x=\"290.576172\" xlink:href=\"#DejaVuSans-48\"/>\n       <use x=\"354.199219\" xlink:href=\"#DejaVuSans-57\"/>\n      </g>\n     </g>\n    </g>\n    <g id=\"xtick_5\">\n     <g id=\"line2d_5\">\n      <path clip-path=\"url(#p1b7c48dff5)\" d=\"M 570.053012 239.758125 \nL 570.053012 22.318125 \n\" style=\"fill:none;stroke:#ffffff;stroke-linecap:round;\"/>\n     </g>\n     <g id=\"text_5\">\n      <!-- 2020-11 -->\n      <defs>\n       <path d=\"M 12.40625 8.296875 \nL 28.515625 8.296875 \nL 28.515625 63.921875 \nL 10.984375 60.40625 \nL 10.984375 69.390625 \nL 28.421875 72.90625 \nL 38.28125 72.90625 \nL 38.28125 8.296875 \nL 54.390625 8.296875 \nL 54.390625 0 \nL 12.40625 0 \nz\n\" id=\"DejaVuSans-49\"/>\n      </defs>\n      <g style=\"fill:#262626;\" transform=\"translate(547.072466 257.616406)scale(0.11 -0.11)\">\n       <use xlink:href=\"#DejaVuSans-50\"/>\n       <use x=\"63.623047\" xlink:href=\"#DejaVuSans-48\"/>\n       <use x=\"127.246094\" xlink:href=\"#DejaVuSans-50\"/>\n       <use x=\"190.869141\" xlink:href=\"#DejaVuSans-48\"/>\n       <use x=\"254.492188\" xlink:href=\"#DejaVuSans-45\"/>\n       <use x=\"290.576172\" xlink:href=\"#DejaVuSans-49\"/>\n       <use x=\"354.199219\" xlink:href=\"#DejaVuSans-49\"/>\n      </g>\n     </g>\n    </g>\n    <g id=\"xtick_6\">\n     <g id=\"line2d_6\">\n      <path clip-path=\"url(#p1b7c48dff5)\" d=\"M 680.895889 239.758125 \nL 680.895889 22.318125 \n\" style=\"fill:none;stroke:#ffffff;stroke-linecap:round;\"/>\n     </g>\n     <g id=\"text_6\">\n      <!-- 2021-01 -->\n      <g style=\"fill:#262626;\" transform=\"translate(657.915342 257.616406)scale(0.11 -0.11)\">\n       <use xlink:href=\"#DejaVuSans-50\"/>\n       <use x=\"63.623047\" xlink:href=\"#DejaVuSans-48\"/>\n       <use x=\"127.246094\" xlink:href=\"#DejaVuSans-50\"/>\n       <use x=\"190.869141\" xlink:href=\"#DejaVuSans-49\"/>\n       <use x=\"254.492188\" xlink:href=\"#DejaVuSans-45\"/>\n       <use x=\"290.576172\" xlink:href=\"#DejaVuSans-48\"/>\n       <use x=\"354.199219\" xlink:href=\"#DejaVuSans-49\"/>\n      </g>\n     </g>\n    </g>\n   </g>\n   <g id=\"matplotlib.axis_2\">\n    <g id=\"ytick_1\">\n     <g id=\"line2d_7\">\n      <path clip-path=\"url(#p1b7c48dff5)\" d=\"M 39.915156 227.20132 \nL 709.515156 227.20132 \n\" style=\"fill:none;stroke:#ffffff;stroke-linecap:round;\"/>\n     </g>\n     <g id=\"text_7\">\n      <!-- −10 -->\n      <defs>\n       <path d=\"M 10.59375 35.5 \nL 73.1875 35.5 \nL 73.1875 27.203125 \nL 10.59375 27.203125 \nz\n\" id=\"DejaVuSans-8722\"/>\n      </defs>\n      <g style=\"fill:#262626;\" transform=\"translate(7.2 231.380461)scale(0.11 -0.11)\">\n       <use xlink:href=\"#DejaVuSans-8722\"/>\n       <use x=\"83.789062\" xlink:href=\"#DejaVuSans-49\"/>\n       <use x=\"147.412109\" xlink:href=\"#DejaVuSans-48\"/>\n      </g>\n     </g>\n    </g>\n    <g id=\"ytick_2\">\n     <g id=\"line2d_8\">\n      <path clip-path=\"url(#p1b7c48dff5)\" d=\"M 39.915156 182.420675 \nL 709.515156 182.420675 \n\" style=\"fill:none;stroke:#ffffff;stroke-linecap:round;\"/>\n     </g>\n     <g id=\"text_8\">\n      <!-- −5 -->\n      <g style=\"fill:#262626;\" transform=\"translate(14.19875 186.599816)scale(0.11 -0.11)\">\n       <use xlink:href=\"#DejaVuSans-8722\"/>\n       <use x=\"83.789062\" xlink:href=\"#DejaVuSans-53\"/>\n      </g>\n     </g>\n    </g>\n    <g id=\"ytick_3\">\n     <g id=\"line2d_9\">\n      <path clip-path=\"url(#p1b7c48dff5)\" d=\"M 39.915156 137.640031 \nL 709.515156 137.640031 \n\" style=\"fill:none;stroke:#ffffff;stroke-linecap:round;\"/>\n     </g>\n     <g id=\"text_9\">\n      <!-- 0 -->\n      <g style=\"fill:#262626;\" transform=\"translate(23.416406 141.819171)scale(0.11 -0.11)\">\n       <use xlink:href=\"#DejaVuSans-48\"/>\n      </g>\n     </g>\n    </g>\n    <g id=\"ytick_4\">\n     <g id=\"line2d_10\">\n      <path clip-path=\"url(#p1b7c48dff5)\" d=\"M 39.915156 92.859386 \nL 709.515156 92.859386 \n\" style=\"fill:none;stroke:#ffffff;stroke-linecap:round;\"/>\n     </g>\n     <g id=\"text_10\">\n      <!-- 5 -->\n      <g style=\"fill:#262626;\" transform=\"translate(23.416406 97.038527)scale(0.11 -0.11)\">\n       <use xlink:href=\"#DejaVuSans-53\"/>\n      </g>\n     </g>\n    </g>\n    <g id=\"ytick_5\">\n     <g id=\"line2d_11\">\n      <path clip-path=\"url(#p1b7c48dff5)\" d=\"M 39.915156 48.078742 \nL 709.515156 48.078742 \n\" style=\"fill:none;stroke:#ffffff;stroke-linecap:round;\"/>\n     </g>\n     <g id=\"text_11\">\n      <!-- 10 -->\n      <g style=\"fill:#262626;\" transform=\"translate(16.417656 52.257882)scale(0.11 -0.11)\">\n       <use xlink:href=\"#DejaVuSans-49\"/>\n       <use x=\"63.623047\" xlink:href=\"#DejaVuSans-48\"/>\n      </g>\n     </g>\n    </g>\n   </g>\n   <g id=\"line2d_12\">\n    <path clip-path=\"url(#p1b7c48dff5)\" d=\"M 70.35152 102.438778 \nL 123.047314 109.177433 \nL 179.3773 102.973255 \nL 233.89019 126.082745 \nL 290.220177 164.823884 \nL 344.733067 158.059938 \nL 401.063053 165.133609 \nL 457.39304 154.166627 \nL 511.90593 154.404135 \nL 568.235916 158.268798 \nL 622.748806 117.236006 \nL 679.078793 138.915163 \n\" style=\"fill:none;stroke:#4c72b0;stroke-linecap:round;stroke-width:1.5;\"/>\n   </g>\n   <g id=\"line2d_13\">\n    <path clip-path=\"url(#p1b7c48dff5)\" d=\"M 70.35152 137.640031 \nL 123.047314 137.640031 \nL 179.3773 137.640031 \nL 233.89019 137.640031 \nL 290.220177 137.640031 \nL 344.733067 137.640031 \nL 401.063053 137.640031 \nL 457.39304 137.640031 \nL 511.90593 137.640031 \nL 568.235916 137.640031 \nL 622.748806 137.640031 \nL 679.078793 137.640031 \n\" style=\"fill:none;stroke:#808080;stroke-dasharray:5.55,2.4;stroke-dashoffset:0;stroke-width:1.5;\"/>\n   </g>\n   <g id=\"line2d_14\">\n    <path clip-path=\"url(#p1b7c48dff5)\" d=\"M 70.35152 68.436061 \nL 123.047314 79.01882 \nL 179.3773 80.364905 \nL 233.89019 105.510481 \nL 290.220177 178.28758 \nL 344.733067 146.279526 \nL 401.063053 170.022179 \nL 457.39304 161.398546 \nL 511.90593 214.098435 \nL 568.235916 190.600591 \nL 622.748806 117.792727 \nL 679.078793 139.870518 \n\" style=\"fill:none;stroke:#008000;stroke-dasharray:5.55,2.4;stroke-dashoffset:0;stroke-opacity:0.2;stroke-width:1.5;\"/>\n   </g>\n   <g id=\"line2d_15\">\n    <path clip-path=\"url(#p1b7c48dff5)\" d=\"M 70.35152 34.239047 \nL 123.047314 32.201761 \nL 179.3773 43.989722 \nL 233.89019 125.095555 \nL 290.220177 207.546362 \nL 344.733067 193.631709 \nL 401.063053 184.594726 \nL 457.39304 186.371958 \nL 511.90593 229.874489 \nL 568.235916 161.070894 \nL 622.748806 107.848398 \nL 679.078793 145.215747 \n\" style=\"fill:none;stroke:#ff0000;stroke-dasharray:5.55,2.4;stroke-dashoffset:0;stroke-opacity:0.2;stroke-width:1.5;\"/>\n   </g>\n   <g id=\"patch_3\">\n    <path d=\"M 39.915156 239.758125 \nL 39.915156 22.318125 \n\" style=\"fill:none;stroke:#ffffff;stroke-linecap:square;stroke-linejoin:miter;stroke-width:1.25;\"/>\n   </g>\n   <g id=\"patch_4\">\n    <path d=\"M 709.515156 239.758125 \nL 709.515156 22.318125 \n\" style=\"fill:none;stroke:#ffffff;stroke-linecap:square;stroke-linejoin:miter;stroke-width:1.25;\"/>\n   </g>\n   <g id=\"patch_5\">\n    <path d=\"M 39.915156 239.758125 \nL 709.515156 239.758125 \n\" style=\"fill:none;stroke:#ffffff;stroke-linecap:square;stroke-linejoin:miter;stroke-width:1.25;\"/>\n   </g>\n   <g id=\"patch_6\">\n    <path d=\"M 39.915156 22.318125 \nL 709.515156 22.318125 \n\" style=\"fill:none;stroke:#ffffff;stroke-linecap:square;stroke-linejoin:miter;stroke-width:1.25;\"/>\n   </g>\n   <g id=\"text_12\">\n    <!-- Sazonalidades Boi Gordo -->\n    <defs>\n     <path d=\"M 53.515625 70.515625 \nL 53.515625 60.890625 \nQ 47.90625 63.578125 42.921875 64.890625 \nQ 37.9375 66.21875 33.296875 66.21875 \nQ 25.25 66.21875 20.875 63.09375 \nQ 16.5 59.96875 16.5 54.203125 \nQ 16.5 49.359375 19.40625 46.890625 \nQ 22.3125 44.4375 30.421875 42.921875 \nL 36.375 41.703125 \nQ 47.40625 39.59375 52.65625 34.296875 \nQ 57.90625 29 57.90625 20.125 \nQ 57.90625 9.515625 50.796875 4.046875 \nQ 43.703125 -1.421875 29.984375 -1.421875 \nQ 24.8125 -1.421875 18.96875 -0.25 \nQ 13.140625 0.921875 6.890625 3.21875 \nL 6.890625 13.375 \nQ 12.890625 10.015625 18.65625 8.296875 \nQ 24.421875 6.59375 29.984375 6.59375 \nQ 38.421875 6.59375 43.015625 9.90625 \nQ 47.609375 13.234375 47.609375 19.390625 \nQ 47.609375 24.75 44.3125 27.78125 \nQ 41.015625 30.8125 33.5 32.328125 \nL 27.484375 33.5 \nQ 16.453125 35.6875 11.515625 40.375 \nQ 6.59375 45.0625 6.59375 53.421875 \nQ 6.59375 63.09375 13.40625 68.65625 \nQ 20.21875 74.21875 32.171875 74.21875 \nQ 37.3125 74.21875 42.625 73.28125 \nQ 47.953125 72.359375 53.515625 70.515625 \nz\n\" id=\"DejaVuSans-83\"/>\n     <path d=\"M 34.28125 27.484375 \nQ 23.390625 27.484375 19.1875 25 \nQ 14.984375 22.515625 14.984375 16.5 \nQ 14.984375 11.71875 18.140625 8.90625 \nQ 21.296875 6.109375 26.703125 6.109375 \nQ 34.1875 6.109375 38.703125 11.40625 \nQ 43.21875 16.703125 43.21875 25.484375 \nL 43.21875 27.484375 \nz\nM 52.203125 31.203125 \nL 52.203125 0 \nL 43.21875 0 \nL 43.21875 8.296875 \nQ 40.140625 3.328125 35.546875 0.953125 \nQ 30.953125 -1.421875 24.3125 -1.421875 \nQ 15.921875 -1.421875 10.953125 3.296875 \nQ 6 8.015625 6 15.921875 \nQ 6 25.140625 12.171875 29.828125 \nQ 18.359375 34.515625 30.609375 34.515625 \nL 43.21875 34.515625 \nL 43.21875 35.40625 \nQ 43.21875 41.609375 39.140625 45 \nQ 35.0625 48.390625 27.6875 48.390625 \nQ 23 48.390625 18.546875 47.265625 \nQ 14.109375 46.140625 10.015625 43.890625 \nL 10.015625 52.203125 \nQ 14.9375 54.109375 19.578125 55.046875 \nQ 24.21875 56 28.609375 56 \nQ 40.484375 56 46.34375 49.84375 \nQ 52.203125 43.703125 52.203125 31.203125 \nz\n\" id=\"DejaVuSans-97\"/>\n     <path d=\"M 5.515625 54.6875 \nL 48.1875 54.6875 \nL 48.1875 46.484375 \nL 14.40625 7.171875 \nL 48.1875 7.171875 \nL 48.1875 0 \nL 4.296875 0 \nL 4.296875 8.203125 \nL 38.09375 47.515625 \nL 5.515625 47.515625 \nz\n\" id=\"DejaVuSans-122\"/>\n     <path d=\"M 30.609375 48.390625 \nQ 23.390625 48.390625 19.1875 42.75 \nQ 14.984375 37.109375 14.984375 27.296875 \nQ 14.984375 17.484375 19.15625 11.84375 \nQ 23.34375 6.203125 30.609375 6.203125 \nQ 37.796875 6.203125 41.984375 11.859375 \nQ 46.1875 17.53125 46.1875 27.296875 \nQ 46.1875 37.015625 41.984375 42.703125 \nQ 37.796875 48.390625 30.609375 48.390625 \nz\nM 30.609375 56 \nQ 42.328125 56 49.015625 48.375 \nQ 55.71875 40.765625 55.71875 27.296875 \nQ 55.71875 13.875 49.015625 6.21875 \nQ 42.328125 -1.421875 30.609375 -1.421875 \nQ 18.84375 -1.421875 12.171875 6.21875 \nQ 5.515625 13.875 5.515625 27.296875 \nQ 5.515625 40.765625 12.171875 48.375 \nQ 18.84375 56 30.609375 56 \nz\n\" id=\"DejaVuSans-111\"/>\n     <path d=\"M 54.890625 33.015625 \nL 54.890625 0 \nL 45.90625 0 \nL 45.90625 32.71875 \nQ 45.90625 40.484375 42.875 44.328125 \nQ 39.84375 48.1875 33.796875 48.1875 \nQ 26.515625 48.1875 22.3125 43.546875 \nQ 18.109375 38.921875 18.109375 30.90625 \nL 18.109375 0 \nL 9.078125 0 \nL 9.078125 54.6875 \nL 18.109375 54.6875 \nL 18.109375 46.1875 \nQ 21.34375 51.125 25.703125 53.5625 \nQ 30.078125 56 35.796875 56 \nQ 45.21875 56 50.046875 50.171875 \nQ 54.890625 44.34375 54.890625 33.015625 \nz\n\" id=\"DejaVuSans-110\"/>\n     <path d=\"M 9.421875 75.984375 \nL 18.40625 75.984375 \nL 18.40625 0 \nL 9.421875 0 \nz\n\" id=\"DejaVuSans-108\"/>\n     <path d=\"M 9.421875 54.6875 \nL 18.40625 54.6875 \nL 18.40625 0 \nL 9.421875 0 \nz\nM 9.421875 75.984375 \nL 18.40625 75.984375 \nL 18.40625 64.59375 \nL 9.421875 64.59375 \nz\n\" id=\"DejaVuSans-105\"/>\n     <path d=\"M 45.40625 46.390625 \nL 45.40625 75.984375 \nL 54.390625 75.984375 \nL 54.390625 0 \nL 45.40625 0 \nL 45.40625 8.203125 \nQ 42.578125 3.328125 38.25 0.953125 \nQ 33.9375 -1.421875 27.875 -1.421875 \nQ 17.96875 -1.421875 11.734375 6.484375 \nQ 5.515625 14.40625 5.515625 27.296875 \nQ 5.515625 40.1875 11.734375 48.09375 \nQ 17.96875 56 27.875 56 \nQ 33.9375 56 38.25 53.625 \nQ 42.578125 51.265625 45.40625 46.390625 \nz\nM 14.796875 27.296875 \nQ 14.796875 17.390625 18.875 11.75 \nQ 22.953125 6.109375 30.078125 6.109375 \nQ 37.203125 6.109375 41.296875 11.75 \nQ 45.40625 17.390625 45.40625 27.296875 \nQ 45.40625 37.203125 41.296875 42.84375 \nQ 37.203125 48.484375 30.078125 48.484375 \nQ 22.953125 48.484375 18.875 42.84375 \nQ 14.796875 37.203125 14.796875 27.296875 \nz\n\" id=\"DejaVuSans-100\"/>\n     <path d=\"M 56.203125 29.59375 \nL 56.203125 25.203125 \nL 14.890625 25.203125 \nQ 15.484375 15.921875 20.484375 11.0625 \nQ 25.484375 6.203125 34.421875 6.203125 \nQ 39.59375 6.203125 44.453125 7.46875 \nQ 49.3125 8.734375 54.109375 11.28125 \nL 54.109375 2.78125 \nQ 49.265625 0.734375 44.1875 -0.34375 \nQ 39.109375 -1.421875 33.890625 -1.421875 \nQ 20.796875 -1.421875 13.15625 6.1875 \nQ 5.515625 13.8125 5.515625 26.8125 \nQ 5.515625 40.234375 12.765625 48.109375 \nQ 20.015625 56 32.328125 56 \nQ 43.359375 56 49.78125 48.890625 \nQ 56.203125 41.796875 56.203125 29.59375 \nz\nM 47.21875 32.234375 \nQ 47.125 39.59375 43.09375 43.984375 \nQ 39.0625 48.390625 32.421875 48.390625 \nQ 24.90625 48.390625 20.390625 44.140625 \nQ 15.875 39.890625 15.1875 32.171875 \nz\n\" id=\"DejaVuSans-101\"/>\n     <path d=\"M 44.28125 53.078125 \nL 44.28125 44.578125 \nQ 40.484375 46.53125 36.375 47.5 \nQ 32.28125 48.484375 27.875 48.484375 \nQ 21.1875 48.484375 17.84375 46.4375 \nQ 14.5 44.390625 14.5 40.28125 \nQ 14.5 37.15625 16.890625 35.375 \nQ 19.28125 33.59375 26.515625 31.984375 \nL 29.59375 31.296875 \nQ 39.15625 29.25 43.1875 25.515625 \nQ 47.21875 21.78125 47.21875 15.09375 \nQ 47.21875 7.46875 41.1875 3.015625 \nQ 35.15625 -1.421875 24.609375 -1.421875 \nQ 20.21875 -1.421875 15.453125 -0.5625 \nQ 10.6875 0.296875 5.421875 2 \nL 5.421875 11.28125 \nQ 10.40625 8.6875 15.234375 7.390625 \nQ 20.0625 6.109375 24.8125 6.109375 \nQ 31.15625 6.109375 34.5625 8.28125 \nQ 37.984375 10.453125 37.984375 14.40625 \nQ 37.984375 18.0625 35.515625 20.015625 \nQ 33.0625 21.96875 24.703125 23.78125 \nL 21.578125 24.515625 \nQ 13.234375 26.265625 9.515625 29.90625 \nQ 5.8125 33.546875 5.8125 39.890625 \nQ 5.8125 47.609375 11.28125 51.796875 \nQ 16.75 56 26.8125 56 \nQ 31.78125 56 36.171875 55.265625 \nQ 40.578125 54.546875 44.28125 53.078125 \nz\n\" id=\"DejaVuSans-115\"/>\n     <path id=\"DejaVuSans-32\"/>\n     <path d=\"M 19.671875 34.8125 \nL 19.671875 8.109375 \nL 35.5 8.109375 \nQ 43.453125 8.109375 47.28125 11.40625 \nQ 51.125 14.703125 51.125 21.484375 \nQ 51.125 28.328125 47.28125 31.5625 \nQ 43.453125 34.8125 35.5 34.8125 \nz\nM 19.671875 64.796875 \nL 19.671875 42.828125 \nL 34.28125 42.828125 \nQ 41.5 42.828125 45.03125 45.53125 \nQ 48.578125 48.25 48.578125 53.8125 \nQ 48.578125 59.328125 45.03125 62.0625 \nQ 41.5 64.796875 34.28125 64.796875 \nz\nM 9.8125 72.90625 \nL 35.015625 72.90625 \nQ 46.296875 72.90625 52.390625 68.21875 \nQ 58.5 63.53125 58.5 54.890625 \nQ 58.5 48.1875 55.375 44.234375 \nQ 52.25 40.28125 46.1875 39.3125 \nQ 53.46875 37.75 57.5 32.78125 \nQ 61.53125 27.828125 61.53125 20.40625 \nQ 61.53125 10.640625 54.890625 5.3125 \nQ 48.25 0 35.984375 0 \nL 9.8125 0 \nz\n\" id=\"DejaVuSans-66\"/>\n     <path d=\"M 59.515625 10.40625 \nL 59.515625 29.984375 \nL 43.40625 29.984375 \nL 43.40625 38.09375 \nL 69.28125 38.09375 \nL 69.28125 6.78125 \nQ 63.578125 2.734375 56.6875 0.65625 \nQ 49.8125 -1.421875 42 -1.421875 \nQ 24.90625 -1.421875 15.25 8.5625 \nQ 5.609375 18.5625 5.609375 36.375 \nQ 5.609375 54.25 15.25 64.234375 \nQ 24.90625 74.21875 42 74.21875 \nQ 49.125 74.21875 55.546875 72.453125 \nQ 61.96875 70.703125 67.390625 67.28125 \nL 67.390625 56.78125 \nQ 61.921875 61.421875 55.765625 63.765625 \nQ 49.609375 66.109375 42.828125 66.109375 \nQ 29.4375 66.109375 22.71875 58.640625 \nQ 16.015625 51.171875 16.015625 36.375 \nQ 16.015625 21.625 22.71875 14.15625 \nQ 29.4375 6.6875 42.828125 6.6875 \nQ 48.046875 6.6875 52.140625 7.59375 \nQ 56.25 8.5 59.515625 10.40625 \nz\n\" id=\"DejaVuSans-71\"/>\n     <path d=\"M 41.109375 46.296875 \nQ 39.59375 47.171875 37.8125 47.578125 \nQ 36.03125 48 33.890625 48 \nQ 26.265625 48 22.1875 43.046875 \nQ 18.109375 38.09375 18.109375 28.8125 \nL 18.109375 0 \nL 9.078125 0 \nL 9.078125 54.6875 \nL 18.109375 54.6875 \nL 18.109375 46.1875 \nQ 20.953125 51.171875 25.484375 53.578125 \nQ 30.03125 56 36.53125 56 \nQ 37.453125 56 38.578125 55.875 \nQ 39.703125 55.765625 41.0625 55.515625 \nz\n\" id=\"DejaVuSans-114\"/>\n    </defs>\n    <g style=\"fill:#262626;\" transform=\"translate(300.052656 16.318125)scale(0.12 -0.12)\">\n     <use xlink:href=\"#DejaVuSans-83\"/>\n     <use x=\"63.476562\" xlink:href=\"#DejaVuSans-97\"/>\n     <use x=\"124.755859\" xlink:href=\"#DejaVuSans-122\"/>\n     <use x=\"177.246094\" xlink:href=\"#DejaVuSans-111\"/>\n     <use x=\"238.427734\" xlink:href=\"#DejaVuSans-110\"/>\n     <use x=\"301.806641\" xlink:href=\"#DejaVuSans-97\"/>\n     <use x=\"363.085938\" xlink:href=\"#DejaVuSans-108\"/>\n     <use x=\"390.869141\" xlink:href=\"#DejaVuSans-105\"/>\n     <use x=\"418.652344\" xlink:href=\"#DejaVuSans-100\"/>\n     <use x=\"482.128906\" xlink:href=\"#DejaVuSans-97\"/>\n     <use x=\"543.408203\" xlink:href=\"#DejaVuSans-100\"/>\n     <use x=\"606.884766\" xlink:href=\"#DejaVuSans-101\"/>\n     <use x=\"668.408203\" xlink:href=\"#DejaVuSans-115\"/>\n     <use x=\"720.507812\" xlink:href=\"#DejaVuSans-32\"/>\n     <use x=\"752.294922\" xlink:href=\"#DejaVuSans-66\"/>\n     <use x=\"820.898438\" xlink:href=\"#DejaVuSans-111\"/>\n     <use x=\"882.080078\" xlink:href=\"#DejaVuSans-105\"/>\n     <use x=\"909.863281\" xlink:href=\"#DejaVuSans-32\"/>\n     <use x=\"941.650391\" xlink:href=\"#DejaVuSans-71\"/>\n     <use x=\"1019.140625\" xlink:href=\"#DejaVuSans-111\"/>\n     <use x=\"1080.322266\" xlink:href=\"#DejaVuSans-114\"/>\n     <use x=\"1119.685547\" xlink:href=\"#DejaVuSans-100\"/>\n     <use x=\"1183.162109\" xlink:href=\"#DejaVuSans-111\"/>\n    </g>\n   </g>\n   <g id=\"legend_1\">\n    <g id=\"patch_7\">\n     <path d=\"M 599.664688 95.701875 \nL 701.815156 95.701875 \nQ 704.015156 95.701875 704.015156 93.501875 \nL 704.015156 30.018125 \nQ 704.015156 27.818125 701.815156 27.818125 \nL 599.664688 27.818125 \nQ 597.464687 27.818125 597.464687 30.018125 \nL 597.464687 93.501875 \nQ 597.464687 95.701875 599.664688 95.701875 \nz\n\" style=\"fill:#eaeaf2;opacity:0.8;stroke:#cccccc;stroke-linejoin:miter;\"/>\n    </g>\n    <g id=\"line2d_16\">\n     <path d=\"M 601.864687 36.726406 \nL 623.864687 36.726406 \n\" style=\"fill:none;stroke:#4c72b0;stroke-linecap:round;stroke-width:1.5;\"/>\n    </g>\n    <g id=\"line2d_17\"/>\n    <g id=\"text_13\">\n     <!-- 1997 - 2020 -->\n     <g style=\"fill:#262626;\" transform=\"translate(632.664687 40.576406)scale(0.11 -0.11)\">\n      <use xlink:href=\"#DejaVuSans-49\"/>\n      <use x=\"63.623047\" xlink:href=\"#DejaVuSans-57\"/>\n      <use x=\"127.246094\" xlink:href=\"#DejaVuSans-57\"/>\n      <use x=\"190.869141\" xlink:href=\"#DejaVuSans-55\"/>\n      <use x=\"254.492188\" xlink:href=\"#DejaVuSans-32\"/>\n      <use x=\"286.279297\" xlink:href=\"#DejaVuSans-45\"/>\n      <use x=\"322.363281\" xlink:href=\"#DejaVuSans-32\"/>\n      <use x=\"354.150391\" xlink:href=\"#DejaVuSans-50\"/>\n      <use x=\"417.773438\" xlink:href=\"#DejaVuSans-48\"/>\n      <use x=\"481.396484\" xlink:href=\"#DejaVuSans-50\"/>\n      <use x=\"545.019531\" xlink:href=\"#DejaVuSans-48\"/>\n     </g>\n    </g>\n    <g id=\"line2d_18\">\n     <path d=\"M 601.864687 52.872344 \nL 623.864687 52.872344 \n\" style=\"fill:none;stroke:#808080;stroke-dasharray:5.55,2.4;stroke-dashoffset:0;stroke-width:1.5;\"/>\n    </g>\n    <g id=\"line2d_19\"/>\n    <g id=\"text_14\">\n     <!-- Média -->\n     <defs>\n      <path d=\"M 9.8125 72.90625 \nL 24.515625 72.90625 \nL 43.109375 23.296875 \nL 61.8125 72.90625 \nL 76.515625 72.90625 \nL 76.515625 0 \nL 66.890625 0 \nL 66.890625 64.015625 \nL 48.09375 14.015625 \nL 38.1875 14.015625 \nL 19.390625 64.015625 \nL 19.390625 0 \nL 9.8125 0 \nz\n\" id=\"DejaVuSans-77\"/>\n      <path d=\"M 56.203125 29.59375 \nL 56.203125 25.203125 \nL 14.890625 25.203125 \nQ 15.484375 15.921875 20.484375 11.0625 \nQ 25.484375 6.203125 34.421875 6.203125 \nQ 39.59375 6.203125 44.453125 7.46875 \nQ 49.3125 8.734375 54.109375 11.28125 \nL 54.109375 2.78125 \nQ 49.265625 0.734375 44.1875 -0.34375 \nQ 39.109375 -1.421875 33.890625 -1.421875 \nQ 20.796875 -1.421875 13.15625 6.1875 \nQ 5.515625 13.8125 5.515625 26.8125 \nQ 5.515625 40.234375 12.765625 48.109375 \nQ 20.015625 56 32.328125 56 \nQ 43.359375 56 49.78125 48.890625 \nQ 56.203125 41.796875 56.203125 29.59375 \nz\nM 47.21875 32.234375 \nQ 47.125 39.59375 43.09375 43.984375 \nQ 39.0625 48.390625 32.421875 48.390625 \nQ 24.90625 48.390625 20.390625 44.140625 \nQ 15.875 39.890625 15.1875 32.171875 \nz\nM 38.53125 79.984375 \nL 48.25 79.984375 \nL 32.34375 61.625 \nL 24.859375 61.625 \nz\n\" id=\"DejaVuSans-233\"/>\n     </defs>\n     <g style=\"fill:#262626;\" transform=\"translate(632.664687 56.722344)scale(0.11 -0.11)\">\n      <use xlink:href=\"#DejaVuSans-77\"/>\n      <use x=\"86.279297\" xlink:href=\"#DejaVuSans-233\"/>\n      <use x=\"147.802734\" xlink:href=\"#DejaVuSans-100\"/>\n      <use x=\"211.279297\" xlink:href=\"#DejaVuSans-105\"/>\n      <use x=\"239.0625\" xlink:href=\"#DejaVuSans-97\"/>\n     </g>\n    </g>\n    <g id=\"line2d_20\">\n     <path d=\"M 601.864687 69.018281 \nL 623.864687 69.018281 \n\" style=\"fill:none;stroke:#008000;stroke-dasharray:5.55,2.4;stroke-dashoffset:0;stroke-opacity:0.2;stroke-width:1.5;\"/>\n    </g>\n    <g id=\"line2d_21\"/>\n    <g id=\"text_15\">\n     <!-- 2014 - 2020 -->\n     <defs>\n      <path d=\"M 37.796875 64.3125 \nL 12.890625 25.390625 \nL 37.796875 25.390625 \nz\nM 35.203125 72.90625 \nL 47.609375 72.90625 \nL 47.609375 25.390625 \nL 58.015625 25.390625 \nL 58.015625 17.1875 \nL 47.609375 17.1875 \nL 47.609375 0 \nL 37.796875 0 \nL 37.796875 17.1875 \nL 4.890625 17.1875 \nL 4.890625 26.703125 \nz\n\" id=\"DejaVuSans-52\"/>\n     </defs>\n     <g style=\"fill:#262626;\" transform=\"translate(632.664687 72.868281)scale(0.11 -0.11)\">\n      <use xlink:href=\"#DejaVuSans-50\"/>\n      <use x=\"63.623047\" xlink:href=\"#DejaVuSans-48\"/>\n      <use x=\"127.246094\" xlink:href=\"#DejaVuSans-49\"/>\n      <use x=\"190.869141\" xlink:href=\"#DejaVuSans-52\"/>\n      <use x=\"254.492188\" xlink:href=\"#DejaVuSans-32\"/>\n      <use x=\"286.279297\" xlink:href=\"#DejaVuSans-45\"/>\n      <use x=\"322.363281\" xlink:href=\"#DejaVuSans-32\"/>\n      <use x=\"354.150391\" xlink:href=\"#DejaVuSans-50\"/>\n      <use x=\"417.773438\" xlink:href=\"#DejaVuSans-48\"/>\n      <use x=\"481.396484\" xlink:href=\"#DejaVuSans-50\"/>\n      <use x=\"545.019531\" xlink:href=\"#DejaVuSans-48\"/>\n     </g>\n    </g>\n    <g id=\"line2d_22\">\n     <path d=\"M 601.864687 85.164219 \nL 623.864687 85.164219 \n\" style=\"fill:none;stroke:#ff0000;stroke-dasharray:5.55,2.4;stroke-dashoffset:0;stroke-opacity:0.2;stroke-width:1.5;\"/>\n    </g>\n    <g id=\"line2d_23\"/>\n    <g id=\"text_16\">\n     <!-- 2017 - 2020 -->\n     <g style=\"fill:#262626;\" transform=\"translate(632.664687 89.014219)scale(0.11 -0.11)\">\n      <use xlink:href=\"#DejaVuSans-50\"/>\n      <use x=\"63.623047\" xlink:href=\"#DejaVuSans-48\"/>\n      <use x=\"127.246094\" xlink:href=\"#DejaVuSans-49\"/>\n      <use x=\"190.869141\" xlink:href=\"#DejaVuSans-55\"/>\n      <use x=\"254.492188\" xlink:href=\"#DejaVuSans-32\"/>\n      <use x=\"286.279297\" xlink:href=\"#DejaVuSans-45\"/>\n      <use x=\"322.363281\" xlink:href=\"#DejaVuSans-32\"/>\n      <use x=\"354.150391\" xlink:href=\"#DejaVuSans-50\"/>\n      <use x=\"417.773438\" xlink:href=\"#DejaVuSans-48\"/>\n      <use x=\"481.396484\" xlink:href=\"#DejaVuSans-50\"/>\n      <use x=\"545.019531\" xlink:href=\"#DejaVuSans-48\"/>\n     </g>\n    </g>\n   </g>\n  </g>\n </g>\n <defs>\n  <clipPath id=\"p1b7c48dff5\">\n   <rect height=\"217.44\" width=\"669.6\" x=\"39.915156\" y=\"22.318125\"/>\n  </clipPath>\n </defs>\n</svg>\n"
          },
          "metadata": {
            "tags": [],
            "needs_background": "light"
          }
        }
      ]
    },
    {
      "cell_type": "markdown",
      "metadata": {
        "id": "RxjK21gawLW_"
      },
      "source": [
        "Dando um zoom para o intervalo de 1 ano, podemos ver que no começo do ano o preço começa maior que a média, assim, tendo uma queda brusca entre o més de máio e junho, subindo novamente entre o més de novembro e dezenbro, onde repete novamente. \n",
        "\n",
        "Logicamente devido a pecuária ser uma industria de céu aberto está sujeita a enteperes o que podem variar o preço, além de uma mudança bruca de mercado financeiro relacionado a demanda, assim tal modelo apresentado acima uma estimativa.\n"
      ]
    },
    {
      "cell_type": "markdown",
      "metadata": {
        "id": "HoggZKsSz1xt"
      },
      "source": [
        "Agora olhe a difenrença quando colocamos um invervalo menor para identificar a sazonalidade, veja que o valores de baixa estão aumentando, isso é devido a o maior número de criação por confinamento nos útimos anos, tal efeito se salienta quando incurtamos ainda mais o período de análise, sendo então que a tendência está em mover os menores preço para os meses de setembro e outubro.\n"
      ]
    },
    {
      "cell_type": "markdown",
      "metadata": {
        "id": "10TebKcv0_V6"
      },
      "source": [
        "### Sazonalidade do Bezerro"
      ]
    },
    {
      "cell_type": "code",
      "metadata": {
        "id": "nwlyzDeA3Ad5",
        "outputId": "9fd5be6a-de7b-4b26-bfa0-e7a199d56f36",
        "colab": {
          "base_uri": "https://localhost:8080/",
          "height": 233
        }
      },
      "source": [
        "#Pré-processando dados\n",
        "dados2 = df.copy()\n",
        "bezerro = pd.DataFrame(dados2[\"Feeder Cattle\"].fillna(dados2[\"Live Cattle\"].median()))\n",
        "bezerro = bezerro.reset_index()\n",
        "bezerro = bezerro.groupby(pd.Grouper(key='Date',freq='M')).first()\n",
        "bezerro.head()"
      ],
      "execution_count": 46,
      "outputs": [
        {
          "output_type": "execute_result",
          "data": {
            "text/html": [
              "<div>\n",
              "<style scoped>\n",
              "    .dataframe tbody tr th:only-of-type {\n",
              "        vertical-align: middle;\n",
              "    }\n",
              "\n",
              "    .dataframe tbody tr th {\n",
              "        vertical-align: top;\n",
              "    }\n",
              "\n",
              "    .dataframe thead th {\n",
              "        text-align: right;\n",
              "    }\n",
              "</style>\n",
              "<table border=\"1\" class=\"dataframe\">\n",
              "  <thead>\n",
              "    <tr style=\"text-align: right;\">\n",
              "      <th></th>\n",
              "      <th>Feeder Cattle</th>\n",
              "    </tr>\n",
              "    <tr>\n",
              "      <th>Date</th>\n",
              "      <th></th>\n",
              "    </tr>\n",
              "  </thead>\n",
              "  <tbody>\n",
              "    <tr>\n",
              "      <th>1997-01-31</th>\n",
              "      <td>93.9375</td>\n",
              "    </tr>\n",
              "    <tr>\n",
              "      <th>1997-02-28</th>\n",
              "      <td>93.9375</td>\n",
              "    </tr>\n",
              "    <tr>\n",
              "      <th>1997-03-31</th>\n",
              "      <td>93.9375</td>\n",
              "    </tr>\n",
              "    <tr>\n",
              "      <th>1997-04-30</th>\n",
              "      <td>93.9375</td>\n",
              "    </tr>\n",
              "    <tr>\n",
              "      <th>1997-05-31</th>\n",
              "      <td>93.9375</td>\n",
              "    </tr>\n",
              "  </tbody>\n",
              "</table>\n",
              "</div>"
            ],
            "text/plain": [
              "            Feeder Cattle\n",
              "Date                     \n",
              "1997-01-31        93.9375\n",
              "1997-02-28        93.9375\n",
              "1997-03-31        93.9375\n",
              "1997-04-30        93.9375\n",
              "1997-05-31        93.9375"
            ]
          },
          "metadata": {
            "tags": []
          },
          "execution_count": 46
        }
      ]
    },
    {
      "cell_type": "code",
      "metadata": {
        "id": "B2zrw0VQ3Ngy"
      },
      "source": [
        "#Calcular decomposição da série\n",
        "bezerro_seasonal = seasonal_decompose(bezerro)"
      ],
      "execution_count": 48,
      "outputs": []
    },
    {
      "cell_type": "code",
      "metadata": {
        "id": "onj0ntQM3SLH"
      },
      "source": [
        "#escolhendo 1 ano\n",
        "bezerro_plot = pd.DataFrame(bezerro_seasonal.seasonal)\n",
        "bezerro_plot = bezerro_plot.reset_index()\n",
        "bezerro_plot = bezerro_plot[bezerro_plot[\"Date\"] >= \"2020-01-01\"]\n",
        "bezerro_plot = bezerro_plot[bezerro_plot[\"Date\"] <= \"2020-12-31\"]\n",
        "bezerro_plot[\"Média\"] = bezerro_plot[\"Feeder Cattle\"].mean()\n"
      ],
      "execution_count": 53,
      "outputs": []
    },
    {
      "cell_type": "code",
      "metadata": {
        "id": "_jRECs-j3hZX",
        "outputId": "9a42078f-9cc2-4fae-f138-d3f06a652d06",
        "colab": {
          "base_uri": "https://localhost:8080/",
          "height": 376
        }
      },
      "source": [
        "#plotar sazonalidade de 1 ano\n",
        "fig, ax = plt.subplots(figsize = (12,4))\n",
        "\n",
        "ax.plot(bezerro_plot[\"Date\"], bezerro_plot[\"Feeder Cattle\"], label='1997 - 2020')\n",
        "ax.plot(bezerro_plot[\"Date\"], bezerro_plot[\"Média\"], ls ='--', color= \"Grey\",label='Média')\n",
        "ax.set_title('Sazonalidades do Bezerro')\n",
        "ax.legend()\n",
        "plt.show()"
      ],
      "execution_count": 57,
      "outputs": [
        {
          "output_type": "display_data",
          "data": {
            "text/plain": [
              "<Figure size 864x288 with 1 Axes>"
            ],
            "image/svg+xml": "<?xml version=\"1.0\" encoding=\"utf-8\" standalone=\"no\"?>\n<!DOCTYPE svg PUBLIC \"-//W3C//DTD SVG 1.1//EN\"\n  \"http://www.w3.org/Graphics/SVG/1.1/DTD/svg11.dtd\">\n<!-- Created with matplotlib (https://matplotlib.org/) -->\n<svg height=\"267.104062pt\" version=\"1.1\" viewBox=\"0 0 709.716406 267.104062\" width=\"709.716406pt\" xmlns=\"http://www.w3.org/2000/svg\" xmlns:xlink=\"http://www.w3.org/1999/xlink\">\n <defs>\n  <style type=\"text/css\">\n*{stroke-linecap:butt;stroke-linejoin:round;}\n  </style>\n </defs>\n <g id=\"figure_1\">\n  <g id=\"patch_1\">\n   <path d=\"M 0 267.104062 \nL 709.716406 267.104062 \nL 709.716406 0 \nL 0 0 \nz\n\" style=\"fill:none;\"/>\n  </g>\n  <g id=\"axes_1\">\n   <g id=\"patch_2\">\n    <path d=\"M 32.916406 239.758125 \nL 702.516406 239.758125 \nL 702.516406 22.318125 \nL 32.916406 22.318125 \nz\n\" style=\"fill:#eaeaf2;\"/>\n   </g>\n   <g id=\"matplotlib.axis_1\">\n    <g id=\"xtick_1\">\n     <g id=\"line2d_1\">\n      <path clip-path=\"url(#pf8eeccc969)\" d=\"M 117.86566 239.758125 \nL 117.86566 22.318125 \n\" style=\"fill:none;stroke:#ffffff;stroke-linecap:round;\"/>\n     </g>\n     <g id=\"text_1\">\n      <!-- 2020-03 -->\n      <defs>\n       <path d=\"M 19.1875 8.296875 \nL 53.609375 8.296875 \nL 53.609375 0 \nL 7.328125 0 \nL 7.328125 8.296875 \nQ 12.9375 14.109375 22.625 23.890625 \nQ 32.328125 33.6875 34.8125 36.53125 \nQ 39.546875 41.84375 41.421875 45.53125 \nQ 43.3125 49.21875 43.3125 52.78125 \nQ 43.3125 58.59375 39.234375 62.25 \nQ 35.15625 65.921875 28.609375 65.921875 \nQ 23.96875 65.921875 18.8125 64.3125 \nQ 13.671875 62.703125 7.8125 59.421875 \nL 7.8125 69.390625 \nQ 13.765625 71.78125 18.9375 73 \nQ 24.125 74.21875 28.421875 74.21875 \nQ 39.75 74.21875 46.484375 68.546875 \nQ 53.21875 62.890625 53.21875 53.421875 \nQ 53.21875 48.921875 51.53125 44.890625 \nQ 49.859375 40.875 45.40625 35.40625 \nQ 44.1875 33.984375 37.640625 27.21875 \nQ 31.109375 20.453125 19.1875 8.296875 \nz\n\" id=\"DejaVuSans-50\"/>\n       <path d=\"M 31.78125 66.40625 \nQ 24.171875 66.40625 20.328125 58.90625 \nQ 16.5 51.421875 16.5 36.375 \nQ 16.5 21.390625 20.328125 13.890625 \nQ 24.171875 6.390625 31.78125 6.390625 \nQ 39.453125 6.390625 43.28125 13.890625 \nQ 47.125 21.390625 47.125 36.375 \nQ 47.125 51.421875 43.28125 58.90625 \nQ 39.453125 66.40625 31.78125 66.40625 \nz\nM 31.78125 74.21875 \nQ 44.046875 74.21875 50.515625 64.515625 \nQ 56.984375 54.828125 56.984375 36.375 \nQ 56.984375 17.96875 50.515625 8.265625 \nQ 44.046875 -1.421875 31.78125 -1.421875 \nQ 19.53125 -1.421875 13.0625 8.265625 \nQ 6.59375 17.96875 6.59375 36.375 \nQ 6.59375 54.828125 13.0625 64.515625 \nQ 19.53125 74.21875 31.78125 74.21875 \nz\n\" id=\"DejaVuSans-48\"/>\n       <path d=\"M 4.890625 31.390625 \nL 31.203125 31.390625 \nL 31.203125 23.390625 \nL 4.890625 23.390625 \nz\n\" id=\"DejaVuSans-45\"/>\n       <path d=\"M 40.578125 39.3125 \nQ 47.65625 37.796875 51.625 33 \nQ 55.609375 28.21875 55.609375 21.1875 \nQ 55.609375 10.40625 48.1875 4.484375 \nQ 40.765625 -1.421875 27.09375 -1.421875 \nQ 22.515625 -1.421875 17.65625 -0.515625 \nQ 12.796875 0.390625 7.625 2.203125 \nL 7.625 11.71875 \nQ 11.71875 9.328125 16.59375 8.109375 \nQ 21.484375 6.890625 26.8125 6.890625 \nQ 36.078125 6.890625 40.9375 10.546875 \nQ 45.796875 14.203125 45.796875 21.1875 \nQ 45.796875 27.640625 41.28125 31.265625 \nQ 36.765625 34.90625 28.71875 34.90625 \nL 20.21875 34.90625 \nL 20.21875 43.015625 \nL 29.109375 43.015625 \nQ 36.375 43.015625 40.234375 45.921875 \nQ 44.09375 48.828125 44.09375 54.296875 \nQ 44.09375 59.90625 40.109375 62.90625 \nQ 36.140625 65.921875 28.71875 65.921875 \nQ 24.65625 65.921875 20.015625 65.03125 \nQ 15.375 64.15625 9.8125 62.3125 \nL 9.8125 71.09375 \nQ 15.4375 72.65625 20.34375 73.4375 \nQ 25.25 74.21875 29.59375 74.21875 \nQ 40.828125 74.21875 47.359375 69.109375 \nQ 53.90625 64.015625 53.90625 55.328125 \nQ 53.90625 49.265625 50.4375 45.09375 \nQ 46.96875 40.921875 40.578125 39.3125 \nz\n\" id=\"DejaVuSans-51\"/>\n      </defs>\n      <g style=\"fill:#262626;\" transform=\"translate(94.885113 257.616406)scale(0.11 -0.11)\">\n       <use xlink:href=\"#DejaVuSans-50\"/>\n       <use x=\"63.623047\" xlink:href=\"#DejaVuSans-48\"/>\n       <use x=\"127.246094\" xlink:href=\"#DejaVuSans-50\"/>\n       <use x=\"190.869141\" xlink:href=\"#DejaVuSans-48\"/>\n       <use x=\"254.492188\" xlink:href=\"#DejaVuSans-45\"/>\n       <use x=\"290.576172\" xlink:href=\"#DejaVuSans-48\"/>\n       <use x=\"354.199219\" xlink:href=\"#DejaVuSans-51\"/>\n      </g>\n     </g>\n    </g>\n    <g id=\"xtick_2\">\n     <g id=\"line2d_2\">\n      <path clip-path=\"url(#pf8eeccc969)\" d=\"M 228.708537 239.758125 \nL 228.708537 22.318125 \n\" style=\"fill:none;stroke:#ffffff;stroke-linecap:round;\"/>\n     </g>\n     <g id=\"text_2\">\n      <!-- 2020-05 -->\n      <defs>\n       <path d=\"M 10.796875 72.90625 \nL 49.515625 72.90625 \nL 49.515625 64.59375 \nL 19.828125 64.59375 \nL 19.828125 46.734375 \nQ 21.96875 47.46875 24.109375 47.828125 \nQ 26.265625 48.1875 28.421875 48.1875 \nQ 40.625 48.1875 47.75 41.5 \nQ 54.890625 34.8125 54.890625 23.390625 \nQ 54.890625 11.625 47.5625 5.09375 \nQ 40.234375 -1.421875 26.90625 -1.421875 \nQ 22.3125 -1.421875 17.546875 -0.640625 \nQ 12.796875 0.140625 7.71875 1.703125 \nL 7.71875 11.625 \nQ 12.109375 9.234375 16.796875 8.0625 \nQ 21.484375 6.890625 26.703125 6.890625 \nQ 35.15625 6.890625 40.078125 11.328125 \nQ 45.015625 15.765625 45.015625 23.390625 \nQ 45.015625 31 40.078125 35.4375 \nQ 35.15625 39.890625 26.703125 39.890625 \nQ 22.75 39.890625 18.8125 39.015625 \nQ 14.890625 38.140625 10.796875 36.28125 \nz\n\" id=\"DejaVuSans-53\"/>\n      </defs>\n      <g style=\"fill:#262626;\" transform=\"translate(205.72799 257.616406)scale(0.11 -0.11)\">\n       <use xlink:href=\"#DejaVuSans-50\"/>\n       <use x=\"63.623047\" xlink:href=\"#DejaVuSans-48\"/>\n       <use x=\"127.246094\" xlink:href=\"#DejaVuSans-50\"/>\n       <use x=\"190.869141\" xlink:href=\"#DejaVuSans-48\"/>\n       <use x=\"254.492188\" xlink:href=\"#DejaVuSans-45\"/>\n       <use x=\"290.576172\" xlink:href=\"#DejaVuSans-48\"/>\n       <use x=\"354.199219\" xlink:href=\"#DejaVuSans-53\"/>\n      </g>\n     </g>\n    </g>\n    <g id=\"xtick_3\">\n     <g id=\"line2d_3\">\n      <path clip-path=\"url(#pf8eeccc969)\" d=\"M 339.551413 239.758125 \nL 339.551413 22.318125 \n\" style=\"fill:none;stroke:#ffffff;stroke-linecap:round;\"/>\n     </g>\n     <g id=\"text_3\">\n      <!-- 2020-07 -->\n      <defs>\n       <path d=\"M 8.203125 72.90625 \nL 55.078125 72.90625 \nL 55.078125 68.703125 \nL 28.609375 0 \nL 18.3125 0 \nL 43.21875 64.59375 \nL 8.203125 64.59375 \nz\n\" id=\"DejaVuSans-55\"/>\n      </defs>\n      <g style=\"fill:#262626;\" transform=\"translate(316.570866 257.616406)scale(0.11 -0.11)\">\n       <use xlink:href=\"#DejaVuSans-50\"/>\n       <use x=\"63.623047\" xlink:href=\"#DejaVuSans-48\"/>\n       <use x=\"127.246094\" xlink:href=\"#DejaVuSans-50\"/>\n       <use x=\"190.869141\" xlink:href=\"#DejaVuSans-48\"/>\n       <use x=\"254.492188\" xlink:href=\"#DejaVuSans-45\"/>\n       <use x=\"290.576172\" xlink:href=\"#DejaVuSans-48\"/>\n       <use x=\"354.199219\" xlink:href=\"#DejaVuSans-55\"/>\n      </g>\n     </g>\n    </g>\n    <g id=\"xtick_4\">\n     <g id=\"line2d_4\">\n      <path clip-path=\"url(#pf8eeccc969)\" d=\"M 452.211386 239.758125 \nL 452.211386 22.318125 \n\" style=\"fill:none;stroke:#ffffff;stroke-linecap:round;\"/>\n     </g>\n     <g id=\"text_4\">\n      <!-- 2020-09 -->\n      <defs>\n       <path d=\"M 10.984375 1.515625 \nL 10.984375 10.5 \nQ 14.703125 8.734375 18.5 7.8125 \nQ 22.3125 6.890625 25.984375 6.890625 \nQ 35.75 6.890625 40.890625 13.453125 \nQ 46.046875 20.015625 46.78125 33.40625 \nQ 43.953125 29.203125 39.59375 26.953125 \nQ 35.25 24.703125 29.984375 24.703125 \nQ 19.046875 24.703125 12.671875 31.3125 \nQ 6.296875 37.9375 6.296875 49.421875 \nQ 6.296875 60.640625 12.9375 67.421875 \nQ 19.578125 74.21875 30.609375 74.21875 \nQ 43.265625 74.21875 49.921875 64.515625 \nQ 56.59375 54.828125 56.59375 36.375 \nQ 56.59375 19.140625 48.40625 8.859375 \nQ 40.234375 -1.421875 26.421875 -1.421875 \nQ 22.703125 -1.421875 18.890625 -0.6875 \nQ 15.09375 0.046875 10.984375 1.515625 \nz\nM 30.609375 32.421875 \nQ 37.25 32.421875 41.125 36.953125 \nQ 45.015625 41.5 45.015625 49.421875 \nQ 45.015625 57.28125 41.125 61.84375 \nQ 37.25 66.40625 30.609375 66.40625 \nQ 23.96875 66.40625 20.09375 61.84375 \nQ 16.21875 57.28125 16.21875 49.421875 \nQ 16.21875 41.5 20.09375 36.953125 \nQ 23.96875 32.421875 30.609375 32.421875 \nz\n\" id=\"DejaVuSans-57\"/>\n      </defs>\n      <g style=\"fill:#262626;\" transform=\"translate(429.230839 257.616406)scale(0.11 -0.11)\">\n       <use xlink:href=\"#DejaVuSans-50\"/>\n       <use x=\"63.623047\" xlink:href=\"#DejaVuSans-48\"/>\n       <use x=\"127.246094\" xlink:href=\"#DejaVuSans-50\"/>\n       <use x=\"190.869141\" xlink:href=\"#DejaVuSans-48\"/>\n       <use x=\"254.492188\" xlink:href=\"#DejaVuSans-45\"/>\n       <use x=\"290.576172\" xlink:href=\"#DejaVuSans-48\"/>\n       <use x=\"354.199219\" xlink:href=\"#DejaVuSans-57\"/>\n      </g>\n     </g>\n    </g>\n    <g id=\"xtick_5\">\n     <g id=\"line2d_5\">\n      <path clip-path=\"url(#pf8eeccc969)\" d=\"M 563.054262 239.758125 \nL 563.054262 22.318125 \n\" style=\"fill:none;stroke:#ffffff;stroke-linecap:round;\"/>\n     </g>\n     <g id=\"text_5\">\n      <!-- 2020-11 -->\n      <defs>\n       <path d=\"M 12.40625 8.296875 \nL 28.515625 8.296875 \nL 28.515625 63.921875 \nL 10.984375 60.40625 \nL 10.984375 69.390625 \nL 28.421875 72.90625 \nL 38.28125 72.90625 \nL 38.28125 8.296875 \nL 54.390625 8.296875 \nL 54.390625 0 \nL 12.40625 0 \nz\n\" id=\"DejaVuSans-49\"/>\n      </defs>\n      <g style=\"fill:#262626;\" transform=\"translate(540.073716 257.616406)scale(0.11 -0.11)\">\n       <use xlink:href=\"#DejaVuSans-50\"/>\n       <use x=\"63.623047\" xlink:href=\"#DejaVuSans-48\"/>\n       <use x=\"127.246094\" xlink:href=\"#DejaVuSans-50\"/>\n       <use x=\"190.869141\" xlink:href=\"#DejaVuSans-48\"/>\n       <use x=\"254.492188\" xlink:href=\"#DejaVuSans-45\"/>\n       <use x=\"290.576172\" xlink:href=\"#DejaVuSans-49\"/>\n       <use x=\"354.199219\" xlink:href=\"#DejaVuSans-49\"/>\n      </g>\n     </g>\n    </g>\n    <g id=\"xtick_6\">\n     <g id=\"line2d_6\">\n      <path clip-path=\"url(#pf8eeccc969)\" d=\"M 673.897139 239.758125 \nL 673.897139 22.318125 \n\" style=\"fill:none;stroke:#ffffff;stroke-linecap:round;\"/>\n     </g>\n     <g id=\"text_6\">\n      <!-- 2021-01 -->\n      <g style=\"fill:#262626;\" transform=\"translate(650.916592 257.616406)scale(0.11 -0.11)\">\n       <use xlink:href=\"#DejaVuSans-50\"/>\n       <use x=\"63.623047\" xlink:href=\"#DejaVuSans-48\"/>\n       <use x=\"127.246094\" xlink:href=\"#DejaVuSans-50\"/>\n       <use x=\"190.869141\" xlink:href=\"#DejaVuSans-49\"/>\n       <use x=\"254.492188\" xlink:href=\"#DejaVuSans-45\"/>\n       <use x=\"290.576172\" xlink:href=\"#DejaVuSans-48\"/>\n       <use x=\"354.199219\" xlink:href=\"#DejaVuSans-49\"/>\n      </g>\n     </g>\n    </g>\n   </g>\n   <g id=\"matplotlib.axis_2\">\n    <g id=\"ytick_1\">\n     <g id=\"line2d_7\">\n      <path clip-path=\"url(#pf8eeccc969)\" d=\"M 32.916406 207.866816 \nL 702.516406 207.866816 \n\" style=\"fill:none;stroke:#ffffff;stroke-linecap:round;\"/>\n     </g>\n     <g id=\"text_7\">\n      <!-- −1 -->\n      <defs>\n       <path d=\"M 10.59375 35.5 \nL 73.1875 35.5 \nL 73.1875 27.203125 \nL 10.59375 27.203125 \nz\n\" id=\"DejaVuSans-8722\"/>\n      </defs>\n      <g style=\"fill:#262626;\" transform=\"translate(7.2 212.045957)scale(0.11 -0.11)\">\n       <use xlink:href=\"#DejaVuSans-8722\"/>\n       <use x=\"83.789062\" xlink:href=\"#DejaVuSans-49\"/>\n      </g>\n     </g>\n    </g>\n    <g id=\"ytick_2\">\n     <g id=\"line2d_8\">\n      <path clip-path=\"url(#pf8eeccc969)\" d=\"M 32.916406 162.930026 \nL 702.516406 162.930026 \n\" style=\"fill:none;stroke:#ffffff;stroke-linecap:round;\"/>\n     </g>\n     <g id=\"text_8\">\n      <!-- 0 -->\n      <g style=\"fill:#262626;\" transform=\"translate(16.417656 167.109166)scale(0.11 -0.11)\">\n       <use xlink:href=\"#DejaVuSans-48\"/>\n      </g>\n     </g>\n    </g>\n    <g id=\"ytick_3\">\n     <g id=\"line2d_9\">\n      <path clip-path=\"url(#pf8eeccc969)\" d=\"M 32.916406 117.993236 \nL 702.516406 117.993236 \n\" style=\"fill:none;stroke:#ffffff;stroke-linecap:round;\"/>\n     </g>\n     <g id=\"text_9\">\n      <!-- 1 -->\n      <g style=\"fill:#262626;\" transform=\"translate(16.417656 122.172376)scale(0.11 -0.11)\">\n       <use xlink:href=\"#DejaVuSans-49\"/>\n      </g>\n     </g>\n    </g>\n    <g id=\"ytick_4\">\n     <g id=\"line2d_10\">\n      <path clip-path=\"url(#pf8eeccc969)\" d=\"M 32.916406 73.056445 \nL 702.516406 73.056445 \n\" style=\"fill:none;stroke:#ffffff;stroke-linecap:round;\"/>\n     </g>\n     <g id=\"text_10\">\n      <!-- 2 -->\n      <g style=\"fill:#262626;\" transform=\"translate(16.417656 77.235586)scale(0.11 -0.11)\">\n       <use xlink:href=\"#DejaVuSans-50\"/>\n      </g>\n     </g>\n    </g>\n    <g id=\"ytick_5\">\n     <g id=\"line2d_11\">\n      <path clip-path=\"url(#pf8eeccc969)\" d=\"M 32.916406 28.119655 \nL 702.516406 28.119655 \n\" style=\"fill:none;stroke:#ffffff;stroke-linecap:round;\"/>\n     </g>\n     <g id=\"text_11\">\n      <!-- 3 -->\n      <g style=\"fill:#262626;\" transform=\"translate(16.417656 32.298796)scale(0.11 -0.11)\">\n       <use xlink:href=\"#DejaVuSans-51\"/>\n      </g>\n     </g>\n    </g>\n   </g>\n   <g id=\"line2d_12\">\n    <path clip-path=\"url(#pf8eeccc969)\" d=\"M 63.35277 229.874489 \nL 116.048564 204.011064 \nL 172.37855 221.369138 \nL 226.89144 227.626504 \nL 283.221427 220.510902 \nL 337.734317 115.23772 \nL 394.064303 116.507003 \nL 450.39429 179.755145 \nL 504.90718 154.409157 \nL 561.237166 32.201761 \nL 615.750056 76.396041 \nL 672.080043 177.261387 \n\" style=\"fill:none;stroke:#4c72b0;stroke-linecap:round;stroke-width:1.5;\"/>\n   </g>\n   <g id=\"line2d_13\">\n    <path clip-path=\"url(#pf8eeccc969)\" d=\"M 63.35277 162.930026 \nL 116.048564 162.930026 \nL 172.37855 162.930026 \nL 226.89144 162.930026 \nL 283.221427 162.930026 \nL 337.734317 162.930026 \nL 394.064303 162.930026 \nL 450.39429 162.930026 \nL 504.90718 162.930026 \nL 561.237166 162.930026 \nL 615.750056 162.930026 \nL 672.080043 162.930026 \n\" style=\"fill:none;stroke:#808080;stroke-dasharray:5.55,2.4;stroke-dashoffset:0;stroke-width:1.5;\"/>\n   </g>\n   <g id=\"patch_3\">\n    <path d=\"M 32.916406 239.758125 \nL 32.916406 22.318125 \n\" style=\"fill:none;stroke:#ffffff;stroke-linecap:square;stroke-linejoin:miter;stroke-width:1.25;\"/>\n   </g>\n   <g id=\"patch_4\">\n    <path d=\"M 702.516406 239.758125 \nL 702.516406 22.318125 \n\" style=\"fill:none;stroke:#ffffff;stroke-linecap:square;stroke-linejoin:miter;stroke-width:1.25;\"/>\n   </g>\n   <g id=\"patch_5\">\n    <path d=\"M 32.916406 239.758125 \nL 702.516406 239.758125 \n\" style=\"fill:none;stroke:#ffffff;stroke-linecap:square;stroke-linejoin:miter;stroke-width:1.25;\"/>\n   </g>\n   <g id=\"patch_6\">\n    <path d=\"M 32.916406 22.318125 \nL 702.516406 22.318125 \n\" style=\"fill:none;stroke:#ffffff;stroke-linecap:square;stroke-linejoin:miter;stroke-width:1.25;\"/>\n   </g>\n   <g id=\"text_12\">\n    <!-- Sazonalidades do Bezerro -->\n    <defs>\n     <path d=\"M 53.515625 70.515625 \nL 53.515625 60.890625 \nQ 47.90625 63.578125 42.921875 64.890625 \nQ 37.9375 66.21875 33.296875 66.21875 \nQ 25.25 66.21875 20.875 63.09375 \nQ 16.5 59.96875 16.5 54.203125 \nQ 16.5 49.359375 19.40625 46.890625 \nQ 22.3125 44.4375 30.421875 42.921875 \nL 36.375 41.703125 \nQ 47.40625 39.59375 52.65625 34.296875 \nQ 57.90625 29 57.90625 20.125 \nQ 57.90625 9.515625 50.796875 4.046875 \nQ 43.703125 -1.421875 29.984375 -1.421875 \nQ 24.8125 -1.421875 18.96875 -0.25 \nQ 13.140625 0.921875 6.890625 3.21875 \nL 6.890625 13.375 \nQ 12.890625 10.015625 18.65625 8.296875 \nQ 24.421875 6.59375 29.984375 6.59375 \nQ 38.421875 6.59375 43.015625 9.90625 \nQ 47.609375 13.234375 47.609375 19.390625 \nQ 47.609375 24.75 44.3125 27.78125 \nQ 41.015625 30.8125 33.5 32.328125 \nL 27.484375 33.5 \nQ 16.453125 35.6875 11.515625 40.375 \nQ 6.59375 45.0625 6.59375 53.421875 \nQ 6.59375 63.09375 13.40625 68.65625 \nQ 20.21875 74.21875 32.171875 74.21875 \nQ 37.3125 74.21875 42.625 73.28125 \nQ 47.953125 72.359375 53.515625 70.515625 \nz\n\" id=\"DejaVuSans-83\"/>\n     <path d=\"M 34.28125 27.484375 \nQ 23.390625 27.484375 19.1875 25 \nQ 14.984375 22.515625 14.984375 16.5 \nQ 14.984375 11.71875 18.140625 8.90625 \nQ 21.296875 6.109375 26.703125 6.109375 \nQ 34.1875 6.109375 38.703125 11.40625 \nQ 43.21875 16.703125 43.21875 25.484375 \nL 43.21875 27.484375 \nz\nM 52.203125 31.203125 \nL 52.203125 0 \nL 43.21875 0 \nL 43.21875 8.296875 \nQ 40.140625 3.328125 35.546875 0.953125 \nQ 30.953125 -1.421875 24.3125 -1.421875 \nQ 15.921875 -1.421875 10.953125 3.296875 \nQ 6 8.015625 6 15.921875 \nQ 6 25.140625 12.171875 29.828125 \nQ 18.359375 34.515625 30.609375 34.515625 \nL 43.21875 34.515625 \nL 43.21875 35.40625 \nQ 43.21875 41.609375 39.140625 45 \nQ 35.0625 48.390625 27.6875 48.390625 \nQ 23 48.390625 18.546875 47.265625 \nQ 14.109375 46.140625 10.015625 43.890625 \nL 10.015625 52.203125 \nQ 14.9375 54.109375 19.578125 55.046875 \nQ 24.21875 56 28.609375 56 \nQ 40.484375 56 46.34375 49.84375 \nQ 52.203125 43.703125 52.203125 31.203125 \nz\n\" id=\"DejaVuSans-97\"/>\n     <path d=\"M 5.515625 54.6875 \nL 48.1875 54.6875 \nL 48.1875 46.484375 \nL 14.40625 7.171875 \nL 48.1875 7.171875 \nL 48.1875 0 \nL 4.296875 0 \nL 4.296875 8.203125 \nL 38.09375 47.515625 \nL 5.515625 47.515625 \nz\n\" id=\"DejaVuSans-122\"/>\n     <path d=\"M 30.609375 48.390625 \nQ 23.390625 48.390625 19.1875 42.75 \nQ 14.984375 37.109375 14.984375 27.296875 \nQ 14.984375 17.484375 19.15625 11.84375 \nQ 23.34375 6.203125 30.609375 6.203125 \nQ 37.796875 6.203125 41.984375 11.859375 \nQ 46.1875 17.53125 46.1875 27.296875 \nQ 46.1875 37.015625 41.984375 42.703125 \nQ 37.796875 48.390625 30.609375 48.390625 \nz\nM 30.609375 56 \nQ 42.328125 56 49.015625 48.375 \nQ 55.71875 40.765625 55.71875 27.296875 \nQ 55.71875 13.875 49.015625 6.21875 \nQ 42.328125 -1.421875 30.609375 -1.421875 \nQ 18.84375 -1.421875 12.171875 6.21875 \nQ 5.515625 13.875 5.515625 27.296875 \nQ 5.515625 40.765625 12.171875 48.375 \nQ 18.84375 56 30.609375 56 \nz\n\" id=\"DejaVuSans-111\"/>\n     <path d=\"M 54.890625 33.015625 \nL 54.890625 0 \nL 45.90625 0 \nL 45.90625 32.71875 \nQ 45.90625 40.484375 42.875 44.328125 \nQ 39.84375 48.1875 33.796875 48.1875 \nQ 26.515625 48.1875 22.3125 43.546875 \nQ 18.109375 38.921875 18.109375 30.90625 \nL 18.109375 0 \nL 9.078125 0 \nL 9.078125 54.6875 \nL 18.109375 54.6875 \nL 18.109375 46.1875 \nQ 21.34375 51.125 25.703125 53.5625 \nQ 30.078125 56 35.796875 56 \nQ 45.21875 56 50.046875 50.171875 \nQ 54.890625 44.34375 54.890625 33.015625 \nz\n\" id=\"DejaVuSans-110\"/>\n     <path d=\"M 9.421875 75.984375 \nL 18.40625 75.984375 \nL 18.40625 0 \nL 9.421875 0 \nz\n\" id=\"DejaVuSans-108\"/>\n     <path d=\"M 9.421875 54.6875 \nL 18.40625 54.6875 \nL 18.40625 0 \nL 9.421875 0 \nz\nM 9.421875 75.984375 \nL 18.40625 75.984375 \nL 18.40625 64.59375 \nL 9.421875 64.59375 \nz\n\" id=\"DejaVuSans-105\"/>\n     <path d=\"M 45.40625 46.390625 \nL 45.40625 75.984375 \nL 54.390625 75.984375 \nL 54.390625 0 \nL 45.40625 0 \nL 45.40625 8.203125 \nQ 42.578125 3.328125 38.25 0.953125 \nQ 33.9375 -1.421875 27.875 -1.421875 \nQ 17.96875 -1.421875 11.734375 6.484375 \nQ 5.515625 14.40625 5.515625 27.296875 \nQ 5.515625 40.1875 11.734375 48.09375 \nQ 17.96875 56 27.875 56 \nQ 33.9375 56 38.25 53.625 \nQ 42.578125 51.265625 45.40625 46.390625 \nz\nM 14.796875 27.296875 \nQ 14.796875 17.390625 18.875 11.75 \nQ 22.953125 6.109375 30.078125 6.109375 \nQ 37.203125 6.109375 41.296875 11.75 \nQ 45.40625 17.390625 45.40625 27.296875 \nQ 45.40625 37.203125 41.296875 42.84375 \nQ 37.203125 48.484375 30.078125 48.484375 \nQ 22.953125 48.484375 18.875 42.84375 \nQ 14.796875 37.203125 14.796875 27.296875 \nz\n\" id=\"DejaVuSans-100\"/>\n     <path d=\"M 56.203125 29.59375 \nL 56.203125 25.203125 \nL 14.890625 25.203125 \nQ 15.484375 15.921875 20.484375 11.0625 \nQ 25.484375 6.203125 34.421875 6.203125 \nQ 39.59375 6.203125 44.453125 7.46875 \nQ 49.3125 8.734375 54.109375 11.28125 \nL 54.109375 2.78125 \nQ 49.265625 0.734375 44.1875 -0.34375 \nQ 39.109375 -1.421875 33.890625 -1.421875 \nQ 20.796875 -1.421875 13.15625 6.1875 \nQ 5.515625 13.8125 5.515625 26.8125 \nQ 5.515625 40.234375 12.765625 48.109375 \nQ 20.015625 56 32.328125 56 \nQ 43.359375 56 49.78125 48.890625 \nQ 56.203125 41.796875 56.203125 29.59375 \nz\nM 47.21875 32.234375 \nQ 47.125 39.59375 43.09375 43.984375 \nQ 39.0625 48.390625 32.421875 48.390625 \nQ 24.90625 48.390625 20.390625 44.140625 \nQ 15.875 39.890625 15.1875 32.171875 \nz\n\" id=\"DejaVuSans-101\"/>\n     <path d=\"M 44.28125 53.078125 \nL 44.28125 44.578125 \nQ 40.484375 46.53125 36.375 47.5 \nQ 32.28125 48.484375 27.875 48.484375 \nQ 21.1875 48.484375 17.84375 46.4375 \nQ 14.5 44.390625 14.5 40.28125 \nQ 14.5 37.15625 16.890625 35.375 \nQ 19.28125 33.59375 26.515625 31.984375 \nL 29.59375 31.296875 \nQ 39.15625 29.25 43.1875 25.515625 \nQ 47.21875 21.78125 47.21875 15.09375 \nQ 47.21875 7.46875 41.1875 3.015625 \nQ 35.15625 -1.421875 24.609375 -1.421875 \nQ 20.21875 -1.421875 15.453125 -0.5625 \nQ 10.6875 0.296875 5.421875 2 \nL 5.421875 11.28125 \nQ 10.40625 8.6875 15.234375 7.390625 \nQ 20.0625 6.109375 24.8125 6.109375 \nQ 31.15625 6.109375 34.5625 8.28125 \nQ 37.984375 10.453125 37.984375 14.40625 \nQ 37.984375 18.0625 35.515625 20.015625 \nQ 33.0625 21.96875 24.703125 23.78125 \nL 21.578125 24.515625 \nQ 13.234375 26.265625 9.515625 29.90625 \nQ 5.8125 33.546875 5.8125 39.890625 \nQ 5.8125 47.609375 11.28125 51.796875 \nQ 16.75 56 26.8125 56 \nQ 31.78125 56 36.171875 55.265625 \nQ 40.578125 54.546875 44.28125 53.078125 \nz\n\" id=\"DejaVuSans-115\"/>\n     <path id=\"DejaVuSans-32\"/>\n     <path d=\"M 19.671875 34.8125 \nL 19.671875 8.109375 \nL 35.5 8.109375 \nQ 43.453125 8.109375 47.28125 11.40625 \nQ 51.125 14.703125 51.125 21.484375 \nQ 51.125 28.328125 47.28125 31.5625 \nQ 43.453125 34.8125 35.5 34.8125 \nz\nM 19.671875 64.796875 \nL 19.671875 42.828125 \nL 34.28125 42.828125 \nQ 41.5 42.828125 45.03125 45.53125 \nQ 48.578125 48.25 48.578125 53.8125 \nQ 48.578125 59.328125 45.03125 62.0625 \nQ 41.5 64.796875 34.28125 64.796875 \nz\nM 9.8125 72.90625 \nL 35.015625 72.90625 \nQ 46.296875 72.90625 52.390625 68.21875 \nQ 58.5 63.53125 58.5 54.890625 \nQ 58.5 48.1875 55.375 44.234375 \nQ 52.25 40.28125 46.1875 39.3125 \nQ 53.46875 37.75 57.5 32.78125 \nQ 61.53125 27.828125 61.53125 20.40625 \nQ 61.53125 10.640625 54.890625 5.3125 \nQ 48.25 0 35.984375 0 \nL 9.8125 0 \nz\n\" id=\"DejaVuSans-66\"/>\n     <path d=\"M 41.109375 46.296875 \nQ 39.59375 47.171875 37.8125 47.578125 \nQ 36.03125 48 33.890625 48 \nQ 26.265625 48 22.1875 43.046875 \nQ 18.109375 38.09375 18.109375 28.8125 \nL 18.109375 0 \nL 9.078125 0 \nL 9.078125 54.6875 \nL 18.109375 54.6875 \nL 18.109375 46.1875 \nQ 20.953125 51.171875 25.484375 53.578125 \nQ 30.03125 56 36.53125 56 \nQ 37.453125 56 38.578125 55.875 \nQ 39.703125 55.765625 41.0625 55.515625 \nz\n\" id=\"DejaVuSans-114\"/>\n    </defs>\n    <g style=\"fill:#262626;\" transform=\"translate(290.176719 16.318125)scale(0.12 -0.12)\">\n     <use xlink:href=\"#DejaVuSans-83\"/>\n     <use x=\"63.476562\" xlink:href=\"#DejaVuSans-97\"/>\n     <use x=\"124.755859\" xlink:href=\"#DejaVuSans-122\"/>\n     <use x=\"177.246094\" xlink:href=\"#DejaVuSans-111\"/>\n     <use x=\"238.427734\" xlink:href=\"#DejaVuSans-110\"/>\n     <use x=\"301.806641\" xlink:href=\"#DejaVuSans-97\"/>\n     <use x=\"363.085938\" xlink:href=\"#DejaVuSans-108\"/>\n     <use x=\"390.869141\" xlink:href=\"#DejaVuSans-105\"/>\n     <use x=\"418.652344\" xlink:href=\"#DejaVuSans-100\"/>\n     <use x=\"482.128906\" xlink:href=\"#DejaVuSans-97\"/>\n     <use x=\"543.408203\" xlink:href=\"#DejaVuSans-100\"/>\n     <use x=\"606.884766\" xlink:href=\"#DejaVuSans-101\"/>\n     <use x=\"668.408203\" xlink:href=\"#DejaVuSans-115\"/>\n     <use x=\"720.507812\" xlink:href=\"#DejaVuSans-32\"/>\n     <use x=\"752.294922\" xlink:href=\"#DejaVuSans-100\"/>\n     <use x=\"815.771484\" xlink:href=\"#DejaVuSans-111\"/>\n     <use x=\"876.953125\" xlink:href=\"#DejaVuSans-32\"/>\n     <use x=\"908.740234\" xlink:href=\"#DejaVuSans-66\"/>\n     <use x=\"977.34375\" xlink:href=\"#DejaVuSans-101\"/>\n     <use x=\"1038.867188\" xlink:href=\"#DejaVuSans-122\"/>\n     <use x=\"1091.357422\" xlink:href=\"#DejaVuSans-101\"/>\n     <use x=\"1152.880859\" xlink:href=\"#DejaVuSans-114\"/>\n     <use x=\"1192.244141\" xlink:href=\"#DejaVuSans-114\"/>\n     <use x=\"1231.107422\" xlink:href=\"#DejaVuSans-111\"/>\n    </g>\n   </g>\n   <g id=\"legend_1\">\n    <g id=\"patch_7\">\n     <path d=\"M 40.616406 63.41 \nL 142.766875 63.41 \nQ 144.966875 63.41 144.966875 61.21 \nL 144.966875 30.018125 \nQ 144.966875 27.818125 142.766875 27.818125 \nL 40.616406 27.818125 \nQ 38.416406 27.818125 38.416406 30.018125 \nL 38.416406 61.21 \nQ 38.416406 63.41 40.616406 63.41 \nz\n\" style=\"fill:#eaeaf2;opacity:0.8;stroke:#cccccc;stroke-linejoin:miter;\"/>\n    </g>\n    <g id=\"line2d_14\">\n     <path d=\"M 42.816406 36.726406 \nL 64.816406 36.726406 \n\" style=\"fill:none;stroke:#4c72b0;stroke-linecap:round;stroke-width:1.5;\"/>\n    </g>\n    <g id=\"line2d_15\"/>\n    <g id=\"text_13\">\n     <!-- 1997 - 2020 -->\n     <g style=\"fill:#262626;\" transform=\"translate(73.616406 40.576406)scale(0.11 -0.11)\">\n      <use xlink:href=\"#DejaVuSans-49\"/>\n      <use x=\"63.623047\" xlink:href=\"#DejaVuSans-57\"/>\n      <use x=\"127.246094\" xlink:href=\"#DejaVuSans-57\"/>\n      <use x=\"190.869141\" xlink:href=\"#DejaVuSans-55\"/>\n      <use x=\"254.492188\" xlink:href=\"#DejaVuSans-32\"/>\n      <use x=\"286.279297\" xlink:href=\"#DejaVuSans-45\"/>\n      <use x=\"322.363281\" xlink:href=\"#DejaVuSans-32\"/>\n      <use x=\"354.150391\" xlink:href=\"#DejaVuSans-50\"/>\n      <use x=\"417.773438\" xlink:href=\"#DejaVuSans-48\"/>\n      <use x=\"481.396484\" xlink:href=\"#DejaVuSans-50\"/>\n      <use x=\"545.019531\" xlink:href=\"#DejaVuSans-48\"/>\n     </g>\n    </g>\n    <g id=\"line2d_16\">\n     <path d=\"M 42.816406 52.872344 \nL 64.816406 52.872344 \n\" style=\"fill:none;stroke:#808080;stroke-dasharray:5.55,2.4;stroke-dashoffset:0;stroke-width:1.5;\"/>\n    </g>\n    <g id=\"line2d_17\"/>\n    <g id=\"text_14\">\n     <!-- Média -->\n     <defs>\n      <path d=\"M 9.8125 72.90625 \nL 24.515625 72.90625 \nL 43.109375 23.296875 \nL 61.8125 72.90625 \nL 76.515625 72.90625 \nL 76.515625 0 \nL 66.890625 0 \nL 66.890625 64.015625 \nL 48.09375 14.015625 \nL 38.1875 14.015625 \nL 19.390625 64.015625 \nL 19.390625 0 \nL 9.8125 0 \nz\n\" id=\"DejaVuSans-77\"/>\n      <path d=\"M 56.203125 29.59375 \nL 56.203125 25.203125 \nL 14.890625 25.203125 \nQ 15.484375 15.921875 20.484375 11.0625 \nQ 25.484375 6.203125 34.421875 6.203125 \nQ 39.59375 6.203125 44.453125 7.46875 \nQ 49.3125 8.734375 54.109375 11.28125 \nL 54.109375 2.78125 \nQ 49.265625 0.734375 44.1875 -0.34375 \nQ 39.109375 -1.421875 33.890625 -1.421875 \nQ 20.796875 -1.421875 13.15625 6.1875 \nQ 5.515625 13.8125 5.515625 26.8125 \nQ 5.515625 40.234375 12.765625 48.109375 \nQ 20.015625 56 32.328125 56 \nQ 43.359375 56 49.78125 48.890625 \nQ 56.203125 41.796875 56.203125 29.59375 \nz\nM 47.21875 32.234375 \nQ 47.125 39.59375 43.09375 43.984375 \nQ 39.0625 48.390625 32.421875 48.390625 \nQ 24.90625 48.390625 20.390625 44.140625 \nQ 15.875 39.890625 15.1875 32.171875 \nz\nM 38.53125 79.984375 \nL 48.25 79.984375 \nL 32.34375 61.625 \nL 24.859375 61.625 \nz\n\" id=\"DejaVuSans-233\"/>\n     </defs>\n     <g style=\"fill:#262626;\" transform=\"translate(73.616406 56.722344)scale(0.11 -0.11)\">\n      <use xlink:href=\"#DejaVuSans-77\"/>\n      <use x=\"86.279297\" xlink:href=\"#DejaVuSans-233\"/>\n      <use x=\"147.802734\" xlink:href=\"#DejaVuSans-100\"/>\n      <use x=\"211.279297\" xlink:href=\"#DejaVuSans-105\"/>\n      <use x=\"239.0625\" xlink:href=\"#DejaVuSans-97\"/>\n     </g>\n    </g>\n   </g>\n  </g>\n </g>\n <defs>\n  <clipPath id=\"pf8eeccc969\">\n   <rect height=\"217.44\" width=\"669.6\" x=\"32.916406\" y=\"22.318125\"/>\n  </clipPath>\n </defs>\n</svg>\n"
          },
          "metadata": {
            "tags": [],
            "needs_background": "light"
          }
        }
      ]
    },
    {
      "cell_type": "markdown",
      "metadata": {
        "id": "clkyuyzz4Frk"
      },
      "source": [
        "Note que referente a o bezerro, a sazonalidade é bem diferente do anterior, sua alta de preço está por meados de outurbo e novembro, com uma subida entre os mesdes de baixa do boi gordo, além disso, o seu maior preíodo de baixa está no começo do ano, isso se dá pelo peso do animal, pois devido ao tempo de reprodução que ocorre no final do ano os bezerro ainda não estão magro."
      ]
    },
    {
      "cell_type": "markdown",
      "metadata": {
        "id": "FtDJjvHVs3uc"
      },
      "source": [
        "## Ciclos"
      ]
    }
  ]
}