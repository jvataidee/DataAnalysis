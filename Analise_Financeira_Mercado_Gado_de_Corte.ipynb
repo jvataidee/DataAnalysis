{
  "nbformat": 4,
  "nbformat_minor": 0,
  "metadata": {
    "colab": {
      "name": "Analise_Financeira_Mercado_Gado_de_Corte.ipynb",
      "provenance": [],
      "collapsed_sections": [],
      "include_colab_link": true
    },
    "kernelspec": {
      "name": "python3",
      "display_name": "Python 3"
    },
    "language_info": {
      "name": "python"
    },
    "accelerator": "GPU"
  },
  "cells": [
    {
      "cell_type": "markdown",
      "metadata": {
        "id": "view-in-github",
        "colab_type": "text"
      },
      "source": [
        "<a href=\"https://colab.research.google.com/github/jvataidee/DataAnalysis/blob/master/Analise_Financeira_Mercado_Gado_de_Corte.ipynb\" target=\"_parent\"><img src=\"https://colab.research.google.com/assets/colab-badge.svg\" alt=\"Open In Colab\"/></a>"
      ]
    },
    {
      "cell_type": "markdown",
      "metadata": {
        "id": "iyF3cpCh9xBf"
      },
      "source": [
        "**by: [João Ataíde](https://www.joaoataide.com)**\n",
        "# Análise Mercado Financeira de Gado de Corte\n",
        "\n",
        "\n",
        "---\n"
      ]
    },
    {
      "cell_type": "markdown",
      "metadata": {
        "id": "-jEcTjEbDMfM"
      },
      "source": [
        "## Importanto bibliotecas básicas"
      ]
    },
    {
      "cell_type": "code",
      "metadata": {
        "id": "iHyBpQRa9lg5"
      },
      "source": [
        "#importar bibliotecas básicas\n",
        "import pandas as pd\n",
        "import numpy as np\n",
        "import matplotlib.pyplot as plt\n",
        "import seaborn as sns\n",
        "import requests\n",
        "from statsmodels.tsa.seasonal import seasonal_decompose\n",
        "\n",
        "# configurar a visualização\n",
        "sns.set()\n",
        "%matplotlib inline\n",
        "%config InlineBackend.figure_format = 'svg'"
      ],
      "execution_count": 90,
      "outputs": []
    },
    {
      "cell_type": "markdown",
      "metadata": {
        "id": "7iwDAi1hA_Nu"
      },
      "source": [
        "## Obtenção dos dados"
      ]
    },
    {
      "cell_type": "code",
      "metadata": {
        "id": "aFfpT5tHBfhs"
      },
      "source": [
        "!pip install investpy -q"
      ],
      "execution_count": 91,
      "outputs": []
    },
    {
      "cell_type": "code",
      "metadata": {
        "id": "rEVIsMYn7RGH"
      },
      "source": [
        "!pip install yfinance -q"
      ],
      "execution_count": 92,
      "outputs": []
    },
    {
      "cell_type": "code",
      "metadata": {
        "id": "BPSmATfGDQSp"
      },
      "source": [
        "#importar bibliotecas financeiras\n",
        "import investpy\n",
        "import yfinance as yf"
      ],
      "execution_count": 93,
      "outputs": []
    },
    {
      "cell_type": "markdown",
      "metadata": {
        "id": "wFLXpq1q40V_"
      },
      "source": [
        "### Dados de Commodities"
      ]
    },
    {
      "cell_type": "markdown",
      "metadata": {
        "id": "J4dvP5sWtxZl"
      },
      "source": [
        "Para fazer as análises do mercado de pecuária, diversas commodities são variáveis para o trabalho, sendo elas as seguintes:\n",
        "\n",
        "\n",
        "\n",
        "*   `Live Cattle` - preço do Boi Gordo\n",
        "*   `Feeder Cattle` - preço do Boi em engorda\n",
        "*   `US Soybeans` - preço da soja\n",
        "*   `US Corn` - preço do milho\n",
        "*   `Dollar` - preço do Dollar/Real\n",
        "\n",
        "Para importar esses dados usarei a biblioteca investpy, que possui um API com comandos para diversos dados financeiros. Para isso, precisaremos estipular uma janela de programação no qual precisa ser maior que 6 anos, devido ao ciclo da pecuária de corte.\n",
        "\n"
      ]
    },
    {
      "cell_type": "code",
      "metadata": {
        "id": "JNLqIvJwgO1Y"
      },
      "source": [
        "#Lista de commodities\n",
        "commodities = [\"Live Cattle\", \"Feeder Cattle\", \"US Soybeans\",\"US Corn\"]\n",
        "\n",
        "#Data de inicio e fim de análise\n",
        "inicio = \"01/01/2004\"\n",
        "fim = \"31/12/2021\""
      ],
      "execution_count": 94,
      "outputs": []
    },
    {
      "cell_type": "code",
      "metadata": {
        "id": "FuwlmI-8a3_D"
      },
      "source": [
        "#Função para importar dados das commodities\n",
        "def commodities_df(commodities, inicio,fim):\n",
        "  precos = pd.DataFrame()\n",
        "  for i in commodities:\n",
        "    df = investpy.commodities.get_commodity_historical_data(commodity=i, from_date=inicio, to_date=fim).Close\n",
        "    df.rename(i, inplace=True)\n",
        "    df.columns = [i]\n",
        "    precos = pd.concat([precos,df], axis=1)\n",
        "    precos.index.name=\"Date\"\n",
        "  return precos\n",
        "\n",
        "\n",
        "#Data Frame de commodites\n",
        "df = commodities_df(commodities,inicio,fim)\n",
        "\n",
        "#Importar dollar dos anos de 2004 e 2020\n",
        "doll = yf.Ticker(\"USDBRL=x\")\n",
        "dollar = pd.DataFrame(doll.history(start = \"2004-01-01\", end =\"2020-12-31\" ).Close)\n",
        "dollar.columns = [\"Dollar\"]\n",
        "dollar.index.name=\"Date\"\n",
        "\n",
        "#merge dado\n",
        "dados =pd.merge(df, dollar, how='inner', right_index=True, left_index=True)\n",
        "\n",
        "#Agrupar a média por trimestre\n",
        "dados_trimestre = dados.groupby(pd.Grouper(freq='Q')).mean()\n",
        "dados_trimestre = dados_trimestre.reset_index()\n",
        "dados_trimestre.head()"
      ],
      "execution_count": null,
      "outputs": []
    },
    {
      "cell_type": "code",
      "metadata": {
        "id": "HztCyr3Q5J0x"
      },
      "source": [
        "dados_trimestre.shape"
      ],
      "execution_count": null,
      "outputs": []
    },
    {
      "cell_type": "markdown",
      "metadata": {
        "id": "88CdpPXg34ke"
      },
      "source": [
        "### Dados do SIDRA\n",
        "\n",
        "Outro dados importante é referente aos número de abates dos animais por classe dentro do intervalo de tempo, sendo usado então validar os ciclos e as sazonalidades das culturas. Para isso, precisaremos baixar todas as classes os dados referentes ao intervalo e cabeças abatidas de cada classe:\n",
        "\n",
        "*   `Bois` - Animal macho\n",
        "*   `Vacas` - Animal fêmea\n",
        "*   `Novilhas` - Animal fêmea mais nova \n",
        "*   `Novilhos` - Animal macho mais novo\n",
        "*   `Totais` -  Soma de todas as classes\n",
        "\n"
      ]
    },
    {
      "cell_type": "code",
      "metadata": {
        "id": "BfaIAApC34w4"
      },
      "source": [
        "#link do banco de dados sidra\n",
        "consulta = 'https://apisidra.ibge.gov.br/values/t/1092/n1/all/v/all/p/all/c12716/all/c18/55,56,992,111734,111735/c12529/all/d/v1000151%202,v1000284%202,v1000285%202'\n",
        "ufs = [5] #numero de consultas\n",
        "\n",
        "#Baixar dados do sidra\n",
        "df2 = pd.DataFrame()\n",
        "for uf in ufs:\n",
        "    url = consulta.format(uf)\n",
        "    dados_json = requests.get(url).json()\n",
        "    dados_pandas = pd.DataFrame(dados_json)\n",
        "    df2 = pd.concat([dados_pandas,df2])"
      ],
      "execution_count": null,
      "outputs": []
    },
    {
      "cell_type": "code",
      "metadata": {
        "id": "4xUS58nNAEwI"
      },
      "source": [
        "#Renomear colunas\n",
        "sidra = df2.copy() \n",
        "colunas = list(df2.iloc[0,:])\n",
        "sidra.columns = colunas\n",
        "\n",
        "#Filtrar dados\n",
        "sidra = sidra.iloc[1:,:]\n",
        "sidra = sidra[sidra[\"Variável\"]==\"Animais abatidos\"]\n",
        "sidra = sidra[sidra[\"Tipo de inspeção\"]==\"Total\"]\n",
        "sidra = sidra[sidra[\"Unidade de Medida\"]==\"Cabeças\"]\n",
        "sidra = sidra[sidra[\"Referência temporal\"]==\"Total do trimestre\"]\n",
        "\n",
        "#Escolher colunas necessárias para a análise\n",
        "sidra = sidra.reset_index()\n",
        "sidra = sidra.iloc[:, [5, 11, 15]]\n",
        "\n",
        "#Dropar coluna de valor X\n",
        "sidra = sidra.drop(sidra[sidra[\"Valor\"] == 'X'].index)\n",
        "\n",
        "#tranformar valor em float\n",
        "sidra[\"Valor\"] = sidra[\"Valor\"].astype(float)\n",
        "\n",
        "#Encontrar datas\n",
        "times = sidra.Trimestre.str.split(expand=True)\n",
        "times[2] = pd.to_datetime(times[2])\n",
        "sidra3 = sidra.copy()\n",
        "sidra3 = sidra3[times[2] >= \"2004\"]\n",
        "sidra3 = sidra3[times[2] < \"2021\"]\n",
        "sidra3.head()"
      ],
      "execution_count": null,
      "outputs": []
    },
    {
      "cell_type": "code",
      "metadata": {
        "id": "O_84GEzp4Xao"
      },
      "source": [
        "#Separar dados pelo tipo de rebanho\n",
        "bois = sidra3[sidra3[\"Tipo de rebanho bovino\"] == \"Bois\"]\n",
        "vacas = sidra3[sidra3[\"Tipo de rebanho bovino\"] == \"Vacas\"]\n",
        "novilhas = sidra3[sidra3[\"Tipo de rebanho bovino\"] == \"Novilhos\"]\n",
        "novilhos = sidra3[sidra3[\"Tipo de rebanho bovino\"] == \"Novilhas\"]\n",
        "total = sidra3[sidra3[\"Tipo de rebanho bovino\"] == \"Total\"]"
      ],
      "execution_count": null,
      "outputs": []
    },
    {
      "cell_type": "code",
      "metadata": {
        "id": "TRouEEkX1rSV"
      },
      "source": [
        "#Função de pré join\n",
        "def pre_join(dataframe, nome):\n",
        "  dataframe = dataframe.reset_index()\n",
        "  dataframe = dataframe.iloc[:, [1, 2]]\n",
        "  dataframe.columns = [nome, \"Trimestre\"]\n",
        "  return dataframe\n",
        "\n",
        "#Criar contador de trimestre\n",
        "bois = pre_join(bois, \"Bois\")\n",
        "vacas = pre_join(vacas, \"Vacas\")\n",
        "novilhas = pre_join(novilhas, \"Novilhas\")\n",
        "novilhos = pre_join(novilhos, \"Novilhos\")\n",
        "total = pre_join(total, \"Total\")"
      ],
      "execution_count": null,
      "outputs": []
    },
    {
      "cell_type": "code",
      "metadata": {
        "id": "KxRh7_Ic8sn1"
      },
      "source": [
        "#Joins de todos os datasets\n",
        "df_final = dados_trimestre.copy()\n",
        "df_final = df_final.join(bois)\n",
        "df_final = df_final.join(vacas.Vacas)\n",
        "df_final = df_final.join(novilhas.Novilhas)\n",
        "df_final = df_final.join(novilhos.Novilhos)\n",
        "df_final = df_final.join(total.Total)\n",
        "\n",
        "#indexar por data\n",
        "df_final=df_final.set_index(\"Date\")\n",
        "df_final.head()"
      ],
      "execution_count": null,
      "outputs": []
    },
    {
      "cell_type": "code",
      "metadata": {
        "id": "GMXTnlR1MgYD"
      },
      "source": [
        "#Criar coluna de média todos os trimestres \n",
        "df_final[\"Média Bois\"] = df_final[\"Bois\"].mean()\n",
        "df_final[\"Média Vacas\"] = df_final[\"Vacas\"].mean()\n",
        "df_final[\"Média Novilhas\"] = df_final[\"Novilhas\"].mean()\n",
        "df_final[\"Média Novilhos\"] = df_final[\"Novilhos\"].mean()\n",
        "df_final[\"Média Total\"] = df_final[\"Total\"].mean()"
      ],
      "execution_count": null,
      "outputs": []
    },
    {
      "cell_type": "markdown",
      "metadata": {
        "id": "QJ4Aqgl2MWXB"
      },
      "source": [
        "## Sazonalidade\n",
        "\n",
        "A sazonalidade são eventos que costumam ocorrer em determinado momento do ano, assim como toda e qualquer cultura a pecuária de corte não é diferente, entretanto, tal se diferência devido ao seu comportameto plurianual, modificando então suas cultura a decorrer da passagem de alguns anos, que geralmente são de 5 à 6 anos."
      ]
    },
    {
      "cell_type": "code",
      "metadata": {
        "id": "jvFv4mygM2l9"
      },
      "source": [
        "#Agrupar por trimestre\n",
        "trimestre = df_final.Trimestre.str.split(expand=True)\n",
        "trimestre = df_final.join(trimestre)\n",
        "trimestre = trimestre.groupby([0,2]).sum()\n",
        "trimestre= trimestre.reset_index()\n",
        "trimestre.head()"
      ],
      "execution_count": null,
      "outputs": []
    },
    {
      "cell_type": "code",
      "metadata": {
        "id": "HHH229G_VAW_"
      },
      "source": [
        "#Dataset por ano\n",
        "df_2014 = trimestre[trimestre[2]== \"2014\"]\n",
        "df_2015 = trimestre[trimestre[2]== \"2015\"]\n",
        "df_2016 = trimestre[trimestre[2]== \"2016\"]\n",
        "df_2017 = trimestre[trimestre[2]== \"2017\"]\n",
        "df_2018 = trimestre[trimestre[2]== \"2018\"]\n",
        "df_2019 = trimestre[trimestre[2]== \"2019\"]\n",
        "df_2020 = trimestre[trimestre[2]== \"2020\"]\n",
        "\n",
        "#criar dataset abate de vacas por ano\n",
        "df_vacas_ano = pd.DataFrame()\n",
        "df_vacas_ano[\"2014\"]= list(df_2014.Vacas)\n",
        "df_vacas_ano[\"2015\"] = list(df_2015.Vacas)\n",
        "df_vacas_ano[\"2016\"]= list(df_2016.Vacas)\n",
        "df_vacas_ano[\"2017\"]= list(df_2017.Vacas)\n",
        "df_vacas_ano[\"2018\"]= list(df_2018.Vacas)\n",
        "df_vacas_ano[\"2019\"]= list(df_2019.Vacas)\n",
        "df_vacas_ano[\"2020\"]= list(df_2020.Vacas)\n",
        "df_vacas_ano"
      ],
      "execution_count": null,
      "outputs": []
    },
    {
      "cell_type": "code",
      "metadata": {
        "id": "Mpt2NZumXU7i"
      },
      "source": [
        "df_vacas_ano.plot(kind=\"bar\", figsize = (12,4));"
      ],
      "execution_count": null,
      "outputs": []
    },
    {
      "cell_type": "markdown",
      "metadata": {
        "id": "8KsbQ8anYmxh"
      },
      "source": [
        "Eu agrupei o número de abates das fêmeas por ano e trimestre, assim foi possível identificar que no primeiro trimestre é sempre onde tem maior número de abate de fêmeas. Isso mostra a importância da questão da oferta de fêmeas no período de abate, pois quando a oferta está muito alta ela tende a preencher a escala do frigorifico e pressionar o preços da @ de macho."
      ]
    },
    {
      "cell_type": "markdown",
      "metadata": {
        "id": "HKUFevexZnWu"
      },
      "source": [
        "**Mas por que isso é mais forte no primeiro trimestre?** isso é devido ao processo de classificação do produtor quanto as fêmeas que não irão emprenhar novamente no outro ano, assim decorre o descarte maior dessas no primeiro e no segundo semestre. Outra quesão é a redução que ocorre no terceiro trimestre que é devido a entressafra, decorrente da não existência de bois de pasto e o momento com menor oferta de fêmeas."
      ]
    },
    {
      "cell_type": "markdown",
      "metadata": {
        "id": "Ufa-0MqnaUan"
      },
      "source": [
        "### Sazonalidade do Boi Gordo"
      ]
    },
    {
      "cell_type": "code",
      "metadata": {
        "id": "ysBn6pH-fhYV"
      },
      "source": [
        "#Pré-processando dados\n",
        "dados2 = df.copy()\n",
        "boi_gordo = pd.DataFrame(dados2[\"Live Cattle\"].fillna(dados2[\"Live Cattle\"].median()))\n",
        "boi_gordo = boi_gordo.reset_index()\n",
        "boi_gordo = boi_gordo.groupby(pd.Grouper(key='Date',freq='M')).first()\n",
        "boi_gordo2 = boi_gordo[boi_gordo.index > '2014-01-01']\n",
        "boi_gordo3 = boi_gordo[boi_gordo.index > '2017-01-01']\n",
        "boi_gordo.head()"
      ],
      "execution_count": null,
      "outputs": []
    },
    {
      "cell_type": "code",
      "metadata": {
        "id": "ybt2QXM2dJcX"
      },
      "source": [
        "#Calcular decomposição da série\n",
        "boi_gordo_seasonal = seasonal_decompose(boi_gordo)\n",
        "boi_gordo2_seasonal = seasonal_decompose(boi_gordo2)\n",
        "boi_gordo3_seasonal = seasonal_decompose(boi_gordo3)"
      ],
      "execution_count": null,
      "outputs": []
    },
    {
      "cell_type": "code",
      "metadata": {
        "id": "3YgO94tXqjUJ"
      },
      "source": [
        "# Plotar decomposição e série do boi gordo\n",
        "fig, ax = plt.subplots(4,figsize = (10,8))\n",
        "ax[0].plot(boi_gordo_seasonal.observed)\n",
        "ax[1].plot(boi_gordo_seasonal.trend)\n",
        "ax[2].plot(boi_gordo_seasonal.seasonal)\n",
        "ax[3].plot(boi_gordo_seasonal.resid)\n",
        "\n",
        "ax[0].set_title('Observado')\n",
        "ax[1].set_title('Tendência')\n",
        "ax[2].set_title('Sazonalidade')\n",
        "ax[3].set_title('Ruído')\n",
        "fig.autofmt_xdate()\n",
        "plt.show()"
      ],
      "execution_count": null,
      "outputs": []
    },
    {
      "cell_type": "markdown",
      "metadata": {
        "id": "vKMtvERQlfMD"
      },
      "source": [
        "Olhando o gráfico acima podemos ver a decomposição da série temporal do preço do boi gordo no intervalo de 2014 a 2019, indicando quais as tendência e sazonalide do preço do boi gordo."
      ]
    },
    {
      "cell_type": "code",
      "metadata": {
        "id": "HkXjk5v8tUsd"
      },
      "source": [
        "#escolhendo 1 ano para sazonalidade de 1997 a 2020\n",
        "boi_plot = pd.DataFrame(boi_gordo_seasonal.seasonal)\n",
        "boi_plot = boi_plot.reset_index()\n",
        "boi_plot = boi_plot[boi_plot[\"Date\"] >= \"2020-01-01\"]\n",
        "boi_plot = boi_plot[boi_plot[\"Date\"] <= \"2020-12-31\"]\n",
        "boi_plot[\"Média\"] = boi_plot[\"Live Cattle\"].mean()\n",
        "\n",
        "#escolhendo 1 ano para sazonalidade de 2014 a 2020\n",
        "boi_plot2 = pd.DataFrame(boi_gordo2_seasonal.seasonal)\n",
        "boi_plot2 = boi_plot2.reset_index()\n",
        "boi_plot2 = boi_plot2[boi_plot2[\"Date\"] >= \"2020-01-01\"]\n",
        "boi_plot2 = boi_plot2[boi_plot2[\"Date\"] <= \"2020-12-31\"]\n",
        "\n",
        "#escolhendo 1 ano para sazonalidade de 2017 a 2020\n",
        "boi_plot3 = pd.DataFrame(boi_gordo3_seasonal.seasonal)\n",
        "boi_plot3 = boi_plot3.reset_index()\n",
        "boi_plot3 = boi_plot3[boi_plot3[\"Date\"] >= \"2020-01-01\"]\n",
        "boi_plot3 = boi_plot3[boi_plot3[\"Date\"] <= \"2020-12-31\"]\n"
      ],
      "execution_count": null,
      "outputs": []
    },
    {
      "cell_type": "code",
      "metadata": {
        "id": "m-pLhxQQsgiV"
      },
      "source": [
        "#plotar sazonalidade de 1 ano\n",
        "fig, ax = plt.subplots(figsize = (12,4))\n",
        "\n",
        "ax.plot(boi_plot[\"Date\"], boi_plot[\"Live Cattle\"],label='1997 - 2020')\n",
        "ax.plot(boi_plot[\"Date\"], boi_plot[\"Média\"], ls ='--', color= \"Grey\",label='Média')\n",
        "ax.plot(boi_plot2[\"Date\"], boi_plot2[\"Live Cattle\"], ls ='--', color= \"Green\",label='2014 - 2020', alpha = 0.2)\n",
        "ax.plot(boi_plot3[\"Date\"], boi_plot3[\"Live Cattle\"], ls ='--', color= \"Red\",label='2017 - 2020', alpha = 0.2)\n",
        "ax.set_title('Sazonalidades Boi Gordo')\n",
        "ax.legend()\n",
        "plt.show()"
      ],
      "execution_count": null,
      "outputs": []
    },
    {
      "cell_type": "markdown",
      "metadata": {
        "id": "RxjK21gawLW_"
      },
      "source": [
        "Dando um zoom para o intervalo de 1 ano, podemos ver que no começo do ano o preço começa maior que a média, assim, tendo uma queda brusca entre o més de máio e junho, subindo novamente entre o més de novembro e dezenbro, onde repete novamente. \n",
        "\n",
        "Logicamente devido a pecuária ser uma industria de céu aberto está sujeita a enteperes o que podem variar o preço, além de uma mudança bruca de mercado financeiro relacionado a demanda, assim tal modelo apresentado acima uma estimativa.\n"
      ]
    },
    {
      "cell_type": "markdown",
      "metadata": {
        "id": "HoggZKsSz1xt"
      },
      "source": [
        "Agora olhe a difenrença quando colocamos um invervalo menor para identificar a sazonalidade, veja que o valores de baixa estão aumentando, isso é devido a o maior número de criação por confinamento nos útimos anos, tal efeito se salienta quando incurtamos ainda mais o período de análise, sendo então que a tendência está em mover os menores preço para os meses de setembro e outubro.\n"
      ]
    },
    {
      "cell_type": "markdown",
      "metadata": {
        "id": "10TebKcv0_V6"
      },
      "source": [
        "### Sazonalidade do Bezerro"
      ]
    },
    {
      "cell_type": "code",
      "metadata": {
        "id": "nwlyzDeA3Ad5"
      },
      "source": [
        "#Pré-processando dados\n",
        "dados2 = df.copy()\n",
        "bezerro = pd.DataFrame(dados2[\"Feeder Cattle\"].fillna(dados2[\"Live Cattle\"].median()))\n",
        "bezerro = bezerro.reset_index()\n",
        "bezerro = bezerro.groupby(pd.Grouper(key='Date',freq='M')).first()\n",
        "bezerro.head()"
      ],
      "execution_count": null,
      "outputs": []
    },
    {
      "cell_type": "code",
      "metadata": {
        "id": "B2zrw0VQ3Ngy"
      },
      "source": [
        "#Calcular decomposição da série\n",
        "bezerro_seasonal = seasonal_decompose(bezerro)"
      ],
      "execution_count": null,
      "outputs": []
    },
    {
      "cell_type": "code",
      "metadata": {
        "id": "onj0ntQM3SLH"
      },
      "source": [
        "#escolhendo 1 ano\n",
        "bezerro_plot = pd.DataFrame(bezerro_seasonal.seasonal)\n",
        "bezerro_plot = bezerro_plot.reset_index()\n",
        "bezerro_plot = bezerro_plot[bezerro_plot[\"Date\"] >= \"2020-01-01\"]\n",
        "bezerro_plot = bezerro_plot[bezerro_plot[\"Date\"] <= \"2020-12-31\"]\n",
        "bezerro_plot[\"Média\"] = bezerro_plot[\"Feeder Cattle\"].mean()\n"
      ],
      "execution_count": null,
      "outputs": []
    },
    {
      "cell_type": "code",
      "metadata": {
        "id": "_jRECs-j3hZX"
      },
      "source": [
        "#plotar sazonalidade de 1 ano\n",
        "fig, ax = plt.subplots(figsize = (12,4))\n",
        "\n",
        "ax.plot(bezerro_plot[\"Date\"], bezerro_plot[\"Feeder Cattle\"], label='1997 - 2020')\n",
        "ax.plot(bezerro_plot[\"Date\"], bezerro_plot[\"Média\"], ls ='--', color= \"Grey\",label='Média')\n",
        "ax.set_title('Sazonalidades do Bezerro')\n",
        "ax.legend()\n",
        "plt.show()"
      ],
      "execution_count": null,
      "outputs": []
    },
    {
      "cell_type": "markdown",
      "metadata": {
        "id": "clkyuyzz4Frk"
      },
      "source": [
        "Note que referente a o bezerro, a sazonalidade é bem diferente do anterior, sua alta de preço está por meados de outurbo e novembro, com uma subida entre os mesdes de baixa do boi gordo, além disso, o seu maior preíodo de baixa está no começo do ano, isso se dá pelo peso do animal, pois devido ao tempo de reprodução que ocorre no final do ano os bezerro ainda não estão magro."
      ]
    },
    {
      "cell_type": "markdown",
      "metadata": {
        "id": "FtDJjvHVs3uc"
      },
      "source": [
        "## Ciclos"
      ]
    },
    {
      "cell_type": "markdown",
      "metadata": {
        "id": "lYA8nk3tpWFZ"
      },
      "source": [
        "### interferência das fêmas"
      ]
    },
    {
      "cell_type": "code",
      "metadata": {
        "id": "QBud7b7mpehn"
      },
      "source": [
        "#dataset participação das fêmeas no abate total\n",
        "participacao_femeas = pd.DataFrame()\n",
        "participacao_femeas[\"Trimestre\"] = df_final['Trimestre']\n",
        "participacao_femeas[\"Participacao\"] = (df_final[\"Vacas\"]/df_final[\"Total\"])*100\n",
        "participacao_femeas[\"Alto\"] = participacao_femeas[\"Participacao\"].max()\n",
        "participacao_femeas[\"Baixa\"] = participacao_femeas[\"Participacao\"].min()\n",
        "participacao_femeas[\"Média\"] = participacao_femeas[\"Participacao\"].mean()\n",
        "participacao_femeas[\"Bezerro\"] = df_final[\"Feeder Cattle\"]\n",
        "participacao_femeas.head()"
      ],
      "execution_count": null,
      "outputs": []
    },
    {
      "cell_type": "code",
      "metadata": {
        "id": "ouLwxaHWqL8s"
      },
      "source": [
        "#Plot participação das fêmeas\n",
        "fig, ax = plt.subplots( figsize = (15,6))\n",
        "\n",
        "ax.bar(participacao_femeas[\"Trimestre\"], participacao_femeas[\"Participacao\"], alpha = 0.5)\n",
        "ax.plot(participacao_femeas[\"Trimestre\"], participacao_femeas[\"Participacao\"] +10, color = \"red\", ls = \"--\")\n",
        "ax.plot(participacao_femeas[\"Trimestre\"], participacao_femeas[\"Alto\"] +10, color = \"grey\", ls = \"--\")\n",
        "ax.plot(participacao_femeas[\"Trimestre\"], participacao_femeas[\"Baixa\"] +10, color = \"grey\", ls = \"--\")\n",
        "ax.plot(participacao_femeas[\"Trimestre\"], participacao_femeas[\"Média\"] +10, color = \"grey\", ls = \"--\")\n",
        "ax.set_ylabel(\"% de Participação\")\n",
        "ax.set_title(\"Participação das fêmeas no abate trimestral total\")\n",
        "ax.set_ylim(20, 55)\n",
        "ax.set_xticklabels(participacao_femeas[\"Trimestre\"], rotation = 90)\n",
        "plt.show()"
      ],
      "execution_count": null,
      "outputs": []
    },
    {
      "cell_type": "markdown",
      "metadata": {
        "id": "OR_7wUvFtRYz"
      },
      "source": [
        "No gráfico acima podemos ver exatamente a participação das fêmeas no abate total, na qual mostra a força que estas possuem no preço do boi gordo. Note que a linha vermelha e a linha cinza é o preço máximo, projeções demonstram da osiosidade do abate do animal, no qual demonstra um ciclo que dura aproximadamente de 5 a 6 anos podendo varia ao longo do tempo."
      ]
    },
    {
      "cell_type": "code",
      "metadata": {
        "id": "g7qcTRGqy1Xt"
      },
      "source": [
        "#Plot participação das fêmeas\n",
        "fig, ax1 = plt.subplots( figsize = (12,4))\n",
        "\n",
        "ax1.bar(participacao_femeas[\"Trimestre\"], participacao_femeas[\"Participacao\"], alpha = 0.5)\n",
        "\n",
        "ax2 = ax1.twinx()\n",
        "ax2.plot(participacao_femeas[\"Trimestre\"], participacao_femeas[\"Bezerro\"], color = \"red\", ls = \"--\")\n",
        "\n",
        "ax1.set_ylabel(\"% de Participação\")\n",
        "ax1.set_title(\"Participação das fêmeas no abate trimestral total\")\n",
        "ax1.set_ylim(20, 55)\n",
        "ax1.set_xlim(35, 68)\n",
        "ax1.set_xticklabels(participacao_femeas[\"Trimestre\"], rotation = 90)\n",
        "\n",
        "plt.show()"
      ],
      "execution_count": null,
      "outputs": []
    },
    {
      "cell_type": "markdown",
      "metadata": {
        "id": "zvsuspsw9UIE"
      },
      "source": [
        ""
      ]
    }
  ]
}