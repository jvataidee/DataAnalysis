{
  "nbformat": 4,
  "nbformat_minor": 0,
  "metadata": {
    "colab": {
      "name": "count_women_politics.ipynb",
      "provenance": [],
      "collapsed_sections": [],
      "authorship_tag": "ABX9TyNbjX4kANqiZHHadcMH5cFf",
      "include_colab_link": true
    },
    "kernelspec": {
      "display_name": "Python 3",
      "name": "python3"
    },
    "language_info": {
      "name": "python"
    }
  },
  "cells": [
    {
      "cell_type": "markdown",
      "metadata": {
        "id": "view-in-github",
        "colab_type": "text"
      },
      "source": [
        "<a href=\"https://colab.research.google.com/github/jvataidee/DataAnalysis/blob/master/count_women_politics.ipynb\" target=\"_parent\"><img src=\"https://colab.research.google.com/assets/colab-badge.svg\" alt=\"Open In Colab\"/></a>"
      ]
    },
    {
      "cell_type": "code",
      "metadata": {
        "id": "-Y26mE8Pk768"
      },
      "source": [
        "import pandas as pd\n",
        "import glob\n",
        "from os import listdir\n",
        "import functools\n",
        "import seaborn as sns\n",
        "import matplotlib.pyplot as plt\n"
      ],
      "execution_count": null,
      "outputs": []
    },
    {
      "cell_type": "code",
      "metadata": {
        "colab": {
          "base_uri": "https://localhost:8080/"
        },
        "id": "NrHuFLsZq21n",
        "outputId": "7ea06449-b285-4a87-f994-7031b9f2e3ba"
      },
      "source": [
        "df_1998 = pd.concat(map(functools.partial(pd.read_csv, sep=\";\", header=None, encoding= 'unicode_escape'), glob.glob(\"consulta_cand_1998_*.txt\")))\n",
        "df_2000 = pd.concat(map(functools.partial(pd.read_csv, sep=\";\", header=None, encoding= 'unicode_escape'), glob.glob(\"consulta_cand_2000_*.txt\")))\n",
        "df_2002 = pd.concat(map(functools.partial(pd.read_csv, sep=\";\", header=None, encoding= 'unicode_escape'), glob.glob(\"consulta_cand_2002_*.txt\")))\n",
        "df_2004 = pd.concat(map(functools.partial(pd.read_csv, sep=\";\", header=None, encoding= 'unicode_escape'), glob.glob(\"consulta_cand_2004_*.txt\")))\n",
        "df_2008 = pd.concat(map(functools.partial(pd.read_csv, sep=\";\", header=None, encoding= 'unicode_escape'), glob.glob(\"consulta_cand_2008_*.txt\")))\n",
        "df_2010 = pd.concat(map(functools.partial(pd.read_csv, sep=\";\", header=None, encoding= 'unicode_escape'), glob.glob(\"consulta_cand_2010_*.txt\")))"
      ],
      "execution_count": null,
      "outputs": [
        {
          "output_type": "stream",
          "text": [
            "/usr/local/lib/python3.7/dist-packages/IPython/core/interactiveshell.py:2882: DtypeWarning: Columns (27) have mixed types.Specify dtype option on import or set low_memory=False.\n",
            "  exec(code_obj, self.user_global_ns, self.user_ns)\n",
            "/usr/local/lib/python3.7/dist-packages/IPython/core/interactiveshell.py:2882: DtypeWarning: Columns (13,26,27) have mixed types.Specify dtype option on import or set low_memory=False.\n",
            "  exec(code_obj, self.user_global_ns, self.user_ns)\n",
            "/usr/local/lib/python3.7/dist-packages/IPython/core/interactiveshell.py:2882: DtypeWarning: Columns (26) have mixed types.Specify dtype option on import or set low_memory=False.\n",
            "  exec(code_obj, self.user_global_ns, self.user_ns)\n",
            "/usr/local/lib/python3.7/dist-packages/IPython/core/interactiveshell.py:2882: DtypeWarning: Columns (13,26,27,40) have mixed types.Specify dtype option on import or set low_memory=False.\n",
            "  exec(code_obj, self.user_global_ns, self.user_ns)\n",
            "/usr/local/lib/python3.7/dist-packages/IPython/core/interactiveshell.py:2882: DtypeWarning: Columns (15,17,20,24,29,31,33,35,38,41) have mixed types.Specify dtype option on import or set low_memory=False.\n",
            "  exec(code_obj, self.user_global_ns, self.user_ns)\n",
            "/usr/local/lib/python3.7/dist-packages/IPython/core/interactiveshell.py:2882: DtypeWarning: Columns (13,15,17,20,24,29,31,33,35,38,41) have mixed types.Specify dtype option on import or set low_memory=False.\n",
            "  exec(code_obj, self.user_global_ns, self.user_ns)\n"
          ],
          "name": "stderr"
        }
      ]
    },
    {
      "cell_type": "code",
      "metadata": {
        "id": "sZdwZDc_Hznr"
      },
      "source": [
        "df_98_10 = pd.concat([df_1998, df_2000, df_2002, df_2004, df_2008, df_2010])"
      ],
      "execution_count": null,
      "outputs": []
    },
    {
      "cell_type": "code",
      "metadata": {
        "colab": {
          "base_uri": "https://localhost:8080/",
          "height": 204
        },
        "id": "kPCkQFC5m3Dr",
        "outputId": "ffa81787-62ff-436e-ede2-9383ce656158"
      },
      "source": [
        "df_98_10 = df_98_10.iloc[:, [2,3, 9, 30, 42]]\n",
        "df_98_10.head()"
      ],
      "execution_count": null,
      "outputs": [
        {
          "output_type": "execute_result",
          "data": {
            "text/html": [
              "<div>\n",
              "<style scoped>\n",
              "    .dataframe tbody tr th:only-of-type {\n",
              "        vertical-align: middle;\n",
              "    }\n",
              "\n",
              "    .dataframe tbody tr th {\n",
              "        vertical-align: top;\n",
              "    }\n",
              "\n",
              "    .dataframe thead th {\n",
              "        text-align: right;\n",
              "    }\n",
              "</style>\n",
              "<table border=\"1\" class=\"dataframe\">\n",
              "  <thead>\n",
              "    <tr style=\"text-align: right;\">\n",
              "      <th></th>\n",
              "      <th>2</th>\n",
              "      <th>3</th>\n",
              "      <th>9</th>\n",
              "      <th>30</th>\n",
              "      <th>42</th>\n",
              "    </tr>\n",
              "  </thead>\n",
              "  <tbody>\n",
              "    <tr>\n",
              "      <th>0</th>\n",
              "      <td>1998</td>\n",
              "      <td>1</td>\n",
              "      <td>GOVERNADOR</td>\n",
              "      <td>MASCULINO</td>\n",
              "      <td>NÃO ELEITO</td>\n",
              "    </tr>\n",
              "    <tr>\n",
              "      <th>1</th>\n",
              "      <td>1998</td>\n",
              "      <td>1</td>\n",
              "      <td>GOVERNADOR</td>\n",
              "      <td>MASCULINO</td>\n",
              "      <td>NÃO ELEITO</td>\n",
              "    </tr>\n",
              "    <tr>\n",
              "      <th>2</th>\n",
              "      <td>1998</td>\n",
              "      <td>1</td>\n",
              "      <td>GOVERNADOR</td>\n",
              "      <td>MASCULINO</td>\n",
              "      <td>NÃO ELEITO</td>\n",
              "    </tr>\n",
              "    <tr>\n",
              "      <th>3</th>\n",
              "      <td>1998</td>\n",
              "      <td>1</td>\n",
              "      <td>GOVERNADOR</td>\n",
              "      <td>MASCULINO</td>\n",
              "      <td>REGISTRO NEGADO ANTES DA ELEIÇÃO</td>\n",
              "    </tr>\n",
              "    <tr>\n",
              "      <th>4</th>\n",
              "      <td>1998</td>\n",
              "      <td>1</td>\n",
              "      <td>GOVERNADOR</td>\n",
              "      <td>MASCULINO</td>\n",
              "      <td>ELEITO</td>\n",
              "    </tr>\n",
              "  </tbody>\n",
              "</table>\n",
              "</div>"
            ],
            "text/plain": [
              "     2   3           9          30                                42\n",
              "0  1998   1  GOVERNADOR  MASCULINO                        NÃO ELEITO\n",
              "1  1998   1  GOVERNADOR  MASCULINO                        NÃO ELEITO\n",
              "2  1998   1  GOVERNADOR  MASCULINO                        NÃO ELEITO\n",
              "3  1998   1  GOVERNADOR  MASCULINO  REGISTRO NEGADO ANTES DA ELEIÇÃO\n",
              "4  1998   1  GOVERNADOR  MASCULINO                            ELEITO"
            ]
          },
          "metadata": {
            "tags": []
          },
          "execution_count": 4
        }
      ]
    },
    {
      "cell_type": "code",
      "metadata": {
        "colab": {
          "base_uri": "https://localhost:8080/"
        },
        "id": "3NCxZbRcJCOT",
        "outputId": "77d77635-0066-4e62-85e8-cac0ee7a0801"
      },
      "source": [
        "df_2012 = pd.concat(map(functools.partial(pd.read_csv, sep=\";\", encoding= 'unicode_escape'), glob.glob(\"consulta_cand_2012_*.csv\")))\n",
        "df_2014 = pd.concat(map(functools.partial(pd.read_csv, sep=\";\", encoding= 'unicode_escape'), glob.glob(\"consulta_cand_2014_*.csv\")))\n",
        "df_2016 = pd.concat(map(functools.partial(pd.read_csv, sep=\";\", encoding= 'unicode_escape'), glob.glob(\"consulta_cand_2016_*.csv\")))\n",
        "df_2018 = pd.concat(map(functools.partial(pd.read_csv, sep=\";\", encoding= 'unicode_escape'), glob.glob(\"consulta_cand_2018_*.csv\")))\n",
        "df_2020 = pd.concat(map(functools.partial(pd.read_csv, sep=\";\", encoding= 'unicode_escape'), glob.glob(\"consulta_cand_2020_*.csv\")))"
      ],
      "execution_count": null,
      "outputs": [
        {
          "output_type": "stream",
          "text": [
            "/usr/local/lib/python3.7/dist-packages/IPython/core/interactiveshell.py:2882: DtypeWarning: Columns (57) have mixed types.Specify dtype option on import or set low_memory=False.\n",
            "  exec(code_obj, self.user_global_ns, self.user_ns)\n",
            "/usr/local/lib/python3.7/dist-packages/IPython/core/interactiveshell.py:2882: DtypeWarning: Columns (20) have mixed types.Specify dtype option on import or set low_memory=False.\n",
            "  exec(code_obj, self.user_global_ns, self.user_ns)\n",
            "/usr/local/lib/python3.7/dist-packages/IPython/core/interactiveshell.py:2882: DtypeWarning: Columns (20,57) have mixed types.Specify dtype option on import or set low_memory=False.\n",
            "  exec(code_obj, self.user_global_ns, self.user_ns)\n"
          ],
          "name": "stderr"
        }
      ]
    },
    {
      "cell_type": "code",
      "metadata": {
        "id": "juj0oXR4AjmP"
      },
      "source": [
        "df_1220 = pd.concat([df_2012, df_2014, df_2016, df_2018, df_2020])"
      ],
      "execution_count": null,
      "outputs": []
    },
    {
      "cell_type": "code",
      "metadata": {
        "id": "Woxy78D1IXmF"
      },
      "source": [
        "df_1220 = df_1220.iloc[:, [2, 5, 14, 42, 53]]"
      ],
      "execution_count": null,
      "outputs": []
    },
    {
      "cell_type": "code",
      "metadata": {
        "colab": {
          "base_uri": "https://localhost:8080/",
          "height": 204
        },
        "id": "FyuSHd3Lgr4v",
        "outputId": "db3b973c-92ca-4d61-9560-a3ee6d35cfae"
      },
      "source": [
        "df_1220.head()"
      ],
      "execution_count": null,
      "outputs": [
        {
          "output_type": "execute_result",
          "data": {
            "text/html": [
              "<div>\n",
              "<style scoped>\n",
              "    .dataframe tbody tr th:only-of-type {\n",
              "        vertical-align: middle;\n",
              "    }\n",
              "\n",
              "    .dataframe tbody tr th {\n",
              "        vertical-align: top;\n",
              "    }\n",
              "\n",
              "    .dataframe thead th {\n",
              "        text-align: right;\n",
              "    }\n",
              "</style>\n",
              "<table border=\"1\" class=\"dataframe\">\n",
              "  <thead>\n",
              "    <tr style=\"text-align: right;\">\n",
              "      <th></th>\n",
              "      <th>ANO_ELEICAO</th>\n",
              "      <th>NR_TURNO</th>\n",
              "      <th>DS_CARGO</th>\n",
              "      <th>DS_GENERO</th>\n",
              "      <th>DS_SIT_TOT_TURNO</th>\n",
              "    </tr>\n",
              "  </thead>\n",
              "  <tbody>\n",
              "    <tr>\n",
              "      <th>0</th>\n",
              "      <td>2012</td>\n",
              "      <td>1</td>\n",
              "      <td>VEREADOR</td>\n",
              "      <td>MASCULINO</td>\n",
              "      <td>ELEITO POR QP</td>\n",
              "    </tr>\n",
              "    <tr>\n",
              "      <th>1</th>\n",
              "      <td>2012</td>\n",
              "      <td>1</td>\n",
              "      <td>VEREADOR</td>\n",
              "      <td>MASCULINO</td>\n",
              "      <td>SUPLENTE</td>\n",
              "    </tr>\n",
              "    <tr>\n",
              "      <th>2</th>\n",
              "      <td>2012</td>\n",
              "      <td>1</td>\n",
              "      <td>VEREADOR</td>\n",
              "      <td>MASCULINO</td>\n",
              "      <td>SUPLENTE</td>\n",
              "    </tr>\n",
              "    <tr>\n",
              "      <th>3</th>\n",
              "      <td>2012</td>\n",
              "      <td>1</td>\n",
              "      <td>VEREADOR</td>\n",
              "      <td>MASCULINO</td>\n",
              "      <td>SUPLENTE</td>\n",
              "    </tr>\n",
              "    <tr>\n",
              "      <th>4</th>\n",
              "      <td>2012</td>\n",
              "      <td>1</td>\n",
              "      <td>VEREADOR</td>\n",
              "      <td>MASCULINO</td>\n",
              "      <td>ELEITO POR MÉDIA</td>\n",
              "    </tr>\n",
              "  </tbody>\n",
              "</table>\n",
              "</div>"
            ],
            "text/plain": [
              "   ANO_ELEICAO  NR_TURNO  DS_CARGO  DS_GENERO  DS_SIT_TOT_TURNO\n",
              "0         2012         1  VEREADOR  MASCULINO     ELEITO POR QP\n",
              "1         2012         1  VEREADOR  MASCULINO          SUPLENTE\n",
              "2         2012         1  VEREADOR  MASCULINO          SUPLENTE\n",
              "3         2012         1  VEREADOR  MASCULINO          SUPLENTE\n",
              "4         2012         1  VEREADOR  MASCULINO  ELEITO POR MÉDIA"
            ]
          },
          "metadata": {
            "tags": []
          },
          "execution_count": 8
        }
      ]
    },
    {
      "cell_type": "code",
      "metadata": {
        "colab": {
          "base_uri": "https://localhost:8080/",
          "height": 204
        },
        "id": "Q31j0KtsKQaO",
        "outputId": "2979b617-d904-42ff-ddba-a2864fc40bec"
      },
      "source": [
        "df_1220 = df_1220.rename(columns={'ANO_ELEICAO': 2, 'NR_TURNO': 3,'DS_CARGO': 9,'DS_GENERO': 30,'DS_SIT_TOT_TURNO':42})\n",
        "df_1220.head()"
      ],
      "execution_count": null,
      "outputs": [
        {
          "output_type": "execute_result",
          "data": {
            "text/html": [
              "<div>\n",
              "<style scoped>\n",
              "    .dataframe tbody tr th:only-of-type {\n",
              "        vertical-align: middle;\n",
              "    }\n",
              "\n",
              "    .dataframe tbody tr th {\n",
              "        vertical-align: top;\n",
              "    }\n",
              "\n",
              "    .dataframe thead th {\n",
              "        text-align: right;\n",
              "    }\n",
              "</style>\n",
              "<table border=\"1\" class=\"dataframe\">\n",
              "  <thead>\n",
              "    <tr style=\"text-align: right;\">\n",
              "      <th></th>\n",
              "      <th>2</th>\n",
              "      <th>3</th>\n",
              "      <th>9</th>\n",
              "      <th>30</th>\n",
              "      <th>42</th>\n",
              "    </tr>\n",
              "  </thead>\n",
              "  <tbody>\n",
              "    <tr>\n",
              "      <th>0</th>\n",
              "      <td>2012</td>\n",
              "      <td>1</td>\n",
              "      <td>VEREADOR</td>\n",
              "      <td>MASCULINO</td>\n",
              "      <td>ELEITO POR QP</td>\n",
              "    </tr>\n",
              "    <tr>\n",
              "      <th>1</th>\n",
              "      <td>2012</td>\n",
              "      <td>1</td>\n",
              "      <td>VEREADOR</td>\n",
              "      <td>MASCULINO</td>\n",
              "      <td>SUPLENTE</td>\n",
              "    </tr>\n",
              "    <tr>\n",
              "      <th>2</th>\n",
              "      <td>2012</td>\n",
              "      <td>1</td>\n",
              "      <td>VEREADOR</td>\n",
              "      <td>MASCULINO</td>\n",
              "      <td>SUPLENTE</td>\n",
              "    </tr>\n",
              "    <tr>\n",
              "      <th>3</th>\n",
              "      <td>2012</td>\n",
              "      <td>1</td>\n",
              "      <td>VEREADOR</td>\n",
              "      <td>MASCULINO</td>\n",
              "      <td>SUPLENTE</td>\n",
              "    </tr>\n",
              "    <tr>\n",
              "      <th>4</th>\n",
              "      <td>2012</td>\n",
              "      <td>1</td>\n",
              "      <td>VEREADOR</td>\n",
              "      <td>MASCULINO</td>\n",
              "      <td>ELEITO POR MÉDIA</td>\n",
              "    </tr>\n",
              "  </tbody>\n",
              "</table>\n",
              "</div>"
            ],
            "text/plain": [
              "     2   3         9          30                42\n",
              "0  2012   1  VEREADOR  MASCULINO     ELEITO POR QP\n",
              "1  2012   1  VEREADOR  MASCULINO          SUPLENTE\n",
              "2  2012   1  VEREADOR  MASCULINO          SUPLENTE\n",
              "3  2012   1  VEREADOR  MASCULINO          SUPLENTE\n",
              "4  2012   1  VEREADOR  MASCULINO  ELEITO POR MÉDIA"
            ]
          },
          "metadata": {
            "tags": []
          },
          "execution_count": 9
        }
      ]
    },
    {
      "cell_type": "code",
      "metadata": {
        "colab": {
          "base_uri": "https://localhost:8080/",
          "height": 204
        },
        "id": "zpKoZa9oMAji",
        "outputId": "164ea322-eda0-43f1-ae4e-76b4c01241d1"
      },
      "source": [
        "df_2= pd.concat([df_1220, df_98_10])\n",
        "df_2[20] = 1\n",
        "df_2.head()"
      ],
      "execution_count": null,
      "outputs": [
        {
          "output_type": "execute_result",
          "data": {
            "text/html": [
              "<div>\n",
              "<style scoped>\n",
              "    .dataframe tbody tr th:only-of-type {\n",
              "        vertical-align: middle;\n",
              "    }\n",
              "\n",
              "    .dataframe tbody tr th {\n",
              "        vertical-align: top;\n",
              "    }\n",
              "\n",
              "    .dataframe thead th {\n",
              "        text-align: right;\n",
              "    }\n",
              "</style>\n",
              "<table border=\"1\" class=\"dataframe\">\n",
              "  <thead>\n",
              "    <tr style=\"text-align: right;\">\n",
              "      <th></th>\n",
              "      <th>2</th>\n",
              "      <th>3</th>\n",
              "      <th>9</th>\n",
              "      <th>30</th>\n",
              "      <th>42</th>\n",
              "      <th>20</th>\n",
              "    </tr>\n",
              "  </thead>\n",
              "  <tbody>\n",
              "    <tr>\n",
              "      <th>0</th>\n",
              "      <td>2012</td>\n",
              "      <td>1</td>\n",
              "      <td>VEREADOR</td>\n",
              "      <td>MASCULINO</td>\n",
              "      <td>ELEITO POR QP</td>\n",
              "      <td>1</td>\n",
              "    </tr>\n",
              "    <tr>\n",
              "      <th>1</th>\n",
              "      <td>2012</td>\n",
              "      <td>1</td>\n",
              "      <td>VEREADOR</td>\n",
              "      <td>MASCULINO</td>\n",
              "      <td>SUPLENTE</td>\n",
              "      <td>1</td>\n",
              "    </tr>\n",
              "    <tr>\n",
              "      <th>2</th>\n",
              "      <td>2012</td>\n",
              "      <td>1</td>\n",
              "      <td>VEREADOR</td>\n",
              "      <td>MASCULINO</td>\n",
              "      <td>SUPLENTE</td>\n",
              "      <td>1</td>\n",
              "    </tr>\n",
              "    <tr>\n",
              "      <th>3</th>\n",
              "      <td>2012</td>\n",
              "      <td>1</td>\n",
              "      <td>VEREADOR</td>\n",
              "      <td>MASCULINO</td>\n",
              "      <td>SUPLENTE</td>\n",
              "      <td>1</td>\n",
              "    </tr>\n",
              "    <tr>\n",
              "      <th>4</th>\n",
              "      <td>2012</td>\n",
              "      <td>1</td>\n",
              "      <td>VEREADOR</td>\n",
              "      <td>MASCULINO</td>\n",
              "      <td>ELEITO POR MÉDIA</td>\n",
              "      <td>1</td>\n",
              "    </tr>\n",
              "  </tbody>\n",
              "</table>\n",
              "</div>"
            ],
            "text/plain": [
              "     2   3         9          30                42  20\n",
              "0  2012   1  VEREADOR  MASCULINO     ELEITO POR QP   1\n",
              "1  2012   1  VEREADOR  MASCULINO          SUPLENTE   1\n",
              "2  2012   1  VEREADOR  MASCULINO          SUPLENTE   1\n",
              "3  2012   1  VEREADOR  MASCULINO          SUPLENTE   1\n",
              "4  2012   1  VEREADOR  MASCULINO  ELEITO POR MÉDIA   1"
            ]
          },
          "metadata": {
            "tags": []
          },
          "execution_count": 10
        }
      ]
    },
    {
      "cell_type": "code",
      "metadata": {
        "id": "aMM7xhVAf8lu"
      },
      "source": [
        "df_2.to_csv(\"dados.csv\")"
      ],
      "execution_count": null,
      "outputs": []
    },
    {
      "cell_type": "code",
      "metadata": {
        "colab": {
          "base_uri": "https://localhost:8080/",
          "height": 419
        },
        "id": "96pERuWXtRPu",
        "outputId": "b6dac88c-f9e3-44d1-fa0c-913ad159375a"
      },
      "source": [
        "df_group = df_2.groupby([2,30,9, 42]).count()\n",
        "df_group= df_group.reset_index()\n",
        "df_group"
      ],
      "execution_count": null,
      "outputs": [
        {
          "output_type": "execute_result",
          "data": {
            "text/html": [
              "<div>\n",
              "<style scoped>\n",
              "    .dataframe tbody tr th:only-of-type {\n",
              "        vertical-align: middle;\n",
              "    }\n",
              "\n",
              "    .dataframe tbody tr th {\n",
              "        vertical-align: top;\n",
              "    }\n",
              "\n",
              "    .dataframe thead th {\n",
              "        text-align: right;\n",
              "    }\n",
              "</style>\n",
              "<table border=\"1\" class=\"dataframe\">\n",
              "  <thead>\n",
              "    <tr style=\"text-align: right;\">\n",
              "      <th></th>\n",
              "      <th>2</th>\n",
              "      <th>30</th>\n",
              "      <th>9</th>\n",
              "      <th>42</th>\n",
              "      <th>3</th>\n",
              "      <th>20</th>\n",
              "    </tr>\n",
              "  </thead>\n",
              "  <tbody>\n",
              "    <tr>\n",
              "      <th>0</th>\n",
              "      <td>1998</td>\n",
              "      <td>FEMININO</td>\n",
              "      <td>DEPUTADO DISTRITAL</td>\n",
              "      <td>ELEITO</td>\n",
              "      <td>2</td>\n",
              "      <td>2</td>\n",
              "    </tr>\n",
              "    <tr>\n",
              "      <th>1</th>\n",
              "      <td>1998</td>\n",
              "      <td>FEMININO</td>\n",
              "      <td>DEPUTADO DISTRITAL</td>\n",
              "      <td>MÉDIA</td>\n",
              "      <td>2</td>\n",
              "      <td>2</td>\n",
              "    </tr>\n",
              "    <tr>\n",
              "      <th>2</th>\n",
              "      <td>1998</td>\n",
              "      <td>FEMININO</td>\n",
              "      <td>DEPUTADO DISTRITAL</td>\n",
              "      <td>NÃO ELEITO</td>\n",
              "      <td>13</td>\n",
              "      <td>13</td>\n",
              "    </tr>\n",
              "    <tr>\n",
              "      <th>3</th>\n",
              "      <td>1998</td>\n",
              "      <td>FEMININO</td>\n",
              "      <td>DEPUTADO DISTRITAL</td>\n",
              "      <td>REGISTRO NEGADO ANTES DA ELEIÇÃO</td>\n",
              "      <td>10</td>\n",
              "      <td>10</td>\n",
              "    </tr>\n",
              "    <tr>\n",
              "      <th>4</th>\n",
              "      <td>1998</td>\n",
              "      <td>FEMININO</td>\n",
              "      <td>DEPUTADO DISTRITAL</td>\n",
              "      <td>SUPLENTE</td>\n",
              "      <td>91</td>\n",
              "      <td>91</td>\n",
              "    </tr>\n",
              "    <tr>\n",
              "      <th>...</th>\n",
              "      <td>...</td>\n",
              "      <td>...</td>\n",
              "      <td>...</td>\n",
              "      <td>...</td>\n",
              "      <td>...</td>\n",
              "      <td>...</td>\n",
              "    </tr>\n",
              "    <tr>\n",
              "      <th>652</th>\n",
              "      <td>2020</td>\n",
              "      <td>MASCULINO</td>\n",
              "      <td>VEREADOR</td>\n",
              "      <td>SUPLENTE</td>\n",
              "      <td>382932</td>\n",
              "      <td>382932</td>\n",
              "    </tr>\n",
              "    <tr>\n",
              "      <th>653</th>\n",
              "      <td>2020</td>\n",
              "      <td>MASCULINO</td>\n",
              "      <td>VICE-PREFEITO</td>\n",
              "      <td>#NULO#</td>\n",
              "      <td>1714</td>\n",
              "      <td>1714</td>\n",
              "    </tr>\n",
              "    <tr>\n",
              "      <th>654</th>\n",
              "      <td>2020</td>\n",
              "      <td>MASCULINO</td>\n",
              "      <td>VICE-PREFEITO</td>\n",
              "      <td>2º TURNO</td>\n",
              "      <td>158</td>\n",
              "      <td>158</td>\n",
              "    </tr>\n",
              "    <tr>\n",
              "      <th>655</th>\n",
              "      <td>2020</td>\n",
              "      <td>MASCULINO</td>\n",
              "      <td>VICE-PREFEITO</td>\n",
              "      <td>ELEITO</td>\n",
              "      <td>9146</td>\n",
              "      <td>9146</td>\n",
              "    </tr>\n",
              "    <tr>\n",
              "      <th>656</th>\n",
              "      <td>2020</td>\n",
              "      <td>MASCULINO</td>\n",
              "      <td>VICE-PREFEITO</td>\n",
              "      <td>NÃO ELEITO</td>\n",
              "      <td>20274</td>\n",
              "      <td>20274</td>\n",
              "    </tr>\n",
              "  </tbody>\n",
              "</table>\n",
              "<p>657 rows × 6 columns</p>\n",
              "</div>"
            ],
            "text/plain": [
              "       2          30  ...      3       20\n",
              "0    1998   FEMININO  ...       2       2\n",
              "1    1998   FEMININO  ...       2       2\n",
              "2    1998   FEMININO  ...      13      13\n",
              "3    1998   FEMININO  ...      10      10\n",
              "4    1998   FEMININO  ...      91      91\n",
              "..    ...        ...  ...     ...     ...\n",
              "652  2020  MASCULINO  ...  382932  382932\n",
              "653  2020  MASCULINO  ...    1714    1714\n",
              "654  2020  MASCULINO  ...     158     158\n",
              "655  2020  MASCULINO  ...    9146    9146\n",
              "656  2020  MASCULINO  ...   20274   20274\n",
              "\n",
              "[657 rows x 6 columns]"
            ]
          },
          "metadata": {
            "tags": []
          },
          "execution_count": 19
        }
      ]
    },
    {
      "cell_type": "code",
      "metadata": {
        "id": "sMJCKgwfNQfg",
        "colab": {
          "base_uri": "https://localhost:8080/",
          "height": 204
        },
        "outputId": "b83b1ef7-59f7-48e7-8ee4-48d4ce36cc95"
      },
      "source": [
        "df_group_2 = df_group.rename(columns={2:'Ano', 30:'Gênero',9:'Cargo', 20:'Quantidade', 42:\"Status\"})\n",
        "df_group_2.tail()"
      ],
      "execution_count": null,
      "outputs": [
        {
          "output_type": "execute_result",
          "data": {
            "text/html": [
              "<div>\n",
              "<style scoped>\n",
              "    .dataframe tbody tr th:only-of-type {\n",
              "        vertical-align: middle;\n",
              "    }\n",
              "\n",
              "    .dataframe tbody tr th {\n",
              "        vertical-align: top;\n",
              "    }\n",
              "\n",
              "    .dataframe thead th {\n",
              "        text-align: right;\n",
              "    }\n",
              "</style>\n",
              "<table border=\"1\" class=\"dataframe\">\n",
              "  <thead>\n",
              "    <tr style=\"text-align: right;\">\n",
              "      <th></th>\n",
              "      <th>Ano</th>\n",
              "      <th>Gênero</th>\n",
              "      <th>Cargo</th>\n",
              "      <th>Status</th>\n",
              "      <th>3</th>\n",
              "      <th>Quantidade</th>\n",
              "    </tr>\n",
              "  </thead>\n",
              "  <tbody>\n",
              "    <tr>\n",
              "      <th>652</th>\n",
              "      <td>2020</td>\n",
              "      <td>MASCULINO</td>\n",
              "      <td>VEREADOR</td>\n",
              "      <td>SUPLENTE</td>\n",
              "      <td>382932</td>\n",
              "      <td>382932</td>\n",
              "    </tr>\n",
              "    <tr>\n",
              "      <th>653</th>\n",
              "      <td>2020</td>\n",
              "      <td>MASCULINO</td>\n",
              "      <td>VICE-PREFEITO</td>\n",
              "      <td>#NULO#</td>\n",
              "      <td>1714</td>\n",
              "      <td>1714</td>\n",
              "    </tr>\n",
              "    <tr>\n",
              "      <th>654</th>\n",
              "      <td>2020</td>\n",
              "      <td>MASCULINO</td>\n",
              "      <td>VICE-PREFEITO</td>\n",
              "      <td>2º TURNO</td>\n",
              "      <td>158</td>\n",
              "      <td>158</td>\n",
              "    </tr>\n",
              "    <tr>\n",
              "      <th>655</th>\n",
              "      <td>2020</td>\n",
              "      <td>MASCULINO</td>\n",
              "      <td>VICE-PREFEITO</td>\n",
              "      <td>ELEITO</td>\n",
              "      <td>9146</td>\n",
              "      <td>9146</td>\n",
              "    </tr>\n",
              "    <tr>\n",
              "      <th>656</th>\n",
              "      <td>2020</td>\n",
              "      <td>MASCULINO</td>\n",
              "      <td>VICE-PREFEITO</td>\n",
              "      <td>NÃO ELEITO</td>\n",
              "      <td>20274</td>\n",
              "      <td>20274</td>\n",
              "    </tr>\n",
              "  </tbody>\n",
              "</table>\n",
              "</div>"
            ],
            "text/plain": [
              "      Ano     Gênero          Cargo      Status       3  Quantidade\n",
              "652  2020  MASCULINO       VEREADOR    SUPLENTE  382932      382932\n",
              "653  2020  MASCULINO  VICE-PREFEITO      #NULO#    1714        1714\n",
              "654  2020  MASCULINO  VICE-PREFEITO    2º TURNO     158         158\n",
              "655  2020  MASCULINO  VICE-PREFEITO      ELEITO    9146        9146\n",
              "656  2020  MASCULINO  VICE-PREFEITO  NÃO ELEITO   20274       20274"
            ]
          },
          "metadata": {
            "tags": []
          },
          "execution_count": 21
        }
      ]
    },
    {
      "cell_type": "code",
      "metadata": {
        "id": "PjGOaAi3XrP6"
      },
      "source": [
        "generos = [\"FEMININO\", 'MASCULINO', 'NÃO INFORMADO']"
      ],
      "execution_count": null,
      "outputs": []
    },
    {
      "cell_type": "code",
      "metadata": {
        "colab": {
          "base_uri": "https://localhost:8080/"
        },
        "id": "KDqtN4gRhOIt",
        "outputId": "94088512-8ac7-4afc-e51d-5aa5576254e8"
      },
      "source": [
        "df_group_2['Status'].value_counts()"
      ],
      "execution_count": null,
      "outputs": [
        {
          "output_type": "execute_result",
          "data": {
            "text/plain": [
              "NÃO ELEITO                                        111\n",
              "#NULO#                                             96\n",
              "ELEITO                                             85\n",
              "REGISTRO NEGADO ANTES DA ELEIÇÃO                   52\n",
              "SUPLENTE                                           49\n",
              "RENÚNCIA/FALECIMENTO/CASSAÇÃO ANTES DA ELEIÇÃO     40\n",
              "2º TURNO                                           38\n",
              "ELEITO POR MÉDIA                                   26\n",
              "RENÚNCIA/FALECIMENTO/CASSAÇÃO APÓS A ELEIÇÃO       22\n",
              "INDEFERIDO COM RECURSO                             19\n",
              "#NE#                                               18\n",
              "ELEITO POR QP                                      17\n",
              "MÉDIA                                              17\n",
              "REGISTRO NEGADO APÓS A ELEIÇÃO                     16\n",
              "SUBSTITUÍDO                                        11\n",
              "RENÚNCIA/FALECIMENTO COM SUBSTITUIÇÃO               6\n",
              "RENÚNCIA;FALECIMENTO;CASSAÇÃO ANTES DA ELEIÇÃO      4\n",
              "ELEITO POR QUOCIENTE PARTIDÁRIO                     2\n",
              "RENÚNCIA;FALECIMENTO;CASSAÇÃO APÓS A ELEIÇÃO        2\n",
              "CASSADO COM RECURSO                                 1\n",
              "Name: Status, dtype: int64"
            ]
          },
          "metadata": {
            "tags": []
          },
          "execution_count": 29
        }
      ]
    },
    {
      "cell_type": "code",
      "metadata": {
        "id": "zBnL_t5KhVhc"
      },
      "source": [
        "eleito ={'ELEITO':'ELEITO' ,'ELEITO POR MÉDIA':'ELEITO','ELEITO POR QP':'ELEITO', 'MÉDIA':'ELEITO', 'ELEITO POR QUOCIENTE PARTIDÁRIO':'ELEITO','2º TURNO':'ELEITO'}"
      ],
      "execution_count": null,
      "outputs": []
    },
    {
      "cell_type": "code",
      "metadata": {
        "id": "SJFf3xLmhuIR"
      },
      "source": [
        "df_group_3 = df_group_2.replace(eleito)"
      ],
      "execution_count": null,
      "outputs": []
    },
    {
      "cell_type": "code",
      "metadata": {
        "id": "CaxmpDFpEyrt"
      },
      "source": [
        "df_group_3= df_group_3.set_index(['Gênero'])\n",
        "df_group_3 = df_group_3.loc[generos]\n",
        "df_group_3= df_group_3.reset_index()\n",
        "df_group_3= df_group_3.sort_values(\"Ano\")"
      ],
      "execution_count": null,
      "outputs": []
    },
    {
      "cell_type": "code",
      "metadata": {
        "id": "iEaqzq1KEZ5F"
      },
      "source": [
        "df_eleitos = df_group_3[(df_group_3['Cargo'] == 'SENADOR')]\n",
        "df_eleitos = df_eleitos[(df_eleitos['Status'] == 'ELEITO')]"
      ],
      "execution_count": null,
      "outputs": []
    },
    {
      "cell_type": "code",
      "metadata": {
        "colab": {
          "base_uri": "https://localhost:8080/",
          "height": 204
        },
        "id": "zMc4EXbYit3_",
        "outputId": "8f4236a9-2073-4d43-9e54-e74df36e5b90"
      },
      "source": [
        "df_eleitos.head()"
      ],
      "execution_count": null,
      "outputs": [
        {
          "output_type": "execute_result",
          "data": {
            "text/html": [
              "<div>\n",
              "<style scoped>\n",
              "    .dataframe tbody tr th:only-of-type {\n",
              "        vertical-align: middle;\n",
              "    }\n",
              "\n",
              "    .dataframe tbody tr th {\n",
              "        vertical-align: top;\n",
              "    }\n",
              "\n",
              "    .dataframe thead th {\n",
              "        text-align: right;\n",
              "    }\n",
              "</style>\n",
              "<table border=\"1\" class=\"dataframe\">\n",
              "  <thead>\n",
              "    <tr style=\"text-align: right;\">\n",
              "      <th></th>\n",
              "      <th>Gênero</th>\n",
              "      <th>Ano</th>\n",
              "      <th>Cargo</th>\n",
              "      <th>Status</th>\n",
              "      <th>3</th>\n",
              "      <th>Quantidade</th>\n",
              "    </tr>\n",
              "  </thead>\n",
              "  <tbody>\n",
              "    <tr>\n",
              "      <th>284</th>\n",
              "      <td>MASCULINO</td>\n",
              "      <td>1998</td>\n",
              "      <td>SENADOR</td>\n",
              "      <td>ELEITO</td>\n",
              "      <td>25</td>\n",
              "      <td>25</td>\n",
              "    </tr>\n",
              "    <tr>\n",
              "      <th>24</th>\n",
              "      <td>FEMININO</td>\n",
              "      <td>1998</td>\n",
              "      <td>SENADOR</td>\n",
              "      <td>ELEITO</td>\n",
              "      <td>2</td>\n",
              "      <td>2</td>\n",
              "    </tr>\n",
              "    <tr>\n",
              "      <th>53</th>\n",
              "      <td>FEMININO</td>\n",
              "      <td>2002</td>\n",
              "      <td>SENADOR</td>\n",
              "      <td>ELEITO</td>\n",
              "      <td>8</td>\n",
              "      <td>8</td>\n",
              "    </tr>\n",
              "    <tr>\n",
              "      <th>363</th>\n",
              "      <td>MASCULINO</td>\n",
              "      <td>2002</td>\n",
              "      <td>SENADOR</td>\n",
              "      <td>ELEITO</td>\n",
              "      <td>46</td>\n",
              "      <td>46</td>\n",
              "    </tr>\n",
              "    <tr>\n",
              "      <th>441</th>\n",
              "      <td>MASCULINO</td>\n",
              "      <td>2010</td>\n",
              "      <td>SENADOR</td>\n",
              "      <td>ELEITO</td>\n",
              "      <td>47</td>\n",
              "      <td>47</td>\n",
              "    </tr>\n",
              "  </tbody>\n",
              "</table>\n",
              "</div>"
            ],
            "text/plain": [
              "        Gênero   Ano    Cargo  Status   3  Quantidade\n",
              "284  MASCULINO  1998  SENADOR  ELEITO  25          25\n",
              "24    FEMININO  1998  SENADOR  ELEITO   2           2\n",
              "53    FEMININO  2002  SENADOR  ELEITO   8           8\n",
              "363  MASCULINO  2002  SENADOR  ELEITO  46          46\n",
              "441  MASCULINO  2010  SENADOR  ELEITO  47          47"
            ]
          },
          "metadata": {
            "tags": []
          },
          "execution_count": 128
        }
      ]
    },
    {
      "cell_type": "code",
      "metadata": {
        "id": "Z1WQ0FRY1o04",
        "colab": {
          "base_uri": "https://localhost:8080/",
          "height": 404
        },
        "outputId": "2320fb92-6490-4752-8bef-9170d5a1ee50"
      },
      "source": [
        "sns.catplot(x='Ano', y='Quantidade', hue=\"Gênero\", kind=\"bar\", palette=\"OrRd_r\", ci=None, data=df_eleitos)\n",
        "plt.title(\"Eleições Senador\", size = 20)\n",
        "plt.savefig(\"Eleições senador.jpg\")\n",
        "plt.show()"
      ],
      "execution_count": null,
      "outputs": [
        {
          "output_type": "display_data",
          "data": {
            "image/png": "[encoded data removed]",
            "text/plain": [
              "<Figure size 455.625x360 with 1 Axes>"
            ]
          },
          "metadata": {
            "tags": [],
            "needs_background": "light"
          }
        }
      ]
    },
    {
      "cell_type": "code",
      "metadata": {
        "id": "qK_BYe8bjSrN"
      },
      "source": [
        "mulheres  = df_eleitos[(df_eleitos['Gênero'] == 'FEMININO')]\n",
        "homens  = df_eleitos[(df_eleitos['Gênero'] == 'MASCULINO')]\n",
        "nao_info = df_eleitos[(df_eleitos['Gênero'] == 'NÃO INFORMADO')]\n",
        "total = sum(df_eleitos['Quantidade'])"
      ],
      "execution_count": null,
      "outputs": []
    },
    {
      "cell_type": "code",
      "metadata": {
        "id": "3HJ_9qBtldPV"
      },
      "source": [
        "eleitos_ano = df_eleitos.groupby(['Ano']).sum()"
      ],
      "execution_count": null,
      "outputs": []
    },
    {
      "cell_type": "code",
      "metadata": {
        "colab": {
          "base_uri": "https://localhost:8080/",
          "height": 235
        },
        "id": "p0TxNSGslGt1",
        "outputId": "2dc9b8d4-01a1-48dc-f6da-314322819be2"
      },
      "source": [
        "eleitos_ano.head()"
      ],
      "execution_count": null,
      "outputs": [
        {
          "output_type": "execute_result",
          "data": {
            "text/html": [
              "<div>\n",
              "<style scoped>\n",
              "    .dataframe tbody tr th:only-of-type {\n",
              "        vertical-align: middle;\n",
              "    }\n",
              "\n",
              "    .dataframe tbody tr th {\n",
              "        vertical-align: top;\n",
              "    }\n",
              "\n",
              "    .dataframe thead th {\n",
              "        text-align: right;\n",
              "    }\n",
              "</style>\n",
              "<table border=\"1\" class=\"dataframe\">\n",
              "  <thead>\n",
              "    <tr style=\"text-align: right;\">\n",
              "      <th></th>\n",
              "      <th>3</th>\n",
              "      <th>Quantidade</th>\n",
              "    </tr>\n",
              "    <tr>\n",
              "      <th>Ano</th>\n",
              "      <th></th>\n",
              "      <th></th>\n",
              "    </tr>\n",
              "  </thead>\n",
              "  <tbody>\n",
              "    <tr>\n",
              "      <th>1998</th>\n",
              "      <td>520</td>\n",
              "      <td>520</td>\n",
              "    </tr>\n",
              "    <tr>\n",
              "      <th>2002</th>\n",
              "      <td>514</td>\n",
              "      <td>514</td>\n",
              "    </tr>\n",
              "    <tr>\n",
              "      <th>2010</th>\n",
              "      <td>513</td>\n",
              "      <td>513</td>\n",
              "    </tr>\n",
              "    <tr>\n",
              "      <th>2014</th>\n",
              "      <td>1026</td>\n",
              "      <td>1026</td>\n",
              "    </tr>\n",
              "    <tr>\n",
              "      <th>2018</th>\n",
              "      <td>1026</td>\n",
              "      <td>1026</td>\n",
              "    </tr>\n",
              "  </tbody>\n",
              "</table>\n",
              "</div>"
            ],
            "text/plain": [
              "         3  Quantidade\n",
              "Ano                   \n",
              "1998   520         520\n",
              "2002   514         514\n",
              "2010   513         513\n",
              "2014  1026        1026\n",
              "2018  1026        1026"
            ]
          },
          "metadata": {
            "tags": []
          },
          "execution_count": 118
        }
      ]
    },
    {
      "cell_type": "code",
      "metadata": {
        "colab": {
          "base_uri": "https://localhost:8080/",
          "height": 359
        },
        "id": "4C-7CwENkho3",
        "outputId": "777b573b-555a-427d-916f-53f06331e4c2"
      },
      "source": [
        "mulheres"
      ],
      "execution_count": null,
      "outputs": [
        {
          "output_type": "execute_result",
          "data": {
            "text/html": [
              "<div>\n",
              "<style scoped>\n",
              "    .dataframe tbody tr th:only-of-type {\n",
              "        vertical-align: middle;\n",
              "    }\n",
              "\n",
              "    .dataframe tbody tr th {\n",
              "        vertical-align: top;\n",
              "    }\n",
              "\n",
              "    .dataframe thead th {\n",
              "        text-align: right;\n",
              "    }\n",
              "</style>\n",
              "<table border=\"1\" class=\"dataframe\">\n",
              "  <thead>\n",
              "    <tr style=\"text-align: right;\">\n",
              "      <th></th>\n",
              "      <th>Gênero</th>\n",
              "      <th>Ano</th>\n",
              "      <th>Cargo</th>\n",
              "      <th>Status</th>\n",
              "      <th>3</th>\n",
              "      <th>Quantidade</th>\n",
              "    </tr>\n",
              "  </thead>\n",
              "  <tbody>\n",
              "    <tr>\n",
              "      <th>11</th>\n",
              "      <td>FEMININO</td>\n",
              "      <td>1998</td>\n",
              "      <td>DEPUTADO FEDERAL</td>\n",
              "      <td>ELEITO</td>\n",
              "      <td>26</td>\n",
              "      <td>26</td>\n",
              "    </tr>\n",
              "    <tr>\n",
              "      <th>10</th>\n",
              "      <td>FEMININO</td>\n",
              "      <td>1998</td>\n",
              "      <td>DEPUTADO FEDERAL</td>\n",
              "      <td>ELEITO</td>\n",
              "      <td>3</td>\n",
              "      <td>3</td>\n",
              "    </tr>\n",
              "    <tr>\n",
              "      <th>66</th>\n",
              "      <td>FEMININO</td>\n",
              "      <td>2002</td>\n",
              "      <td>DEPUTADO FEDERAL</td>\n",
              "      <td>ELEITO</td>\n",
              "      <td>36</td>\n",
              "      <td>36</td>\n",
              "    </tr>\n",
              "    <tr>\n",
              "      <th>65</th>\n",
              "      <td>FEMININO</td>\n",
              "      <td>2002</td>\n",
              "      <td>DEPUTADO FEDERAL</td>\n",
              "      <td>ELEITO</td>\n",
              "      <td>6</td>\n",
              "      <td>6</td>\n",
              "    </tr>\n",
              "    <tr>\n",
              "      <th>165</th>\n",
              "      <td>FEMININO</td>\n",
              "      <td>2010</td>\n",
              "      <td>DEPUTADO FEDERAL</td>\n",
              "      <td>ELEITO</td>\n",
              "      <td>5</td>\n",
              "      <td>5</td>\n",
              "    </tr>\n",
              "    <tr>\n",
              "      <th>163</th>\n",
              "      <td>FEMININO</td>\n",
              "      <td>2010</td>\n",
              "      <td>DEPUTADO FEDERAL</td>\n",
              "      <td>ELEITO</td>\n",
              "      <td>40</td>\n",
              "      <td>40</td>\n",
              "    </tr>\n",
              "    <tr>\n",
              "      <th>193</th>\n",
              "      <td>FEMININO</td>\n",
              "      <td>2014</td>\n",
              "      <td>DEPUTADO FEDERAL</td>\n",
              "      <td>ELEITO</td>\n",
              "      <td>20</td>\n",
              "      <td>20</td>\n",
              "    </tr>\n",
              "    <tr>\n",
              "      <th>192</th>\n",
              "      <td>FEMININO</td>\n",
              "      <td>2014</td>\n",
              "      <td>DEPUTADO FEDERAL</td>\n",
              "      <td>ELEITO</td>\n",
              "      <td>82</td>\n",
              "      <td>82</td>\n",
              "    </tr>\n",
              "    <tr>\n",
              "      <th>241</th>\n",
              "      <td>FEMININO</td>\n",
              "      <td>2018</td>\n",
              "      <td>DEPUTADO FEDERAL</td>\n",
              "      <td>ELEITO</td>\n",
              "      <td>44</td>\n",
              "      <td>44</td>\n",
              "    </tr>\n",
              "    <tr>\n",
              "      <th>255</th>\n",
              "      <td>FEMININO</td>\n",
              "      <td>2018</td>\n",
              "      <td>DEPUTADO FEDERAL</td>\n",
              "      <td>ELEITO</td>\n",
              "      <td>110</td>\n",
              "      <td>110</td>\n",
              "    </tr>\n",
              "  </tbody>\n",
              "</table>\n",
              "</div>"
            ],
            "text/plain": [
              "       Gênero   Ano             Cargo  Status    3  Quantidade\n",
              "11   FEMININO  1998  DEPUTADO FEDERAL  ELEITO   26          26\n",
              "10   FEMININO  1998  DEPUTADO FEDERAL  ELEITO    3           3\n",
              "66   FEMININO  2002  DEPUTADO FEDERAL  ELEITO   36          36\n",
              "65   FEMININO  2002  DEPUTADO FEDERAL  ELEITO    6           6\n",
              "165  FEMININO  2010  DEPUTADO FEDERAL  ELEITO    5           5\n",
              "163  FEMININO  2010  DEPUTADO FEDERAL  ELEITO   40          40\n",
              "193  FEMININO  2014  DEPUTADO FEDERAL  ELEITO   20          20\n",
              "192  FEMININO  2014  DEPUTADO FEDERAL  ELEITO   82          82\n",
              "241  FEMININO  2018  DEPUTADO FEDERAL  ELEITO   44          44\n",
              "255  FEMININO  2018  DEPUTADO FEDERAL  ELEITO  110         110"
            ]
          },
          "metadata": {
            "tags": []
          },
          "execution_count": 119
        }
      ]
    },
    {
      "cell_type": "code",
      "metadata": {
        "colab": {
          "base_uri": "https://localhost:8080/",
          "height": 359
        },
        "id": "IcCpv75WmbdL",
        "outputId": "0b43f224-20a9-4ae5-f334-15f7881d76a1"
      },
      "source": [
        "homens"
      ],
      "execution_count": null,
      "outputs": [
        {
          "output_type": "execute_result",
          "data": {
            "text/html": [
              "<div>\n",
              "<style scoped>\n",
              "    .dataframe tbody tr th:only-of-type {\n",
              "        vertical-align: middle;\n",
              "    }\n",
              "\n",
              "    .dataframe tbody tr th {\n",
              "        vertical-align: top;\n",
              "    }\n",
              "\n",
              "    .dataframe thead th {\n",
              "        text-align: right;\n",
              "    }\n",
              "</style>\n",
              "<table border=\"1\" class=\"dataframe\">\n",
              "  <thead>\n",
              "    <tr style=\"text-align: right;\">\n",
              "      <th></th>\n",
              "      <th>Gênero</th>\n",
              "      <th>Ano</th>\n",
              "      <th>Cargo</th>\n",
              "      <th>Status</th>\n",
              "      <th>3</th>\n",
              "      <th>Quantidade</th>\n",
              "    </tr>\n",
              "  </thead>\n",
              "  <tbody>\n",
              "    <tr>\n",
              "      <th>303</th>\n",
              "      <td>MASCULINO</td>\n",
              "      <td>1998</td>\n",
              "      <td>DEPUTADO FEDERAL</td>\n",
              "      <td>ELEITO</td>\n",
              "      <td>428</td>\n",
              "      <td>428</td>\n",
              "    </tr>\n",
              "    <tr>\n",
              "      <th>304</th>\n",
              "      <td>MASCULINO</td>\n",
              "      <td>1998</td>\n",
              "      <td>DEPUTADO FEDERAL</td>\n",
              "      <td>ELEITO</td>\n",
              "      <td>63</td>\n",
              "      <td>63</td>\n",
              "    </tr>\n",
              "    <tr>\n",
              "      <th>342</th>\n",
              "      <td>MASCULINO</td>\n",
              "      <td>2002</td>\n",
              "      <td>DEPUTADO FEDERAL</td>\n",
              "      <td>ELEITO</td>\n",
              "      <td>400</td>\n",
              "      <td>400</td>\n",
              "    </tr>\n",
              "    <tr>\n",
              "      <th>341</th>\n",
              "      <td>MASCULINO</td>\n",
              "      <td>2002</td>\n",
              "      <td>DEPUTADO FEDERAL</td>\n",
              "      <td>ELEITO</td>\n",
              "      <td>72</td>\n",
              "      <td>72</td>\n",
              "    </tr>\n",
              "    <tr>\n",
              "      <th>477</th>\n",
              "      <td>MASCULINO</td>\n",
              "      <td>2010</td>\n",
              "      <td>DEPUTADO FEDERAL</td>\n",
              "      <td>ELEITO</td>\n",
              "      <td>406</td>\n",
              "      <td>406</td>\n",
              "    </tr>\n",
              "    <tr>\n",
              "      <th>436</th>\n",
              "      <td>MASCULINO</td>\n",
              "      <td>2010</td>\n",
              "      <td>DEPUTADO FEDERAL</td>\n",
              "      <td>ELEITO</td>\n",
              "      <td>62</td>\n",
              "      <td>62</td>\n",
              "    </tr>\n",
              "    <tr>\n",
              "      <th>517</th>\n",
              "      <td>MASCULINO</td>\n",
              "      <td>2014</td>\n",
              "      <td>DEPUTADO FEDERAL</td>\n",
              "      <td>ELEITO</td>\n",
              "      <td>126</td>\n",
              "      <td>126</td>\n",
              "    </tr>\n",
              "    <tr>\n",
              "      <th>516</th>\n",
              "      <td>MASCULINO</td>\n",
              "      <td>2014</td>\n",
              "      <td>DEPUTADO FEDERAL</td>\n",
              "      <td>ELEITO</td>\n",
              "      <td>798</td>\n",
              "      <td>798</td>\n",
              "    </tr>\n",
              "    <tr>\n",
              "      <th>578</th>\n",
              "      <td>MASCULINO</td>\n",
              "      <td>2018</td>\n",
              "      <td>DEPUTADO FEDERAL</td>\n",
              "      <td>ELEITO</td>\n",
              "      <td>664</td>\n",
              "      <td>664</td>\n",
              "    </tr>\n",
              "    <tr>\n",
              "      <th>567</th>\n",
              "      <td>MASCULINO</td>\n",
              "      <td>2018</td>\n",
              "      <td>DEPUTADO FEDERAL</td>\n",
              "      <td>ELEITO</td>\n",
              "      <td>208</td>\n",
              "      <td>208</td>\n",
              "    </tr>\n",
              "  </tbody>\n",
              "</table>\n",
              "</div>"
            ],
            "text/plain": [
              "        Gênero   Ano             Cargo  Status    3  Quantidade\n",
              "303  MASCULINO  1998  DEPUTADO FEDERAL  ELEITO  428         428\n",
              "304  MASCULINO  1998  DEPUTADO FEDERAL  ELEITO   63          63\n",
              "342  MASCULINO  2002  DEPUTADO FEDERAL  ELEITO  400         400\n",
              "341  MASCULINO  2002  DEPUTADO FEDERAL  ELEITO   72          72\n",
              "477  MASCULINO  2010  DEPUTADO FEDERAL  ELEITO  406         406\n",
              "436  MASCULINO  2010  DEPUTADO FEDERAL  ELEITO   62          62\n",
              "517  MASCULINO  2014  DEPUTADO FEDERAL  ELEITO  126         126\n",
              "516  MASCULINO  2014  DEPUTADO FEDERAL  ELEITO  798         798\n",
              "578  MASCULINO  2018  DEPUTADO FEDERAL  ELEITO  664         664\n",
              "567  MASCULINO  2018  DEPUTADO FEDERAL  ELEITO  208         208"
            ]
          },
          "metadata": {
            "tags": []
          },
          "execution_count": 121
        }
      ]
    },
    {
      "cell_type": "code",
      "metadata": {
        "colab": {
          "base_uri": "https://localhost:8080/",
          "height": 49
        },
        "id": "A-yDq1gLmuiu",
        "outputId": "d0bfc87e-d514-4471-8931-ca78002cff8d"
      },
      "source": [
        "nao_info"
      ],
      "execution_count": null,
      "outputs": [
        {
          "output_type": "execute_result",
          "data": {
            "text/html": [
              "<div>\n",
              "<style scoped>\n",
              "    .dataframe tbody tr th:only-of-type {\n",
              "        vertical-align: middle;\n",
              "    }\n",
              "\n",
              "    .dataframe tbody tr th {\n",
              "        vertical-align: top;\n",
              "    }\n",
              "\n",
              "    .dataframe thead th {\n",
              "        text-align: right;\n",
              "    }\n",
              "</style>\n",
              "<table border=\"1\" class=\"dataframe\">\n",
              "  <thead>\n",
              "    <tr style=\"text-align: right;\">\n",
              "      <th></th>\n",
              "      <th>Gênero</th>\n",
              "      <th>Ano</th>\n",
              "      <th>Cargo</th>\n",
              "      <th>Status</th>\n",
              "      <th>3</th>\n",
              "      <th>Quantidade</th>\n",
              "    </tr>\n",
              "  </thead>\n",
              "  <tbody>\n",
              "  </tbody>\n",
              "</table>\n",
              "</div>"
            ],
            "text/plain": [
              "Empty DataFrame\n",
              "Columns: [Gênero, Ano, Cargo, Status, 3, Quantidade]\n",
              "Index: []"
            ]
          },
          "metadata": {
            "tags": []
          },
          "execution_count": 122
        }
      ]
    }
  ]
}