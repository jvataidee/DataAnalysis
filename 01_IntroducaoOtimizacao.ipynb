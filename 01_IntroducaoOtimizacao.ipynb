{
  "nbformat": 4,
  "nbformat_minor": 0,
  "metadata": {
    "colab": {
      "name": "01-IntroducaoOtimizacao.ipynb",
      "provenance": [],
      "authorship_tag": "ABX9TyNBD6UxuvzPrah0/FXlXWyL",
      "include_colab_link": true
    },
    "kernelspec": {
      "name": "python3",
      "display_name": "Python 3"
    },
    "language_info": {
      "name": "python"
    }
  },
  "cells": [
    {
      "cell_type": "markdown",
      "metadata": {
        "id": "view-in-github",
        "colab_type": "text"
      },
      "source": [
        "<a href=\"https://colab.research.google.com/github/jvataidee/DataAnalysis/blob/master/01_IntroducaoOtimizacao.ipynb\" target=\"_parent\"><img src=\"https://colab.research.google.com/assets/colab-badge.svg\" alt=\"Open In Colab\"/></a>"
      ]
    },
    {
      "cell_type": "code",
      "metadata": {
        "colab": {
          "base_uri": "https://localhost:8080/"
        },
        "id": "tbqYkGLsAAC0",
        "outputId": "e3fb83ef-6823-421f-9fba-a32e9629dffc"
      },
      "source": [
        "!pip install pyomo -q"
      ],
      "execution_count": null,
      "outputs": [
        {
          "output_type": "stream",
          "text": [
            "\u001b[K     |████████████████████████████████| 9.5MB 6.6MB/s \n",
            "\u001b[K     |████████████████████████████████| 51kB 7.7MB/s \n",
            "\u001b[K     |████████████████████████████████| 256kB 47.0MB/s \n",
            "\u001b[K     |████████████████████████████████| 163kB 47.4MB/s \n",
            "\u001b[?25h"
          ],
          "name": "stdout"
        }
      ]
    },
    {
      "cell_type": "code",
      "metadata": {
        "id": "OtEFseG2Anum"
      },
      "source": [
        "#Bibliotecas\n",
        "%matplotlib inline\n",
        "import matplotlib.pyplot as plt\n",
        "import matplotlib as mpl\n",
        "import pandas as pd\n",
        "import shutil\n",
        "import sys\n",
        "import os.path\n",
        "\n",
        "\n",
        "#Biblioteca de otimização\n",
        "from pyomo.environ import *\n",
        "from pyomo.gdp import *\n",
        "import pandas as pd"
      ],
      "execution_count": 5,
      "outputs": []
    },
    {
      "cell_type": "code",
      "metadata": {
        "id": "_2n1O8g2DuBF"
      },
      "source": [
        ""
      ],
      "execution_count": null,
      "outputs": []
    },
    {
      "cell_type": "code",
      "metadata": {
        "id": "EkMD-rEmBzbg"
      },
      "source": [
        "#Base de atividades\n",
        "tasks = {\n",
        "    ('Paper_1','Blue')   : {'dur': 45, 'prec': None},\n",
        "    ('Paper_1','Yellow') : {'dur': 10, 'prec': ('Paper_1','Blue')},\n",
        "    ('Paper_2','Blue')   : {'dur': 20, 'prec': ('Paper_2','Green')},\n",
        "    ('Paper_2','Green')  : {'dur': 10, 'prec': None},\n",
        "    ('Paper_2','Yellow') : {'dur': 34, 'prec': ('Paper_2','Blue')},\n",
        "    ('Paper_3','Blue')   : {'dur': 12, 'prec': ('Paper_3','Yellow')},\n",
        "    ('Paper_3','Green')  : {'dur': 17, 'prec': ('Paper_3','Blue')},\n",
        "    ('Paper_3','Yellow') : {'dur': 28, 'prec': None},   \n",
        "}"
      ],
      "execution_count": 13,
      "outputs": []
    },
    {
      "cell_type": "code",
      "metadata": {
        "id": "36c4qR7PAWJ_",
        "colab": {
          "base_uri": "https://localhost:8080/"
        },
        "outputId": "e487c178-3a46-443a-8dc0-10f9d78ce607"
      },
      "source": [
        "# Crinado Função\n",
        "model = ConcreteModel()\n",
        "\n",
        "#01 - Variáveis de Decisão\n",
        "model.tasks = Set(initialize = tasks.keys(), dimen=2)\n",
        "model.jobs = Set(initialize = list(set([j for (j,m) in model.tasks])))\n",
        "model.machines = Set(initialize = list(set([m for (j, m) in  model.tasks])))\n",
        "\n",
        "\n",
        "#02 - Função Objetivo \n",
        "\n",
        "#03 - Restrições\n",
        "\n",
        "\n",
        "\n",
        "model.pprint()"
      ],
      "execution_count": 17,
      "outputs": [
        {
          "output_type": "stream",
          "text": [
            "3 Set Declarations\n",
            "    jobs : Size=1, Index=None, Ordered=Insertion\n",
            "        Key  : Dimen : Domain : Size : Members\n",
            "        None :     1 :    Any :    3 : {'Paper_1', 'Paper_2', 'Paper_3'}\n",
            "    machines : Size=1, Index=None, Ordered=Insertion\n",
            "        Key  : Dimen : Domain : Size : Members\n",
            "        None :     1 :    Any :    3 : {'Blue', 'Green', 'Yellow'}\n",
            "    tasks : Size=1, Index=None, Ordered=Insertion\n",
            "        Key  : Dimen : Domain : Size : Members\n",
            "        None :     2 :    Any :    8 : {('Paper_1', 'Blue'), ('Paper_1', 'Yellow'), ('Paper_2', 'Blue'), ('Paper_2', 'Green'), ('Paper_2', 'Yellow'), ('Paper_3', 'Blue'), ('Paper_3', 'Green'), ('Paper_3', 'Yellow')}\n",
            "\n",
            "3 Declarations: tasks jobs machines\n"
          ],
          "name": "stdout"
        }
      ]
    }
  ]
}