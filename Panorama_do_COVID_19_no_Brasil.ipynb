{
  "nbformat": 4,
  "nbformat_minor": 0,
  "metadata": {
    "colab": {
      "name": "Panorama do COVID-19 no Brasil.ipynb",
      "provenance": [],
      "collapsed_sections": [],
      "include_colab_link": true
    },
    "kernelspec": {
      "name": "python3",
      "display_name": "Python 3"
    }
  },
  "cells": [
    {
      "cell_type": "markdown",
      "metadata": {
        "id": "view-in-github",
        "colab_type": "text"
      },
      "source": [
        "<a href=\"https://colab.research.google.com/github/jvataidee/DataScience/blob/master/Panorama_do_COVID_19_no_Brasil.ipynb\" target=\"_parent\"><img src=\"https://colab.research.google.com/assets/colab-badge.svg\" alt=\"Open In Colab\"/></a>"
      ]
    },
    {
      "cell_type": "markdown",
      "metadata": {
        "id": "-eFQZydM9O9J",
        "colab_type": "text"
      },
      "source": [
        "\n",
        "<p align=\"center\"><img src=\"https://static.wixstatic.com/media/bdd7cb_7cbf8aa255ec468a97ab036d55c121c3~mv2.png/v1/fill/w_408,h_86,al_c,q_85,usm_0.66_1.00_0.01/Ativo%2013%404x.webp\" height=\"75px\"></p>\n",
        "\n",
        "**by: [João Ataíde](https://www.joaoataide.com)**\n",
        "\n",
        "\n",
        "# Panorama do COVID-19 no Brasil\n",
        "---\n",
        "<p align=\"center\"><img src=\"https://static.wixstatic.com/media/bdd7cb_029898fa03c7471a82d41af4f6278a6b~mv2.jpg\" height=\"450px\"></p>\n",
        "\n",
        "No final de 2019 uma doença surgiu, deonça esta que pouco se conhecia, tal doença viral causadora da Síndrome Respiratória Aguda Grave (SARS), apresenta um ataque direto ao sistema respiratório, o que causa um contágio muito rápido, chegando a afetar milhares de pessoas.\n",
        "\n",
        "A transmissão desta doença, acontece por meio de do ar, principalmente por gotículas provenientes de tosses ou espirros de pessoas já infectadas, no entanto seus sintomas variam de pessoa para pessoa, havendo casos asintomáticos, sintomaticos leves e gráves, os quais chegam a necessitar de entubamento e observações em Unidades Intensivas de Saúde (UTI's).\n",
        "\n",
        "Este virus em questão é da familia dos coronas virus, primos distantes dos virus influenza, o qual todos já conhecemos, como a gripe comum e o resfriado. No entanto, as mutações causada neste virus,geraram uma pandemia.\n",
        "\n",
        "Já é um fato que muitos estudos estão sendo feitos em todos mundo, como já analisei no meu [bolg](https://www.joaoataide.com/post/desafio-kaggle-covid-19). Porém, ainda não se sabe muito sobre o COVID-19. Estudos estão sendo realizados no mundo todo, no entanto, os resultados ainda não são conclusivos e definitivos.\n",
        "\n",
        "Devido a isto, me concentro em meio a quarentena, para realizar estudos de Data Science, Estatistica, no qual estou em uma séria de projetos relacionados a tal problema sanitpario. Isto posto, como prática do curso Data Science na Prática, irei analisar a situação atual sobre o COVID-19 no Brasil, recolhendo dados públicos sobre a doença, chegando a diversos insights."
      ]
    },
    {
      "cell_type": "markdown",
      "metadata": {
        "id": "kLI0gJtzDGuQ",
        "colab_type": "text"
      },
      "source": [
        "#Obtenção dos dados\n",
        "\n",
        "Os dados em questão foram extraidos [Our Wolrd in Data](https://ourworldindata.org/coronavirus) no dia 17 de junho de 2020, tal banco de dados, apresenta diversos dados de 207 paises e cerca de 34 variáveis. Com seu primeiro dado upado em março de 2020, seu [repositório ](https://github.com/owid/covid-19-data/blob/master/public/data/README.md) apresenta diversas variáveis, como podemos ver no seu dicionário abaixo."
      ]
    },
    {
      "cell_type": "markdown",
      "metadata": {
        "id": "CnDvj8aWDwf7",
        "colab_type": "text"
      },
      "source": [
        "**Dicionário de variáveis:**\n",
        "*  `iso_code` - iso_code ISO 3166-1 alpha-3 - códigos de países com três letras\n",
        "*  `continent` - continente Continente da localização geográfica\n",
        "*  `location` - localização localização geográfica\n",
        "*  `date` - data Data da observação\n",
        "*  `total_cases` - total_cases Total de casos confirmados de COVID-19\n",
        "*  `new_cases` - new_cases Novos casos confirmados de COVID-19\n",
        "*  `total_deaths` - total_deaths Total de mortes atribuídas ao COVID-19\n",
        "*  `new_deaths` - new_deaths Novas mortes atribuídas ao COVID-19\n",
        "*  `total_cases_per_million` - total_cases_per_million Total de casos confirmados de COVID-19 por 1.000.000 de pessoas\n",
        "*  `new_cases_per_million` - new_cases_per_million Novos casos confirmados de COVID-19 por 1.000.000 de pessoas\n",
        "*  `total_deaths_per_million` - total_deaths_per_million Total de mortes atribuídas ao COVID-19 por 1.000.000 de pessoas\n",
        "*  `new_deaths_per_million` - new_deaths_per_million Novas mortes atribuídas ao COVID-19 por 1.000.000 de pessoas\n",
        "*  `total_tests` - total_tests Total de testes para COVID-19\n",
        "*  `new_tests` - new_tests Novos testes para COVID-19\n",
        "*  `new_tests_smoothed` - new_tests_smoothed Novos testes para COVID-19 (suavizado por 7 dias). Para países que não relatam dados de teste diariamente, assumimos que o teste mudou igualmente diariamente em qualquer período em que nenhum dado foi relatado. Isso produz uma série completa de números diários, que são calculados em média em uma janela de 7 dias consecutivos\n",
        "*  `total_tests_per_thousand` - total_tests_per_thousand Total de testes para COVID-19 por 1.000 pessoas\n",
        "*  `new_tests_per_thousand` - new_tests_per_thousand Novos testes para COVID-19 por 1.000 pessoas\n",
        "*  `new_tests_smoothed_per_thousand` - new_tests_smoothed_per_thousand Novos testes para COVID-19 (suavizado por 7 dias) por 1.000 pessoas\n",
        "*  `tests_units` - tests_units Unidades usadas pelo local para relatar seus dados de teste\n",
        "*  `stringency_index` - stringency_index Índice de rigor da resposta do governo: medida composta com base em 9 indicadores de resposta, incluindo fechamento de escolas, fechamento de locais de trabalho e proibições de viagens, redimensionada para um valor de 0 a 100 (100 = resposta mais estrita)\n",
        "*  `population` - população População em 2020\n",
        "*  `population_density` - população_densidade Número de pessoas divididas por área terrestre, medida em quilômetros quadrados, no ano mais recente disponível\n",
        "*  `median_age` - median_age Idade média da população, projeção da ONU para 2020\n",
        "*  `aged_65_older` - aged_65_older Percentagem da população com 65 anos ou mais, ano mais recente disponível\n",
        "*  `aged_70_older` - aged_70_older Percentagem da população que tem 70 anos ou mais em 2015\n",
        "*  `gdp_per_capita` - gdp_per_capita Produto interno bruto com paridade do poder de compra (dólares internacionais constantes de 2011), último ano disponível\n",
        "*  `extreme_poverty` - extreme_poverty Percentagem da população que vive em extrema pobreza, último ano disponível desde 2010\n",
        "*  `cvd_death_rate` - cvd_death_rate Taxa de mortalidade por doenças cardiovasculares em 2017\n",
        "*  `diabetes_prevalence` - prevalência de diabetes Prevalência de diabetes (% da população de 20 a 79 anos) em 2017\n",
        "*  `female_smokers` - female_smokers Percentagem de mulheres que fumam, no ano mais recente disponível\n",
        "*  `male_smokers` - male_smokers Percentagem de homens que fuma, último ano disponível\n",
        "*  `handwashing_facilities` - parcela da população com instalações básicas de lavagem das mãos nas instalações, último ano disponível\n",
        "*  `hospital_beds_per_thousand` - hospital_beds_per_thousand Camas hospitalares por 1.000 pessoas, ano mais recente disponível desde 2010\n",
        "*  `life_expectancy` - life_expectancy Expectativa de vida no nascimento em 2019\n"
      ]
    },
    {
      "cell_type": "markdown",
      "metadata": {
        "id": "A0KGU-hpO5gy",
        "colab_type": "text"
      },
      "source": [
        "## Importanção dos dados e biblioteca necessária"
      ]
    },
    {
      "cell_type": "code",
      "metadata": {
        "id": "lOtEJxe0DMEb",
        "colab_type": "code",
        "colab": {}
      },
      "source": [
        "# importar as bibliotecas necessárias\n",
        "import pandas as pd\n",
        "import matplotlib.pyplot as plt\n",
        "import seaborn as sns\n",
        "\n",
        "\n",
        "# configurar a visualização\n",
        "sns.set()\n",
        "%matplotlib inline\n",
        "%config InlineBackend.figure_format = 'svg'"
      ],
      "execution_count": null,
      "outputs": []
    },
    {
      "cell_type": "code",
      "metadata": {
        "id": "19yWhrpLPDpD",
        "colab_type": "code",
        "colab": {}
      },
      "source": [
        "# importar o dataset COVID-19 para um DataaFrame\n",
        "df = \"https://covid.ourworldindata.org/data/owid-covid-data.csv\"\n",
        "covid = pd.read_csv(df)"
      ],
      "execution_count": null,
      "outputs": []
    },
    {
      "cell_type": "markdown",
      "metadata": {
        "id": "8KYuD7eIPUE0",
        "colab_type": "text"
      },
      "source": [
        "Desta forma, podemos então entender a fundo o nosso *dataset*, vendo então os cinco primeiros dados e o seu tamanho."
      ]
    },
    {
      "cell_type": "code",
      "metadata": {
        "id": "ylmAkV_XPXsX",
        "colab_type": "code",
        "colab": {
          "base_uri": "https://localhost:8080/",
          "height": 298
        },
        "outputId": "e010a1c7-f7be-41f2-d3c0-b5fe0a1788ff"
      },
      "source": [
        "covid.head()"
      ],
      "execution_count": null,
      "outputs": [
        {
          "output_type": "execute_result",
          "data": {
            "text/html": [
              "<div>\n",
              "<style scoped>\n",
              "    .dataframe tbody tr th:only-of-type {\n",
              "        vertical-align: middle;\n",
              "    }\n",
              "\n",
              "    .dataframe tbody tr th {\n",
              "        vertical-align: top;\n",
              "    }\n",
              "\n",
              "    .dataframe thead th {\n",
              "        text-align: right;\n",
              "    }\n",
              "</style>\n",
              "<table border=\"1\" class=\"dataframe\">\n",
              "  <thead>\n",
              "    <tr style=\"text-align: right;\">\n",
              "      <th></th>\n",
              "      <th>iso_code</th>\n",
              "      <th>continent</th>\n",
              "      <th>location</th>\n",
              "      <th>date</th>\n",
              "      <th>total_cases</th>\n",
              "      <th>new_cases</th>\n",
              "      <th>total_deaths</th>\n",
              "      <th>new_deaths</th>\n",
              "      <th>total_cases_per_million</th>\n",
              "      <th>new_cases_per_million</th>\n",
              "      <th>total_deaths_per_million</th>\n",
              "      <th>new_deaths_per_million</th>\n",
              "      <th>total_tests</th>\n",
              "      <th>new_tests</th>\n",
              "      <th>total_tests_per_thousand</th>\n",
              "      <th>new_tests_per_thousand</th>\n",
              "      <th>new_tests_smoothed</th>\n",
              "      <th>new_tests_smoothed_per_thousand</th>\n",
              "      <th>tests_units</th>\n",
              "      <th>stringency_index</th>\n",
              "      <th>population</th>\n",
              "      <th>population_density</th>\n",
              "      <th>median_age</th>\n",
              "      <th>aged_65_older</th>\n",
              "      <th>aged_70_older</th>\n",
              "      <th>gdp_per_capita</th>\n",
              "      <th>extreme_poverty</th>\n",
              "      <th>cvd_death_rate</th>\n",
              "      <th>diabetes_prevalence</th>\n",
              "      <th>female_smokers</th>\n",
              "      <th>male_smokers</th>\n",
              "      <th>handwashing_facilities</th>\n",
              "      <th>hospital_beds_per_thousand</th>\n",
              "      <th>life_expectancy</th>\n",
              "    </tr>\n",
              "  </thead>\n",
              "  <tbody>\n",
              "    <tr>\n",
              "      <th>0</th>\n",
              "      <td>AFG</td>\n",
              "      <td>Asia</td>\n",
              "      <td>Afghanistan</td>\n",
              "      <td>2019-12-31</td>\n",
              "      <td>0.0</td>\n",
              "      <td>0.0</td>\n",
              "      <td>0.0</td>\n",
              "      <td>0.0</td>\n",
              "      <td>0.0</td>\n",
              "      <td>0.0</td>\n",
              "      <td>0.0</td>\n",
              "      <td>0.0</td>\n",
              "      <td>NaN</td>\n",
              "      <td>NaN</td>\n",
              "      <td>NaN</td>\n",
              "      <td>NaN</td>\n",
              "      <td>NaN</td>\n",
              "      <td>NaN</td>\n",
              "      <td>NaN</td>\n",
              "      <td>NaN</td>\n",
              "      <td>38928341.0</td>\n",
              "      <td>54.422</td>\n",
              "      <td>18.6</td>\n",
              "      <td>2.581</td>\n",
              "      <td>1.337</td>\n",
              "      <td>1803.987</td>\n",
              "      <td>NaN</td>\n",
              "      <td>597.029</td>\n",
              "      <td>9.59</td>\n",
              "      <td>NaN</td>\n",
              "      <td>NaN</td>\n",
              "      <td>37.746</td>\n",
              "      <td>0.5</td>\n",
              "      <td>64.83</td>\n",
              "    </tr>\n",
              "    <tr>\n",
              "      <th>1</th>\n",
              "      <td>AFG</td>\n",
              "      <td>Asia</td>\n",
              "      <td>Afghanistan</td>\n",
              "      <td>2020-01-01</td>\n",
              "      <td>0.0</td>\n",
              "      <td>0.0</td>\n",
              "      <td>0.0</td>\n",
              "      <td>0.0</td>\n",
              "      <td>0.0</td>\n",
              "      <td>0.0</td>\n",
              "      <td>0.0</td>\n",
              "      <td>0.0</td>\n",
              "      <td>NaN</td>\n",
              "      <td>NaN</td>\n",
              "      <td>NaN</td>\n",
              "      <td>NaN</td>\n",
              "      <td>NaN</td>\n",
              "      <td>NaN</td>\n",
              "      <td>NaN</td>\n",
              "      <td>0.0</td>\n",
              "      <td>38928341.0</td>\n",
              "      <td>54.422</td>\n",
              "      <td>18.6</td>\n",
              "      <td>2.581</td>\n",
              "      <td>1.337</td>\n",
              "      <td>1803.987</td>\n",
              "      <td>NaN</td>\n",
              "      <td>597.029</td>\n",
              "      <td>9.59</td>\n",
              "      <td>NaN</td>\n",
              "      <td>NaN</td>\n",
              "      <td>37.746</td>\n",
              "      <td>0.5</td>\n",
              "      <td>64.83</td>\n",
              "    </tr>\n",
              "    <tr>\n",
              "      <th>2</th>\n",
              "      <td>AFG</td>\n",
              "      <td>Asia</td>\n",
              "      <td>Afghanistan</td>\n",
              "      <td>2020-01-02</td>\n",
              "      <td>0.0</td>\n",
              "      <td>0.0</td>\n",
              "      <td>0.0</td>\n",
              "      <td>0.0</td>\n",
              "      <td>0.0</td>\n",
              "      <td>0.0</td>\n",
              "      <td>0.0</td>\n",
              "      <td>0.0</td>\n",
              "      <td>NaN</td>\n",
              "      <td>NaN</td>\n",
              "      <td>NaN</td>\n",
              "      <td>NaN</td>\n",
              "      <td>NaN</td>\n",
              "      <td>NaN</td>\n",
              "      <td>NaN</td>\n",
              "      <td>0.0</td>\n",
              "      <td>38928341.0</td>\n",
              "      <td>54.422</td>\n",
              "      <td>18.6</td>\n",
              "      <td>2.581</td>\n",
              "      <td>1.337</td>\n",
              "      <td>1803.987</td>\n",
              "      <td>NaN</td>\n",
              "      <td>597.029</td>\n",
              "      <td>9.59</td>\n",
              "      <td>NaN</td>\n",
              "      <td>NaN</td>\n",
              "      <td>37.746</td>\n",
              "      <td>0.5</td>\n",
              "      <td>64.83</td>\n",
              "    </tr>\n",
              "    <tr>\n",
              "      <th>3</th>\n",
              "      <td>AFG</td>\n",
              "      <td>Asia</td>\n",
              "      <td>Afghanistan</td>\n",
              "      <td>2020-01-03</td>\n",
              "      <td>0.0</td>\n",
              "      <td>0.0</td>\n",
              "      <td>0.0</td>\n",
              "      <td>0.0</td>\n",
              "      <td>0.0</td>\n",
              "      <td>0.0</td>\n",
              "      <td>0.0</td>\n",
              "      <td>0.0</td>\n",
              "      <td>NaN</td>\n",
              "      <td>NaN</td>\n",
              "      <td>NaN</td>\n",
              "      <td>NaN</td>\n",
              "      <td>NaN</td>\n",
              "      <td>NaN</td>\n",
              "      <td>NaN</td>\n",
              "      <td>0.0</td>\n",
              "      <td>38928341.0</td>\n",
              "      <td>54.422</td>\n",
              "      <td>18.6</td>\n",
              "      <td>2.581</td>\n",
              "      <td>1.337</td>\n",
              "      <td>1803.987</td>\n",
              "      <td>NaN</td>\n",
              "      <td>597.029</td>\n",
              "      <td>9.59</td>\n",
              "      <td>NaN</td>\n",
              "      <td>NaN</td>\n",
              "      <td>37.746</td>\n",
              "      <td>0.5</td>\n",
              "      <td>64.83</td>\n",
              "    </tr>\n",
              "    <tr>\n",
              "      <th>4</th>\n",
              "      <td>AFG</td>\n",
              "      <td>Asia</td>\n",
              "      <td>Afghanistan</td>\n",
              "      <td>2020-01-04</td>\n",
              "      <td>0.0</td>\n",
              "      <td>0.0</td>\n",
              "      <td>0.0</td>\n",
              "      <td>0.0</td>\n",
              "      <td>0.0</td>\n",
              "      <td>0.0</td>\n",
              "      <td>0.0</td>\n",
              "      <td>0.0</td>\n",
              "      <td>NaN</td>\n",
              "      <td>NaN</td>\n",
              "      <td>NaN</td>\n",
              "      <td>NaN</td>\n",
              "      <td>NaN</td>\n",
              "      <td>NaN</td>\n",
              "      <td>NaN</td>\n",
              "      <td>0.0</td>\n",
              "      <td>38928341.0</td>\n",
              "      <td>54.422</td>\n",
              "      <td>18.6</td>\n",
              "      <td>2.581</td>\n",
              "      <td>1.337</td>\n",
              "      <td>1803.987</td>\n",
              "      <td>NaN</td>\n",
              "      <td>597.029</td>\n",
              "      <td>9.59</td>\n",
              "      <td>NaN</td>\n",
              "      <td>NaN</td>\n",
              "      <td>37.746</td>\n",
              "      <td>0.5</td>\n",
              "      <td>64.83</td>\n",
              "    </tr>\n",
              "  </tbody>\n",
              "</table>\n",
              "</div>"
            ],
            "text/plain": [
              "  iso_code continent  ... hospital_beds_per_thousand life_expectancy\n",
              "0      AFG      Asia  ...                        0.5           64.83\n",
              "1      AFG      Asia  ...                        0.5           64.83\n",
              "2      AFG      Asia  ...                        0.5           64.83\n",
              "3      AFG      Asia  ...                        0.5           64.83\n",
              "4      AFG      Asia  ...                        0.5           64.83\n",
              "\n",
              "[5 rows x 34 columns]"
            ]
          },
          "metadata": {
            "tags": []
          },
          "execution_count": 226
        }
      ]
    },
    {
      "cell_type": "code",
      "metadata": {
        "id": "6ISQkLrUPi-z",
        "colab_type": "code",
        "colab": {
          "base_uri": "https://localhost:8080/",
          "height": 35
        },
        "outputId": "207bebb7-d77a-4eaa-aa7d-55eef9481da4"
      },
      "source": [
        "covid.shape"
      ],
      "execution_count": null,
      "outputs": [
        {
          "output_type": "execute_result",
          "data": {
            "text/plain": [
              "(24443, 34)"
            ]
          },
          "metadata": {
            "tags": []
          },
          "execution_count": 227
        }
      ]
    },
    {
      "cell_type": "markdown",
      "metadata": {
        "id": "mThl-DsqPoCm",
        "colab_type": "text"
      },
      "source": [
        "Então é possível ver, que a base de dados possuí 24443 entradas e 34 colunas, desta forma, podemos análisar o quais são os tipos de dados e qual a qualidade do *dataset*, ou seja seu número de valores faltantes."
      ]
    },
    {
      "cell_type": "markdown",
      "metadata": {
        "id": "DrkqTt_RQeMT",
        "colab_type": "text"
      },
      "source": [
        "##Quais os tipos de dados?\n",
        "\n"
      ]
    },
    {
      "cell_type": "code",
      "metadata": {
        "id": "dEfyzeu6QiDh",
        "colab_type": "code",
        "colab": {
          "base_uri": "https://localhost:8080/",
          "height": 746
        },
        "outputId": "034f730e-6807-41db-d3b7-05f41b43a1a1"
      },
      "source": [
        "covid.info()"
      ],
      "execution_count": null,
      "outputs": [
        {
          "output_type": "stream",
          "text": [
            "<class 'pandas.core.frame.DataFrame'>\n",
            "RangeIndex: 24443 entries, 0 to 24442\n",
            "Data columns (total 34 columns):\n",
            " #   Column                           Non-Null Count  Dtype  \n",
            "---  ------                           --------------  -----  \n",
            " 0   iso_code                         24379 non-null  object \n",
            " 1   continent                        24209 non-null  object \n",
            " 2   location                         24443 non-null  object \n",
            " 3   date                             24443 non-null  object \n",
            " 4   total_cases                      24225 non-null  float64\n",
            " 5   new_cases                        24225 non-null  float64\n",
            " 6   total_deaths                     24225 non-null  float64\n",
            " 7   new_deaths                       24225 non-null  float64\n",
            " 8   total_cases_per_million          24161 non-null  float64\n",
            " 9   new_cases_per_million            24161 non-null  float64\n",
            " 10  total_deaths_per_million         24161 non-null  float64\n",
            " 11  new_deaths_per_million           24161 non-null  float64\n",
            " 12  total_tests                      6773 non-null   float64\n",
            " 13  new_tests                        6101 non-null   float64\n",
            " 14  total_tests_per_thousand         6773 non-null   float64\n",
            " 15  new_tests_per_thousand           6101 non-null   float64\n",
            " 16  new_tests_smoothed               7308 non-null   float64\n",
            " 17  new_tests_smoothed_per_thousand  7308 non-null   float64\n",
            " 18  tests_units                      7919 non-null   object \n",
            " 19  stringency_index                 19463 non-null  float64\n",
            " 20  population                       24379 non-null  float64\n",
            " 21  population_density               23399 non-null  float64\n",
            " 22  median_age                       22124 non-null  float64\n",
            " 23  aged_65_older                    21815 non-null  float64\n",
            " 24  aged_70_older                    22011 non-null  float64\n",
            " 25  gdp_per_capita                   21883 non-null  float64\n",
            " 26  extreme_poverty                  14618 non-null  float64\n",
            " 27  cvd_death_rate                   22146 non-null  float64\n",
            " 28  diabetes_prevalence              22861 non-null  float64\n",
            " 29  female_smokers                   17830 non-null  float64\n",
            " 30  male_smokers                     17628 non-null  float64\n",
            " 31  handwashing_facilities           9883 non-null   float64\n",
            " 32  hospital_beds_per_thousand       20299 non-null  float64\n",
            " 33  life_expectancy                  24105 non-null  float64\n",
            "dtypes: float64(29), object(5)\n",
            "memory usage: 6.3+ MB\n"
          ],
          "name": "stdout"
        }
      ]
    },
    {
      "cell_type": "markdown",
      "metadata": {
        "id": "DhgSeWpxQlqZ",
        "colab_type": "text"
      },
      "source": [
        "Pude ver então que, a maioria dos dados estão no tipo correto, no entao a variável `date`terá que ser convertida para *datetime*."
      ]
    },
    {
      "cell_type": "code",
      "metadata": {
        "id": "EJ0q3YnJQzoW",
        "colab_type": "code",
        "colab": {}
      },
      "source": [
        "covid.date = pd.to_datetime(covid.date, format = \"%Y-%m-%d\")"
      ],
      "execution_count": null,
      "outputs": []
    },
    {
      "cell_type": "markdown",
      "metadata": {
        "id": "0XL7gaC_RI_G",
        "colab_type": "text"
      },
      "source": [
        "Convertido então para date time, posso analisar como está a situação de dados faltantes.\n",
        "\n",
        "##Qual a porcentagem de dados faltantes?"
      ]
    },
    {
      "cell_type": "code",
      "metadata": {
        "id": "a9JZ4F7bRVSt",
        "colab_type": "code",
        "colab": {
          "base_uri": "https://localhost:8080/",
          "height": 639
        },
        "outputId": "292e0f0d-0092-4f6d-9e7f-cc1629e17daa"
      },
      "source": [
        "(covid.isnull().sum()/covid.shape[0]*100).sort_values(ascending = False)"
      ],
      "execution_count": null,
      "outputs": [
        {
          "output_type": "execute_result",
          "data": {
            "text/plain": [
              "new_tests                          75.039889\n",
              "new_tests_per_thousand             75.039889\n",
              "total_tests_per_thousand           72.290635\n",
              "total_tests                        72.290635\n",
              "new_tests_smoothed_per_thousand    70.101870\n",
              "new_tests_smoothed                 70.101870\n",
              "tests_units                        67.602176\n",
              "handwashing_facilities             59.567156\n",
              "extreme_poverty                    40.195557\n",
              "male_smokers                       27.881193\n",
              "female_smokers                     27.054781\n",
              "stringency_index                   20.373931\n",
              "hospital_beds_per_thousand         16.953729\n",
              "aged_65_older                      10.751544\n",
              "gdp_per_capita                     10.473346\n",
              "aged_70_older                       9.949679\n",
              "median_age                          9.487379\n",
              "cvd_death_rate                      9.397373\n",
              "diabetes_prevalence                 6.472201\n",
              "population_density                  4.271161\n",
              "life_expectancy                     1.382809\n",
              "new_deaths_per_million              1.153705\n",
              "total_deaths_per_million            1.153705\n",
              "new_cases_per_million               1.153705\n",
              "total_cases_per_million             1.153705\n",
              "continent                           0.957329\n",
              "new_deaths                          0.891871\n",
              "total_deaths                        0.891871\n",
              "new_cases                           0.891871\n",
              "total_cases                         0.891871\n",
              "population                          0.261834\n",
              "iso_code                            0.261834\n",
              "date                                0.000000\n",
              "location                            0.000000\n",
              "dtype: float64"
            ]
          },
          "metadata": {
            "tags": []
          },
          "execution_count": 230
        }
      ]
    },
    {
      "cell_type": "markdown",
      "metadata": {
        "id": "s2p0RenESHuo",
        "colab_type": "text"
      },
      "source": [
        "Então pude ver, que o *dataset* possui alguns dados faltantes, ndesta forma irei realizar a limpeza, para cada das variáveis necessárias, mas antes irei alocas em um novo *dataframe*, alocando a `date`, `total_case`, `location`, `total_deaths` e `gdp_per_capita`."
      ]
    },
    {
      "cell_type": "code",
      "metadata": {
        "id": "ylVf4e3uThrY",
        "colab_type": "code",
        "colab": {
          "base_uri": "https://localhost:8080/",
          "height": 399
        },
        "outputId": "be0e1cb0-b996-4c97-9d81-807d749b28a4"
      },
      "source": [
        "covid_clear = covid.iloc[:, [2, 3,6,4,25]]\n",
        "covid_clear"
      ],
      "execution_count": null,
      "outputs": [
        {
          "output_type": "execute_result",
          "data": {
            "text/html": [
              "<div>\n",
              "<style scoped>\n",
              "    .dataframe tbody tr th:only-of-type {\n",
              "        vertical-align: middle;\n",
              "    }\n",
              "\n",
              "    .dataframe tbody tr th {\n",
              "        vertical-align: top;\n",
              "    }\n",
              "\n",
              "    .dataframe thead th {\n",
              "        text-align: right;\n",
              "    }\n",
              "</style>\n",
              "<table border=\"1\" class=\"dataframe\">\n",
              "  <thead>\n",
              "    <tr style=\"text-align: right;\">\n",
              "      <th></th>\n",
              "      <th>location</th>\n",
              "      <th>date</th>\n",
              "      <th>total_deaths</th>\n",
              "      <th>total_cases</th>\n",
              "      <th>gdp_per_capita</th>\n",
              "    </tr>\n",
              "  </thead>\n",
              "  <tbody>\n",
              "    <tr>\n",
              "      <th>0</th>\n",
              "      <td>Afghanistan</td>\n",
              "      <td>2019-12-31</td>\n",
              "      <td>0.0</td>\n",
              "      <td>0.0</td>\n",
              "      <td>1803.987</td>\n",
              "    </tr>\n",
              "    <tr>\n",
              "      <th>1</th>\n",
              "      <td>Afghanistan</td>\n",
              "      <td>2020-01-01</td>\n",
              "      <td>0.0</td>\n",
              "      <td>0.0</td>\n",
              "      <td>1803.987</td>\n",
              "    </tr>\n",
              "    <tr>\n",
              "      <th>2</th>\n",
              "      <td>Afghanistan</td>\n",
              "      <td>2020-01-02</td>\n",
              "      <td>0.0</td>\n",
              "      <td>0.0</td>\n",
              "      <td>1803.987</td>\n",
              "    </tr>\n",
              "    <tr>\n",
              "      <th>3</th>\n",
              "      <td>Afghanistan</td>\n",
              "      <td>2020-01-03</td>\n",
              "      <td>0.0</td>\n",
              "      <td>0.0</td>\n",
              "      <td>1803.987</td>\n",
              "    </tr>\n",
              "    <tr>\n",
              "      <th>4</th>\n",
              "      <td>Afghanistan</td>\n",
              "      <td>2020-01-04</td>\n",
              "      <td>0.0</td>\n",
              "      <td>0.0</td>\n",
              "      <td>1803.987</td>\n",
              "    </tr>\n",
              "    <tr>\n",
              "      <th>...</th>\n",
              "      <td>...</td>\n",
              "      <td>...</td>\n",
              "      <td>...</td>\n",
              "      <td>...</td>\n",
              "      <td>...</td>\n",
              "    </tr>\n",
              "    <tr>\n",
              "      <th>24438</th>\n",
              "      <td>International</td>\n",
              "      <td>2020-02-28</td>\n",
              "      <td>4.0</td>\n",
              "      <td>705.0</td>\n",
              "      <td>NaN</td>\n",
              "    </tr>\n",
              "    <tr>\n",
              "      <th>24439</th>\n",
              "      <td>International</td>\n",
              "      <td>2020-02-29</td>\n",
              "      <td>6.0</td>\n",
              "      <td>705.0</td>\n",
              "      <td>NaN</td>\n",
              "    </tr>\n",
              "    <tr>\n",
              "      <th>24440</th>\n",
              "      <td>International</td>\n",
              "      <td>2020-03-01</td>\n",
              "      <td>6.0</td>\n",
              "      <td>705.0</td>\n",
              "      <td>NaN</td>\n",
              "    </tr>\n",
              "    <tr>\n",
              "      <th>24441</th>\n",
              "      <td>International</td>\n",
              "      <td>2020-03-02</td>\n",
              "      <td>6.0</td>\n",
              "      <td>705.0</td>\n",
              "      <td>NaN</td>\n",
              "    </tr>\n",
              "    <tr>\n",
              "      <th>24442</th>\n",
              "      <td>International</td>\n",
              "      <td>2020-03-10</td>\n",
              "      <td>7.0</td>\n",
              "      <td>696.0</td>\n",
              "      <td>NaN</td>\n",
              "    </tr>\n",
              "  </tbody>\n",
              "</table>\n",
              "<p>24443 rows × 5 columns</p>\n",
              "</div>"
            ],
            "text/plain": [
              "            location       date  total_deaths  total_cases  gdp_per_capita\n",
              "0        Afghanistan 2019-12-31           0.0          0.0        1803.987\n",
              "1        Afghanistan 2020-01-01           0.0          0.0        1803.987\n",
              "2        Afghanistan 2020-01-02           0.0          0.0        1803.987\n",
              "3        Afghanistan 2020-01-03           0.0          0.0        1803.987\n",
              "4        Afghanistan 2020-01-04           0.0          0.0        1803.987\n",
              "...              ...        ...           ...          ...             ...\n",
              "24438  International 2020-02-28           4.0        705.0             NaN\n",
              "24439  International 2020-02-29           6.0        705.0             NaN\n",
              "24440  International 2020-03-01           6.0        705.0             NaN\n",
              "24441  International 2020-03-02           6.0        705.0             NaN\n",
              "24442  International 2020-03-10           7.0        696.0             NaN\n",
              "\n",
              "[24443 rows x 5 columns]"
            ]
          },
          "metadata": {
            "tags": []
          },
          "execution_count": 231
        }
      ]
    },
    {
      "cell_type": "code",
      "metadata": {
        "id": "e-19bXSIVIjY",
        "colab_type": "code",
        "colab": {}
      },
      "source": [
        "#Limpar os dados nulos\n",
        "covid_clear = covid_clear.dropna()"
      ],
      "execution_count": null,
      "outputs": []
    },
    {
      "cell_type": "code",
      "metadata": {
        "id": "A4mqYZzcV9qi",
        "colab_type": "code",
        "colab": {
          "base_uri": "https://localhost:8080/",
          "height": 35
        },
        "outputId": "a4216c9a-8d79-45d0-d13c-316d47ad5ca2"
      },
      "source": [
        "covid_clear.shape"
      ],
      "execution_count": null,
      "outputs": [
        {
          "output_type": "execute_result",
          "data": {
            "text/plain": [
              "(21666, 5)"
            ]
          },
          "metadata": {
            "tags": []
          },
          "execution_count": 233
        }
      ]
    },
    {
      "cell_type": "code",
      "metadata": {
        "id": "KnzH6-uan5bG",
        "colab_type": "code",
        "colab": {}
      },
      "source": [
        "covid_clear.set_index('location', inplace=True)"
      ],
      "execution_count": null,
      "outputs": []
    },
    {
      "cell_type": "code",
      "metadata": {
        "id": "c8m_PmMLoRnS",
        "colab_type": "code",
        "colab": {}
      },
      "source": [
        "covid_clear = covid_clear.drop(\"World\")"
      ],
      "execution_count": null,
      "outputs": []
    },
    {
      "cell_type": "code",
      "metadata": {
        "id": "NKpYnboKoAOr",
        "colab_type": "code",
        "colab": {}
      },
      "source": [
        ""
      ],
      "execution_count": null,
      "outputs": []
    },
    {
      "cell_type": "markdown",
      "metadata": {
        "id": "UzbpsSe_We4w",
        "colab_type": "text"
      },
      "source": [
        "Desta forma, o *dataset* ficou com 21666 entradas."
      ]
    },
    {
      "cell_type": "markdown",
      "metadata": {
        "id": "A4QTbjA0Wlw4",
        "colab_type": "text"
      },
      "source": [
        "#Quais paises tem o maior número de casos e mortes?\n",
        "\n",
        "Dando inicio de fato as perguntas, podemos começar indicando qual o páis com mais casos atualmente."
      ]
    },
    {
      "cell_type": "code",
      "metadata": {
        "id": "HsFhlNmazJlD",
        "colab_type": "code",
        "colab": {}
      },
      "source": [
        "covid_dts = covid_clear.loc[covid_clear.date == '2020-06-14'].sort_values(by=\"total_cases\", ascending=False)"
      ],
      "execution_count": null,
      "outputs": []
    },
    {
      "cell_type": "code",
      "metadata": {
        "id": "NnE1ZHwjXOeB",
        "colab_type": "code",
        "colab": {}
      },
      "source": [
        "covid_death = covid_dts.iloc[:, [0,1,2]]"
      ],
      "execution_count": null,
      "outputs": []
    },
    {
      "cell_type": "code",
      "metadata": {
        "id": "2RNp3nKwntnm",
        "colab_type": "code",
        "colab": {}
      },
      "source": [
        "cinco_max = covid_death.head()\n",
        "cinco_max = cinco_max.reset_index()"
      ],
      "execution_count": null,
      "outputs": []
    },
    {
      "cell_type": "code",
      "metadata": {
        "id": "q8jhA_s6vQSk",
        "colab_type": "code",
        "colab": {
          "base_uri": "https://localhost:8080/",
          "height": 194
        },
        "outputId": "efea9841-f69e-4385-9005-31caf7a308b7"
      },
      "source": [
        "cinco_max"
      ],
      "execution_count": null,
      "outputs": [
        {
          "output_type": "execute_result",
          "data": {
            "text/html": [
              "<div>\n",
              "<style scoped>\n",
              "    .dataframe tbody tr th:only-of-type {\n",
              "        vertical-align: middle;\n",
              "    }\n",
              "\n",
              "    .dataframe tbody tr th {\n",
              "        vertical-align: top;\n",
              "    }\n",
              "\n",
              "    .dataframe thead th {\n",
              "        text-align: right;\n",
              "    }\n",
              "</style>\n",
              "<table border=\"1\" class=\"dataframe\">\n",
              "  <thead>\n",
              "    <tr style=\"text-align: right;\">\n",
              "      <th></th>\n",
              "      <th>location</th>\n",
              "      <th>date</th>\n",
              "      <th>total_deaths</th>\n",
              "      <th>total_cases</th>\n",
              "    </tr>\n",
              "  </thead>\n",
              "  <tbody>\n",
              "    <tr>\n",
              "      <th>0</th>\n",
              "      <td>United States</td>\n",
              "      <td>2020-06-14</td>\n",
              "      <td>115436.0</td>\n",
              "      <td>2074526.0</td>\n",
              "    </tr>\n",
              "    <tr>\n",
              "      <th>1</th>\n",
              "      <td>Brazil</td>\n",
              "      <td>2020-06-14</td>\n",
              "      <td>42720.0</td>\n",
              "      <td>850514.0</td>\n",
              "    </tr>\n",
              "    <tr>\n",
              "      <th>2</th>\n",
              "      <td>Russia</td>\n",
              "      <td>2020-06-14</td>\n",
              "      <td>6829.0</td>\n",
              "      <td>520129.0</td>\n",
              "    </tr>\n",
              "    <tr>\n",
              "      <th>3</th>\n",
              "      <td>India</td>\n",
              "      <td>2020-06-14</td>\n",
              "      <td>9195.0</td>\n",
              "      <td>320922.0</td>\n",
              "    </tr>\n",
              "    <tr>\n",
              "      <th>4</th>\n",
              "      <td>United Kingdom</td>\n",
              "      <td>2020-06-14</td>\n",
              "      <td>41662.0</td>\n",
              "      <td>294375.0</td>\n",
              "    </tr>\n",
              "  </tbody>\n",
              "</table>\n",
              "</div>"
            ],
            "text/plain": [
              "         location       date  total_deaths  total_cases\n",
              "0   United States 2020-06-14      115436.0    2074526.0\n",
              "1          Brazil 2020-06-14       42720.0     850514.0\n",
              "2          Russia 2020-06-14        6829.0     520129.0\n",
              "3           India 2020-06-14        9195.0     320922.0\n",
              "4  United Kingdom 2020-06-14       41662.0     294375.0"
            ]
          },
          "metadata": {
            "tags": []
          },
          "execution_count": 239
        }
      ]
    },
    {
      "cell_type": "code",
      "metadata": {
        "id": "cKjAQ9c4qLyR",
        "colab_type": "code",
        "colab": {
          "base_uri": "https://localhost:8080/",
          "height": 449
        },
        "outputId": "78e50279-a750-4f47-f37f-4fed36339f7c"
      },
      "source": [
        "fig, ax = plt.subplots(nrows = 1, ncols = 2, figsize = (12,5))\n",
        "\n",
        "# gráfico 1\n",
        "ax[0].bar(cinco_max['location'], cinco_max['total_deaths'].sort_values(), color =\"#1f4287\")\n",
        "ax[0].set_title(\"Cinco paises com mais mortes de COVID-19\")\n",
        "\n",
        "# gráfico 1\n",
        "ax[1].bar(cinco_max['location'], cinco_max['total_cases'].sort_values(),color =\"#071e3d\")\n",
        "ax[1].set_title(\"Cinco paises com mais casos de COVID-19\")\n",
        "\n",
        "plt.show()"
      ],
      "execution_count": null,
      "outputs": [
        {
          "output_type": "display_data",
          "data": {
            "text/plain": [
              "<Figure size 864x360 with 2 Axes>"
            ],
            "image/svg+xml": "<?xml version=\"1.0\" encoding=\"utf-8\" standalone=\"no\"?>\n<!DOCTYPE svg PUBLIC \"-//W3C//DTD SVG 1.1//EN\"\n  \"http://www.w3.org/Graphics/SVG/1.1/DTD/svg11.dtd\">\n<!-- Created with matplotlib (https://matplotlib.org/) -->\n<svg height=\"321.464063pt\" version=\"1.1\" viewBox=\"0 0 742.745172 321.464063\" width=\"742.745172pt\" xmlns=\"http://www.w3.org/2000/svg\" xmlns:xlink=\"http://www.w3.org/1999/xlink\">\n <defs>\n  <style type=\"text/css\">\n*{stroke-linecap:butt;stroke-linejoin:round;}\n  </style>\n </defs>\n <g id=\"figure_1\">\n  <g id=\"patch_1\">\n   <path d=\"M 0 321.464063 \nL 742.745172 321.464063 \nL 742.745172 0 \nL 0 0 \nz\n\" style=\"fill:none;\"/>\n  </g>\n  <g id=\"axes_1\">\n   <g id=\"patch_2\">\n    <path d=\"M 58.6925 294.118125 \nL 363.056136 294.118125 \nL 363.056136 22.318125 \nL 58.6925 22.318125 \nz\n\" style=\"fill:#eaeaf2;\"/>\n   </g>\n   <g id=\"matplotlib.axis_1\">\n    <g id=\"xtick_1\">\n     <g id=\"line2d_1\">\n      <path clip-path=\"url(#pdec85ee05e)\" d=\"M 95.585062 294.118125 \nL 95.585062 22.318125 \n\" style=\"fill:none;stroke:#ffffff;stroke-linecap:round;\"/>\n     </g>\n     <g id=\"text_1\">\n      <!-- United States -->\n      <defs>\n       <path d=\"M 8.6875 72.90625 \nL 18.609375 72.90625 \nL 18.609375 28.609375 \nQ 18.609375 16.890625 22.84375 11.734375 \nQ 27.09375 6.59375 36.625 6.59375 \nQ 46.09375 6.59375 50.34375 11.734375 \nQ 54.59375 16.890625 54.59375 28.609375 \nL 54.59375 72.90625 \nL 64.5 72.90625 \nL 64.5 27.390625 \nQ 64.5 13.140625 57.4375 5.859375 \nQ 50.390625 -1.421875 36.625 -1.421875 \nQ 22.796875 -1.421875 15.734375 5.859375 \nQ 8.6875 13.140625 8.6875 27.390625 \nz\n\" id=\"DejaVuSans-85\"/>\n       <path d=\"M 54.890625 33.015625 \nL 54.890625 0 \nL 45.90625 0 \nL 45.90625 32.71875 \nQ 45.90625 40.484375 42.875 44.328125 \nQ 39.84375 48.1875 33.796875 48.1875 \nQ 26.515625 48.1875 22.3125 43.546875 \nQ 18.109375 38.921875 18.109375 30.90625 \nL 18.109375 0 \nL 9.078125 0 \nL 9.078125 54.6875 \nL 18.109375 54.6875 \nL 18.109375 46.1875 \nQ 21.34375 51.125 25.703125 53.5625 \nQ 30.078125 56 35.796875 56 \nQ 45.21875 56 50.046875 50.171875 \nQ 54.890625 44.34375 54.890625 33.015625 \nz\n\" id=\"DejaVuSans-110\"/>\n       <path d=\"M 9.421875 54.6875 \nL 18.40625 54.6875 \nL 18.40625 0 \nL 9.421875 0 \nz\nM 9.421875 75.984375 \nL 18.40625 75.984375 \nL 18.40625 64.59375 \nL 9.421875 64.59375 \nz\n\" id=\"DejaVuSans-105\"/>\n       <path d=\"M 18.3125 70.21875 \nL 18.3125 54.6875 \nL 36.8125 54.6875 \nL 36.8125 47.703125 \nL 18.3125 47.703125 \nL 18.3125 18.015625 \nQ 18.3125 11.328125 20.140625 9.421875 \nQ 21.96875 7.515625 27.59375 7.515625 \nL 36.8125 7.515625 \nL 36.8125 0 \nL 27.59375 0 \nQ 17.1875 0 13.234375 3.875 \nQ 9.28125 7.765625 9.28125 18.015625 \nL 9.28125 47.703125 \nL 2.6875 47.703125 \nL 2.6875 54.6875 \nL 9.28125 54.6875 \nL 9.28125 70.21875 \nz\n\" id=\"DejaVuSans-116\"/>\n       <path d=\"M 56.203125 29.59375 \nL 56.203125 25.203125 \nL 14.890625 25.203125 \nQ 15.484375 15.921875 20.484375 11.0625 \nQ 25.484375 6.203125 34.421875 6.203125 \nQ 39.59375 6.203125 44.453125 7.46875 \nQ 49.3125 8.734375 54.109375 11.28125 \nL 54.109375 2.78125 \nQ 49.265625 0.734375 44.1875 -0.34375 \nQ 39.109375 -1.421875 33.890625 -1.421875 \nQ 20.796875 -1.421875 13.15625 6.1875 \nQ 5.515625 13.8125 5.515625 26.8125 \nQ 5.515625 40.234375 12.765625 48.109375 \nQ 20.015625 56 32.328125 56 \nQ 43.359375 56 49.78125 48.890625 \nQ 56.203125 41.796875 56.203125 29.59375 \nz\nM 47.21875 32.234375 \nQ 47.125 39.59375 43.09375 43.984375 \nQ 39.0625 48.390625 32.421875 48.390625 \nQ 24.90625 48.390625 20.390625 44.140625 \nQ 15.875 39.890625 15.1875 32.171875 \nz\n\" id=\"DejaVuSans-101\"/>\n       <path d=\"M 45.40625 46.390625 \nL 45.40625 75.984375 \nL 54.390625 75.984375 \nL 54.390625 0 \nL 45.40625 0 \nL 45.40625 8.203125 \nQ 42.578125 3.328125 38.25 0.953125 \nQ 33.9375 -1.421875 27.875 -1.421875 \nQ 17.96875 -1.421875 11.734375 6.484375 \nQ 5.515625 14.40625 5.515625 27.296875 \nQ 5.515625 40.1875 11.734375 48.09375 \nQ 17.96875 56 27.875 56 \nQ 33.9375 56 38.25 53.625 \nQ 42.578125 51.265625 45.40625 46.390625 \nz\nM 14.796875 27.296875 \nQ 14.796875 17.390625 18.875 11.75 \nQ 22.953125 6.109375 30.078125 6.109375 \nQ 37.203125 6.109375 41.296875 11.75 \nQ 45.40625 17.390625 45.40625 27.296875 \nQ 45.40625 37.203125 41.296875 42.84375 \nQ 37.203125 48.484375 30.078125 48.484375 \nQ 22.953125 48.484375 18.875 42.84375 \nQ 14.796875 37.203125 14.796875 27.296875 \nz\n\" id=\"DejaVuSans-100\"/>\n       <path id=\"DejaVuSans-32\"/>\n       <path d=\"M 53.515625 70.515625 \nL 53.515625 60.890625 \nQ 47.90625 63.578125 42.921875 64.890625 \nQ 37.9375 66.21875 33.296875 66.21875 \nQ 25.25 66.21875 20.875 63.09375 \nQ 16.5 59.96875 16.5 54.203125 \nQ 16.5 49.359375 19.40625 46.890625 \nQ 22.3125 44.4375 30.421875 42.921875 \nL 36.375 41.703125 \nQ 47.40625 39.59375 52.65625 34.296875 \nQ 57.90625 29 57.90625 20.125 \nQ 57.90625 9.515625 50.796875 4.046875 \nQ 43.703125 -1.421875 29.984375 -1.421875 \nQ 24.8125 -1.421875 18.96875 -0.25 \nQ 13.140625 0.921875 6.890625 3.21875 \nL 6.890625 13.375 \nQ 12.890625 10.015625 18.65625 8.296875 \nQ 24.421875 6.59375 29.984375 6.59375 \nQ 38.421875 6.59375 43.015625 9.90625 \nQ 47.609375 13.234375 47.609375 19.390625 \nQ 47.609375 24.75 44.3125 27.78125 \nQ 41.015625 30.8125 33.5 32.328125 \nL 27.484375 33.5 \nQ 16.453125 35.6875 11.515625 40.375 \nQ 6.59375 45.0625 6.59375 53.421875 \nQ 6.59375 63.09375 13.40625 68.65625 \nQ 20.21875 74.21875 32.171875 74.21875 \nQ 37.3125 74.21875 42.625 73.28125 \nQ 47.953125 72.359375 53.515625 70.515625 \nz\n\" id=\"DejaVuSans-83\"/>\n       <path d=\"M 34.28125 27.484375 \nQ 23.390625 27.484375 19.1875 25 \nQ 14.984375 22.515625 14.984375 16.5 \nQ 14.984375 11.71875 18.140625 8.90625 \nQ 21.296875 6.109375 26.703125 6.109375 \nQ 34.1875 6.109375 38.703125 11.40625 \nQ 43.21875 16.703125 43.21875 25.484375 \nL 43.21875 27.484375 \nz\nM 52.203125 31.203125 \nL 52.203125 0 \nL 43.21875 0 \nL 43.21875 8.296875 \nQ 40.140625 3.328125 35.546875 0.953125 \nQ 30.953125 -1.421875 24.3125 -1.421875 \nQ 15.921875 -1.421875 10.953125 3.296875 \nQ 6 8.015625 6 15.921875 \nQ 6 25.140625 12.171875 29.828125 \nQ 18.359375 34.515625 30.609375 34.515625 \nL 43.21875 34.515625 \nL 43.21875 35.40625 \nQ 43.21875 41.609375 39.140625 45 \nQ 35.0625 48.390625 27.6875 48.390625 \nQ 23 48.390625 18.546875 47.265625 \nQ 14.109375 46.140625 10.015625 43.890625 \nL 10.015625 52.203125 \nQ 14.9375 54.109375 19.578125 55.046875 \nQ 24.21875 56 28.609375 56 \nQ 40.484375 56 46.34375 49.84375 \nQ 52.203125 43.703125 52.203125 31.203125 \nz\n\" id=\"DejaVuSans-97\"/>\n       <path d=\"M 44.28125 53.078125 \nL 44.28125 44.578125 \nQ 40.484375 46.53125 36.375 47.5 \nQ 32.28125 48.484375 27.875 48.484375 \nQ 21.1875 48.484375 17.84375 46.4375 \nQ 14.5 44.390625 14.5 40.28125 \nQ 14.5 37.15625 16.890625 35.375 \nQ 19.28125 33.59375 26.515625 31.984375 \nL 29.59375 31.296875 \nQ 39.15625 29.25 43.1875 25.515625 \nQ 47.21875 21.78125 47.21875 15.09375 \nQ 47.21875 7.46875 41.1875 3.015625 \nQ 35.15625 -1.421875 24.609375 -1.421875 \nQ 20.21875 -1.421875 15.453125 -0.5625 \nQ 10.6875 0.296875 5.421875 2 \nL 5.421875 11.28125 \nQ 10.40625 8.6875 15.234375 7.390625 \nQ 20.0625 6.109375 24.8125 6.109375 \nQ 31.15625 6.109375 34.5625 8.28125 \nQ 37.984375 10.453125 37.984375 14.40625 \nQ 37.984375 18.0625 35.515625 20.015625 \nQ 33.0625 21.96875 24.703125 23.78125 \nL 21.578125 24.515625 \nQ 13.234375 26.265625 9.515625 29.90625 \nQ 5.8125 33.546875 5.8125 39.890625 \nQ 5.8125 47.609375 11.28125 51.796875 \nQ 16.75 56 26.8125 56 \nQ 31.78125 56 36.171875 55.265625 \nQ 40.578125 54.546875 44.28125 53.078125 \nz\n\" id=\"DejaVuSans-115\"/>\n      </defs>\n      <g style=\"fill:#262626;\" transform=\"translate(58.342328 311.976406)scale(0.11 -0.11)\">\n       <use xlink:href=\"#DejaVuSans-85\"/>\n       <use x=\"73.193359\" xlink:href=\"#DejaVuSans-110\"/>\n       <use x=\"136.572266\" xlink:href=\"#DejaVuSans-105\"/>\n       <use x=\"164.355469\" xlink:href=\"#DejaVuSans-116\"/>\n       <use x=\"203.564453\" xlink:href=\"#DejaVuSans-101\"/>\n       <use x=\"265.087891\" xlink:href=\"#DejaVuSans-100\"/>\n       <use x=\"328.564453\" xlink:href=\"#DejaVuSans-32\"/>\n       <use x=\"360.351562\" xlink:href=\"#DejaVuSans-83\"/>\n       <use x=\"423.828125\" xlink:href=\"#DejaVuSans-116\"/>\n       <use x=\"463.037109\" xlink:href=\"#DejaVuSans-97\"/>\n       <use x=\"524.316406\" xlink:href=\"#DejaVuSans-116\"/>\n       <use x=\"563.525391\" xlink:href=\"#DejaVuSans-101\"/>\n       <use x=\"625.048828\" xlink:href=\"#DejaVuSans-115\"/>\n      </g>\n     </g>\n    </g>\n    <g id=\"xtick_2\">\n     <g id=\"line2d_2\">\n      <path clip-path=\"url(#pdec85ee05e)\" d=\"M 153.22969 294.118125 \nL 153.22969 22.318125 \n\" style=\"fill:none;stroke:#ffffff;stroke-linecap:round;\"/>\n     </g>\n     <g id=\"text_2\">\n      <!-- Brazil -->\n      <defs>\n       <path d=\"M 19.671875 34.8125 \nL 19.671875 8.109375 \nL 35.5 8.109375 \nQ 43.453125 8.109375 47.28125 11.40625 \nQ 51.125 14.703125 51.125 21.484375 \nQ 51.125 28.328125 47.28125 31.5625 \nQ 43.453125 34.8125 35.5 34.8125 \nz\nM 19.671875 64.796875 \nL 19.671875 42.828125 \nL 34.28125 42.828125 \nQ 41.5 42.828125 45.03125 45.53125 \nQ 48.578125 48.25 48.578125 53.8125 \nQ 48.578125 59.328125 45.03125 62.0625 \nQ 41.5 64.796875 34.28125 64.796875 \nz\nM 9.8125 72.90625 \nL 35.015625 72.90625 \nQ 46.296875 72.90625 52.390625 68.21875 \nQ 58.5 63.53125 58.5 54.890625 \nQ 58.5 48.1875 55.375 44.234375 \nQ 52.25 40.28125 46.1875 39.3125 \nQ 53.46875 37.75 57.5 32.78125 \nQ 61.53125 27.828125 61.53125 20.40625 \nQ 61.53125 10.640625 54.890625 5.3125 \nQ 48.25 0 35.984375 0 \nL 9.8125 0 \nz\n\" id=\"DejaVuSans-66\"/>\n       <path d=\"M 41.109375 46.296875 \nQ 39.59375 47.171875 37.8125 47.578125 \nQ 36.03125 48 33.890625 48 \nQ 26.265625 48 22.1875 43.046875 \nQ 18.109375 38.09375 18.109375 28.8125 \nL 18.109375 0 \nL 9.078125 0 \nL 9.078125 54.6875 \nL 18.109375 54.6875 \nL 18.109375 46.1875 \nQ 20.953125 51.171875 25.484375 53.578125 \nQ 30.03125 56 36.53125 56 \nQ 37.453125 56 38.578125 55.875 \nQ 39.703125 55.765625 41.0625 55.515625 \nz\n\" id=\"DejaVuSans-114\"/>\n       <path d=\"M 5.515625 54.6875 \nL 48.1875 54.6875 \nL 48.1875 46.484375 \nL 14.40625 7.171875 \nL 48.1875 7.171875 \nL 48.1875 0 \nL 4.296875 0 \nL 4.296875 8.203125 \nL 38.09375 47.515625 \nL 5.515625 47.515625 \nz\n\" id=\"DejaVuSans-122\"/>\n       <path d=\"M 9.421875 75.984375 \nL 18.40625 75.984375 \nL 18.40625 0 \nL 9.421875 0 \nz\n\" id=\"DejaVuSans-108\"/>\n      </defs>\n      <g style=\"fill:#262626;\" transform=\"translate(137.882112 311.976406)scale(0.11 -0.11)\">\n       <use xlink:href=\"#DejaVuSans-66\"/>\n       <use x=\"68.603516\" xlink:href=\"#DejaVuSans-114\"/>\n       <use x=\"109.716797\" xlink:href=\"#DejaVuSans-97\"/>\n       <use x=\"170.996094\" xlink:href=\"#DejaVuSans-122\"/>\n       <use x=\"223.486328\" xlink:href=\"#DejaVuSans-105\"/>\n       <use x=\"251.269531\" xlink:href=\"#DejaVuSans-108\"/>\n      </g>\n     </g>\n    </g>\n    <g id=\"xtick_3\">\n     <g id=\"line2d_3\">\n      <path clip-path=\"url(#pdec85ee05e)\" d=\"M 210.874318 294.118125 \nL 210.874318 22.318125 \n\" style=\"fill:none;stroke:#ffffff;stroke-linecap:round;\"/>\n     </g>\n     <g id=\"text_3\">\n      <!-- Russia -->\n      <defs>\n       <path d=\"M 44.390625 34.1875 \nQ 47.5625 33.109375 50.5625 29.59375 \nQ 53.5625 26.078125 56.59375 19.921875 \nL 66.609375 0 \nL 56 0 \nL 46.6875 18.703125 \nQ 43.0625 26.03125 39.671875 28.421875 \nQ 36.28125 30.8125 30.421875 30.8125 \nL 19.671875 30.8125 \nL 19.671875 0 \nL 9.8125 0 \nL 9.8125 72.90625 \nL 32.078125 72.90625 \nQ 44.578125 72.90625 50.734375 67.671875 \nQ 56.890625 62.453125 56.890625 51.90625 \nQ 56.890625 45.015625 53.6875 40.46875 \nQ 50.484375 35.9375 44.390625 34.1875 \nz\nM 19.671875 64.796875 \nL 19.671875 38.921875 \nL 32.078125 38.921875 \nQ 39.203125 38.921875 42.84375 42.21875 \nQ 46.484375 45.515625 46.484375 51.90625 \nQ 46.484375 58.296875 42.84375 61.546875 \nQ 39.203125 64.796875 32.078125 64.796875 \nz\n\" id=\"DejaVuSans-82\"/>\n       <path d=\"M 8.5 21.578125 \nL 8.5 54.6875 \nL 17.484375 54.6875 \nL 17.484375 21.921875 \nQ 17.484375 14.15625 20.5 10.265625 \nQ 23.53125 6.390625 29.59375 6.390625 \nQ 36.859375 6.390625 41.078125 11.03125 \nQ 45.3125 15.671875 45.3125 23.6875 \nL 45.3125 54.6875 \nL 54.296875 54.6875 \nL 54.296875 0 \nL 45.3125 0 \nL 45.3125 8.40625 \nQ 42.046875 3.421875 37.71875 1 \nQ 33.40625 -1.421875 27.6875 -1.421875 \nQ 18.265625 -1.421875 13.375 4.4375 \nQ 8.5 10.296875 8.5 21.578125 \nz\nM 31.109375 56 \nz\n\" id=\"DejaVuSans-117\"/>\n      </defs>\n      <g style=\"fill:#262626;\" transform=\"translate(193.185803 311.976406)scale(0.11 -0.11)\">\n       <use xlink:href=\"#DejaVuSans-82\"/>\n       <use x=\"64.982422\" xlink:href=\"#DejaVuSans-117\"/>\n       <use x=\"128.361328\" xlink:href=\"#DejaVuSans-115\"/>\n       <use x=\"180.460938\" xlink:href=\"#DejaVuSans-115\"/>\n       <use x=\"232.560547\" xlink:href=\"#DejaVuSans-105\"/>\n       <use x=\"260.34375\" xlink:href=\"#DejaVuSans-97\"/>\n      </g>\n     </g>\n    </g>\n    <g id=\"xtick_4\">\n     <g id=\"line2d_4\">\n      <path clip-path=\"url(#pdec85ee05e)\" d=\"M 268.518946 294.118125 \nL 268.518946 22.318125 \n\" style=\"fill:none;stroke:#ffffff;stroke-linecap:round;\"/>\n     </g>\n     <g id=\"text_4\">\n      <!-- India -->\n      <defs>\n       <path d=\"M 9.8125 72.90625 \nL 19.671875 72.90625 \nL 19.671875 0 \nL 9.8125 0 \nz\n\" id=\"DejaVuSans-73\"/>\n      </defs>\n      <g style=\"fill:#262626;\" transform=\"translate(255.020743 311.976406)scale(0.11 -0.11)\">\n       <use xlink:href=\"#DejaVuSans-73\"/>\n       <use x=\"29.492188\" xlink:href=\"#DejaVuSans-110\"/>\n       <use x=\"92.871094\" xlink:href=\"#DejaVuSans-100\"/>\n       <use x=\"156.347656\" xlink:href=\"#DejaVuSans-105\"/>\n       <use x=\"184.130859\" xlink:href=\"#DejaVuSans-97\"/>\n      </g>\n     </g>\n    </g>\n    <g id=\"xtick_5\">\n     <g id=\"line2d_5\">\n      <path clip-path=\"url(#pdec85ee05e)\" d=\"M 326.163574 294.118125 \nL 326.163574 22.318125 \n\" style=\"fill:none;stroke:#ffffff;stroke-linecap:round;\"/>\n     </g>\n     <g id=\"text_5\">\n      <!-- United Kingdom -->\n      <defs>\n       <path d=\"M 9.8125 72.90625 \nL 19.671875 72.90625 \nL 19.671875 42.09375 \nL 52.390625 72.90625 \nL 65.09375 72.90625 \nL 28.90625 38.921875 \nL 67.671875 0 \nL 54.6875 0 \nL 19.671875 35.109375 \nL 19.671875 0 \nL 9.8125 0 \nz\n\" id=\"DejaVuSans-75\"/>\n       <path d=\"M 45.40625 27.984375 \nQ 45.40625 37.75 41.375 43.109375 \nQ 37.359375 48.484375 30.078125 48.484375 \nQ 22.859375 48.484375 18.828125 43.109375 \nQ 14.796875 37.75 14.796875 27.984375 \nQ 14.796875 18.265625 18.828125 12.890625 \nQ 22.859375 7.515625 30.078125 7.515625 \nQ 37.359375 7.515625 41.375 12.890625 \nQ 45.40625 18.265625 45.40625 27.984375 \nz\nM 54.390625 6.78125 \nQ 54.390625 -7.171875 48.1875 -13.984375 \nQ 42 -20.796875 29.203125 -20.796875 \nQ 24.46875 -20.796875 20.265625 -20.09375 \nQ 16.0625 -19.390625 12.109375 -17.921875 \nL 12.109375 -9.1875 \nQ 16.0625 -11.328125 19.921875 -12.34375 \nQ 23.78125 -13.375 27.78125 -13.375 \nQ 36.625 -13.375 41.015625 -8.765625 \nQ 45.40625 -4.15625 45.40625 5.171875 \nL 45.40625 9.625 \nQ 42.625 4.78125 38.28125 2.390625 \nQ 33.9375 0 27.875 0 \nQ 17.828125 0 11.671875 7.65625 \nQ 5.515625 15.328125 5.515625 27.984375 \nQ 5.515625 40.671875 11.671875 48.328125 \nQ 17.828125 56 27.875 56 \nQ 33.9375 56 38.28125 53.609375 \nQ 42.625 51.21875 45.40625 46.390625 \nL 45.40625 54.6875 \nL 54.390625 54.6875 \nz\n\" id=\"DejaVuSans-103\"/>\n       <path d=\"M 30.609375 48.390625 \nQ 23.390625 48.390625 19.1875 42.75 \nQ 14.984375 37.109375 14.984375 27.296875 \nQ 14.984375 17.484375 19.15625 11.84375 \nQ 23.34375 6.203125 30.609375 6.203125 \nQ 37.796875 6.203125 41.984375 11.859375 \nQ 46.1875 17.53125 46.1875 27.296875 \nQ 46.1875 37.015625 41.984375 42.703125 \nQ 37.796875 48.390625 30.609375 48.390625 \nz\nM 30.609375 56 \nQ 42.328125 56 49.015625 48.375 \nQ 55.71875 40.765625 55.71875 27.296875 \nQ 55.71875 13.875 49.015625 6.21875 \nQ 42.328125 -1.421875 30.609375 -1.421875 \nQ 18.84375 -1.421875 12.171875 6.21875 \nQ 5.515625 13.875 5.515625 27.296875 \nQ 5.515625 40.765625 12.171875 48.375 \nQ 18.84375 56 30.609375 56 \nz\n\" id=\"DejaVuSans-111\"/>\n       <path d=\"M 52 44.1875 \nQ 55.375 50.25 60.0625 53.125 \nQ 64.75 56 71.09375 56 \nQ 79.640625 56 84.28125 50.015625 \nQ 88.921875 44.046875 88.921875 33.015625 \nL 88.921875 0 \nL 79.890625 0 \nL 79.890625 32.71875 \nQ 79.890625 40.578125 77.09375 44.375 \nQ 74.3125 48.1875 68.609375 48.1875 \nQ 61.625 48.1875 57.5625 43.546875 \nQ 53.515625 38.921875 53.515625 30.90625 \nL 53.515625 0 \nL 44.484375 0 \nL 44.484375 32.71875 \nQ 44.484375 40.625 41.703125 44.40625 \nQ 38.921875 48.1875 33.109375 48.1875 \nQ 26.21875 48.1875 22.15625 43.53125 \nQ 18.109375 38.875 18.109375 30.90625 \nL 18.109375 0 \nL 9.078125 0 \nL 9.078125 54.6875 \nL 18.109375 54.6875 \nL 18.109375 46.1875 \nQ 21.1875 51.21875 25.484375 53.609375 \nQ 29.78125 56 35.6875 56 \nQ 41.65625 56 45.828125 52.96875 \nQ 50 49.953125 52 44.1875 \nz\n\" id=\"DejaVuSans-109\"/>\n      </defs>\n      <g style=\"fill:#262626;\" transform=\"translate(282.01834 311.976406)scale(0.11 -0.11)\">\n       <use xlink:href=\"#DejaVuSans-85\"/>\n       <use x=\"73.193359\" xlink:href=\"#DejaVuSans-110\"/>\n       <use x=\"136.572266\" xlink:href=\"#DejaVuSans-105\"/>\n       <use x=\"164.355469\" xlink:href=\"#DejaVuSans-116\"/>\n       <use x=\"203.564453\" xlink:href=\"#DejaVuSans-101\"/>\n       <use x=\"265.087891\" xlink:href=\"#DejaVuSans-100\"/>\n       <use x=\"328.564453\" xlink:href=\"#DejaVuSans-32\"/>\n       <use x=\"360.351562\" xlink:href=\"#DejaVuSans-75\"/>\n       <use x=\"425.927734\" xlink:href=\"#DejaVuSans-105\"/>\n       <use x=\"453.710938\" xlink:href=\"#DejaVuSans-110\"/>\n       <use x=\"517.089844\" xlink:href=\"#DejaVuSans-103\"/>\n       <use x=\"580.566406\" xlink:href=\"#DejaVuSans-100\"/>\n       <use x=\"644.042969\" xlink:href=\"#DejaVuSans-111\"/>\n       <use x=\"705.224609\" xlink:href=\"#DejaVuSans-109\"/>\n      </g>\n     </g>\n    </g>\n   </g>\n   <g id=\"matplotlib.axis_2\">\n    <g id=\"ytick_1\">\n     <g id=\"line2d_6\">\n      <path clip-path=\"url(#pdec85ee05e)\" d=\"M 58.6925 294.118125 \nL 363.056136 294.118125 \n\" style=\"fill:none;stroke:#ffffff;stroke-linecap:round;\"/>\n     </g>\n     <g id=\"text_6\">\n      <!-- 0 -->\n      <defs>\n       <path d=\"M 31.78125 66.40625 \nQ 24.171875 66.40625 20.328125 58.90625 \nQ 16.5 51.421875 16.5 36.375 \nQ 16.5 21.390625 20.328125 13.890625 \nQ 24.171875 6.390625 31.78125 6.390625 \nQ 39.453125 6.390625 43.28125 13.890625 \nQ 47.125 21.390625 47.125 36.375 \nQ 47.125 51.421875 43.28125 58.90625 \nQ 39.453125 66.40625 31.78125 66.40625 \nz\nM 31.78125 74.21875 \nQ 44.046875 74.21875 50.515625 64.515625 \nQ 56.984375 54.828125 56.984375 36.375 \nQ 56.984375 17.96875 50.515625 8.265625 \nQ 44.046875 -1.421875 31.78125 -1.421875 \nQ 19.53125 -1.421875 13.0625 8.265625 \nQ 6.59375 17.96875 6.59375 36.375 \nQ 6.59375 54.828125 13.0625 64.515625 \nQ 19.53125 74.21875 31.78125 74.21875 \nz\n\" id=\"DejaVuSans-48\"/>\n      </defs>\n      <g style=\"fill:#262626;\" transform=\"translate(42.19375 298.297266)scale(0.11 -0.11)\">\n       <use xlink:href=\"#DejaVuSans-48\"/>\n      </g>\n     </g>\n    </g>\n    <g id=\"ytick_2\">\n     <g id=\"line2d_7\">\n      <path clip-path=\"url(#pdec85ee05e)\" d=\"M 58.6925 249.269526 \nL 363.056136 249.269526 \n\" style=\"fill:none;stroke:#ffffff;stroke-linecap:round;\"/>\n     </g>\n     <g id=\"text_7\">\n      <!-- 20000 -->\n      <defs>\n       <path d=\"M 19.1875 8.296875 \nL 53.609375 8.296875 \nL 53.609375 0 \nL 7.328125 0 \nL 7.328125 8.296875 \nQ 12.9375 14.109375 22.625 23.890625 \nQ 32.328125 33.6875 34.8125 36.53125 \nQ 39.546875 41.84375 41.421875 45.53125 \nQ 43.3125 49.21875 43.3125 52.78125 \nQ 43.3125 58.59375 39.234375 62.25 \nQ 35.15625 65.921875 28.609375 65.921875 \nQ 23.96875 65.921875 18.8125 64.3125 \nQ 13.671875 62.703125 7.8125 59.421875 \nL 7.8125 69.390625 \nQ 13.765625 71.78125 18.9375 73 \nQ 24.125 74.21875 28.421875 74.21875 \nQ 39.75 74.21875 46.484375 68.546875 \nQ 53.21875 62.890625 53.21875 53.421875 \nQ 53.21875 48.921875 51.53125 44.890625 \nQ 49.859375 40.875 45.40625 35.40625 \nQ 44.1875 33.984375 37.640625 27.21875 \nQ 31.109375 20.453125 19.1875 8.296875 \nz\n\" id=\"DejaVuSans-50\"/>\n      </defs>\n      <g style=\"fill:#262626;\" transform=\"translate(14.19875 253.448667)scale(0.11 -0.11)\">\n       <use xlink:href=\"#DejaVuSans-50\"/>\n       <use x=\"63.623047\" xlink:href=\"#DejaVuSans-48\"/>\n       <use x=\"127.246094\" xlink:href=\"#DejaVuSans-48\"/>\n       <use x=\"190.869141\" xlink:href=\"#DejaVuSans-48\"/>\n       <use x=\"254.492188\" xlink:href=\"#DejaVuSans-48\"/>\n      </g>\n     </g>\n    </g>\n    <g id=\"ytick_3\">\n     <g id=\"line2d_8\">\n      <path clip-path=\"url(#pdec85ee05e)\" d=\"M 58.6925 204.420927 \nL 363.056136 204.420927 \n\" style=\"fill:none;stroke:#ffffff;stroke-linecap:round;\"/>\n     </g>\n     <g id=\"text_8\">\n      <!-- 40000 -->\n      <defs>\n       <path d=\"M 37.796875 64.3125 \nL 12.890625 25.390625 \nL 37.796875 25.390625 \nz\nM 35.203125 72.90625 \nL 47.609375 72.90625 \nL 47.609375 25.390625 \nL 58.015625 25.390625 \nL 58.015625 17.1875 \nL 47.609375 17.1875 \nL 47.609375 0 \nL 37.796875 0 \nL 37.796875 17.1875 \nL 4.890625 17.1875 \nL 4.890625 26.703125 \nz\n\" id=\"DejaVuSans-52\"/>\n      </defs>\n      <g style=\"fill:#262626;\" transform=\"translate(14.19875 208.600068)scale(0.11 -0.11)\">\n       <use xlink:href=\"#DejaVuSans-52\"/>\n       <use x=\"63.623047\" xlink:href=\"#DejaVuSans-48\"/>\n       <use x=\"127.246094\" xlink:href=\"#DejaVuSans-48\"/>\n       <use x=\"190.869141\" xlink:href=\"#DejaVuSans-48\"/>\n       <use x=\"254.492188\" xlink:href=\"#DejaVuSans-48\"/>\n      </g>\n     </g>\n    </g>\n    <g id=\"ytick_4\">\n     <g id=\"line2d_9\">\n      <path clip-path=\"url(#pdec85ee05e)\" d=\"M 58.6925 159.572328 \nL 363.056136 159.572328 \n\" style=\"fill:none;stroke:#ffffff;stroke-linecap:round;\"/>\n     </g>\n     <g id=\"text_9\">\n      <!-- 60000 -->\n      <defs>\n       <path d=\"M 33.015625 40.375 \nQ 26.375 40.375 22.484375 35.828125 \nQ 18.609375 31.296875 18.609375 23.390625 \nQ 18.609375 15.53125 22.484375 10.953125 \nQ 26.375 6.390625 33.015625 6.390625 \nQ 39.65625 6.390625 43.53125 10.953125 \nQ 47.40625 15.53125 47.40625 23.390625 \nQ 47.40625 31.296875 43.53125 35.828125 \nQ 39.65625 40.375 33.015625 40.375 \nz\nM 52.59375 71.296875 \nL 52.59375 62.3125 \nQ 48.875 64.0625 45.09375 64.984375 \nQ 41.3125 65.921875 37.59375 65.921875 \nQ 27.828125 65.921875 22.671875 59.328125 \nQ 17.53125 52.734375 16.796875 39.40625 \nQ 19.671875 43.65625 24.015625 45.921875 \nQ 28.375 48.1875 33.59375 48.1875 \nQ 44.578125 48.1875 50.953125 41.515625 \nQ 57.328125 34.859375 57.328125 23.390625 \nQ 57.328125 12.15625 50.6875 5.359375 \nQ 44.046875 -1.421875 33.015625 -1.421875 \nQ 20.359375 -1.421875 13.671875 8.265625 \nQ 6.984375 17.96875 6.984375 36.375 \nQ 6.984375 53.65625 15.1875 63.9375 \nQ 23.390625 74.21875 37.203125 74.21875 \nQ 40.921875 74.21875 44.703125 73.484375 \nQ 48.484375 72.75 52.59375 71.296875 \nz\n\" id=\"DejaVuSans-54\"/>\n      </defs>\n      <g style=\"fill:#262626;\" transform=\"translate(14.19875 163.751469)scale(0.11 -0.11)\">\n       <use xlink:href=\"#DejaVuSans-54\"/>\n       <use x=\"63.623047\" xlink:href=\"#DejaVuSans-48\"/>\n       <use x=\"127.246094\" xlink:href=\"#DejaVuSans-48\"/>\n       <use x=\"190.869141\" xlink:href=\"#DejaVuSans-48\"/>\n       <use x=\"254.492188\" xlink:href=\"#DejaVuSans-48\"/>\n      </g>\n     </g>\n    </g>\n    <g id=\"ytick_5\">\n     <g id=\"line2d_10\">\n      <path clip-path=\"url(#pdec85ee05e)\" d=\"M 58.6925 114.72373 \nL 363.056136 114.72373 \n\" style=\"fill:none;stroke:#ffffff;stroke-linecap:round;\"/>\n     </g>\n     <g id=\"text_10\">\n      <!-- 80000 -->\n      <defs>\n       <path d=\"M 31.78125 34.625 \nQ 24.75 34.625 20.71875 30.859375 \nQ 16.703125 27.09375 16.703125 20.515625 \nQ 16.703125 13.921875 20.71875 10.15625 \nQ 24.75 6.390625 31.78125 6.390625 \nQ 38.8125 6.390625 42.859375 10.171875 \nQ 46.921875 13.96875 46.921875 20.515625 \nQ 46.921875 27.09375 42.890625 30.859375 \nQ 38.875 34.625 31.78125 34.625 \nz\nM 21.921875 38.8125 \nQ 15.578125 40.375 12.03125 44.71875 \nQ 8.5 49.078125 8.5 55.328125 \nQ 8.5 64.0625 14.71875 69.140625 \nQ 20.953125 74.21875 31.78125 74.21875 \nQ 42.671875 74.21875 48.875 69.140625 \nQ 55.078125 64.0625 55.078125 55.328125 \nQ 55.078125 49.078125 51.53125 44.71875 \nQ 48 40.375 41.703125 38.8125 \nQ 48.828125 37.15625 52.796875 32.3125 \nQ 56.78125 27.484375 56.78125 20.515625 \nQ 56.78125 9.90625 50.3125 4.234375 \nQ 43.84375 -1.421875 31.78125 -1.421875 \nQ 19.734375 -1.421875 13.25 4.234375 \nQ 6.78125 9.90625 6.78125 20.515625 \nQ 6.78125 27.484375 10.78125 32.3125 \nQ 14.796875 37.15625 21.921875 38.8125 \nz\nM 18.3125 54.390625 \nQ 18.3125 48.734375 21.84375 45.5625 \nQ 25.390625 42.390625 31.78125 42.390625 \nQ 38.140625 42.390625 41.71875 45.5625 \nQ 45.3125 48.734375 45.3125 54.390625 \nQ 45.3125 60.0625 41.71875 63.234375 \nQ 38.140625 66.40625 31.78125 66.40625 \nQ 25.390625 66.40625 21.84375 63.234375 \nQ 18.3125 60.0625 18.3125 54.390625 \nz\n\" id=\"DejaVuSans-56\"/>\n      </defs>\n      <g style=\"fill:#262626;\" transform=\"translate(14.19875 118.90287)scale(0.11 -0.11)\">\n       <use xlink:href=\"#DejaVuSans-56\"/>\n       <use x=\"63.623047\" xlink:href=\"#DejaVuSans-48\"/>\n       <use x=\"127.246094\" xlink:href=\"#DejaVuSans-48\"/>\n       <use x=\"190.869141\" xlink:href=\"#DejaVuSans-48\"/>\n       <use x=\"254.492188\" xlink:href=\"#DejaVuSans-48\"/>\n      </g>\n     </g>\n    </g>\n    <g id=\"ytick_6\">\n     <g id=\"line2d_11\">\n      <path clip-path=\"url(#pdec85ee05e)\" d=\"M 58.6925 69.875131 \nL 363.056136 69.875131 \n\" style=\"fill:none;stroke:#ffffff;stroke-linecap:round;\"/>\n     </g>\n     <g id=\"text_11\">\n      <!-- 100000 -->\n      <defs>\n       <path d=\"M 12.40625 8.296875 \nL 28.515625 8.296875 \nL 28.515625 63.921875 \nL 10.984375 60.40625 \nL 10.984375 69.390625 \nL 28.421875 72.90625 \nL 38.28125 72.90625 \nL 38.28125 8.296875 \nL 54.390625 8.296875 \nL 54.390625 0 \nL 12.40625 0 \nz\n\" id=\"DejaVuSans-49\"/>\n      </defs>\n      <g style=\"fill:#262626;\" transform=\"translate(7.2 74.054271)scale(0.11 -0.11)\">\n       <use xlink:href=\"#DejaVuSans-49\"/>\n       <use x=\"63.623047\" xlink:href=\"#DejaVuSans-48\"/>\n       <use x=\"127.246094\" xlink:href=\"#DejaVuSans-48\"/>\n       <use x=\"190.869141\" xlink:href=\"#DejaVuSans-48\"/>\n       <use x=\"254.492188\" xlink:href=\"#DejaVuSans-48\"/>\n       <use x=\"318.115234\" xlink:href=\"#DejaVuSans-48\"/>\n      </g>\n     </g>\n    </g>\n    <g id=\"ytick_7\">\n     <g id=\"line2d_12\">\n      <path clip-path=\"url(#pdec85ee05e)\" d=\"M 58.6925 25.026532 \nL 363.056136 25.026532 \n\" style=\"fill:none;stroke:#ffffff;stroke-linecap:round;\"/>\n     </g>\n     <g id=\"text_12\">\n      <!-- 120000 -->\n      <g style=\"fill:#262626;\" transform=\"translate(7.2 29.205673)scale(0.11 -0.11)\">\n       <use xlink:href=\"#DejaVuSans-49\"/>\n       <use x=\"63.623047\" xlink:href=\"#DejaVuSans-50\"/>\n       <use x=\"127.246094\" xlink:href=\"#DejaVuSans-48\"/>\n       <use x=\"190.869141\" xlink:href=\"#DejaVuSans-48\"/>\n       <use x=\"254.492188\" xlink:href=\"#DejaVuSans-48\"/>\n       <use x=\"318.115234\" xlink:href=\"#DejaVuSans-48\"/>\n      </g>\n     </g>\n    </g>\n   </g>\n   <g id=\"patch_3\">\n    <path clip-path=\"url(#pdec85ee05e)\" d=\"M 72.527211 294.118125 \nL 118.642913 294.118125 \nL 118.642913 278.804571 \nL 72.527211 278.804571 \nz\n\" style=\"fill:#1f4287;stroke:#ffffff;stroke-linejoin:miter;\"/>\n   </g>\n   <g id=\"patch_4\">\n    <path clip-path=\"url(#pdec85ee05e)\" d=\"M 130.171839 294.118125 \nL 176.287541 294.118125 \nL 176.287541 273.498982 \nL 130.171839 273.498982 \nz\n\" style=\"fill:#1f4287;stroke:#ffffff;stroke-linejoin:miter;\"/>\n   </g>\n   <g id=\"patch_5\">\n    <path clip-path=\"url(#pdec85ee05e)\" d=\"M 187.816467 294.118125 \nL 233.932169 294.118125 \nL 233.932169 200.694009 \nL 187.816467 200.694009 \nz\n\" style=\"fill:#1f4287;stroke:#ffffff;stroke-linejoin:miter;\"/>\n   </g>\n   <g id=\"patch_6\">\n    <path clip-path=\"url(#pdec85ee05e)\" d=\"M 245.461095 294.118125 \nL 291.576798 294.118125 \nL 291.576798 198.321518 \nL 245.461095 198.321518 \nz\n\" style=\"fill:#1f4287;stroke:#ffffff;stroke-linejoin:miter;\"/>\n   </g>\n   <g id=\"patch_7\">\n    <path clip-path=\"url(#pdec85ee05e)\" d=\"M 303.105723 294.118125 \nL 349.221426 294.118125 \nL 349.221426 35.260982 \nL 303.105723 35.260982 \nz\n\" style=\"fill:#1f4287;stroke:#ffffff;stroke-linejoin:miter;\"/>\n   </g>\n   <g id=\"patch_8\">\n    <path d=\"M 58.6925 294.118125 \nL 58.6925 22.318125 \n\" style=\"fill:none;stroke:#ffffff;stroke-linecap:square;stroke-linejoin:miter;stroke-width:1.25;\"/>\n   </g>\n   <g id=\"patch_9\">\n    <path d=\"M 363.056136 294.118125 \nL 363.056136 22.318125 \n\" style=\"fill:none;stroke:#ffffff;stroke-linecap:square;stroke-linejoin:miter;stroke-width:1.25;\"/>\n   </g>\n   <g id=\"patch_10\">\n    <path d=\"M 58.6925 294.118125 \nL 363.056136 294.118125 \n\" style=\"fill:none;stroke:#ffffff;stroke-linecap:square;stroke-linejoin:miter;stroke-width:1.25;\"/>\n   </g>\n   <g id=\"patch_11\">\n    <path d=\"M 58.6925 22.318125 \nL 363.056136 22.318125 \n\" style=\"fill:none;stroke:#ffffff;stroke-linecap:square;stroke-linejoin:miter;stroke-width:1.25;\"/>\n   </g>\n   <g id=\"text_13\">\n    <!-- Cinco paises com mais mortes de COVID-19 -->\n    <defs>\n     <path d=\"M 64.40625 67.28125 \nL 64.40625 56.890625 \nQ 59.421875 61.53125 53.78125 63.8125 \nQ 48.140625 66.109375 41.796875 66.109375 \nQ 29.296875 66.109375 22.65625 58.46875 \nQ 16.015625 50.828125 16.015625 36.375 \nQ 16.015625 21.96875 22.65625 14.328125 \nQ 29.296875 6.6875 41.796875 6.6875 \nQ 48.140625 6.6875 53.78125 8.984375 \nQ 59.421875 11.28125 64.40625 15.921875 \nL 64.40625 5.609375 \nQ 59.234375 2.09375 53.4375 0.328125 \nQ 47.65625 -1.421875 41.21875 -1.421875 \nQ 24.65625 -1.421875 15.125 8.703125 \nQ 5.609375 18.84375 5.609375 36.375 \nQ 5.609375 53.953125 15.125 64.078125 \nQ 24.65625 74.21875 41.21875 74.21875 \nQ 47.75 74.21875 53.53125 72.484375 \nQ 59.328125 70.75 64.40625 67.28125 \nz\n\" id=\"DejaVuSans-67\"/>\n     <path d=\"M 48.78125 52.59375 \nL 48.78125 44.1875 \nQ 44.96875 46.296875 41.140625 47.34375 \nQ 37.3125 48.390625 33.40625 48.390625 \nQ 24.65625 48.390625 19.8125 42.84375 \nQ 14.984375 37.3125 14.984375 27.296875 \nQ 14.984375 17.28125 19.8125 11.734375 \nQ 24.65625 6.203125 33.40625 6.203125 \nQ 37.3125 6.203125 41.140625 7.25 \nQ 44.96875 8.296875 48.78125 10.40625 \nL 48.78125 2.09375 \nQ 45.015625 0.34375 40.984375 -0.53125 \nQ 36.96875 -1.421875 32.421875 -1.421875 \nQ 20.0625 -1.421875 12.78125 6.34375 \nQ 5.515625 14.109375 5.515625 27.296875 \nQ 5.515625 40.671875 12.859375 48.328125 \nQ 20.21875 56 33.015625 56 \nQ 37.15625 56 41.109375 55.140625 \nQ 45.0625 54.296875 48.78125 52.59375 \nz\n\" id=\"DejaVuSans-99\"/>\n     <path d=\"M 18.109375 8.203125 \nL 18.109375 -20.796875 \nL 9.078125 -20.796875 \nL 9.078125 54.6875 \nL 18.109375 54.6875 \nL 18.109375 46.390625 \nQ 20.953125 51.265625 25.265625 53.625 \nQ 29.59375 56 35.59375 56 \nQ 45.5625 56 51.78125 48.09375 \nQ 58.015625 40.1875 58.015625 27.296875 \nQ 58.015625 14.40625 51.78125 6.484375 \nQ 45.5625 -1.421875 35.59375 -1.421875 \nQ 29.59375 -1.421875 25.265625 0.953125 \nQ 20.953125 3.328125 18.109375 8.203125 \nz\nM 48.6875 27.296875 \nQ 48.6875 37.203125 44.609375 42.84375 \nQ 40.53125 48.484375 33.40625 48.484375 \nQ 26.265625 48.484375 22.1875 42.84375 \nQ 18.109375 37.203125 18.109375 27.296875 \nQ 18.109375 17.390625 22.1875 11.75 \nQ 26.265625 6.109375 33.40625 6.109375 \nQ 40.53125 6.109375 44.609375 11.75 \nQ 48.6875 17.390625 48.6875 27.296875 \nz\n\" id=\"DejaVuSans-112\"/>\n     <path d=\"M 39.40625 66.21875 \nQ 28.65625 66.21875 22.328125 58.203125 \nQ 16.015625 50.203125 16.015625 36.375 \nQ 16.015625 22.609375 22.328125 14.59375 \nQ 28.65625 6.59375 39.40625 6.59375 \nQ 50.140625 6.59375 56.421875 14.59375 \nQ 62.703125 22.609375 62.703125 36.375 \nQ 62.703125 50.203125 56.421875 58.203125 \nQ 50.140625 66.21875 39.40625 66.21875 \nz\nM 39.40625 74.21875 \nQ 54.734375 74.21875 63.90625 63.9375 \nQ 73.09375 53.65625 73.09375 36.375 \nQ 73.09375 19.140625 63.90625 8.859375 \nQ 54.734375 -1.421875 39.40625 -1.421875 \nQ 24.03125 -1.421875 14.8125 8.828125 \nQ 5.609375 19.09375 5.609375 36.375 \nQ 5.609375 53.65625 14.8125 63.9375 \nQ 24.03125 74.21875 39.40625 74.21875 \nz\n\" id=\"DejaVuSans-79\"/>\n     <path d=\"M 28.609375 0 \nL 0.78125 72.90625 \nL 11.078125 72.90625 \nL 34.1875 11.53125 \nL 57.328125 72.90625 \nL 67.578125 72.90625 \nL 39.796875 0 \nz\n\" id=\"DejaVuSans-86\"/>\n     <path d=\"M 19.671875 64.796875 \nL 19.671875 8.109375 \nL 31.59375 8.109375 \nQ 46.6875 8.109375 53.6875 14.9375 \nQ 60.6875 21.78125 60.6875 36.53125 \nQ 60.6875 51.171875 53.6875 57.984375 \nQ 46.6875 64.796875 31.59375 64.796875 \nz\nM 9.8125 72.90625 \nL 30.078125 72.90625 \nQ 51.265625 72.90625 61.171875 64.09375 \nQ 71.09375 55.28125 71.09375 36.53125 \nQ 71.09375 17.671875 61.125 8.828125 \nQ 51.171875 0 30.078125 0 \nL 9.8125 0 \nz\n\" id=\"DejaVuSans-68\"/>\n     <path d=\"M 4.890625 31.390625 \nL 31.203125 31.390625 \nL 31.203125 23.390625 \nL 4.890625 23.390625 \nz\n\" id=\"DejaVuSans-45\"/>\n     <path d=\"M 10.984375 1.515625 \nL 10.984375 10.5 \nQ 14.703125 8.734375 18.5 7.8125 \nQ 22.3125 6.890625 25.984375 6.890625 \nQ 35.75 6.890625 40.890625 13.453125 \nQ 46.046875 20.015625 46.78125 33.40625 \nQ 43.953125 29.203125 39.59375 26.953125 \nQ 35.25 24.703125 29.984375 24.703125 \nQ 19.046875 24.703125 12.671875 31.3125 \nQ 6.296875 37.9375 6.296875 49.421875 \nQ 6.296875 60.640625 12.9375 67.421875 \nQ 19.578125 74.21875 30.609375 74.21875 \nQ 43.265625 74.21875 49.921875 64.515625 \nQ 56.59375 54.828125 56.59375 36.375 \nQ 56.59375 19.140625 48.40625 8.859375 \nQ 40.234375 -1.421875 26.421875 -1.421875 \nQ 22.703125 -1.421875 18.890625 -0.6875 \nQ 15.09375 0.046875 10.984375 1.515625 \nz\nM 30.609375 32.421875 \nQ 37.25 32.421875 41.125 36.953125 \nQ 45.015625 41.5 45.015625 49.421875 \nQ 45.015625 57.28125 41.125 61.84375 \nQ 37.25 66.40625 30.609375 66.40625 \nQ 23.96875 66.40625 20.09375 61.84375 \nQ 16.21875 57.28125 16.21875 49.421875 \nQ 16.21875 41.5 20.09375 36.953125 \nQ 23.96875 32.421875 30.609375 32.421875 \nz\n\" id=\"DejaVuSans-57\"/>\n    </defs>\n    <g style=\"fill:#262626;\" transform=\"translate(78.824631 16.318125)scale(0.12 -0.12)\">\n     <use xlink:href=\"#DejaVuSans-67\"/>\n     <use x=\"69.824219\" xlink:href=\"#DejaVuSans-105\"/>\n     <use x=\"97.607422\" xlink:href=\"#DejaVuSans-110\"/>\n     <use x=\"160.986328\" xlink:href=\"#DejaVuSans-99\"/>\n     <use x=\"215.966797\" xlink:href=\"#DejaVuSans-111\"/>\n     <use x=\"277.148438\" xlink:href=\"#DejaVuSans-32\"/>\n     <use x=\"308.935547\" xlink:href=\"#DejaVuSans-112\"/>\n     <use x=\"372.412109\" xlink:href=\"#DejaVuSans-97\"/>\n     <use x=\"433.691406\" xlink:href=\"#DejaVuSans-105\"/>\n     <use x=\"461.474609\" xlink:href=\"#DejaVuSans-115\"/>\n     <use x=\"513.574219\" xlink:href=\"#DejaVuSans-101\"/>\n     <use x=\"575.097656\" xlink:href=\"#DejaVuSans-115\"/>\n     <use x=\"627.197266\" xlink:href=\"#DejaVuSans-32\"/>\n     <use x=\"658.984375\" xlink:href=\"#DejaVuSans-99\"/>\n     <use x=\"713.964844\" xlink:href=\"#DejaVuSans-111\"/>\n     <use x=\"775.146484\" xlink:href=\"#DejaVuSans-109\"/>\n     <use x=\"872.558594\" xlink:href=\"#DejaVuSans-32\"/>\n     <use x=\"904.345703\" xlink:href=\"#DejaVuSans-109\"/>\n     <use x=\"1001.757812\" xlink:href=\"#DejaVuSans-97\"/>\n     <use x=\"1063.037109\" xlink:href=\"#DejaVuSans-105\"/>\n     <use x=\"1090.820312\" xlink:href=\"#DejaVuSans-115\"/>\n     <use x=\"1142.919922\" xlink:href=\"#DejaVuSans-32\"/>\n     <use x=\"1174.707031\" xlink:href=\"#DejaVuSans-109\"/>\n     <use x=\"1272.119141\" xlink:href=\"#DejaVuSans-111\"/>\n     <use x=\"1333.300781\" xlink:href=\"#DejaVuSans-114\"/>\n     <use x=\"1374.414062\" xlink:href=\"#DejaVuSans-116\"/>\n     <use x=\"1413.623047\" xlink:href=\"#DejaVuSans-101\"/>\n     <use x=\"1475.146484\" xlink:href=\"#DejaVuSans-115\"/>\n     <use x=\"1527.246094\" xlink:href=\"#DejaVuSans-32\"/>\n     <use x=\"1559.033203\" xlink:href=\"#DejaVuSans-100\"/>\n     <use x=\"1622.509766\" xlink:href=\"#DejaVuSans-101\"/>\n     <use x=\"1684.033203\" xlink:href=\"#DejaVuSans-32\"/>\n     <use x=\"1715.820312\" xlink:href=\"#DejaVuSans-67\"/>\n     <use x=\"1785.644531\" xlink:href=\"#DejaVuSans-79\"/>\n     <use x=\"1862.605469\" xlink:href=\"#DejaVuSans-86\"/>\n     <use x=\"1931.013672\" xlink:href=\"#DejaVuSans-73\"/>\n     <use x=\"1960.505859\" xlink:href=\"#DejaVuSans-68\"/>\n     <use x=\"2037.507812\" xlink:href=\"#DejaVuSans-45\"/>\n     <use x=\"2073.591797\" xlink:href=\"#DejaVuSans-49\"/>\n     <use x=\"2137.214844\" xlink:href=\"#DejaVuSans-57\"/>\n    </g>\n   </g>\n  </g>\n  <g id=\"axes_2\">\n   <g id=\"patch_12\">\n    <path d=\"M 423.928864 294.118125 \nL 728.2925 294.118125 \nL 728.2925 22.318125 \nL 423.928864 22.318125 \nz\n\" style=\"fill:#eaeaf2;\"/>\n   </g>\n   <g id=\"matplotlib.axis_3\">\n    <g id=\"xtick_6\">\n     <g id=\"line2d_13\">\n      <path clip-path=\"url(#p06856896b0)\" d=\"M 460.821426 294.118125 \nL 460.821426 22.318125 \n\" style=\"fill:none;stroke:#ffffff;stroke-linecap:round;\"/>\n     </g>\n     <g id=\"text_14\">\n      <!-- United States -->\n      <g style=\"fill:#262626;\" transform=\"translate(423.578691 311.976406)scale(0.11 -0.11)\">\n       <use xlink:href=\"#DejaVuSans-85\"/>\n       <use x=\"73.193359\" xlink:href=\"#DejaVuSans-110\"/>\n       <use x=\"136.572266\" xlink:href=\"#DejaVuSans-105\"/>\n       <use x=\"164.355469\" xlink:href=\"#DejaVuSans-116\"/>\n       <use x=\"203.564453\" xlink:href=\"#DejaVuSans-101\"/>\n       <use x=\"265.087891\" xlink:href=\"#DejaVuSans-100\"/>\n       <use x=\"328.564453\" xlink:href=\"#DejaVuSans-32\"/>\n       <use x=\"360.351562\" xlink:href=\"#DejaVuSans-83\"/>\n       <use x=\"423.828125\" xlink:href=\"#DejaVuSans-116\"/>\n       <use x=\"463.037109\" xlink:href=\"#DejaVuSans-97\"/>\n       <use x=\"524.316406\" xlink:href=\"#DejaVuSans-116\"/>\n       <use x=\"563.525391\" xlink:href=\"#DejaVuSans-101\"/>\n       <use x=\"625.048828\" xlink:href=\"#DejaVuSans-115\"/>\n      </g>\n     </g>\n    </g>\n    <g id=\"xtick_7\">\n     <g id=\"line2d_14\">\n      <path clip-path=\"url(#p06856896b0)\" d=\"M 518.466054 294.118125 \nL 518.466054 22.318125 \n\" style=\"fill:none;stroke:#ffffff;stroke-linecap:round;\"/>\n     </g>\n     <g id=\"text_15\">\n      <!-- Brazil -->\n      <g style=\"fill:#262626;\" transform=\"translate(503.118476 311.976406)scale(0.11 -0.11)\">\n       <use xlink:href=\"#DejaVuSans-66\"/>\n       <use x=\"68.603516\" xlink:href=\"#DejaVuSans-114\"/>\n       <use x=\"109.716797\" xlink:href=\"#DejaVuSans-97\"/>\n       <use x=\"170.996094\" xlink:href=\"#DejaVuSans-122\"/>\n       <use x=\"223.486328\" xlink:href=\"#DejaVuSans-105\"/>\n       <use x=\"251.269531\" xlink:href=\"#DejaVuSans-108\"/>\n      </g>\n     </g>\n    </g>\n    <g id=\"xtick_8\">\n     <g id=\"line2d_15\">\n      <path clip-path=\"url(#p06856896b0)\" d=\"M 576.110682 294.118125 \nL 576.110682 22.318125 \n\" style=\"fill:none;stroke:#ffffff;stroke-linecap:round;\"/>\n     </g>\n     <g id=\"text_16\">\n      <!-- Russia -->\n      <g style=\"fill:#262626;\" transform=\"translate(558.422166 311.976406)scale(0.11 -0.11)\">\n       <use xlink:href=\"#DejaVuSans-82\"/>\n       <use x=\"64.982422\" xlink:href=\"#DejaVuSans-117\"/>\n       <use x=\"128.361328\" xlink:href=\"#DejaVuSans-115\"/>\n       <use x=\"180.460938\" xlink:href=\"#DejaVuSans-115\"/>\n       <use x=\"232.560547\" xlink:href=\"#DejaVuSans-105\"/>\n       <use x=\"260.34375\" xlink:href=\"#DejaVuSans-97\"/>\n      </g>\n     </g>\n    </g>\n    <g id=\"xtick_9\">\n     <g id=\"line2d_16\">\n      <path clip-path=\"url(#p06856896b0)\" d=\"M 633.75531 294.118125 \nL 633.75531 22.318125 \n\" style=\"fill:none;stroke:#ffffff;stroke-linecap:round;\"/>\n     </g>\n     <g id=\"text_17\">\n      <!-- India -->\n      <g style=\"fill:#262626;\" transform=\"translate(620.257107 311.976406)scale(0.11 -0.11)\">\n       <use xlink:href=\"#DejaVuSans-73\"/>\n       <use x=\"29.492188\" xlink:href=\"#DejaVuSans-110\"/>\n       <use x=\"92.871094\" xlink:href=\"#DejaVuSans-100\"/>\n       <use x=\"156.347656\" xlink:href=\"#DejaVuSans-105\"/>\n       <use x=\"184.130859\" xlink:href=\"#DejaVuSans-97\"/>\n      </g>\n     </g>\n    </g>\n    <g id=\"xtick_10\">\n     <g id=\"line2d_17\">\n      <path clip-path=\"url(#p06856896b0)\" d=\"M 691.399938 294.118125 \nL 691.399938 22.318125 \n\" style=\"fill:none;stroke:#ffffff;stroke-linecap:round;\"/>\n     </g>\n     <g id=\"text_18\">\n      <!-- United Kingdom -->\n      <g style=\"fill:#262626;\" transform=\"translate(647.254704 311.976406)scale(0.11 -0.11)\">\n       <use xlink:href=\"#DejaVuSans-85\"/>\n       <use x=\"73.193359\" xlink:href=\"#DejaVuSans-110\"/>\n       <use x=\"136.572266\" xlink:href=\"#DejaVuSans-105\"/>\n       <use x=\"164.355469\" xlink:href=\"#DejaVuSans-116\"/>\n       <use x=\"203.564453\" xlink:href=\"#DejaVuSans-101\"/>\n       <use x=\"265.087891\" xlink:href=\"#DejaVuSans-100\"/>\n       <use x=\"328.564453\" xlink:href=\"#DejaVuSans-32\"/>\n       <use x=\"360.351562\" xlink:href=\"#DejaVuSans-75\"/>\n       <use x=\"425.927734\" xlink:href=\"#DejaVuSans-105\"/>\n       <use x=\"453.710938\" xlink:href=\"#DejaVuSans-110\"/>\n       <use x=\"517.089844\" xlink:href=\"#DejaVuSans-103\"/>\n       <use x=\"580.566406\" xlink:href=\"#DejaVuSans-100\"/>\n       <use x=\"644.042969\" xlink:href=\"#DejaVuSans-111\"/>\n       <use x=\"705.224609\" xlink:href=\"#DejaVuSans-109\"/>\n      </g>\n     </g>\n    </g>\n   </g>\n   <g id=\"matplotlib.axis_4\">\n    <g id=\"ytick_8\">\n     <g id=\"line2d_18\">\n      <path clip-path=\"url(#p06856896b0)\" d=\"M 423.928864 294.118125 \nL 728.2925 294.118125 \n\" style=\"fill:none;stroke:#ffffff;stroke-linecap:round;\"/>\n     </g>\n     <g id=\"text_19\">\n      <!-- 0.00 -->\n      <defs>\n       <path d=\"M 10.6875 12.40625 \nL 21 12.40625 \nL 21 0 \nL 10.6875 0 \nz\n\" id=\"DejaVuSans-46\"/>\n      </defs>\n      <g style=\"fill:#262626;\" transform=\"translate(389.936676 298.297266)scale(0.11 -0.11)\">\n       <use xlink:href=\"#DejaVuSans-48\"/>\n       <use x=\"63.623047\" xlink:href=\"#DejaVuSans-46\"/>\n       <use x=\"95.410156\" xlink:href=\"#DejaVuSans-48\"/>\n       <use x=\"159.033203\" xlink:href=\"#DejaVuSans-48\"/>\n      </g>\n     </g>\n    </g>\n    <g id=\"ytick_9\">\n     <g id=\"line2d_19\">\n      <path clip-path=\"url(#p06856896b0)\" d=\"M 423.928864 262.923391 \nL 728.2925 262.923391 \n\" style=\"fill:none;stroke:#ffffff;stroke-linecap:round;\"/>\n     </g>\n     <g id=\"text_20\">\n      <!-- 0.25 -->\n      <defs>\n       <path d=\"M 10.796875 72.90625 \nL 49.515625 72.90625 \nL 49.515625 64.59375 \nL 19.828125 64.59375 \nL 19.828125 46.734375 \nQ 21.96875 47.46875 24.109375 47.828125 \nQ 26.265625 48.1875 28.421875 48.1875 \nQ 40.625 48.1875 47.75 41.5 \nQ 54.890625 34.8125 54.890625 23.390625 \nQ 54.890625 11.625 47.5625 5.09375 \nQ 40.234375 -1.421875 26.90625 -1.421875 \nQ 22.3125 -1.421875 17.546875 -0.640625 \nQ 12.796875 0.140625 7.71875 1.703125 \nL 7.71875 11.625 \nQ 12.109375 9.234375 16.796875 8.0625 \nQ 21.484375 6.890625 26.703125 6.890625 \nQ 35.15625 6.890625 40.078125 11.328125 \nQ 45.015625 15.765625 45.015625 23.390625 \nQ 45.015625 31 40.078125 35.4375 \nQ 35.15625 39.890625 26.703125 39.890625 \nQ 22.75 39.890625 18.8125 39.015625 \nQ 14.890625 38.140625 10.796875 36.28125 \nz\n\" id=\"DejaVuSans-53\"/>\n      </defs>\n      <g style=\"fill:#262626;\" transform=\"translate(389.936676 267.102532)scale(0.11 -0.11)\">\n       <use xlink:href=\"#DejaVuSans-48\"/>\n       <use x=\"63.623047\" xlink:href=\"#DejaVuSans-46\"/>\n       <use x=\"95.410156\" xlink:href=\"#DejaVuSans-50\"/>\n       <use x=\"159.033203\" xlink:href=\"#DejaVuSans-53\"/>\n      </g>\n     </g>\n    </g>\n    <g id=\"ytick_10\">\n     <g id=\"line2d_20\">\n      <path clip-path=\"url(#p06856896b0)\" d=\"M 423.928864 231.728658 \nL 728.2925 231.728658 \n\" style=\"fill:none;stroke:#ffffff;stroke-linecap:round;\"/>\n     </g>\n     <g id=\"text_21\">\n      <!-- 0.50 -->\n      <g style=\"fill:#262626;\" transform=\"translate(389.936676 235.907799)scale(0.11 -0.11)\">\n       <use xlink:href=\"#DejaVuSans-48\"/>\n       <use x=\"63.623047\" xlink:href=\"#DejaVuSans-46\"/>\n       <use x=\"95.410156\" xlink:href=\"#DejaVuSans-53\"/>\n       <use x=\"159.033203\" xlink:href=\"#DejaVuSans-48\"/>\n      </g>\n     </g>\n    </g>\n    <g id=\"ytick_11\">\n     <g id=\"line2d_21\">\n      <path clip-path=\"url(#p06856896b0)\" d=\"M 423.928864 200.533924 \nL 728.2925 200.533924 \n\" style=\"fill:none;stroke:#ffffff;stroke-linecap:round;\"/>\n     </g>\n     <g id=\"text_22\">\n      <!-- 0.75 -->\n      <defs>\n       <path d=\"M 8.203125 72.90625 \nL 55.078125 72.90625 \nL 55.078125 68.703125 \nL 28.609375 0 \nL 18.3125 0 \nL 43.21875 64.59375 \nL 8.203125 64.59375 \nz\n\" id=\"DejaVuSans-55\"/>\n      </defs>\n      <g style=\"fill:#262626;\" transform=\"translate(389.936676 204.713065)scale(0.11 -0.11)\">\n       <use xlink:href=\"#DejaVuSans-48\"/>\n       <use x=\"63.623047\" xlink:href=\"#DejaVuSans-46\"/>\n       <use x=\"95.410156\" xlink:href=\"#DejaVuSans-55\"/>\n       <use x=\"159.033203\" xlink:href=\"#DejaVuSans-53\"/>\n      </g>\n     </g>\n    </g>\n    <g id=\"ytick_12\">\n     <g id=\"line2d_22\">\n      <path clip-path=\"url(#p06856896b0)\" d=\"M 423.928864 169.339191 \nL 728.2925 169.339191 \n\" style=\"fill:none;stroke:#ffffff;stroke-linecap:round;\"/>\n     </g>\n     <g id=\"text_23\">\n      <!-- 1.00 -->\n      <g style=\"fill:#262626;\" transform=\"translate(389.936676 173.518332)scale(0.11 -0.11)\">\n       <use xlink:href=\"#DejaVuSans-49\"/>\n       <use x=\"63.623047\" xlink:href=\"#DejaVuSans-46\"/>\n       <use x=\"95.410156\" xlink:href=\"#DejaVuSans-48\"/>\n       <use x=\"159.033203\" xlink:href=\"#DejaVuSans-48\"/>\n      </g>\n     </g>\n    </g>\n    <g id=\"ytick_13\">\n     <g id=\"line2d_23\">\n      <path clip-path=\"url(#p06856896b0)\" d=\"M 423.928864 138.144457 \nL 728.2925 138.144457 \n\" style=\"fill:none;stroke:#ffffff;stroke-linecap:round;\"/>\n     </g>\n     <g id=\"text_24\">\n      <!-- 1.25 -->\n      <g style=\"fill:#262626;\" transform=\"translate(389.936676 142.323598)scale(0.11 -0.11)\">\n       <use xlink:href=\"#DejaVuSans-49\"/>\n       <use x=\"63.623047\" xlink:href=\"#DejaVuSans-46\"/>\n       <use x=\"95.410156\" xlink:href=\"#DejaVuSans-50\"/>\n       <use x=\"159.033203\" xlink:href=\"#DejaVuSans-53\"/>\n      </g>\n     </g>\n    </g>\n    <g id=\"ytick_14\">\n     <g id=\"line2d_24\">\n      <path clip-path=\"url(#p06856896b0)\" d=\"M 423.928864 106.949724 \nL 728.2925 106.949724 \n\" style=\"fill:none;stroke:#ffffff;stroke-linecap:round;\"/>\n     </g>\n     <g id=\"text_25\">\n      <!-- 1.50 -->\n      <g style=\"fill:#262626;\" transform=\"translate(389.936676 111.128865)scale(0.11 -0.11)\">\n       <use xlink:href=\"#DejaVuSans-49\"/>\n       <use x=\"63.623047\" xlink:href=\"#DejaVuSans-46\"/>\n       <use x=\"95.410156\" xlink:href=\"#DejaVuSans-53\"/>\n       <use x=\"159.033203\" xlink:href=\"#DejaVuSans-48\"/>\n      </g>\n     </g>\n    </g>\n    <g id=\"ytick_15\">\n     <g id=\"line2d_25\">\n      <path clip-path=\"url(#p06856896b0)\" d=\"M 423.928864 75.75499 \nL 728.2925 75.75499 \n\" style=\"fill:none;stroke:#ffffff;stroke-linecap:round;\"/>\n     </g>\n     <g id=\"text_26\">\n      <!-- 1.75 -->\n      <g style=\"fill:#262626;\" transform=\"translate(389.936676 79.934131)scale(0.11 -0.11)\">\n       <use xlink:href=\"#DejaVuSans-49\"/>\n       <use x=\"63.623047\" xlink:href=\"#DejaVuSans-46\"/>\n       <use x=\"95.410156\" xlink:href=\"#DejaVuSans-55\"/>\n       <use x=\"159.033203\" xlink:href=\"#DejaVuSans-53\"/>\n      </g>\n     </g>\n    </g>\n    <g id=\"ytick_16\">\n     <g id=\"line2d_26\">\n      <path clip-path=\"url(#p06856896b0)\" d=\"M 423.928864 44.560257 \nL 728.2925 44.560257 \n\" style=\"fill:none;stroke:#ffffff;stroke-linecap:round;\"/>\n     </g>\n     <g id=\"text_27\">\n      <!-- 2.00 -->\n      <g style=\"fill:#262626;\" transform=\"translate(389.936676 48.739398)scale(0.11 -0.11)\">\n       <use xlink:href=\"#DejaVuSans-50\"/>\n       <use x=\"63.623047\" xlink:href=\"#DejaVuSans-46\"/>\n       <use x=\"95.410156\" xlink:href=\"#DejaVuSans-48\"/>\n       <use x=\"159.033203\" xlink:href=\"#DejaVuSans-48\"/>\n      </g>\n     </g>\n    </g>\n    <g id=\"text_28\">\n     <!-- 1e6 -->\n     <g style=\"fill:#262626;\" transform=\"translate(423.928864 19.318125)scale(0.11 -0.11)\">\n      <use xlink:href=\"#DejaVuSans-49\"/>\n      <use x=\"63.623047\" xlink:href=\"#DejaVuSans-101\"/>\n      <use x=\"125.146484\" xlink:href=\"#DejaVuSans-54\"/>\n     </g>\n    </g>\n   </g>\n   <g id=\"patch_13\">\n    <path clip-path=\"url(#p06856896b0)\" d=\"M 437.763574 294.118125 \nL 483.879277 294.118125 \nL 483.879277 257.386326 \nL 437.763574 257.386326 \nz\n\" style=\"fill:#071e3d;stroke:#ffffff;stroke-linejoin:miter;\"/>\n   </g>\n   <g id=\"patch_14\">\n    <path clip-path=\"url(#p06856896b0)\" d=\"M 495.408202 294.118125 \nL 541.523905 294.118125 \nL 541.523905 254.07382 \nL 495.408202 254.07382 \nz\n\" style=\"fill:#071e3d;stroke:#ffffff;stroke-linejoin:miter;\"/>\n   </g>\n   <g id=\"patch_15\">\n    <path clip-path=\"url(#p06856896b0)\" d=\"M 553.052831 294.118125 \nL 599.168533 294.118125 \nL 599.168533 229.216983 \nL 553.052831 229.216983 \nz\n\" style=\"fill:#071e3d;stroke:#ffffff;stroke-linejoin:miter;\"/>\n   </g>\n   <g id=\"patch_16\">\n    <path clip-path=\"url(#p06856896b0)\" d=\"M 610.697459 294.118125 \nL 656.813161 294.118125 \nL 656.813161 187.991895 \nL 610.697459 187.991895 \nz\n\" style=\"fill:#071e3d;stroke:#ffffff;stroke-linejoin:miter;\"/>\n   </g>\n   <g id=\"patch_17\">\n    <path clip-path=\"url(#p06856896b0)\" d=\"M 668.342087 294.118125 \nL 714.457789 294.118125 \nL 714.457789 35.260982 \nL 668.342087 35.260982 \nz\n\" style=\"fill:#071e3d;stroke:#ffffff;stroke-linejoin:miter;\"/>\n   </g>\n   <g id=\"patch_18\">\n    <path d=\"M 423.928864 294.118125 \nL 423.928864 22.318125 \n\" style=\"fill:none;stroke:#ffffff;stroke-linecap:square;stroke-linejoin:miter;stroke-width:1.25;\"/>\n   </g>\n   <g id=\"patch_19\">\n    <path d=\"M 728.2925 294.118125 \nL 728.2925 22.318125 \n\" style=\"fill:none;stroke:#ffffff;stroke-linecap:square;stroke-linejoin:miter;stroke-width:1.25;\"/>\n   </g>\n   <g id=\"patch_20\">\n    <path d=\"M 423.928864 294.118125 \nL 728.2925 294.118125 \n\" style=\"fill:none;stroke:#ffffff;stroke-linecap:square;stroke-linejoin:miter;stroke-width:1.25;\"/>\n   </g>\n   <g id=\"patch_21\">\n    <path d=\"M 423.928864 22.318125 \nL 728.2925 22.318125 \n\" style=\"fill:none;stroke:#ffffff;stroke-linecap:square;stroke-linejoin:miter;stroke-width:1.25;\"/>\n   </g>\n   <g id=\"text_29\">\n    <!-- Cinco paises com mais casos de COVID-19 -->\n    <g style=\"fill:#262626;\" transform=\"translate(448.314432 16.318125)scale(0.12 -0.12)\">\n     <use xlink:href=\"#DejaVuSans-67\"/>\n     <use x=\"69.824219\" xlink:href=\"#DejaVuSans-105\"/>\n     <use x=\"97.607422\" xlink:href=\"#DejaVuSans-110\"/>\n     <use x=\"160.986328\" xlink:href=\"#DejaVuSans-99\"/>\n     <use x=\"215.966797\" xlink:href=\"#DejaVuSans-111\"/>\n     <use x=\"277.148438\" xlink:href=\"#DejaVuSans-32\"/>\n     <use x=\"308.935547\" xlink:href=\"#DejaVuSans-112\"/>\n     <use x=\"372.412109\" xlink:href=\"#DejaVuSans-97\"/>\n     <use x=\"433.691406\" xlink:href=\"#DejaVuSans-105\"/>\n     <use x=\"461.474609\" xlink:href=\"#DejaVuSans-115\"/>\n     <use x=\"513.574219\" xlink:href=\"#DejaVuSans-101\"/>\n     <use x=\"575.097656\" xlink:href=\"#DejaVuSans-115\"/>\n     <use x=\"627.197266\" xlink:href=\"#DejaVuSans-32\"/>\n     <use x=\"658.984375\" xlink:href=\"#DejaVuSans-99\"/>\n     <use x=\"713.964844\" xlink:href=\"#DejaVuSans-111\"/>\n     <use x=\"775.146484\" xlink:href=\"#DejaVuSans-109\"/>\n     <use x=\"872.558594\" xlink:href=\"#DejaVuSans-32\"/>\n     <use x=\"904.345703\" xlink:href=\"#DejaVuSans-109\"/>\n     <use x=\"1001.757812\" xlink:href=\"#DejaVuSans-97\"/>\n     <use x=\"1063.037109\" xlink:href=\"#DejaVuSans-105\"/>\n     <use x=\"1090.820312\" xlink:href=\"#DejaVuSans-115\"/>\n     <use x=\"1142.919922\" xlink:href=\"#DejaVuSans-32\"/>\n     <use x=\"1174.707031\" xlink:href=\"#DejaVuSans-99\"/>\n     <use x=\"1229.6875\" xlink:href=\"#DejaVuSans-97\"/>\n     <use x=\"1290.966797\" xlink:href=\"#DejaVuSans-115\"/>\n     <use x=\"1343.066406\" xlink:href=\"#DejaVuSans-111\"/>\n     <use x=\"1404.248047\" xlink:href=\"#DejaVuSans-115\"/>\n     <use x=\"1456.347656\" xlink:href=\"#DejaVuSans-32\"/>\n     <use x=\"1488.134766\" xlink:href=\"#DejaVuSans-100\"/>\n     <use x=\"1551.611328\" xlink:href=\"#DejaVuSans-101\"/>\n     <use x=\"1613.134766\" xlink:href=\"#DejaVuSans-32\"/>\n     <use x=\"1644.921875\" xlink:href=\"#DejaVuSans-67\"/>\n     <use x=\"1714.746094\" xlink:href=\"#DejaVuSans-79\"/>\n     <use x=\"1791.707031\" xlink:href=\"#DejaVuSans-86\"/>\n     <use x=\"1860.115234\" xlink:href=\"#DejaVuSans-73\"/>\n     <use x=\"1889.607422\" xlink:href=\"#DejaVuSans-68\"/>\n     <use x=\"1966.609375\" xlink:href=\"#DejaVuSans-45\"/>\n     <use x=\"2002.693359\" xlink:href=\"#DejaVuSans-49\"/>\n     <use x=\"2066.316406\" xlink:href=\"#DejaVuSans-57\"/>\n    </g>\n   </g>\n  </g>\n </g>\n <defs>\n  <clipPath id=\"pdec85ee05e\">\n   <rect height=\"271.8\" width=\"304.363636\" x=\"58.6925\" y=\"22.318125\"/>\n  </clipPath>\n  <clipPath id=\"p06856896b0\">\n   <rect height=\"271.8\" width=\"304.363636\" x=\"423.928864\" y=\"22.318125\"/>\n  </clipPath>\n </defs>\n</svg>\n"
          },
          "metadata": {
            "tags": [],
            "needs_background": "light"
          }
        }
      ]
    },
    {
      "cell_type": "markdown",
      "metadata": {
        "id": "faKOHYFIwZrj",
        "colab_type": "text"
      },
      "source": [
        "...Escrever"
      ]
    },
    {
      "cell_type": "markdown",
      "metadata": {
        "id": "GBN2_9QHmB4-",
        "colab_type": "text"
      },
      "source": [
        "#Como está o covide do mundo no tempo?\n",
        "\n"
      ]
    },
    {
      "cell_type": "code",
      "metadata": {
        "id": "9ePaOjLuybVv",
        "colab_type": "code",
        "cellView": "form",
        "colab": {}
      },
      "source": [
        "#@title\n",
        "covid_clear = covid_clear.reset_index()\n",
        "covid_data = covid_clear"
      ],
      "execution_count": null,
      "outputs": []
    },
    {
      "cell_type": "code",
      "metadata": {
        "id": "OldT0Y2w3bT5",
        "colab_type": "code",
        "colab": {
          "base_uri": "https://localhost:8080/",
          "height": 194
        },
        "outputId": "377eb741-1980-42d5-aa71-45be9cbad981"
      },
      "source": [
        "covid_data.head()"
      ],
      "execution_count": null,
      "outputs": [
        {
          "output_type": "execute_result",
          "data": {
            "text/html": [
              "<div>\n",
              "<style scoped>\n",
              "    .dataframe tbody tr th:only-of-type {\n",
              "        vertical-align: middle;\n",
              "    }\n",
              "\n",
              "    .dataframe tbody tr th {\n",
              "        vertical-align: top;\n",
              "    }\n",
              "\n",
              "    .dataframe thead th {\n",
              "        text-align: right;\n",
              "    }\n",
              "</style>\n",
              "<table border=\"1\" class=\"dataframe\">\n",
              "  <thead>\n",
              "    <tr style=\"text-align: right;\">\n",
              "      <th></th>\n",
              "      <th>location</th>\n",
              "      <th>date</th>\n",
              "      <th>total_deaths</th>\n",
              "      <th>total_cases</th>\n",
              "      <th>gdp_per_capita</th>\n",
              "    </tr>\n",
              "  </thead>\n",
              "  <tbody>\n",
              "    <tr>\n",
              "      <th>0</th>\n",
              "      <td>Afghanistan</td>\n",
              "      <td>2019-12-31</td>\n",
              "      <td>0.0</td>\n",
              "      <td>0.0</td>\n",
              "      <td>1803.987</td>\n",
              "    </tr>\n",
              "    <tr>\n",
              "      <th>1</th>\n",
              "      <td>Afghanistan</td>\n",
              "      <td>2020-01-01</td>\n",
              "      <td>0.0</td>\n",
              "      <td>0.0</td>\n",
              "      <td>1803.987</td>\n",
              "    </tr>\n",
              "    <tr>\n",
              "      <th>2</th>\n",
              "      <td>Afghanistan</td>\n",
              "      <td>2020-01-02</td>\n",
              "      <td>0.0</td>\n",
              "      <td>0.0</td>\n",
              "      <td>1803.987</td>\n",
              "    </tr>\n",
              "    <tr>\n",
              "      <th>3</th>\n",
              "      <td>Afghanistan</td>\n",
              "      <td>2020-01-03</td>\n",
              "      <td>0.0</td>\n",
              "      <td>0.0</td>\n",
              "      <td>1803.987</td>\n",
              "    </tr>\n",
              "    <tr>\n",
              "      <th>4</th>\n",
              "      <td>Afghanistan</td>\n",
              "      <td>2020-01-04</td>\n",
              "      <td>0.0</td>\n",
              "      <td>0.0</td>\n",
              "      <td>1803.987</td>\n",
              "    </tr>\n",
              "  </tbody>\n",
              "</table>\n",
              "</div>"
            ],
            "text/plain": [
              "      location       date  total_deaths  total_cases  gdp_per_capita\n",
              "0  Afghanistan 2019-12-31           0.0          0.0        1803.987\n",
              "1  Afghanistan 2020-01-01           0.0          0.0        1803.987\n",
              "2  Afghanistan 2020-01-02           0.0          0.0        1803.987\n",
              "3  Afghanistan 2020-01-03           0.0          0.0        1803.987\n",
              "4  Afghanistan 2020-01-04           0.0          0.0        1803.987"
            ]
          },
          "metadata": {
            "tags": []
          },
          "execution_count": 249
        }
      ]
    },
    {
      "cell_type": "code",
      "metadata": {
        "id": "Q2KVDINdyLLW",
        "colab_type": "code",
        "colab": {}
      },
      "source": [
        "covid_data_cases = covid_data.iloc[:, [1,3]]\n",
        "covid_data_cases = covid_data_cases.sort_values(by = \"total_cases\")"
      ],
      "execution_count": null,
      "outputs": []
    },
    {
      "cell_type": "code",
      "metadata": {
        "id": "ZwBmg_ymy748",
        "colab_type": "code",
        "colab": {}
      },
      "source": [
        "covid_data_cases = covid_data_cases.groupby([\"date\"]).sum()"
      ],
      "execution_count": null,
      "outputs": []
    },
    {
      "cell_type": "code",
      "metadata": {
        "id": "ALwSK6Hk3Jhi",
        "colab_type": "code",
        "colab": {
          "base_uri": "https://localhost:8080/",
          "height": 223
        },
        "outputId": "03f0a182-7e80-4276-fdd8-0e24656b6e6b"
      },
      "source": [
        "covid_data_cases.head()"
      ],
      "execution_count": null,
      "outputs": [
        {
          "output_type": "execute_result",
          "data": {
            "text/html": [
              "<div>\n",
              "<style scoped>\n",
              "    .dataframe tbody tr th:only-of-type {\n",
              "        vertical-align: middle;\n",
              "    }\n",
              "\n",
              "    .dataframe tbody tr th {\n",
              "        vertical-align: top;\n",
              "    }\n",
              "\n",
              "    .dataframe thead th {\n",
              "        text-align: right;\n",
              "    }\n",
              "</style>\n",
              "<table border=\"1\" class=\"dataframe\">\n",
              "  <thead>\n",
              "    <tr style=\"text-align: right;\">\n",
              "      <th></th>\n",
              "      <th>total_cases</th>\n",
              "    </tr>\n",
              "    <tr>\n",
              "      <th>date</th>\n",
              "      <th></th>\n",
              "    </tr>\n",
              "  </thead>\n",
              "  <tbody>\n",
              "    <tr>\n",
              "      <th>2019-12-31</th>\n",
              "      <td>27.0</td>\n",
              "    </tr>\n",
              "    <tr>\n",
              "      <th>2020-01-01</th>\n",
              "      <td>27.0</td>\n",
              "    </tr>\n",
              "    <tr>\n",
              "      <th>2020-01-02</th>\n",
              "      <td>27.0</td>\n",
              "    </tr>\n",
              "    <tr>\n",
              "      <th>2020-01-03</th>\n",
              "      <td>44.0</td>\n",
              "    </tr>\n",
              "    <tr>\n",
              "      <th>2020-01-04</th>\n",
              "      <td>44.0</td>\n",
              "    </tr>\n",
              "  </tbody>\n",
              "</table>\n",
              "</div>"
            ],
            "text/plain": [
              "            total_cases\n",
              "date                   \n",
              "2019-12-31         27.0\n",
              "2020-01-01         27.0\n",
              "2020-01-02         27.0\n",
              "2020-01-03         44.0\n",
              "2020-01-04         44.0"
            ]
          },
          "metadata": {
            "tags": []
          },
          "execution_count": 259
        }
      ]
    },
    {
      "cell_type": "code",
      "metadata": {
        "id": "nf8OKILMxABe",
        "colab_type": "code",
        "colab": {
          "base_uri": "https://localhost:8080/",
          "height": 522
        },
        "outputId": "b67504f8-94e7-4af1-91e0-3311dd02e1a1"
      },
      "source": [
        "fig, ax = plt.subplots(figsize = (15,6))\n",
        "\n",
        "ax.plot(covid_data_cases, color = \"#ff304f\")\n",
        "plt.title(\"Número de casos de COVID-19 no mundo\")\n",
        "plt.show()"
      ],
      "execution_count": null,
      "outputs": [
        {
          "output_type": "display_data",
          "data": {
            "text/plain": [
              "<Figure size 1080x432 with 1 Axes>"
            ],
            "image/svg+xml": "<?xml version=\"1.0\" encoding=\"utf-8\" standalone=\"no\"?>\n<!DOCTYPE svg PUBLIC \"-//W3C//DTD SVG 1.1//EN\"\n  \"http://www.w3.org/Graphics/SVG/1.1/DTD/svg11.dtd\">\n<!-- Created with matplotlib (https://matplotlib.org/) -->\n<svg height=\"375.824062pt\" version=\"1.1\" viewBox=\"0 0 867.89875 375.824062\" width=\"867.89875pt\" xmlns=\"http://www.w3.org/2000/svg\" xmlns:xlink=\"http://www.w3.org/1999/xlink\">\n <defs>\n  <style type=\"text/css\">\n*{stroke-linecap:butt;stroke-linejoin:round;}\n  </style>\n </defs>\n <g id=\"figure_1\">\n  <g id=\"patch_1\">\n   <path d=\"M 0 375.824062 \nL 867.89875 375.824062 \nL 867.89875 0 \nL 0 0 \nz\n\" style=\"fill:none;\"/>\n  </g>\n  <g id=\"axes_1\">\n   <g id=\"patch_2\">\n    <path d=\"M 23.69875 348.478125 \nL 860.69875 348.478125 \nL 860.69875 22.318125 \nL 23.69875 22.318125 \nz\n\" style=\"fill:#eaeaf2;\"/>\n   </g>\n   <g id=\"matplotlib.axis_1\">\n    <g id=\"xtick_1\">\n     <g id=\"line2d_1\">\n      <path clip-path=\"url(#pc0c2091833)\" d=\"M 66.246625 348.478125 \nL 66.246625 22.318125 \n\" style=\"fill:none;stroke:#ffffff;stroke-linecap:round;\"/>\n     </g>\n     <g id=\"text_1\">\n      <!-- 2020-01 -->\n      <defs>\n       <path d=\"M 19.1875 8.296875 \nL 53.609375 8.296875 \nL 53.609375 0 \nL 7.328125 0 \nL 7.328125 8.296875 \nQ 12.9375 14.109375 22.625 23.890625 \nQ 32.328125 33.6875 34.8125 36.53125 \nQ 39.546875 41.84375 41.421875 45.53125 \nQ 43.3125 49.21875 43.3125 52.78125 \nQ 43.3125 58.59375 39.234375 62.25 \nQ 35.15625 65.921875 28.609375 65.921875 \nQ 23.96875 65.921875 18.8125 64.3125 \nQ 13.671875 62.703125 7.8125 59.421875 \nL 7.8125 69.390625 \nQ 13.765625 71.78125 18.9375 73 \nQ 24.125 74.21875 28.421875 74.21875 \nQ 39.75 74.21875 46.484375 68.546875 \nQ 53.21875 62.890625 53.21875 53.421875 \nQ 53.21875 48.921875 51.53125 44.890625 \nQ 49.859375 40.875 45.40625 35.40625 \nQ 44.1875 33.984375 37.640625 27.21875 \nQ 31.109375 20.453125 19.1875 8.296875 \nz\n\" id=\"DejaVuSans-50\"/>\n       <path d=\"M 31.78125 66.40625 \nQ 24.171875 66.40625 20.328125 58.90625 \nQ 16.5 51.421875 16.5 36.375 \nQ 16.5 21.390625 20.328125 13.890625 \nQ 24.171875 6.390625 31.78125 6.390625 \nQ 39.453125 6.390625 43.28125 13.890625 \nQ 47.125 21.390625 47.125 36.375 \nQ 47.125 51.421875 43.28125 58.90625 \nQ 39.453125 66.40625 31.78125 66.40625 \nz\nM 31.78125 74.21875 \nQ 44.046875 74.21875 50.515625 64.515625 \nQ 56.984375 54.828125 56.984375 36.375 \nQ 56.984375 17.96875 50.515625 8.265625 \nQ 44.046875 -1.421875 31.78125 -1.421875 \nQ 19.53125 -1.421875 13.0625 8.265625 \nQ 6.59375 17.96875 6.59375 36.375 \nQ 6.59375 54.828125 13.0625 64.515625 \nQ 19.53125 74.21875 31.78125 74.21875 \nz\n\" id=\"DejaVuSans-48\"/>\n       <path d=\"M 4.890625 31.390625 \nL 31.203125 31.390625 \nL 31.203125 23.390625 \nL 4.890625 23.390625 \nz\n\" id=\"DejaVuSans-45\"/>\n       <path d=\"M 12.40625 8.296875 \nL 28.515625 8.296875 \nL 28.515625 63.921875 \nL 10.984375 60.40625 \nL 10.984375 69.390625 \nL 28.421875 72.90625 \nL 38.28125 72.90625 \nL 38.28125 8.296875 \nL 54.390625 8.296875 \nL 54.390625 0 \nL 12.40625 0 \nz\n\" id=\"DejaVuSans-49\"/>\n      </defs>\n      <g style=\"fill:#262626;\" transform=\"translate(43.266078 366.336406)scale(0.11 -0.11)\">\n       <use xlink:href=\"#DejaVuSans-50\"/>\n       <use x=\"63.623047\" xlink:href=\"#DejaVuSans-48\"/>\n       <use x=\"127.246094\" xlink:href=\"#DejaVuSans-50\"/>\n       <use x=\"190.869141\" xlink:href=\"#DejaVuSans-48\"/>\n       <use x=\"254.492188\" xlink:href=\"#DejaVuSans-45\"/>\n       <use x=\"290.576172\" xlink:href=\"#DejaVuSans-48\"/>\n       <use x=\"354.199219\" xlink:href=\"#DejaVuSans-49\"/>\n      </g>\n     </g>\n    </g>\n    <g id=\"xtick_2\">\n     <g id=\"line2d_2\">\n      <path clip-path=\"url(#pc0c2091833)\" d=\"M 205.821666 348.478125 \nL 205.821666 22.318125 \n\" style=\"fill:none;stroke:#ffffff;stroke-linecap:round;\"/>\n     </g>\n     <g id=\"text_2\">\n      <!-- 2020-02 -->\n      <g style=\"fill:#262626;\" transform=\"translate(182.841119 366.336406)scale(0.11 -0.11)\">\n       <use xlink:href=\"#DejaVuSans-50\"/>\n       <use x=\"63.623047\" xlink:href=\"#DejaVuSans-48\"/>\n       <use x=\"127.246094\" xlink:href=\"#DejaVuSans-50\"/>\n       <use x=\"190.869141\" xlink:href=\"#DejaVuSans-48\"/>\n       <use x=\"254.492188\" xlink:href=\"#DejaVuSans-45\"/>\n       <use x=\"290.576172\" xlink:href=\"#DejaVuSans-48\"/>\n       <use x=\"354.199219\" xlink:href=\"#DejaVuSans-50\"/>\n      </g>\n     </g>\n    </g>\n    <g id=\"xtick_3\">\n     <g id=\"line2d_3\">\n      <path clip-path=\"url(#pc0c2091833)\" d=\"M 336.391865 348.478125 \nL 336.391865 22.318125 \n\" style=\"fill:none;stroke:#ffffff;stroke-linecap:round;\"/>\n     </g>\n     <g id=\"text_3\">\n      <!-- 2020-03 -->\n      <defs>\n       <path d=\"M 40.578125 39.3125 \nQ 47.65625 37.796875 51.625 33 \nQ 55.609375 28.21875 55.609375 21.1875 \nQ 55.609375 10.40625 48.1875 4.484375 \nQ 40.765625 -1.421875 27.09375 -1.421875 \nQ 22.515625 -1.421875 17.65625 -0.515625 \nQ 12.796875 0.390625 7.625 2.203125 \nL 7.625 11.71875 \nQ 11.71875 9.328125 16.59375 8.109375 \nQ 21.484375 6.890625 26.8125 6.890625 \nQ 36.078125 6.890625 40.9375 10.546875 \nQ 45.796875 14.203125 45.796875 21.1875 \nQ 45.796875 27.640625 41.28125 31.265625 \nQ 36.765625 34.90625 28.71875 34.90625 \nL 20.21875 34.90625 \nL 20.21875 43.015625 \nL 29.109375 43.015625 \nQ 36.375 43.015625 40.234375 45.921875 \nQ 44.09375 48.828125 44.09375 54.296875 \nQ 44.09375 59.90625 40.109375 62.90625 \nQ 36.140625 65.921875 28.71875 65.921875 \nQ 24.65625 65.921875 20.015625 65.03125 \nQ 15.375 64.15625 9.8125 62.3125 \nL 9.8125 71.09375 \nQ 15.4375 72.65625 20.34375 73.4375 \nQ 25.25 74.21875 29.59375 74.21875 \nQ 40.828125 74.21875 47.359375 69.109375 \nQ 53.90625 64.015625 53.90625 55.328125 \nQ 53.90625 49.265625 50.4375 45.09375 \nQ 46.96875 40.921875 40.578125 39.3125 \nz\n\" id=\"DejaVuSans-51\"/>\n      </defs>\n      <g style=\"fill:#262626;\" transform=\"translate(313.411318 366.336406)scale(0.11 -0.11)\">\n       <use xlink:href=\"#DejaVuSans-50\"/>\n       <use x=\"63.623047\" xlink:href=\"#DejaVuSans-48\"/>\n       <use x=\"127.246094\" xlink:href=\"#DejaVuSans-50\"/>\n       <use x=\"190.869141\" xlink:href=\"#DejaVuSans-48\"/>\n       <use x=\"254.492188\" xlink:href=\"#DejaVuSans-45\"/>\n       <use x=\"290.576172\" xlink:href=\"#DejaVuSans-48\"/>\n       <use x=\"354.199219\" xlink:href=\"#DejaVuSans-51\"/>\n      </g>\n     </g>\n    </g>\n    <g id=\"xtick_4\">\n     <g id=\"line2d_4\">\n      <path clip-path=\"url(#pc0c2091833)\" d=\"M 475.966905 348.478125 \nL 475.966905 22.318125 \n\" style=\"fill:none;stroke:#ffffff;stroke-linecap:round;\"/>\n     </g>\n     <g id=\"text_4\">\n      <!-- 2020-04 -->\n      <defs>\n       <path d=\"M 37.796875 64.3125 \nL 12.890625 25.390625 \nL 37.796875 25.390625 \nz\nM 35.203125 72.90625 \nL 47.609375 72.90625 \nL 47.609375 25.390625 \nL 58.015625 25.390625 \nL 58.015625 17.1875 \nL 47.609375 17.1875 \nL 47.609375 0 \nL 37.796875 0 \nL 37.796875 17.1875 \nL 4.890625 17.1875 \nL 4.890625 26.703125 \nz\n\" id=\"DejaVuSans-52\"/>\n      </defs>\n      <g style=\"fill:#262626;\" transform=\"translate(452.986358 366.336406)scale(0.11 -0.11)\">\n       <use xlink:href=\"#DejaVuSans-50\"/>\n       <use x=\"63.623047\" xlink:href=\"#DejaVuSans-48\"/>\n       <use x=\"127.246094\" xlink:href=\"#DejaVuSans-50\"/>\n       <use x=\"190.869141\" xlink:href=\"#DejaVuSans-48\"/>\n       <use x=\"254.492188\" xlink:href=\"#DejaVuSans-45\"/>\n       <use x=\"290.576172\" xlink:href=\"#DejaVuSans-48\"/>\n       <use x=\"354.199219\" xlink:href=\"#DejaVuSans-52\"/>\n      </g>\n     </g>\n    </g>\n    <g id=\"xtick_5\">\n     <g id=\"line2d_5\">\n      <path clip-path=\"url(#pc0c2091833)\" d=\"M 611.039525 348.478125 \nL 611.039525 22.318125 \n\" style=\"fill:none;stroke:#ffffff;stroke-linecap:round;\"/>\n     </g>\n     <g id=\"text_5\">\n      <!-- 2020-05 -->\n      <defs>\n       <path d=\"M 10.796875 72.90625 \nL 49.515625 72.90625 \nL 49.515625 64.59375 \nL 19.828125 64.59375 \nL 19.828125 46.734375 \nQ 21.96875 47.46875 24.109375 47.828125 \nQ 26.265625 48.1875 28.421875 48.1875 \nQ 40.625 48.1875 47.75 41.5 \nQ 54.890625 34.8125 54.890625 23.390625 \nQ 54.890625 11.625 47.5625 5.09375 \nQ 40.234375 -1.421875 26.90625 -1.421875 \nQ 22.3125 -1.421875 17.546875 -0.640625 \nQ 12.796875 0.140625 7.71875 1.703125 \nL 7.71875 11.625 \nQ 12.109375 9.234375 16.796875 8.0625 \nQ 21.484375 6.890625 26.703125 6.890625 \nQ 35.15625 6.890625 40.078125 11.328125 \nQ 45.015625 15.765625 45.015625 23.390625 \nQ 45.015625 31 40.078125 35.4375 \nQ 35.15625 39.890625 26.703125 39.890625 \nQ 22.75 39.890625 18.8125 39.015625 \nQ 14.890625 38.140625 10.796875 36.28125 \nz\n\" id=\"DejaVuSans-53\"/>\n      </defs>\n      <g style=\"fill:#262626;\" transform=\"translate(588.058978 366.336406)scale(0.11 -0.11)\">\n       <use xlink:href=\"#DejaVuSans-50\"/>\n       <use x=\"63.623047\" xlink:href=\"#DejaVuSans-48\"/>\n       <use x=\"127.246094\" xlink:href=\"#DejaVuSans-50\"/>\n       <use x=\"190.869141\" xlink:href=\"#DejaVuSans-48\"/>\n       <use x=\"254.492188\" xlink:href=\"#DejaVuSans-45\"/>\n       <use x=\"290.576172\" xlink:href=\"#DejaVuSans-48\"/>\n       <use x=\"354.199219\" xlink:href=\"#DejaVuSans-53\"/>\n      </g>\n     </g>\n    </g>\n    <g id=\"xtick_6\">\n     <g id=\"line2d_6\">\n      <path clip-path=\"url(#pc0c2091833)\" d=\"M 750.614565 348.478125 \nL 750.614565 22.318125 \n\" style=\"fill:none;stroke:#ffffff;stroke-linecap:round;\"/>\n     </g>\n     <g id=\"text_6\">\n      <!-- 2020-06 -->\n      <defs>\n       <path d=\"M 33.015625 40.375 \nQ 26.375 40.375 22.484375 35.828125 \nQ 18.609375 31.296875 18.609375 23.390625 \nQ 18.609375 15.53125 22.484375 10.953125 \nQ 26.375 6.390625 33.015625 6.390625 \nQ 39.65625 6.390625 43.53125 10.953125 \nQ 47.40625 15.53125 47.40625 23.390625 \nQ 47.40625 31.296875 43.53125 35.828125 \nQ 39.65625 40.375 33.015625 40.375 \nz\nM 52.59375 71.296875 \nL 52.59375 62.3125 \nQ 48.875 64.0625 45.09375 64.984375 \nQ 41.3125 65.921875 37.59375 65.921875 \nQ 27.828125 65.921875 22.671875 59.328125 \nQ 17.53125 52.734375 16.796875 39.40625 \nQ 19.671875 43.65625 24.015625 45.921875 \nQ 28.375 48.1875 33.59375 48.1875 \nQ 44.578125 48.1875 50.953125 41.515625 \nQ 57.328125 34.859375 57.328125 23.390625 \nQ 57.328125 12.15625 50.6875 5.359375 \nQ 44.046875 -1.421875 33.015625 -1.421875 \nQ 20.359375 -1.421875 13.671875 8.265625 \nQ 6.984375 17.96875 6.984375 36.375 \nQ 6.984375 53.65625 15.1875 63.9375 \nQ 23.390625 74.21875 37.203125 74.21875 \nQ 40.921875 74.21875 44.703125 73.484375 \nQ 48.484375 72.75 52.59375 71.296875 \nz\n\" id=\"DejaVuSans-54\"/>\n      </defs>\n      <g style=\"fill:#262626;\" transform=\"translate(727.634018 366.336406)scale(0.11 -0.11)\">\n       <use xlink:href=\"#DejaVuSans-50\"/>\n       <use x=\"63.623047\" xlink:href=\"#DejaVuSans-48\"/>\n       <use x=\"127.246094\" xlink:href=\"#DejaVuSans-50\"/>\n       <use x=\"190.869141\" xlink:href=\"#DejaVuSans-48\"/>\n       <use x=\"254.492188\" xlink:href=\"#DejaVuSans-45\"/>\n       <use x=\"290.576172\" xlink:href=\"#DejaVuSans-48\"/>\n       <use x=\"354.199219\" xlink:href=\"#DejaVuSans-54\"/>\n      </g>\n     </g>\n    </g>\n   </g>\n   <g id=\"matplotlib.axis_2\">\n    <g id=\"ytick_1\">\n     <g id=\"line2d_7\">\n      <path clip-path=\"url(#pc0c2091833)\" d=\"M 23.69875 333.653672 \nL 860.69875 333.653672 \n\" style=\"fill:none;stroke:#ffffff;stroke-linecap:round;\"/>\n     </g>\n     <g id=\"text_7\">\n      <!-- 0 -->\n      <g style=\"fill:#262626;\" transform=\"translate(7.2 337.832813)scale(0.11 -0.11)\">\n       <use xlink:href=\"#DejaVuSans-48\"/>\n      </g>\n     </g>\n    </g>\n    <g id=\"ytick_2\">\n     <g id=\"line2d_8\">\n      <path clip-path=\"url(#pc0c2091833)\" d=\"M 23.69875 296.553033 \nL 860.69875 296.553033 \n\" style=\"fill:none;stroke:#ffffff;stroke-linecap:round;\"/>\n     </g>\n     <g id=\"text_8\">\n      <!-- 1 -->\n      <g style=\"fill:#262626;\" transform=\"translate(7.2 300.732173)scale(0.11 -0.11)\">\n       <use xlink:href=\"#DejaVuSans-49\"/>\n      </g>\n     </g>\n    </g>\n    <g id=\"ytick_3\">\n     <g id=\"line2d_9\">\n      <path clip-path=\"url(#pc0c2091833)\" d=\"M 23.69875 259.452393 \nL 860.69875 259.452393 \n\" style=\"fill:none;stroke:#ffffff;stroke-linecap:round;\"/>\n     </g>\n     <g id=\"text_9\">\n      <!-- 2 -->\n      <g style=\"fill:#262626;\" transform=\"translate(7.2 263.631534)scale(0.11 -0.11)\">\n       <use xlink:href=\"#DejaVuSans-50\"/>\n      </g>\n     </g>\n    </g>\n    <g id=\"ytick_4\">\n     <g id=\"line2d_10\">\n      <path clip-path=\"url(#pc0c2091833)\" d=\"M 23.69875 222.351753 \nL 860.69875 222.351753 \n\" style=\"fill:none;stroke:#ffffff;stroke-linecap:round;\"/>\n     </g>\n     <g id=\"text_10\">\n      <!-- 3 -->\n      <g style=\"fill:#262626;\" transform=\"translate(7.2 226.530894)scale(0.11 -0.11)\">\n       <use xlink:href=\"#DejaVuSans-51\"/>\n      </g>\n     </g>\n    </g>\n    <g id=\"ytick_5\">\n     <g id=\"line2d_11\">\n      <path clip-path=\"url(#pc0c2091833)\" d=\"M 23.69875 185.251114 \nL 860.69875 185.251114 \n\" style=\"fill:none;stroke:#ffffff;stroke-linecap:round;\"/>\n     </g>\n     <g id=\"text_11\">\n      <!-- 4 -->\n      <g style=\"fill:#262626;\" transform=\"translate(7.2 189.430254)scale(0.11 -0.11)\">\n       <use xlink:href=\"#DejaVuSans-52\"/>\n      </g>\n     </g>\n    </g>\n    <g id=\"ytick_6\">\n     <g id=\"line2d_12\">\n      <path clip-path=\"url(#pc0c2091833)\" d=\"M 23.69875 148.150474 \nL 860.69875 148.150474 \n\" style=\"fill:none;stroke:#ffffff;stroke-linecap:round;\"/>\n     </g>\n     <g id=\"text_12\">\n      <!-- 5 -->\n      <g style=\"fill:#262626;\" transform=\"translate(7.2 152.329615)scale(0.11 -0.11)\">\n       <use xlink:href=\"#DejaVuSans-53\"/>\n      </g>\n     </g>\n    </g>\n    <g id=\"ytick_7\">\n     <g id=\"line2d_13\">\n      <path clip-path=\"url(#pc0c2091833)\" d=\"M 23.69875 111.049834 \nL 860.69875 111.049834 \n\" style=\"fill:none;stroke:#ffffff;stroke-linecap:round;\"/>\n     </g>\n     <g id=\"text_13\">\n      <!-- 6 -->\n      <g style=\"fill:#262626;\" transform=\"translate(7.2 115.228975)scale(0.11 -0.11)\">\n       <use xlink:href=\"#DejaVuSans-54\"/>\n      </g>\n     </g>\n    </g>\n    <g id=\"ytick_8\">\n     <g id=\"line2d_14\">\n      <path clip-path=\"url(#pc0c2091833)\" d=\"M 23.69875 73.949195 \nL 860.69875 73.949195 \n\" style=\"fill:none;stroke:#ffffff;stroke-linecap:round;\"/>\n     </g>\n     <g id=\"text_14\">\n      <!-- 7 -->\n      <defs>\n       <path d=\"M 8.203125 72.90625 \nL 55.078125 72.90625 \nL 55.078125 68.703125 \nL 28.609375 0 \nL 18.3125 0 \nL 43.21875 64.59375 \nL 8.203125 64.59375 \nz\n\" id=\"DejaVuSans-55\"/>\n      </defs>\n      <g style=\"fill:#262626;\" transform=\"translate(7.2 78.128335)scale(0.11 -0.11)\">\n       <use xlink:href=\"#DejaVuSans-55\"/>\n      </g>\n     </g>\n    </g>\n    <g id=\"ytick_9\">\n     <g id=\"line2d_15\">\n      <path clip-path=\"url(#pc0c2091833)\" d=\"M 23.69875 36.848555 \nL 860.69875 36.848555 \n\" style=\"fill:none;stroke:#ffffff;stroke-linecap:round;\"/>\n     </g>\n     <g id=\"text_15\">\n      <!-- 8 -->\n      <defs>\n       <path d=\"M 31.78125 34.625 \nQ 24.75 34.625 20.71875 30.859375 \nQ 16.703125 27.09375 16.703125 20.515625 \nQ 16.703125 13.921875 20.71875 10.15625 \nQ 24.75 6.390625 31.78125 6.390625 \nQ 38.8125 6.390625 42.859375 10.171875 \nQ 46.921875 13.96875 46.921875 20.515625 \nQ 46.921875 27.09375 42.890625 30.859375 \nQ 38.875 34.625 31.78125 34.625 \nz\nM 21.921875 38.8125 \nQ 15.578125 40.375 12.03125 44.71875 \nQ 8.5 49.078125 8.5 55.328125 \nQ 8.5 64.0625 14.71875 69.140625 \nQ 20.953125 74.21875 31.78125 74.21875 \nQ 42.671875 74.21875 48.875 69.140625 \nQ 55.078125 64.0625 55.078125 55.328125 \nQ 55.078125 49.078125 51.53125 44.71875 \nQ 48 40.375 41.703125 38.8125 \nQ 48.828125 37.15625 52.796875 32.3125 \nQ 56.78125 27.484375 56.78125 20.515625 \nQ 56.78125 9.90625 50.3125 4.234375 \nQ 43.84375 -1.421875 31.78125 -1.421875 \nQ 19.734375 -1.421875 13.25 4.234375 \nQ 6.78125 9.90625 6.78125 20.515625 \nQ 6.78125 27.484375 10.78125 32.3125 \nQ 14.796875 37.15625 21.921875 38.8125 \nz\nM 18.3125 54.390625 \nQ 18.3125 48.734375 21.84375 45.5625 \nQ 25.390625 42.390625 31.78125 42.390625 \nQ 38.140625 42.390625 41.71875 45.5625 \nQ 45.3125 48.734375 45.3125 54.390625 \nQ 45.3125 60.0625 41.71875 63.234375 \nQ 38.140625 66.40625 31.78125 66.40625 \nQ 25.390625 66.40625 21.84375 63.234375 \nQ 18.3125 60.0625 18.3125 54.390625 \nz\n\" id=\"DejaVuSans-56\"/>\n      </defs>\n      <g style=\"fill:#262626;\" transform=\"translate(7.2 41.027696)scale(0.11 -0.11)\">\n       <use xlink:href=\"#DejaVuSans-56\"/>\n      </g>\n     </g>\n    </g>\n    <g id=\"text_16\">\n     <!-- 1e6 -->\n     <defs>\n      <path d=\"M 56.203125 29.59375 \nL 56.203125 25.203125 \nL 14.890625 25.203125 \nQ 15.484375 15.921875 20.484375 11.0625 \nQ 25.484375 6.203125 34.421875 6.203125 \nQ 39.59375 6.203125 44.453125 7.46875 \nQ 49.3125 8.734375 54.109375 11.28125 \nL 54.109375 2.78125 \nQ 49.265625 0.734375 44.1875 -0.34375 \nQ 39.109375 -1.421875 33.890625 -1.421875 \nQ 20.796875 -1.421875 13.15625 6.1875 \nQ 5.515625 13.8125 5.515625 26.8125 \nQ 5.515625 40.234375 12.765625 48.109375 \nQ 20.015625 56 32.328125 56 \nQ 43.359375 56 49.78125 48.890625 \nQ 56.203125 41.796875 56.203125 29.59375 \nz\nM 47.21875 32.234375 \nQ 47.125 39.59375 43.09375 43.984375 \nQ 39.0625 48.390625 32.421875 48.390625 \nQ 24.90625 48.390625 20.390625 44.140625 \nQ 15.875 39.890625 15.1875 32.171875 \nz\n\" id=\"DejaVuSans-101\"/>\n     </defs>\n     <g style=\"fill:#262626;\" transform=\"translate(23.69875 19.318125)scale(0.11 -0.11)\">\n      <use xlink:href=\"#DejaVuSans-49\"/>\n      <use x=\"63.623047\" xlink:href=\"#DejaVuSans-101\"/>\n      <use x=\"125.146484\" xlink:href=\"#DejaVuSans-54\"/>\n     </g>\n    </g>\n   </g>\n   <g id=\"line2d_16\">\n    <path clip-path=\"url(#pc0c2091833)\" d=\"M 61.744205 333.65267 \nL 183.309562 333.549234 \nL 214.826507 333.009531 \nL 255.348293 331.9847 \nL 259.850713 331.422588 \nL 268.855555 331.172975 \nL 295.870079 330.83176 \nL 345.396706 330.315987 \nL 363.406389 329.886028 \nL 381.416071 329.224524 \nL 390.420912 328.624384 \nL 399.425754 327.794183 \nL 408.430595 326.823815 \nL 412.933016 326.213399 \nL 417.435436 325.482108 \nL 426.440278 323.199714 \nL 435.445119 320.68199 \nL 444.44996 317.580748 \nL 448.952381 315.64684 \nL 453.454802 313.413233 \nL 462.459643 308.689691 \nL 466.962064 306.549318 \nL 471.464484 304.196655 \nL 475.966905 301.505115 \nL 484.971746 295.818996 \nL 489.474167 292.823083 \nL 493.976588 289.679731 \nL 502.981429 284.44305 \nL 507.48385 281.664954 \nL 516.488691 275.357808 \nL 520.991111 272.048617 \nL 525.493532 269.056821 \nL 529.995953 266.417111 \nL 534.498373 263.971362 \nL 543.503215 258.178394 \nL 552.508056 252.070701 \nL 557.010477 249.117082 \nL 561.512897 246.444909 \nL 566.015318 243.631827 \nL 570.517739 240.455678 \nL 575.020159 237.998725 \nL 579.52258 235.130252 \nL 584.025001 232.395935 \nL 588.527421 228.6704 \nL 593.029842 225.592494 \nL 597.532263 223.154834 \nL 602.034683 220.503399 \nL 606.537104 217.620531 \nL 611.039525 214.484637 \nL 615.541945 211.082434 \nL 624.546787 205.167776 \nL 633.551628 199.373138 \nL 638.054049 196.042948 \nL 642.556469 192.551778 \nL 651.561311 185.866576 \nL 656.063731 183.012869 \nL 660.566152 180.379763 \nL 669.570993 174.014369 \nL 683.078255 163.303934 \nL 687.580676 160.293736 \nL 692.083096 157.062604 \nL 696.585517 153.537227 \nL 701.087938 149.854655 \nL 710.092779 141.898126 \nL 714.5952 138.148067 \nL 719.09762 134.65367 \nL 723.600041 131.3529 \nL 728.102462 127.798139 \nL 732.604882 123.99358 \nL 737.107303 119.589919 \nL 741.609724 115.02758 \nL 746.112144 110.290347 \nL 750.614565 106.288004 \nL 755.116986 102.563508 \nL 759.619406 98.394881 \nL 768.624248 88.964417 \nL 773.126668 84.011667 \nL 777.629089 79.346856 \nL 782.13151 75.034389 \nL 786.63393 71.109104 \nL 791.136351 66.451601 \nL 800.141192 56.400889 \nL 804.643613 51.041813 \nL 809.146033 46.072108 \nL 818.150875 37.14358 \nL 822.653295 40.97589 \nL 822.653295 40.97589 \n\" style=\"fill:none;stroke:#ff304f;stroke-linecap:round;stroke-width:1.5;\"/>\n   </g>\n   <g id=\"patch_3\">\n    <path d=\"M 23.69875 348.478125 \nL 23.69875 22.318125 \n\" style=\"fill:none;stroke:#ffffff;stroke-linecap:square;stroke-linejoin:miter;stroke-width:1.25;\"/>\n   </g>\n   <g id=\"patch_4\">\n    <path d=\"M 860.69875 348.478125 \nL 860.69875 22.318125 \n\" style=\"fill:none;stroke:#ffffff;stroke-linecap:square;stroke-linejoin:miter;stroke-width:1.25;\"/>\n   </g>\n   <g id=\"patch_5\">\n    <path d=\"M 23.69875 348.478125 \nL 860.69875 348.478125 \n\" style=\"fill:none;stroke:#ffffff;stroke-linecap:square;stroke-linejoin:miter;stroke-width:1.25;\"/>\n   </g>\n   <g id=\"patch_6\">\n    <path d=\"M 23.69875 22.318125 \nL 860.69875 22.318125 \n\" style=\"fill:none;stroke:#ffffff;stroke-linecap:square;stroke-linejoin:miter;stroke-width:1.25;\"/>\n   </g>\n   <g id=\"text_17\">\n    <!-- Número de casos de COVID-19 no mundo -->\n    <defs>\n     <path d=\"M 9.8125 72.90625 \nL 23.09375 72.90625 \nL 55.421875 11.921875 \nL 55.421875 72.90625 \nL 64.984375 72.90625 \nL 64.984375 0 \nL 51.703125 0 \nL 19.390625 60.984375 \nL 19.390625 0 \nL 9.8125 0 \nz\n\" id=\"DejaVuSans-78\"/>\n     <path d=\"M 8.5 21.578125 \nL 8.5 54.6875 \nL 17.484375 54.6875 \nL 17.484375 21.921875 \nQ 17.484375 14.15625 20.5 10.265625 \nQ 23.53125 6.390625 29.59375 6.390625 \nQ 36.859375 6.390625 41.078125 11.03125 \nQ 45.3125 15.671875 45.3125 23.6875 \nL 45.3125 54.6875 \nL 54.296875 54.6875 \nL 54.296875 0 \nL 45.3125 0 \nL 45.3125 8.40625 \nQ 42.046875 3.421875 37.71875 1 \nQ 33.40625 -1.421875 27.6875 -1.421875 \nQ 18.265625 -1.421875 13.375 4.4375 \nQ 8.5 10.296875 8.5 21.578125 \nz\nM 31.109375 56 \nz\nM 37.78125 79.984375 \nL 47.5 79.984375 \nL 31.59375 61.625 \nL 24.109375 61.625 \nz\n\" id=\"DejaVuSans-250\"/>\n     <path d=\"M 52 44.1875 \nQ 55.375 50.25 60.0625 53.125 \nQ 64.75 56 71.09375 56 \nQ 79.640625 56 84.28125 50.015625 \nQ 88.921875 44.046875 88.921875 33.015625 \nL 88.921875 0 \nL 79.890625 0 \nL 79.890625 32.71875 \nQ 79.890625 40.578125 77.09375 44.375 \nQ 74.3125 48.1875 68.609375 48.1875 \nQ 61.625 48.1875 57.5625 43.546875 \nQ 53.515625 38.921875 53.515625 30.90625 \nL 53.515625 0 \nL 44.484375 0 \nL 44.484375 32.71875 \nQ 44.484375 40.625 41.703125 44.40625 \nQ 38.921875 48.1875 33.109375 48.1875 \nQ 26.21875 48.1875 22.15625 43.53125 \nQ 18.109375 38.875 18.109375 30.90625 \nL 18.109375 0 \nL 9.078125 0 \nL 9.078125 54.6875 \nL 18.109375 54.6875 \nL 18.109375 46.1875 \nQ 21.1875 51.21875 25.484375 53.609375 \nQ 29.78125 56 35.6875 56 \nQ 41.65625 56 45.828125 52.96875 \nQ 50 49.953125 52 44.1875 \nz\n\" id=\"DejaVuSans-109\"/>\n     <path d=\"M 41.109375 46.296875 \nQ 39.59375 47.171875 37.8125 47.578125 \nQ 36.03125 48 33.890625 48 \nQ 26.265625 48 22.1875 43.046875 \nQ 18.109375 38.09375 18.109375 28.8125 \nL 18.109375 0 \nL 9.078125 0 \nL 9.078125 54.6875 \nL 18.109375 54.6875 \nL 18.109375 46.1875 \nQ 20.953125 51.171875 25.484375 53.578125 \nQ 30.03125 56 36.53125 56 \nQ 37.453125 56 38.578125 55.875 \nQ 39.703125 55.765625 41.0625 55.515625 \nz\n\" id=\"DejaVuSans-114\"/>\n     <path d=\"M 30.609375 48.390625 \nQ 23.390625 48.390625 19.1875 42.75 \nQ 14.984375 37.109375 14.984375 27.296875 \nQ 14.984375 17.484375 19.15625 11.84375 \nQ 23.34375 6.203125 30.609375 6.203125 \nQ 37.796875 6.203125 41.984375 11.859375 \nQ 46.1875 17.53125 46.1875 27.296875 \nQ 46.1875 37.015625 41.984375 42.703125 \nQ 37.796875 48.390625 30.609375 48.390625 \nz\nM 30.609375 56 \nQ 42.328125 56 49.015625 48.375 \nQ 55.71875 40.765625 55.71875 27.296875 \nQ 55.71875 13.875 49.015625 6.21875 \nQ 42.328125 -1.421875 30.609375 -1.421875 \nQ 18.84375 -1.421875 12.171875 6.21875 \nQ 5.515625 13.875 5.515625 27.296875 \nQ 5.515625 40.765625 12.171875 48.375 \nQ 18.84375 56 30.609375 56 \nz\n\" id=\"DejaVuSans-111\"/>\n     <path id=\"DejaVuSans-32\"/>\n     <path d=\"M 45.40625 46.390625 \nL 45.40625 75.984375 \nL 54.390625 75.984375 \nL 54.390625 0 \nL 45.40625 0 \nL 45.40625 8.203125 \nQ 42.578125 3.328125 38.25 0.953125 \nQ 33.9375 -1.421875 27.875 -1.421875 \nQ 17.96875 -1.421875 11.734375 6.484375 \nQ 5.515625 14.40625 5.515625 27.296875 \nQ 5.515625 40.1875 11.734375 48.09375 \nQ 17.96875 56 27.875 56 \nQ 33.9375 56 38.25 53.625 \nQ 42.578125 51.265625 45.40625 46.390625 \nz\nM 14.796875 27.296875 \nQ 14.796875 17.390625 18.875 11.75 \nQ 22.953125 6.109375 30.078125 6.109375 \nQ 37.203125 6.109375 41.296875 11.75 \nQ 45.40625 17.390625 45.40625 27.296875 \nQ 45.40625 37.203125 41.296875 42.84375 \nQ 37.203125 48.484375 30.078125 48.484375 \nQ 22.953125 48.484375 18.875 42.84375 \nQ 14.796875 37.203125 14.796875 27.296875 \nz\n\" id=\"DejaVuSans-100\"/>\n     <path d=\"M 48.78125 52.59375 \nL 48.78125 44.1875 \nQ 44.96875 46.296875 41.140625 47.34375 \nQ 37.3125 48.390625 33.40625 48.390625 \nQ 24.65625 48.390625 19.8125 42.84375 \nQ 14.984375 37.3125 14.984375 27.296875 \nQ 14.984375 17.28125 19.8125 11.734375 \nQ 24.65625 6.203125 33.40625 6.203125 \nQ 37.3125 6.203125 41.140625 7.25 \nQ 44.96875 8.296875 48.78125 10.40625 \nL 48.78125 2.09375 \nQ 45.015625 0.34375 40.984375 -0.53125 \nQ 36.96875 -1.421875 32.421875 -1.421875 \nQ 20.0625 -1.421875 12.78125 6.34375 \nQ 5.515625 14.109375 5.515625 27.296875 \nQ 5.515625 40.671875 12.859375 48.328125 \nQ 20.21875 56 33.015625 56 \nQ 37.15625 56 41.109375 55.140625 \nQ 45.0625 54.296875 48.78125 52.59375 \nz\n\" id=\"DejaVuSans-99\"/>\n     <path d=\"M 34.28125 27.484375 \nQ 23.390625 27.484375 19.1875 25 \nQ 14.984375 22.515625 14.984375 16.5 \nQ 14.984375 11.71875 18.140625 8.90625 \nQ 21.296875 6.109375 26.703125 6.109375 \nQ 34.1875 6.109375 38.703125 11.40625 \nQ 43.21875 16.703125 43.21875 25.484375 \nL 43.21875 27.484375 \nz\nM 52.203125 31.203125 \nL 52.203125 0 \nL 43.21875 0 \nL 43.21875 8.296875 \nQ 40.140625 3.328125 35.546875 0.953125 \nQ 30.953125 -1.421875 24.3125 -1.421875 \nQ 15.921875 -1.421875 10.953125 3.296875 \nQ 6 8.015625 6 15.921875 \nQ 6 25.140625 12.171875 29.828125 \nQ 18.359375 34.515625 30.609375 34.515625 \nL 43.21875 34.515625 \nL 43.21875 35.40625 \nQ 43.21875 41.609375 39.140625 45 \nQ 35.0625 48.390625 27.6875 48.390625 \nQ 23 48.390625 18.546875 47.265625 \nQ 14.109375 46.140625 10.015625 43.890625 \nL 10.015625 52.203125 \nQ 14.9375 54.109375 19.578125 55.046875 \nQ 24.21875 56 28.609375 56 \nQ 40.484375 56 46.34375 49.84375 \nQ 52.203125 43.703125 52.203125 31.203125 \nz\n\" id=\"DejaVuSans-97\"/>\n     <path d=\"M 44.28125 53.078125 \nL 44.28125 44.578125 \nQ 40.484375 46.53125 36.375 47.5 \nQ 32.28125 48.484375 27.875 48.484375 \nQ 21.1875 48.484375 17.84375 46.4375 \nQ 14.5 44.390625 14.5 40.28125 \nQ 14.5 37.15625 16.890625 35.375 \nQ 19.28125 33.59375 26.515625 31.984375 \nL 29.59375 31.296875 \nQ 39.15625 29.25 43.1875 25.515625 \nQ 47.21875 21.78125 47.21875 15.09375 \nQ 47.21875 7.46875 41.1875 3.015625 \nQ 35.15625 -1.421875 24.609375 -1.421875 \nQ 20.21875 -1.421875 15.453125 -0.5625 \nQ 10.6875 0.296875 5.421875 2 \nL 5.421875 11.28125 \nQ 10.40625 8.6875 15.234375 7.390625 \nQ 20.0625 6.109375 24.8125 6.109375 \nQ 31.15625 6.109375 34.5625 8.28125 \nQ 37.984375 10.453125 37.984375 14.40625 \nQ 37.984375 18.0625 35.515625 20.015625 \nQ 33.0625 21.96875 24.703125 23.78125 \nL 21.578125 24.515625 \nQ 13.234375 26.265625 9.515625 29.90625 \nQ 5.8125 33.546875 5.8125 39.890625 \nQ 5.8125 47.609375 11.28125 51.796875 \nQ 16.75 56 26.8125 56 \nQ 31.78125 56 36.171875 55.265625 \nQ 40.578125 54.546875 44.28125 53.078125 \nz\n\" id=\"DejaVuSans-115\"/>\n     <path d=\"M 64.40625 67.28125 \nL 64.40625 56.890625 \nQ 59.421875 61.53125 53.78125 63.8125 \nQ 48.140625 66.109375 41.796875 66.109375 \nQ 29.296875 66.109375 22.65625 58.46875 \nQ 16.015625 50.828125 16.015625 36.375 \nQ 16.015625 21.96875 22.65625 14.328125 \nQ 29.296875 6.6875 41.796875 6.6875 \nQ 48.140625 6.6875 53.78125 8.984375 \nQ 59.421875 11.28125 64.40625 15.921875 \nL 64.40625 5.609375 \nQ 59.234375 2.09375 53.4375 0.328125 \nQ 47.65625 -1.421875 41.21875 -1.421875 \nQ 24.65625 -1.421875 15.125 8.703125 \nQ 5.609375 18.84375 5.609375 36.375 \nQ 5.609375 53.953125 15.125 64.078125 \nQ 24.65625 74.21875 41.21875 74.21875 \nQ 47.75 74.21875 53.53125 72.484375 \nQ 59.328125 70.75 64.40625 67.28125 \nz\n\" id=\"DejaVuSans-67\"/>\n     <path d=\"M 39.40625 66.21875 \nQ 28.65625 66.21875 22.328125 58.203125 \nQ 16.015625 50.203125 16.015625 36.375 \nQ 16.015625 22.609375 22.328125 14.59375 \nQ 28.65625 6.59375 39.40625 6.59375 \nQ 50.140625 6.59375 56.421875 14.59375 \nQ 62.703125 22.609375 62.703125 36.375 \nQ 62.703125 50.203125 56.421875 58.203125 \nQ 50.140625 66.21875 39.40625 66.21875 \nz\nM 39.40625 74.21875 \nQ 54.734375 74.21875 63.90625 63.9375 \nQ 73.09375 53.65625 73.09375 36.375 \nQ 73.09375 19.140625 63.90625 8.859375 \nQ 54.734375 -1.421875 39.40625 -1.421875 \nQ 24.03125 -1.421875 14.8125 8.828125 \nQ 5.609375 19.09375 5.609375 36.375 \nQ 5.609375 53.65625 14.8125 63.9375 \nQ 24.03125 74.21875 39.40625 74.21875 \nz\n\" id=\"DejaVuSans-79\"/>\n     <path d=\"M 28.609375 0 \nL 0.78125 72.90625 \nL 11.078125 72.90625 \nL 34.1875 11.53125 \nL 57.328125 72.90625 \nL 67.578125 72.90625 \nL 39.796875 0 \nz\n\" id=\"DejaVuSans-86\"/>\n     <path d=\"M 9.8125 72.90625 \nL 19.671875 72.90625 \nL 19.671875 0 \nL 9.8125 0 \nz\n\" id=\"DejaVuSans-73\"/>\n     <path d=\"M 19.671875 64.796875 \nL 19.671875 8.109375 \nL 31.59375 8.109375 \nQ 46.6875 8.109375 53.6875 14.9375 \nQ 60.6875 21.78125 60.6875 36.53125 \nQ 60.6875 51.171875 53.6875 57.984375 \nQ 46.6875 64.796875 31.59375 64.796875 \nz\nM 9.8125 72.90625 \nL 30.078125 72.90625 \nQ 51.265625 72.90625 61.171875 64.09375 \nQ 71.09375 55.28125 71.09375 36.53125 \nQ 71.09375 17.671875 61.125 8.828125 \nQ 51.171875 0 30.078125 0 \nL 9.8125 0 \nz\n\" id=\"DejaVuSans-68\"/>\n     <path d=\"M 10.984375 1.515625 \nL 10.984375 10.5 \nQ 14.703125 8.734375 18.5 7.8125 \nQ 22.3125 6.890625 25.984375 6.890625 \nQ 35.75 6.890625 40.890625 13.453125 \nQ 46.046875 20.015625 46.78125 33.40625 \nQ 43.953125 29.203125 39.59375 26.953125 \nQ 35.25 24.703125 29.984375 24.703125 \nQ 19.046875 24.703125 12.671875 31.3125 \nQ 6.296875 37.9375 6.296875 49.421875 \nQ 6.296875 60.640625 12.9375 67.421875 \nQ 19.578125 74.21875 30.609375 74.21875 \nQ 43.265625 74.21875 49.921875 64.515625 \nQ 56.59375 54.828125 56.59375 36.375 \nQ 56.59375 19.140625 48.40625 8.859375 \nQ 40.234375 -1.421875 26.421875 -1.421875 \nQ 22.703125 -1.421875 18.890625 -0.6875 \nQ 15.09375 0.046875 10.984375 1.515625 \nz\nM 30.609375 32.421875 \nQ 37.25 32.421875 41.125 36.953125 \nQ 45.015625 41.5 45.015625 49.421875 \nQ 45.015625 57.28125 41.125 61.84375 \nQ 37.25 66.40625 30.609375 66.40625 \nQ 23.96875 66.40625 20.09375 61.84375 \nQ 16.21875 57.28125 16.21875 49.421875 \nQ 16.21875 41.5 20.09375 36.953125 \nQ 23.96875 32.421875 30.609375 32.421875 \nz\n\" id=\"DejaVuSans-57\"/>\n     <path d=\"M 54.890625 33.015625 \nL 54.890625 0 \nL 45.90625 0 \nL 45.90625 32.71875 \nQ 45.90625 40.484375 42.875 44.328125 \nQ 39.84375 48.1875 33.796875 48.1875 \nQ 26.515625 48.1875 22.3125 43.546875 \nQ 18.109375 38.921875 18.109375 30.90625 \nL 18.109375 0 \nL 9.078125 0 \nL 9.078125 54.6875 \nL 18.109375 54.6875 \nL 18.109375 46.1875 \nQ 21.34375 51.125 25.703125 53.5625 \nQ 30.078125 56 35.796875 56 \nQ 45.21875 56 50.046875 50.171875 \nQ 54.890625 44.34375 54.890625 33.015625 \nz\n\" id=\"DejaVuSans-110\"/>\n     <path d=\"M 8.5 21.578125 \nL 8.5 54.6875 \nL 17.484375 54.6875 \nL 17.484375 21.921875 \nQ 17.484375 14.15625 20.5 10.265625 \nQ 23.53125 6.390625 29.59375 6.390625 \nQ 36.859375 6.390625 41.078125 11.03125 \nQ 45.3125 15.671875 45.3125 23.6875 \nL 45.3125 54.6875 \nL 54.296875 54.6875 \nL 54.296875 0 \nL 45.3125 0 \nL 45.3125 8.40625 \nQ 42.046875 3.421875 37.71875 1 \nQ 33.40625 -1.421875 27.6875 -1.421875 \nQ 18.265625 -1.421875 13.375 4.4375 \nQ 8.5 10.296875 8.5 21.578125 \nz\nM 31.109375 56 \nz\n\" id=\"DejaVuSans-117\"/>\n    </defs>\n    <g style=\"fill:#262626;\" transform=\"translate(317.521563 16.318125)scale(0.12 -0.12)\">\n     <use xlink:href=\"#DejaVuSans-78\"/>\n     <use x=\"74.804688\" xlink:href=\"#DejaVuSans-250\"/>\n     <use x=\"138.183594\" xlink:href=\"#DejaVuSans-109\"/>\n     <use x=\"235.595703\" xlink:href=\"#DejaVuSans-101\"/>\n     <use x=\"297.119141\" xlink:href=\"#DejaVuSans-114\"/>\n     <use x=\"335.982422\" xlink:href=\"#DejaVuSans-111\"/>\n     <use x=\"397.164062\" xlink:href=\"#DejaVuSans-32\"/>\n     <use x=\"428.951172\" xlink:href=\"#DejaVuSans-100\"/>\n     <use x=\"492.427734\" xlink:href=\"#DejaVuSans-101\"/>\n     <use x=\"553.951172\" xlink:href=\"#DejaVuSans-32\"/>\n     <use x=\"585.738281\" xlink:href=\"#DejaVuSans-99\"/>\n     <use x=\"640.71875\" xlink:href=\"#DejaVuSans-97\"/>\n     <use x=\"701.998047\" xlink:href=\"#DejaVuSans-115\"/>\n     <use x=\"754.097656\" xlink:href=\"#DejaVuSans-111\"/>\n     <use x=\"815.279297\" xlink:href=\"#DejaVuSans-115\"/>\n     <use x=\"867.378906\" xlink:href=\"#DejaVuSans-32\"/>\n     <use x=\"899.166016\" xlink:href=\"#DejaVuSans-100\"/>\n     <use x=\"962.642578\" xlink:href=\"#DejaVuSans-101\"/>\n     <use x=\"1024.166016\" xlink:href=\"#DejaVuSans-32\"/>\n     <use x=\"1055.953125\" xlink:href=\"#DejaVuSans-67\"/>\n     <use x=\"1125.777344\" xlink:href=\"#DejaVuSans-79\"/>\n     <use x=\"1202.738281\" xlink:href=\"#DejaVuSans-86\"/>\n     <use x=\"1271.146484\" xlink:href=\"#DejaVuSans-73\"/>\n     <use x=\"1300.638672\" xlink:href=\"#DejaVuSans-68\"/>\n     <use x=\"1377.640625\" xlink:href=\"#DejaVuSans-45\"/>\n     <use x=\"1413.724609\" xlink:href=\"#DejaVuSans-49\"/>\n     <use x=\"1477.347656\" xlink:href=\"#DejaVuSans-57\"/>\n     <use x=\"1540.970703\" xlink:href=\"#DejaVuSans-32\"/>\n     <use x=\"1572.757812\" xlink:href=\"#DejaVuSans-110\"/>\n     <use x=\"1636.136719\" xlink:href=\"#DejaVuSans-111\"/>\n     <use x=\"1697.318359\" xlink:href=\"#DejaVuSans-32\"/>\n     <use x=\"1729.105469\" xlink:href=\"#DejaVuSans-109\"/>\n     <use x=\"1826.517578\" xlink:href=\"#DejaVuSans-117\"/>\n     <use x=\"1889.896484\" xlink:href=\"#DejaVuSans-110\"/>\n     <use x=\"1953.275391\" xlink:href=\"#DejaVuSans-100\"/>\n     <use x=\"2016.751953\" xlink:href=\"#DejaVuSans-111\"/>\n    </g>\n   </g>\n  </g>\n </g>\n <defs>\n  <clipPath id=\"pc0c2091833\">\n   <rect height=\"326.16\" width=\"837\" x=\"23.69875\" y=\"22.318125\"/>\n  </clipPath>\n </defs>\n</svg>\n"
          },
          "metadata": {
            "tags": [],
            "needs_background": "light"
          }
        }
      ]
    },
    {
      "cell_type": "markdown",
      "metadata": {
        "id": "0-FIHE2w4kOj",
        "colab_type": "text"
      },
      "source": [
        "##Existe relação entre os casos e PIB per capta"
      ]
    },
    {
      "cell_type": "code",
      "metadata": {
        "id": "AV-n6KNJ4xJ4",
        "colab_type": "code",
        "colab": {
          "base_uri": "https://localhost:8080/",
          "height": 544
        },
        "outputId": "b4925b6f-7e26-45b6-c916-de2bde184876"
      },
      "source": [
        "fig, ax = plt.subplots(figsize = (15,6))\n",
        "\n",
        "\n",
        "plt.xlabel(\"Número de mortos\")\n",
        "plt.ylabel(\"PIB per capta\")\n",
        "plt.xscale(\"log\")\n",
        "plt.title(\"Disperssão entre o número de mortos e o PIB per capta\")\n",
        "sns.regplot('total_deaths','gdp_per_capita',data = covid_dts, line_kws = {\"color\":\"red\"},)\n",
        "plt.show()\n"
      ],
      "execution_count": null,
      "outputs": [
        {
          "output_type": "display_data",
          "data": {
            "text/plain": [
              "<Figure size 1080x432 with 1 Axes>"
            ],
            "image/svg+xml": "<?xml version=\"1.0\" encoding=\"utf-8\" standalone=\"no\"?>\n<!DOCTYPE svg PUBLIC \"-//W3C//DTD SVG 1.1//EN\"\n  \"http://www.w3.org/Graphics/SVG/1.1/DTD/svg11.dtd\">\n<!-- Created with matplotlib (https://matplotlib.org/) -->\n<svg height=\"392.251562pt\" version=\"1.1\" viewBox=\"0 0 918.84 392.251562\" width=\"918.84pt\" xmlns=\"http://www.w3.org/2000/svg\" xmlns:xlink=\"http://www.w3.org/1999/xlink\">\n <defs>\n  <style type=\"text/css\">\n*{stroke-linecap:butt;stroke-linejoin:round;}\n  </style>\n </defs>\n <g id=\"figure_1\">\n  <g id=\"patch_1\">\n   <path d=\"M 0 392.251562 \nL 918.84 392.251562 \nL 918.84 0 \nL 0 0 \nz\n\" style=\"fill:none;\"/>\n  </g>\n  <g id=\"axes_1\">\n   <g id=\"patch_2\">\n    <path d=\"M 74.64 348.958125 \nL 911.64 348.958125 \nL 911.64 22.798125 \nL 74.64 22.798125 \nz\n\" style=\"fill:#eaeaf2;\"/>\n   </g>\n   <g id=\"matplotlib.axis_1\">\n    <g id=\"xtick_1\">\n     <g id=\"line2d_1\">\n      <path clip-path=\"url(#pce6531cd0e)\" d=\"M 87.851857 348.958125 \nL 87.851857 22.798125 \n\" style=\"fill:none;stroke:#ffffff;stroke-linecap:round;\"/>\n     </g>\n     <g id=\"text_1\">\n      <!-- $\\mathdefault{10^{3}}$ -->\n      <defs>\n       <path d=\"M 12.40625 8.296875 \nL 28.515625 8.296875 \nL 28.515625 63.921875 \nL 10.984375 60.40625 \nL 10.984375 69.390625 \nL 28.421875 72.90625 \nL 38.28125 72.90625 \nL 38.28125 8.296875 \nL 54.390625 8.296875 \nL 54.390625 0 \nL 12.40625 0 \nz\n\" id=\"DejaVuSans-49\"/>\n       <path d=\"M 31.78125 66.40625 \nQ 24.171875 66.40625 20.328125 58.90625 \nQ 16.5 51.421875 16.5 36.375 \nQ 16.5 21.390625 20.328125 13.890625 \nQ 24.171875 6.390625 31.78125 6.390625 \nQ 39.453125 6.390625 43.28125 13.890625 \nQ 47.125 21.390625 47.125 36.375 \nQ 47.125 51.421875 43.28125 58.90625 \nQ 39.453125 66.40625 31.78125 66.40625 \nz\nM 31.78125 74.21875 \nQ 44.046875 74.21875 50.515625 64.515625 \nQ 56.984375 54.828125 56.984375 36.375 \nQ 56.984375 17.96875 50.515625 8.265625 \nQ 44.046875 -1.421875 31.78125 -1.421875 \nQ 19.53125 -1.421875 13.0625 8.265625 \nQ 6.59375 17.96875 6.59375 36.375 \nQ 6.59375 54.828125 13.0625 64.515625 \nQ 19.53125 74.21875 31.78125 74.21875 \nz\n\" id=\"DejaVuSans-48\"/>\n       <path d=\"M 40.578125 39.3125 \nQ 47.65625 37.796875 51.625 33 \nQ 55.609375 28.21875 55.609375 21.1875 \nQ 55.609375 10.40625 48.1875 4.484375 \nQ 40.765625 -1.421875 27.09375 -1.421875 \nQ 22.515625 -1.421875 17.65625 -0.515625 \nQ 12.796875 0.390625 7.625 2.203125 \nL 7.625 11.71875 \nQ 11.71875 9.328125 16.59375 8.109375 \nQ 21.484375 6.890625 26.8125 6.890625 \nQ 36.078125 6.890625 40.9375 10.546875 \nQ 45.796875 14.203125 45.796875 21.1875 \nQ 45.796875 27.640625 41.28125 31.265625 \nQ 36.765625 34.90625 28.71875 34.90625 \nL 20.21875 34.90625 \nL 20.21875 43.015625 \nL 29.109375 43.015625 \nQ 36.375 43.015625 40.234375 45.921875 \nQ 44.09375 48.828125 44.09375 54.296875 \nQ 44.09375 59.90625 40.109375 62.90625 \nQ 36.140625 65.921875 28.71875 65.921875 \nQ 24.65625 65.921875 20.015625 65.03125 \nQ 15.375 64.15625 9.8125 62.3125 \nL 9.8125 71.09375 \nQ 15.4375 72.65625 20.34375 73.4375 \nQ 25.25 74.21875 29.59375 74.21875 \nQ 40.828125 74.21875 47.359375 69.109375 \nQ 53.90625 64.015625 53.90625 55.328125 \nQ 53.90625 49.265625 50.4375 45.09375 \nQ 46.96875 40.921875 40.578125 39.3125 \nz\n\" id=\"DejaVuSans-51\"/>\n      </defs>\n      <g style=\"fill:#262626;\" transform=\"translate(78.171857 366.816406)scale(0.11 -0.11)\">\n       <use transform=\"translate(0 0.765625)\" xlink:href=\"#DejaVuSans-49\"/>\n       <use transform=\"translate(63.623047 0.765625)\" xlink:href=\"#DejaVuSans-48\"/>\n       <use transform=\"translate(128.203125 39.046875)scale(0.7)\" xlink:href=\"#DejaVuSans-51\"/>\n      </g>\n     </g>\n    </g>\n    <g id=\"xtick_2\">\n     <g id=\"line2d_2\">\n      <path clip-path=\"url(#pce6531cd0e)\" d=\"M 487.295031 348.958125 \nL 487.295031 22.798125 \n\" style=\"fill:none;stroke:#ffffff;stroke-linecap:round;\"/>\n     </g>\n     <g id=\"text_2\">\n      <!-- $\\mathdefault{10^{4}}$ -->\n      <defs>\n       <path d=\"M 37.796875 64.3125 \nL 12.890625 25.390625 \nL 37.796875 25.390625 \nz\nM 35.203125 72.90625 \nL 47.609375 72.90625 \nL 47.609375 25.390625 \nL 58.015625 25.390625 \nL 58.015625 17.1875 \nL 47.609375 17.1875 \nL 47.609375 0 \nL 37.796875 0 \nL 37.796875 17.1875 \nL 4.890625 17.1875 \nL 4.890625 26.703125 \nz\n\" id=\"DejaVuSans-52\"/>\n      </defs>\n      <g style=\"fill:#262626;\" transform=\"translate(477.615031 366.816406)scale(0.11 -0.11)\">\n       <use transform=\"translate(0 0.684375)\" xlink:href=\"#DejaVuSans-49\"/>\n       <use transform=\"translate(63.623047 0.684375)\" xlink:href=\"#DejaVuSans-48\"/>\n       <use transform=\"translate(128.203125 38.965625)scale(0.7)\" xlink:href=\"#DejaVuSans-52\"/>\n      </g>\n     </g>\n    </g>\n    <g id=\"xtick_3\">\n     <g id=\"line2d_3\">\n      <path clip-path=\"url(#pce6531cd0e)\" d=\"M 886.738205 348.958125 \nL 886.738205 22.798125 \n\" style=\"fill:none;stroke:#ffffff;stroke-linecap:round;\"/>\n     </g>\n     <g id=\"text_3\">\n      <!-- $\\mathdefault{10^{5}}$ -->\n      <defs>\n       <path d=\"M 10.796875 72.90625 \nL 49.515625 72.90625 \nL 49.515625 64.59375 \nL 19.828125 64.59375 \nL 19.828125 46.734375 \nQ 21.96875 47.46875 24.109375 47.828125 \nQ 26.265625 48.1875 28.421875 48.1875 \nQ 40.625 48.1875 47.75 41.5 \nQ 54.890625 34.8125 54.890625 23.390625 \nQ 54.890625 11.625 47.5625 5.09375 \nQ 40.234375 -1.421875 26.90625 -1.421875 \nQ 22.3125 -1.421875 17.546875 -0.640625 \nQ 12.796875 0.140625 7.71875 1.703125 \nL 7.71875 11.625 \nQ 12.109375 9.234375 16.796875 8.0625 \nQ 21.484375 6.890625 26.703125 6.890625 \nQ 35.15625 6.890625 40.078125 11.328125 \nQ 45.015625 15.765625 45.015625 23.390625 \nQ 45.015625 31 40.078125 35.4375 \nQ 35.15625 39.890625 26.703125 39.890625 \nQ 22.75 39.890625 18.8125 39.015625 \nQ 14.890625 38.140625 10.796875 36.28125 \nz\n\" id=\"DejaVuSans-53\"/>\n      </defs>\n      <g style=\"fill:#262626;\" transform=\"translate(877.058205 366.816406)scale(0.11 -0.11)\">\n       <use transform=\"translate(0 0.684375)\" xlink:href=\"#DejaVuSans-49\"/>\n       <use transform=\"translate(63.623047 0.684375)\" xlink:href=\"#DejaVuSans-48\"/>\n       <use transform=\"translate(128.203125 38.965625)scale(0.7)\" xlink:href=\"#DejaVuSans-53\"/>\n      </g>\n     </g>\n    </g>\n    <g id=\"xtick_4\"/>\n    <g id=\"xtick_5\"/>\n    <g id=\"xtick_6\"/>\n    <g id=\"xtick_7\"/>\n    <g id=\"xtick_8\"/>\n    <g id=\"xtick_9\"/>\n    <g id=\"xtick_10\"/>\n    <g id=\"xtick_11\"/>\n    <g id=\"xtick_12\"/>\n    <g id=\"xtick_13\"/>\n    <g id=\"xtick_14\"/>\n    <g id=\"xtick_15\"/>\n    <g id=\"xtick_16\"/>\n    <g id=\"xtick_17\"/>\n    <g id=\"xtick_18\"/>\n    <g id=\"xtick_19\"/>\n    <g id=\"text_4\">\n     <!-- total_deaths -->\n     <defs>\n      <path d=\"M 18.3125 70.21875 \nL 18.3125 54.6875 \nL 36.8125 54.6875 \nL 36.8125 47.703125 \nL 18.3125 47.703125 \nL 18.3125 18.015625 \nQ 18.3125 11.328125 20.140625 9.421875 \nQ 21.96875 7.515625 27.59375 7.515625 \nL 36.8125 7.515625 \nL 36.8125 0 \nL 27.59375 0 \nQ 17.1875 0 13.234375 3.875 \nQ 9.28125 7.765625 9.28125 18.015625 \nL 9.28125 47.703125 \nL 2.6875 47.703125 \nL 2.6875 54.6875 \nL 9.28125 54.6875 \nL 9.28125 70.21875 \nz\n\" id=\"DejaVuSans-116\"/>\n      <path d=\"M 30.609375 48.390625 \nQ 23.390625 48.390625 19.1875 42.75 \nQ 14.984375 37.109375 14.984375 27.296875 \nQ 14.984375 17.484375 19.15625 11.84375 \nQ 23.34375 6.203125 30.609375 6.203125 \nQ 37.796875 6.203125 41.984375 11.859375 \nQ 46.1875 17.53125 46.1875 27.296875 \nQ 46.1875 37.015625 41.984375 42.703125 \nQ 37.796875 48.390625 30.609375 48.390625 \nz\nM 30.609375 56 \nQ 42.328125 56 49.015625 48.375 \nQ 55.71875 40.765625 55.71875 27.296875 \nQ 55.71875 13.875 49.015625 6.21875 \nQ 42.328125 -1.421875 30.609375 -1.421875 \nQ 18.84375 -1.421875 12.171875 6.21875 \nQ 5.515625 13.875 5.515625 27.296875 \nQ 5.515625 40.765625 12.171875 48.375 \nQ 18.84375 56 30.609375 56 \nz\n\" id=\"DejaVuSans-111\"/>\n      <path d=\"M 34.28125 27.484375 \nQ 23.390625 27.484375 19.1875 25 \nQ 14.984375 22.515625 14.984375 16.5 \nQ 14.984375 11.71875 18.140625 8.90625 \nQ 21.296875 6.109375 26.703125 6.109375 \nQ 34.1875 6.109375 38.703125 11.40625 \nQ 43.21875 16.703125 43.21875 25.484375 \nL 43.21875 27.484375 \nz\nM 52.203125 31.203125 \nL 52.203125 0 \nL 43.21875 0 \nL 43.21875 8.296875 \nQ 40.140625 3.328125 35.546875 0.953125 \nQ 30.953125 -1.421875 24.3125 -1.421875 \nQ 15.921875 -1.421875 10.953125 3.296875 \nQ 6 8.015625 6 15.921875 \nQ 6 25.140625 12.171875 29.828125 \nQ 18.359375 34.515625 30.609375 34.515625 \nL 43.21875 34.515625 \nL 43.21875 35.40625 \nQ 43.21875 41.609375 39.140625 45 \nQ 35.0625 48.390625 27.6875 48.390625 \nQ 23 48.390625 18.546875 47.265625 \nQ 14.109375 46.140625 10.015625 43.890625 \nL 10.015625 52.203125 \nQ 14.9375 54.109375 19.578125 55.046875 \nQ 24.21875 56 28.609375 56 \nQ 40.484375 56 46.34375 49.84375 \nQ 52.203125 43.703125 52.203125 31.203125 \nz\n\" id=\"DejaVuSans-97\"/>\n      <path d=\"M 9.421875 75.984375 \nL 18.40625 75.984375 \nL 18.40625 0 \nL 9.421875 0 \nz\n\" id=\"DejaVuSans-108\"/>\n      <path d=\"M 50.984375 -16.609375 \nL 50.984375 -23.578125 \nL -0.984375 -23.578125 \nL -0.984375 -16.609375 \nz\n\" id=\"DejaVuSans-95\"/>\n      <path d=\"M 45.40625 46.390625 \nL 45.40625 75.984375 \nL 54.390625 75.984375 \nL 54.390625 0 \nL 45.40625 0 \nL 45.40625 8.203125 \nQ 42.578125 3.328125 38.25 0.953125 \nQ 33.9375 -1.421875 27.875 -1.421875 \nQ 17.96875 -1.421875 11.734375 6.484375 \nQ 5.515625 14.40625 5.515625 27.296875 \nQ 5.515625 40.1875 11.734375 48.09375 \nQ 17.96875 56 27.875 56 \nQ 33.9375 56 38.25 53.625 \nQ 42.578125 51.265625 45.40625 46.390625 \nz\nM 14.796875 27.296875 \nQ 14.796875 17.390625 18.875 11.75 \nQ 22.953125 6.109375 30.078125 6.109375 \nQ 37.203125 6.109375 41.296875 11.75 \nQ 45.40625 17.390625 45.40625 27.296875 \nQ 45.40625 37.203125 41.296875 42.84375 \nQ 37.203125 48.484375 30.078125 48.484375 \nQ 22.953125 48.484375 18.875 42.84375 \nQ 14.796875 37.203125 14.796875 27.296875 \nz\n\" id=\"DejaVuSans-100\"/>\n      <path d=\"M 56.203125 29.59375 \nL 56.203125 25.203125 \nL 14.890625 25.203125 \nQ 15.484375 15.921875 20.484375 11.0625 \nQ 25.484375 6.203125 34.421875 6.203125 \nQ 39.59375 6.203125 44.453125 7.46875 \nQ 49.3125 8.734375 54.109375 11.28125 \nL 54.109375 2.78125 \nQ 49.265625 0.734375 44.1875 -0.34375 \nQ 39.109375 -1.421875 33.890625 -1.421875 \nQ 20.796875 -1.421875 13.15625 6.1875 \nQ 5.515625 13.8125 5.515625 26.8125 \nQ 5.515625 40.234375 12.765625 48.109375 \nQ 20.015625 56 32.328125 56 \nQ 43.359375 56 49.78125 48.890625 \nQ 56.203125 41.796875 56.203125 29.59375 \nz\nM 47.21875 32.234375 \nQ 47.125 39.59375 43.09375 43.984375 \nQ 39.0625 48.390625 32.421875 48.390625 \nQ 24.90625 48.390625 20.390625 44.140625 \nQ 15.875 39.890625 15.1875 32.171875 \nz\n\" id=\"DejaVuSans-101\"/>\n      <path d=\"M 54.890625 33.015625 \nL 54.890625 0 \nL 45.90625 0 \nL 45.90625 32.71875 \nQ 45.90625 40.484375 42.875 44.328125 \nQ 39.84375 48.1875 33.796875 48.1875 \nQ 26.515625 48.1875 22.3125 43.546875 \nQ 18.109375 38.921875 18.109375 30.90625 \nL 18.109375 0 \nL 9.078125 0 \nL 9.078125 75.984375 \nL 18.109375 75.984375 \nL 18.109375 46.1875 \nQ 21.34375 51.125 25.703125 53.5625 \nQ 30.078125 56 35.796875 56 \nQ 45.21875 56 50.046875 50.171875 \nQ 54.890625 44.34375 54.890625 33.015625 \nz\n\" id=\"DejaVuSans-104\"/>\n      <path d=\"M 44.28125 53.078125 \nL 44.28125 44.578125 \nQ 40.484375 46.53125 36.375 47.5 \nQ 32.28125 48.484375 27.875 48.484375 \nQ 21.1875 48.484375 17.84375 46.4375 \nQ 14.5 44.390625 14.5 40.28125 \nQ 14.5 37.15625 16.890625 35.375 \nQ 19.28125 33.59375 26.515625 31.984375 \nL 29.59375 31.296875 \nQ 39.15625 29.25 43.1875 25.515625 \nQ 47.21875 21.78125 47.21875 15.09375 \nQ 47.21875 7.46875 41.1875 3.015625 \nQ 35.15625 -1.421875 24.609375 -1.421875 \nQ 20.21875 -1.421875 15.453125 -0.5625 \nQ 10.6875 0.296875 5.421875 2 \nL 5.421875 11.28125 \nQ 10.40625 8.6875 15.234375 7.390625 \nQ 20.0625 6.109375 24.8125 6.109375 \nQ 31.15625 6.109375 34.5625 8.28125 \nQ 37.984375 10.453125 37.984375 14.40625 \nQ 37.984375 18.0625 35.515625 20.015625 \nQ 33.0625 21.96875 24.703125 23.78125 \nL 21.578125 24.515625 \nQ 13.234375 26.265625 9.515625 29.90625 \nQ 5.8125 33.546875 5.8125 39.890625 \nQ 5.8125 47.609375 11.28125 51.796875 \nQ 16.75 56 26.8125 56 \nQ 31.78125 56 36.171875 55.265625 \nQ 40.578125 54.546875 44.28125 53.078125 \nz\n\" id=\"DejaVuSans-115\"/>\n     </defs>\n     <g style=\"fill:#262626;\" transform=\"translate(455.9625 382.222187)scale(0.12 -0.12)\">\n      <use xlink:href=\"#DejaVuSans-116\"/>\n      <use x=\"39.208984\" xlink:href=\"#DejaVuSans-111\"/>\n      <use x=\"100.390625\" xlink:href=\"#DejaVuSans-116\"/>\n      <use x=\"139.599609\" xlink:href=\"#DejaVuSans-97\"/>\n      <use x=\"200.878906\" xlink:href=\"#DejaVuSans-108\"/>\n      <use x=\"228.662109\" xlink:href=\"#DejaVuSans-95\"/>\n      <use x=\"278.662109\" xlink:href=\"#DejaVuSans-100\"/>\n      <use x=\"342.138672\" xlink:href=\"#DejaVuSans-101\"/>\n      <use x=\"403.662109\" xlink:href=\"#DejaVuSans-97\"/>\n      <use x=\"464.941406\" xlink:href=\"#DejaVuSans-116\"/>\n      <use x=\"504.150391\" xlink:href=\"#DejaVuSans-104\"/>\n      <use x=\"567.529297\" xlink:href=\"#DejaVuSans-115\"/>\n     </g>\n    </g>\n   </g>\n   <g id=\"matplotlib.axis_2\">\n    <g id=\"ytick_1\">\n     <g id=\"line2d_4\">\n      <path clip-path=\"url(#pce6531cd0e)\" d=\"M 74.64 335.818886 \nL 911.64 335.818886 \n\" style=\"fill:none;stroke:#ffffff;stroke-linecap:round;\"/>\n     </g>\n     <g id=\"text_5\">\n      <!-- 0 -->\n      <g style=\"fill:#262626;\" transform=\"translate(58.14125 339.998027)scale(0.11 -0.11)\">\n       <use xlink:href=\"#DejaVuSans-48\"/>\n      </g>\n     </g>\n    </g>\n    <g id=\"ytick_2\">\n     <g id=\"line2d_5\">\n      <path clip-path=\"url(#pce6531cd0e)\" d=\"M 74.64 284.817257 \nL 911.64 284.817257 \n\" style=\"fill:none;stroke:#ffffff;stroke-linecap:round;\"/>\n     </g>\n     <g id=\"text_6\">\n      <!-- 20000 -->\n      <defs>\n       <path d=\"M 19.1875 8.296875 \nL 53.609375 8.296875 \nL 53.609375 0 \nL 7.328125 0 \nL 7.328125 8.296875 \nQ 12.9375 14.109375 22.625 23.890625 \nQ 32.328125 33.6875 34.8125 36.53125 \nQ 39.546875 41.84375 41.421875 45.53125 \nQ 43.3125 49.21875 43.3125 52.78125 \nQ 43.3125 58.59375 39.234375 62.25 \nQ 35.15625 65.921875 28.609375 65.921875 \nQ 23.96875 65.921875 18.8125 64.3125 \nQ 13.671875 62.703125 7.8125 59.421875 \nL 7.8125 69.390625 \nQ 13.765625 71.78125 18.9375 73 \nQ 24.125 74.21875 28.421875 74.21875 \nQ 39.75 74.21875 46.484375 68.546875 \nQ 53.21875 62.890625 53.21875 53.421875 \nQ 53.21875 48.921875 51.53125 44.890625 \nQ 49.859375 40.875 45.40625 35.40625 \nQ 44.1875 33.984375 37.640625 27.21875 \nQ 31.109375 20.453125 19.1875 8.296875 \nz\n\" id=\"DejaVuSans-50\"/>\n      </defs>\n      <g style=\"fill:#262626;\" transform=\"translate(30.14625 288.996398)scale(0.11 -0.11)\">\n       <use xlink:href=\"#DejaVuSans-50\"/>\n       <use x=\"63.623047\" xlink:href=\"#DejaVuSans-48\"/>\n       <use x=\"127.246094\" xlink:href=\"#DejaVuSans-48\"/>\n       <use x=\"190.869141\" xlink:href=\"#DejaVuSans-48\"/>\n       <use x=\"254.492188\" xlink:href=\"#DejaVuSans-48\"/>\n      </g>\n     </g>\n    </g>\n    <g id=\"ytick_3\">\n     <g id=\"line2d_6\">\n      <path clip-path=\"url(#pce6531cd0e)\" d=\"M 74.64 233.815628 \nL 911.64 233.815628 \n\" style=\"fill:none;stroke:#ffffff;stroke-linecap:round;\"/>\n     </g>\n     <g id=\"text_7\">\n      <!-- 40000 -->\n      <g style=\"fill:#262626;\" transform=\"translate(30.14625 237.994768)scale(0.11 -0.11)\">\n       <use xlink:href=\"#DejaVuSans-52\"/>\n       <use x=\"63.623047\" xlink:href=\"#DejaVuSans-48\"/>\n       <use x=\"127.246094\" xlink:href=\"#DejaVuSans-48\"/>\n       <use x=\"190.869141\" xlink:href=\"#DejaVuSans-48\"/>\n       <use x=\"254.492188\" xlink:href=\"#DejaVuSans-48\"/>\n      </g>\n     </g>\n    </g>\n    <g id=\"ytick_4\">\n     <g id=\"line2d_7\">\n      <path clip-path=\"url(#pce6531cd0e)\" d=\"M 74.64 182.813998 \nL 911.64 182.813998 \n\" style=\"fill:none;stroke:#ffffff;stroke-linecap:round;\"/>\n     </g>\n     <g id=\"text_8\">\n      <!-- 60000 -->\n      <defs>\n       <path d=\"M 33.015625 40.375 \nQ 26.375 40.375 22.484375 35.828125 \nQ 18.609375 31.296875 18.609375 23.390625 \nQ 18.609375 15.53125 22.484375 10.953125 \nQ 26.375 6.390625 33.015625 6.390625 \nQ 39.65625 6.390625 43.53125 10.953125 \nQ 47.40625 15.53125 47.40625 23.390625 \nQ 47.40625 31.296875 43.53125 35.828125 \nQ 39.65625 40.375 33.015625 40.375 \nz\nM 52.59375 71.296875 \nL 52.59375 62.3125 \nQ 48.875 64.0625 45.09375 64.984375 \nQ 41.3125 65.921875 37.59375 65.921875 \nQ 27.828125 65.921875 22.671875 59.328125 \nQ 17.53125 52.734375 16.796875 39.40625 \nQ 19.671875 43.65625 24.015625 45.921875 \nQ 28.375 48.1875 33.59375 48.1875 \nQ 44.578125 48.1875 50.953125 41.515625 \nQ 57.328125 34.859375 57.328125 23.390625 \nQ 57.328125 12.15625 50.6875 5.359375 \nQ 44.046875 -1.421875 33.015625 -1.421875 \nQ 20.359375 -1.421875 13.671875 8.265625 \nQ 6.984375 17.96875 6.984375 36.375 \nQ 6.984375 53.65625 15.1875 63.9375 \nQ 23.390625 74.21875 37.203125 74.21875 \nQ 40.921875 74.21875 44.703125 73.484375 \nQ 48.484375 72.75 52.59375 71.296875 \nz\n\" id=\"DejaVuSans-54\"/>\n      </defs>\n      <g style=\"fill:#262626;\" transform=\"translate(30.14625 186.993139)scale(0.11 -0.11)\">\n       <use xlink:href=\"#DejaVuSans-54\"/>\n       <use x=\"63.623047\" xlink:href=\"#DejaVuSans-48\"/>\n       <use x=\"127.246094\" xlink:href=\"#DejaVuSans-48\"/>\n       <use x=\"190.869141\" xlink:href=\"#DejaVuSans-48\"/>\n       <use x=\"254.492188\" xlink:href=\"#DejaVuSans-48\"/>\n      </g>\n     </g>\n    </g>\n    <g id=\"ytick_5\">\n     <g id=\"line2d_8\">\n      <path clip-path=\"url(#pce6531cd0e)\" d=\"M 74.64 131.812369 \nL 911.64 131.812369 \n\" style=\"fill:none;stroke:#ffffff;stroke-linecap:round;\"/>\n     </g>\n     <g id=\"text_9\">\n      <!-- 80000 -->\n      <defs>\n       <path d=\"M 31.78125 34.625 \nQ 24.75 34.625 20.71875 30.859375 \nQ 16.703125 27.09375 16.703125 20.515625 \nQ 16.703125 13.921875 20.71875 10.15625 \nQ 24.75 6.390625 31.78125 6.390625 \nQ 38.8125 6.390625 42.859375 10.171875 \nQ 46.921875 13.96875 46.921875 20.515625 \nQ 46.921875 27.09375 42.890625 30.859375 \nQ 38.875 34.625 31.78125 34.625 \nz\nM 21.921875 38.8125 \nQ 15.578125 40.375 12.03125 44.71875 \nQ 8.5 49.078125 8.5 55.328125 \nQ 8.5 64.0625 14.71875 69.140625 \nQ 20.953125 74.21875 31.78125 74.21875 \nQ 42.671875 74.21875 48.875 69.140625 \nQ 55.078125 64.0625 55.078125 55.328125 \nQ 55.078125 49.078125 51.53125 44.71875 \nQ 48 40.375 41.703125 38.8125 \nQ 48.828125 37.15625 52.796875 32.3125 \nQ 56.78125 27.484375 56.78125 20.515625 \nQ 56.78125 9.90625 50.3125 4.234375 \nQ 43.84375 -1.421875 31.78125 -1.421875 \nQ 19.734375 -1.421875 13.25 4.234375 \nQ 6.78125 9.90625 6.78125 20.515625 \nQ 6.78125 27.484375 10.78125 32.3125 \nQ 14.796875 37.15625 21.921875 38.8125 \nz\nM 18.3125 54.390625 \nQ 18.3125 48.734375 21.84375 45.5625 \nQ 25.390625 42.390625 31.78125 42.390625 \nQ 38.140625 42.390625 41.71875 45.5625 \nQ 45.3125 48.734375 45.3125 54.390625 \nQ 45.3125 60.0625 41.71875 63.234375 \nQ 38.140625 66.40625 31.78125 66.40625 \nQ 25.390625 66.40625 21.84375 63.234375 \nQ 18.3125 60.0625 18.3125 54.390625 \nz\n\" id=\"DejaVuSans-56\"/>\n      </defs>\n      <g style=\"fill:#262626;\" transform=\"translate(30.14625 135.991509)scale(0.11 -0.11)\">\n       <use xlink:href=\"#DejaVuSans-56\"/>\n       <use x=\"63.623047\" xlink:href=\"#DejaVuSans-48\"/>\n       <use x=\"127.246094\" xlink:href=\"#DejaVuSans-48\"/>\n       <use x=\"190.869141\" xlink:href=\"#DejaVuSans-48\"/>\n       <use x=\"254.492188\" xlink:href=\"#DejaVuSans-48\"/>\n      </g>\n     </g>\n    </g>\n    <g id=\"ytick_6\">\n     <g id=\"line2d_9\">\n      <path clip-path=\"url(#pce6531cd0e)\" d=\"M 74.64 80.810739 \nL 911.64 80.810739 \n\" style=\"fill:none;stroke:#ffffff;stroke-linecap:round;\"/>\n     </g>\n     <g id=\"text_10\">\n      <!-- 100000 -->\n      <g style=\"fill:#262626;\" transform=\"translate(23.1475 84.98988)scale(0.11 -0.11)\">\n       <use xlink:href=\"#DejaVuSans-49\"/>\n       <use x=\"63.623047\" xlink:href=\"#DejaVuSans-48\"/>\n       <use x=\"127.246094\" xlink:href=\"#DejaVuSans-48\"/>\n       <use x=\"190.869141\" xlink:href=\"#DejaVuSans-48\"/>\n       <use x=\"254.492188\" xlink:href=\"#DejaVuSans-48\"/>\n       <use x=\"318.115234\" xlink:href=\"#DejaVuSans-48\"/>\n      </g>\n     </g>\n    </g>\n    <g id=\"ytick_7\">\n     <g id=\"line2d_10\">\n      <path clip-path=\"url(#pce6531cd0e)\" d=\"M 74.64 29.80911 \nL 911.64 29.80911 \n\" style=\"fill:none;stroke:#ffffff;stroke-linecap:round;\"/>\n     </g>\n     <g id=\"text_11\">\n      <!-- 120000 -->\n      <g style=\"fill:#262626;\" transform=\"translate(23.1475 33.988251)scale(0.11 -0.11)\">\n       <use xlink:href=\"#DejaVuSans-49\"/>\n       <use x=\"63.623047\" xlink:href=\"#DejaVuSans-50\"/>\n       <use x=\"127.246094\" xlink:href=\"#DejaVuSans-48\"/>\n       <use x=\"190.869141\" xlink:href=\"#DejaVuSans-48\"/>\n       <use x=\"254.492188\" xlink:href=\"#DejaVuSans-48\"/>\n       <use x=\"318.115234\" xlink:href=\"#DejaVuSans-48\"/>\n      </g>\n     </g>\n    </g>\n    <g id=\"text_12\">\n     <!-- gdp_per_capita -->\n     <defs>\n      <path d=\"M 45.40625 27.984375 \nQ 45.40625 37.75 41.375 43.109375 \nQ 37.359375 48.484375 30.078125 48.484375 \nQ 22.859375 48.484375 18.828125 43.109375 \nQ 14.796875 37.75 14.796875 27.984375 \nQ 14.796875 18.265625 18.828125 12.890625 \nQ 22.859375 7.515625 30.078125 7.515625 \nQ 37.359375 7.515625 41.375 12.890625 \nQ 45.40625 18.265625 45.40625 27.984375 \nz\nM 54.390625 6.78125 \nQ 54.390625 -7.171875 48.1875 -13.984375 \nQ 42 -20.796875 29.203125 -20.796875 \nQ 24.46875 -20.796875 20.265625 -20.09375 \nQ 16.0625 -19.390625 12.109375 -17.921875 \nL 12.109375 -9.1875 \nQ 16.0625 -11.328125 19.921875 -12.34375 \nQ 23.78125 -13.375 27.78125 -13.375 \nQ 36.625 -13.375 41.015625 -8.765625 \nQ 45.40625 -4.15625 45.40625 5.171875 \nL 45.40625 9.625 \nQ 42.625 4.78125 38.28125 2.390625 \nQ 33.9375 0 27.875 0 \nQ 17.828125 0 11.671875 7.65625 \nQ 5.515625 15.328125 5.515625 27.984375 \nQ 5.515625 40.671875 11.671875 48.328125 \nQ 17.828125 56 27.875 56 \nQ 33.9375 56 38.28125 53.609375 \nQ 42.625 51.21875 45.40625 46.390625 \nL 45.40625 54.6875 \nL 54.390625 54.6875 \nz\n\" id=\"DejaVuSans-103\"/>\n      <path d=\"M 18.109375 8.203125 \nL 18.109375 -20.796875 \nL 9.078125 -20.796875 \nL 9.078125 54.6875 \nL 18.109375 54.6875 \nL 18.109375 46.390625 \nQ 20.953125 51.265625 25.265625 53.625 \nQ 29.59375 56 35.59375 56 \nQ 45.5625 56 51.78125 48.09375 \nQ 58.015625 40.1875 58.015625 27.296875 \nQ 58.015625 14.40625 51.78125 6.484375 \nQ 45.5625 -1.421875 35.59375 -1.421875 \nQ 29.59375 -1.421875 25.265625 0.953125 \nQ 20.953125 3.328125 18.109375 8.203125 \nz\nM 48.6875 27.296875 \nQ 48.6875 37.203125 44.609375 42.84375 \nQ 40.53125 48.484375 33.40625 48.484375 \nQ 26.265625 48.484375 22.1875 42.84375 \nQ 18.109375 37.203125 18.109375 27.296875 \nQ 18.109375 17.390625 22.1875 11.75 \nQ 26.265625 6.109375 33.40625 6.109375 \nQ 40.53125 6.109375 44.609375 11.75 \nQ 48.6875 17.390625 48.6875 27.296875 \nz\n\" id=\"DejaVuSans-112\"/>\n      <path d=\"M 41.109375 46.296875 \nQ 39.59375 47.171875 37.8125 47.578125 \nQ 36.03125 48 33.890625 48 \nQ 26.265625 48 22.1875 43.046875 \nQ 18.109375 38.09375 18.109375 28.8125 \nL 18.109375 0 \nL 9.078125 0 \nL 9.078125 54.6875 \nL 18.109375 54.6875 \nL 18.109375 46.1875 \nQ 20.953125 51.171875 25.484375 53.578125 \nQ 30.03125 56 36.53125 56 \nQ 37.453125 56 38.578125 55.875 \nQ 39.703125 55.765625 41.0625 55.515625 \nz\n\" id=\"DejaVuSans-114\"/>\n      <path d=\"M 48.78125 52.59375 \nL 48.78125 44.1875 \nQ 44.96875 46.296875 41.140625 47.34375 \nQ 37.3125 48.390625 33.40625 48.390625 \nQ 24.65625 48.390625 19.8125 42.84375 \nQ 14.984375 37.3125 14.984375 27.296875 \nQ 14.984375 17.28125 19.8125 11.734375 \nQ 24.65625 6.203125 33.40625 6.203125 \nQ 37.3125 6.203125 41.140625 7.25 \nQ 44.96875 8.296875 48.78125 10.40625 \nL 48.78125 2.09375 \nQ 45.015625 0.34375 40.984375 -0.53125 \nQ 36.96875 -1.421875 32.421875 -1.421875 \nQ 20.0625 -1.421875 12.78125 6.34375 \nQ 5.515625 14.109375 5.515625 27.296875 \nQ 5.515625 40.671875 12.859375 48.328125 \nQ 20.21875 56 33.015625 56 \nQ 37.15625 56 41.109375 55.140625 \nQ 45.0625 54.296875 48.78125 52.59375 \nz\n\" id=\"DejaVuSans-99\"/>\n      <path d=\"M 9.421875 54.6875 \nL 18.40625 54.6875 \nL 18.40625 0 \nL 9.421875 0 \nz\nM 9.421875 75.984375 \nL 18.40625 75.984375 \nL 18.40625 64.59375 \nL 9.421875 64.59375 \nz\n\" id=\"DejaVuSans-105\"/>\n     </defs>\n     <g style=\"fill:#262626;\" transform=\"translate(16.318125 231.75375)rotate(-90)scale(0.12 -0.12)\">\n      <use xlink:href=\"#DejaVuSans-103\"/>\n      <use x=\"63.476562\" xlink:href=\"#DejaVuSans-100\"/>\n      <use x=\"126.953125\" xlink:href=\"#DejaVuSans-112\"/>\n      <use x=\"190.429688\" xlink:href=\"#DejaVuSans-95\"/>\n      <use x=\"240.429688\" xlink:href=\"#DejaVuSans-112\"/>\n      <use x=\"303.90625\" xlink:href=\"#DejaVuSans-101\"/>\n      <use x=\"365.429688\" xlink:href=\"#DejaVuSans-114\"/>\n      <use x=\"406.542969\" xlink:href=\"#DejaVuSans-95\"/>\n      <use x=\"456.542969\" xlink:href=\"#DejaVuSans-99\"/>\n      <use x=\"511.523438\" xlink:href=\"#DejaVuSans-97\"/>\n      <use x=\"572.802734\" xlink:href=\"#DejaVuSans-112\"/>\n      <use x=\"636.279297\" xlink:href=\"#DejaVuSans-105\"/>\n      <use x=\"664.0625\" xlink:href=\"#DejaVuSans-116\"/>\n      <use x=\"703.271484\" xlink:href=\"#DejaVuSans-97\"/>\n     </g>\n    </g>\n   </g>\n   <g id=\"PathCollection_1\">\n    <defs>\n     <path d=\"M 0 3 \nC 0.795609 3 1.55874 2.683901 2.12132 2.12132 \nC 2.683901 1.55874 3 0.795609 3 0 \nC 3 -0.795609 2.683901 -1.55874 2.12132 -2.12132 \nC 1.55874 -2.683901 0.795609 -3 0 -3 \nC -0.795609 -3 -1.55874 -2.683901 -2.12132 -2.12132 \nC -2.683901 -1.55874 -3 -0.795609 -3 0 \nC -3 0.795609 -2.683901 1.55874 -2.12132 2.12132 \nC -1.55874 2.683901 -0.795609 3 0 3 \nz\n\" id=\"m05ab64be36\" style=\"stroke:#4c72b0;stroke-opacity:0.8;\"/>\n    </defs>\n    <g clip-path=\"url(#pce6531cd0e)\">\n     <use style=\"fill:#4c72b0;fill-opacity:0.8;stroke:#4c72b0;stroke-opacity:0.8;\" x=\"911.64\" xlink:href=\"#m05ab64be36\" y=\"197.539581\"/>\n     <use style=\"fill:#4c72b0;fill-opacity:0.8;stroke:#4c72b0;stroke-opacity:0.8;\" x=\"739.196377\" xlink:href=\"#m05ab64be36\" y=\"299.853935\"/>\n     <use style=\"fill:#4c72b0;fill-opacity:0.8;stroke:#4c72b0;stroke-opacity:0.8;\" x=\"421.13011\" xlink:href=\"#m05ab64be36\" y=\"272.663686\"/>\n     <use style=\"fill:#4c72b0;fill-opacity:0.8;stroke:#4c72b0;stroke-opacity:0.8;\" x=\"472.73602\" xlink:href=\"#m05ab64be36\" y=\"319.430344\"/>\n     <use style=\"fill:#4c72b0;fill-opacity:0.8;stroke:#4c72b0;stroke-opacity:0.8;\" x=\"734.84599\" xlink:href=\"#m05ab64be36\" y=\"234.444875\"/>\n     <use style=\"fill:#4c72b0;fill-opacity:0.8;stroke:#4c72b0;stroke-opacity:0.8;\" x=\"660.471954\" xlink:href=\"#m05ab64be36\" y=\"248.421576\"/>\n     <use style=\"fill:#4c72b0;fill-opacity:0.8;stroke:#4c72b0;stroke-opacity:0.8;\" x=\"701.119671\" xlink:href=\"#m05ab64be36\" y=\"246.004803\"/>\n     <use style=\"fill:#4c72b0;fill-opacity:0.8;stroke:#4c72b0;stroke-opacity:0.8;\" x=\"412.511163\" xlink:href=\"#m05ab64be36\" y=\"304.614289\"/>\n     <use style=\"fill:#4c72b0;fill-opacity:0.8;stroke:#4c72b0;stroke-opacity:0.8;\" x=\"464.862553\" xlink:href=\"#m05ab64be36\" y=\"220.480627\"/>\n     <use style=\"fill:#4c72b0;fill-opacity:0.8;stroke:#4c72b0;stroke-opacity:0.8;\" x=\"463.733573\" xlink:href=\"#m05ab64be36\" y=\"287.156651\"/>\n     <use style=\"fill:#4c72b0;fill-opacity:0.8;stroke:#4c72b0;stroke-opacity:0.8;\" x=\"359.679651\" xlink:href=\"#m05ab64be36\" y=\"271.737019\"/>\n     <use style=\"fill:#4c72b0;fill-opacity:0.8;stroke:#4c72b0;stroke-opacity:0.8;\" x=\"284.178882\" xlink:href=\"#m05ab64be36\" y=\"277.761087\"/>\n     <use style=\"fill:#4c72b0;fill-opacity:0.8;stroke:#4c72b0;stroke-opacity:0.8;\" x=\"674.361374\" xlink:href=\"#m05ab64be36\" y=\"237.37128\"/>\n     <use style=\"fill:#4c72b0;fill-opacity:0.8;stroke:#4c72b0;stroke-opacity:0.8;\" x=\"578.035166\" xlink:href=\"#m05ab64be36\" y=\"291.609478\"/>\n     <use style=\"fill:#4c72b0;fill-opacity:0.8;stroke:#4c72b0;stroke-opacity:0.8;\" x=\"255.732185\" xlink:href=\"#m05ab64be36\" y=\"322.979971\"/>\n     <use style=\"fill:#4c72b0;fill-opacity:0.8;stroke:#4c72b0;stroke-opacity:0.8;\" x=\"75.635251\" xlink:href=\"#m05ab64be36\" y=\"210.749093\"/>\n     <use style=\"fill:#4c72b0;fill-opacity:0.8;stroke:#4c72b0;stroke-opacity:0.8;\" x=\"450.889849\" xlink:href=\"#m05ab64be36\" y=\"223.570443\"/>\n     <use style=\"fill:#4c72b0;fill-opacity:0.8;stroke:#4c72b0;stroke-opacity:0.8;\" x=\"110.429872\" xlink:href=\"#m05ab64be36\" y=\"326.83244\"/>\n     <use style=\"fill:#4c72b0;fill-opacity:0.8;stroke:#4c72b0;stroke-opacity:0.8;\" x=\"354.013124\" xlink:href=\"#m05ab64be36\" y=\"296.780424\"/>\n     <use style=\"fill:#4c72b0;fill-opacity:0.8;stroke:#4c72b0;stroke-opacity:0.8;\" x=\"-1\" xlink:href=\"#m05ab64be36\" y=\"170.310678\"/>\n     <use style=\"fill:#4c72b0;fill-opacity:0.8;stroke:#4c72b0;stroke-opacity:0.8;\" x=\"-1\" xlink:href=\"#m05ab64be36\" y=\"227.837818\"/>\n     <use style=\"fill:#4c72b0;fill-opacity:0.8;stroke:#4c72b0;stroke-opacity:0.8;\" x=\"149.048508\" xlink:href=\"#m05ab64be36\" y=\"304.465951\"/>\n     <use style=\"fill:#4c72b0;fill-opacity:0.8;stroke:#4c72b0;stroke-opacity:0.8;\" x=\"481.114572\" xlink:href=\"#m05ab64be36\" y=\"227.036042\"/>\n     <use style=\"fill:#4c72b0;fill-opacity:0.8;stroke:#4c72b0;stroke-opacity:0.8;\" x=\"-1\" xlink:href=\"#m05ab64be36\" y=\"279.233106\"/>\n     <use style=\"fill:#4c72b0;fill-opacity:0.8;stroke:#4c72b0;stroke-opacity:0.8;\" x=\"-1\" xlink:href=\"#m05ab64be36\" y=\"273.398735\"/>\n     <use style=\"fill:#4c72b0;fill-opacity:0.8;stroke:#4c72b0;stroke-opacity:0.8;\" x=\"362.623034\" xlink:href=\"#m05ab64be36\" y=\"216.09439\"/>\n     <use style=\"fill:#4c72b0;fill-opacity:0.8;stroke:#4c72b0;stroke-opacity:0.8;\" x=\"168.516635\" xlink:href=\"#m05ab64be36\" y=\"302.017686\"/>\n     <use style=\"fill:#4c72b0;fill-opacity:0.8;stroke:#4c72b0;stroke-opacity:0.8;\" x=\"400.319305\" xlink:href=\"#m05ab64be36\" y=\"212.209948\"/>\n     <use style=\"fill:#4c72b0;fill-opacity:0.8;stroke:#4c72b0;stroke-opacity:0.8;\" x=\"322.788201\" xlink:href=\"#m05ab64be36\" y=\"308.834087\"/>\n     <use style=\"fill:#4c72b0;fill-opacity:0.8;stroke:#4c72b0;stroke-opacity:0.8;\" x=\"156.329958\" xlink:href=\"#m05ab64be36\" y=\"308.915001\"/>\n     <use style=\"fill:#4c72b0;fill-opacity:0.8;stroke:#4c72b0;stroke-opacity:0.8;\" x=\"-1\" xlink:href=\"#m05ab64be36\" y=\"228.872687\"/>\n     <use style=\"fill:#4c72b0;fill-opacity:0.8;stroke:#4c72b0;stroke-opacity:0.8;\" x=\"-1\" xlink:href=\"#m05ab64be36\" y=\"253.277429\"/>\n     <use style=\"fill:#4c72b0;fill-opacity:0.8;stroke:#4c72b0;stroke-opacity:0.8;\" x=\"215.815088\" xlink:href=\"#m05ab64be36\" y=\"307.286678\"/>\n     <use style=\"fill:#4c72b0;fill-opacity:0.8;stroke:#4c72b0;stroke-opacity:0.8;\" x=\"159.572594\" xlink:href=\"#m05ab64be36\" y=\"264.577525\"/>\n     <use style=\"fill:#4c72b0;fill-opacity:0.8;stroke:#4c72b0;stroke-opacity:0.8;\" x=\"-1\" xlink:href=\"#m05ab64be36\" y=\"210.952804\"/>\n     <use style=\"fill:#4c72b0;fill-opacity:0.8;stroke:#4c72b0;stroke-opacity:0.8;\" x=\"-1\" xlink:href=\"#m05ab64be36\" y=\"177.300585\"/>\n     <use style=\"fill:#4c72b0;fill-opacity:0.8;stroke:#4c72b0;stroke-opacity:0.8;\" x=\"177.436581\" xlink:href=\"#m05ab64be36\" y=\"189.418286\"/>\n     <use style=\"fill:#4c72b0;fill-opacity:0.8;stroke:#4c72b0;stroke-opacity:0.8;\" x=\"65.675839\" xlink:href=\"#m05ab64be36\" y=\"315.687541\"/>\n     <use style=\"fill:#4c72b0;fill-opacity:0.8;stroke:#4c72b0;stroke-opacity:0.8;\" x=\"52.36437\" xlink:href=\"#m05ab64be36\" y=\"287.535881\"/>\n     <use style=\"fill:#4c72b0;fill-opacity:0.8;stroke:#4c72b0;stroke-opacity:0.8;\" x=\"124.748303\" xlink:href=\"#m05ab64be36\" y=\"266.414734\"/>\n     <use style=\"fill:#4c72b0;fill-opacity:0.8;stroke:#4c72b0;stroke-opacity:0.8;\" x=\"100.236305\" xlink:href=\"#m05ab64be36\" y=\"316.440338\"/>\n     <use style=\"fill:#4c72b0;fill-opacity:0.8;stroke:#4c72b0;stroke-opacity:0.8;\" x=\"180.41258\" xlink:href=\"#m05ab64be36\" y=\"164.108403\"/>\n     <use style=\"fill:#4c72b0;fill-opacity:0.8;stroke:#4c72b0;stroke-opacity:0.8;\" x=\"-1\" xlink:href=\"#m05ab64be36\" y=\"295.518068\"/>\n     <use style=\"fill:#4c72b0;fill-opacity:0.8;stroke:#4c72b0;stroke-opacity:0.8;\" x=\"-1\" xlink:href=\"#m05ab64be36\" y=\"264.464235\"/>\n     <use style=\"fill:#4c72b0;fill-opacity:0.8;stroke:#4c72b0;stroke-opacity:0.8;\" x=\"145.1029\" xlink:href=\"#m05ab64be36\" y=\"276.36833\"/>\n     <use style=\"fill:#4c72b0;fill-opacity:0.8;stroke:#4c72b0;stroke-opacity:0.8;\" x=\"-1\" xlink:href=\"#m05ab64be36\" y=\"278.278388\"/>\n     <use style=\"fill:#4c72b0;fill-opacity:0.8;stroke:#4c72b0;stroke-opacity:0.8;\" x=\"-1\" xlink:href=\"#m05ab64be36\" y=\"313.976993\"/>\n     <use style=\"fill:#4c72b0;fill-opacity:0.8;stroke:#4c72b0;stroke-opacity:0.8;\" x=\"74.327403\" xlink:href=\"#m05ab64be36\" y=\"236.36004\"/>\n     <use style=\"fill:#4c72b0;fill-opacity:0.8;stroke:#4c72b0;stroke-opacity:0.8;\" x=\"20.181657\" xlink:href=\"#m05ab64be36\" y=\"219.951635\"/>\n     <use style=\"fill:#4c72b0;fill-opacity:0.8;stroke:#4c72b0;stroke-opacity:0.8;\" x=\"-1\" xlink:href=\"#m05ab64be36\" y=\"232.069197\"/>\n     <use style=\"fill:#4c72b0;fill-opacity:0.8;stroke:#4c72b0;stroke-opacity:0.8;\" x=\"-1\" xlink:href=\"#m05ab64be36\" y=\"302.511275\"/>\n     <use style=\"fill:#4c72b0;fill-opacity:0.8;stroke:#4c72b0;stroke-opacity:0.8;\" x=\"40.243659\" xlink:href=\"#m05ab64be36\" y=\"300.337463\"/>\n     <use style=\"fill:#4c72b0;fill-opacity:0.8;stroke:#4c72b0;stroke-opacity:0.8;\" x=\"-1\" xlink:href=\"#m05ab64be36\" y=\"286.802142\"/>\n    </g>\n   </g>\n   <g id=\"PolyCollection_1\">\n    <path clip-path=\"url(#pce6531cd0e)\" d=\"M -400553.652101 280.954551 \nL -400553.652101 296.427623 \nL 114.497143 294.987343 \nL 234.74152 293.727539 \nL 305.079971 292.589255 \nL 354.985897 291.37757 \nL 393.69594 290.53272 \nL 425.324349 289.467897 \nL 452.065787 288.461284 \nL 475.230274 287.33738 \nL 495.6628 286.269592 \nL 513.940317 285.310887 \nL 530.474343 284.45678 \nL 545.568726 283.676912 \nL 559.454212 282.832708 \nL 572.310164 282.07091 \nL 584.278769 280.968494 \nL 595.474651 280.037083 \nL 605.991566 279.203764 \nL 615.907177 278.464527 \nL 625.286541 277.717722 \nL 634.184694 276.963847 \nL 642.648615 276.213715 \nL 650.71872 275.463584 \nL 658.430032 274.708581 \nL 665.813103 273.963321 \nL 672.894738 273.21319 \nL 679.698589 272.463059 \nL 686.245629 271.758354 \nL 692.554541 271.033291 \nL 698.642041 270.266917 \nL 704.523146 269.466845 \nL 710.211392 268.761824 \nL 715.719028 268.031197 \nL 721.057171 267.287354 \nL 726.235943 266.543511 \nL 731.264584 265.877443 \nL 736.151554 265.245143 \nL 740.904618 264.546555 \nL 745.530918 263.847808 \nL 750.03704 263.147696 \nL 754.429071 262.51212 \nL 758.712646 261.876544 \nL 762.892992 261.240968 \nL 766.974968 260.605392 \nL 770.963097 259.969816 \nL 774.861597 259.33424 \nL 778.674409 258.698507 \nL 782.405219 258.058463 \nL 786.05748 257.216061 \nL 789.63443 256.401368 \nL 793.139115 255.834652 \nL 796.574395 255.266852 \nL 799.942966 254.698823 \nL 803.24737 254.105644 \nL 806.490006 253.421906 \nL 809.67314 252.732013 \nL 812.798918 251.934642 \nL 815.869369 251.11459 \nL 818.886418 250.346779 \nL 821.851892 249.677815 \nL 824.767523 249.007861 \nL 827.63496 248.337907 \nL 830.455769 247.667952 \nL 833.231444 246.947061 \nL 835.963405 246.302974 \nL 838.653009 245.664091 \nL 841.301548 244.997399 \nL 843.910259 244.330708 \nL 846.48032 243.663789 \nL 849.012861 242.99549 \nL 851.508961 242.340969 \nL 853.969654 241.743798 \nL 856.395931 241.060199 \nL 858.788741 240.3766 \nL 861.148995 239.692415 \nL 863.477566 239.00724 \nL 865.775295 238.330487 \nL 868.042987 237.663796 \nL 870.281417 236.997104 \nL 872.491332 236.330413 \nL 874.673448 235.663722 \nL 876.828457 234.997031 \nL 878.957023 234.33034 \nL 881.059788 233.666193 \nL 883.137369 233.026847 \nL 885.190363 232.3875 \nL 887.219345 231.748154 \nL 889.22487 231.108808 \nL 891.207474 230.469461 \nL 893.167675 229.830115 \nL 895.105974 229.190769 \nL 897.022855 228.549883 \nL 898.918787 227.908819 \nL 900.794221 227.267756 \nL 902.649596 226.626692 \nL 904.485338 225.985629 \nL 906.301857 225.344565 \nL 908.099551 224.703502 \nL 909.878808 224.062438 \nL 911.64 223.421375 \nL 911.64 73.558092 \nL 911.64 73.558092 \nL 909.878808 75.761299 \nL 908.099551 77.964505 \nL 906.301857 80.167712 \nL 904.485338 82.356536 \nL 902.649596 84.543872 \nL 900.794221 86.731208 \nL 898.918787 88.918545 \nL 897.022855 91.105881 \nL 895.105974 93.293218 \nL 893.167675 95.480554 \nL 891.207474 97.66789 \nL 889.22487 99.855227 \nL 887.219345 102.042563 \nL 885.190363 104.220984 \nL 883.137369 106.396403 \nL 881.059788 108.571822 \nL 878.957023 110.747242 \nL 876.828457 112.922661 \nL 874.673448 115.09808 \nL 872.491332 117.2735 \nL 870.281417 119.448919 \nL 868.042987 121.624338 \nL 865.775295 123.799758 \nL 863.477566 125.975177 \nL 861.148995 128.163431 \nL 858.788741 130.357374 \nL 856.395931 132.551316 \nL 853.969654 134.745259 \nL 851.508961 136.93946 \nL 849.012861 139.1339 \nL 846.48032 141.32834 \nL 843.910259 143.52278 \nL 841.301548 145.717219 \nL 838.653009 147.911659 \nL 835.963405 150.106099 \nL 833.231444 152.300539 \nL 830.455769 154.494978 \nL 827.63496 156.689418 \nL 824.767523 158.883858 \nL 821.851892 161.078298 \nL 818.886418 163.272738 \nL 815.869369 165.467177 \nL 812.798918 167.660762 \nL 809.67314 169.848109 \nL 806.490006 172.035455 \nL 803.24737 174.222801 \nL 799.942966 176.410147 \nL 796.574395 178.597493 \nL 793.139115 180.784839 \nL 789.63443 182.972185 \nL 786.05748 185.159531 \nL 782.405219 187.351071 \nL 778.674409 189.606015 \nL 774.861597 191.800455 \nL 770.963097 193.994894 \nL 766.974968 196.189334 \nL 762.892992 198.383774 \nL 758.712646 200.579558 \nL 754.429071 202.868381 \nL 750.03704 205.172518 \nL 745.530918 207.476654 \nL 740.904618 209.780791 \nL 736.151554 212.084928 \nL 731.264584 214.389064 \nL 726.235943 216.599632 \nL 721.057171 218.780041 \nL 715.719028 220.96153 \nL 710.211392 223.143648 \nL 704.523146 225.325767 \nL 698.642041 227.400998 \nL 692.554541 229.422121 \nL 686.245629 231.677626 \nL 679.698589 233.938758 \nL 672.894738 236.199889 \nL 665.813103 237.978902 \nL 658.430032 240.083088 \nL 650.71872 242.27257 \nL 642.648615 244.406313 \nL 634.184694 246.596263 \nL 625.286541 248.755469 \nL 615.907177 250.773507 \nL 605.991566 252.794446 \nL 595.474651 255.006533 \nL 584.278769 257.238662 \nL 572.310164 259.32434 \nL 559.454212 261.298888 \nL 545.568726 263.323326 \nL 530.474343 265.168912 \nL 513.940317 266.90318 \nL 495.6628 268.633589 \nL 475.230274 270.480319 \nL 452.065787 272.41816 \nL 425.324349 274.109381 \nL 393.69594 275.539207 \nL 354.985897 276.782361 \nL 305.079971 277.902059 \nL 234.74152 279.023992 \nL 114.497143 280.112603 \nL -400553.652101 280.954551 \nz\n\" style=\"fill:#ff0000;fill-opacity:0.15;stroke:#ffffff;stroke-opacity:0.15;\"/>\n   </g>\n   <g id=\"line2d_11\">\n    <path clip-path=\"url(#pce6531cd0e)\" d=\"M -1 287.747067 \nL 114.497143 287.746756 \nL 234.74152 286.667885 \nL 305.079971 285.589013 \nL 354.985897 284.510142 \nL 393.69594 283.43127 \nL 425.324349 282.352399 \nL 452.065787 281.273527 \nL 475.230274 280.194656 \nL 495.6628 279.115784 \nL 513.940317 278.036913 \nL 530.474343 276.958041 \nL 545.568726 275.87917 \nL 559.454212 274.800298 \nL 572.310164 273.721426 \nL 584.278769 272.642555 \nL 595.474651 271.563683 \nL 605.991566 270.484812 \nL 615.907177 269.40594 \nL 625.286541 268.327069 \nL 634.184694 267.248197 \nL 642.648615 266.169326 \nL 650.71872 265.090454 \nL 658.430032 264.011583 \nL 665.813103 262.932711 \nL 672.894738 261.85384 \nL 679.698589 260.774968 \nL 686.245629 259.696097 \nL 692.554541 258.617225 \nL 698.642041 257.538354 \nL 704.523146 256.459482 \nL 710.211392 255.380611 \nL 715.719028 254.301739 \nL 721.057171 253.222868 \nL 726.235943 252.143996 \nL 731.264584 251.065125 \nL 736.151554 249.986253 \nL 740.904618 248.907382 \nL 745.530918 247.82851 \nL 750.03704 246.749639 \nL 754.429071 245.670767 \nL 758.712646 244.591896 \nL 762.892992 243.513024 \nL 766.974968 242.434153 \nL 770.963097 241.355281 \nL 774.861597 240.27641 \nL 778.674409 239.197538 \nL 782.405219 238.118667 \nL 786.05748 237.039795 \nL 789.63443 235.960924 \nL 793.139115 234.882052 \nL 796.574395 233.803181 \nL 799.942966 232.724309 \nL 803.24737 231.645437 \nL 806.490006 230.566566 \nL 809.67314 229.487694 \nL 812.798918 228.408823 \nL 815.869369 227.329951 \nL 818.886418 226.25108 \nL 821.851892 225.172208 \nL 824.767523 224.093337 \nL 827.63496 223.014465 \nL 830.455769 221.935594 \nL 833.231444 220.856722 \nL 835.963405 219.777851 \nL 838.653009 218.698979 \nL 841.301548 217.620108 \nL 843.910259 216.541236 \nL 846.48032 215.462365 \nL 849.012861 214.383493 \nL 851.508961 213.304622 \nL 853.969654 212.22575 \nL 856.395931 211.146879 \nL 858.788741 210.068007 \nL 861.148995 208.989136 \nL 863.477566 207.910264 \nL 865.775295 206.831393 \nL 868.042987 205.752521 \nL 870.281417 204.67365 \nL 872.491332 203.594778 \nL 874.673448 202.515907 \nL 876.828457 201.437035 \nL 878.957023 200.358164 \nL 881.059788 199.279292 \nL 883.137369 198.200421 \nL 885.190363 197.121549 \nL 887.219345 196.042678 \nL 889.22487 194.963806 \nL 891.207474 193.884935 \nL 893.167675 192.806063 \nL 895.105974 191.727192 \nL 897.022855 190.64832 \nL 898.918787 189.569448 \nL 900.794221 188.490577 \nL 902.649596 187.411705 \nL 904.485338 186.332834 \nL 906.301857 185.253962 \nL 908.099551 184.175091 \nL 909.878808 183.096219 \nL 911.64 182.017348 \n\" style=\"fill:none;stroke:#ff0000;stroke-linecap:round;stroke-width:2.25;\"/>\n   </g>\n   <g id=\"patch_3\">\n    <path d=\"M 74.64 348.958125 \nL 74.64 22.798125 \n\" style=\"fill:none;stroke:#ffffff;stroke-linecap:square;stroke-linejoin:miter;stroke-width:1.25;\"/>\n   </g>\n   <g id=\"patch_4\">\n    <path d=\"M 911.64 348.958125 \nL 911.64 22.798125 \n\" style=\"fill:none;stroke:#ffffff;stroke-linecap:square;stroke-linejoin:miter;stroke-width:1.25;\"/>\n   </g>\n   <g id=\"patch_5\">\n    <path d=\"M 74.64 348.958125 \nL 911.64 348.958125 \n\" style=\"fill:none;stroke:#ffffff;stroke-linecap:square;stroke-linejoin:miter;stroke-width:1.25;\"/>\n   </g>\n   <g id=\"patch_6\">\n    <path d=\"M 74.64 22.798125 \nL 911.64 22.798125 \n\" style=\"fill:none;stroke:#ffffff;stroke-linecap:square;stroke-linejoin:miter;stroke-width:1.25;\"/>\n   </g>\n   <g id=\"text_13\">\n    <!-- Disperssão entre o número de mortos e o PIB per capta -->\n    <defs>\n     <path d=\"M 19.671875 64.796875 \nL 19.671875 8.109375 \nL 31.59375 8.109375 \nQ 46.6875 8.109375 53.6875 14.9375 \nQ 60.6875 21.78125 60.6875 36.53125 \nQ 60.6875 51.171875 53.6875 57.984375 \nQ 46.6875 64.796875 31.59375 64.796875 \nz\nM 9.8125 72.90625 \nL 30.078125 72.90625 \nQ 51.265625 72.90625 61.171875 64.09375 \nQ 71.09375 55.28125 71.09375 36.53125 \nQ 71.09375 17.671875 61.125 8.828125 \nQ 51.171875 0 30.078125 0 \nL 9.8125 0 \nz\n\" id=\"DejaVuSans-68\"/>\n     <path d=\"M 34.28125 27.484375 \nQ 23.390625 27.484375 19.1875 25 \nQ 14.984375 22.515625 14.984375 16.5 \nQ 14.984375 11.71875 18.140625 8.90625 \nQ 21.296875 6.109375 26.703125 6.109375 \nQ 34.1875 6.109375 38.703125 11.40625 \nQ 43.21875 16.703125 43.21875 25.484375 \nL 43.21875 27.484375 \nz\nM 52.203125 31.203125 \nL 52.203125 0 \nL 43.21875 0 \nL 43.21875 8.296875 \nQ 40.140625 3.328125 35.546875 0.953125 \nQ 30.953125 -1.421875 24.3125 -1.421875 \nQ 15.921875 -1.421875 10.953125 3.296875 \nQ 6 8.015625 6 15.921875 \nQ 6 25.140625 12.171875 29.828125 \nQ 18.359375 34.515625 30.609375 34.515625 \nL 43.21875 34.515625 \nL 43.21875 35.40625 \nQ 43.21875 41.609375 39.140625 45 \nQ 35.0625 48.390625 27.6875 48.390625 \nQ 23 48.390625 18.546875 47.265625 \nQ 14.109375 46.140625 10.015625 43.890625 \nL 10.015625 52.203125 \nQ 14.9375 54.109375 19.578125 55.046875 \nQ 24.21875 56 28.609375 56 \nQ 40.484375 56 46.34375 49.84375 \nQ 52.203125 43.703125 52.203125 31.203125 \nz\nM 28.8125 66.890625 \nL 26.015625 69.578125 \nQ 24.953125 70.5625 24.140625 71.015625 \nQ 23.34375 71.484375 22.703125 71.484375 \nQ 20.84375 71.484375 19.96875 69.703125 \nQ 19.09375 67.921875 18.984375 63.921875 \nL 12.890625 63.921875 \nQ 12.984375 70.515625 15.46875 74.09375 \nQ 17.96875 77.6875 22.40625 77.6875 \nQ 24.265625 77.6875 25.828125 77 \nQ 27.390625 76.3125 29.203125 74.703125 \nL 31.984375 72.015625 \nQ 33.046875 71.046875 33.859375 70.578125 \nQ 34.671875 70.125 35.296875 70.125 \nQ 37.15625 70.125 38.03125 71.90625 \nQ 38.90625 73.6875 39.015625 77.6875 \nL 45.109375 77.6875 \nQ 45.015625 71.09375 42.515625 67.5 \nQ 40.03125 63.921875 35.59375 63.921875 \nQ 33.734375 63.921875 32.171875 64.59375 \nQ 30.609375 65.28125 28.8125 66.890625 \nz\n\" id=\"DejaVuSans-227\"/>\n     <path id=\"DejaVuSans-32\"/>\n     <path d=\"M 54.890625 33.015625 \nL 54.890625 0 \nL 45.90625 0 \nL 45.90625 32.71875 \nQ 45.90625 40.484375 42.875 44.328125 \nQ 39.84375 48.1875 33.796875 48.1875 \nQ 26.515625 48.1875 22.3125 43.546875 \nQ 18.109375 38.921875 18.109375 30.90625 \nL 18.109375 0 \nL 9.078125 0 \nL 9.078125 54.6875 \nL 18.109375 54.6875 \nL 18.109375 46.1875 \nQ 21.34375 51.125 25.703125 53.5625 \nQ 30.078125 56 35.796875 56 \nQ 45.21875 56 50.046875 50.171875 \nQ 54.890625 44.34375 54.890625 33.015625 \nz\n\" id=\"DejaVuSans-110\"/>\n     <path d=\"M 8.5 21.578125 \nL 8.5 54.6875 \nL 17.484375 54.6875 \nL 17.484375 21.921875 \nQ 17.484375 14.15625 20.5 10.265625 \nQ 23.53125 6.390625 29.59375 6.390625 \nQ 36.859375 6.390625 41.078125 11.03125 \nQ 45.3125 15.671875 45.3125 23.6875 \nL 45.3125 54.6875 \nL 54.296875 54.6875 \nL 54.296875 0 \nL 45.3125 0 \nL 45.3125 8.40625 \nQ 42.046875 3.421875 37.71875 1 \nQ 33.40625 -1.421875 27.6875 -1.421875 \nQ 18.265625 -1.421875 13.375 4.4375 \nQ 8.5 10.296875 8.5 21.578125 \nz\nM 31.109375 56 \nz\nM 37.78125 79.984375 \nL 47.5 79.984375 \nL 31.59375 61.625 \nL 24.109375 61.625 \nz\n\" id=\"DejaVuSans-250\"/>\n     <path d=\"M 52 44.1875 \nQ 55.375 50.25 60.0625 53.125 \nQ 64.75 56 71.09375 56 \nQ 79.640625 56 84.28125 50.015625 \nQ 88.921875 44.046875 88.921875 33.015625 \nL 88.921875 0 \nL 79.890625 0 \nL 79.890625 32.71875 \nQ 79.890625 40.578125 77.09375 44.375 \nQ 74.3125 48.1875 68.609375 48.1875 \nQ 61.625 48.1875 57.5625 43.546875 \nQ 53.515625 38.921875 53.515625 30.90625 \nL 53.515625 0 \nL 44.484375 0 \nL 44.484375 32.71875 \nQ 44.484375 40.625 41.703125 44.40625 \nQ 38.921875 48.1875 33.109375 48.1875 \nQ 26.21875 48.1875 22.15625 43.53125 \nQ 18.109375 38.875 18.109375 30.90625 \nL 18.109375 0 \nL 9.078125 0 \nL 9.078125 54.6875 \nL 18.109375 54.6875 \nL 18.109375 46.1875 \nQ 21.1875 51.21875 25.484375 53.609375 \nQ 29.78125 56 35.6875 56 \nQ 41.65625 56 45.828125 52.96875 \nQ 50 49.953125 52 44.1875 \nz\n\" id=\"DejaVuSans-109\"/>\n     <path d=\"M 19.671875 64.796875 \nL 19.671875 37.40625 \nL 32.078125 37.40625 \nQ 38.96875 37.40625 42.71875 40.96875 \nQ 46.484375 44.53125 46.484375 51.125 \nQ 46.484375 57.671875 42.71875 61.234375 \nQ 38.96875 64.796875 32.078125 64.796875 \nz\nM 9.8125 72.90625 \nL 32.078125 72.90625 \nQ 44.34375 72.90625 50.609375 67.359375 \nQ 56.890625 61.8125 56.890625 51.125 \nQ 56.890625 40.328125 50.609375 34.8125 \nQ 44.34375 29.296875 32.078125 29.296875 \nL 19.671875 29.296875 \nL 19.671875 0 \nL 9.8125 0 \nz\n\" id=\"DejaVuSans-80\"/>\n     <path d=\"M 9.8125 72.90625 \nL 19.671875 72.90625 \nL 19.671875 0 \nL 9.8125 0 \nz\n\" id=\"DejaVuSans-73\"/>\n     <path d=\"M 19.671875 34.8125 \nL 19.671875 8.109375 \nL 35.5 8.109375 \nQ 43.453125 8.109375 47.28125 11.40625 \nQ 51.125 14.703125 51.125 21.484375 \nQ 51.125 28.328125 47.28125 31.5625 \nQ 43.453125 34.8125 35.5 34.8125 \nz\nM 19.671875 64.796875 \nL 19.671875 42.828125 \nL 34.28125 42.828125 \nQ 41.5 42.828125 45.03125 45.53125 \nQ 48.578125 48.25 48.578125 53.8125 \nQ 48.578125 59.328125 45.03125 62.0625 \nQ 41.5 64.796875 34.28125 64.796875 \nz\nM 9.8125 72.90625 \nL 35.015625 72.90625 \nQ 46.296875 72.90625 52.390625 68.21875 \nQ 58.5 63.53125 58.5 54.890625 \nQ 58.5 48.1875 55.375 44.234375 \nQ 52.25 40.28125 46.1875 39.3125 \nQ 53.46875 37.75 57.5 32.78125 \nQ 61.53125 27.828125 61.53125 20.40625 \nQ 61.53125 10.640625 54.890625 5.3125 \nQ 48.25 0 35.984375 0 \nL 9.8125 0 \nz\n\" id=\"DejaVuSans-66\"/>\n    </defs>\n    <g style=\"fill:#262626;\" transform=\"translate(326.125312 16.798125)scale(0.12 -0.12)\">\n     <use xlink:href=\"#DejaVuSans-68\"/>\n     <use x=\"77.001953\" xlink:href=\"#DejaVuSans-105\"/>\n     <use x=\"104.785156\" xlink:href=\"#DejaVuSans-115\"/>\n     <use x=\"156.884766\" xlink:href=\"#DejaVuSans-112\"/>\n     <use x=\"220.361328\" xlink:href=\"#DejaVuSans-101\"/>\n     <use x=\"281.884766\" xlink:href=\"#DejaVuSans-114\"/>\n     <use x=\"322.998047\" xlink:href=\"#DejaVuSans-115\"/>\n     <use x=\"375.097656\" xlink:href=\"#DejaVuSans-115\"/>\n     <use x=\"427.197266\" xlink:href=\"#DejaVuSans-227\"/>\n     <use x=\"488.476562\" xlink:href=\"#DejaVuSans-111\"/>\n     <use x=\"549.658203\" xlink:href=\"#DejaVuSans-32\"/>\n     <use x=\"581.445312\" xlink:href=\"#DejaVuSans-101\"/>\n     <use x=\"642.96875\" xlink:href=\"#DejaVuSans-110\"/>\n     <use x=\"706.347656\" xlink:href=\"#DejaVuSans-116\"/>\n     <use x=\"745.556641\" xlink:href=\"#DejaVuSans-114\"/>\n     <use x=\"784.419922\" xlink:href=\"#DejaVuSans-101\"/>\n     <use x=\"845.943359\" xlink:href=\"#DejaVuSans-32\"/>\n     <use x=\"877.730469\" xlink:href=\"#DejaVuSans-111\"/>\n     <use x=\"938.912109\" xlink:href=\"#DejaVuSans-32\"/>\n     <use x=\"970.699219\" xlink:href=\"#DejaVuSans-110\"/>\n     <use x=\"1034.078125\" xlink:href=\"#DejaVuSans-250\"/>\n     <use x=\"1097.457031\" xlink:href=\"#DejaVuSans-109\"/>\n     <use x=\"1194.869141\" xlink:href=\"#DejaVuSans-101\"/>\n     <use x=\"1256.392578\" xlink:href=\"#DejaVuSans-114\"/>\n     <use x=\"1295.255859\" xlink:href=\"#DejaVuSans-111\"/>\n     <use x=\"1356.4375\" xlink:href=\"#DejaVuSans-32\"/>\n     <use x=\"1388.224609\" xlink:href=\"#DejaVuSans-100\"/>\n     <use x=\"1451.701172\" xlink:href=\"#DejaVuSans-101\"/>\n     <use x=\"1513.224609\" xlink:href=\"#DejaVuSans-32\"/>\n     <use x=\"1545.011719\" xlink:href=\"#DejaVuSans-109\"/>\n     <use x=\"1642.423828\" xlink:href=\"#DejaVuSans-111\"/>\n     <use x=\"1703.605469\" xlink:href=\"#DejaVuSans-114\"/>\n     <use x=\"1744.71875\" xlink:href=\"#DejaVuSans-116\"/>\n     <use x=\"1783.927734\" xlink:href=\"#DejaVuSans-111\"/>\n     <use x=\"1845.109375\" xlink:href=\"#DejaVuSans-115\"/>\n     <use x=\"1897.208984\" xlink:href=\"#DejaVuSans-32\"/>\n     <use x=\"1928.996094\" xlink:href=\"#DejaVuSans-101\"/>\n     <use x=\"1990.519531\" xlink:href=\"#DejaVuSans-32\"/>\n     <use x=\"2022.306641\" xlink:href=\"#DejaVuSans-111\"/>\n     <use x=\"2083.488281\" xlink:href=\"#DejaVuSans-32\"/>\n     <use x=\"2115.275391\" xlink:href=\"#DejaVuSans-80\"/>\n     <use x=\"2175.578125\" xlink:href=\"#DejaVuSans-73\"/>\n     <use x=\"2205.070312\" xlink:href=\"#DejaVuSans-66\"/>\n     <use x=\"2273.673828\" xlink:href=\"#DejaVuSans-32\"/>\n     <use x=\"2305.460938\" xlink:href=\"#DejaVuSans-112\"/>\n     <use x=\"2368.9375\" xlink:href=\"#DejaVuSans-101\"/>\n     <use x=\"2430.460938\" xlink:href=\"#DejaVuSans-114\"/>\n     <use x=\"2471.574219\" xlink:href=\"#DejaVuSans-32\"/>\n     <use x=\"2503.361328\" xlink:href=\"#DejaVuSans-99\"/>\n     <use x=\"2558.341797\" xlink:href=\"#DejaVuSans-97\"/>\n     <use x=\"2619.621094\" xlink:href=\"#DejaVuSans-112\"/>\n     <use x=\"2683.097656\" xlink:href=\"#DejaVuSans-116\"/>\n     <use x=\"2722.306641\" xlink:href=\"#DejaVuSans-97\"/>\n    </g>\n   </g>\n  </g>\n </g>\n <defs>\n  <clipPath id=\"pce6531cd0e\">\n   <rect height=\"326.16\" width=\"837\" x=\"74.64\" y=\"22.798125\"/>\n  </clipPath>\n </defs>\n</svg>\n"
          },
          "metadata": {
            "tags": [],
            "needs_background": "light"
          }
        }
      ]
    },
    {
      "cell_type": "markdown",
      "metadata": {
        "id": "__TfiNtiPPA6",
        "colab_type": "text"
      },
      "source": [
        "Vamos......"
      ]
    },
    {
      "cell_type": "code",
      "metadata": {
        "id": "gO1fv3D1PS4k",
        "colab_type": "code",
        "colab": {}
      },
      "source": [
        ""
      ],
      "execution_count": null,
      "outputs": []
    },
    {
      "cell_type": "markdown",
      "metadata": {
        "id": "SViA5VZ7DYLA",
        "colab_type": "text"
      },
      "source": [
        "### Análise Exploratória para o Brasil\n",
        "\n",
        "* Criar uma cópia do DataFrame apenas com o Brasil\n",
        "    * `df_brasil = df.loc[df.location == \"Brazil\"].copy()`\n",
        "* Identificar quando foi registrada a primeira morte no Brasil\n",
        "* Identificar quantos dias demorou para registrarmos a primeira morte, considerando o primeiro caso de COVID-19 registrado.\n",
        "* Plotar gráficos de linha em escalas linear e logarítmica para os casos totais e mortes totais."
      ]
    },
    {
      "cell_type": "code",
      "metadata": {
        "id": "UDQA502_hAwI",
        "colab_type": "code",
        "colab": {}
      },
      "source": [
        ""
      ],
      "execution_count": null,
      "outputs": []
    },
    {
      "cell_type": "markdown",
      "metadata": {
        "id": "LCsiXvM3BcsO",
        "colab_type": "text"
      },
      "source": [
        "## Conclusão\n",
        "\n",
        "*Escreva suas conclusões e análises sobre os dados relativos à COVID-19...*"
      ]
    }
  ]
}