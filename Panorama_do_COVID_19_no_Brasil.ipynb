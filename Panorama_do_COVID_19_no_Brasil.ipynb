{
  "nbformat": 4,
  "nbformat_minor": 0,
  "metadata": {
    "colab": {
      "name": "Panorama do COVID-19 no Brasil.ipynb",
      "provenance": [],
      "collapsed_sections": [],
      "include_colab_link": true
    },
    "kernelspec": {
      "name": "python3",
      "display_name": "Python 3"
    }
  },
  "cells": [
    {
      "cell_type": "markdown",
      "metadata": {
        "id": "view-in-github",
        "colab_type": "text"
      },
      "source": [
        "<a href=\"https://colab.research.google.com/github/jvataidee/DataScience/blob/master/Panorama_do_COVID_19_no_Brasil.ipynb\" target=\"_parent\"><img src=\"https://colab.research.google.com/assets/colab-badge.svg\" alt=\"Open In Colab\"/></a>"
      ]
    },
    {
      "cell_type": "markdown",
      "metadata": {
        "id": "-eFQZydM9O9J",
        "colab_type": "text"
      },
      "source": [
        "\n",
        "<p align=\"center\"><img src=\"https://static.wixstatic.com/media/bdd7cb_7cbf8aa255ec468a97ab036d55c121c3~mv2.png/v1/fill/w_408,h_86,al_c,q_85,usm_0.66_1.00_0.01/Ativo%2013%404x.webp\" height=\"75px\"></p>\n",
        "\n",
        "**by: [João Ataíde](https://www.joaoataide.com)**\n",
        "\n",
        "\n",
        "# Panorama do COVID-19 no Brasil\n",
        "---\n",
        "<p align=\"center\"><img src=\"https://static.wixstatic.com/media/bdd7cb_029898fa03c7471a82d41af4f6278a6b~mv2.jpg\" height=\"450px\"></p>\n",
        "\n",
        "No final de 2019 uma doença surgiu, deonça esta que pouco se conhecia, tal doença viral causadora da Síndrome Respiratória Aguda Grave (SARS), apresenta um ataque direto ao sistema respiratório, o que causa um contágio muito rápido, chegando a afetar milhares de pessoas.\n",
        "\n",
        "A transmissão desta doença, acontece por meio de do ar, principalmente por gotículas provenientes de tosses ou espirros de pessoas já infectadas, no entanto seus sintomas variam de pessoa para pessoa, havendo casos asintomáticos, sintomaticos leves e gráves, os quais chegam a necessitar de entubamento e observações em Unidades Intensivas de Saúde (UTI's).\n",
        "\n",
        "Este virus em questão é da familia dos coronas virus, primos distantes dos virus influenza, o qual todos já conhecemos, como a gripe comum e o resfriado. No entanto, as mutações causada neste virus,geraram uma pandemia.\n",
        "\n",
        "Já é um fato que muitos estudos estão sendo feitos em todos mundo, como já analisei no meu [bolg](https://www.joaoataide.com/post/desafio-kaggle-covid-19). Porém, ainda não se sabe muito sobre o COVID-19. Estudos estão sendo realizados no mundo todo, no entanto, os resultados ainda não são conclusivos e definitivos.\n",
        "\n",
        "Devido a isto, me concentro em meio a quarentena, para realizar estudos de Data Science, Estatistica, no qual estou em uma séria de projetos relacionados a tal problema sanitpario. Isto posto, como prática do curso Data Science na Prática, irei analisar a situação atual sobre o COVID-19 no Brasil, recolhendo dados públicos sobre a doença, chegando a diversos insights."
      ]
    },
    {
      "cell_type": "markdown",
      "metadata": {
        "id": "kLI0gJtzDGuQ",
        "colab_type": "text"
      },
      "source": [
        "#Obtenção dos dados\n",
        "\n",
        "Os dados em questão foram extraidos [Our Wolrd in Data](https://ourworldindata.org/coronavirus) no dia 17 de junho de 2020, tal banco de dados, apresenta diversos dados de 207 paises e cerca de 34 variáveis. Com seu primeiro dado upado em março de 2020, seu [repositório ](https://github.com/owid/covid-19-data/blob/master/public/data/README.md) apresenta diversas variáveis, como podemos ver no seu dicionário abaixo."
      ]
    },
    {
      "cell_type": "markdown",
      "metadata": {
        "id": "CnDvj8aWDwf7",
        "colab_type": "text"
      },
      "source": [
        "**Dicionário de variáveis:**\n",
        "*  `iso_code` - Códigos de países com três letras\n",
        "*  `continent` - Continente da localização geográfica\n",
        "*  `location` - localização geográfica\n",
        "*  `date` - Data da observação\n",
        "*  `total_cases` -Total de casos confirmados de COVID-19\n",
        "*  `new_cases` - Novos casos confirmados de COVID-19\n",
        "*  `total_deaths` - Total de mortes atribuídas ao COVID-19\n",
        "*  `new_deaths` - Novas mortes atribuídas ao COVID-19\n",
        "*  `total_cases_per_million` - Total de casos confirmados de COVID-19 por 1.000.000 de pessoas\n",
        "*  `new_cases_per_million` - Novos casos confirmados de COVID-19 por 1.000.000 de pessoas\n",
        "*  `total_deaths_per_million` - Total de mortes atribuídas ao COVID-19 por 1.000.000 de pessoas\n",
        "*  `new_deaths_per_million` - Novas mortes atribuídas ao COVID-19 por 1.000.000 de pessoas\n",
        "*  `total_tests` - Total de testes para COVID-19\n",
        "*  `new_tests` - Novos testes para COVID-19\n",
        "*  `new_tests_smoothed` - Novos testes para COVID-19 (suavizado por 7 dias). Para países que não relatam dados de teste diariamente, assumimos que o teste mudou igualmente diariamente em qualquer período em que nenhum dado foi relatado. Isso produz uma série completa de números diários, que são calculados em média em uma janela de 7 dias consecutivos\n",
        "*  `total_tests_per_thousand` - Total de testes para COVID-19 por 1.000 pessoas\n",
        "*  `new_tests_per_thousand` - Novos testes para COVID-19 por 1.000 pessoas\n",
        "*  `new_tests_smoothed_per_thousand` - Novos testes para COVID-19 (suavizado por 7 dias) por 1.000 pessoas\n",
        "*  `tests_units` - Unidades usadas pelo local para relatar seus dados de teste\n",
        "*  `stringency_index` - Índice de rigor da resposta do governo: medida composta com base em 9 indicadores de resposta, incluindo fechamento de escolas, fechamento de locais de trabalho e proibições de viagens, redimensionada para um valor de 0 a 100 (100 = resposta mais estrita)\n",
        "*  `population` - População em 2020\n",
        "*  `population_density` - Número de pessoas divididas por área terrestre, medida em quilômetros quadrados, no ano mais recente disponível\n",
        "*  `median_age` - Idade média da população, projeção da ONU para 2020\n",
        "*  `aged_65_older` - Percentagem da população com 65 anos ou mais, ano mais recente disponível\n",
        "*  `aged_70_older` - Percentagem da população que tem 70 anos ou mais em 2015\n",
        "*  `gdp_per_capita` - Produto interno bruto com paridade do poder de compra (dólares internacionais constantes de 2011), último ano disponível\n",
        "*  `extreme_poverty` - Percentagem da população que vive em extrema pobreza, último ano disponível desde 2010\n",
        "*  `cvd_death_rate` - Taxa de mortalidade por doenças cardiovasculares em 2017\n",
        "*  `diabetes_prevalence` - Prevalência de diabetes (% da população de 20 a 79 anos) em 2017\n",
        "*  `female_smokers` - Percentagem de mulheres que fumam, no ano mais recente disponível\n",
        "*  `male_smokers` - Percentagem de homens que fuma, último ano disponível\n",
        "*  `handwashing_facilities` - parcela da população com instalações básicas de lavagem das mãos nas instalações, último ano disponível\n",
        "*  `hospital_beds_per_thousand` - Camas hospitalares por 1.000 pessoas, ano mais recente disponível desde 2010\n",
        "*  `life_expectancy` - Expectativa de vida no nascimento em 2019\n"
      ]
    },
    {
      "cell_type": "markdown",
      "metadata": {
        "id": "A0KGU-hpO5gy",
        "colab_type": "text"
      },
      "source": [
        "## Importanção dos dados e biblioteca necessária"
      ]
    },
    {
      "cell_type": "code",
      "metadata": {
        "id": "lOtEJxe0DMEb",
        "colab_type": "code",
        "colab": {}
      },
      "source": [
        "# importar as bibliotecas necessárias\n",
        "import pandas as pd\n",
        "import matplotlib.pyplot as plt\n",
        "import seaborn as sns\n",
        "\n",
        "\n",
        "# configurar a visualização\n",
        "sns.set()\n",
        "%matplotlib inline\n",
        "%config InlineBackend.figure_format = 'svg'"
      ],
      "execution_count": 232,
      "outputs": []
    },
    {
      "cell_type": "code",
      "metadata": {
        "id": "19yWhrpLPDpD",
        "colab_type": "code",
        "colab": {}
      },
      "source": [
        "# importar o dataset COVID-19 para um DataaFrame\n",
        "df = \"https://covid.ourworldindata.org/data/owid-covid-data.csv\"\n",
        "covid = pd.read_csv(df)"
      ],
      "execution_count": 233,
      "outputs": []
    },
    {
      "cell_type": "markdown",
      "metadata": {
        "id": "8KYuD7eIPUE0",
        "colab_type": "text"
      },
      "source": [
        "Desta forma, podemos então entender a fundo o nosso *dataset*, vendo então os cinco primeiros dados e o seu tamanho."
      ]
    },
    {
      "cell_type": "code",
      "metadata": {
        "id": "ylmAkV_XPXsX",
        "colab_type": "code",
        "colab": {
          "base_uri": "https://localhost:8080/",
          "height": 299
        },
        "outputId": "bdc8fdcd-bcda-40a7-9b8e-cb5b2cb897cf"
      },
      "source": [
        "#Cinco primeiras entradas\n",
        "covid.head()"
      ],
      "execution_count": 234,
      "outputs": [
        {
          "output_type": "execute_result",
          "data": {
            "text/html": [
              "<div>\n",
              "<style scoped>\n",
              "    .dataframe tbody tr th:only-of-type {\n",
              "        vertical-align: middle;\n",
              "    }\n",
              "\n",
              "    .dataframe tbody tr th {\n",
              "        vertical-align: top;\n",
              "    }\n",
              "\n",
              "    .dataframe thead th {\n",
              "        text-align: right;\n",
              "    }\n",
              "</style>\n",
              "<table border=\"1\" class=\"dataframe\">\n",
              "  <thead>\n",
              "    <tr style=\"text-align: right;\">\n",
              "      <th></th>\n",
              "      <th>iso_code</th>\n",
              "      <th>continent</th>\n",
              "      <th>location</th>\n",
              "      <th>date</th>\n",
              "      <th>total_cases</th>\n",
              "      <th>new_cases</th>\n",
              "      <th>total_deaths</th>\n",
              "      <th>new_deaths</th>\n",
              "      <th>total_cases_per_million</th>\n",
              "      <th>new_cases_per_million</th>\n",
              "      <th>total_deaths_per_million</th>\n",
              "      <th>new_deaths_per_million</th>\n",
              "      <th>total_tests</th>\n",
              "      <th>new_tests</th>\n",
              "      <th>total_tests_per_thousand</th>\n",
              "      <th>new_tests_per_thousand</th>\n",
              "      <th>new_tests_smoothed</th>\n",
              "      <th>new_tests_smoothed_per_thousand</th>\n",
              "      <th>tests_units</th>\n",
              "      <th>stringency_index</th>\n",
              "      <th>population</th>\n",
              "      <th>population_density</th>\n",
              "      <th>median_age</th>\n",
              "      <th>aged_65_older</th>\n",
              "      <th>aged_70_older</th>\n",
              "      <th>gdp_per_capita</th>\n",
              "      <th>extreme_poverty</th>\n",
              "      <th>cvd_death_rate</th>\n",
              "      <th>diabetes_prevalence</th>\n",
              "      <th>female_smokers</th>\n",
              "      <th>male_smokers</th>\n",
              "      <th>handwashing_facilities</th>\n",
              "      <th>hospital_beds_per_thousand</th>\n",
              "      <th>life_expectancy</th>\n",
              "    </tr>\n",
              "  </thead>\n",
              "  <tbody>\n",
              "    <tr>\n",
              "      <th>0</th>\n",
              "      <td>AFG</td>\n",
              "      <td>Asia</td>\n",
              "      <td>Afghanistan</td>\n",
              "      <td>2019-12-31</td>\n",
              "      <td>0.0</td>\n",
              "      <td>0.0</td>\n",
              "      <td>0.0</td>\n",
              "      <td>0.0</td>\n",
              "      <td>0.0</td>\n",
              "      <td>0.0</td>\n",
              "      <td>0.0</td>\n",
              "      <td>0.0</td>\n",
              "      <td>NaN</td>\n",
              "      <td>NaN</td>\n",
              "      <td>NaN</td>\n",
              "      <td>NaN</td>\n",
              "      <td>NaN</td>\n",
              "      <td>NaN</td>\n",
              "      <td>NaN</td>\n",
              "      <td>NaN</td>\n",
              "      <td>38928341</td>\n",
              "      <td>54.422</td>\n",
              "      <td>18.6</td>\n",
              "      <td>2.581</td>\n",
              "      <td>1.337</td>\n",
              "      <td>1803.987</td>\n",
              "      <td>NaN</td>\n",
              "      <td>597.029</td>\n",
              "      <td>9.59</td>\n",
              "      <td>NaN</td>\n",
              "      <td>NaN</td>\n",
              "      <td>37.746</td>\n",
              "      <td>0.5</td>\n",
              "      <td>64.83</td>\n",
              "    </tr>\n",
              "    <tr>\n",
              "      <th>1</th>\n",
              "      <td>AFG</td>\n",
              "      <td>Asia</td>\n",
              "      <td>Afghanistan</td>\n",
              "      <td>2020-01-01</td>\n",
              "      <td>0.0</td>\n",
              "      <td>0.0</td>\n",
              "      <td>0.0</td>\n",
              "      <td>0.0</td>\n",
              "      <td>0.0</td>\n",
              "      <td>0.0</td>\n",
              "      <td>0.0</td>\n",
              "      <td>0.0</td>\n",
              "      <td>NaN</td>\n",
              "      <td>NaN</td>\n",
              "      <td>NaN</td>\n",
              "      <td>NaN</td>\n",
              "      <td>NaN</td>\n",
              "      <td>NaN</td>\n",
              "      <td>NaN</td>\n",
              "      <td>0.0</td>\n",
              "      <td>38928341</td>\n",
              "      <td>54.422</td>\n",
              "      <td>18.6</td>\n",
              "      <td>2.581</td>\n",
              "      <td>1.337</td>\n",
              "      <td>1803.987</td>\n",
              "      <td>NaN</td>\n",
              "      <td>597.029</td>\n",
              "      <td>9.59</td>\n",
              "      <td>NaN</td>\n",
              "      <td>NaN</td>\n",
              "      <td>37.746</td>\n",
              "      <td>0.5</td>\n",
              "      <td>64.83</td>\n",
              "    </tr>\n",
              "    <tr>\n",
              "      <th>2</th>\n",
              "      <td>AFG</td>\n",
              "      <td>Asia</td>\n",
              "      <td>Afghanistan</td>\n",
              "      <td>2020-01-02</td>\n",
              "      <td>0.0</td>\n",
              "      <td>0.0</td>\n",
              "      <td>0.0</td>\n",
              "      <td>0.0</td>\n",
              "      <td>0.0</td>\n",
              "      <td>0.0</td>\n",
              "      <td>0.0</td>\n",
              "      <td>0.0</td>\n",
              "      <td>NaN</td>\n",
              "      <td>NaN</td>\n",
              "      <td>NaN</td>\n",
              "      <td>NaN</td>\n",
              "      <td>NaN</td>\n",
              "      <td>NaN</td>\n",
              "      <td>NaN</td>\n",
              "      <td>0.0</td>\n",
              "      <td>38928341</td>\n",
              "      <td>54.422</td>\n",
              "      <td>18.6</td>\n",
              "      <td>2.581</td>\n",
              "      <td>1.337</td>\n",
              "      <td>1803.987</td>\n",
              "      <td>NaN</td>\n",
              "      <td>597.029</td>\n",
              "      <td>9.59</td>\n",
              "      <td>NaN</td>\n",
              "      <td>NaN</td>\n",
              "      <td>37.746</td>\n",
              "      <td>0.5</td>\n",
              "      <td>64.83</td>\n",
              "    </tr>\n",
              "    <tr>\n",
              "      <th>3</th>\n",
              "      <td>AFG</td>\n",
              "      <td>Asia</td>\n",
              "      <td>Afghanistan</td>\n",
              "      <td>2020-01-03</td>\n",
              "      <td>0.0</td>\n",
              "      <td>0.0</td>\n",
              "      <td>0.0</td>\n",
              "      <td>0.0</td>\n",
              "      <td>0.0</td>\n",
              "      <td>0.0</td>\n",
              "      <td>0.0</td>\n",
              "      <td>0.0</td>\n",
              "      <td>NaN</td>\n",
              "      <td>NaN</td>\n",
              "      <td>NaN</td>\n",
              "      <td>NaN</td>\n",
              "      <td>NaN</td>\n",
              "      <td>NaN</td>\n",
              "      <td>NaN</td>\n",
              "      <td>0.0</td>\n",
              "      <td>38928341</td>\n",
              "      <td>54.422</td>\n",
              "      <td>18.6</td>\n",
              "      <td>2.581</td>\n",
              "      <td>1.337</td>\n",
              "      <td>1803.987</td>\n",
              "      <td>NaN</td>\n",
              "      <td>597.029</td>\n",
              "      <td>9.59</td>\n",
              "      <td>NaN</td>\n",
              "      <td>NaN</td>\n",
              "      <td>37.746</td>\n",
              "      <td>0.5</td>\n",
              "      <td>64.83</td>\n",
              "    </tr>\n",
              "    <tr>\n",
              "      <th>4</th>\n",
              "      <td>AFG</td>\n",
              "      <td>Asia</td>\n",
              "      <td>Afghanistan</td>\n",
              "      <td>2020-01-04</td>\n",
              "      <td>0.0</td>\n",
              "      <td>0.0</td>\n",
              "      <td>0.0</td>\n",
              "      <td>0.0</td>\n",
              "      <td>0.0</td>\n",
              "      <td>0.0</td>\n",
              "      <td>0.0</td>\n",
              "      <td>0.0</td>\n",
              "      <td>NaN</td>\n",
              "      <td>NaN</td>\n",
              "      <td>NaN</td>\n",
              "      <td>NaN</td>\n",
              "      <td>NaN</td>\n",
              "      <td>NaN</td>\n",
              "      <td>NaN</td>\n",
              "      <td>0.0</td>\n",
              "      <td>38928341</td>\n",
              "      <td>54.422</td>\n",
              "      <td>18.6</td>\n",
              "      <td>2.581</td>\n",
              "      <td>1.337</td>\n",
              "      <td>1803.987</td>\n",
              "      <td>NaN</td>\n",
              "      <td>597.029</td>\n",
              "      <td>9.59</td>\n",
              "      <td>NaN</td>\n",
              "      <td>NaN</td>\n",
              "      <td>37.746</td>\n",
              "      <td>0.5</td>\n",
              "      <td>64.83</td>\n",
              "    </tr>\n",
              "  </tbody>\n",
              "</table>\n",
              "</div>"
            ],
            "text/plain": [
              "  iso_code continent  ... hospital_beds_per_thousand life_expectancy\n",
              "0      AFG      Asia  ...                        0.5           64.83\n",
              "1      AFG      Asia  ...                        0.5           64.83\n",
              "2      AFG      Asia  ...                        0.5           64.83\n",
              "3      AFG      Asia  ...                        0.5           64.83\n",
              "4      AFG      Asia  ...                        0.5           64.83\n",
              "\n",
              "[5 rows x 34 columns]"
            ]
          },
          "metadata": {
            "tags": []
          },
          "execution_count": 234
        }
      ]
    },
    {
      "cell_type": "code",
      "metadata": {
        "id": "6ISQkLrUPi-z",
        "colab_type": "code",
        "colab": {
          "base_uri": "https://localhost:8080/",
          "height": 34
        },
        "outputId": "4ef38ae2-8d00-4fb4-cda4-486d57839dc3"
      },
      "source": [
        "#Tamanho de todo o dataset\n",
        "covid.shape"
      ],
      "execution_count": 235,
      "outputs": [
        {
          "output_type": "execute_result",
          "data": {
            "text/plain": [
              "(24321, 34)"
            ]
          },
          "metadata": {
            "tags": []
          },
          "execution_count": 235
        }
      ]
    },
    {
      "cell_type": "markdown",
      "metadata": {
        "id": "mThl-DsqPoCm",
        "colab_type": "text"
      },
      "source": [
        "Então é possível ver, que a base de dados possuí 24443 entradas e 34 colunas, desta forma, podemos análisar o quais são os tipos de dados e qual a qualidade do *dataset*, ou seja seu número de valores faltantes."
      ]
    },
    {
      "cell_type": "markdown",
      "metadata": {
        "id": "DrkqTt_RQeMT",
        "colab_type": "text"
      },
      "source": [
        "##Quais os tipos de dados?\n",
        "\n"
      ]
    },
    {
      "cell_type": "code",
      "metadata": {
        "id": "dEfyzeu6QiDh",
        "colab_type": "code",
        "colab": {
          "base_uri": "https://localhost:8080/",
          "height": 706
        },
        "outputId": "af544a92-e3e1-435b-a1f3-f23a47b3075c"
      },
      "source": [
        "#Informações do dataset\n",
        "covid.info()"
      ],
      "execution_count": 236,
      "outputs": [
        {
          "output_type": "stream",
          "text": [
            "<class 'pandas.core.frame.DataFrame'>\n",
            "RangeIndex: 24321 entries, 0 to 24320\n",
            "Data columns (total 34 columns):\n",
            " #   Column                           Non-Null Count  Dtype  \n",
            "---  ------                           --------------  -----  \n",
            " 0   iso_code                         24321 non-null  object \n",
            " 1   continent                        24150 non-null  object \n",
            " 2   location                         24321 non-null  object \n",
            " 3   date                             24321 non-null  object \n",
            " 4   total_cases                      24103 non-null  float64\n",
            " 5   new_cases                        24103 non-null  float64\n",
            " 6   total_deaths                     24102 non-null  float64\n",
            " 7   new_deaths                       24102 non-null  float64\n",
            " 8   total_cases_per_million          24103 non-null  float64\n",
            " 9   new_cases_per_million            24103 non-null  float64\n",
            " 10  total_deaths_per_million         24102 non-null  float64\n",
            " 11  new_deaths_per_million           24102 non-null  float64\n",
            " 12  total_tests                      6773 non-null   float64\n",
            " 13  new_tests                        6101 non-null   float64\n",
            " 14  total_tests_per_thousand         6773 non-null   float64\n",
            " 15  new_tests_per_thousand           6101 non-null   float64\n",
            " 16  new_tests_smoothed               7308 non-null   float64\n",
            " 17  new_tests_smoothed_per_thousand  7308 non-null   float64\n",
            " 18  tests_units                      7919 non-null   object \n",
            " 19  stringency_index                 19758 non-null  float64\n",
            " 20  population                       24321 non-null  int64  \n",
            " 21  population_density               23426 non-null  float64\n",
            " 22  median_age                       22309 non-null  float64\n",
            " 23  aged_65_older                    21997 non-null  float64\n",
            " 24  aged_70_older                    22195 non-null  float64\n",
            " 25  gdp_per_capita                   21980 non-null  float64\n",
            " 26  extreme_poverty                  14740 non-null  float64\n",
            " 27  cvd_death_rate                   22331 non-null  float64\n",
            " 28  diabetes_prevalence              23053 non-null  float64\n",
            " 29  female_smokers                   17971 non-null  float64\n",
            " 30  male_smokers                     17767 non-null  float64\n",
            " 31  handwashing_facilities           9975 non-null   float64\n",
            " 32  hospital_beds_per_thousand       20463 non-null  float64\n",
            " 33  life_expectancy                  24044 non-null  float64\n",
            "dtypes: float64(28), int64(1), object(5)\n",
            "memory usage: 6.3+ MB\n"
          ],
          "name": "stdout"
        }
      ]
    },
    {
      "cell_type": "markdown",
      "metadata": {
        "id": "DhgSeWpxQlqZ",
        "colab_type": "text"
      },
      "source": [
        "Pude ver então que, a maioria dos dados estão no tipo correto, no entao a variável `date`terá que ser convertida para *datetime*."
      ]
    },
    {
      "cell_type": "code",
      "metadata": {
        "id": "EJ0q3YnJQzoW",
        "colab_type": "code",
        "colab": {}
      },
      "source": [
        "#Transformar em datetime\n",
        "covid.date = pd.to_datetime(covid.date, format = \"%Y-%m-%d\")"
      ],
      "execution_count": 237,
      "outputs": []
    },
    {
      "cell_type": "markdown",
      "metadata": {
        "id": "0XL7gaC_RI_G",
        "colab_type": "text"
      },
      "source": [
        "Convertido então para date time, posso analisar como está a situação de dados faltantes.\n",
        "\n",
        "##Qual a porcentagem de dados faltantes?"
      ]
    },
    {
      "cell_type": "code",
      "metadata": {
        "id": "a9JZ4F7bRVSt",
        "colab_type": "code",
        "colab": {
          "base_uri": "https://localhost:8080/",
          "height": 605
        },
        "outputId": "555808ce-ee9a-4312-b9d7-ac7ec9038b14"
      },
      "source": [
        "#Mostrar valores faltantes\n",
        "(covid.isnull().sum()/covid.shape[0]*100).sort_values(ascending = False)"
      ],
      "execution_count": 238,
      "outputs": [
        {
          "output_type": "execute_result",
          "data": {
            "text/plain": [
              "new_tests                          74.914683\n",
              "new_tests_per_thousand             74.914683\n",
              "total_tests_per_thousand           72.151639\n",
              "total_tests                        72.151639\n",
              "new_tests_smoothed_per_thousand    69.951893\n",
              "new_tests_smoothed                 69.951893\n",
              "tests_units                        67.439661\n",
              "handwashing_facilities             58.986061\n",
              "extreme_poverty                    39.393939\n",
              "male_smokers                       26.947905\n",
              "female_smokers                     26.109124\n",
              "stringency_index                   18.761564\n",
              "hospital_beds_per_thousand         15.862835\n",
              "gdp_per_capita                      9.625427\n",
              "aged_65_older                       9.555528\n",
              "aged_70_older                       8.741417\n",
              "median_age                          8.272686\n",
              "cvd_death_rate                      8.182229\n",
              "diabetes_prevalence                 5.213601\n",
              "population_density                  3.679947\n",
              "life_expectancy                     1.138933\n",
              "new_deaths_per_million              0.900456\n",
              "total_deaths_per_million            0.900456\n",
              "new_deaths                          0.900456\n",
              "total_deaths                        0.900456\n",
              "new_cases_per_million               0.896345\n",
              "total_cases_per_million             0.896345\n",
              "new_cases                           0.896345\n",
              "total_cases                         0.896345\n",
              "continent                           0.703096\n",
              "population                          0.000000\n",
              "date                                0.000000\n",
              "location                            0.000000\n",
              "iso_code                            0.000000\n",
              "dtype: float64"
            ]
          },
          "metadata": {
            "tags": []
          },
          "execution_count": 238
        }
      ]
    },
    {
      "cell_type": "markdown",
      "metadata": {
        "id": "s2p0RenESHuo",
        "colab_type": "text"
      },
      "source": [
        "Então pude ver, que o *dataset* possui alguns dados faltantes, ndesta forma irei realizar a limpeza, para cada das variáveis necessárias, mas antes irei alocas em um novo *dataframe*, alocando a `date`, `total_case`, `location`, `total_deaths` e `gdp_per_capita`."
      ]
    },
    {
      "cell_type": "code",
      "metadata": {
        "id": "ylVf4e3uThrY",
        "colab_type": "code",
        "colab": {
          "base_uri": "https://localhost:8080/",
          "height": 195
        },
        "outputId": "77320e83-3a27-4577-c8d9-b73839feb10b"
      },
      "source": [
        "#Selecionar as colunas utilizadas\n",
        "covid_clear = covid.iloc[:, [2, 3,6,4,25]]\n",
        "covid_clear.head()"
      ],
      "execution_count": 239,
      "outputs": [
        {
          "output_type": "execute_result",
          "data": {
            "text/html": [
              "<div>\n",
              "<style scoped>\n",
              "    .dataframe tbody tr th:only-of-type {\n",
              "        vertical-align: middle;\n",
              "    }\n",
              "\n",
              "    .dataframe tbody tr th {\n",
              "        vertical-align: top;\n",
              "    }\n",
              "\n",
              "    .dataframe thead th {\n",
              "        text-align: right;\n",
              "    }\n",
              "</style>\n",
              "<table border=\"1\" class=\"dataframe\">\n",
              "  <thead>\n",
              "    <tr style=\"text-align: right;\">\n",
              "      <th></th>\n",
              "      <th>location</th>\n",
              "      <th>date</th>\n",
              "      <th>total_deaths</th>\n",
              "      <th>total_cases</th>\n",
              "      <th>gdp_per_capita</th>\n",
              "    </tr>\n",
              "  </thead>\n",
              "  <tbody>\n",
              "    <tr>\n",
              "      <th>0</th>\n",
              "      <td>Afghanistan</td>\n",
              "      <td>2019-12-31</td>\n",
              "      <td>0.0</td>\n",
              "      <td>0.0</td>\n",
              "      <td>1803.987</td>\n",
              "    </tr>\n",
              "    <tr>\n",
              "      <th>1</th>\n",
              "      <td>Afghanistan</td>\n",
              "      <td>2020-01-01</td>\n",
              "      <td>0.0</td>\n",
              "      <td>0.0</td>\n",
              "      <td>1803.987</td>\n",
              "    </tr>\n",
              "    <tr>\n",
              "      <th>2</th>\n",
              "      <td>Afghanistan</td>\n",
              "      <td>2020-01-02</td>\n",
              "      <td>0.0</td>\n",
              "      <td>0.0</td>\n",
              "      <td>1803.987</td>\n",
              "    </tr>\n",
              "    <tr>\n",
              "      <th>3</th>\n",
              "      <td>Afghanistan</td>\n",
              "      <td>2020-01-03</td>\n",
              "      <td>0.0</td>\n",
              "      <td>0.0</td>\n",
              "      <td>1803.987</td>\n",
              "    </tr>\n",
              "    <tr>\n",
              "      <th>4</th>\n",
              "      <td>Afghanistan</td>\n",
              "      <td>2020-01-04</td>\n",
              "      <td>0.0</td>\n",
              "      <td>0.0</td>\n",
              "      <td>1803.987</td>\n",
              "    </tr>\n",
              "  </tbody>\n",
              "</table>\n",
              "</div>"
            ],
            "text/plain": [
              "      location       date  total_deaths  total_cases  gdp_per_capita\n",
              "0  Afghanistan 2019-12-31           0.0          0.0        1803.987\n",
              "1  Afghanistan 2020-01-01           0.0          0.0        1803.987\n",
              "2  Afghanistan 2020-01-02           0.0          0.0        1803.987\n",
              "3  Afghanistan 2020-01-03           0.0          0.0        1803.987\n",
              "4  Afghanistan 2020-01-04           0.0          0.0        1803.987"
            ]
          },
          "metadata": {
            "tags": []
          },
          "execution_count": 239
        }
      ]
    },
    {
      "cell_type": "code",
      "metadata": {
        "id": "e-19bXSIVIjY",
        "colab_type": "code",
        "colab": {}
      },
      "source": [
        "#Limpar os dados nulos\n",
        "covid_clear = covid_clear.dropna()"
      ],
      "execution_count": 240,
      "outputs": []
    },
    {
      "cell_type": "code",
      "metadata": {
        "id": "A4mqYZzcV9qi",
        "colab_type": "code",
        "colab": {
          "base_uri": "https://localhost:8080/",
          "height": 34
        },
        "outputId": "e9df5b99-8945-4265-f86c-b1b214fba681"
      },
      "source": [
        "#Tamanho do dataset\n",
        "covid_clear.shape"
      ],
      "execution_count": 241,
      "outputs": [
        {
          "output_type": "execute_result",
          "data": {
            "text/plain": [
              "(21762, 5)"
            ]
          },
          "metadata": {
            "tags": []
          },
          "execution_count": 241
        }
      ]
    },
    {
      "cell_type": "code",
      "metadata": {
        "id": "KnzH6-uan5bG",
        "colab_type": "code",
        "colab": {}
      },
      "source": [
        "#Indexar pelo local\n",
        "covid_clear.set_index('location', inplace=True)"
      ],
      "execution_count": 242,
      "outputs": []
    },
    {
      "cell_type": "code",
      "metadata": {
        "id": "c8m_PmMLoRnS",
        "colab_type": "code",
        "colab": {}
      },
      "source": [
        "#Excluir as linhas com nome World\n",
        "covid_clear = covid_clear.drop(\"World\")"
      ],
      "execution_count": 243,
      "outputs": []
    },
    {
      "cell_type": "markdown",
      "metadata": {
        "id": "UzbpsSe_We4w",
        "colab_type": "text"
      },
      "source": [
        "Desta forma, o *dataset* ficou com 21666 entradas."
      ]
    },
    {
      "cell_type": "markdown",
      "metadata": {
        "id": "A4QTbjA0Wlw4",
        "colab_type": "text"
      },
      "source": [
        "#Quais paises tem o maior número de casos e mortes?\n",
        "\n",
        "Dando inicio de fato as perguntas, podemos começar indicando qual o páis com mais casos atualmente."
      ]
    },
    {
      "cell_type": "code",
      "metadata": {
        "id": "HsFhlNmazJlD",
        "colab_type": "code",
        "colab": {}
      },
      "source": [
        "#Filtra datas mais recentes\n",
        "covid_dts = covid_clear.loc[covid_clear.date == '2020-06-14'].sort_values(by=\"total_cases\", ascending=False)"
      ],
      "execution_count": 244,
      "outputs": []
    },
    {
      "cell_type": "code",
      "metadata": {
        "id": "NnE1ZHwjXOeB",
        "colab_type": "code",
        "colab": {}
      },
      "source": [
        "#Copiar dataset novo\n",
        "covid_death = covid_dts.iloc[:, [0,1,2]]"
      ],
      "execution_count": 245,
      "outputs": []
    },
    {
      "cell_type": "code",
      "metadata": {
        "id": "2RNp3nKwntnm",
        "colab_type": "code",
        "colab": {}
      },
      "source": [
        "#Separar os cinco paises com mais casos e mortes\n",
        "cinco_max = covid_death.head()\n",
        "cinco_max_cs = cinco_max.reset_index().sort_values(by = [\"total_deaths\"])\n",
        "cinco_max_df = cinco_max.reset_index().sort_values(by = [\"total_cases\"])"
      ],
      "execution_count": 246,
      "outputs": []
    },
    {
      "cell_type": "code",
      "metadata": {
        "id": "q8jhA_s6vQSk",
        "colab_type": "code",
        "colab": {
          "base_uri": "https://localhost:8080/",
          "height": 218
        },
        "outputId": "f90ef1ff-d9c9-4490-8b02-3fa3a8eb8627"
      },
      "source": [
        "cinco_max_cs , cinco_max_df"
      ],
      "execution_count": 247,
      "outputs": [
        {
          "output_type": "execute_result",
          "data": {
            "text/plain": [
              "(         location       date  total_deaths  total_cases\n",
              " 2          Russia 2020-06-14        6829.0     520129.0\n",
              " 3           India 2020-06-14        9195.0     320922.0\n",
              " 4  United Kingdom 2020-06-14       41662.0     294375.0\n",
              " 1          Brazil 2020-06-14       42720.0     850514.0\n",
              " 0   United States 2020-06-14      115436.0    2074526.0,\n",
              "          location       date  total_deaths  total_cases\n",
              " 4  United Kingdom 2020-06-14       41662.0     294375.0\n",
              " 3           India 2020-06-14        9195.0     320922.0\n",
              " 2          Russia 2020-06-14        6829.0     520129.0\n",
              " 1          Brazil 2020-06-14       42720.0     850514.0\n",
              " 0   United States 2020-06-14      115436.0    2074526.0)"
            ]
          },
          "metadata": {
            "tags": []
          },
          "execution_count": 247
        }
      ]
    },
    {
      "cell_type": "code",
      "metadata": {
        "id": "cKjAQ9c4qLyR",
        "colab_type": "code",
        "colab": {
          "base_uri": "https://localhost:8080/",
          "height": 621
        },
        "outputId": "2646840c-4781-4e21-bb63-6af48f547554"
      },
      "source": [
        "fig, ax = plt.subplots(nrows = 1, ncols = 2, figsize = (18,6))\n",
        "\n",
        "# gráfico 1\n",
        "ax[0].bar(cinco_max_df['location'], cinco_max_df['total_deaths'].sort_values(), color =\"#ff304f\")\n",
        "ax[0].set_title(\"Cinco paises com mais mortes de COVID-19\")\n",
        "plt.setp(ax[0].get_xticklabels(), rotation=45, ha = 'right')\n",
        "\n",
        "# gráfico 1\n",
        "ax[1].bar(cinco_max_cs['location'], cinco_max_cs['total_cases'].sort_values(),color =\"#071e3d\")\n",
        "ax[1].set_title(\"Cinco paises com mais casos de COVID-19\")\n",
        "plt.setp(ax[1].get_xticklabels(), rotation=45, ha = 'right')\n",
        "\n",
        "plt.show()"
      ],
      "execution_count": 278,
      "outputs": [
        {
          "output_type": "display_data",
          "data": {
            "text/plain": [
              "<Figure size 1296x432 with 2 Axes>"
            ],
            "image/svg+xml": "<?xml version=\"1.0\" encoding=\"utf-8\" standalone=\"no\"?>\n<!DOCTYPE svg PUBLIC \"-//W3C//DTD SVG 1.1//EN\"\n  \"http://www.w3.org/Graphics/SVG/1.1/DTD/svg11.dtd\">\n<!-- Created with matplotlib (https://matplotlib.org/) -->\n<svg height=\"435.136729pt\" version=\"1.1\" viewBox=\"0 0 1070.2925 435.136729\" width=\"1070.2925pt\" xmlns=\"http://www.w3.org/2000/svg\" xmlns:xlink=\"http://www.w3.org/1999/xlink\">\n <defs>\n  <style type=\"text/css\">\n*{stroke-linecap:butt;stroke-linejoin:round;}\n  </style>\n </defs>\n <g id=\"figure_1\">\n  <g id=\"patch_1\">\n   <path d=\"M 0 435.136729 \nL 1070.2925 435.136729 \nL 1070.2925 0 \nL 0 0 \nz\n\" style=\"fill:none;\"/>\n  </g>\n  <g id=\"axes_1\">\n   <g id=\"patch_2\">\n    <path d=\"M 58.6925 348.478125 \nL 515.237955 348.478125 \nL 515.237955 22.318125 \nL 58.6925 22.318125 \nz\n\" style=\"fill:#eaeaf2;\"/>\n   </g>\n   <g id=\"matplotlib.axis_1\">\n    <g id=\"xtick_1\">\n     <g id=\"line2d_1\">\n      <path clip-path=\"url(#p97c04b9529)\" d=\"M 114.031343 348.478125 \nL 114.031343 22.318125 \n\" style=\"fill:none;stroke:#ffffff;stroke-linecap:round;\"/>\n     </g>\n     <g id=\"text_1\">\n      <!-- United Kingdom -->\n      <defs>\n       <path d=\"M 8.6875 72.90625 \nL 18.609375 72.90625 \nL 18.609375 28.609375 \nQ 18.609375 16.890625 22.84375 11.734375 \nQ 27.09375 6.59375 36.625 6.59375 \nQ 46.09375 6.59375 50.34375 11.734375 \nQ 54.59375 16.890625 54.59375 28.609375 \nL 54.59375 72.90625 \nL 64.5 72.90625 \nL 64.5 27.390625 \nQ 64.5 13.140625 57.4375 5.859375 \nQ 50.390625 -1.421875 36.625 -1.421875 \nQ 22.796875 -1.421875 15.734375 5.859375 \nQ 8.6875 13.140625 8.6875 27.390625 \nz\n\" id=\"DejaVuSans-85\"/>\n       <path d=\"M 54.890625 33.015625 \nL 54.890625 0 \nL 45.90625 0 \nL 45.90625 32.71875 \nQ 45.90625 40.484375 42.875 44.328125 \nQ 39.84375 48.1875 33.796875 48.1875 \nQ 26.515625 48.1875 22.3125 43.546875 \nQ 18.109375 38.921875 18.109375 30.90625 \nL 18.109375 0 \nL 9.078125 0 \nL 9.078125 54.6875 \nL 18.109375 54.6875 \nL 18.109375 46.1875 \nQ 21.34375 51.125 25.703125 53.5625 \nQ 30.078125 56 35.796875 56 \nQ 45.21875 56 50.046875 50.171875 \nQ 54.890625 44.34375 54.890625 33.015625 \nz\n\" id=\"DejaVuSans-110\"/>\n       <path d=\"M 9.421875 54.6875 \nL 18.40625 54.6875 \nL 18.40625 0 \nL 9.421875 0 \nz\nM 9.421875 75.984375 \nL 18.40625 75.984375 \nL 18.40625 64.59375 \nL 9.421875 64.59375 \nz\n\" id=\"DejaVuSans-105\"/>\n       <path d=\"M 18.3125 70.21875 \nL 18.3125 54.6875 \nL 36.8125 54.6875 \nL 36.8125 47.703125 \nL 18.3125 47.703125 \nL 18.3125 18.015625 \nQ 18.3125 11.328125 20.140625 9.421875 \nQ 21.96875 7.515625 27.59375 7.515625 \nL 36.8125 7.515625 \nL 36.8125 0 \nL 27.59375 0 \nQ 17.1875 0 13.234375 3.875 \nQ 9.28125 7.765625 9.28125 18.015625 \nL 9.28125 47.703125 \nL 2.6875 47.703125 \nL 2.6875 54.6875 \nL 9.28125 54.6875 \nL 9.28125 70.21875 \nz\n\" id=\"DejaVuSans-116\"/>\n       <path d=\"M 56.203125 29.59375 \nL 56.203125 25.203125 \nL 14.890625 25.203125 \nQ 15.484375 15.921875 20.484375 11.0625 \nQ 25.484375 6.203125 34.421875 6.203125 \nQ 39.59375 6.203125 44.453125 7.46875 \nQ 49.3125 8.734375 54.109375 11.28125 \nL 54.109375 2.78125 \nQ 49.265625 0.734375 44.1875 -0.34375 \nQ 39.109375 -1.421875 33.890625 -1.421875 \nQ 20.796875 -1.421875 13.15625 6.1875 \nQ 5.515625 13.8125 5.515625 26.8125 \nQ 5.515625 40.234375 12.765625 48.109375 \nQ 20.015625 56 32.328125 56 \nQ 43.359375 56 49.78125 48.890625 \nQ 56.203125 41.796875 56.203125 29.59375 \nz\nM 47.21875 32.234375 \nQ 47.125 39.59375 43.09375 43.984375 \nQ 39.0625 48.390625 32.421875 48.390625 \nQ 24.90625 48.390625 20.390625 44.140625 \nQ 15.875 39.890625 15.1875 32.171875 \nz\n\" id=\"DejaVuSans-101\"/>\n       <path d=\"M 45.40625 46.390625 \nL 45.40625 75.984375 \nL 54.390625 75.984375 \nL 54.390625 0 \nL 45.40625 0 \nL 45.40625 8.203125 \nQ 42.578125 3.328125 38.25 0.953125 \nQ 33.9375 -1.421875 27.875 -1.421875 \nQ 17.96875 -1.421875 11.734375 6.484375 \nQ 5.515625 14.40625 5.515625 27.296875 \nQ 5.515625 40.1875 11.734375 48.09375 \nQ 17.96875 56 27.875 56 \nQ 33.9375 56 38.25 53.625 \nQ 42.578125 51.265625 45.40625 46.390625 \nz\nM 14.796875 27.296875 \nQ 14.796875 17.390625 18.875 11.75 \nQ 22.953125 6.109375 30.078125 6.109375 \nQ 37.203125 6.109375 41.296875 11.75 \nQ 45.40625 17.390625 45.40625 27.296875 \nQ 45.40625 37.203125 41.296875 42.84375 \nQ 37.203125 48.484375 30.078125 48.484375 \nQ 22.953125 48.484375 18.875 42.84375 \nQ 14.796875 37.203125 14.796875 27.296875 \nz\n\" id=\"DejaVuSans-100\"/>\n       <path id=\"DejaVuSans-32\"/>\n       <path d=\"M 9.8125 72.90625 \nL 19.671875 72.90625 \nL 19.671875 42.09375 \nL 52.390625 72.90625 \nL 65.09375 72.90625 \nL 28.90625 38.921875 \nL 67.671875 0 \nL 54.6875 0 \nL 19.671875 35.109375 \nL 19.671875 0 \nL 9.8125 0 \nz\n\" id=\"DejaVuSans-75\"/>\n       <path d=\"M 45.40625 27.984375 \nQ 45.40625 37.75 41.375 43.109375 \nQ 37.359375 48.484375 30.078125 48.484375 \nQ 22.859375 48.484375 18.828125 43.109375 \nQ 14.796875 37.75 14.796875 27.984375 \nQ 14.796875 18.265625 18.828125 12.890625 \nQ 22.859375 7.515625 30.078125 7.515625 \nQ 37.359375 7.515625 41.375 12.890625 \nQ 45.40625 18.265625 45.40625 27.984375 \nz\nM 54.390625 6.78125 \nQ 54.390625 -7.171875 48.1875 -13.984375 \nQ 42 -20.796875 29.203125 -20.796875 \nQ 24.46875 -20.796875 20.265625 -20.09375 \nQ 16.0625 -19.390625 12.109375 -17.921875 \nL 12.109375 -9.1875 \nQ 16.0625 -11.328125 19.921875 -12.34375 \nQ 23.78125 -13.375 27.78125 -13.375 \nQ 36.625 -13.375 41.015625 -8.765625 \nQ 45.40625 -4.15625 45.40625 5.171875 \nL 45.40625 9.625 \nQ 42.625 4.78125 38.28125 2.390625 \nQ 33.9375 0 27.875 0 \nQ 17.828125 0 11.671875 7.65625 \nQ 5.515625 15.328125 5.515625 27.984375 \nQ 5.515625 40.671875 11.671875 48.328125 \nQ 17.828125 56 27.875 56 \nQ 33.9375 56 38.28125 53.609375 \nQ 42.625 51.21875 45.40625 46.390625 \nL 45.40625 54.6875 \nL 54.390625 54.6875 \nz\n\" id=\"DejaVuSans-103\"/>\n       <path d=\"M 30.609375 48.390625 \nQ 23.390625 48.390625 19.1875 42.75 \nQ 14.984375 37.109375 14.984375 27.296875 \nQ 14.984375 17.484375 19.15625 11.84375 \nQ 23.34375 6.203125 30.609375 6.203125 \nQ 37.796875 6.203125 41.984375 11.859375 \nQ 46.1875 17.53125 46.1875 27.296875 \nQ 46.1875 37.015625 41.984375 42.703125 \nQ 37.796875 48.390625 30.609375 48.390625 \nz\nM 30.609375 56 \nQ 42.328125 56 49.015625 48.375 \nQ 55.71875 40.765625 55.71875 27.296875 \nQ 55.71875 13.875 49.015625 6.21875 \nQ 42.328125 -1.421875 30.609375 -1.421875 \nQ 18.84375 -1.421875 12.171875 6.21875 \nQ 5.515625 13.875 5.515625 27.296875 \nQ 5.515625 40.765625 12.171875 48.375 \nQ 18.84375 56 30.609375 56 \nz\n\" id=\"DejaVuSans-111\"/>\n       <path d=\"M 52 44.1875 \nQ 55.375 50.25 60.0625 53.125 \nQ 64.75 56 71.09375 56 \nQ 79.640625 56 84.28125 50.015625 \nQ 88.921875 44.046875 88.921875 33.015625 \nL 88.921875 0 \nL 79.890625 0 \nL 79.890625 32.71875 \nQ 79.890625 40.578125 77.09375 44.375 \nQ 74.3125 48.1875 68.609375 48.1875 \nQ 61.625 48.1875 57.5625 43.546875 \nQ 53.515625 38.921875 53.515625 30.90625 \nL 53.515625 0 \nL 44.484375 0 \nL 44.484375 32.71875 \nQ 44.484375 40.625 41.703125 44.40625 \nQ 38.921875 48.1875 33.109375 48.1875 \nQ 26.21875 48.1875 22.15625 43.53125 \nQ 18.109375 38.875 18.109375 30.90625 \nL 18.109375 0 \nL 9.078125 0 \nL 9.078125 54.6875 \nL 18.109375 54.6875 \nL 18.109375 46.1875 \nQ 21.1875 51.21875 25.484375 53.609375 \nQ 29.78125 56 35.6875 56 \nQ 41.65625 56 45.828125 52.96875 \nQ 50 49.953125 52 44.1875 \nz\n\" id=\"DejaVuSans-109\"/>\n      </defs>\n      <g style=\"fill:#262626;\" transform=\"translate(49.982937 426.319112)rotate(-45)scale(0.11 -0.11)\">\n       <use xlink:href=\"#DejaVuSans-85\"/>\n       <use x=\"73.193359\" xlink:href=\"#DejaVuSans-110\"/>\n       <use x=\"136.572266\" xlink:href=\"#DejaVuSans-105\"/>\n       <use x=\"164.355469\" xlink:href=\"#DejaVuSans-116\"/>\n       <use x=\"203.564453\" xlink:href=\"#DejaVuSans-101\"/>\n       <use x=\"265.087891\" xlink:href=\"#DejaVuSans-100\"/>\n       <use x=\"328.564453\" xlink:href=\"#DejaVuSans-32\"/>\n       <use x=\"360.351562\" xlink:href=\"#DejaVuSans-75\"/>\n       <use x=\"425.927734\" xlink:href=\"#DejaVuSans-105\"/>\n       <use x=\"453.710938\" xlink:href=\"#DejaVuSans-110\"/>\n       <use x=\"517.089844\" xlink:href=\"#DejaVuSans-103\"/>\n       <use x=\"580.566406\" xlink:href=\"#DejaVuSans-100\"/>\n       <use x=\"644.042969\" xlink:href=\"#DejaVuSans-111\"/>\n       <use x=\"705.224609\" xlink:href=\"#DejaVuSans-109\"/>\n      </g>\n     </g>\n    </g>\n    <g id=\"xtick_2\">\n     <g id=\"line2d_2\">\n      <path clip-path=\"url(#p97c04b9529)\" d=\"M 200.498285 348.478125 \nL 200.498285 22.318125 \n\" style=\"fill:none;stroke:#ffffff;stroke-linecap:round;\"/>\n     </g>\n     <g id=\"text_2\">\n      <!-- India -->\n      <defs>\n       <path d=\"M 9.8125 72.90625 \nL 19.671875 72.90625 \nL 19.671875 0 \nL 9.8125 0 \nz\n\" id=\"DejaVuSans-73\"/>\n       <path d=\"M 34.28125 27.484375 \nQ 23.390625 27.484375 19.1875 25 \nQ 14.984375 22.515625 14.984375 16.5 \nQ 14.984375 11.71875 18.140625 8.90625 \nQ 21.296875 6.109375 26.703125 6.109375 \nQ 34.1875 6.109375 38.703125 11.40625 \nQ 43.21875 16.703125 43.21875 25.484375 \nL 43.21875 27.484375 \nz\nM 52.203125 31.203125 \nL 52.203125 0 \nL 43.21875 0 \nL 43.21875 8.296875 \nQ 40.140625 3.328125 35.546875 0.953125 \nQ 30.953125 -1.421875 24.3125 -1.421875 \nQ 15.921875 -1.421875 10.953125 3.296875 \nQ 6 8.015625 6 15.921875 \nQ 6 25.140625 12.171875 29.828125 \nQ 18.359375 34.515625 30.609375 34.515625 \nL 43.21875 34.515625 \nL 43.21875 35.40625 \nQ 43.21875 41.609375 39.140625 45 \nQ 35.0625 48.390625 27.6875 48.390625 \nQ 23 48.390625 18.546875 47.265625 \nQ 14.109375 46.140625 10.015625 43.890625 \nL 10.015625 52.203125 \nQ 14.9375 54.109375 19.578125 55.046875 \nQ 24.21875 56 28.609375 56 \nQ 40.484375 56 46.34375 49.84375 \nQ 52.203125 43.703125 52.203125 31.203125 \nz\n\" id=\"DejaVuSans-97\"/>\n      </defs>\n      <g style=\"fill:#262626;\" transform=\"translate(179.791326 382.977664)rotate(-45)scale(0.11 -0.11)\">\n       <use xlink:href=\"#DejaVuSans-73\"/>\n       <use x=\"29.492188\" xlink:href=\"#DejaVuSans-110\"/>\n       <use x=\"92.871094\" xlink:href=\"#DejaVuSans-100\"/>\n       <use x=\"156.347656\" xlink:href=\"#DejaVuSans-105\"/>\n       <use x=\"184.130859\" xlink:href=\"#DejaVuSans-97\"/>\n      </g>\n     </g>\n    </g>\n    <g id=\"xtick_3\">\n     <g id=\"line2d_3\">\n      <path clip-path=\"url(#p97c04b9529)\" d=\"M 286.965227 348.478125 \nL 286.965227 22.318125 \n\" style=\"fill:none;stroke:#ffffff;stroke-linecap:round;\"/>\n     </g>\n     <g id=\"text_3\">\n      <!-- Russia -->\n      <defs>\n       <path d=\"M 44.390625 34.1875 \nQ 47.5625 33.109375 50.5625 29.59375 \nQ 53.5625 26.078125 56.59375 19.921875 \nL 66.609375 0 \nL 56 0 \nL 46.6875 18.703125 \nQ 43.0625 26.03125 39.671875 28.421875 \nQ 36.28125 30.8125 30.421875 30.8125 \nL 19.671875 30.8125 \nL 19.671875 0 \nL 9.8125 0 \nL 9.8125 72.90625 \nL 32.078125 72.90625 \nQ 44.578125 72.90625 50.734375 67.671875 \nQ 56.890625 62.453125 56.890625 51.90625 \nQ 56.890625 45.015625 53.6875 40.46875 \nQ 50.484375 35.9375 44.390625 34.1875 \nz\nM 19.671875 64.796875 \nL 19.671875 38.921875 \nL 32.078125 38.921875 \nQ 39.203125 38.921875 42.84375 42.21875 \nQ 46.484375 45.515625 46.484375 51.90625 \nQ 46.484375 58.296875 42.84375 61.546875 \nQ 39.203125 64.796875 32.078125 64.796875 \nz\n\" id=\"DejaVuSans-82\"/>\n       <path d=\"M 8.5 21.578125 \nL 8.5 54.6875 \nL 17.484375 54.6875 \nL 17.484375 21.921875 \nQ 17.484375 14.15625 20.5 10.265625 \nQ 23.53125 6.390625 29.59375 6.390625 \nQ 36.859375 6.390625 41.078125 11.03125 \nQ 45.3125 15.671875 45.3125 23.6875 \nL 45.3125 54.6875 \nL 54.296875 54.6875 \nL 54.296875 0 \nL 45.3125 0 \nL 45.3125 8.40625 \nQ 42.046875 3.421875 37.71875 1 \nQ 33.40625 -1.421875 27.6875 -1.421875 \nQ 18.265625 -1.421875 13.375 4.4375 \nQ 8.5 10.296875 8.5 21.578125 \nz\nM 31.109375 56 \nz\n\" id=\"DejaVuSans-117\"/>\n       <path d=\"M 44.28125 53.078125 \nL 44.28125 44.578125 \nQ 40.484375 46.53125 36.375 47.5 \nQ 32.28125 48.484375 27.875 48.484375 \nQ 21.1875 48.484375 17.84375 46.4375 \nQ 14.5 44.390625 14.5 40.28125 \nQ 14.5 37.15625 16.890625 35.375 \nQ 19.28125 33.59375 26.515625 31.984375 \nL 29.59375 31.296875 \nQ 39.15625 29.25 43.1875 25.515625 \nQ 47.21875 21.78125 47.21875 15.09375 \nQ 47.21875 7.46875 41.1875 3.015625 \nQ 35.15625 -1.421875 24.609375 -1.421875 \nQ 20.21875 -1.421875 15.453125 -0.5625 \nQ 10.6875 0.296875 5.421875 2 \nL 5.421875 11.28125 \nQ 10.40625 8.6875 15.234375 7.390625 \nQ 20.0625 6.109375 24.8125 6.109375 \nQ 31.15625 6.109375 34.5625 8.28125 \nQ 37.984375 10.453125 37.984375 14.40625 \nQ 37.984375 18.0625 35.515625 20.015625 \nQ 33.0625 21.96875 24.703125 23.78125 \nL 21.578125 24.515625 \nQ 13.234375 26.265625 9.515625 29.90625 \nQ 5.8125 33.546875 5.8125 39.890625 \nQ 5.8125 47.609375 11.28125 51.796875 \nQ 16.75 56 26.8125 56 \nQ 31.78125 56 36.171875 55.265625 \nQ 40.578125 54.546875 44.28125 53.078125 \nz\n\" id=\"DejaVuSans-115\"/>\n      </defs>\n      <g style=\"fill:#262626;\" transform=\"translate(260.332271 388.903661)rotate(-45)scale(0.11 -0.11)\">\n       <use xlink:href=\"#DejaVuSans-82\"/>\n       <use x=\"64.982422\" xlink:href=\"#DejaVuSans-117\"/>\n       <use x=\"128.361328\" xlink:href=\"#DejaVuSans-115\"/>\n       <use x=\"180.460938\" xlink:href=\"#DejaVuSans-115\"/>\n       <use x=\"232.560547\" xlink:href=\"#DejaVuSans-105\"/>\n       <use x=\"260.34375\" xlink:href=\"#DejaVuSans-97\"/>\n      </g>\n     </g>\n    </g>\n    <g id=\"xtick_4\">\n     <g id=\"line2d_4\">\n      <path clip-path=\"url(#p97c04b9529)\" d=\"M 373.432169 348.478125 \nL 373.432169 22.318125 \n\" style=\"fill:none;stroke:#ffffff;stroke-linecap:round;\"/>\n     </g>\n     <g id=\"text_4\">\n      <!-- Brazil -->\n      <defs>\n       <path d=\"M 19.671875 34.8125 \nL 19.671875 8.109375 \nL 35.5 8.109375 \nQ 43.453125 8.109375 47.28125 11.40625 \nQ 51.125 14.703125 51.125 21.484375 \nQ 51.125 28.328125 47.28125 31.5625 \nQ 43.453125 34.8125 35.5 34.8125 \nz\nM 19.671875 64.796875 \nL 19.671875 42.828125 \nL 34.28125 42.828125 \nQ 41.5 42.828125 45.03125 45.53125 \nQ 48.578125 48.25 48.578125 53.8125 \nQ 48.578125 59.328125 45.03125 62.0625 \nQ 41.5 64.796875 34.28125 64.796875 \nz\nM 9.8125 72.90625 \nL 35.015625 72.90625 \nQ 46.296875 72.90625 52.390625 68.21875 \nQ 58.5 63.53125 58.5 54.890625 \nQ 58.5 48.1875 55.375 44.234375 \nQ 52.25 40.28125 46.1875 39.3125 \nQ 53.46875 37.75 57.5 32.78125 \nQ 61.53125 27.828125 61.53125 20.40625 \nQ 61.53125 10.640625 54.890625 5.3125 \nQ 48.25 0 35.984375 0 \nL 9.8125 0 \nz\n\" id=\"DejaVuSans-66\"/>\n       <path d=\"M 41.109375 46.296875 \nQ 39.59375 47.171875 37.8125 47.578125 \nQ 36.03125 48 33.890625 48 \nQ 26.265625 48 22.1875 43.046875 \nQ 18.109375 38.09375 18.109375 28.8125 \nL 18.109375 0 \nL 9.078125 0 \nL 9.078125 54.6875 \nL 18.109375 54.6875 \nL 18.109375 46.1875 \nQ 20.953125 51.171875 25.484375 53.578125 \nQ 30.03125 56 36.53125 56 \nQ 37.453125 56 38.578125 55.875 \nQ 39.703125 55.765625 41.0625 55.515625 \nz\n\" id=\"DejaVuSans-114\"/>\n       <path d=\"M 5.515625 54.6875 \nL 48.1875 54.6875 \nL 48.1875 46.484375 \nL 14.40625 7.171875 \nL 48.1875 7.171875 \nL 48.1875 0 \nL 4.296875 0 \nL 4.296875 8.203125 \nL 38.09375 47.515625 \nL 5.515625 47.515625 \nz\n\" id=\"DejaVuSans-122\"/>\n       <path d=\"M 9.421875 75.984375 \nL 18.40625 75.984375 \nL 18.40625 0 \nL 9.421875 0 \nz\n\" id=\"DejaVuSans-108\"/>\n      </defs>\n      <g style=\"fill:#262626;\" transform=\"translate(350.109799 385.593075)rotate(-45)scale(0.11 -0.11)\">\n       <use xlink:href=\"#DejaVuSans-66\"/>\n       <use x=\"68.603516\" xlink:href=\"#DejaVuSans-114\"/>\n       <use x=\"109.716797\" xlink:href=\"#DejaVuSans-97\"/>\n       <use x=\"170.996094\" xlink:href=\"#DejaVuSans-122\"/>\n       <use x=\"223.486328\" xlink:href=\"#DejaVuSans-105\"/>\n       <use x=\"251.269531\" xlink:href=\"#DejaVuSans-108\"/>\n      </g>\n     </g>\n    </g>\n    <g id=\"xtick_5\">\n     <g id=\"line2d_5\">\n      <path clip-path=\"url(#p97c04b9529)\" d=\"M 459.899112 348.478125 \nL 459.899112 22.318125 \n\" style=\"fill:none;stroke:#ffffff;stroke-linecap:round;\"/>\n     </g>\n     <g id=\"text_5\">\n      <!-- United States -->\n      <defs>\n       <path d=\"M 53.515625 70.515625 \nL 53.515625 60.890625 \nQ 47.90625 63.578125 42.921875 64.890625 \nQ 37.9375 66.21875 33.296875 66.21875 \nQ 25.25 66.21875 20.875 63.09375 \nQ 16.5 59.96875 16.5 54.203125 \nQ 16.5 49.359375 19.40625 46.890625 \nQ 22.3125 44.4375 30.421875 42.921875 \nL 36.375 41.703125 \nQ 47.40625 39.59375 52.65625 34.296875 \nQ 57.90625 29 57.90625 20.125 \nQ 57.90625 9.515625 50.796875 4.046875 \nQ 43.703125 -1.421875 29.984375 -1.421875 \nQ 24.8125 -1.421875 18.96875 -0.25 \nQ 13.140625 0.921875 6.890625 3.21875 \nL 6.890625 13.375 \nQ 12.890625 10.015625 18.65625 8.296875 \nQ 24.421875 6.59375 29.984375 6.59375 \nQ 38.421875 6.59375 43.015625 9.90625 \nQ 47.609375 13.234375 47.609375 19.390625 \nQ 47.609375 24.75 44.3125 27.78125 \nQ 41.015625 30.8125 33.5 32.328125 \nL 27.484375 33.5 \nQ 16.453125 35.6875 11.515625 40.375 \nQ 6.59375 45.0625 6.59375 53.421875 \nQ 6.59375 63.09375 13.40625 68.65625 \nQ 20.21875 74.21875 32.171875 74.21875 \nQ 37.3125 74.21875 42.625 73.28125 \nQ 47.953125 72.359375 53.515625 70.515625 \nz\n\" id=\"DejaVuSans-83\"/>\n      </defs>\n      <g style=\"fill:#262626;\" transform=\"translate(405.612314 416.557502)rotate(-45)scale(0.11 -0.11)\">\n       <use xlink:href=\"#DejaVuSans-85\"/>\n       <use x=\"73.193359\" xlink:href=\"#DejaVuSans-110\"/>\n       <use x=\"136.572266\" xlink:href=\"#DejaVuSans-105\"/>\n       <use x=\"164.355469\" xlink:href=\"#DejaVuSans-116\"/>\n       <use x=\"203.564453\" xlink:href=\"#DejaVuSans-101\"/>\n       <use x=\"265.087891\" xlink:href=\"#DejaVuSans-100\"/>\n       <use x=\"328.564453\" xlink:href=\"#DejaVuSans-32\"/>\n       <use x=\"360.351562\" xlink:href=\"#DejaVuSans-83\"/>\n       <use x=\"423.828125\" xlink:href=\"#DejaVuSans-116\"/>\n       <use x=\"463.037109\" xlink:href=\"#DejaVuSans-97\"/>\n       <use x=\"524.316406\" xlink:href=\"#DejaVuSans-116\"/>\n       <use x=\"563.525391\" xlink:href=\"#DejaVuSans-101\"/>\n       <use x=\"625.048828\" xlink:href=\"#DejaVuSans-115\"/>\n      </g>\n     </g>\n    </g>\n   </g>\n   <g id=\"matplotlib.axis_2\">\n    <g id=\"ytick_1\">\n     <g id=\"line2d_6\">\n      <path clip-path=\"url(#p97c04b9529)\" d=\"M 58.6925 348.478125 \nL 515.237955 348.478125 \n\" style=\"fill:none;stroke:#ffffff;stroke-linecap:round;\"/>\n     </g>\n     <g id=\"text_6\">\n      <!-- 0 -->\n      <defs>\n       <path d=\"M 31.78125 66.40625 \nQ 24.171875 66.40625 20.328125 58.90625 \nQ 16.5 51.421875 16.5 36.375 \nQ 16.5 21.390625 20.328125 13.890625 \nQ 24.171875 6.390625 31.78125 6.390625 \nQ 39.453125 6.390625 43.28125 13.890625 \nQ 47.125 21.390625 47.125 36.375 \nQ 47.125 51.421875 43.28125 58.90625 \nQ 39.453125 66.40625 31.78125 66.40625 \nz\nM 31.78125 74.21875 \nQ 44.046875 74.21875 50.515625 64.515625 \nQ 56.984375 54.828125 56.984375 36.375 \nQ 56.984375 17.96875 50.515625 8.265625 \nQ 44.046875 -1.421875 31.78125 -1.421875 \nQ 19.53125 -1.421875 13.0625 8.265625 \nQ 6.59375 17.96875 6.59375 36.375 \nQ 6.59375 54.828125 13.0625 64.515625 \nQ 19.53125 74.21875 31.78125 74.21875 \nz\n\" id=\"DejaVuSans-48\"/>\n      </defs>\n      <g style=\"fill:#262626;\" transform=\"translate(42.19375 352.657266)scale(0.11 -0.11)\">\n       <use xlink:href=\"#DejaVuSans-48\"/>\n      </g>\n     </g>\n    </g>\n    <g id=\"ytick_2\">\n     <g id=\"line2d_7\">\n      <path clip-path=\"url(#p97c04b9529)\" d=\"M 58.6925 294.659806 \nL 515.237955 294.659806 \n\" style=\"fill:none;stroke:#ffffff;stroke-linecap:round;\"/>\n     </g>\n     <g id=\"text_7\">\n      <!-- 20000 -->\n      <defs>\n       <path d=\"M 19.1875 8.296875 \nL 53.609375 8.296875 \nL 53.609375 0 \nL 7.328125 0 \nL 7.328125 8.296875 \nQ 12.9375 14.109375 22.625 23.890625 \nQ 32.328125 33.6875 34.8125 36.53125 \nQ 39.546875 41.84375 41.421875 45.53125 \nQ 43.3125 49.21875 43.3125 52.78125 \nQ 43.3125 58.59375 39.234375 62.25 \nQ 35.15625 65.921875 28.609375 65.921875 \nQ 23.96875 65.921875 18.8125 64.3125 \nQ 13.671875 62.703125 7.8125 59.421875 \nL 7.8125 69.390625 \nQ 13.765625 71.78125 18.9375 73 \nQ 24.125 74.21875 28.421875 74.21875 \nQ 39.75 74.21875 46.484375 68.546875 \nQ 53.21875 62.890625 53.21875 53.421875 \nQ 53.21875 48.921875 51.53125 44.890625 \nQ 49.859375 40.875 45.40625 35.40625 \nQ 44.1875 33.984375 37.640625 27.21875 \nQ 31.109375 20.453125 19.1875 8.296875 \nz\n\" id=\"DejaVuSans-50\"/>\n      </defs>\n      <g style=\"fill:#262626;\" transform=\"translate(14.19875 298.838947)scale(0.11 -0.11)\">\n       <use xlink:href=\"#DejaVuSans-50\"/>\n       <use x=\"63.623047\" xlink:href=\"#DejaVuSans-48\"/>\n       <use x=\"127.246094\" xlink:href=\"#DejaVuSans-48\"/>\n       <use x=\"190.869141\" xlink:href=\"#DejaVuSans-48\"/>\n       <use x=\"254.492188\" xlink:href=\"#DejaVuSans-48\"/>\n      </g>\n     </g>\n    </g>\n    <g id=\"ytick_3\">\n     <g id=\"line2d_8\">\n      <path clip-path=\"url(#p97c04b9529)\" d=\"M 58.6925 240.841488 \nL 515.237955 240.841488 \n\" style=\"fill:none;stroke:#ffffff;stroke-linecap:round;\"/>\n     </g>\n     <g id=\"text_8\">\n      <!-- 40000 -->\n      <defs>\n       <path d=\"M 37.796875 64.3125 \nL 12.890625 25.390625 \nL 37.796875 25.390625 \nz\nM 35.203125 72.90625 \nL 47.609375 72.90625 \nL 47.609375 25.390625 \nL 58.015625 25.390625 \nL 58.015625 17.1875 \nL 47.609375 17.1875 \nL 47.609375 0 \nL 37.796875 0 \nL 37.796875 17.1875 \nL 4.890625 17.1875 \nL 4.890625 26.703125 \nz\n\" id=\"DejaVuSans-52\"/>\n      </defs>\n      <g style=\"fill:#262626;\" transform=\"translate(14.19875 245.020628)scale(0.11 -0.11)\">\n       <use xlink:href=\"#DejaVuSans-52\"/>\n       <use x=\"63.623047\" xlink:href=\"#DejaVuSans-48\"/>\n       <use x=\"127.246094\" xlink:href=\"#DejaVuSans-48\"/>\n       <use x=\"190.869141\" xlink:href=\"#DejaVuSans-48\"/>\n       <use x=\"254.492188\" xlink:href=\"#DejaVuSans-48\"/>\n      </g>\n     </g>\n    </g>\n    <g id=\"ytick_4\">\n     <g id=\"line2d_9\">\n      <path clip-path=\"url(#p97c04b9529)\" d=\"M 58.6925 187.023169 \nL 515.237955 187.023169 \n\" style=\"fill:none;stroke:#ffffff;stroke-linecap:round;\"/>\n     </g>\n     <g id=\"text_9\">\n      <!-- 60000 -->\n      <defs>\n       <path d=\"M 33.015625 40.375 \nQ 26.375 40.375 22.484375 35.828125 \nQ 18.609375 31.296875 18.609375 23.390625 \nQ 18.609375 15.53125 22.484375 10.953125 \nQ 26.375 6.390625 33.015625 6.390625 \nQ 39.65625 6.390625 43.53125 10.953125 \nQ 47.40625 15.53125 47.40625 23.390625 \nQ 47.40625 31.296875 43.53125 35.828125 \nQ 39.65625 40.375 33.015625 40.375 \nz\nM 52.59375 71.296875 \nL 52.59375 62.3125 \nQ 48.875 64.0625 45.09375 64.984375 \nQ 41.3125 65.921875 37.59375 65.921875 \nQ 27.828125 65.921875 22.671875 59.328125 \nQ 17.53125 52.734375 16.796875 39.40625 \nQ 19.671875 43.65625 24.015625 45.921875 \nQ 28.375 48.1875 33.59375 48.1875 \nQ 44.578125 48.1875 50.953125 41.515625 \nQ 57.328125 34.859375 57.328125 23.390625 \nQ 57.328125 12.15625 50.6875 5.359375 \nQ 44.046875 -1.421875 33.015625 -1.421875 \nQ 20.359375 -1.421875 13.671875 8.265625 \nQ 6.984375 17.96875 6.984375 36.375 \nQ 6.984375 53.65625 15.1875 63.9375 \nQ 23.390625 74.21875 37.203125 74.21875 \nQ 40.921875 74.21875 44.703125 73.484375 \nQ 48.484375 72.75 52.59375 71.296875 \nz\n\" id=\"DejaVuSans-54\"/>\n      </defs>\n      <g style=\"fill:#262626;\" transform=\"translate(14.19875 191.20231)scale(0.11 -0.11)\">\n       <use xlink:href=\"#DejaVuSans-54\"/>\n       <use x=\"63.623047\" xlink:href=\"#DejaVuSans-48\"/>\n       <use x=\"127.246094\" xlink:href=\"#DejaVuSans-48\"/>\n       <use x=\"190.869141\" xlink:href=\"#DejaVuSans-48\"/>\n       <use x=\"254.492188\" xlink:href=\"#DejaVuSans-48\"/>\n      </g>\n     </g>\n    </g>\n    <g id=\"ytick_5\">\n     <g id=\"line2d_10\">\n      <path clip-path=\"url(#p97c04b9529)\" d=\"M 58.6925 133.204851 \nL 515.237955 133.204851 \n\" style=\"fill:none;stroke:#ffffff;stroke-linecap:round;\"/>\n     </g>\n     <g id=\"text_10\">\n      <!-- 80000 -->\n      <defs>\n       <path d=\"M 31.78125 34.625 \nQ 24.75 34.625 20.71875 30.859375 \nQ 16.703125 27.09375 16.703125 20.515625 \nQ 16.703125 13.921875 20.71875 10.15625 \nQ 24.75 6.390625 31.78125 6.390625 \nQ 38.8125 6.390625 42.859375 10.171875 \nQ 46.921875 13.96875 46.921875 20.515625 \nQ 46.921875 27.09375 42.890625 30.859375 \nQ 38.875 34.625 31.78125 34.625 \nz\nM 21.921875 38.8125 \nQ 15.578125 40.375 12.03125 44.71875 \nQ 8.5 49.078125 8.5 55.328125 \nQ 8.5 64.0625 14.71875 69.140625 \nQ 20.953125 74.21875 31.78125 74.21875 \nQ 42.671875 74.21875 48.875 69.140625 \nQ 55.078125 64.0625 55.078125 55.328125 \nQ 55.078125 49.078125 51.53125 44.71875 \nQ 48 40.375 41.703125 38.8125 \nQ 48.828125 37.15625 52.796875 32.3125 \nQ 56.78125 27.484375 56.78125 20.515625 \nQ 56.78125 9.90625 50.3125 4.234375 \nQ 43.84375 -1.421875 31.78125 -1.421875 \nQ 19.734375 -1.421875 13.25 4.234375 \nQ 6.78125 9.90625 6.78125 20.515625 \nQ 6.78125 27.484375 10.78125 32.3125 \nQ 14.796875 37.15625 21.921875 38.8125 \nz\nM 18.3125 54.390625 \nQ 18.3125 48.734375 21.84375 45.5625 \nQ 25.390625 42.390625 31.78125 42.390625 \nQ 38.140625 42.390625 41.71875 45.5625 \nQ 45.3125 48.734375 45.3125 54.390625 \nQ 45.3125 60.0625 41.71875 63.234375 \nQ 38.140625 66.40625 31.78125 66.40625 \nQ 25.390625 66.40625 21.84375 63.234375 \nQ 18.3125 60.0625 18.3125 54.390625 \nz\n\" id=\"DejaVuSans-56\"/>\n      </defs>\n      <g style=\"fill:#262626;\" transform=\"translate(14.19875 137.383991)scale(0.11 -0.11)\">\n       <use xlink:href=\"#DejaVuSans-56\"/>\n       <use x=\"63.623047\" xlink:href=\"#DejaVuSans-48\"/>\n       <use x=\"127.246094\" xlink:href=\"#DejaVuSans-48\"/>\n       <use x=\"190.869141\" xlink:href=\"#DejaVuSans-48\"/>\n       <use x=\"254.492188\" xlink:href=\"#DejaVuSans-48\"/>\n      </g>\n     </g>\n    </g>\n    <g id=\"ytick_6\">\n     <g id=\"line2d_11\">\n      <path clip-path=\"url(#p97c04b9529)\" d=\"M 58.6925 79.386532 \nL 515.237955 79.386532 \n\" style=\"fill:none;stroke:#ffffff;stroke-linecap:round;\"/>\n     </g>\n     <g id=\"text_11\">\n      <!-- 100000 -->\n      <defs>\n       <path d=\"M 12.40625 8.296875 \nL 28.515625 8.296875 \nL 28.515625 63.921875 \nL 10.984375 60.40625 \nL 10.984375 69.390625 \nL 28.421875 72.90625 \nL 38.28125 72.90625 \nL 38.28125 8.296875 \nL 54.390625 8.296875 \nL 54.390625 0 \nL 12.40625 0 \nz\n\" id=\"DejaVuSans-49\"/>\n      </defs>\n      <g style=\"fill:#262626;\" transform=\"translate(7.2 83.565673)scale(0.11 -0.11)\">\n       <use xlink:href=\"#DejaVuSans-49\"/>\n       <use x=\"63.623047\" xlink:href=\"#DejaVuSans-48\"/>\n       <use x=\"127.246094\" xlink:href=\"#DejaVuSans-48\"/>\n       <use x=\"190.869141\" xlink:href=\"#DejaVuSans-48\"/>\n       <use x=\"254.492188\" xlink:href=\"#DejaVuSans-48\"/>\n       <use x=\"318.115234\" xlink:href=\"#DejaVuSans-48\"/>\n      </g>\n     </g>\n    </g>\n    <g id=\"ytick_7\">\n     <g id=\"line2d_12\">\n      <path clip-path=\"url(#p97c04b9529)\" d=\"M 58.6925 25.568213 \nL 515.237955 25.568213 \n\" style=\"fill:none;stroke:#ffffff;stroke-linecap:round;\"/>\n     </g>\n     <g id=\"text_12\">\n      <!-- 120000 -->\n      <g style=\"fill:#262626;\" transform=\"translate(7.2 29.747354)scale(0.11 -0.11)\">\n       <use xlink:href=\"#DejaVuSans-49\"/>\n       <use x=\"63.623047\" xlink:href=\"#DejaVuSans-50\"/>\n       <use x=\"127.246094\" xlink:href=\"#DejaVuSans-48\"/>\n       <use x=\"190.869141\" xlink:href=\"#DejaVuSans-48\"/>\n       <use x=\"254.492188\" xlink:href=\"#DejaVuSans-48\"/>\n       <use x=\"318.115234\" xlink:href=\"#DejaVuSans-48\"/>\n      </g>\n     </g>\n    </g>\n   </g>\n   <g id=\"patch_3\">\n    <path clip-path=\"url(#p97c04b9529)\" d=\"M 79.444566 348.478125 \nL 148.61812 348.478125 \nL 148.61812 330.10186 \nL 79.444566 330.10186 \nz\n\" style=\"fill:#ff304f;stroke:#ffffff;stroke-linejoin:miter;\"/>\n   </g>\n   <g id=\"patch_4\">\n    <path clip-path=\"url(#p97c04b9529)\" d=\"M 165.911508 348.478125 \nL 235.085062 348.478125 \nL 235.085062 323.735153 \nL 165.911508 323.735153 \nz\n\" style=\"fill:#ff304f;stroke:#ffffff;stroke-linejoin:miter;\"/>\n   </g>\n   <g id=\"patch_5\">\n    <path clip-path=\"url(#p97c04b9529)\" d=\"M 252.37845 348.478125 \nL 321.552004 348.478125 \nL 321.552004 236.369185 \nL 252.37845 236.369185 \nz\n\" style=\"fill:#ff304f;stroke:#ffffff;stroke-linejoin:miter;\"/>\n   </g>\n   <g id=\"patch_6\">\n    <path clip-path=\"url(#p97c04b9529)\" d=\"M 338.845393 348.478125 \nL 408.018946 348.478125 \nL 408.018946 233.522196 \nL 338.845393 233.522196 \nz\n\" style=\"fill:#ff304f;stroke:#ffffff;stroke-linejoin:miter;\"/>\n   </g>\n   <g id=\"patch_7\">\n    <path clip-path=\"url(#p97c04b9529)\" d=\"M 425.312335 348.478125 \nL 494.485888 348.478125 \nL 494.485888 37.849554 \nL 425.312335 37.849554 \nz\n\" style=\"fill:#ff304f;stroke:#ffffff;stroke-linejoin:miter;\"/>\n   </g>\n   <g id=\"patch_8\">\n    <path d=\"M 58.6925 348.478125 \nL 58.6925 22.318125 \n\" style=\"fill:none;stroke:#ffffff;stroke-linecap:square;stroke-linejoin:miter;stroke-width:1.25;\"/>\n   </g>\n   <g id=\"patch_9\">\n    <path d=\"M 515.237955 348.478125 \nL 515.237955 22.318125 \n\" style=\"fill:none;stroke:#ffffff;stroke-linecap:square;stroke-linejoin:miter;stroke-width:1.25;\"/>\n   </g>\n   <g id=\"patch_10\">\n    <path d=\"M 58.6925 348.478125 \nL 515.237955 348.478125 \n\" style=\"fill:none;stroke:#ffffff;stroke-linecap:square;stroke-linejoin:miter;stroke-width:1.25;\"/>\n   </g>\n   <g id=\"patch_11\">\n    <path d=\"M 58.6925 22.318125 \nL 515.237955 22.318125 \n\" style=\"fill:none;stroke:#ffffff;stroke-linecap:square;stroke-linejoin:miter;stroke-width:1.25;\"/>\n   </g>\n   <g id=\"text_13\">\n    <!-- Cinco paises com mais mortes de COVID-19 -->\n    <defs>\n     <path d=\"M 64.40625 67.28125 \nL 64.40625 56.890625 \nQ 59.421875 61.53125 53.78125 63.8125 \nQ 48.140625 66.109375 41.796875 66.109375 \nQ 29.296875 66.109375 22.65625 58.46875 \nQ 16.015625 50.828125 16.015625 36.375 \nQ 16.015625 21.96875 22.65625 14.328125 \nQ 29.296875 6.6875 41.796875 6.6875 \nQ 48.140625 6.6875 53.78125 8.984375 \nQ 59.421875 11.28125 64.40625 15.921875 \nL 64.40625 5.609375 \nQ 59.234375 2.09375 53.4375 0.328125 \nQ 47.65625 -1.421875 41.21875 -1.421875 \nQ 24.65625 -1.421875 15.125 8.703125 \nQ 5.609375 18.84375 5.609375 36.375 \nQ 5.609375 53.953125 15.125 64.078125 \nQ 24.65625 74.21875 41.21875 74.21875 \nQ 47.75 74.21875 53.53125 72.484375 \nQ 59.328125 70.75 64.40625 67.28125 \nz\n\" id=\"DejaVuSans-67\"/>\n     <path d=\"M 48.78125 52.59375 \nL 48.78125 44.1875 \nQ 44.96875 46.296875 41.140625 47.34375 \nQ 37.3125 48.390625 33.40625 48.390625 \nQ 24.65625 48.390625 19.8125 42.84375 \nQ 14.984375 37.3125 14.984375 27.296875 \nQ 14.984375 17.28125 19.8125 11.734375 \nQ 24.65625 6.203125 33.40625 6.203125 \nQ 37.3125 6.203125 41.140625 7.25 \nQ 44.96875 8.296875 48.78125 10.40625 \nL 48.78125 2.09375 \nQ 45.015625 0.34375 40.984375 -0.53125 \nQ 36.96875 -1.421875 32.421875 -1.421875 \nQ 20.0625 -1.421875 12.78125 6.34375 \nQ 5.515625 14.109375 5.515625 27.296875 \nQ 5.515625 40.671875 12.859375 48.328125 \nQ 20.21875 56 33.015625 56 \nQ 37.15625 56 41.109375 55.140625 \nQ 45.0625 54.296875 48.78125 52.59375 \nz\n\" id=\"DejaVuSans-99\"/>\n     <path d=\"M 18.109375 8.203125 \nL 18.109375 -20.796875 \nL 9.078125 -20.796875 \nL 9.078125 54.6875 \nL 18.109375 54.6875 \nL 18.109375 46.390625 \nQ 20.953125 51.265625 25.265625 53.625 \nQ 29.59375 56 35.59375 56 \nQ 45.5625 56 51.78125 48.09375 \nQ 58.015625 40.1875 58.015625 27.296875 \nQ 58.015625 14.40625 51.78125 6.484375 \nQ 45.5625 -1.421875 35.59375 -1.421875 \nQ 29.59375 -1.421875 25.265625 0.953125 \nQ 20.953125 3.328125 18.109375 8.203125 \nz\nM 48.6875 27.296875 \nQ 48.6875 37.203125 44.609375 42.84375 \nQ 40.53125 48.484375 33.40625 48.484375 \nQ 26.265625 48.484375 22.1875 42.84375 \nQ 18.109375 37.203125 18.109375 27.296875 \nQ 18.109375 17.390625 22.1875 11.75 \nQ 26.265625 6.109375 33.40625 6.109375 \nQ 40.53125 6.109375 44.609375 11.75 \nQ 48.6875 17.390625 48.6875 27.296875 \nz\n\" id=\"DejaVuSans-112\"/>\n     <path d=\"M 39.40625 66.21875 \nQ 28.65625 66.21875 22.328125 58.203125 \nQ 16.015625 50.203125 16.015625 36.375 \nQ 16.015625 22.609375 22.328125 14.59375 \nQ 28.65625 6.59375 39.40625 6.59375 \nQ 50.140625 6.59375 56.421875 14.59375 \nQ 62.703125 22.609375 62.703125 36.375 \nQ 62.703125 50.203125 56.421875 58.203125 \nQ 50.140625 66.21875 39.40625 66.21875 \nz\nM 39.40625 74.21875 \nQ 54.734375 74.21875 63.90625 63.9375 \nQ 73.09375 53.65625 73.09375 36.375 \nQ 73.09375 19.140625 63.90625 8.859375 \nQ 54.734375 -1.421875 39.40625 -1.421875 \nQ 24.03125 -1.421875 14.8125 8.828125 \nQ 5.609375 19.09375 5.609375 36.375 \nQ 5.609375 53.65625 14.8125 63.9375 \nQ 24.03125 74.21875 39.40625 74.21875 \nz\n\" id=\"DejaVuSans-79\"/>\n     <path d=\"M 28.609375 0 \nL 0.78125 72.90625 \nL 11.078125 72.90625 \nL 34.1875 11.53125 \nL 57.328125 72.90625 \nL 67.578125 72.90625 \nL 39.796875 0 \nz\n\" id=\"DejaVuSans-86\"/>\n     <path d=\"M 19.671875 64.796875 \nL 19.671875 8.109375 \nL 31.59375 8.109375 \nQ 46.6875 8.109375 53.6875 14.9375 \nQ 60.6875 21.78125 60.6875 36.53125 \nQ 60.6875 51.171875 53.6875 57.984375 \nQ 46.6875 64.796875 31.59375 64.796875 \nz\nM 9.8125 72.90625 \nL 30.078125 72.90625 \nQ 51.265625 72.90625 61.171875 64.09375 \nQ 71.09375 55.28125 71.09375 36.53125 \nQ 71.09375 17.671875 61.125 8.828125 \nQ 51.171875 0 30.078125 0 \nL 9.8125 0 \nz\n\" id=\"DejaVuSans-68\"/>\n     <path d=\"M 4.890625 31.390625 \nL 31.203125 31.390625 \nL 31.203125 23.390625 \nL 4.890625 23.390625 \nz\n\" id=\"DejaVuSans-45\"/>\n     <path d=\"M 10.984375 1.515625 \nL 10.984375 10.5 \nQ 14.703125 8.734375 18.5 7.8125 \nQ 22.3125 6.890625 25.984375 6.890625 \nQ 35.75 6.890625 40.890625 13.453125 \nQ 46.046875 20.015625 46.78125 33.40625 \nQ 43.953125 29.203125 39.59375 26.953125 \nQ 35.25 24.703125 29.984375 24.703125 \nQ 19.046875 24.703125 12.671875 31.3125 \nQ 6.296875 37.9375 6.296875 49.421875 \nQ 6.296875 60.640625 12.9375 67.421875 \nQ 19.578125 74.21875 30.609375 74.21875 \nQ 43.265625 74.21875 49.921875 64.515625 \nQ 56.59375 54.828125 56.59375 36.375 \nQ 56.59375 19.140625 48.40625 8.859375 \nQ 40.234375 -1.421875 26.421875 -1.421875 \nQ 22.703125 -1.421875 18.890625 -0.6875 \nQ 15.09375 0.046875 10.984375 1.515625 \nz\nM 30.609375 32.421875 \nQ 37.25 32.421875 41.125 36.953125 \nQ 45.015625 41.5 45.015625 49.421875 \nQ 45.015625 57.28125 41.125 61.84375 \nQ 37.25 66.40625 30.609375 66.40625 \nQ 23.96875 66.40625 20.09375 61.84375 \nQ 16.21875 57.28125 16.21875 49.421875 \nQ 16.21875 41.5 20.09375 36.953125 \nQ 23.96875 32.421875 30.609375 32.421875 \nz\n\" id=\"DejaVuSans-57\"/>\n    </defs>\n    <g style=\"fill:#262626;\" transform=\"translate(154.91554 16.318125)scale(0.12 -0.12)\">\n     <use xlink:href=\"#DejaVuSans-67\"/>\n     <use x=\"69.824219\" xlink:href=\"#DejaVuSans-105\"/>\n     <use x=\"97.607422\" xlink:href=\"#DejaVuSans-110\"/>\n     <use x=\"160.986328\" xlink:href=\"#DejaVuSans-99\"/>\n     <use x=\"215.966797\" xlink:href=\"#DejaVuSans-111\"/>\n     <use x=\"277.148438\" xlink:href=\"#DejaVuSans-32\"/>\n     <use x=\"308.935547\" xlink:href=\"#DejaVuSans-112\"/>\n     <use x=\"372.412109\" xlink:href=\"#DejaVuSans-97\"/>\n     <use x=\"433.691406\" xlink:href=\"#DejaVuSans-105\"/>\n     <use x=\"461.474609\" xlink:href=\"#DejaVuSans-115\"/>\n     <use x=\"513.574219\" xlink:href=\"#DejaVuSans-101\"/>\n     <use x=\"575.097656\" xlink:href=\"#DejaVuSans-115\"/>\n     <use x=\"627.197266\" xlink:href=\"#DejaVuSans-32\"/>\n     <use x=\"658.984375\" xlink:href=\"#DejaVuSans-99\"/>\n     <use x=\"713.964844\" xlink:href=\"#DejaVuSans-111\"/>\n     <use x=\"775.146484\" xlink:href=\"#DejaVuSans-109\"/>\n     <use x=\"872.558594\" xlink:href=\"#DejaVuSans-32\"/>\n     <use x=\"904.345703\" xlink:href=\"#DejaVuSans-109\"/>\n     <use x=\"1001.757812\" xlink:href=\"#DejaVuSans-97\"/>\n     <use x=\"1063.037109\" xlink:href=\"#DejaVuSans-105\"/>\n     <use x=\"1090.820312\" xlink:href=\"#DejaVuSans-115\"/>\n     <use x=\"1142.919922\" xlink:href=\"#DejaVuSans-32\"/>\n     <use x=\"1174.707031\" xlink:href=\"#DejaVuSans-109\"/>\n     <use x=\"1272.119141\" xlink:href=\"#DejaVuSans-111\"/>\n     <use x=\"1333.300781\" xlink:href=\"#DejaVuSans-114\"/>\n     <use x=\"1374.414062\" xlink:href=\"#DejaVuSans-116\"/>\n     <use x=\"1413.623047\" xlink:href=\"#DejaVuSans-101\"/>\n     <use x=\"1475.146484\" xlink:href=\"#DejaVuSans-115\"/>\n     <use x=\"1527.246094\" xlink:href=\"#DejaVuSans-32\"/>\n     <use x=\"1559.033203\" xlink:href=\"#DejaVuSans-100\"/>\n     <use x=\"1622.509766\" xlink:href=\"#DejaVuSans-101\"/>\n     <use x=\"1684.033203\" xlink:href=\"#DejaVuSans-32\"/>\n     <use x=\"1715.820312\" xlink:href=\"#DejaVuSans-67\"/>\n     <use x=\"1785.644531\" xlink:href=\"#DejaVuSans-79\"/>\n     <use x=\"1862.605469\" xlink:href=\"#DejaVuSans-86\"/>\n     <use x=\"1931.013672\" xlink:href=\"#DejaVuSans-73\"/>\n     <use x=\"1960.505859\" xlink:href=\"#DejaVuSans-68\"/>\n     <use x=\"2037.507812\" xlink:href=\"#DejaVuSans-45\"/>\n     <use x=\"2073.591797\" xlink:href=\"#DejaVuSans-49\"/>\n     <use x=\"2137.214844\" xlink:href=\"#DejaVuSans-57\"/>\n    </g>\n   </g>\n  </g>\n  <g id=\"axes_2\">\n   <g id=\"patch_12\">\n    <path d=\"M 606.547045 348.478125 \nL 1063.0925 348.478125 \nL 1063.0925 22.318125 \nL 606.547045 22.318125 \nz\n\" style=\"fill:#eaeaf2;\"/>\n   </g>\n   <g id=\"matplotlib.axis_3\">\n    <g id=\"xtick_6\">\n     <g id=\"line2d_13\">\n      <path clip-path=\"url(#p7e198c04c4)\" d=\"M 661.885888 348.478125 \nL 661.885888 22.318125 \n\" style=\"fill:none;stroke:#ffffff;stroke-linecap:round;\"/>\n     </g>\n     <g id=\"text_14\">\n      <!-- Russia -->\n      <g style=\"fill:#262626;\" transform=\"translate(635.252932 388.903661)rotate(-45)scale(0.11 -0.11)\">\n       <use xlink:href=\"#DejaVuSans-82\"/>\n       <use x=\"64.982422\" xlink:href=\"#DejaVuSans-117\"/>\n       <use x=\"128.361328\" xlink:href=\"#DejaVuSans-115\"/>\n       <use x=\"180.460938\" xlink:href=\"#DejaVuSans-115\"/>\n       <use x=\"232.560547\" xlink:href=\"#DejaVuSans-105\"/>\n       <use x=\"260.34375\" xlink:href=\"#DejaVuSans-97\"/>\n      </g>\n     </g>\n    </g>\n    <g id=\"xtick_7\">\n     <g id=\"line2d_14\">\n      <path clip-path=\"url(#p7e198c04c4)\" d=\"M 748.352831 348.478125 \nL 748.352831 22.318125 \n\" style=\"fill:none;stroke:#ffffff;stroke-linecap:round;\"/>\n     </g>\n     <g id=\"text_15\">\n      <!-- India -->\n      <g style=\"fill:#262626;\" transform=\"translate(727.645871 382.977664)rotate(-45)scale(0.11 -0.11)\">\n       <use xlink:href=\"#DejaVuSans-73\"/>\n       <use x=\"29.492188\" xlink:href=\"#DejaVuSans-110\"/>\n       <use x=\"92.871094\" xlink:href=\"#DejaVuSans-100\"/>\n       <use x=\"156.347656\" xlink:href=\"#DejaVuSans-105\"/>\n       <use x=\"184.130859\" xlink:href=\"#DejaVuSans-97\"/>\n      </g>\n     </g>\n    </g>\n    <g id=\"xtick_8\">\n     <g id=\"line2d_15\">\n      <path clip-path=\"url(#p7e198c04c4)\" d=\"M 834.819773 348.478125 \nL 834.819773 22.318125 \n\" style=\"fill:none;stroke:#ffffff;stroke-linecap:round;\"/>\n     </g>\n     <g id=\"text_16\">\n      <!-- United Kingdom -->\n      <g style=\"fill:#262626;\" transform=\"translate(770.771366 426.319112)rotate(-45)scale(0.11 -0.11)\">\n       <use xlink:href=\"#DejaVuSans-85\"/>\n       <use x=\"73.193359\" xlink:href=\"#DejaVuSans-110\"/>\n       <use x=\"136.572266\" xlink:href=\"#DejaVuSans-105\"/>\n       <use x=\"164.355469\" xlink:href=\"#DejaVuSans-116\"/>\n       <use x=\"203.564453\" xlink:href=\"#DejaVuSans-101\"/>\n       <use x=\"265.087891\" xlink:href=\"#DejaVuSans-100\"/>\n       <use x=\"328.564453\" xlink:href=\"#DejaVuSans-32\"/>\n       <use x=\"360.351562\" xlink:href=\"#DejaVuSans-75\"/>\n       <use x=\"425.927734\" xlink:href=\"#DejaVuSans-105\"/>\n       <use x=\"453.710938\" xlink:href=\"#DejaVuSans-110\"/>\n       <use x=\"517.089844\" xlink:href=\"#DejaVuSans-103\"/>\n       <use x=\"580.566406\" xlink:href=\"#DejaVuSans-100\"/>\n       <use x=\"644.042969\" xlink:href=\"#DejaVuSans-111\"/>\n       <use x=\"705.224609\" xlink:href=\"#DejaVuSans-109\"/>\n      </g>\n     </g>\n    </g>\n    <g id=\"xtick_9\">\n     <g id=\"line2d_16\">\n      <path clip-path=\"url(#p7e198c04c4)\" d=\"M 921.286715 348.478125 \nL 921.286715 22.318125 \n\" style=\"fill:none;stroke:#ffffff;stroke-linecap:round;\"/>\n     </g>\n     <g id=\"text_17\">\n      <!-- Brazil -->\n      <g style=\"fill:#262626;\" transform=\"translate(897.964344 385.593075)rotate(-45)scale(0.11 -0.11)\">\n       <use xlink:href=\"#DejaVuSans-66\"/>\n       <use x=\"68.603516\" xlink:href=\"#DejaVuSans-114\"/>\n       <use x=\"109.716797\" xlink:href=\"#DejaVuSans-97\"/>\n       <use x=\"170.996094\" xlink:href=\"#DejaVuSans-122\"/>\n       <use x=\"223.486328\" xlink:href=\"#DejaVuSans-105\"/>\n       <use x=\"251.269531\" xlink:href=\"#DejaVuSans-108\"/>\n      </g>\n     </g>\n    </g>\n    <g id=\"xtick_10\">\n     <g id=\"line2d_17\">\n      <path clip-path=\"url(#p7e198c04c4)\" d=\"M 1007.753657 348.478125 \nL 1007.753657 22.318125 \n\" style=\"fill:none;stroke:#ffffff;stroke-linecap:round;\"/>\n     </g>\n     <g id=\"text_18\">\n      <!-- United States -->\n      <g style=\"fill:#262626;\" transform=\"translate(953.46686 416.557502)rotate(-45)scale(0.11 -0.11)\">\n       <use xlink:href=\"#DejaVuSans-85\"/>\n       <use x=\"73.193359\" xlink:href=\"#DejaVuSans-110\"/>\n       <use x=\"136.572266\" xlink:href=\"#DejaVuSans-105\"/>\n       <use x=\"164.355469\" xlink:href=\"#DejaVuSans-116\"/>\n       <use x=\"203.564453\" xlink:href=\"#DejaVuSans-101\"/>\n       <use x=\"265.087891\" xlink:href=\"#DejaVuSans-100\"/>\n       <use x=\"328.564453\" xlink:href=\"#DejaVuSans-32\"/>\n       <use x=\"360.351562\" xlink:href=\"#DejaVuSans-83\"/>\n       <use x=\"423.828125\" xlink:href=\"#DejaVuSans-116\"/>\n       <use x=\"463.037109\" xlink:href=\"#DejaVuSans-97\"/>\n       <use x=\"524.316406\" xlink:href=\"#DejaVuSans-116\"/>\n       <use x=\"563.525391\" xlink:href=\"#DejaVuSans-101\"/>\n       <use x=\"625.048828\" xlink:href=\"#DejaVuSans-115\"/>\n      </g>\n     </g>\n    </g>\n   </g>\n   <g id=\"matplotlib.axis_4\">\n    <g id=\"ytick_8\">\n     <g id=\"line2d_18\">\n      <path clip-path=\"url(#p7e198c04c4)\" d=\"M 606.547045 348.478125 \nL 1063.0925 348.478125 \n\" style=\"fill:none;stroke:#ffffff;stroke-linecap:round;\"/>\n     </g>\n     <g id=\"text_19\">\n      <!-- 0.00 -->\n      <defs>\n       <path d=\"M 10.6875 12.40625 \nL 21 12.40625 \nL 21 0 \nL 10.6875 0 \nz\n\" id=\"DejaVuSans-46\"/>\n      </defs>\n      <g style=\"fill:#262626;\" transform=\"translate(572.554858 352.657266)scale(0.11 -0.11)\">\n       <use xlink:href=\"#DejaVuSans-48\"/>\n       <use x=\"63.623047\" xlink:href=\"#DejaVuSans-46\"/>\n       <use x=\"95.410156\" xlink:href=\"#DejaVuSans-48\"/>\n       <use x=\"159.033203\" xlink:href=\"#DejaVuSans-48\"/>\n      </g>\n     </g>\n    </g>\n    <g id=\"ytick_9\">\n     <g id=\"line2d_19\">\n      <path clip-path=\"url(#p7e198c04c4)\" d=\"M 606.547045 311.044445 \nL 1063.0925 311.044445 \n\" style=\"fill:none;stroke:#ffffff;stroke-linecap:round;\"/>\n     </g>\n     <g id=\"text_20\">\n      <!-- 0.25 -->\n      <defs>\n       <path d=\"M 10.796875 72.90625 \nL 49.515625 72.90625 \nL 49.515625 64.59375 \nL 19.828125 64.59375 \nL 19.828125 46.734375 \nQ 21.96875 47.46875 24.109375 47.828125 \nQ 26.265625 48.1875 28.421875 48.1875 \nQ 40.625 48.1875 47.75 41.5 \nQ 54.890625 34.8125 54.890625 23.390625 \nQ 54.890625 11.625 47.5625 5.09375 \nQ 40.234375 -1.421875 26.90625 -1.421875 \nQ 22.3125 -1.421875 17.546875 -0.640625 \nQ 12.796875 0.140625 7.71875 1.703125 \nL 7.71875 11.625 \nQ 12.109375 9.234375 16.796875 8.0625 \nQ 21.484375 6.890625 26.703125 6.890625 \nQ 35.15625 6.890625 40.078125 11.328125 \nQ 45.015625 15.765625 45.015625 23.390625 \nQ 45.015625 31 40.078125 35.4375 \nQ 35.15625 39.890625 26.703125 39.890625 \nQ 22.75 39.890625 18.8125 39.015625 \nQ 14.890625 38.140625 10.796875 36.28125 \nz\n\" id=\"DejaVuSans-53\"/>\n      </defs>\n      <g style=\"fill:#262626;\" transform=\"translate(572.554858 315.223585)scale(0.11 -0.11)\">\n       <use xlink:href=\"#DejaVuSans-48\"/>\n       <use x=\"63.623047\" xlink:href=\"#DejaVuSans-46\"/>\n       <use x=\"95.410156\" xlink:href=\"#DejaVuSans-50\"/>\n       <use x=\"159.033203\" xlink:href=\"#DejaVuSans-53\"/>\n      </g>\n     </g>\n    </g>\n    <g id=\"ytick_10\">\n     <g id=\"line2d_20\">\n      <path clip-path=\"url(#p7e198c04c4)\" d=\"M 606.547045 273.610765 \nL 1063.0925 273.610765 \n\" style=\"fill:none;stroke:#ffffff;stroke-linecap:round;\"/>\n     </g>\n     <g id=\"text_21\">\n      <!-- 0.50 -->\n      <g style=\"fill:#262626;\" transform=\"translate(572.554858 277.789905)scale(0.11 -0.11)\">\n       <use xlink:href=\"#DejaVuSans-48\"/>\n       <use x=\"63.623047\" xlink:href=\"#DejaVuSans-46\"/>\n       <use x=\"95.410156\" xlink:href=\"#DejaVuSans-53\"/>\n       <use x=\"159.033203\" xlink:href=\"#DejaVuSans-48\"/>\n      </g>\n     </g>\n    </g>\n    <g id=\"ytick_11\">\n     <g id=\"line2d_21\">\n      <path clip-path=\"url(#p7e198c04c4)\" d=\"M 606.547045 236.177084 \nL 1063.0925 236.177084 \n\" style=\"fill:none;stroke:#ffffff;stroke-linecap:round;\"/>\n     </g>\n     <g id=\"text_22\">\n      <!-- 0.75 -->\n      <defs>\n       <path d=\"M 8.203125 72.90625 \nL 55.078125 72.90625 \nL 55.078125 68.703125 \nL 28.609375 0 \nL 18.3125 0 \nL 43.21875 64.59375 \nL 8.203125 64.59375 \nz\n\" id=\"DejaVuSans-55\"/>\n      </defs>\n      <g style=\"fill:#262626;\" transform=\"translate(572.554858 240.356225)scale(0.11 -0.11)\">\n       <use xlink:href=\"#DejaVuSans-48\"/>\n       <use x=\"63.623047\" xlink:href=\"#DejaVuSans-46\"/>\n       <use x=\"95.410156\" xlink:href=\"#DejaVuSans-55\"/>\n       <use x=\"159.033203\" xlink:href=\"#DejaVuSans-53\"/>\n      </g>\n     </g>\n    </g>\n    <g id=\"ytick_12\">\n     <g id=\"line2d_22\">\n      <path clip-path=\"url(#p7e198c04c4)\" d=\"M 606.547045 198.743404 \nL 1063.0925 198.743404 \n\" style=\"fill:none;stroke:#ffffff;stroke-linecap:round;\"/>\n     </g>\n     <g id=\"text_23\">\n      <!-- 1.00 -->\n      <g style=\"fill:#262626;\" transform=\"translate(572.554858 202.922545)scale(0.11 -0.11)\">\n       <use xlink:href=\"#DejaVuSans-49\"/>\n       <use x=\"63.623047\" xlink:href=\"#DejaVuSans-46\"/>\n       <use x=\"95.410156\" xlink:href=\"#DejaVuSans-48\"/>\n       <use x=\"159.033203\" xlink:href=\"#DejaVuSans-48\"/>\n      </g>\n     </g>\n    </g>\n    <g id=\"ytick_13\">\n     <g id=\"line2d_23\">\n      <path clip-path=\"url(#p7e198c04c4)\" d=\"M 606.547045 161.309724 \nL 1063.0925 161.309724 \n\" style=\"fill:none;stroke:#ffffff;stroke-linecap:round;\"/>\n     </g>\n     <g id=\"text_24\">\n      <!-- 1.25 -->\n      <g style=\"fill:#262626;\" transform=\"translate(572.554858 165.488865)scale(0.11 -0.11)\">\n       <use xlink:href=\"#DejaVuSans-49\"/>\n       <use x=\"63.623047\" xlink:href=\"#DejaVuSans-46\"/>\n       <use x=\"95.410156\" xlink:href=\"#DejaVuSans-50\"/>\n       <use x=\"159.033203\" xlink:href=\"#DejaVuSans-53\"/>\n      </g>\n     </g>\n    </g>\n    <g id=\"ytick_14\">\n     <g id=\"line2d_24\">\n      <path clip-path=\"url(#p7e198c04c4)\" d=\"M 606.547045 123.876044 \nL 1063.0925 123.876044 \n\" style=\"fill:none;stroke:#ffffff;stroke-linecap:round;\"/>\n     </g>\n     <g id=\"text_25\">\n      <!-- 1.50 -->\n      <g style=\"fill:#262626;\" transform=\"translate(572.554858 128.055184)scale(0.11 -0.11)\">\n       <use xlink:href=\"#DejaVuSans-49\"/>\n       <use x=\"63.623047\" xlink:href=\"#DejaVuSans-46\"/>\n       <use x=\"95.410156\" xlink:href=\"#DejaVuSans-53\"/>\n       <use x=\"159.033203\" xlink:href=\"#DejaVuSans-48\"/>\n      </g>\n     </g>\n    </g>\n    <g id=\"ytick_15\">\n     <g id=\"line2d_25\">\n      <path clip-path=\"url(#p7e198c04c4)\" d=\"M 606.547045 86.442364 \nL 1063.0925 86.442364 \n\" style=\"fill:none;stroke:#ffffff;stroke-linecap:round;\"/>\n     </g>\n     <g id=\"text_26\">\n      <!-- 1.75 -->\n      <g style=\"fill:#262626;\" transform=\"translate(572.554858 90.621504)scale(0.11 -0.11)\">\n       <use xlink:href=\"#DejaVuSans-49\"/>\n       <use x=\"63.623047\" xlink:href=\"#DejaVuSans-46\"/>\n       <use x=\"95.410156\" xlink:href=\"#DejaVuSans-55\"/>\n       <use x=\"159.033203\" xlink:href=\"#DejaVuSans-53\"/>\n      </g>\n     </g>\n    </g>\n    <g id=\"ytick_16\">\n     <g id=\"line2d_26\">\n      <path clip-path=\"url(#p7e198c04c4)\" d=\"M 606.547045 49.008683 \nL 1063.0925 49.008683 \n\" style=\"fill:none;stroke:#ffffff;stroke-linecap:round;\"/>\n     </g>\n     <g id=\"text_27\">\n      <!-- 2.00 -->\n      <g style=\"fill:#262626;\" transform=\"translate(572.554858 53.187824)scale(0.11 -0.11)\">\n       <use xlink:href=\"#DejaVuSans-50\"/>\n       <use x=\"63.623047\" xlink:href=\"#DejaVuSans-46\"/>\n       <use x=\"95.410156\" xlink:href=\"#DejaVuSans-48\"/>\n       <use x=\"159.033203\" xlink:href=\"#DejaVuSans-48\"/>\n      </g>\n     </g>\n    </g>\n    <g id=\"text_28\">\n     <!-- 1e6 -->\n     <g style=\"fill:#262626;\" transform=\"translate(606.547045 19.318125)scale(0.11 -0.11)\">\n      <use xlink:href=\"#DejaVuSans-49\"/>\n      <use x=\"63.623047\" xlink:href=\"#DejaVuSans-101\"/>\n      <use x=\"125.146484\" xlink:href=\"#DejaVuSans-54\"/>\n     </g>\n    </g>\n   </g>\n   <g id=\"patch_13\">\n    <path clip-path=\"url(#p7e198c04c4)\" d=\"M 627.299112 348.478125 \nL 696.472665 348.478125 \nL 696.472665 304.399967 \nL 627.299112 304.399967 \nz\n\" style=\"fill:#071e3d;stroke:#ffffff;stroke-linejoin:miter;\"/>\n   </g>\n   <g id=\"patch_14\">\n    <path clip-path=\"url(#p7e198c04c4)\" d=\"M 713.766054 348.478125 \nL 782.939607 348.478125 \nL 782.939607 300.424959 \nL 713.766054 300.424959 \nz\n\" style=\"fill:#071e3d;stroke:#ffffff;stroke-linejoin:miter;\"/>\n   </g>\n   <g id=\"patch_15\">\n    <path clip-path=\"url(#p7e198c04c4)\" d=\"M 800.232996 348.478125 \nL 869.40655 348.478125 \nL 869.40655 270.596754 \nL 800.232996 270.596754 \nz\n\" style=\"fill:#071e3d;stroke:#ffffff;stroke-linejoin:miter;\"/>\n   </g>\n   <g id=\"patch_16\">\n    <path clip-path=\"url(#p7e198c04c4)\" d=\"M 886.699938 348.478125 \nL 955.873492 348.478125 \nL 955.873492 221.126649 \nL 886.699938 221.126649 \nz\n\" style=\"fill:#071e3d;stroke:#ffffff;stroke-linejoin:miter;\"/>\n   </g>\n   <g id=\"patch_17\">\n    <path clip-path=\"url(#p7e198c04c4)\" d=\"M 973.16688 348.478125 \nL 1042.340434 348.478125 \nL 1042.340434 37.849554 \nL 973.16688 37.849554 \nz\n\" style=\"fill:#071e3d;stroke:#ffffff;stroke-linejoin:miter;\"/>\n   </g>\n   <g id=\"patch_18\">\n    <path d=\"M 606.547045 348.478125 \nL 606.547045 22.318125 \n\" style=\"fill:none;stroke:#ffffff;stroke-linecap:square;stroke-linejoin:miter;stroke-width:1.25;\"/>\n   </g>\n   <g id=\"patch_19\">\n    <path d=\"M 1063.0925 348.478125 \nL 1063.0925 22.318125 \n\" style=\"fill:none;stroke:#ffffff;stroke-linecap:square;stroke-linejoin:miter;stroke-width:1.25;\"/>\n   </g>\n   <g id=\"patch_20\">\n    <path d=\"M 606.547045 348.478125 \nL 1063.0925 348.478125 \n\" style=\"fill:none;stroke:#ffffff;stroke-linecap:square;stroke-linejoin:miter;stroke-width:1.25;\"/>\n   </g>\n   <g id=\"patch_21\">\n    <path d=\"M 606.547045 22.318125 \nL 1063.0925 22.318125 \n\" style=\"fill:none;stroke:#ffffff;stroke-linecap:square;stroke-linejoin:miter;stroke-width:1.25;\"/>\n   </g>\n   <g id=\"text_29\">\n    <!-- Cinco paises com mais casos de COVID-19 -->\n    <g style=\"fill:#262626;\" transform=\"translate(707.023523 16.318125)scale(0.12 -0.12)\">\n     <use xlink:href=\"#DejaVuSans-67\"/>\n     <use x=\"69.824219\" xlink:href=\"#DejaVuSans-105\"/>\n     <use x=\"97.607422\" xlink:href=\"#DejaVuSans-110\"/>\n     <use x=\"160.986328\" xlink:href=\"#DejaVuSans-99\"/>\n     <use x=\"215.966797\" xlink:href=\"#DejaVuSans-111\"/>\n     <use x=\"277.148438\" xlink:href=\"#DejaVuSans-32\"/>\n     <use x=\"308.935547\" xlink:href=\"#DejaVuSans-112\"/>\n     <use x=\"372.412109\" xlink:href=\"#DejaVuSans-97\"/>\n     <use x=\"433.691406\" xlink:href=\"#DejaVuSans-105\"/>\n     <use x=\"461.474609\" xlink:href=\"#DejaVuSans-115\"/>\n     <use x=\"513.574219\" xlink:href=\"#DejaVuSans-101\"/>\n     <use x=\"575.097656\" xlink:href=\"#DejaVuSans-115\"/>\n     <use x=\"627.197266\" xlink:href=\"#DejaVuSans-32\"/>\n     <use x=\"658.984375\" xlink:href=\"#DejaVuSans-99\"/>\n     <use x=\"713.964844\" xlink:href=\"#DejaVuSans-111\"/>\n     <use x=\"775.146484\" xlink:href=\"#DejaVuSans-109\"/>\n     <use x=\"872.558594\" xlink:href=\"#DejaVuSans-32\"/>\n     <use x=\"904.345703\" xlink:href=\"#DejaVuSans-109\"/>\n     <use x=\"1001.757812\" xlink:href=\"#DejaVuSans-97\"/>\n     <use x=\"1063.037109\" xlink:href=\"#DejaVuSans-105\"/>\n     <use x=\"1090.820312\" xlink:href=\"#DejaVuSans-115\"/>\n     <use x=\"1142.919922\" xlink:href=\"#DejaVuSans-32\"/>\n     <use x=\"1174.707031\" xlink:href=\"#DejaVuSans-99\"/>\n     <use x=\"1229.6875\" xlink:href=\"#DejaVuSans-97\"/>\n     <use x=\"1290.966797\" xlink:href=\"#DejaVuSans-115\"/>\n     <use x=\"1343.066406\" xlink:href=\"#DejaVuSans-111\"/>\n     <use x=\"1404.248047\" xlink:href=\"#DejaVuSans-115\"/>\n     <use x=\"1456.347656\" xlink:href=\"#DejaVuSans-32\"/>\n     <use x=\"1488.134766\" xlink:href=\"#DejaVuSans-100\"/>\n     <use x=\"1551.611328\" xlink:href=\"#DejaVuSans-101\"/>\n     <use x=\"1613.134766\" xlink:href=\"#DejaVuSans-32\"/>\n     <use x=\"1644.921875\" xlink:href=\"#DejaVuSans-67\"/>\n     <use x=\"1714.746094\" xlink:href=\"#DejaVuSans-79\"/>\n     <use x=\"1791.707031\" xlink:href=\"#DejaVuSans-86\"/>\n     <use x=\"1860.115234\" xlink:href=\"#DejaVuSans-73\"/>\n     <use x=\"1889.607422\" xlink:href=\"#DejaVuSans-68\"/>\n     <use x=\"1966.609375\" xlink:href=\"#DejaVuSans-45\"/>\n     <use x=\"2002.693359\" xlink:href=\"#DejaVuSans-49\"/>\n     <use x=\"2066.316406\" xlink:href=\"#DejaVuSans-57\"/>\n    </g>\n   </g>\n  </g>\n </g>\n <defs>\n  <clipPath id=\"p97c04b9529\">\n   <rect height=\"326.16\" width=\"456.545455\" x=\"58.6925\" y=\"22.318125\"/>\n  </clipPath>\n  <clipPath id=\"p7e198c04c4\">\n   <rect height=\"326.16\" width=\"456.545455\" x=\"606.547045\" y=\"22.318125\"/>\n  </clipPath>\n </defs>\n</svg>\n"
          },
          "metadata": {
            "tags": [],
            "needs_background": "light"
          }
        }
      ]
    },
    {
      "cell_type": "markdown",
      "metadata": {
        "id": "faKOHYFIwZrj",
        "colab_type": "text"
      },
      "source": [
        "Então, podemos ver que infelizmente o Brasil está em uma situação complicada, ficando em segundo lugar no raking de paises com mais casos e mais mortes, atás somente dos Estados Unidos."
      ]
    },
    {
      "cell_type": "markdown",
      "metadata": {
        "id": "GBN2_9QHmB4-",
        "colab_type": "text"
      },
      "source": [
        "#Como está o covide do mundo no tempo?\n",
        "\n",
        "Mas vamos tentar exergar de uma forma ampla, como está a situação dos casos de COVID-19 no mundo, por todo tempo que esta pandemia perdura."
      ]
    },
    {
      "cell_type": "code",
      "metadata": {
        "id": "9ePaOjLuybVv",
        "colab_type": "code",
        "cellView": "form",
        "colab": {}
      },
      "source": [
        "#@title\n",
        "covid_clear = covid_clear.reset_index()\n",
        "covid_data = covid_clear"
      ],
      "execution_count": 249,
      "outputs": []
    },
    {
      "cell_type": "code",
      "metadata": {
        "id": "Q2KVDINdyLLW",
        "colab_type": "code",
        "colab": {}
      },
      "source": [
        "#Copiando novo dataframe\n",
        "covid_data_cases = covid_data.iloc[:, [1,2,3]]\n",
        "covid_data_cases = covid_data_cases.sort_values(by = \"total_cases\")"
      ],
      "execution_count": 272,
      "outputs": []
    },
    {
      "cell_type": "code",
      "metadata": {
        "id": "ZwBmg_ymy748",
        "colab_type": "code",
        "colab": {}
      },
      "source": [
        "#Agrupandar por data e soma\n",
        "covid_data_cases = covid_data_cases.groupby([\"date\"]).sum()"
      ],
      "execution_count": 273,
      "outputs": []
    },
    {
      "cell_type": "code",
      "metadata": {
        "id": "nf8OKILMxABe",
        "colab_type": "code",
        "colab": {
          "base_uri": "https://localhost:8080/",
          "height": 522
        },
        "outputId": "02811804-1d69-4035-814f-9c7458367324"
      },
      "source": [
        "fig, ax = plt.subplots(figsize = (10,6))\n",
        "\n",
        "#Grafico de mortes\n",
        "ax.plot(covid_data_cases.total_deaths, color = \"#ff304f\", label =\"Mortos\")\n",
        "ax.plot(covid_data_cases.total_cases, color = \"#071e3d\", label =\"Casos\")\n",
        "#Gráfico de casos\n",
        "plt.title(\"Número de casos de COVID-19 no mundo\")\n",
        "plt.legend()\n",
        "plt.show()"
      ],
      "execution_count": 283,
      "outputs": [
        {
          "output_type": "display_data",
          "data": {
            "text/plain": [
              "<Figure size 720x432 with 1 Axes>"
            ],
            "image/svg+xml": "<?xml version=\"1.0\" encoding=\"utf-8\" standalone=\"no\"?>\n<!DOCTYPE svg PUBLIC \"-//W3C//DTD SVG 1.1//EN\"\n  \"http://www.w3.org/Graphics/SVG/1.1/DTD/svg11.dtd\">\n<!-- Created with matplotlib (https://matplotlib.org/) -->\n<svg height=\"375.824062pt\" version=\"1.1\" viewBox=\"0 0 588.89875 375.824062\" width=\"588.89875pt\" xmlns=\"http://www.w3.org/2000/svg\" xmlns:xlink=\"http://www.w3.org/1999/xlink\">\n <defs>\n  <style type=\"text/css\">\n*{stroke-linecap:butt;stroke-linejoin:round;}\n  </style>\n </defs>\n <g id=\"figure_1\">\n  <g id=\"patch_1\">\n   <path d=\"M 0 375.824062 \nL 588.89875 375.824062 \nL 588.89875 0 \nL 0 0 \nz\n\" style=\"fill:none;\"/>\n  </g>\n  <g id=\"axes_1\">\n   <g id=\"patch_2\">\n    <path d=\"M 23.69875 348.478125 \nL 581.69875 348.478125 \nL 581.69875 22.318125 \nL 23.69875 22.318125 \nz\n\" style=\"fill:#eaeaf2;\"/>\n   </g>\n   <g id=\"matplotlib.axis_1\">\n    <g id=\"xtick_1\">\n     <g id=\"line2d_1\">\n      <path clip-path=\"url(#p1a3b04eefb)\" d=\"M 52.046344 348.478125 \nL 52.046344 22.318125 \n\" style=\"fill:none;stroke:#ffffff;stroke-linecap:round;\"/>\n     </g>\n     <g id=\"text_1\">\n      <!-- 2020-01 -->\n      <defs>\n       <path d=\"M 19.1875 8.296875 \nL 53.609375 8.296875 \nL 53.609375 0 \nL 7.328125 0 \nL 7.328125 8.296875 \nQ 12.9375 14.109375 22.625 23.890625 \nQ 32.328125 33.6875 34.8125 36.53125 \nQ 39.546875 41.84375 41.421875 45.53125 \nQ 43.3125 49.21875 43.3125 52.78125 \nQ 43.3125 58.59375 39.234375 62.25 \nQ 35.15625 65.921875 28.609375 65.921875 \nQ 23.96875 65.921875 18.8125 64.3125 \nQ 13.671875 62.703125 7.8125 59.421875 \nL 7.8125 69.390625 \nQ 13.765625 71.78125 18.9375 73 \nQ 24.125 74.21875 28.421875 74.21875 \nQ 39.75 74.21875 46.484375 68.546875 \nQ 53.21875 62.890625 53.21875 53.421875 \nQ 53.21875 48.921875 51.53125 44.890625 \nQ 49.859375 40.875 45.40625 35.40625 \nQ 44.1875 33.984375 37.640625 27.21875 \nQ 31.109375 20.453125 19.1875 8.296875 \nz\n\" id=\"DejaVuSans-50\"/>\n       <path d=\"M 31.78125 66.40625 \nQ 24.171875 66.40625 20.328125 58.90625 \nQ 16.5 51.421875 16.5 36.375 \nQ 16.5 21.390625 20.328125 13.890625 \nQ 24.171875 6.390625 31.78125 6.390625 \nQ 39.453125 6.390625 43.28125 13.890625 \nQ 47.125 21.390625 47.125 36.375 \nQ 47.125 51.421875 43.28125 58.90625 \nQ 39.453125 66.40625 31.78125 66.40625 \nz\nM 31.78125 74.21875 \nQ 44.046875 74.21875 50.515625 64.515625 \nQ 56.984375 54.828125 56.984375 36.375 \nQ 56.984375 17.96875 50.515625 8.265625 \nQ 44.046875 -1.421875 31.78125 -1.421875 \nQ 19.53125 -1.421875 13.0625 8.265625 \nQ 6.59375 17.96875 6.59375 36.375 \nQ 6.59375 54.828125 13.0625 64.515625 \nQ 19.53125 74.21875 31.78125 74.21875 \nz\n\" id=\"DejaVuSans-48\"/>\n       <path d=\"M 4.890625 31.390625 \nL 31.203125 31.390625 \nL 31.203125 23.390625 \nL 4.890625 23.390625 \nz\n\" id=\"DejaVuSans-45\"/>\n       <path d=\"M 12.40625 8.296875 \nL 28.515625 8.296875 \nL 28.515625 63.921875 \nL 10.984375 60.40625 \nL 10.984375 69.390625 \nL 28.421875 72.90625 \nL 38.28125 72.90625 \nL 38.28125 8.296875 \nL 54.390625 8.296875 \nL 54.390625 0 \nL 12.40625 0 \nz\n\" id=\"DejaVuSans-49\"/>\n      </defs>\n      <g style=\"fill:#262626;\" transform=\"translate(29.065797 366.336406)scale(0.11 -0.11)\">\n       <use xlink:href=\"#DejaVuSans-50\"/>\n       <use x=\"63.623047\" xlink:href=\"#DejaVuSans-48\"/>\n       <use x=\"127.246094\" xlink:href=\"#DejaVuSans-50\"/>\n       <use x=\"190.869141\" xlink:href=\"#DejaVuSans-48\"/>\n       <use x=\"254.492188\" xlink:href=\"#DejaVuSans-45\"/>\n       <use x=\"290.576172\" xlink:href=\"#DejaVuSans-48\"/>\n       <use x=\"354.199219\" xlink:href=\"#DejaVuSans-49\"/>\n      </g>\n     </g>\n    </g>\n    <g id=\"xtick_2\">\n     <g id=\"line2d_2\">\n      <path clip-path=\"url(#p1a3b04eefb)\" d=\"M 144.549017 348.478125 \nL 144.549017 22.318125 \n\" style=\"fill:none;stroke:#ffffff;stroke-linecap:round;\"/>\n     </g>\n     <g id=\"text_2\">\n      <!-- 2020-02 -->\n      <g style=\"fill:#262626;\" transform=\"translate(121.568471 366.336406)scale(0.11 -0.11)\">\n       <use xlink:href=\"#DejaVuSans-50\"/>\n       <use x=\"63.623047\" xlink:href=\"#DejaVuSans-48\"/>\n       <use x=\"127.246094\" xlink:href=\"#DejaVuSans-50\"/>\n       <use x=\"190.869141\" xlink:href=\"#DejaVuSans-48\"/>\n       <use x=\"254.492188\" xlink:href=\"#DejaVuSans-45\"/>\n       <use x=\"290.576172\" xlink:href=\"#DejaVuSans-48\"/>\n       <use x=\"354.199219\" xlink:href=\"#DejaVuSans-50\"/>\n      </g>\n     </g>\n    </g>\n    <g id=\"xtick_3\">\n     <g id=\"line2d_3\">\n      <path clip-path=\"url(#p1a3b04eefb)\" d=\"M 231.083777 348.478125 \nL 231.083777 22.318125 \n\" style=\"fill:none;stroke:#ffffff;stroke-linecap:round;\"/>\n     </g>\n     <g id=\"text_3\">\n      <!-- 2020-03 -->\n      <defs>\n       <path d=\"M 40.578125 39.3125 \nQ 47.65625 37.796875 51.625 33 \nQ 55.609375 28.21875 55.609375 21.1875 \nQ 55.609375 10.40625 48.1875 4.484375 \nQ 40.765625 -1.421875 27.09375 -1.421875 \nQ 22.515625 -1.421875 17.65625 -0.515625 \nQ 12.796875 0.390625 7.625 2.203125 \nL 7.625 11.71875 \nQ 11.71875 9.328125 16.59375 8.109375 \nQ 21.484375 6.890625 26.8125 6.890625 \nQ 36.078125 6.890625 40.9375 10.546875 \nQ 45.796875 14.203125 45.796875 21.1875 \nQ 45.796875 27.640625 41.28125 31.265625 \nQ 36.765625 34.90625 28.71875 34.90625 \nL 20.21875 34.90625 \nL 20.21875 43.015625 \nL 29.109375 43.015625 \nQ 36.375 43.015625 40.234375 45.921875 \nQ 44.09375 48.828125 44.09375 54.296875 \nQ 44.09375 59.90625 40.109375 62.90625 \nQ 36.140625 65.921875 28.71875 65.921875 \nQ 24.65625 65.921875 20.015625 65.03125 \nQ 15.375 64.15625 9.8125 62.3125 \nL 9.8125 71.09375 \nQ 15.4375 72.65625 20.34375 73.4375 \nQ 25.25 74.21875 29.59375 74.21875 \nQ 40.828125 74.21875 47.359375 69.109375 \nQ 53.90625 64.015625 53.90625 55.328125 \nQ 53.90625 49.265625 50.4375 45.09375 \nQ 46.96875 40.921875 40.578125 39.3125 \nz\n\" id=\"DejaVuSans-51\"/>\n      </defs>\n      <g style=\"fill:#262626;\" transform=\"translate(208.10323 366.336406)scale(0.11 -0.11)\">\n       <use xlink:href=\"#DejaVuSans-50\"/>\n       <use x=\"63.623047\" xlink:href=\"#DejaVuSans-48\"/>\n       <use x=\"127.246094\" xlink:href=\"#DejaVuSans-50\"/>\n       <use x=\"190.869141\" xlink:href=\"#DejaVuSans-48\"/>\n       <use x=\"254.492188\" xlink:href=\"#DejaVuSans-45\"/>\n       <use x=\"290.576172\" xlink:href=\"#DejaVuSans-48\"/>\n       <use x=\"354.199219\" xlink:href=\"#DejaVuSans-51\"/>\n      </g>\n     </g>\n    </g>\n    <g id=\"xtick_4\">\n     <g id=\"line2d_4\">\n      <path clip-path=\"url(#p1a3b04eefb)\" d=\"M 323.586451 348.478125 \nL 323.586451 22.318125 \n\" style=\"fill:none;stroke:#ffffff;stroke-linecap:round;\"/>\n     </g>\n     <g id=\"text_4\">\n      <!-- 2020-04 -->\n      <defs>\n       <path d=\"M 37.796875 64.3125 \nL 12.890625 25.390625 \nL 37.796875 25.390625 \nz\nM 35.203125 72.90625 \nL 47.609375 72.90625 \nL 47.609375 25.390625 \nL 58.015625 25.390625 \nL 58.015625 17.1875 \nL 47.609375 17.1875 \nL 47.609375 0 \nL 37.796875 0 \nL 37.796875 17.1875 \nL 4.890625 17.1875 \nL 4.890625 26.703125 \nz\n\" id=\"DejaVuSans-52\"/>\n      </defs>\n      <g style=\"fill:#262626;\" transform=\"translate(300.605904 366.336406)scale(0.11 -0.11)\">\n       <use xlink:href=\"#DejaVuSans-50\"/>\n       <use x=\"63.623047\" xlink:href=\"#DejaVuSans-48\"/>\n       <use x=\"127.246094\" xlink:href=\"#DejaVuSans-50\"/>\n       <use x=\"190.869141\" xlink:href=\"#DejaVuSans-48\"/>\n       <use x=\"254.492188\" xlink:href=\"#DejaVuSans-45\"/>\n       <use x=\"290.576172\" xlink:href=\"#DejaVuSans-48\"/>\n       <use x=\"354.199219\" xlink:href=\"#DejaVuSans-52\"/>\n      </g>\n     </g>\n    </g>\n    <g id=\"xtick_5\">\n     <g id=\"line2d_5\">\n      <path clip-path=\"url(#p1a3b04eefb)\" d=\"M 413.105167 348.478125 \nL 413.105167 22.318125 \n\" style=\"fill:none;stroke:#ffffff;stroke-linecap:round;\"/>\n     </g>\n     <g id=\"text_5\">\n      <!-- 2020-05 -->\n      <defs>\n       <path d=\"M 10.796875 72.90625 \nL 49.515625 72.90625 \nL 49.515625 64.59375 \nL 19.828125 64.59375 \nL 19.828125 46.734375 \nQ 21.96875 47.46875 24.109375 47.828125 \nQ 26.265625 48.1875 28.421875 48.1875 \nQ 40.625 48.1875 47.75 41.5 \nQ 54.890625 34.8125 54.890625 23.390625 \nQ 54.890625 11.625 47.5625 5.09375 \nQ 40.234375 -1.421875 26.90625 -1.421875 \nQ 22.3125 -1.421875 17.546875 -0.640625 \nQ 12.796875 0.140625 7.71875 1.703125 \nL 7.71875 11.625 \nQ 12.109375 9.234375 16.796875 8.0625 \nQ 21.484375 6.890625 26.703125 6.890625 \nQ 35.15625 6.890625 40.078125 11.328125 \nQ 45.015625 15.765625 45.015625 23.390625 \nQ 45.015625 31 40.078125 35.4375 \nQ 35.15625 39.890625 26.703125 39.890625 \nQ 22.75 39.890625 18.8125 39.015625 \nQ 14.890625 38.140625 10.796875 36.28125 \nz\n\" id=\"DejaVuSans-53\"/>\n      </defs>\n      <g style=\"fill:#262626;\" transform=\"translate(390.12462 366.336406)scale(0.11 -0.11)\">\n       <use xlink:href=\"#DejaVuSans-50\"/>\n       <use x=\"63.623047\" xlink:href=\"#DejaVuSans-48\"/>\n       <use x=\"127.246094\" xlink:href=\"#DejaVuSans-50\"/>\n       <use x=\"190.869141\" xlink:href=\"#DejaVuSans-48\"/>\n       <use x=\"254.492188\" xlink:href=\"#DejaVuSans-45\"/>\n       <use x=\"290.576172\" xlink:href=\"#DejaVuSans-48\"/>\n       <use x=\"354.199219\" xlink:href=\"#DejaVuSans-53\"/>\n      </g>\n     </g>\n    </g>\n    <g id=\"xtick_6\">\n     <g id=\"line2d_6\">\n      <path clip-path=\"url(#p1a3b04eefb)\" d=\"M 505.607841 348.478125 \nL 505.607841 22.318125 \n\" style=\"fill:none;stroke:#ffffff;stroke-linecap:round;\"/>\n     </g>\n     <g id=\"text_6\">\n      <!-- 2020-06 -->\n      <defs>\n       <path d=\"M 33.015625 40.375 \nQ 26.375 40.375 22.484375 35.828125 \nQ 18.609375 31.296875 18.609375 23.390625 \nQ 18.609375 15.53125 22.484375 10.953125 \nQ 26.375 6.390625 33.015625 6.390625 \nQ 39.65625 6.390625 43.53125 10.953125 \nQ 47.40625 15.53125 47.40625 23.390625 \nQ 47.40625 31.296875 43.53125 35.828125 \nQ 39.65625 40.375 33.015625 40.375 \nz\nM 52.59375 71.296875 \nL 52.59375 62.3125 \nQ 48.875 64.0625 45.09375 64.984375 \nQ 41.3125 65.921875 37.59375 65.921875 \nQ 27.828125 65.921875 22.671875 59.328125 \nQ 17.53125 52.734375 16.796875 39.40625 \nQ 19.671875 43.65625 24.015625 45.921875 \nQ 28.375 48.1875 33.59375 48.1875 \nQ 44.578125 48.1875 50.953125 41.515625 \nQ 57.328125 34.859375 57.328125 23.390625 \nQ 57.328125 12.15625 50.6875 5.359375 \nQ 44.046875 -1.421875 33.015625 -1.421875 \nQ 20.359375 -1.421875 13.671875 8.265625 \nQ 6.984375 17.96875 6.984375 36.375 \nQ 6.984375 53.65625 15.1875 63.9375 \nQ 23.390625 74.21875 37.203125 74.21875 \nQ 40.921875 74.21875 44.703125 73.484375 \nQ 48.484375 72.75 52.59375 71.296875 \nz\n\" id=\"DejaVuSans-54\"/>\n      </defs>\n      <g style=\"fill:#262626;\" transform=\"translate(482.627294 366.336406)scale(0.11 -0.11)\">\n       <use xlink:href=\"#DejaVuSans-50\"/>\n       <use x=\"63.623047\" xlink:href=\"#DejaVuSans-48\"/>\n       <use x=\"127.246094\" xlink:href=\"#DejaVuSans-50\"/>\n       <use x=\"190.869141\" xlink:href=\"#DejaVuSans-48\"/>\n       <use x=\"254.492188\" xlink:href=\"#DejaVuSans-45\"/>\n       <use x=\"290.576172\" xlink:href=\"#DejaVuSans-48\"/>\n       <use x=\"354.199219\" xlink:href=\"#DejaVuSans-54\"/>\n      </g>\n     </g>\n    </g>\n   </g>\n   <g id=\"matplotlib.axis_2\">\n    <g id=\"ytick_1\">\n     <g id=\"line2d_7\">\n      <path clip-path=\"url(#p1a3b04eefb)\" d=\"M 23.69875 333.65267 \nL 581.69875 333.65267 \n\" style=\"fill:none;stroke:#ffffff;stroke-linecap:round;\"/>\n     </g>\n     <g id=\"text_7\">\n      <!-- 0 -->\n      <g style=\"fill:#262626;\" transform=\"translate(7.2 337.831811)scale(0.11 -0.11)\">\n       <use xlink:href=\"#DejaVuSans-48\"/>\n      </g>\n     </g>\n    </g>\n    <g id=\"ytick_2\">\n     <g id=\"line2d_8\">\n      <path clip-path=\"url(#p1a3b04eefb)\" d=\"M 23.69875 297.196951 \nL 581.69875 297.196951 \n\" style=\"fill:none;stroke:#ffffff;stroke-linecap:round;\"/>\n     </g>\n     <g id=\"text_8\">\n      <!-- 1 -->\n      <g style=\"fill:#262626;\" transform=\"translate(7.2 301.376092)scale(0.11 -0.11)\">\n       <use xlink:href=\"#DejaVuSans-49\"/>\n      </g>\n     </g>\n    </g>\n    <g id=\"ytick_3\">\n     <g id=\"line2d_9\">\n      <path clip-path=\"url(#p1a3b04eefb)\" d=\"M 23.69875 260.741232 \nL 581.69875 260.741232 \n\" style=\"fill:none;stroke:#ffffff;stroke-linecap:round;\"/>\n     </g>\n     <g id=\"text_9\">\n      <!-- 2 -->\n      <g style=\"fill:#262626;\" transform=\"translate(7.2 264.920373)scale(0.11 -0.11)\">\n       <use xlink:href=\"#DejaVuSans-50\"/>\n      </g>\n     </g>\n    </g>\n    <g id=\"ytick_4\">\n     <g id=\"line2d_10\">\n      <path clip-path=\"url(#p1a3b04eefb)\" d=\"M 23.69875 224.285513 \nL 581.69875 224.285513 \n\" style=\"fill:none;stroke:#ffffff;stroke-linecap:round;\"/>\n     </g>\n     <g id=\"text_10\">\n      <!-- 3 -->\n      <g style=\"fill:#262626;\" transform=\"translate(7.2 228.464654)scale(0.11 -0.11)\">\n       <use xlink:href=\"#DejaVuSans-51\"/>\n      </g>\n     </g>\n    </g>\n    <g id=\"ytick_5\">\n     <g id=\"line2d_11\">\n      <path clip-path=\"url(#p1a3b04eefb)\" d=\"M 23.69875 187.829794 \nL 581.69875 187.829794 \n\" style=\"fill:none;stroke:#ffffff;stroke-linecap:round;\"/>\n     </g>\n     <g id=\"text_11\">\n      <!-- 4 -->\n      <g style=\"fill:#262626;\" transform=\"translate(7.2 192.008935)scale(0.11 -0.11)\">\n       <use xlink:href=\"#DejaVuSans-52\"/>\n      </g>\n     </g>\n    </g>\n    <g id=\"ytick_6\">\n     <g id=\"line2d_12\">\n      <path clip-path=\"url(#p1a3b04eefb)\" d=\"M 23.69875 151.374075 \nL 581.69875 151.374075 \n\" style=\"fill:none;stroke:#ffffff;stroke-linecap:round;\"/>\n     </g>\n     <g id=\"text_12\">\n      <!-- 5 -->\n      <g style=\"fill:#262626;\" transform=\"translate(7.2 155.553216)scale(0.11 -0.11)\">\n       <use xlink:href=\"#DejaVuSans-53\"/>\n      </g>\n     </g>\n    </g>\n    <g id=\"ytick_7\">\n     <g id=\"line2d_13\">\n      <path clip-path=\"url(#p1a3b04eefb)\" d=\"M 23.69875 114.918356 \nL 581.69875 114.918356 \n\" style=\"fill:none;stroke:#ffffff;stroke-linecap:round;\"/>\n     </g>\n     <g id=\"text_13\">\n      <!-- 6 -->\n      <g style=\"fill:#262626;\" transform=\"translate(7.2 119.097497)scale(0.11 -0.11)\">\n       <use xlink:href=\"#DejaVuSans-54\"/>\n      </g>\n     </g>\n    </g>\n    <g id=\"ytick_8\">\n     <g id=\"line2d_14\">\n      <path clip-path=\"url(#p1a3b04eefb)\" d=\"M 23.69875 78.462637 \nL 581.69875 78.462637 \n\" style=\"fill:none;stroke:#ffffff;stroke-linecap:round;\"/>\n     </g>\n     <g id=\"text_14\">\n      <!-- 7 -->\n      <defs>\n       <path d=\"M 8.203125 72.90625 \nL 55.078125 72.90625 \nL 55.078125 68.703125 \nL 28.609375 0 \nL 18.3125 0 \nL 43.21875 64.59375 \nL 8.203125 64.59375 \nz\n\" id=\"DejaVuSans-55\"/>\n      </defs>\n      <g style=\"fill:#262626;\" transform=\"translate(7.2 82.641778)scale(0.11 -0.11)\">\n       <use xlink:href=\"#DejaVuSans-55\"/>\n      </g>\n     </g>\n    </g>\n    <g id=\"ytick_9\">\n     <g id=\"line2d_15\">\n      <path clip-path=\"url(#p1a3b04eefb)\" d=\"M 23.69875 42.006918 \nL 581.69875 42.006918 \n\" style=\"fill:none;stroke:#ffffff;stroke-linecap:round;\"/>\n     </g>\n     <g id=\"text_15\">\n      <!-- 8 -->\n      <defs>\n       <path d=\"M 31.78125 34.625 \nQ 24.75 34.625 20.71875 30.859375 \nQ 16.703125 27.09375 16.703125 20.515625 \nQ 16.703125 13.921875 20.71875 10.15625 \nQ 24.75 6.390625 31.78125 6.390625 \nQ 38.8125 6.390625 42.859375 10.171875 \nQ 46.921875 13.96875 46.921875 20.515625 \nQ 46.921875 27.09375 42.890625 30.859375 \nQ 38.875 34.625 31.78125 34.625 \nz\nM 21.921875 38.8125 \nQ 15.578125 40.375 12.03125 44.71875 \nQ 8.5 49.078125 8.5 55.328125 \nQ 8.5 64.0625 14.71875 69.140625 \nQ 20.953125 74.21875 31.78125 74.21875 \nQ 42.671875 74.21875 48.875 69.140625 \nQ 55.078125 64.0625 55.078125 55.328125 \nQ 55.078125 49.078125 51.53125 44.71875 \nQ 48 40.375 41.703125 38.8125 \nQ 48.828125 37.15625 52.796875 32.3125 \nQ 56.78125 27.484375 56.78125 20.515625 \nQ 56.78125 9.90625 50.3125 4.234375 \nQ 43.84375 -1.421875 31.78125 -1.421875 \nQ 19.734375 -1.421875 13.25 4.234375 \nQ 6.78125 9.90625 6.78125 20.515625 \nQ 6.78125 27.484375 10.78125 32.3125 \nQ 14.796875 37.15625 21.921875 38.8125 \nz\nM 18.3125 54.390625 \nQ 18.3125 48.734375 21.84375 45.5625 \nQ 25.390625 42.390625 31.78125 42.390625 \nQ 38.140625 42.390625 41.71875 45.5625 \nQ 45.3125 48.734375 45.3125 54.390625 \nQ 45.3125 60.0625 41.71875 63.234375 \nQ 38.140625 66.40625 31.78125 66.40625 \nQ 25.390625 66.40625 21.84375 63.234375 \nQ 18.3125 60.0625 18.3125 54.390625 \nz\n\" id=\"DejaVuSans-56\"/>\n      </defs>\n      <g style=\"fill:#262626;\" transform=\"translate(7.2 46.186059)scale(0.11 -0.11)\">\n       <use xlink:href=\"#DejaVuSans-56\"/>\n      </g>\n     </g>\n    </g>\n    <g id=\"text_16\">\n     <!-- 1e6 -->\n     <defs>\n      <path d=\"M 56.203125 29.59375 \nL 56.203125 25.203125 \nL 14.890625 25.203125 \nQ 15.484375 15.921875 20.484375 11.0625 \nQ 25.484375 6.203125 34.421875 6.203125 \nQ 39.59375 6.203125 44.453125 7.46875 \nQ 49.3125 8.734375 54.109375 11.28125 \nL 54.109375 2.78125 \nQ 49.265625 0.734375 44.1875 -0.34375 \nQ 39.109375 -1.421875 33.890625 -1.421875 \nQ 20.796875 -1.421875 13.15625 6.1875 \nQ 5.515625 13.8125 5.515625 26.8125 \nQ 5.515625 40.234375 12.765625 48.109375 \nQ 20.015625 56 32.328125 56 \nQ 43.359375 56 49.78125 48.890625 \nQ 56.203125 41.796875 56.203125 29.59375 \nz\nM 47.21875 32.234375 \nQ 47.125 39.59375 43.09375 43.984375 \nQ 39.0625 48.390625 32.421875 48.390625 \nQ 24.90625 48.390625 20.390625 44.140625 \nQ 15.875 39.890625 15.1875 32.171875 \nz\n\" id=\"DejaVuSans-101\"/>\n     </defs>\n     <g style=\"fill:#262626;\" transform=\"translate(23.69875 19.318125)scale(0.11 -0.11)\">\n      <use xlink:href=\"#DejaVuSans-49\"/>\n      <use x=\"63.623047\" xlink:href=\"#DejaVuSans-101\"/>\n      <use x=\"125.146484\" xlink:href=\"#DejaVuSans-54\"/>\n     </g>\n    </g>\n   </g>\n   <g id=\"line2d_16\">\n    <path clip-path=\"url(#p1a3b04eefb)\" d=\"M 49.062386 333.65267 \nL 234.067734 333.541882 \nL 278.827092 333.393689 \nL 296.730836 333.120563 \nL 308.666664 332.779337 \nL 326.570408 331.924487 \nL 341.490194 330.916559 \nL 353.426023 329.868676 \nL 365.361852 328.984589 \nL 371.329766 328.284384 \nL 377.29768 327.735871 \nL 386.249552 327.092901 \nL 416.089124 324.959403 \nL 481.736183 321.193455 \nL 484.72014 322.141996 \nL 487.704098 320.970674 \nL 511.575755 319.738835 \nL 520.527627 319.169214 \nL 538.43137 318.240359 \nL 547.383242 317.800703 \nL 550.367199 317.677665 \nL 553.351156 317.427943 \nL 556.335114 318.296756 \nL 556.335114 318.296756 \n\" style=\"fill:none;stroke:#ff304f;stroke-linecap:round;stroke-width:1.5;\"/>\n   </g>\n   <g id=\"line2d_17\">\n    <path clip-path=\"url(#p1a3b04eefb)\" d=\"M 49.062386 333.651686 \nL 129.629231 333.550048 \nL 150.516932 333.019726 \nL 177.372547 332.01271 \nL 180.356504 331.460369 \nL 186.324418 331.215095 \nL 204.228162 330.879812 \nL 237.051691 330.373041 \nL 248.98752 329.950519 \nL 260.923349 329.300514 \nL 266.891263 328.710806 \nL 272.859178 327.895036 \nL 278.827092 326.941537 \nL 281.811049 326.341731 \nL 284.795007 325.623153 \nL 290.762921 323.380433 \nL 296.730836 320.906475 \nL 302.69875 317.859142 \nL 305.682707 315.958924 \nL 308.666664 313.764144 \nL 314.634579 309.122747 \nL 317.618536 307.01958 \nL 320.602493 304.707704 \nL 323.586451 302.06317 \nL 332.538322 293.532678 \nL 335.522279 290.443967 \nL 341.490194 285.298388 \nL 344.474151 282.569131 \nL 350.442066 276.371986 \nL 353.426023 273.120319 \nL 356.40998 270.180529 \nL 359.393937 267.586705 \nL 362.377894 265.183544 \nL 368.345809 259.491457 \nL 374.313723 253.489935 \nL 377.29768 250.587914 \nL 383.265595 245.198154 \nL 386.249552 242.077217 \nL 389.233509 239.663155 \nL 395.201424 234.157759 \nL 398.185381 230.496985 \nL 401.169338 227.472618 \nL 404.153295 225.077368 \nL 407.137253 222.472024 \nL 410.12121 219.639305 \nL 413.105167 216.557922 \nL 416.089124 213.214859 \nL 422.057039 207.403016 \nL 428.024953 201.709106 \nL 433.992868 195.006321 \nL 439.960782 188.437329 \nL 442.944739 185.633228 \nL 445.928697 183.045893 \nL 451.896611 176.791185 \nL 460.848483 166.266929 \nL 463.83244 163.309058 \nL 466.816397 160.134093 \nL 472.784311 153.051439 \nL 478.752226 145.233219 \nL 481.736183 141.548348 \nL 484.72014 146.696369 \nL 487.704098 134.8713 \nL 490.688055 131.378332 \nL 493.672012 127.639908 \nL 499.639926 118.829763 \nL 502.623884 114.174878 \nL 505.607841 110.242108 \nL 508.591798 106.582355 \nL 511.575755 102.486191 \nL 517.54367 93.219657 \nL 520.527627 88.353001 \nL 523.511584 83.769278 \nL 526.495541 79.531774 \nL 529.479499 75.674723 \nL 532.463456 71.098181 \nL 538.43137 61.222181 \nL 541.415328 55.956262 \nL 544.399285 51.072945 \nL 550.367199 42.294262 \nL 553.351156 37.14358 \nL 556.335114 39.770032 \nL 556.335114 39.770032 \n\" style=\"fill:none;stroke:#071e3d;stroke-linecap:round;stroke-width:1.5;\"/>\n   </g>\n   <g id=\"patch_3\">\n    <path d=\"M 23.69875 348.478125 \nL 23.69875 22.318125 \n\" style=\"fill:none;stroke:#ffffff;stroke-linecap:square;stroke-linejoin:miter;stroke-width:1.25;\"/>\n   </g>\n   <g id=\"patch_4\">\n    <path d=\"M 581.69875 348.478125 \nL 581.69875 22.318125 \n\" style=\"fill:none;stroke:#ffffff;stroke-linecap:square;stroke-linejoin:miter;stroke-width:1.25;\"/>\n   </g>\n   <g id=\"patch_5\">\n    <path d=\"M 23.69875 348.478125 \nL 581.69875 348.478125 \n\" style=\"fill:none;stroke:#ffffff;stroke-linecap:square;stroke-linejoin:miter;stroke-width:1.25;\"/>\n   </g>\n   <g id=\"patch_6\">\n    <path d=\"M 23.69875 22.318125 \nL 581.69875 22.318125 \n\" style=\"fill:none;stroke:#ffffff;stroke-linecap:square;stroke-linejoin:miter;stroke-width:1.25;\"/>\n   </g>\n   <g id=\"text_17\">\n    <!-- Número de casos de COVID-19 no mundo -->\n    <defs>\n     <path d=\"M 9.8125 72.90625 \nL 23.09375 72.90625 \nL 55.421875 11.921875 \nL 55.421875 72.90625 \nL 64.984375 72.90625 \nL 64.984375 0 \nL 51.703125 0 \nL 19.390625 60.984375 \nL 19.390625 0 \nL 9.8125 0 \nz\n\" id=\"DejaVuSans-78\"/>\n     <path d=\"M 8.5 21.578125 \nL 8.5 54.6875 \nL 17.484375 54.6875 \nL 17.484375 21.921875 \nQ 17.484375 14.15625 20.5 10.265625 \nQ 23.53125 6.390625 29.59375 6.390625 \nQ 36.859375 6.390625 41.078125 11.03125 \nQ 45.3125 15.671875 45.3125 23.6875 \nL 45.3125 54.6875 \nL 54.296875 54.6875 \nL 54.296875 0 \nL 45.3125 0 \nL 45.3125 8.40625 \nQ 42.046875 3.421875 37.71875 1 \nQ 33.40625 -1.421875 27.6875 -1.421875 \nQ 18.265625 -1.421875 13.375 4.4375 \nQ 8.5 10.296875 8.5 21.578125 \nz\nM 31.109375 56 \nz\nM 37.78125 79.984375 \nL 47.5 79.984375 \nL 31.59375 61.625 \nL 24.109375 61.625 \nz\n\" id=\"DejaVuSans-250\"/>\n     <path d=\"M 52 44.1875 \nQ 55.375 50.25 60.0625 53.125 \nQ 64.75 56 71.09375 56 \nQ 79.640625 56 84.28125 50.015625 \nQ 88.921875 44.046875 88.921875 33.015625 \nL 88.921875 0 \nL 79.890625 0 \nL 79.890625 32.71875 \nQ 79.890625 40.578125 77.09375 44.375 \nQ 74.3125 48.1875 68.609375 48.1875 \nQ 61.625 48.1875 57.5625 43.546875 \nQ 53.515625 38.921875 53.515625 30.90625 \nL 53.515625 0 \nL 44.484375 0 \nL 44.484375 32.71875 \nQ 44.484375 40.625 41.703125 44.40625 \nQ 38.921875 48.1875 33.109375 48.1875 \nQ 26.21875 48.1875 22.15625 43.53125 \nQ 18.109375 38.875 18.109375 30.90625 \nL 18.109375 0 \nL 9.078125 0 \nL 9.078125 54.6875 \nL 18.109375 54.6875 \nL 18.109375 46.1875 \nQ 21.1875 51.21875 25.484375 53.609375 \nQ 29.78125 56 35.6875 56 \nQ 41.65625 56 45.828125 52.96875 \nQ 50 49.953125 52 44.1875 \nz\n\" id=\"DejaVuSans-109\"/>\n     <path d=\"M 41.109375 46.296875 \nQ 39.59375 47.171875 37.8125 47.578125 \nQ 36.03125 48 33.890625 48 \nQ 26.265625 48 22.1875 43.046875 \nQ 18.109375 38.09375 18.109375 28.8125 \nL 18.109375 0 \nL 9.078125 0 \nL 9.078125 54.6875 \nL 18.109375 54.6875 \nL 18.109375 46.1875 \nQ 20.953125 51.171875 25.484375 53.578125 \nQ 30.03125 56 36.53125 56 \nQ 37.453125 56 38.578125 55.875 \nQ 39.703125 55.765625 41.0625 55.515625 \nz\n\" id=\"DejaVuSans-114\"/>\n     <path d=\"M 30.609375 48.390625 \nQ 23.390625 48.390625 19.1875 42.75 \nQ 14.984375 37.109375 14.984375 27.296875 \nQ 14.984375 17.484375 19.15625 11.84375 \nQ 23.34375 6.203125 30.609375 6.203125 \nQ 37.796875 6.203125 41.984375 11.859375 \nQ 46.1875 17.53125 46.1875 27.296875 \nQ 46.1875 37.015625 41.984375 42.703125 \nQ 37.796875 48.390625 30.609375 48.390625 \nz\nM 30.609375 56 \nQ 42.328125 56 49.015625 48.375 \nQ 55.71875 40.765625 55.71875 27.296875 \nQ 55.71875 13.875 49.015625 6.21875 \nQ 42.328125 -1.421875 30.609375 -1.421875 \nQ 18.84375 -1.421875 12.171875 6.21875 \nQ 5.515625 13.875 5.515625 27.296875 \nQ 5.515625 40.765625 12.171875 48.375 \nQ 18.84375 56 30.609375 56 \nz\n\" id=\"DejaVuSans-111\"/>\n     <path id=\"DejaVuSans-32\"/>\n     <path d=\"M 45.40625 46.390625 \nL 45.40625 75.984375 \nL 54.390625 75.984375 \nL 54.390625 0 \nL 45.40625 0 \nL 45.40625 8.203125 \nQ 42.578125 3.328125 38.25 0.953125 \nQ 33.9375 -1.421875 27.875 -1.421875 \nQ 17.96875 -1.421875 11.734375 6.484375 \nQ 5.515625 14.40625 5.515625 27.296875 \nQ 5.515625 40.1875 11.734375 48.09375 \nQ 17.96875 56 27.875 56 \nQ 33.9375 56 38.25 53.625 \nQ 42.578125 51.265625 45.40625 46.390625 \nz\nM 14.796875 27.296875 \nQ 14.796875 17.390625 18.875 11.75 \nQ 22.953125 6.109375 30.078125 6.109375 \nQ 37.203125 6.109375 41.296875 11.75 \nQ 45.40625 17.390625 45.40625 27.296875 \nQ 45.40625 37.203125 41.296875 42.84375 \nQ 37.203125 48.484375 30.078125 48.484375 \nQ 22.953125 48.484375 18.875 42.84375 \nQ 14.796875 37.203125 14.796875 27.296875 \nz\n\" id=\"DejaVuSans-100\"/>\n     <path d=\"M 48.78125 52.59375 \nL 48.78125 44.1875 \nQ 44.96875 46.296875 41.140625 47.34375 \nQ 37.3125 48.390625 33.40625 48.390625 \nQ 24.65625 48.390625 19.8125 42.84375 \nQ 14.984375 37.3125 14.984375 27.296875 \nQ 14.984375 17.28125 19.8125 11.734375 \nQ 24.65625 6.203125 33.40625 6.203125 \nQ 37.3125 6.203125 41.140625 7.25 \nQ 44.96875 8.296875 48.78125 10.40625 \nL 48.78125 2.09375 \nQ 45.015625 0.34375 40.984375 -0.53125 \nQ 36.96875 -1.421875 32.421875 -1.421875 \nQ 20.0625 -1.421875 12.78125 6.34375 \nQ 5.515625 14.109375 5.515625 27.296875 \nQ 5.515625 40.671875 12.859375 48.328125 \nQ 20.21875 56 33.015625 56 \nQ 37.15625 56 41.109375 55.140625 \nQ 45.0625 54.296875 48.78125 52.59375 \nz\n\" id=\"DejaVuSans-99\"/>\n     <path d=\"M 34.28125 27.484375 \nQ 23.390625 27.484375 19.1875 25 \nQ 14.984375 22.515625 14.984375 16.5 \nQ 14.984375 11.71875 18.140625 8.90625 \nQ 21.296875 6.109375 26.703125 6.109375 \nQ 34.1875 6.109375 38.703125 11.40625 \nQ 43.21875 16.703125 43.21875 25.484375 \nL 43.21875 27.484375 \nz\nM 52.203125 31.203125 \nL 52.203125 0 \nL 43.21875 0 \nL 43.21875 8.296875 \nQ 40.140625 3.328125 35.546875 0.953125 \nQ 30.953125 -1.421875 24.3125 -1.421875 \nQ 15.921875 -1.421875 10.953125 3.296875 \nQ 6 8.015625 6 15.921875 \nQ 6 25.140625 12.171875 29.828125 \nQ 18.359375 34.515625 30.609375 34.515625 \nL 43.21875 34.515625 \nL 43.21875 35.40625 \nQ 43.21875 41.609375 39.140625 45 \nQ 35.0625 48.390625 27.6875 48.390625 \nQ 23 48.390625 18.546875 47.265625 \nQ 14.109375 46.140625 10.015625 43.890625 \nL 10.015625 52.203125 \nQ 14.9375 54.109375 19.578125 55.046875 \nQ 24.21875 56 28.609375 56 \nQ 40.484375 56 46.34375 49.84375 \nQ 52.203125 43.703125 52.203125 31.203125 \nz\n\" id=\"DejaVuSans-97\"/>\n     <path d=\"M 44.28125 53.078125 \nL 44.28125 44.578125 \nQ 40.484375 46.53125 36.375 47.5 \nQ 32.28125 48.484375 27.875 48.484375 \nQ 21.1875 48.484375 17.84375 46.4375 \nQ 14.5 44.390625 14.5 40.28125 \nQ 14.5 37.15625 16.890625 35.375 \nQ 19.28125 33.59375 26.515625 31.984375 \nL 29.59375 31.296875 \nQ 39.15625 29.25 43.1875 25.515625 \nQ 47.21875 21.78125 47.21875 15.09375 \nQ 47.21875 7.46875 41.1875 3.015625 \nQ 35.15625 -1.421875 24.609375 -1.421875 \nQ 20.21875 -1.421875 15.453125 -0.5625 \nQ 10.6875 0.296875 5.421875 2 \nL 5.421875 11.28125 \nQ 10.40625 8.6875 15.234375 7.390625 \nQ 20.0625 6.109375 24.8125 6.109375 \nQ 31.15625 6.109375 34.5625 8.28125 \nQ 37.984375 10.453125 37.984375 14.40625 \nQ 37.984375 18.0625 35.515625 20.015625 \nQ 33.0625 21.96875 24.703125 23.78125 \nL 21.578125 24.515625 \nQ 13.234375 26.265625 9.515625 29.90625 \nQ 5.8125 33.546875 5.8125 39.890625 \nQ 5.8125 47.609375 11.28125 51.796875 \nQ 16.75 56 26.8125 56 \nQ 31.78125 56 36.171875 55.265625 \nQ 40.578125 54.546875 44.28125 53.078125 \nz\n\" id=\"DejaVuSans-115\"/>\n     <path d=\"M 64.40625 67.28125 \nL 64.40625 56.890625 \nQ 59.421875 61.53125 53.78125 63.8125 \nQ 48.140625 66.109375 41.796875 66.109375 \nQ 29.296875 66.109375 22.65625 58.46875 \nQ 16.015625 50.828125 16.015625 36.375 \nQ 16.015625 21.96875 22.65625 14.328125 \nQ 29.296875 6.6875 41.796875 6.6875 \nQ 48.140625 6.6875 53.78125 8.984375 \nQ 59.421875 11.28125 64.40625 15.921875 \nL 64.40625 5.609375 \nQ 59.234375 2.09375 53.4375 0.328125 \nQ 47.65625 -1.421875 41.21875 -1.421875 \nQ 24.65625 -1.421875 15.125 8.703125 \nQ 5.609375 18.84375 5.609375 36.375 \nQ 5.609375 53.953125 15.125 64.078125 \nQ 24.65625 74.21875 41.21875 74.21875 \nQ 47.75 74.21875 53.53125 72.484375 \nQ 59.328125 70.75 64.40625 67.28125 \nz\n\" id=\"DejaVuSans-67\"/>\n     <path d=\"M 39.40625 66.21875 \nQ 28.65625 66.21875 22.328125 58.203125 \nQ 16.015625 50.203125 16.015625 36.375 \nQ 16.015625 22.609375 22.328125 14.59375 \nQ 28.65625 6.59375 39.40625 6.59375 \nQ 50.140625 6.59375 56.421875 14.59375 \nQ 62.703125 22.609375 62.703125 36.375 \nQ 62.703125 50.203125 56.421875 58.203125 \nQ 50.140625 66.21875 39.40625 66.21875 \nz\nM 39.40625 74.21875 \nQ 54.734375 74.21875 63.90625 63.9375 \nQ 73.09375 53.65625 73.09375 36.375 \nQ 73.09375 19.140625 63.90625 8.859375 \nQ 54.734375 -1.421875 39.40625 -1.421875 \nQ 24.03125 -1.421875 14.8125 8.828125 \nQ 5.609375 19.09375 5.609375 36.375 \nQ 5.609375 53.65625 14.8125 63.9375 \nQ 24.03125 74.21875 39.40625 74.21875 \nz\n\" id=\"DejaVuSans-79\"/>\n     <path d=\"M 28.609375 0 \nL 0.78125 72.90625 \nL 11.078125 72.90625 \nL 34.1875 11.53125 \nL 57.328125 72.90625 \nL 67.578125 72.90625 \nL 39.796875 0 \nz\n\" id=\"DejaVuSans-86\"/>\n     <path d=\"M 9.8125 72.90625 \nL 19.671875 72.90625 \nL 19.671875 0 \nL 9.8125 0 \nz\n\" id=\"DejaVuSans-73\"/>\n     <path d=\"M 19.671875 64.796875 \nL 19.671875 8.109375 \nL 31.59375 8.109375 \nQ 46.6875 8.109375 53.6875 14.9375 \nQ 60.6875 21.78125 60.6875 36.53125 \nQ 60.6875 51.171875 53.6875 57.984375 \nQ 46.6875 64.796875 31.59375 64.796875 \nz\nM 9.8125 72.90625 \nL 30.078125 72.90625 \nQ 51.265625 72.90625 61.171875 64.09375 \nQ 71.09375 55.28125 71.09375 36.53125 \nQ 71.09375 17.671875 61.125 8.828125 \nQ 51.171875 0 30.078125 0 \nL 9.8125 0 \nz\n\" id=\"DejaVuSans-68\"/>\n     <path d=\"M 10.984375 1.515625 \nL 10.984375 10.5 \nQ 14.703125 8.734375 18.5 7.8125 \nQ 22.3125 6.890625 25.984375 6.890625 \nQ 35.75 6.890625 40.890625 13.453125 \nQ 46.046875 20.015625 46.78125 33.40625 \nQ 43.953125 29.203125 39.59375 26.953125 \nQ 35.25 24.703125 29.984375 24.703125 \nQ 19.046875 24.703125 12.671875 31.3125 \nQ 6.296875 37.9375 6.296875 49.421875 \nQ 6.296875 60.640625 12.9375 67.421875 \nQ 19.578125 74.21875 30.609375 74.21875 \nQ 43.265625 74.21875 49.921875 64.515625 \nQ 56.59375 54.828125 56.59375 36.375 \nQ 56.59375 19.140625 48.40625 8.859375 \nQ 40.234375 -1.421875 26.421875 -1.421875 \nQ 22.703125 -1.421875 18.890625 -0.6875 \nQ 15.09375 0.046875 10.984375 1.515625 \nz\nM 30.609375 32.421875 \nQ 37.25 32.421875 41.125 36.953125 \nQ 45.015625 41.5 45.015625 49.421875 \nQ 45.015625 57.28125 41.125 61.84375 \nQ 37.25 66.40625 30.609375 66.40625 \nQ 23.96875 66.40625 20.09375 61.84375 \nQ 16.21875 57.28125 16.21875 49.421875 \nQ 16.21875 41.5 20.09375 36.953125 \nQ 23.96875 32.421875 30.609375 32.421875 \nz\n\" id=\"DejaVuSans-57\"/>\n     <path d=\"M 54.890625 33.015625 \nL 54.890625 0 \nL 45.90625 0 \nL 45.90625 32.71875 \nQ 45.90625 40.484375 42.875 44.328125 \nQ 39.84375 48.1875 33.796875 48.1875 \nQ 26.515625 48.1875 22.3125 43.546875 \nQ 18.109375 38.921875 18.109375 30.90625 \nL 18.109375 0 \nL 9.078125 0 \nL 9.078125 54.6875 \nL 18.109375 54.6875 \nL 18.109375 46.1875 \nQ 21.34375 51.125 25.703125 53.5625 \nQ 30.078125 56 35.796875 56 \nQ 45.21875 56 50.046875 50.171875 \nQ 54.890625 44.34375 54.890625 33.015625 \nz\n\" id=\"DejaVuSans-110\"/>\n     <path d=\"M 8.5 21.578125 \nL 8.5 54.6875 \nL 17.484375 54.6875 \nL 17.484375 21.921875 \nQ 17.484375 14.15625 20.5 10.265625 \nQ 23.53125 6.390625 29.59375 6.390625 \nQ 36.859375 6.390625 41.078125 11.03125 \nQ 45.3125 15.671875 45.3125 23.6875 \nL 45.3125 54.6875 \nL 54.296875 54.6875 \nL 54.296875 0 \nL 45.3125 0 \nL 45.3125 8.40625 \nQ 42.046875 3.421875 37.71875 1 \nQ 33.40625 -1.421875 27.6875 -1.421875 \nQ 18.265625 -1.421875 13.375 4.4375 \nQ 8.5 10.296875 8.5 21.578125 \nz\nM 31.109375 56 \nz\n\" id=\"DejaVuSans-117\"/>\n    </defs>\n    <g style=\"fill:#262626;\" transform=\"translate(178.021563 16.318125)scale(0.12 -0.12)\">\n     <use xlink:href=\"#DejaVuSans-78\"/>\n     <use x=\"74.804688\" xlink:href=\"#DejaVuSans-250\"/>\n     <use x=\"138.183594\" xlink:href=\"#DejaVuSans-109\"/>\n     <use x=\"235.595703\" xlink:href=\"#DejaVuSans-101\"/>\n     <use x=\"297.119141\" xlink:href=\"#DejaVuSans-114\"/>\n     <use x=\"335.982422\" xlink:href=\"#DejaVuSans-111\"/>\n     <use x=\"397.164062\" xlink:href=\"#DejaVuSans-32\"/>\n     <use x=\"428.951172\" xlink:href=\"#DejaVuSans-100\"/>\n     <use x=\"492.427734\" xlink:href=\"#DejaVuSans-101\"/>\n     <use x=\"553.951172\" xlink:href=\"#DejaVuSans-32\"/>\n     <use x=\"585.738281\" xlink:href=\"#DejaVuSans-99\"/>\n     <use x=\"640.71875\" xlink:href=\"#DejaVuSans-97\"/>\n     <use x=\"701.998047\" xlink:href=\"#DejaVuSans-115\"/>\n     <use x=\"754.097656\" xlink:href=\"#DejaVuSans-111\"/>\n     <use x=\"815.279297\" xlink:href=\"#DejaVuSans-115\"/>\n     <use x=\"867.378906\" xlink:href=\"#DejaVuSans-32\"/>\n     <use x=\"899.166016\" xlink:href=\"#DejaVuSans-100\"/>\n     <use x=\"962.642578\" xlink:href=\"#DejaVuSans-101\"/>\n     <use x=\"1024.166016\" xlink:href=\"#DejaVuSans-32\"/>\n     <use x=\"1055.953125\" xlink:href=\"#DejaVuSans-67\"/>\n     <use x=\"1125.777344\" xlink:href=\"#DejaVuSans-79\"/>\n     <use x=\"1202.738281\" xlink:href=\"#DejaVuSans-86\"/>\n     <use x=\"1271.146484\" xlink:href=\"#DejaVuSans-73\"/>\n     <use x=\"1300.638672\" xlink:href=\"#DejaVuSans-68\"/>\n     <use x=\"1377.640625\" xlink:href=\"#DejaVuSans-45\"/>\n     <use x=\"1413.724609\" xlink:href=\"#DejaVuSans-49\"/>\n     <use x=\"1477.347656\" xlink:href=\"#DejaVuSans-57\"/>\n     <use x=\"1540.970703\" xlink:href=\"#DejaVuSans-32\"/>\n     <use x=\"1572.757812\" xlink:href=\"#DejaVuSans-110\"/>\n     <use x=\"1636.136719\" xlink:href=\"#DejaVuSans-111\"/>\n     <use x=\"1697.318359\" xlink:href=\"#DejaVuSans-32\"/>\n     <use x=\"1729.105469\" xlink:href=\"#DejaVuSans-109\"/>\n     <use x=\"1826.517578\" xlink:href=\"#DejaVuSans-117\"/>\n     <use x=\"1889.896484\" xlink:href=\"#DejaVuSans-110\"/>\n     <use x=\"1953.275391\" xlink:href=\"#DejaVuSans-100\"/>\n     <use x=\"2016.751953\" xlink:href=\"#DejaVuSans-111\"/>\n    </g>\n   </g>\n   <g id=\"legend_1\">\n    <g id=\"patch_7\">\n     <path d=\"M 31.39875 63.41 \nL 104.115625 63.41 \nQ 106.315625 63.41 106.315625 61.21 \nL 106.315625 30.018125 \nQ 106.315625 27.818125 104.115625 27.818125 \nL 31.39875 27.818125 \nQ 29.19875 27.818125 29.19875 30.018125 \nL 29.19875 61.21 \nQ 29.19875 63.41 31.39875 63.41 \nz\n\" style=\"fill:#eaeaf2;opacity:0.8;stroke:#cccccc;stroke-linejoin:miter;\"/>\n    </g>\n    <g id=\"line2d_18\">\n     <path d=\"M 33.59875 36.726406 \nL 55.59875 36.726406 \n\" style=\"fill:none;stroke:#ff304f;stroke-linecap:round;stroke-width:1.5;\"/>\n    </g>\n    <g id=\"line2d_19\"/>\n    <g id=\"text_18\">\n     <!-- Mortos -->\n     <defs>\n      <path d=\"M 9.8125 72.90625 \nL 24.515625 72.90625 \nL 43.109375 23.296875 \nL 61.8125 72.90625 \nL 76.515625 72.90625 \nL 76.515625 0 \nL 66.890625 0 \nL 66.890625 64.015625 \nL 48.09375 14.015625 \nL 38.1875 14.015625 \nL 19.390625 64.015625 \nL 19.390625 0 \nL 9.8125 0 \nz\n\" id=\"DejaVuSans-77\"/>\n      <path d=\"M 18.3125 70.21875 \nL 18.3125 54.6875 \nL 36.8125 54.6875 \nL 36.8125 47.703125 \nL 18.3125 47.703125 \nL 18.3125 18.015625 \nQ 18.3125 11.328125 20.140625 9.421875 \nQ 21.96875 7.515625 27.59375 7.515625 \nL 36.8125 7.515625 \nL 36.8125 0 \nL 27.59375 0 \nQ 17.1875 0 13.234375 3.875 \nQ 9.28125 7.765625 9.28125 18.015625 \nL 9.28125 47.703125 \nL 2.6875 47.703125 \nL 2.6875 54.6875 \nL 9.28125 54.6875 \nL 9.28125 70.21875 \nz\n\" id=\"DejaVuSans-116\"/>\n     </defs>\n     <g style=\"fill:#262626;\" transform=\"translate(64.39875 40.576406)scale(0.11 -0.11)\">\n      <use xlink:href=\"#DejaVuSans-77\"/>\n      <use x=\"86.279297\" xlink:href=\"#DejaVuSans-111\"/>\n      <use x=\"147.460938\" xlink:href=\"#DejaVuSans-114\"/>\n      <use x=\"188.574219\" xlink:href=\"#DejaVuSans-116\"/>\n      <use x=\"227.783203\" xlink:href=\"#DejaVuSans-111\"/>\n      <use x=\"288.964844\" xlink:href=\"#DejaVuSans-115\"/>\n     </g>\n    </g>\n    <g id=\"line2d_20\">\n     <path d=\"M 33.59875 52.872344 \nL 55.59875 52.872344 \n\" style=\"fill:none;stroke:#071e3d;stroke-linecap:round;stroke-width:1.5;\"/>\n    </g>\n    <g id=\"line2d_21\"/>\n    <g id=\"text_19\">\n     <!-- Casos -->\n     <g style=\"fill:#262626;\" transform=\"translate(64.39875 56.722344)scale(0.11 -0.11)\">\n      <use xlink:href=\"#DejaVuSans-67\"/>\n      <use x=\"69.824219\" xlink:href=\"#DejaVuSans-97\"/>\n      <use x=\"131.103516\" xlink:href=\"#DejaVuSans-115\"/>\n      <use x=\"183.203125\" xlink:href=\"#DejaVuSans-111\"/>\n      <use x=\"244.384766\" xlink:href=\"#DejaVuSans-115\"/>\n     </g>\n    </g>\n   </g>\n  </g>\n </g>\n <defs>\n  <clipPath id=\"p1a3b04eefb\">\n   <rect height=\"326.16\" width=\"558\" x=\"23.69875\" y=\"22.318125\"/>\n  </clipPath>\n </defs>\n</svg>\n"
          },
          "metadata": {
            "tags": [],
            "needs_background": "light"
          }
        }
      ]
    },
    {
      "cell_type": "markdown",
      "metadata": {
        "id": "xrulD2ql6mm-",
        "colab_type": "text"
      },
      "source": [
        "Podemos ver, que os casos e morte de COVID-19, ainda estão chegando ao seu pico, Neste caso não utilizei a localização World, mas agrupei os dados por data, desta forma em alguns momento da serie, existem umas falhas, referênte a algum problema no banco de dados."
      ]
    },
    {
      "cell_type": "markdown",
      "metadata": {
        "id": "0-FIHE2w4kOj",
        "colab_type": "text"
      },
      "source": [
        "##Existe relação entre os casos e PIB per capta"
      ]
    },
    {
      "cell_type": "code",
      "metadata": {
        "id": "YXtoebrNP3YW",
        "colab_type": "code",
        "colab": {}
      },
      "source": [
        "#Importar biblioteca para\n",
        "from sklearn.preprocessing import Normalizer"
      ],
      "execution_count": 255,
      "outputs": []
    },
    {
      "cell_type": "code",
      "metadata": {
        "id": "0EWXBOVuQLwD",
        "colab_type": "code",
        "colab": {}
      },
      "source": [
        "#Copiar os dados necessários\n",
        "covid_dts = covid_dts.iloc[:, [1,3]]"
      ],
      "execution_count": 256,
      "outputs": []
    },
    {
      "cell_type": "markdown",
      "metadata": {
        "id": "1jZjlImJRNvB",
        "colab_type": "text"
      },
      "source": [
        "Os dados em questão, possuém escalar diferente, desta forma é necessário utilizar do algoritimo de normalização, podemos ver como ficou os dados abaixo."
      ]
    },
    {
      "cell_type": "code",
      "metadata": {
        "id": "t0b6LABkPbp0",
        "colab_type": "code",
        "colab": {}
      },
      "source": [
        "#Normaliza os dados\n",
        "scaler = Normalizer()\n",
        "covid_normali = scaler.fit_transform(covid_dts)\n",
        "covid_normali = pd.DataFrame(covid_normali)"
      ],
      "execution_count": 257,
      "outputs": []
    },
    {
      "cell_type": "code",
      "metadata": {
        "id": "YabPB1gl7tq4",
        "colab_type": "code",
        "colab": {
          "base_uri": "https://localhost:8080/",
          "height": 195
        },
        "outputId": "ec5202fa-2e27-4b49-efb8-1b052c1ebee4"
      },
      "source": [
        "covid_normali.head()"
      ],
      "execution_count": 286,
      "outputs": [
        {
          "output_type": "execute_result",
          "data": {
            "text/html": [
              "<div>\n",
              "<style scoped>\n",
              "    .dataframe tbody tr th:only-of-type {\n",
              "        vertical-align: middle;\n",
              "    }\n",
              "\n",
              "    .dataframe tbody tr th {\n",
              "        vertical-align: top;\n",
              "    }\n",
              "\n",
              "    .dataframe thead th {\n",
              "        text-align: right;\n",
              "    }\n",
              "</style>\n",
              "<table border=\"1\" class=\"dataframe\">\n",
              "  <thead>\n",
              "    <tr style=\"text-align: right;\">\n",
              "      <th></th>\n",
              "      <th>total_deaths</th>\n",
              "      <th>gdp_per_capita</th>\n",
              "    </tr>\n",
              "  </thead>\n",
              "  <tbody>\n",
              "    <tr>\n",
              "      <th>0</th>\n",
              "      <td>0.905113</td>\n",
              "      <td>0.425172</td>\n",
              "    </tr>\n",
              "    <tr>\n",
              "      <th>1</th>\n",
              "      <td>0.949590</td>\n",
              "      <td>0.313495</td>\n",
              "    </tr>\n",
              "    <tr>\n",
              "      <th>2</th>\n",
              "      <td>0.265821</td>\n",
              "      <td>0.964022</td>\n",
              "    </tr>\n",
              "    <tr>\n",
              "      <th>3</th>\n",
              "      <td>0.819643</td>\n",
              "      <td>0.572874</td>\n",
              "    </tr>\n",
              "    <tr>\n",
              "      <th>4</th>\n",
              "      <td>0.723486</td>\n",
              "      <td>0.690339</td>\n",
              "    </tr>\n",
              "  </tbody>\n",
              "</table>\n",
              "</div>"
            ],
            "text/plain": [
              "   total_deaths  gdp_per_capita\n",
              "0      0.905113        0.425172\n",
              "1      0.949590        0.313495\n",
              "2      0.265821        0.964022\n",
              "3      0.819643        0.572874\n",
              "4      0.723486        0.690339"
            ]
          },
          "metadata": {
            "tags": []
          },
          "execution_count": 286
        }
      ]
    },
    {
      "cell_type": "markdown",
      "metadata": {
        "id": "R-qISspg75FJ",
        "colab_type": "text"
      },
      "source": [
        "Tando os dados já normalizados, podemos calcular a correlação"
      ]
    },
    {
      "cell_type": "code",
      "metadata": {
        "id": "0LDsjTLVTO_8",
        "colab_type": "code",
        "colab": {
          "base_uri": "https://localhost:8080/",
          "height": 106
        },
        "outputId": "0bd0ff2e-b75e-44aa-c87f-73efa382c3b4"
      },
      "source": [
        "#Matriz de correlação\n",
        "covid_normali.corr()"
      ],
      "execution_count": 258,
      "outputs": [
        {
          "output_type": "execute_result",
          "data": {
            "text/html": [
              "<div>\n",
              "<style scoped>\n",
              "    .dataframe tbody tr th:only-of-type {\n",
              "        vertical-align: middle;\n",
              "    }\n",
              "\n",
              "    .dataframe tbody tr th {\n",
              "        vertical-align: top;\n",
              "    }\n",
              "\n",
              "    .dataframe thead th {\n",
              "        text-align: right;\n",
              "    }\n",
              "</style>\n",
              "<table border=\"1\" class=\"dataframe\">\n",
              "  <thead>\n",
              "    <tr style=\"text-align: right;\">\n",
              "      <th></th>\n",
              "      <th>0</th>\n",
              "      <th>1</th>\n",
              "    </tr>\n",
              "  </thead>\n",
              "  <tbody>\n",
              "    <tr>\n",
              "      <th>0</th>\n",
              "      <td>1.00000</td>\n",
              "      <td>-0.91622</td>\n",
              "    </tr>\n",
              "    <tr>\n",
              "      <th>1</th>\n",
              "      <td>-0.91622</td>\n",
              "      <td>1.00000</td>\n",
              "    </tr>\n",
              "  </tbody>\n",
              "</table>\n",
              "</div>"
            ],
            "text/plain": [
              "         0        1\n",
              "0  1.00000 -0.91622\n",
              "1 -0.91622  1.00000"
            ]
          },
          "metadata": {
            "tags": []
          },
          "execution_count": 258
        }
      ]
    },
    {
      "cell_type": "code",
      "metadata": {
        "id": "E0-JGb5iRDXz",
        "colab_type": "code",
        "colab": {}
      },
      "source": [
        "#Renomear as colunas\n",
        "covid_normali = covid_normali.rename({0:'total_deaths', 1:\"gdp_per_capita\"}, axis = 1)"
      ],
      "execution_count": 259,
      "outputs": []
    },
    {
      "cell_type": "code",
      "metadata": {
        "id": "AV-n6KNJ4xJ4",
        "colab_type": "code",
        "colab": {
          "base_uri": "https://localhost:8080/",
          "height": 398
        },
        "outputId": "f0fba9da-4bc5-4281-db5f-931f46aa8c06"
      },
      "source": [
        "fig, ax = plt.subplots(figsize = (8,4))\n",
        "\n",
        "#plotar gráfico com a regressão\n",
        "plt.title(\"Disperssão entre o número de mortos e o PIB per capta\")\n",
        "sns.regplot('total_deaths','gdp_per_capita',data = covid_normali, line_kws = {\"color\":\"#ff304f\"},  order=2)\n",
        "plt.xlabel(\"Número de mortos\")\n",
        "plt.ylabel(\"PIB per capta\")\n",
        "plt.show()\n"
      ],
      "execution_count": 290,
      "outputs": [
        {
          "output_type": "display_data",
          "data": {
            "text/plain": [
              "<Figure size 576x288 with 1 Axes>"
            ],
            "image/svg+xml": "<?xml version=\"1.0\" encoding=\"utf-8\" standalone=\"no\"?>\n<!DOCTYPE svg PUBLIC \"-//W3C//DTD SVG 1.1//EN\"\n  \"http://www.w3.org/Graphics/SVG/1.1/DTD/svg11.dtd\">\n<!-- Created with matplotlib (https://matplotlib.org/) -->\n<svg height=\"283.197812pt\" version=\"1.1\" viewBox=\"0 0 503.407187 283.197812\" width=\"503.407187pt\" xmlns=\"http://www.w3.org/2000/svg\" xmlns:xlink=\"http://www.w3.org/1999/xlink\">\n <defs>\n  <style type=\"text/css\">\n*{stroke-linecap:butt;stroke-linejoin:round;}\n  </style>\n </defs>\n <g id=\"figure_1\">\n  <g id=\"patch_1\">\n   <path d=\"M 0 283.197812 \nL 503.407187 283.197812 \nL 503.407187 0 \nL 0 0 \nz\n\" style=\"fill:none;\"/>\n  </g>\n  <g id=\"axes_1\">\n   <g id=\"patch_2\">\n    <path d=\"M 49.807188 240.238125 \nL 496.207187 240.238125 \nL 496.207187 22.798125 \nL 49.807188 22.798125 \nz\n\" style=\"fill:#eaeaf2;\"/>\n   </g>\n   <g id=\"matplotlib.axis_1\">\n    <g id=\"xtick_1\">\n     <g id=\"line2d_1\">\n      <path clip-path=\"url(#p9af5a9a80a)\" d=\"M 49.807188 240.238125 \nL 49.807188 22.798125 \n\" style=\"fill:none;stroke:#ffffff;stroke-linecap:round;\"/>\n     </g>\n     <g id=\"text_1\">\n      <!-- 0.0 -->\n      <defs>\n       <path d=\"M 31.78125 66.40625 \nQ 24.171875 66.40625 20.328125 58.90625 \nQ 16.5 51.421875 16.5 36.375 \nQ 16.5 21.390625 20.328125 13.890625 \nQ 24.171875 6.390625 31.78125 6.390625 \nQ 39.453125 6.390625 43.28125 13.890625 \nQ 47.125 21.390625 47.125 36.375 \nQ 47.125 51.421875 43.28125 58.90625 \nQ 39.453125 66.40625 31.78125 66.40625 \nz\nM 31.78125 74.21875 \nQ 44.046875 74.21875 50.515625 64.515625 \nQ 56.984375 54.828125 56.984375 36.375 \nQ 56.984375 17.96875 50.515625 8.265625 \nQ 44.046875 -1.421875 31.78125 -1.421875 \nQ 19.53125 -1.421875 13.0625 8.265625 \nQ 6.59375 17.96875 6.59375 36.375 \nQ 6.59375 54.828125 13.0625 64.515625 \nQ 19.53125 74.21875 31.78125 74.21875 \nz\n\" id=\"DejaVuSans-48\"/>\n       <path d=\"M 10.6875 12.40625 \nL 21 12.40625 \nL 21 0 \nL 10.6875 0 \nz\n\" id=\"DejaVuSans-46\"/>\n      </defs>\n      <g style=\"fill:#262626;\" transform=\"translate(41.060469 258.096406)scale(0.11 -0.11)\">\n       <use xlink:href=\"#DejaVuSans-48\"/>\n       <use x=\"63.623047\" xlink:href=\"#DejaVuSans-46\"/>\n       <use x=\"95.410156\" xlink:href=\"#DejaVuSans-48\"/>\n      </g>\n     </g>\n    </g>\n    <g id=\"xtick_2\">\n     <g id=\"line2d_2\">\n      <path clip-path=\"url(#p9af5a9a80a)\" d=\"M 143.826719 240.238125 \nL 143.826719 22.798125 \n\" style=\"fill:none;stroke:#ffffff;stroke-linecap:round;\"/>\n     </g>\n     <g id=\"text_2\">\n      <!-- 0.2 -->\n      <defs>\n       <path d=\"M 19.1875 8.296875 \nL 53.609375 8.296875 \nL 53.609375 0 \nL 7.328125 0 \nL 7.328125 8.296875 \nQ 12.9375 14.109375 22.625 23.890625 \nQ 32.328125 33.6875 34.8125 36.53125 \nQ 39.546875 41.84375 41.421875 45.53125 \nQ 43.3125 49.21875 43.3125 52.78125 \nQ 43.3125 58.59375 39.234375 62.25 \nQ 35.15625 65.921875 28.609375 65.921875 \nQ 23.96875 65.921875 18.8125 64.3125 \nQ 13.671875 62.703125 7.8125 59.421875 \nL 7.8125 69.390625 \nQ 13.765625 71.78125 18.9375 73 \nQ 24.125 74.21875 28.421875 74.21875 \nQ 39.75 74.21875 46.484375 68.546875 \nQ 53.21875 62.890625 53.21875 53.421875 \nQ 53.21875 48.921875 51.53125 44.890625 \nQ 49.859375 40.875 45.40625 35.40625 \nQ 44.1875 33.984375 37.640625 27.21875 \nQ 31.109375 20.453125 19.1875 8.296875 \nz\n\" id=\"DejaVuSans-50\"/>\n      </defs>\n      <g style=\"fill:#262626;\" transform=\"translate(135.08 258.096406)scale(0.11 -0.11)\">\n       <use xlink:href=\"#DejaVuSans-48\"/>\n       <use x=\"63.623047\" xlink:href=\"#DejaVuSans-46\"/>\n       <use x=\"95.410156\" xlink:href=\"#DejaVuSans-50\"/>\n      </g>\n     </g>\n    </g>\n    <g id=\"xtick_3\">\n     <g id=\"line2d_3\">\n      <path clip-path=\"url(#p9af5a9a80a)\" d=\"M 237.84625 240.238125 \nL 237.84625 22.798125 \n\" style=\"fill:none;stroke:#ffffff;stroke-linecap:round;\"/>\n     </g>\n     <g id=\"text_3\">\n      <!-- 0.4 -->\n      <defs>\n       <path d=\"M 37.796875 64.3125 \nL 12.890625 25.390625 \nL 37.796875 25.390625 \nz\nM 35.203125 72.90625 \nL 47.609375 72.90625 \nL 47.609375 25.390625 \nL 58.015625 25.390625 \nL 58.015625 17.1875 \nL 47.609375 17.1875 \nL 47.609375 0 \nL 37.796875 0 \nL 37.796875 17.1875 \nL 4.890625 17.1875 \nL 4.890625 26.703125 \nz\n\" id=\"DejaVuSans-52\"/>\n      </defs>\n      <g style=\"fill:#262626;\" transform=\"translate(229.099531 258.096406)scale(0.11 -0.11)\">\n       <use xlink:href=\"#DejaVuSans-48\"/>\n       <use x=\"63.623047\" xlink:href=\"#DejaVuSans-46\"/>\n       <use x=\"95.410156\" xlink:href=\"#DejaVuSans-52\"/>\n      </g>\n     </g>\n    </g>\n    <g id=\"xtick_4\">\n     <g id=\"line2d_4\">\n      <path clip-path=\"url(#p9af5a9a80a)\" d=\"M 331.865781 240.238125 \nL 331.865781 22.798125 \n\" style=\"fill:none;stroke:#ffffff;stroke-linecap:round;\"/>\n     </g>\n     <g id=\"text_4\">\n      <!-- 0.6 -->\n      <defs>\n       <path d=\"M 33.015625 40.375 \nQ 26.375 40.375 22.484375 35.828125 \nQ 18.609375 31.296875 18.609375 23.390625 \nQ 18.609375 15.53125 22.484375 10.953125 \nQ 26.375 6.390625 33.015625 6.390625 \nQ 39.65625 6.390625 43.53125 10.953125 \nQ 47.40625 15.53125 47.40625 23.390625 \nQ 47.40625 31.296875 43.53125 35.828125 \nQ 39.65625 40.375 33.015625 40.375 \nz\nM 52.59375 71.296875 \nL 52.59375 62.3125 \nQ 48.875 64.0625 45.09375 64.984375 \nQ 41.3125 65.921875 37.59375 65.921875 \nQ 27.828125 65.921875 22.671875 59.328125 \nQ 17.53125 52.734375 16.796875 39.40625 \nQ 19.671875 43.65625 24.015625 45.921875 \nQ 28.375 48.1875 33.59375 48.1875 \nQ 44.578125 48.1875 50.953125 41.515625 \nQ 57.328125 34.859375 57.328125 23.390625 \nQ 57.328125 12.15625 50.6875 5.359375 \nQ 44.046875 -1.421875 33.015625 -1.421875 \nQ 20.359375 -1.421875 13.671875 8.265625 \nQ 6.984375 17.96875 6.984375 36.375 \nQ 6.984375 53.65625 15.1875 63.9375 \nQ 23.390625 74.21875 37.203125 74.21875 \nQ 40.921875 74.21875 44.703125 73.484375 \nQ 48.484375 72.75 52.59375 71.296875 \nz\n\" id=\"DejaVuSans-54\"/>\n      </defs>\n      <g style=\"fill:#262626;\" transform=\"translate(323.119062 258.096406)scale(0.11 -0.11)\">\n       <use xlink:href=\"#DejaVuSans-48\"/>\n       <use x=\"63.623047\" xlink:href=\"#DejaVuSans-46\"/>\n       <use x=\"95.410156\" xlink:href=\"#DejaVuSans-54\"/>\n      </g>\n     </g>\n    </g>\n    <g id=\"xtick_5\">\n     <g id=\"line2d_5\">\n      <path clip-path=\"url(#p9af5a9a80a)\" d=\"M 425.885312 240.238125 \nL 425.885312 22.798125 \n\" style=\"fill:none;stroke:#ffffff;stroke-linecap:round;\"/>\n     </g>\n     <g id=\"text_5\">\n      <!-- 0.8 -->\n      <defs>\n       <path d=\"M 31.78125 34.625 \nQ 24.75 34.625 20.71875 30.859375 \nQ 16.703125 27.09375 16.703125 20.515625 \nQ 16.703125 13.921875 20.71875 10.15625 \nQ 24.75 6.390625 31.78125 6.390625 \nQ 38.8125 6.390625 42.859375 10.171875 \nQ 46.921875 13.96875 46.921875 20.515625 \nQ 46.921875 27.09375 42.890625 30.859375 \nQ 38.875 34.625 31.78125 34.625 \nz\nM 21.921875 38.8125 \nQ 15.578125 40.375 12.03125 44.71875 \nQ 8.5 49.078125 8.5 55.328125 \nQ 8.5 64.0625 14.71875 69.140625 \nQ 20.953125 74.21875 31.78125 74.21875 \nQ 42.671875 74.21875 48.875 69.140625 \nQ 55.078125 64.0625 55.078125 55.328125 \nQ 55.078125 49.078125 51.53125 44.71875 \nQ 48 40.375 41.703125 38.8125 \nQ 48.828125 37.15625 52.796875 32.3125 \nQ 56.78125 27.484375 56.78125 20.515625 \nQ 56.78125 9.90625 50.3125 4.234375 \nQ 43.84375 -1.421875 31.78125 -1.421875 \nQ 19.734375 -1.421875 13.25 4.234375 \nQ 6.78125 9.90625 6.78125 20.515625 \nQ 6.78125 27.484375 10.78125 32.3125 \nQ 14.796875 37.15625 21.921875 38.8125 \nz\nM 18.3125 54.390625 \nQ 18.3125 48.734375 21.84375 45.5625 \nQ 25.390625 42.390625 31.78125 42.390625 \nQ 38.140625 42.390625 41.71875 45.5625 \nQ 45.3125 48.734375 45.3125 54.390625 \nQ 45.3125 60.0625 41.71875 63.234375 \nQ 38.140625 66.40625 31.78125 66.40625 \nQ 25.390625 66.40625 21.84375 63.234375 \nQ 18.3125 60.0625 18.3125 54.390625 \nz\n\" id=\"DejaVuSans-56\"/>\n      </defs>\n      <g style=\"fill:#262626;\" transform=\"translate(417.138593 258.096406)scale(0.11 -0.11)\">\n       <use xlink:href=\"#DejaVuSans-48\"/>\n       <use x=\"63.623047\" xlink:href=\"#DejaVuSans-46\"/>\n       <use x=\"95.410156\" xlink:href=\"#DejaVuSans-56\"/>\n      </g>\n     </g>\n    </g>\n    <g id=\"text_6\">\n     <!-- Número de mortos -->\n     <defs>\n      <path d=\"M 9.8125 72.90625 \nL 23.09375 72.90625 \nL 55.421875 11.921875 \nL 55.421875 72.90625 \nL 64.984375 72.90625 \nL 64.984375 0 \nL 51.703125 0 \nL 19.390625 60.984375 \nL 19.390625 0 \nL 9.8125 0 \nz\n\" id=\"DejaVuSans-78\"/>\n      <path d=\"M 8.5 21.578125 \nL 8.5 54.6875 \nL 17.484375 54.6875 \nL 17.484375 21.921875 \nQ 17.484375 14.15625 20.5 10.265625 \nQ 23.53125 6.390625 29.59375 6.390625 \nQ 36.859375 6.390625 41.078125 11.03125 \nQ 45.3125 15.671875 45.3125 23.6875 \nL 45.3125 54.6875 \nL 54.296875 54.6875 \nL 54.296875 0 \nL 45.3125 0 \nL 45.3125 8.40625 \nQ 42.046875 3.421875 37.71875 1 \nQ 33.40625 -1.421875 27.6875 -1.421875 \nQ 18.265625 -1.421875 13.375 4.4375 \nQ 8.5 10.296875 8.5 21.578125 \nz\nM 31.109375 56 \nz\nM 37.78125 79.984375 \nL 47.5 79.984375 \nL 31.59375 61.625 \nL 24.109375 61.625 \nz\n\" id=\"DejaVuSans-250\"/>\n      <path d=\"M 52 44.1875 \nQ 55.375 50.25 60.0625 53.125 \nQ 64.75 56 71.09375 56 \nQ 79.640625 56 84.28125 50.015625 \nQ 88.921875 44.046875 88.921875 33.015625 \nL 88.921875 0 \nL 79.890625 0 \nL 79.890625 32.71875 \nQ 79.890625 40.578125 77.09375 44.375 \nQ 74.3125 48.1875 68.609375 48.1875 \nQ 61.625 48.1875 57.5625 43.546875 \nQ 53.515625 38.921875 53.515625 30.90625 \nL 53.515625 0 \nL 44.484375 0 \nL 44.484375 32.71875 \nQ 44.484375 40.625 41.703125 44.40625 \nQ 38.921875 48.1875 33.109375 48.1875 \nQ 26.21875 48.1875 22.15625 43.53125 \nQ 18.109375 38.875 18.109375 30.90625 \nL 18.109375 0 \nL 9.078125 0 \nL 9.078125 54.6875 \nL 18.109375 54.6875 \nL 18.109375 46.1875 \nQ 21.1875 51.21875 25.484375 53.609375 \nQ 29.78125 56 35.6875 56 \nQ 41.65625 56 45.828125 52.96875 \nQ 50 49.953125 52 44.1875 \nz\n\" id=\"DejaVuSans-109\"/>\n      <path d=\"M 56.203125 29.59375 \nL 56.203125 25.203125 \nL 14.890625 25.203125 \nQ 15.484375 15.921875 20.484375 11.0625 \nQ 25.484375 6.203125 34.421875 6.203125 \nQ 39.59375 6.203125 44.453125 7.46875 \nQ 49.3125 8.734375 54.109375 11.28125 \nL 54.109375 2.78125 \nQ 49.265625 0.734375 44.1875 -0.34375 \nQ 39.109375 -1.421875 33.890625 -1.421875 \nQ 20.796875 -1.421875 13.15625 6.1875 \nQ 5.515625 13.8125 5.515625 26.8125 \nQ 5.515625 40.234375 12.765625 48.109375 \nQ 20.015625 56 32.328125 56 \nQ 43.359375 56 49.78125 48.890625 \nQ 56.203125 41.796875 56.203125 29.59375 \nz\nM 47.21875 32.234375 \nQ 47.125 39.59375 43.09375 43.984375 \nQ 39.0625 48.390625 32.421875 48.390625 \nQ 24.90625 48.390625 20.390625 44.140625 \nQ 15.875 39.890625 15.1875 32.171875 \nz\n\" id=\"DejaVuSans-101\"/>\n      <path d=\"M 41.109375 46.296875 \nQ 39.59375 47.171875 37.8125 47.578125 \nQ 36.03125 48 33.890625 48 \nQ 26.265625 48 22.1875 43.046875 \nQ 18.109375 38.09375 18.109375 28.8125 \nL 18.109375 0 \nL 9.078125 0 \nL 9.078125 54.6875 \nL 18.109375 54.6875 \nL 18.109375 46.1875 \nQ 20.953125 51.171875 25.484375 53.578125 \nQ 30.03125 56 36.53125 56 \nQ 37.453125 56 38.578125 55.875 \nQ 39.703125 55.765625 41.0625 55.515625 \nz\n\" id=\"DejaVuSans-114\"/>\n      <path d=\"M 30.609375 48.390625 \nQ 23.390625 48.390625 19.1875 42.75 \nQ 14.984375 37.109375 14.984375 27.296875 \nQ 14.984375 17.484375 19.15625 11.84375 \nQ 23.34375 6.203125 30.609375 6.203125 \nQ 37.796875 6.203125 41.984375 11.859375 \nQ 46.1875 17.53125 46.1875 27.296875 \nQ 46.1875 37.015625 41.984375 42.703125 \nQ 37.796875 48.390625 30.609375 48.390625 \nz\nM 30.609375 56 \nQ 42.328125 56 49.015625 48.375 \nQ 55.71875 40.765625 55.71875 27.296875 \nQ 55.71875 13.875 49.015625 6.21875 \nQ 42.328125 -1.421875 30.609375 -1.421875 \nQ 18.84375 -1.421875 12.171875 6.21875 \nQ 5.515625 13.875 5.515625 27.296875 \nQ 5.515625 40.765625 12.171875 48.375 \nQ 18.84375 56 30.609375 56 \nz\n\" id=\"DejaVuSans-111\"/>\n      <path id=\"DejaVuSans-32\"/>\n      <path d=\"M 45.40625 46.390625 \nL 45.40625 75.984375 \nL 54.390625 75.984375 \nL 54.390625 0 \nL 45.40625 0 \nL 45.40625 8.203125 \nQ 42.578125 3.328125 38.25 0.953125 \nQ 33.9375 -1.421875 27.875 -1.421875 \nQ 17.96875 -1.421875 11.734375 6.484375 \nQ 5.515625 14.40625 5.515625 27.296875 \nQ 5.515625 40.1875 11.734375 48.09375 \nQ 17.96875 56 27.875 56 \nQ 33.9375 56 38.25 53.625 \nQ 42.578125 51.265625 45.40625 46.390625 \nz\nM 14.796875 27.296875 \nQ 14.796875 17.390625 18.875 11.75 \nQ 22.953125 6.109375 30.078125 6.109375 \nQ 37.203125 6.109375 41.296875 11.75 \nQ 45.40625 17.390625 45.40625 27.296875 \nQ 45.40625 37.203125 41.296875 42.84375 \nQ 37.203125 48.484375 30.078125 48.484375 \nQ 22.953125 48.484375 18.875 42.84375 \nQ 14.796875 37.203125 14.796875 27.296875 \nz\n\" id=\"DejaVuSans-100\"/>\n      <path d=\"M 18.3125 70.21875 \nL 18.3125 54.6875 \nL 36.8125 54.6875 \nL 36.8125 47.703125 \nL 18.3125 47.703125 \nL 18.3125 18.015625 \nQ 18.3125 11.328125 20.140625 9.421875 \nQ 21.96875 7.515625 27.59375 7.515625 \nL 36.8125 7.515625 \nL 36.8125 0 \nL 27.59375 0 \nQ 17.1875 0 13.234375 3.875 \nQ 9.28125 7.765625 9.28125 18.015625 \nL 9.28125 47.703125 \nL 2.6875 47.703125 \nL 2.6875 54.6875 \nL 9.28125 54.6875 \nL 9.28125 70.21875 \nz\n\" id=\"DejaVuSans-116\"/>\n      <path d=\"M 44.28125 53.078125 \nL 44.28125 44.578125 \nQ 40.484375 46.53125 36.375 47.5 \nQ 32.28125 48.484375 27.875 48.484375 \nQ 21.1875 48.484375 17.84375 46.4375 \nQ 14.5 44.390625 14.5 40.28125 \nQ 14.5 37.15625 16.890625 35.375 \nQ 19.28125 33.59375 26.515625 31.984375 \nL 29.59375 31.296875 \nQ 39.15625 29.25 43.1875 25.515625 \nQ 47.21875 21.78125 47.21875 15.09375 \nQ 47.21875 7.46875 41.1875 3.015625 \nQ 35.15625 -1.421875 24.609375 -1.421875 \nQ 20.21875 -1.421875 15.453125 -0.5625 \nQ 10.6875 0.296875 5.421875 2 \nL 5.421875 11.28125 \nQ 10.40625 8.6875 15.234375 7.390625 \nQ 20.0625 6.109375 24.8125 6.109375 \nQ 31.15625 6.109375 34.5625 8.28125 \nQ 37.984375 10.453125 37.984375 14.40625 \nQ 37.984375 18.0625 35.515625 20.015625 \nQ 33.0625 21.96875 24.703125 23.78125 \nL 21.578125 24.515625 \nQ 13.234375 26.265625 9.515625 29.90625 \nQ 5.8125 33.546875 5.8125 39.890625 \nQ 5.8125 47.609375 11.28125 51.796875 \nQ 16.75 56 26.8125 56 \nQ 31.78125 56 36.171875 55.265625 \nQ 40.578125 54.546875 44.28125 53.078125 \nz\n\" id=\"DejaVuSans-115\"/>\n     </defs>\n     <g style=\"fill:#262626;\" transform=\"translate(216.730937 273.502187)scale(0.12 -0.12)\">\n      <use xlink:href=\"#DejaVuSans-78\"/>\n      <use x=\"74.804688\" xlink:href=\"#DejaVuSans-250\"/>\n      <use x=\"138.183594\" xlink:href=\"#DejaVuSans-109\"/>\n      <use x=\"235.595703\" xlink:href=\"#DejaVuSans-101\"/>\n      <use x=\"297.119141\" xlink:href=\"#DejaVuSans-114\"/>\n      <use x=\"335.982422\" xlink:href=\"#DejaVuSans-111\"/>\n      <use x=\"397.164062\" xlink:href=\"#DejaVuSans-32\"/>\n      <use x=\"428.951172\" xlink:href=\"#DejaVuSans-100\"/>\n      <use x=\"492.427734\" xlink:href=\"#DejaVuSans-101\"/>\n      <use x=\"553.951172\" xlink:href=\"#DejaVuSans-32\"/>\n      <use x=\"585.738281\" xlink:href=\"#DejaVuSans-109\"/>\n      <use x=\"683.150391\" xlink:href=\"#DejaVuSans-111\"/>\n      <use x=\"744.332031\" xlink:href=\"#DejaVuSans-114\"/>\n      <use x=\"785.445312\" xlink:href=\"#DejaVuSans-116\"/>\n      <use x=\"824.654297\" xlink:href=\"#DejaVuSans-111\"/>\n      <use x=\"885.835938\" xlink:href=\"#DejaVuSans-115\"/>\n     </g>\n    </g>\n   </g>\n   <g id=\"matplotlib.axis_2\">\n    <g id=\"ytick_1\">\n     <g id=\"line2d_6\">\n      <path clip-path=\"url(#p9af5a9a80a)\" d=\"M 49.807188 234.206846 \nL 496.207187 234.206846 \n\" style=\"fill:none;stroke:#ffffff;stroke-linecap:round;\"/>\n     </g>\n     <g id=\"text_7\">\n      <!-- 0.3 -->\n      <defs>\n       <path d=\"M 40.578125 39.3125 \nQ 47.65625 37.796875 51.625 33 \nQ 55.609375 28.21875 55.609375 21.1875 \nQ 55.609375 10.40625 48.1875 4.484375 \nQ 40.765625 -1.421875 27.09375 -1.421875 \nQ 22.515625 -1.421875 17.65625 -0.515625 \nQ 12.796875 0.390625 7.625 2.203125 \nL 7.625 11.71875 \nQ 11.71875 9.328125 16.59375 8.109375 \nQ 21.484375 6.890625 26.8125 6.890625 \nQ 36.078125 6.890625 40.9375 10.546875 \nQ 45.796875 14.203125 45.796875 21.1875 \nQ 45.796875 27.640625 41.28125 31.265625 \nQ 36.765625 34.90625 28.71875 34.90625 \nL 20.21875 34.90625 \nL 20.21875 43.015625 \nL 29.109375 43.015625 \nQ 36.375 43.015625 40.234375 45.921875 \nQ 44.09375 48.828125 44.09375 54.296875 \nQ 44.09375 59.90625 40.109375 62.90625 \nQ 36.140625 65.921875 28.71875 65.921875 \nQ 24.65625 65.921875 20.015625 65.03125 \nQ 15.375 64.15625 9.8125 62.3125 \nL 9.8125 71.09375 \nQ 15.4375 72.65625 20.34375 73.4375 \nQ 25.25 74.21875 29.59375 74.21875 \nQ 40.828125 74.21875 47.359375 69.109375 \nQ 53.90625 64.015625 53.90625 55.328125 \nQ 53.90625 49.265625 50.4375 45.09375 \nQ 46.96875 40.921875 40.578125 39.3125 \nz\n\" id=\"DejaVuSans-51\"/>\n      </defs>\n      <g style=\"fill:#262626;\" transform=\"translate(22.81375 238.385987)scale(0.11 -0.11)\">\n       <use xlink:href=\"#DejaVuSans-48\"/>\n       <use x=\"63.623047\" xlink:href=\"#DejaVuSans-46\"/>\n       <use x=\"95.410156\" xlink:href=\"#DejaVuSans-51\"/>\n      </g>\n     </g>\n    </g>\n    <g id=\"ytick_2\">\n     <g id=\"line2d_7\">\n      <path clip-path=\"url(#p9af5a9a80a)\" d=\"M 49.807188 205.659776 \nL 496.207187 205.659776 \n\" style=\"fill:none;stroke:#ffffff;stroke-linecap:round;\"/>\n     </g>\n     <g id=\"text_8\">\n      <!-- 0.4 -->\n      <g style=\"fill:#262626;\" transform=\"translate(22.81375 209.838917)scale(0.11 -0.11)\">\n       <use xlink:href=\"#DejaVuSans-48\"/>\n       <use x=\"63.623047\" xlink:href=\"#DejaVuSans-46\"/>\n       <use x=\"95.410156\" xlink:href=\"#DejaVuSans-52\"/>\n      </g>\n     </g>\n    </g>\n    <g id=\"ytick_3\">\n     <g id=\"line2d_8\">\n      <path clip-path=\"url(#p9af5a9a80a)\" d=\"M 49.807188 177.112706 \nL 496.207187 177.112706 \n\" style=\"fill:none;stroke:#ffffff;stroke-linecap:round;\"/>\n     </g>\n     <g id=\"text_9\">\n      <!-- 0.5 -->\n      <defs>\n       <path d=\"M 10.796875 72.90625 \nL 49.515625 72.90625 \nL 49.515625 64.59375 \nL 19.828125 64.59375 \nL 19.828125 46.734375 \nQ 21.96875 47.46875 24.109375 47.828125 \nQ 26.265625 48.1875 28.421875 48.1875 \nQ 40.625 48.1875 47.75 41.5 \nQ 54.890625 34.8125 54.890625 23.390625 \nQ 54.890625 11.625 47.5625 5.09375 \nQ 40.234375 -1.421875 26.90625 -1.421875 \nQ 22.3125 -1.421875 17.546875 -0.640625 \nQ 12.796875 0.140625 7.71875 1.703125 \nL 7.71875 11.625 \nQ 12.109375 9.234375 16.796875 8.0625 \nQ 21.484375 6.890625 26.703125 6.890625 \nQ 35.15625 6.890625 40.078125 11.328125 \nQ 45.015625 15.765625 45.015625 23.390625 \nQ 45.015625 31 40.078125 35.4375 \nQ 35.15625 39.890625 26.703125 39.890625 \nQ 22.75 39.890625 18.8125 39.015625 \nQ 14.890625 38.140625 10.796875 36.28125 \nz\n\" id=\"DejaVuSans-53\"/>\n      </defs>\n      <g style=\"fill:#262626;\" transform=\"translate(22.81375 181.291846)scale(0.11 -0.11)\">\n       <use xlink:href=\"#DejaVuSans-48\"/>\n       <use x=\"63.623047\" xlink:href=\"#DejaVuSans-46\"/>\n       <use x=\"95.410156\" xlink:href=\"#DejaVuSans-53\"/>\n      </g>\n     </g>\n    </g>\n    <g id=\"ytick_4\">\n     <g id=\"line2d_9\">\n      <path clip-path=\"url(#p9af5a9a80a)\" d=\"M 49.807188 148.565636 \nL 496.207187 148.565636 \n\" style=\"fill:none;stroke:#ffffff;stroke-linecap:round;\"/>\n     </g>\n     <g id=\"text_10\">\n      <!-- 0.6 -->\n      <g style=\"fill:#262626;\" transform=\"translate(22.81375 152.744776)scale(0.11 -0.11)\">\n       <use xlink:href=\"#DejaVuSans-48\"/>\n       <use x=\"63.623047\" xlink:href=\"#DejaVuSans-46\"/>\n       <use x=\"95.410156\" xlink:href=\"#DejaVuSans-54\"/>\n      </g>\n     </g>\n    </g>\n    <g id=\"ytick_5\">\n     <g id=\"line2d_10\">\n      <path clip-path=\"url(#p9af5a9a80a)\" d=\"M 49.807188 120.018565 \nL 496.207187 120.018565 \n\" style=\"fill:none;stroke:#ffffff;stroke-linecap:round;\"/>\n     </g>\n     <g id=\"text_11\">\n      <!-- 0.7 -->\n      <defs>\n       <path d=\"M 8.203125 72.90625 \nL 55.078125 72.90625 \nL 55.078125 68.703125 \nL 28.609375 0 \nL 18.3125 0 \nL 43.21875 64.59375 \nL 8.203125 64.59375 \nz\n\" id=\"DejaVuSans-55\"/>\n      </defs>\n      <g style=\"fill:#262626;\" transform=\"translate(22.81375 124.197706)scale(0.11 -0.11)\">\n       <use xlink:href=\"#DejaVuSans-48\"/>\n       <use x=\"63.623047\" xlink:href=\"#DejaVuSans-46\"/>\n       <use x=\"95.410156\" xlink:href=\"#DejaVuSans-55\"/>\n      </g>\n     </g>\n    </g>\n    <g id=\"ytick_6\">\n     <g id=\"line2d_11\">\n      <path clip-path=\"url(#p9af5a9a80a)\" d=\"M 49.807188 91.471495 \nL 496.207187 91.471495 \n\" style=\"fill:none;stroke:#ffffff;stroke-linecap:round;\"/>\n     </g>\n     <g id=\"text_12\">\n      <!-- 0.8 -->\n      <g style=\"fill:#262626;\" transform=\"translate(22.81375 95.650636)scale(0.11 -0.11)\">\n       <use xlink:href=\"#DejaVuSans-48\"/>\n       <use x=\"63.623047\" xlink:href=\"#DejaVuSans-46\"/>\n       <use x=\"95.410156\" xlink:href=\"#DejaVuSans-56\"/>\n      </g>\n     </g>\n    </g>\n    <g id=\"ytick_7\">\n     <g id=\"line2d_12\">\n      <path clip-path=\"url(#p9af5a9a80a)\" d=\"M 49.807188 62.924425 \nL 496.207187 62.924425 \n\" style=\"fill:none;stroke:#ffffff;stroke-linecap:round;\"/>\n     </g>\n     <g id=\"text_13\">\n      <!-- 0.9 -->\n      <defs>\n       <path d=\"M 10.984375 1.515625 \nL 10.984375 10.5 \nQ 14.703125 8.734375 18.5 7.8125 \nQ 22.3125 6.890625 25.984375 6.890625 \nQ 35.75 6.890625 40.890625 13.453125 \nQ 46.046875 20.015625 46.78125 33.40625 \nQ 43.953125 29.203125 39.59375 26.953125 \nQ 35.25 24.703125 29.984375 24.703125 \nQ 19.046875 24.703125 12.671875 31.3125 \nQ 6.296875 37.9375 6.296875 49.421875 \nQ 6.296875 60.640625 12.9375 67.421875 \nQ 19.578125 74.21875 30.609375 74.21875 \nQ 43.265625 74.21875 49.921875 64.515625 \nQ 56.59375 54.828125 56.59375 36.375 \nQ 56.59375 19.140625 48.40625 8.859375 \nQ 40.234375 -1.421875 26.421875 -1.421875 \nQ 22.703125 -1.421875 18.890625 -0.6875 \nQ 15.09375 0.046875 10.984375 1.515625 \nz\nM 30.609375 32.421875 \nQ 37.25 32.421875 41.125 36.953125 \nQ 45.015625 41.5 45.015625 49.421875 \nQ 45.015625 57.28125 41.125 61.84375 \nQ 37.25 66.40625 30.609375 66.40625 \nQ 23.96875 66.40625 20.09375 61.84375 \nQ 16.21875 57.28125 16.21875 49.421875 \nQ 16.21875 41.5 20.09375 36.953125 \nQ 23.96875 32.421875 30.609375 32.421875 \nz\n\" id=\"DejaVuSans-57\"/>\n      </defs>\n      <g style=\"fill:#262626;\" transform=\"translate(22.81375 67.103565)scale(0.11 -0.11)\">\n       <use xlink:href=\"#DejaVuSans-48\"/>\n       <use x=\"63.623047\" xlink:href=\"#DejaVuSans-46\"/>\n       <use x=\"95.410156\" xlink:href=\"#DejaVuSans-57\"/>\n      </g>\n     </g>\n    </g>\n    <g id=\"ytick_8\">\n     <g id=\"line2d_13\">\n      <path clip-path=\"url(#p9af5a9a80a)\" d=\"M 49.807188 34.377354 \nL 496.207187 34.377354 \n\" style=\"fill:none;stroke:#ffffff;stroke-linecap:round;\"/>\n     </g>\n     <g id=\"text_14\">\n      <!-- 1.0 -->\n      <defs>\n       <path d=\"M 12.40625 8.296875 \nL 28.515625 8.296875 \nL 28.515625 63.921875 \nL 10.984375 60.40625 \nL 10.984375 69.390625 \nL 28.421875 72.90625 \nL 38.28125 72.90625 \nL 38.28125 8.296875 \nL 54.390625 8.296875 \nL 54.390625 0 \nL 12.40625 0 \nz\n\" id=\"DejaVuSans-49\"/>\n      </defs>\n      <g style=\"fill:#262626;\" transform=\"translate(22.81375 38.556495)scale(0.11 -0.11)\">\n       <use xlink:href=\"#DejaVuSans-49\"/>\n       <use x=\"63.623047\" xlink:href=\"#DejaVuSans-46\"/>\n       <use x=\"95.410156\" xlink:href=\"#DejaVuSans-48\"/>\n      </g>\n     </g>\n    </g>\n    <g id=\"text_15\">\n     <!-- PIB per capta -->\n     <defs>\n      <path d=\"M 19.671875 64.796875 \nL 19.671875 37.40625 \nL 32.078125 37.40625 \nQ 38.96875 37.40625 42.71875 40.96875 \nQ 46.484375 44.53125 46.484375 51.125 \nQ 46.484375 57.671875 42.71875 61.234375 \nQ 38.96875 64.796875 32.078125 64.796875 \nz\nM 9.8125 72.90625 \nL 32.078125 72.90625 \nQ 44.34375 72.90625 50.609375 67.359375 \nQ 56.890625 61.8125 56.890625 51.125 \nQ 56.890625 40.328125 50.609375 34.8125 \nQ 44.34375 29.296875 32.078125 29.296875 \nL 19.671875 29.296875 \nL 19.671875 0 \nL 9.8125 0 \nz\n\" id=\"DejaVuSans-80\"/>\n      <path d=\"M 9.8125 72.90625 \nL 19.671875 72.90625 \nL 19.671875 0 \nL 9.8125 0 \nz\n\" id=\"DejaVuSans-73\"/>\n      <path d=\"M 19.671875 34.8125 \nL 19.671875 8.109375 \nL 35.5 8.109375 \nQ 43.453125 8.109375 47.28125 11.40625 \nQ 51.125 14.703125 51.125 21.484375 \nQ 51.125 28.328125 47.28125 31.5625 \nQ 43.453125 34.8125 35.5 34.8125 \nz\nM 19.671875 64.796875 \nL 19.671875 42.828125 \nL 34.28125 42.828125 \nQ 41.5 42.828125 45.03125 45.53125 \nQ 48.578125 48.25 48.578125 53.8125 \nQ 48.578125 59.328125 45.03125 62.0625 \nQ 41.5 64.796875 34.28125 64.796875 \nz\nM 9.8125 72.90625 \nL 35.015625 72.90625 \nQ 46.296875 72.90625 52.390625 68.21875 \nQ 58.5 63.53125 58.5 54.890625 \nQ 58.5 48.1875 55.375 44.234375 \nQ 52.25 40.28125 46.1875 39.3125 \nQ 53.46875 37.75 57.5 32.78125 \nQ 61.53125 27.828125 61.53125 20.40625 \nQ 61.53125 10.640625 54.890625 5.3125 \nQ 48.25 0 35.984375 0 \nL 9.8125 0 \nz\n\" id=\"DejaVuSans-66\"/>\n      <path d=\"M 18.109375 8.203125 \nL 18.109375 -20.796875 \nL 9.078125 -20.796875 \nL 9.078125 54.6875 \nL 18.109375 54.6875 \nL 18.109375 46.390625 \nQ 20.953125 51.265625 25.265625 53.625 \nQ 29.59375 56 35.59375 56 \nQ 45.5625 56 51.78125 48.09375 \nQ 58.015625 40.1875 58.015625 27.296875 \nQ 58.015625 14.40625 51.78125 6.484375 \nQ 45.5625 -1.421875 35.59375 -1.421875 \nQ 29.59375 -1.421875 25.265625 0.953125 \nQ 20.953125 3.328125 18.109375 8.203125 \nz\nM 48.6875 27.296875 \nQ 48.6875 37.203125 44.609375 42.84375 \nQ 40.53125 48.484375 33.40625 48.484375 \nQ 26.265625 48.484375 22.1875 42.84375 \nQ 18.109375 37.203125 18.109375 27.296875 \nQ 18.109375 17.390625 22.1875 11.75 \nQ 26.265625 6.109375 33.40625 6.109375 \nQ 40.53125 6.109375 44.609375 11.75 \nQ 48.6875 17.390625 48.6875 27.296875 \nz\n\" id=\"DejaVuSans-112\"/>\n      <path d=\"M 48.78125 52.59375 \nL 48.78125 44.1875 \nQ 44.96875 46.296875 41.140625 47.34375 \nQ 37.3125 48.390625 33.40625 48.390625 \nQ 24.65625 48.390625 19.8125 42.84375 \nQ 14.984375 37.3125 14.984375 27.296875 \nQ 14.984375 17.28125 19.8125 11.734375 \nQ 24.65625 6.203125 33.40625 6.203125 \nQ 37.3125 6.203125 41.140625 7.25 \nQ 44.96875 8.296875 48.78125 10.40625 \nL 48.78125 2.09375 \nQ 45.015625 0.34375 40.984375 -0.53125 \nQ 36.96875 -1.421875 32.421875 -1.421875 \nQ 20.0625 -1.421875 12.78125 6.34375 \nQ 5.515625 14.109375 5.515625 27.296875 \nQ 5.515625 40.671875 12.859375 48.328125 \nQ 20.21875 56 33.015625 56 \nQ 37.15625 56 41.109375 55.140625 \nQ 45.0625 54.296875 48.78125 52.59375 \nz\n\" id=\"DejaVuSans-99\"/>\n      <path d=\"M 34.28125 27.484375 \nQ 23.390625 27.484375 19.1875 25 \nQ 14.984375 22.515625 14.984375 16.5 \nQ 14.984375 11.71875 18.140625 8.90625 \nQ 21.296875 6.109375 26.703125 6.109375 \nQ 34.1875 6.109375 38.703125 11.40625 \nQ 43.21875 16.703125 43.21875 25.484375 \nL 43.21875 27.484375 \nz\nM 52.203125 31.203125 \nL 52.203125 0 \nL 43.21875 0 \nL 43.21875 8.296875 \nQ 40.140625 3.328125 35.546875 0.953125 \nQ 30.953125 -1.421875 24.3125 -1.421875 \nQ 15.921875 -1.421875 10.953125 3.296875 \nQ 6 8.015625 6 15.921875 \nQ 6 25.140625 12.171875 29.828125 \nQ 18.359375 34.515625 30.609375 34.515625 \nL 43.21875 34.515625 \nL 43.21875 35.40625 \nQ 43.21875 41.609375 39.140625 45 \nQ 35.0625 48.390625 27.6875 48.390625 \nQ 23 48.390625 18.546875 47.265625 \nQ 14.109375 46.140625 10.015625 43.890625 \nL 10.015625 52.203125 \nQ 14.9375 54.109375 19.578125 55.046875 \nQ 24.21875 56 28.609375 56 \nQ 40.484375 56 46.34375 49.84375 \nQ 52.203125 43.703125 52.203125 31.203125 \nz\n\" id=\"DejaVuSans-97\"/>\n     </defs>\n     <g style=\"fill:#262626;\" transform=\"translate(16.318125 171.617813)rotate(-90)scale(0.12 -0.12)\">\n      <use xlink:href=\"#DejaVuSans-80\"/>\n      <use x=\"60.302734\" xlink:href=\"#DejaVuSans-73\"/>\n      <use x=\"89.794922\" xlink:href=\"#DejaVuSans-66\"/>\n      <use x=\"158.398438\" xlink:href=\"#DejaVuSans-32\"/>\n      <use x=\"190.185547\" xlink:href=\"#DejaVuSans-112\"/>\n      <use x=\"253.662109\" xlink:href=\"#DejaVuSans-101\"/>\n      <use x=\"315.185547\" xlink:href=\"#DejaVuSans-114\"/>\n      <use x=\"356.298828\" xlink:href=\"#DejaVuSans-32\"/>\n      <use x=\"388.085938\" xlink:href=\"#DejaVuSans-99\"/>\n      <use x=\"443.066406\" xlink:href=\"#DejaVuSans-97\"/>\n      <use x=\"504.345703\" xlink:href=\"#DejaVuSans-112\"/>\n      <use x=\"567.822266\" xlink:href=\"#DejaVuSans-116\"/>\n      <use x=\"607.03125\" xlink:href=\"#DejaVuSans-97\"/>\n     </g>\n    </g>\n   </g>\n   <g id=\"PathCollection_1\">\n    <defs>\n     <path d=\"M 0 3 \nC 0.795609 3 1.55874 2.683901 2.12132 2.12132 \nC 2.683901 1.55874 3 0.795609 3 0 \nC 3 -0.795609 2.683901 -1.55874 2.12132 -2.12132 \nC 1.55874 -2.683901 0.795609 -3 0 -3 \nC -0.795609 -3 -1.55874 -2.683901 -2.12132 -2.12132 \nC -2.683901 -1.55874 -3 -0.795609 -3 0 \nC -3 0.795609 -2.683901 1.55874 -2.12132 2.12132 \nC -1.55874 2.683901 -0.795609 3 0 3 \nz\n\" id=\"md7bbf31581\" style=\"stroke:#4c72b0;stroke-opacity:0.8;\"/>\n    </defs>\n    <g clip-path=\"url(#p9af5a9a80a)\">\n     <use style=\"fill:#4c72b0;fill-opacity:0.8;stroke:#4c72b0;stroke-opacity:0.8;\" x=\"475.29852\" xlink:href=\"#md7bbf31581\" y=\"198.473952\"/>\n     <use style=\"fill:#4c72b0;fill-opacity:0.8;stroke:#4c72b0;stroke-opacity:0.8;\" x=\"496.207187\" xlink:href=\"#md7bbf31581\" y=\"230.354489\"/>\n     <use style=\"fill:#4c72b0;fill-opacity:0.8;stroke:#4c72b0;stroke-opacity:0.8;\" x=\"174.768987\" xlink:href=\"#md7bbf31581\" y=\"44.647899\"/>\n     <use style=\"fill:#4c72b0;fill-opacity:0.8;stroke:#4c72b0;stroke-opacity:0.8;\" x=\"435.119535\" xlink:href=\"#md7bbf31581\" y=\"156.309214\"/>\n     <use style=\"fill:#4c72b0;fill-opacity:0.8;stroke:#4c72b0;stroke-opacity:0.8;\" x=\"389.916204\" xlink:href=\"#md7bbf31581\" y=\"122.776447\"/>\n     <use style=\"fill:#4c72b0;fill-opacity:0.8;stroke:#4c72b0;stroke-opacity:0.8;\" x=\"353.79414\" xlink:href=\"#md7bbf31581\" y=\"102.093886\"/>\n     <use style=\"fill:#4c72b0;fill-opacity:0.8;stroke:#4c72b0;stroke-opacity:0.8;\" x=\"377.793244\" xlink:href=\"#md7bbf31581\" y=\"115.339047\"/>\n     <use style=\"fill:#4c72b0;fill-opacity:0.8;stroke:#4c72b0;stroke-opacity:0.8;\" x=\"270.283185\" xlink:href=\"#md7bbf31581\" y=\"67.72092\"/>\n     <use style=\"fill:#4c72b0;fill-opacity:0.8;stroke:#4c72b0;stroke-opacity:0.8;\" x=\"139.46009\" xlink:href=\"#md7bbf31581\" y=\"39.616832\"/>\n     <use style=\"fill:#4c72b0;fill-opacity:0.8;stroke:#4c72b0;stroke-opacity:0.8;\" x=\"245.375617\" xlink:href=\"#md7bbf31581\" y=\"60.25327\"/>\n     <use style=\"fill:#4c72b0;fill-opacity:0.8;stroke:#4c72b0;stroke-opacity:0.8;\" x=\"137.864949\" xlink:href=\"#md7bbf31581\" y=\"39.430379\"/>\n     <use style=\"fill:#4c72b0;fill-opacity:0.8;stroke:#4c72b0;stroke-opacity:0.8;\" x=\"113.25136\" xlink:href=\"#md7bbf31581\" y=\"36.989095\"/>\n     <use style=\"fill:#4c72b0;fill-opacity:0.8;stroke:#4c72b0;stroke-opacity:0.8;\" x=\"334.609552\" xlink:href=\"#md7bbf31581\" y=\"92.730678\"/>\n     <use style=\"fill:#4c72b0;fill-opacity:0.8;stroke:#4c72b0;stroke-opacity:0.8;\" x=\"377.672887\" xlink:href=\"#md7bbf31581\" y=\"115.267892\"/>\n     <use style=\"fill:#4c72b0;fill-opacity:0.8;stroke:#4c72b0;stroke-opacity:0.8;\" x=\"267.596256\" xlink:href=\"#md7bbf31581\" y=\"66.861212\"/>\n     <use style=\"fill:#4c72b0;fill-opacity:0.8;stroke:#4c72b0;stroke-opacity:0.8;\" x=\"58.738745\" xlink:href=\"#md7bbf31581\" y=\"34.428883\"/>\n     <use style=\"fill:#4c72b0;fill-opacity:0.8;stroke:#4c72b0;stroke-opacity:0.8;\" x=\"134.955947\" xlink:href=\"#md7bbf31581\" y=\"39.099276\"/>\n     <use style=\"fill:#4c72b0;fill-opacity:0.8;stroke:#4c72b0;stroke-opacity:0.8;\" x=\"194.384946\" xlink:href=\"#md7bbf31581\" y=\"48.213419\"/>\n     <use style=\"fill:#4c72b0;fill-opacity:0.8;stroke:#4c72b0;stroke-opacity:0.8;\" x=\"186.111969\" xlink:href=\"#md7bbf31581\" y=\"46.640657\"/>\n     <use style=\"fill:#4c72b0;fill-opacity:0.8;stroke:#4c72b0;stroke-opacity:0.8;\" x=\"50.088597\" xlink:href=\"#md7bbf31581\" y=\"34.377406\"/>\n     <use style=\"fill:#4c72b0;fill-opacity:0.8;stroke:#4c72b0;stroke-opacity:0.8;\" x=\"103.85515\" xlink:href=\"#md7bbf31581\" y=\"36.27038\"/>\n     <use style=\"fill:#4c72b0;fill-opacity:0.8;stroke:#4c72b0;stroke-opacity:0.8;\" x=\"153.529435\" xlink:href=\"#md7bbf31581\" y=\"41.412676\"/>\n     <use style=\"fill:#4c72b0;fill-opacity:0.8;stroke:#4c72b0;stroke-opacity:0.8;\" x=\"58.102719\" xlink:href=\"#md7bbf31581\" y=\"34.421805\"/>\n     <use style=\"fill:#4c72b0;fill-opacity:0.8;stroke:#4c72b0;stroke-opacity:0.8;\" x=\"98.349101\" xlink:href=\"#md7bbf31581\" y=\"35.903344\"/>\n     <use style=\"fill:#4c72b0;fill-opacity:0.8;stroke:#4c72b0;stroke-opacity:0.8;\" x=\"105.865887\" xlink:href=\"#md7bbf31581\" y=\"36.414367\"/>\n     <use style=\"fill:#4c72b0;fill-opacity:0.8;stroke:#4c72b0;stroke-opacity:0.8;\" x=\"108.096029\" xlink:href=\"#md7bbf31581\" y=\"36.580307\"/>\n     <use style=\"fill:#4c72b0;fill-opacity:0.8;stroke:#4c72b0;stroke-opacity:0.8;\" x=\"211.418244\" xlink:href=\"#md7bbf31581\" y=\"51.776928\"/>\n     <use style=\"fill:#4c72b0;fill-opacity:0.8;stroke:#4c72b0;stroke-opacity:0.8;\" x=\"115.286881\" xlink:href=\"#md7bbf31581\" y=\"37.16021\"/>\n     <use style=\"fill:#4c72b0;fill-opacity:0.8;stroke:#4c72b0;stroke-opacity:0.8;\" x=\"51.819075\" xlink:href=\"#md7bbf31581\" y=\"34.379969\"/>\n     <use style=\"fill:#4c72b0;fill-opacity:0.8;stroke:#4c72b0;stroke-opacity:0.8;\" x=\"49.950082\" xlink:href=\"#md7bbf31581\" y=\"34.377368\"/>\n     <use style=\"fill:#4c72b0;fill-opacity:0.8;stroke:#4c72b0;stroke-opacity:0.8;\" x=\"136.165906\" xlink:href=\"#md7bbf31581\" y=\"39.235595\"/>\n     <use style=\"fill:#4c72b0;fill-opacity:0.8;stroke:#4c72b0;stroke-opacity:0.8;\" x=\"75.21262\" xlink:href=\"#md7bbf31581\" y=\"34.794537\"/>\n     <use style=\"fill:#4c72b0;fill-opacity:0.8;stroke:#4c72b0;stroke-opacity:0.8;\" x=\"51.880372\" xlink:href=\"#md7bbf31581\" y=\"34.38013\"/>\n     <use style=\"fill:#4c72b0;fill-opacity:0.8;stroke:#4c72b0;stroke-opacity:0.8;\" x=\"63.525109\" xlink:href=\"#md7bbf31581\" y=\"34.498924\"/>\n     <use style=\"fill:#4c72b0;fill-opacity:0.8;stroke:#4c72b0;stroke-opacity:0.8;\" x=\"101.887117\" xlink:href=\"#md7bbf31581\" y=\"36.13461\"/>\n     <use style=\"fill:#4c72b0;fill-opacity:0.8;stroke:#4c72b0;stroke-opacity:0.8;\" x=\"70.023572\" xlink:href=\"#md7bbf31581\" y=\"34.641451\"/>\n     <use style=\"fill:#4c72b0;fill-opacity:0.8;stroke:#4c72b0;stroke-opacity:0.8;\" x=\"71.151309\" xlink:href=\"#md7bbf31581\" y=\"34.671753\"/>\n     <use style=\"fill:#4c72b0;fill-opacity:0.8;stroke:#4c72b0;stroke-opacity:0.8;\" x=\"115.592742\" xlink:href=\"#md7bbf31581\" y=\"37.186398\"/>\n     <use style=\"fill:#4c72b0;fill-opacity:0.8;stroke:#4c72b0;stroke-opacity:0.8;\" x=\"61.706737\" xlink:href=\"#md7bbf31581\" y=\"34.468826\"/>\n     <use style=\"fill:#4c72b0;fill-opacity:0.8;stroke:#4c72b0;stroke-opacity:0.8;\" x=\"163.823389\" xlink:href=\"#md7bbf31581\" y=\"42.900913\"/>\n     <use style=\"fill:#4c72b0;fill-opacity:0.8;stroke:#4c72b0;stroke-opacity:0.8;\" x=\"68.37012\" xlink:href=\"#md7bbf31581\" y=\"34.600002\"/>\n     <use style=\"fill:#4c72b0;fill-opacity:0.8;stroke:#4c72b0;stroke-opacity:0.8;\" x=\"51.033179\" xlink:href=\"#md7bbf31581\" y=\"34.378325\"/>\n     <use style=\"fill:#4c72b0;fill-opacity:0.8;stroke:#4c72b0;stroke-opacity:0.8;\" x=\"77.806133\" xlink:href=\"#md7bbf31581\" y=\"34.88414\"/>\n     <use style=\"fill:#4c72b0;fill-opacity:0.8;stroke:#4c72b0;stroke-opacity:0.8;\" x=\"58.862477\" xlink:href=\"#md7bbf31581\" y=\"34.430321\"/>\n     <use style=\"fill:#4c72b0;fill-opacity:0.8;stroke:#4c72b0;stroke-opacity:0.8;\" x=\"54.063561\" xlink:href=\"#md7bbf31581\" y=\"34.389056\"/>\n     <use style=\"fill:#4c72b0;fill-opacity:0.8;stroke:#4c72b0;stroke-opacity:0.8;\" x=\"66.273318\" xlink:href=\"#md7bbf31581\" y=\"34.552529\"/>\n     <use style=\"fill:#4c72b0;fill-opacity:0.8;stroke:#4c72b0;stroke-opacity:0.8;\" x=\"50.230692\" xlink:href=\"#md7bbf31581\" y=\"34.37747\"/>\n     <use style=\"fill:#4c72b0;fill-opacity:0.8;stroke:#4c72b0;stroke-opacity:0.8;\" x=\"89.601961\" xlink:href=\"#md7bbf31581\" y=\"35.402033\"/>\n     <use style=\"fill:#4c72b0;fill-opacity:0.8;stroke:#4c72b0;stroke-opacity:0.8;\" x=\"60.95317\" xlink:href=\"#md7bbf31581\" y=\"34.457606\"/>\n     <use style=\"fill:#4c72b0;fill-opacity:0.8;stroke:#4c72b0;stroke-opacity:0.8;\" x=\"56.810797\" xlink:href=\"#md7bbf31581\" y=\"34.409037\"/>\n     <use style=\"fill:#4c72b0;fill-opacity:0.8;stroke:#4c72b0;stroke-opacity:0.8;\" x=\"63.923681\" xlink:href=\"#md7bbf31581\" y=\"34.506092\"/>\n     <use style=\"fill:#4c72b0;fill-opacity:0.8;stroke:#4c72b0;stroke-opacity:0.8;\" x=\"85.543397\" xlink:href=\"#md7bbf31581\" y=\"35.203395\"/>\n     <use style=\"fill:#4c72b0;fill-opacity:0.8;stroke:#4c72b0;stroke-opacity:0.8;\" x=\"51.233757\" xlink:href=\"#md7bbf31581\" y=\"34.378669\"/>\n     <use style=\"fill:#4c72b0;fill-opacity:0.8;stroke:#4c72b0;stroke-opacity:0.8;\" x=\"58.271593\" xlink:href=\"#md7bbf31581\" y=\"34.423633\"/>\n     <use style=\"fill:#4c72b0;fill-opacity:0.8;stroke:#4c72b0;stroke-opacity:0.8;\" x=\"55.818546\" xlink:href=\"#md7bbf31581\" y=\"34.400695\"/>\n     <use style=\"fill:#4c72b0;fill-opacity:0.8;stroke:#4c72b0;stroke-opacity:0.8;\" x=\"53.430423\" xlink:href=\"#md7bbf31581\" y=\"34.385834\"/>\n     <use style=\"fill:#4c72b0;fill-opacity:0.8;stroke:#4c72b0;stroke-opacity:0.8;\" x=\"85.751724\" xlink:href=\"#md7bbf31581\" y=\"35.213068\"/>\n     <use style=\"fill:#4c72b0;fill-opacity:0.8;stroke:#4c72b0;stroke-opacity:0.8;\" x=\"55.477796\" xlink:href=\"#md7bbf31581\" y=\"34.398124\"/>\n     <use style=\"fill:#4c72b0;fill-opacity:0.8;stroke:#4c72b0;stroke-opacity:0.8;\" x=\"75.446584\" xlink:href=\"#md7bbf31581\" y=\"34.802262\"/>\n     <use style=\"fill:#4c72b0;fill-opacity:0.8;stroke:#4c72b0;stroke-opacity:0.8;\" x=\"54.550324\" xlink:href=\"#md7bbf31581\" y=\"34.391885\"/>\n     <use style=\"fill:#4c72b0;fill-opacity:0.8;stroke:#4c72b0;stroke-opacity:0.8;\" x=\"88.098455\" xlink:href=\"#md7bbf31581\" y=\"35.325941\"/>\n     <use style=\"fill:#4c72b0;fill-opacity:0.8;stroke:#4c72b0;stroke-opacity:0.8;\" x=\"53.218456\" xlink:href=\"#md7bbf31581\" y=\"34.384871\"/>\n     <use style=\"fill:#4c72b0;fill-opacity:0.8;stroke:#4c72b0;stroke-opacity:0.8;\" x=\"73.018376\" xlink:href=\"#md7bbf31581\" y=\"34.725543\"/>\n     <use style=\"fill:#4c72b0;fill-opacity:0.8;stroke:#4c72b0;stroke-opacity:0.8;\" x=\"63.11655\" xlink:href=\"#md7bbf31581\" y=\"34.491789\"/>\n     <use style=\"fill:#4c72b0;fill-opacity:0.8;stroke:#4c72b0;stroke-opacity:0.8;\" x=\"51.562785\" xlink:href=\"#md7bbf31581\" y=\"34.379345\"/>\n     <use style=\"fill:#4c72b0;fill-opacity:0.8;stroke:#4c72b0;stroke-opacity:0.8;\" x=\"81.819199\" xlink:href=\"#md7bbf31581\" y=\"35.040007\"/>\n     <use style=\"fill:#4c72b0;fill-opacity:0.8;stroke:#4c72b0;stroke-opacity:0.8;\" x=\"51.91144\" xlink:href=\"#md7bbf31581\" y=\"34.380214\"/>\n     <use style=\"fill:#4c72b0;fill-opacity:0.8;stroke:#4c72b0;stroke-opacity:0.8;\" x=\"50.881123\" xlink:href=\"#md7bbf31581\" y=\"34.378099\"/>\n     <use style=\"fill:#4c72b0;fill-opacity:0.8;stroke:#4c72b0;stroke-opacity:0.8;\" x=\"53.571488\" xlink:href=\"#md7bbf31581\" y=\"34.386507\"/>\n     <use style=\"fill:#4c72b0;fill-opacity:0.8;stroke:#4c72b0;stroke-opacity:0.8;\" x=\"95.167571\" xlink:href=\"#md7bbf31581\" y=\"35.709413\"/>\n     <use style=\"fill:#4c72b0;fill-opacity:0.8;stroke:#4c72b0;stroke-opacity:0.8;\" x=\"51.76565\" xlink:href=\"#md7bbf31581\" y=\"34.379832\"/>\n     <use style=\"fill:#4c72b0;fill-opacity:0.8;stroke:#4c72b0;stroke-opacity:0.8;\" x=\"53.271046\" xlink:href=\"#md7bbf31581\" y=\"34.385104\"/>\n     <use style=\"fill:#4c72b0;fill-opacity:0.8;stroke:#4c72b0;stroke-opacity:0.8;\" x=\"61.220518\" xlink:href=\"#md7bbf31581\" y=\"34.461502\"/>\n     <use style=\"fill:#4c72b0;fill-opacity:0.8;stroke:#4c72b0;stroke-opacity:0.8;\" x=\"51.235568\" xlink:href=\"#md7bbf31581\" y=\"34.378672\"/>\n     <use style=\"fill:#4c72b0;fill-opacity:0.8;stroke:#4c72b0;stroke-opacity:0.8;\" x=\"57.919748\" xlink:href=\"#md7bbf31581\" y=\"34.419866\"/>\n     <use style=\"fill:#4c72b0;fill-opacity:0.8;stroke:#4c72b0;stroke-opacity:0.8;\" x=\"55.681308\" xlink:href=\"#md7bbf31581\" y=\"34.399642\"/>\n     <use style=\"fill:#4c72b0;fill-opacity:0.8;stroke:#4c72b0;stroke-opacity:0.8;\" x=\"110.377436\" xlink:href=\"#md7bbf31581\" y=\"36.756866\"/>\n     <use style=\"fill:#4c72b0;fill-opacity:0.8;stroke:#4c72b0;stroke-opacity:0.8;\" x=\"55.686106\" xlink:href=\"#md7bbf31581\" y=\"34.399678\"/>\n     <use style=\"fill:#4c72b0;fill-opacity:0.8;stroke:#4c72b0;stroke-opacity:0.8;\" x=\"56.930625\" xlink:href=\"#md7bbf31581\" y=\"34.410131\"/>\n     <use style=\"fill:#4c72b0;fill-opacity:0.8;stroke:#4c72b0;stroke-opacity:0.8;\" x=\"69.694626\" xlink:href=\"#md7bbf31581\" y=\"34.632923\"/>\n     <use style=\"fill:#4c72b0;fill-opacity:0.8;stroke:#4c72b0;stroke-opacity:0.8;\" x=\"59.618662\" xlink:href=\"#md7bbf31581\" y=\"34.439537\"/>\n     <use style=\"fill:#4c72b0;fill-opacity:0.8;stroke:#4c72b0;stroke-opacity:0.8;\" x=\"50.355679\" xlink:href=\"#md7bbf31581\" y=\"34.377549\"/>\n     <use style=\"fill:#4c72b0;fill-opacity:0.8;stroke:#4c72b0;stroke-opacity:0.8;\" x=\"56.224567\" xlink:href=\"#md7bbf31581\" y=\"34.403955\"/>\n     <use style=\"fill:#4c72b0;fill-opacity:0.8;stroke:#4c72b0;stroke-opacity:0.8;\" x=\"54.448336\" xlink:href=\"#md7bbf31581\" y=\"34.391267\"/>\n     <use style=\"fill:#4c72b0;fill-opacity:0.8;stroke:#4c72b0;stroke-opacity:0.8;\" x=\"50.460005\" xlink:href=\"#md7bbf31581\" y=\"34.37763\"/>\n     <use style=\"fill:#4c72b0;fill-opacity:0.8;stroke:#4c72b0;stroke-opacity:0.8;\" x=\"65.504852\" xlink:href=\"#md7bbf31581\" y=\"34.536556\"/>\n     <use style=\"fill:#4c72b0;fill-opacity:0.8;stroke:#4c72b0;stroke-opacity:0.8;\" x=\"54.162733\" xlink:href=\"#md7bbf31581\" y=\"34.389608\"/>\n     <use style=\"fill:#4c72b0;fill-opacity:0.8;stroke:#4c72b0;stroke-opacity:0.8;\" x=\"64.745571\" xlink:href=\"#md7bbf31581\" y=\"34.521524\"/>\n     <use style=\"fill:#4c72b0;fill-opacity:0.8;stroke:#4c72b0;stroke-opacity:0.8;\" x=\"51.482212\" xlink:href=\"#md7bbf31581\" y=\"34.379167\"/>\n     <use style=\"fill:#4c72b0;fill-opacity:0.8;stroke:#4c72b0;stroke-opacity:0.8;\" x=\"53.307804\" xlink:href=\"#md7bbf31581\" y=\"34.385269\"/>\n     <use style=\"fill:#4c72b0;fill-opacity:0.8;stroke:#4c72b0;stroke-opacity:0.8;\" x=\"50.48096\" xlink:href=\"#md7bbf31581\" y=\"34.377648\"/>\n     <use style=\"fill:#4c72b0;fill-opacity:0.8;stroke:#4c72b0;stroke-opacity:0.8;\" x=\"56.348009\" xlink:href=\"#md7bbf31581\" y=\"34.404988\"/>\n     <use style=\"fill:#4c72b0;fill-opacity:0.8;stroke:#4c72b0;stroke-opacity:0.8;\" x=\"53.547377\" xlink:href=\"#md7bbf31581\" y=\"34.38639\"/>\n     <use style=\"fill:#4c72b0;fill-opacity:0.8;stroke:#4c72b0;stroke-opacity:0.8;\" x=\"52.025994\" xlink:href=\"#md7bbf31581\" y=\"34.380534\"/>\n     <use style=\"fill:#4c72b0;fill-opacity:0.8;stroke:#4c72b0;stroke-opacity:0.8;\" x=\"54.783443\" xlink:href=\"#md7bbf31581\" y=\"34.393349\"/>\n     <use style=\"fill:#4c72b0;fill-opacity:0.8;stroke:#4c72b0;stroke-opacity:0.8;\" x=\"50.054874\" xlink:href=\"#md7bbf31581\" y=\"34.377394\"/>\n     <use style=\"fill:#4c72b0;fill-opacity:0.8;stroke:#4c72b0;stroke-opacity:0.8;\" x=\"50.907434\" xlink:href=\"#md7bbf31581\" y=\"34.378136\"/>\n     <use style=\"fill:#4c72b0;fill-opacity:0.8;stroke:#4c72b0;stroke-opacity:0.8;\" x=\"50.250331\" xlink:href=\"#md7bbf31581\" y=\"34.377481\"/>\n     <use style=\"fill:#4c72b0;fill-opacity:0.8;stroke:#4c72b0;stroke-opacity:0.8;\" x=\"49.908321\" xlink:href=\"#md7bbf31581\" y=\"34.377361\"/>\n     <use style=\"fill:#4c72b0;fill-opacity:0.8;stroke:#4c72b0;stroke-opacity:0.8;\" x=\"74.046366\" xlink:href=\"#md7bbf31581\" y=\"34.757089\"/>\n     <use style=\"fill:#4c72b0;fill-opacity:0.8;stroke:#4c72b0;stroke-opacity:0.8;\" x=\"51.001365\" xlink:href=\"#md7bbf31581\" y=\"34.378275\"/>\n     <use style=\"fill:#4c72b0;fill-opacity:0.8;stroke:#4c72b0;stroke-opacity:0.8;\" x=\"57.891051\" xlink:href=\"#md7bbf31581\" y=\"34.419565\"/>\n     <use style=\"fill:#4c72b0;fill-opacity:0.8;stroke:#4c72b0;stroke-opacity:0.8;\" x=\"50.170548\" xlink:href=\"#md7bbf31581\" y=\"34.37744\"/>\n     <use style=\"fill:#4c72b0;fill-opacity:0.8;stroke:#4c72b0;stroke-opacity:0.8;\" x=\"54.665641\" xlink:href=\"#md7bbf31581\" y=\"34.392601\"/>\n     <use style=\"fill:#4c72b0;fill-opacity:0.8;stroke:#4c72b0;stroke-opacity:0.8;\" x=\"50.243688\" xlink:href=\"#md7bbf31581\" y=\"34.377477\"/>\n     <use style=\"fill:#4c72b0;fill-opacity:0.8;stroke:#4c72b0;stroke-opacity:0.8;\" x=\"51.439002\" xlink:href=\"#md7bbf31581\" y=\"34.379074\"/>\n     <use style=\"fill:#4c72b0;fill-opacity:0.8;stroke:#4c72b0;stroke-opacity:0.8;\" x=\"51.24096\" xlink:href=\"#md7bbf31581\" y=\"34.378682\"/>\n     <use style=\"fill:#4c72b0;fill-opacity:0.8;stroke:#4c72b0;stroke-opacity:0.8;\" x=\"54.360198\" xlink:href=\"#md7bbf31581\" y=\"34.390744\"/>\n     <use style=\"fill:#4c72b0;fill-opacity:0.8;stroke:#4c72b0;stroke-opacity:0.8;\" x=\"50.932529\" xlink:href=\"#md7bbf31581\" y=\"34.378172\"/>\n     <use style=\"fill:#4c72b0;fill-opacity:0.8;stroke:#4c72b0;stroke-opacity:0.8;\" x=\"59.474619\" xlink:href=\"#md7bbf31581\" y=\"34.437725\"/>\n     <use style=\"fill:#4c72b0;fill-opacity:0.8;stroke:#4c72b0;stroke-opacity:0.8;\" x=\"51.342845\" xlink:href=\"#md7bbf31581\" y=\"34.378878\"/>\n     <use style=\"fill:#4c72b0;fill-opacity:0.8;stroke:#4c72b0;stroke-opacity:0.8;\" x=\"51.081419\" xlink:href=\"#md7bbf31581\" y=\"34.378403\"/>\n     <use style=\"fill:#4c72b0;fill-opacity:0.8;stroke:#4c72b0;stroke-opacity:0.8;\" x=\"50.056743\" xlink:href=\"#md7bbf31581\" y=\"34.377395\"/>\n     <use style=\"fill:#4c72b0;fill-opacity:0.8;stroke:#4c72b0;stroke-opacity:0.8;\" x=\"50.393011\" xlink:href=\"#md7bbf31581\" y=\"34.377576\"/>\n     <use style=\"fill:#4c72b0;fill-opacity:0.8;stroke:#4c72b0;stroke-opacity:0.8;\" x=\"53.125972\" xlink:href=\"#md7bbf31581\" y=\"34.384468\"/>\n     <use style=\"fill:#4c72b0;fill-opacity:0.8;stroke:#4c72b0;stroke-opacity:0.8;\" x=\"50.093786\" xlink:href=\"#md7bbf31581\" y=\"34.377407\"/>\n     <use style=\"fill:#4c72b0;fill-opacity:0.8;stroke:#4c72b0;stroke-opacity:0.8;\" x=\"67.040062\" xlink:href=\"#md7bbf31581\" y=\"34.569229\"/>\n     <use style=\"fill:#4c72b0;fill-opacity:0.8;stroke:#4c72b0;stroke-opacity:0.8;\" x=\"50.332355\" xlink:href=\"#md7bbf31581\" y=\"34.377533\"/>\n     <use style=\"fill:#4c72b0;fill-opacity:0.8;stroke:#4c72b0;stroke-opacity:0.8;\" x=\"51.930325\" xlink:href=\"#md7bbf31581\" y=\"34.380266\"/>\n     <use style=\"fill:#4c72b0;fill-opacity:0.8;stroke:#4c72b0;stroke-opacity:0.8;\" x=\"50.068231\" xlink:href=\"#md7bbf31581\" y=\"34.377398\"/>\n     <use style=\"fill:#4c72b0;fill-opacity:0.8;stroke:#4c72b0;stroke-opacity:0.8;\" x=\"83.228285\" xlink:href=\"#md7bbf31581\" y=\"35.099703\"/>\n     <use style=\"fill:#4c72b0;fill-opacity:0.8;stroke:#4c72b0;stroke-opacity:0.8;\" x=\"50.31464\" xlink:href=\"#md7bbf31581\" y=\"34.377521\"/>\n     <use style=\"fill:#4c72b0;fill-opacity:0.8;stroke:#4c72b0;stroke-opacity:0.8;\" x=\"64.4294\" xlink:href=\"#md7bbf31581\" y=\"34.515484\"/>\n     <use style=\"fill:#4c72b0;fill-opacity:0.8;stroke:#4c72b0;stroke-opacity:0.8;\" x=\"50.48254\" xlink:href=\"#md7bbf31581\" y=\"34.377649\"/>\n     <use style=\"fill:#4c72b0;fill-opacity:0.8;stroke:#4c72b0;stroke-opacity:0.8;\" x=\"68.933928\" xlink:href=\"#md7bbf31581\" y=\"34.613738\"/>\n     <use style=\"fill:#4c72b0;fill-opacity:0.8;stroke:#4c72b0;stroke-opacity:0.8;\" x=\"50.333294\" xlink:href=\"#md7bbf31581\" y=\"34.377533\"/>\n     <use style=\"fill:#4c72b0;fill-opacity:0.8;stroke:#4c72b0;stroke-opacity:0.8;\" x=\"52.214749\" xlink:href=\"#md7bbf31581\" y=\"34.381098\"/>\n     <use style=\"fill:#4c72b0;fill-opacity:0.8;stroke:#4c72b0;stroke-opacity:0.8;\" x=\"50.260472\" xlink:href=\"#md7bbf31581\" y=\"34.377487\"/>\n     <use style=\"fill:#4c72b0;fill-opacity:0.8;stroke:#4c72b0;stroke-opacity:0.8;\" x=\"100.362951\" xlink:href=\"#md7bbf31581\" y=\"36.032964\"/>\n     <use style=\"fill:#4c72b0;fill-opacity:0.8;stroke:#4c72b0;stroke-opacity:0.8;\" x=\"50.154419\" xlink:href=\"#md7bbf31581\" y=\"34.377432\"/>\n     <use style=\"fill:#4c72b0;fill-opacity:0.8;stroke:#4c72b0;stroke-opacity:0.8;\" x=\"49.807188\" xlink:href=\"#md7bbf31581\" y=\"34.377354\"/>\n     <use style=\"fill:#4c72b0;fill-opacity:0.8;stroke:#4c72b0;stroke-opacity:0.8;\" x=\"50.335399\" xlink:href=\"#md7bbf31581\" y=\"34.377535\"/>\n     <use style=\"fill:#4c72b0;fill-opacity:0.8;stroke:#4c72b0;stroke-opacity:0.8;\" x=\"51.655093\" xlink:href=\"#md7bbf31581\" y=\"34.37956\"/>\n     <use style=\"fill:#4c72b0;fill-opacity:0.8;stroke:#4c72b0;stroke-opacity:0.8;\" x=\"49.92306\" xlink:href=\"#md7bbf31581\" y=\"34.377363\"/>\n     <use style=\"fill:#4c72b0;fill-opacity:0.8;stroke:#4c72b0;stroke-opacity:0.8;\" x=\"50.380927\" xlink:href=\"#md7bbf31581\" y=\"34.377567\"/>\n     <use style=\"fill:#4c72b0;fill-opacity:0.8;stroke:#4c72b0;stroke-opacity:0.8;\" x=\"50.634748\" xlink:href=\"#md7bbf31581\" y=\"34.377797\"/>\n     <use style=\"fill:#4c72b0;fill-opacity:0.8;stroke:#4c72b0;stroke-opacity:0.8;\" x=\"50.314247\" xlink:href=\"#md7bbf31581\" y=\"34.37752\"/>\n     <use style=\"fill:#4c72b0;fill-opacity:0.8;stroke:#4c72b0;stroke-opacity:0.8;\" x=\"54.081185\" xlink:href=\"#md7bbf31581\" y=\"34.389153\"/>\n     <use style=\"fill:#4c72b0;fill-opacity:0.8;stroke:#4c72b0;stroke-opacity:0.8;\" x=\"51.953647\" xlink:href=\"#md7bbf31581\" y=\"34.38033\"/>\n     <use style=\"fill:#4c72b0;fill-opacity:0.8;stroke:#4c72b0;stroke-opacity:0.8;\" x=\"53.48614\" xlink:href=\"#md7bbf31581\" y=\"34.386096\"/>\n     <use style=\"fill:#4c72b0;fill-opacity:0.8;stroke:#4c72b0;stroke-opacity:0.8;\" x=\"49.98942\" xlink:href=\"#md7bbf31581\" y=\"34.377376\"/>\n     <use style=\"fill:#4c72b0;fill-opacity:0.8;stroke:#4c72b0;stroke-opacity:0.8;\" x=\"69.772373\" xlink:href=\"#md7bbf31581\" y=\"34.634926\"/>\n     <use style=\"fill:#4c72b0;fill-opacity:0.8;stroke:#4c72b0;stroke-opacity:0.8;\" x=\"50.017504\" xlink:href=\"#md7bbf31581\" y=\"34.377383\"/>\n     <use style=\"fill:#4c72b0;fill-opacity:0.8;stroke:#4c72b0;stroke-opacity:0.8;\" x=\"51.173588\" xlink:href=\"#md7bbf31581\" y=\"34.37856\"/>\n     <use style=\"fill:#4c72b0;fill-opacity:0.8;stroke:#4c72b0;stroke-opacity:0.8;\" x=\"50.796982\" xlink:href=\"#md7bbf31581\" y=\"34.377987\"/>\n     <use style=\"fill:#4c72b0;fill-opacity:0.8;stroke:#4c72b0;stroke-opacity:0.8;\" x=\"50.038845\" xlink:href=\"#md7bbf31581\" y=\"34.377389\"/>\n     <use style=\"fill:#4c72b0;fill-opacity:0.8;stroke:#4c72b0;stroke-opacity:0.8;\" x=\"49.807188\" xlink:href=\"#md7bbf31581\" y=\"34.377354\"/>\n     <use style=\"fill:#4c72b0;fill-opacity:0.8;stroke:#4c72b0;stroke-opacity:0.8;\" x=\"50.065022\" xlink:href=\"#md7bbf31581\" y=\"34.377397\"/>\n     <use style=\"fill:#4c72b0;fill-opacity:0.8;stroke:#4c72b0;stroke-opacity:0.8;\" x=\"50.31162\" xlink:href=\"#md7bbf31581\" y=\"34.377519\"/>\n     <use style=\"fill:#4c72b0;fill-opacity:0.8;stroke:#4c72b0;stroke-opacity:0.8;\" x=\"49.807188\" xlink:href=\"#md7bbf31581\" y=\"34.377354\"/>\n     <use style=\"fill:#4c72b0;fill-opacity:0.8;stroke:#4c72b0;stroke-opacity:0.8;\" x=\"49.909627\" xlink:href=\"#md7bbf31581\" y=\"34.377361\"/>\n     <use style=\"fill:#4c72b0;fill-opacity:0.8;stroke:#4c72b0;stroke-opacity:0.8;\" x=\"49.816608\" xlink:href=\"#md7bbf31581\" y=\"34.377354\"/>\n     <use style=\"fill:#4c72b0;fill-opacity:0.8;stroke:#4c72b0;stroke-opacity:0.8;\" x=\"50.472157\" xlink:href=\"#md7bbf31581\" y=\"34.37764\"/>\n     <use style=\"fill:#4c72b0;fill-opacity:0.8;stroke:#4c72b0;stroke-opacity:0.8;\" x=\"50.565914\" xlink:href=\"#md7bbf31581\" y=\"34.377726\"/>\n     <use style=\"fill:#4c72b0;fill-opacity:0.8;stroke:#4c72b0;stroke-opacity:0.8;\" x=\"49.890687\" xlink:href=\"#md7bbf31581\" y=\"34.377359\"/>\n     <use style=\"fill:#4c72b0;fill-opacity:0.8;stroke:#4c72b0;stroke-opacity:0.8;\" x=\"49.82028\" xlink:href=\"#md7bbf31581\" y=\"34.377355\"/>\n     <use style=\"fill:#4c72b0;fill-opacity:0.8;stroke:#4c72b0;stroke-opacity:0.8;\" x=\"50.291866\" xlink:href=\"#md7bbf31581\" y=\"34.377506\"/>\n     <use style=\"fill:#4c72b0;fill-opacity:0.8;stroke:#4c72b0;stroke-opacity:0.8;\" x=\"49.807188\" xlink:href=\"#md7bbf31581\" y=\"34.377354\"/>\n     <use style=\"fill:#4c72b0;fill-opacity:0.8;stroke:#4c72b0;stroke-opacity:0.8;\" x=\"49.937938\" xlink:href=\"#md7bbf31581\" y=\"34.377365\"/>\n     <use style=\"fill:#4c72b0;fill-opacity:0.8;stroke:#4c72b0;stroke-opacity:0.8;\" x=\"49.993749\" xlink:href=\"#md7bbf31581\" y=\"34.377377\"/>\n     <use style=\"fill:#4c72b0;fill-opacity:0.8;stroke:#4c72b0;stroke-opacity:0.8;\" x=\"49.846391\" xlink:href=\"#md7bbf31581\" y=\"34.377355\"/>\n     <use style=\"fill:#4c72b0;fill-opacity:0.8;stroke:#4c72b0;stroke-opacity:0.8;\" x=\"50.001007\" xlink:href=\"#md7bbf31581\" y=\"34.377379\"/>\n     <use style=\"fill:#4c72b0;fill-opacity:0.8;stroke:#4c72b0;stroke-opacity:0.8;\" x=\"50.476627\" xlink:href=\"#md7bbf31581\" y=\"34.377644\"/>\n     <use style=\"fill:#4c72b0;fill-opacity:0.8;stroke:#4c72b0;stroke-opacity:0.8;\" x=\"49.807188\" xlink:href=\"#md7bbf31581\" y=\"34.377354\"/>\n     <use style=\"fill:#4c72b0;fill-opacity:0.8;stroke:#4c72b0;stroke-opacity:0.8;\" x=\"49.807188\" xlink:href=\"#md7bbf31581\" y=\"34.377354\"/>\n     <use style=\"fill:#4c72b0;fill-opacity:0.8;stroke:#4c72b0;stroke-opacity:0.8;\" x=\"49.836927\" xlink:href=\"#md7bbf31581\" y=\"34.377355\"/>\n     <use style=\"fill:#4c72b0;fill-opacity:0.8;stroke:#4c72b0;stroke-opacity:0.8;\" x=\"49.807188\" xlink:href=\"#md7bbf31581\" y=\"34.377354\"/>\n     <use style=\"fill:#4c72b0;fill-opacity:0.8;stroke:#4c72b0;stroke-opacity:0.8;\" x=\"50.108191\" xlink:href=\"#md7bbf31581\" y=\"34.377413\"/>\n     <use style=\"fill:#4c72b0;fill-opacity:0.8;stroke:#4c72b0;stroke-opacity:0.8;\" x=\"49.807188\" xlink:href=\"#md7bbf31581\" y=\"34.377354\"/>\n     <use style=\"fill:#4c72b0;fill-opacity:0.8;stroke:#4c72b0;stroke-opacity:0.8;\" x=\"49.87281\" xlink:href=\"#md7bbf31581\" y=\"34.377357\"/>\n     <use style=\"fill:#4c72b0;fill-opacity:0.8;stroke:#4c72b0;stroke-opacity:0.8;\" x=\"49.807188\" xlink:href=\"#md7bbf31581\" y=\"34.377354\"/>\n     <use style=\"fill:#4c72b0;fill-opacity:0.8;stroke:#4c72b0;stroke-opacity:0.8;\" x=\"49.807188\" xlink:href=\"#md7bbf31581\" y=\"34.377354\"/>\n     <use style=\"fill:#4c72b0;fill-opacity:0.8;stroke:#4c72b0;stroke-opacity:0.8;\" x=\"49.92735\" xlink:href=\"#md7bbf31581\" y=\"34.377364\"/>\n     <use style=\"fill:#4c72b0;fill-opacity:0.8;stroke:#4c72b0;stroke-opacity:0.8;\" x=\"49.807188\" xlink:href=\"#md7bbf31581\" y=\"34.377354\"/>\n     <use style=\"fill:#4c72b0;fill-opacity:0.8;stroke:#4c72b0;stroke-opacity:0.8;\" x=\"49.807188\" xlink:href=\"#md7bbf31581\" y=\"34.377354\"/>\n     <use style=\"fill:#4c72b0;fill-opacity:0.8;stroke:#4c72b0;stroke-opacity:0.8;\" x=\"49.807188\" xlink:href=\"#md7bbf31581\" y=\"34.377354\"/>\n     <use style=\"fill:#4c72b0;fill-opacity:0.8;stroke:#4c72b0;stroke-opacity:0.8;\" x=\"49.807188\" xlink:href=\"#md7bbf31581\" y=\"34.377354\"/>\n     <use style=\"fill:#4c72b0;fill-opacity:0.8;stroke:#4c72b0;stroke-opacity:0.8;\" x=\"49.807188\" xlink:href=\"#md7bbf31581\" y=\"34.377354\"/>\n     <use style=\"fill:#4c72b0;fill-opacity:0.8;stroke:#4c72b0;stroke-opacity:0.8;\" x=\"49.807188\" xlink:href=\"#md7bbf31581\" y=\"34.377354\"/>\n     <use style=\"fill:#4c72b0;fill-opacity:0.8;stroke:#4c72b0;stroke-opacity:0.8;\" x=\"49.807188\" xlink:href=\"#md7bbf31581\" y=\"34.377354\"/>\n     <use style=\"fill:#4c72b0;fill-opacity:0.8;stroke:#4c72b0;stroke-opacity:0.8;\" x=\"49.807188\" xlink:href=\"#md7bbf31581\" y=\"34.377354\"/>\n    </g>\n   </g>\n   <g id=\"PolyCollection_1\">\n    <defs>\n     <path d=\"M 49.807188 -248.721341 \nL 49.807188 -247.968369 \nL 54.316278 -248.373726 \nL 58.825369 -248.715921 \nL 63.33446 -248.816727 \nL 67.843551 -248.783616 \nL 72.352642 -248.718045 \nL 76.861733 -248.620066 \nL 81.370824 -248.489655 \nL 85.879915 -248.326522 \nL 90.389006 -248.130966 \nL 94.898097 -247.903177 \nL 99.407188 -247.643154 \nL 103.916278 -247.350076 \nL 108.425369 -247.023631 \nL 112.93446 -246.669369 \nL 117.443551 -246.279501 \nL 121.952642 -245.857194 \nL 126.461733 -245.402456 \nL 130.970824 -244.914911 \nL 135.479915 -244.394519 \nL 139.989006 -243.841631 \nL 144.498097 -243.259866 \nL 149.007188 -242.641647 \nL 153.516278 -241.990015 \nL 158.025369 -241.31231 \nL 162.53446 -240.598292 \nL 167.043551 -239.854122 \nL 171.552642 -239.084026 \nL 176.061733 -238.261305 \nL 180.570824 -237.417476 \nL 185.079915 -236.531811 \nL 189.589006 -235.603197 \nL 194.098097 -234.641692 \nL 198.607188 -233.655203 \nL 203.116278 -232.641917 \nL 207.625369 -231.577805 \nL 212.13446 -230.454319 \nL 216.643551 -229.297779 \nL 221.152642 -228.076539 \nL 225.661733 -226.835762 \nL 230.170824 -225.521415 \nL 234.679915 -224.134094 \nL 239.189006 -222.66173 \nL 243.698097 -221.131977 \nL 248.207188 -219.532977 \nL 252.716278 -217.90922 \nL 257.225369 -216.282525 \nL 261.73446 -214.587772 \nL 266.243551 -212.845154 \nL 270.752642 -211.049406 \nL 275.261733 -209.232037 \nL 279.770824 -207.370924 \nL 284.279915 -205.434179 \nL 288.789006 -203.440828 \nL 293.298097 -201.43471 \nL 297.807187 -199.298151 \nL 302.316278 -197.126375 \nL 306.825369 -194.916425 \nL 311.33446 -192.69633 \nL 315.843551 -190.480647 \nL 320.352642 -188.205631 \nL 324.861733 -185.83982 \nL 329.370824 -183.429443 \nL 333.879915 -180.974468 \nL 338.389006 -178.462526 \nL 342.898097 -175.877116 \nL 347.407188 -173.220794 \nL 351.916278 -170.642929 \nL 356.425369 -167.966637 \nL 360.93446 -165.230811 \nL 365.443551 -162.473997 \nL 369.952642 -159.683924 \nL 374.461733 -156.840741 \nL 378.970824 -153.923854 \nL 383.479915 -150.992981 \nL 387.989006 -147.99856 \nL 392.498097 -144.961486 \nL 397.007187 -141.877725 \nL 401.516278 -138.692739 \nL 406.025369 -135.463493 \nL 410.53446 -132.167275 \nL 415.043551 -128.875731 \nL 419.552642 -125.514253 \nL 424.061733 -122.0804 \nL 428.570824 -118.599807 \nL 433.079915 -115.072814 \nL 437.589006 -111.587621 \nL 442.098097 -107.969215 \nL 446.607188 -104.283921 \nL 451.116278 -100.649852 \nL 455.625369 -96.897826 \nL 460.13446 -93.097929 \nL 464.643551 -89.238629 \nL 469.152642 -85.362429 \nL 473.661733 -81.423278 \nL 478.170824 -77.438699 \nL 482.679915 -73.404416 \nL 487.189006 -69.326191 \nL 491.698097 -65.202525 \nL 496.207187 -61.077735 \nL 496.207187 -97.657706 \nL 496.207187 -97.657706 \nL 491.698097 -100.778162 \nL 487.189006 -103.864411 \nL 482.679915 -106.918152 \nL 478.170824 -109.940078 \nL 473.661733 -112.934227 \nL 469.152642 -115.89575 \nL 464.643551 -118.824449 \nL 460.13446 -121.720272 \nL 455.625369 -124.58348 \nL 451.116278 -127.404108 \nL 446.607188 -130.189124 \nL 442.098097 -132.947863 \nL 437.589006 -135.686099 \nL 433.079915 -138.391523 \nL 428.570824 -141.064075 \nL 424.061733 -143.696439 \nL 419.552642 -146.291479 \nL 415.043551 -148.863206 \nL 410.53446 -151.398163 \nL 406.025369 -153.894327 \nL 401.516278 -156.358092 \nL 397.007187 -158.789041 \nL 392.498097 -161.180152 \nL 387.989006 -163.548071 \nL 383.479915 -165.883562 \nL 378.970824 -168.186624 \nL 374.461733 -170.457258 \nL 369.952642 -172.695463 \nL 365.443551 -174.901018 \nL 360.93446 -177.074669 \nL 356.425369 -179.215682 \nL 351.916278 -181.324265 \nL 347.407188 -183.409234 \nL 342.898097 -185.455647 \nL 338.389006 -187.470393 \nL 333.879915 -189.460652 \nL 329.370824 -191.418101 \nL 324.861733 -193.343421 \nL 320.352642 -195.235085 \nL 315.843551 -197.097055 \nL 311.33446 -198.947116 \nL 306.825369 -200.769888 \nL 302.316278 -202.544932 \nL 297.807187 -204.36541 \nL 293.298097 -206.311588 \nL 288.789006 -208.247391 \nL 284.279915 -210.186053 \nL 279.770824 -212.079476 \nL 275.261733 -213.957906 \nL 270.752642 -215.758224 \nL 266.243551 -217.492052 \nL 261.73446 -219.220429 \nL 257.225369 -220.883907 \nL 252.716278 -222.500264 \nL 248.207188 -224.046366 \nL 243.698097 -225.571302 \nL 239.189006 -227.067427 \nL 234.679915 -228.51323 \nL 230.170824 -229.885851 \nL 225.661733 -231.246798 \nL 221.152642 -232.579567 \nL 216.643551 -233.853911 \nL 212.13446 -235.07254 \nL 207.625369 -236.244726 \nL 203.116278 -237.369806 \nL 198.607188 -238.448372 \nL 194.098097 -239.480525 \nL 189.589006 -240.466265 \nL 185.079915 -241.408102 \nL 180.570824 -242.314091 \nL 176.061733 -243.16639 \nL 171.552642 -243.983789 \nL 167.043551 -244.739381 \nL 162.53446 -245.440394 \nL 158.025369 -246.098821 \nL 153.516278 -246.723611 \nL 149.007188 -247.300825 \nL 144.498097 -247.830463 \nL 139.989006 -248.312415 \nL 135.479915 -248.746616 \nL 130.970824 -249.129803 \nL 126.461733 -249.458182 \nL 121.952642 -249.749797 \nL 117.443551 -250.003273 \nL 112.93446 -250.205433 \nL 108.425369 -250.354758 \nL 103.916278 -250.456265 \nL 99.407188 -250.510078 \nL 94.898097 -250.516051 \nL 90.389006 -250.474685 \nL 85.879915 -250.39972 \nL 81.370824 -250.270605 \nL 76.861733 -250.090316 \nL 72.352642 -249.869207 \nL 67.843551 -249.610812 \nL 63.33446 -249.303167 \nL 58.825369 -248.977475 \nL 54.316278 -248.784537 \nL 49.807188 -248.721341 \nz\n\" id=\"mc3dccdd023\" style=\"stroke:#ffffff;stroke-opacity:0.15;\"/>\n    </defs>\n    <g clip-path=\"url(#p9af5a9a80a)\">\n     <use style=\"fill:#ff304f;fill-opacity:0.15;stroke:#ffffff;stroke-opacity:0.15;\" x=\"0\" xlink:href=\"#mc3dccdd023\" y=\"283.197812\"/>\n    </g>\n   </g>\n   <g id=\"line2d_14\">\n    <path clip-path=\"url(#p9af5a9a80a)\" d=\"M 49.807188 34.968463 \nL 54.316278 34.642969 \nL 58.825369 34.360524 \nL 63.33446 34.121129 \nL 67.843551 33.924783 \nL 72.352642 33.771487 \nL 76.861733 33.661241 \nL 81.370824 33.594044 \nL 85.879915 33.569897 \nL 90.389006 33.5888 \nL 94.898097 33.650752 \nL 99.407188 33.755754 \nL 103.916278 33.903805 \nL 108.425369 34.094906 \nL 112.93446 34.329056 \nL 117.443551 34.606256 \nL 121.952642 34.926506 \nL 126.461733 35.289806 \nL 130.970824 35.696155 \nL 135.479915 36.145553 \nL 139.989006 36.638001 \nL 144.498097 37.173499 \nL 149.007188 37.752047 \nL 153.516278 38.373644 \nL 158.025369 39.03829 \nL 162.53446 39.745987 \nL 167.043551 40.496732 \nL 171.552642 41.290528 \nL 176.061733 42.127373 \nL 180.570824 43.007268 \nL 185.079915 43.930212 \nL 189.589006 44.896206 \nL 194.098097 45.905249 \nL 198.607188 46.957342 \nL 203.116278 48.052485 \nL 207.625369 49.190678 \nL 212.13446 50.371919 \nL 216.643551 51.596211 \nL 221.152642 52.863552 \nL 225.661733 54.173943 \nL 230.170824 55.527383 \nL 234.679915 56.923873 \nL 239.189006 58.363413 \nL 243.698097 59.846002 \nL 248.207188 61.371641 \nL 252.716278 62.94033 \nL 257.225369 64.552068 \nL 261.73446 66.206855 \nL 266.243551 67.904693 \nL 270.752642 69.645579 \nL 275.261733 71.429516 \nL 279.770824 73.256502 \nL 284.279915 75.126538 \nL 288.789006 77.039623 \nL 293.298097 78.995758 \nL 297.807187 80.994943 \nL 302.316278 83.037177 \nL 306.825369 85.12246 \nL 311.33446 87.250794 \nL 315.843551 89.422177 \nL 320.352642 91.636609 \nL 324.861733 93.894092 \nL 329.370824 96.194623 \nL 333.879915 98.538205 \nL 338.389006 100.924836 \nL 342.898097 103.354516 \nL 347.407188 105.827247 \nL 351.916278 108.343027 \nL 356.425369 110.901856 \nL 360.93446 113.503735 \nL 365.443551 116.148664 \nL 369.952642 118.836642 \nL 374.461733 121.56767 \nL 378.970824 124.341748 \nL 383.479915 127.158875 \nL 387.989006 130.019051 \nL 392.498097 132.922278 \nL 397.007187 135.868554 \nL 401.516278 138.857879 \nL 406.025369 141.890254 \nL 410.53446 144.965679 \nL 415.043551 148.084154 \nL 419.552642 151.245678 \nL 424.061733 154.450251 \nL 428.570824 157.697875 \nL 433.079915 160.988547 \nL 437.589006 164.32227 \nL 442.098097 167.699042 \nL 446.607188 171.118864 \nL 451.116278 174.581735 \nL 455.625369 178.087656 \nL 460.13446 181.636626 \nL 464.643551 185.228646 \nL 469.152642 188.863716 \nL 473.661733 192.541835 \nL 478.170824 196.263004 \nL 482.679915 200.027223 \nL 487.189006 203.834491 \nL 491.698097 207.684809 \nL 496.207187 211.578176 \n\" style=\"fill:none;stroke:#ff304f;stroke-linecap:round;stroke-width:2.25;\"/>\n   </g>\n   <g id=\"patch_3\">\n    <path d=\"M 49.807188 240.238125 \nL 49.807188 22.798125 \n\" style=\"fill:none;stroke:#ffffff;stroke-linecap:square;stroke-linejoin:miter;stroke-width:1.25;\"/>\n   </g>\n   <g id=\"patch_4\">\n    <path d=\"M 496.207187 240.238125 \nL 496.207187 22.798125 \n\" style=\"fill:none;stroke:#ffffff;stroke-linecap:square;stroke-linejoin:miter;stroke-width:1.25;\"/>\n   </g>\n   <g id=\"patch_5\">\n    <path d=\"M 49.807188 240.238125 \nL 496.207187 240.238125 \n\" style=\"fill:none;stroke:#ffffff;stroke-linecap:square;stroke-linejoin:miter;stroke-width:1.25;\"/>\n   </g>\n   <g id=\"patch_6\">\n    <path d=\"M 49.807188 22.798125 \nL 496.207187 22.798125 \n\" style=\"fill:none;stroke:#ffffff;stroke-linecap:square;stroke-linejoin:miter;stroke-width:1.25;\"/>\n   </g>\n   <g id=\"text_16\">\n    <!-- Disperssão entre o número de mortos e o PIB per capta -->\n    <defs>\n     <path d=\"M 19.671875 64.796875 \nL 19.671875 8.109375 \nL 31.59375 8.109375 \nQ 46.6875 8.109375 53.6875 14.9375 \nQ 60.6875 21.78125 60.6875 36.53125 \nQ 60.6875 51.171875 53.6875 57.984375 \nQ 46.6875 64.796875 31.59375 64.796875 \nz\nM 9.8125 72.90625 \nL 30.078125 72.90625 \nQ 51.265625 72.90625 61.171875 64.09375 \nQ 71.09375 55.28125 71.09375 36.53125 \nQ 71.09375 17.671875 61.125 8.828125 \nQ 51.171875 0 30.078125 0 \nL 9.8125 0 \nz\n\" id=\"DejaVuSans-68\"/>\n     <path d=\"M 9.421875 54.6875 \nL 18.40625 54.6875 \nL 18.40625 0 \nL 9.421875 0 \nz\nM 9.421875 75.984375 \nL 18.40625 75.984375 \nL 18.40625 64.59375 \nL 9.421875 64.59375 \nz\n\" id=\"DejaVuSans-105\"/>\n     <path d=\"M 34.28125 27.484375 \nQ 23.390625 27.484375 19.1875 25 \nQ 14.984375 22.515625 14.984375 16.5 \nQ 14.984375 11.71875 18.140625 8.90625 \nQ 21.296875 6.109375 26.703125 6.109375 \nQ 34.1875 6.109375 38.703125 11.40625 \nQ 43.21875 16.703125 43.21875 25.484375 \nL 43.21875 27.484375 \nz\nM 52.203125 31.203125 \nL 52.203125 0 \nL 43.21875 0 \nL 43.21875 8.296875 \nQ 40.140625 3.328125 35.546875 0.953125 \nQ 30.953125 -1.421875 24.3125 -1.421875 \nQ 15.921875 -1.421875 10.953125 3.296875 \nQ 6 8.015625 6 15.921875 \nQ 6 25.140625 12.171875 29.828125 \nQ 18.359375 34.515625 30.609375 34.515625 \nL 43.21875 34.515625 \nL 43.21875 35.40625 \nQ 43.21875 41.609375 39.140625 45 \nQ 35.0625 48.390625 27.6875 48.390625 \nQ 23 48.390625 18.546875 47.265625 \nQ 14.109375 46.140625 10.015625 43.890625 \nL 10.015625 52.203125 \nQ 14.9375 54.109375 19.578125 55.046875 \nQ 24.21875 56 28.609375 56 \nQ 40.484375 56 46.34375 49.84375 \nQ 52.203125 43.703125 52.203125 31.203125 \nz\nM 28.8125 66.890625 \nL 26.015625 69.578125 \nQ 24.953125 70.5625 24.140625 71.015625 \nQ 23.34375 71.484375 22.703125 71.484375 \nQ 20.84375 71.484375 19.96875 69.703125 \nQ 19.09375 67.921875 18.984375 63.921875 \nL 12.890625 63.921875 \nQ 12.984375 70.515625 15.46875 74.09375 \nQ 17.96875 77.6875 22.40625 77.6875 \nQ 24.265625 77.6875 25.828125 77 \nQ 27.390625 76.3125 29.203125 74.703125 \nL 31.984375 72.015625 \nQ 33.046875 71.046875 33.859375 70.578125 \nQ 34.671875 70.125 35.296875 70.125 \nQ 37.15625 70.125 38.03125 71.90625 \nQ 38.90625 73.6875 39.015625 77.6875 \nL 45.109375 77.6875 \nQ 45.015625 71.09375 42.515625 67.5 \nQ 40.03125 63.921875 35.59375 63.921875 \nQ 33.734375 63.921875 32.171875 64.59375 \nQ 30.609375 65.28125 28.8125 66.890625 \nz\n\" id=\"DejaVuSans-227\"/>\n     <path d=\"M 54.890625 33.015625 \nL 54.890625 0 \nL 45.90625 0 \nL 45.90625 32.71875 \nQ 45.90625 40.484375 42.875 44.328125 \nQ 39.84375 48.1875 33.796875 48.1875 \nQ 26.515625 48.1875 22.3125 43.546875 \nQ 18.109375 38.921875 18.109375 30.90625 \nL 18.109375 0 \nL 9.078125 0 \nL 9.078125 54.6875 \nL 18.109375 54.6875 \nL 18.109375 46.1875 \nQ 21.34375 51.125 25.703125 53.5625 \nQ 30.078125 56 35.796875 56 \nQ 45.21875 56 50.046875 50.171875 \nQ 54.890625 44.34375 54.890625 33.015625 \nz\n\" id=\"DejaVuSans-110\"/>\n    </defs>\n    <g style=\"fill:#262626;\" transform=\"translate(105.9925 16.798125)scale(0.12 -0.12)\">\n     <use xlink:href=\"#DejaVuSans-68\"/>\n     <use x=\"77.001953\" xlink:href=\"#DejaVuSans-105\"/>\n     <use x=\"104.785156\" xlink:href=\"#DejaVuSans-115\"/>\n     <use x=\"156.884766\" xlink:href=\"#DejaVuSans-112\"/>\n     <use x=\"220.361328\" xlink:href=\"#DejaVuSans-101\"/>\n     <use x=\"281.884766\" xlink:href=\"#DejaVuSans-114\"/>\n     <use x=\"322.998047\" xlink:href=\"#DejaVuSans-115\"/>\n     <use x=\"375.097656\" xlink:href=\"#DejaVuSans-115\"/>\n     <use x=\"427.197266\" xlink:href=\"#DejaVuSans-227\"/>\n     <use x=\"488.476562\" xlink:href=\"#DejaVuSans-111\"/>\n     <use x=\"549.658203\" xlink:href=\"#DejaVuSans-32\"/>\n     <use x=\"581.445312\" xlink:href=\"#DejaVuSans-101\"/>\n     <use x=\"642.96875\" xlink:href=\"#DejaVuSans-110\"/>\n     <use x=\"706.347656\" xlink:href=\"#DejaVuSans-116\"/>\n     <use x=\"745.556641\" xlink:href=\"#DejaVuSans-114\"/>\n     <use x=\"784.419922\" xlink:href=\"#DejaVuSans-101\"/>\n     <use x=\"845.943359\" xlink:href=\"#DejaVuSans-32\"/>\n     <use x=\"877.730469\" xlink:href=\"#DejaVuSans-111\"/>\n     <use x=\"938.912109\" xlink:href=\"#DejaVuSans-32\"/>\n     <use x=\"970.699219\" xlink:href=\"#DejaVuSans-110\"/>\n     <use x=\"1034.078125\" xlink:href=\"#DejaVuSans-250\"/>\n     <use x=\"1097.457031\" xlink:href=\"#DejaVuSans-109\"/>\n     <use x=\"1194.869141\" xlink:href=\"#DejaVuSans-101\"/>\n     <use x=\"1256.392578\" xlink:href=\"#DejaVuSans-114\"/>\n     <use x=\"1295.255859\" xlink:href=\"#DejaVuSans-111\"/>\n     <use x=\"1356.4375\" xlink:href=\"#DejaVuSans-32\"/>\n     <use x=\"1388.224609\" xlink:href=\"#DejaVuSans-100\"/>\n     <use x=\"1451.701172\" xlink:href=\"#DejaVuSans-101\"/>\n     <use x=\"1513.224609\" xlink:href=\"#DejaVuSans-32\"/>\n     <use x=\"1545.011719\" xlink:href=\"#DejaVuSans-109\"/>\n     <use x=\"1642.423828\" xlink:href=\"#DejaVuSans-111\"/>\n     <use x=\"1703.605469\" xlink:href=\"#DejaVuSans-114\"/>\n     <use x=\"1744.71875\" xlink:href=\"#DejaVuSans-116\"/>\n     <use x=\"1783.927734\" xlink:href=\"#DejaVuSans-111\"/>\n     <use x=\"1845.109375\" xlink:href=\"#DejaVuSans-115\"/>\n     <use x=\"1897.208984\" xlink:href=\"#DejaVuSans-32\"/>\n     <use x=\"1928.996094\" xlink:href=\"#DejaVuSans-101\"/>\n     <use x=\"1990.519531\" xlink:href=\"#DejaVuSans-32\"/>\n     <use x=\"2022.306641\" xlink:href=\"#DejaVuSans-111\"/>\n     <use x=\"2083.488281\" xlink:href=\"#DejaVuSans-32\"/>\n     <use x=\"2115.275391\" xlink:href=\"#DejaVuSans-80\"/>\n     <use x=\"2175.578125\" xlink:href=\"#DejaVuSans-73\"/>\n     <use x=\"2205.070312\" xlink:href=\"#DejaVuSans-66\"/>\n     <use x=\"2273.673828\" xlink:href=\"#DejaVuSans-32\"/>\n     <use x=\"2305.460938\" xlink:href=\"#DejaVuSans-112\"/>\n     <use x=\"2368.9375\" xlink:href=\"#DejaVuSans-101\"/>\n     <use x=\"2430.460938\" xlink:href=\"#DejaVuSans-114\"/>\n     <use x=\"2471.574219\" xlink:href=\"#DejaVuSans-32\"/>\n     <use x=\"2503.361328\" xlink:href=\"#DejaVuSans-99\"/>\n     <use x=\"2558.341797\" xlink:href=\"#DejaVuSans-97\"/>\n     <use x=\"2619.621094\" xlink:href=\"#DejaVuSans-112\"/>\n     <use x=\"2683.097656\" xlink:href=\"#DejaVuSans-116\"/>\n     <use x=\"2722.306641\" xlink:href=\"#DejaVuSans-97\"/>\n    </g>\n   </g>\n  </g>\n </g>\n <defs>\n  <clipPath id=\"p9af5a9a80a\">\n   <rect height=\"217.44\" width=\"446.4\" x=\"49.807188\" y=\"22.798125\"/>\n  </clipPath>\n </defs>\n</svg>\n"
          },
          "metadata": {
            "tags": [],
            "needs_background": "light"
          }
        }
      ]
    },
    {
      "cell_type": "markdown",
      "metadata": {
        "id": "__TfiNtiPPA6",
        "colab_type": "text"
      },
      "source": [
        "Vamos......"
      ]
    },
    {
      "cell_type": "markdown",
      "metadata": {
        "id": "gEZ1G8Zc_AZ4",
        "colab_type": "text"
      },
      "source": [
        "#Situação do Brasil\n",
        "\n"
      ]
    },
    {
      "cell_type": "markdown",
      "metadata": {
        "id": "ebj_mJO1_Izo",
        "colab_type": "text"
      },
      "source": [
        "#Qundo foi registrado a primeira morte?\n"
      ]
    },
    {
      "cell_type": "code",
      "metadata": {
        "id": "DqZFn_-6_Lpu",
        "colab_type": "code",
        "colab": {}
      },
      "source": [
        "covid_death = covid_clear.reset_index()"
      ],
      "execution_count": 262,
      "outputs": []
    },
    {
      "cell_type": "code",
      "metadata": {
        "id": "SDcQ7n_3_ruc",
        "colab_type": "code",
        "colab": {}
      },
      "source": [
        "covid_brasil = covid_death.loc[covid_death.location == \"Brazil\"].copy()"
      ],
      "execution_count": 263,
      "outputs": []
    },
    {
      "cell_type": "code",
      "metadata": {
        "id": "gO1fv3D1PS4k",
        "colab_type": "code",
        "cellView": "form",
        "colab": {}
      },
      "source": [
        "#@title\n",
        "covid_brasil = covid_brasil.set_index([\"date\"], drop = True)"
      ],
      "execution_count": 264,
      "outputs": []
    },
    {
      "cell_type": "code",
      "metadata": {
        "id": "NI4a11fOA3tK",
        "colab_type": "code",
        "cellView": "form",
        "colab": {}
      },
      "source": [
        "#@title\n",
        "covid_brasil = covid_brasil.drop([\"index\", \"gdp_per_capita\"], axis = 1)"
      ],
      "execution_count": 265,
      "outputs": []
    },
    {
      "cell_type": "code",
      "metadata": {
        "id": "0nNcotkTBvsZ",
        "colab_type": "code",
        "colab": {
          "base_uri": "https://localhost:8080/",
          "height": 34
        },
        "outputId": "66e286fe-267c-4af8-93fd-167e8fa1b3fb"
      },
      "source": [
        "covid_brasil.shape"
      ],
      "execution_count": 266,
      "outputs": [
        {
          "output_type": "execute_result",
          "data": {
            "text/plain": [
              "(171, 3)"
            ]
          },
          "metadata": {
            "tags": []
          },
          "execution_count": 266
        }
      ]
    },
    {
      "cell_type": "code",
      "metadata": {
        "id": "BXbZsg2_Aziw",
        "colab_type": "code",
        "colab": {}
      },
      "source": [
        "primeira_morte =  covid_brasil.total_deaths == 1\n",
        "primeira_caso =  covid_brasil.total_cases == 1"
      ],
      "execution_count": 267,
      "outputs": []
    },
    {
      "cell_type": "code",
      "metadata": {
        "id": "mRvq-3rUBPo0",
        "colab_type": "code",
        "colab": {
          "base_uri": "https://localhost:8080/",
          "height": 106
        },
        "outputId": "f8a4adc6-02d0-4611-cc3d-806bab270504"
      },
      "source": [
        "primeira_morte  = covid_brasil[primeira_morte].sort_index().head(1)\n",
        "primeira_morte"
      ],
      "execution_count": 268,
      "outputs": [
        {
          "output_type": "execute_result",
          "data": {
            "text/html": [
              "<div>\n",
              "<style scoped>\n",
              "    .dataframe tbody tr th:only-of-type {\n",
              "        vertical-align: middle;\n",
              "    }\n",
              "\n",
              "    .dataframe tbody tr th {\n",
              "        vertical-align: top;\n",
              "    }\n",
              "\n",
              "    .dataframe thead th {\n",
              "        text-align: right;\n",
              "    }\n",
              "</style>\n",
              "<table border=\"1\" class=\"dataframe\">\n",
              "  <thead>\n",
              "    <tr style=\"text-align: right;\">\n",
              "      <th></th>\n",
              "      <th>location</th>\n",
              "      <th>total_deaths</th>\n",
              "      <th>total_cases</th>\n",
              "    </tr>\n",
              "    <tr>\n",
              "      <th>date</th>\n",
              "      <th></th>\n",
              "      <th></th>\n",
              "      <th></th>\n",
              "    </tr>\n",
              "  </thead>\n",
              "  <tbody>\n",
              "    <tr>\n",
              "      <th>2020-03-18</th>\n",
              "      <td>Brazil</td>\n",
              "      <td>1.0</td>\n",
              "      <td>291.0</td>\n",
              "    </tr>\n",
              "  </tbody>\n",
              "</table>\n",
              "</div>"
            ],
            "text/plain": [
              "           location  total_deaths  total_cases\n",
              "date                                          \n",
              "2020-03-18   Brazil           1.0        291.0"
            ]
          },
          "metadata": {
            "tags": []
          },
          "execution_count": 268
        }
      ]
    },
    {
      "cell_type": "code",
      "metadata": {
        "id": "SFhHyKCtB-JM",
        "colab_type": "code",
        "colab": {
          "base_uri": "https://localhost:8080/",
          "height": 106
        },
        "outputId": "10247042-796b-4316-f207-f75be52719ae"
      },
      "source": [
        "primeiro_caso = covid_brasil[primeira_caso].sort_index().head(1)\n",
        "primeiro_caso"
      ],
      "execution_count": 269,
      "outputs": [
        {
          "output_type": "execute_result",
          "data": {
            "text/html": [
              "<div>\n",
              "<style scoped>\n",
              "    .dataframe tbody tr th:only-of-type {\n",
              "        vertical-align: middle;\n",
              "    }\n",
              "\n",
              "    .dataframe tbody tr th {\n",
              "        vertical-align: top;\n",
              "    }\n",
              "\n",
              "    .dataframe thead th {\n",
              "        text-align: right;\n",
              "    }\n",
              "</style>\n",
              "<table border=\"1\" class=\"dataframe\">\n",
              "  <thead>\n",
              "    <tr style=\"text-align: right;\">\n",
              "      <th></th>\n",
              "      <th>location</th>\n",
              "      <th>total_deaths</th>\n",
              "      <th>total_cases</th>\n",
              "    </tr>\n",
              "    <tr>\n",
              "      <th>date</th>\n",
              "      <th></th>\n",
              "      <th></th>\n",
              "      <th></th>\n",
              "    </tr>\n",
              "  </thead>\n",
              "  <tbody>\n",
              "    <tr>\n",
              "      <th>2020-02-26</th>\n",
              "      <td>Brazil</td>\n",
              "      <td>0.0</td>\n",
              "      <td>1.0</td>\n",
              "    </tr>\n",
              "  </tbody>\n",
              "</table>\n",
              "</div>"
            ],
            "text/plain": [
              "           location  total_deaths  total_cases\n",
              "date                                          \n",
              "2020-02-26   Brazil           0.0          1.0"
            ]
          },
          "metadata": {
            "tags": []
          },
          "execution_count": 269
        }
      ]
    },
    {
      "cell_type": "code",
      "metadata": {
        "id": "nkPtThSOCSnj",
        "colab_type": "code",
        "colab": {
          "base_uri": "https://localhost:8080/",
          "height": 34
        },
        "outputId": "ad15765b-2182-47d8-e529-b6f3e7862690"
      },
      "source": [
        "diferença =  primeira_morte.index - primeiro_caso.index \n",
        "diferença[0]"
      ],
      "execution_count": 270,
      "outputs": [
        {
          "output_type": "execute_result",
          "data": {
            "text/plain": [
              "Timedelta('21 days 00:00:00')"
            ]
          },
          "metadata": {
            "tags": []
          },
          "execution_count": 270
        }
      ]
    },
    {
      "cell_type": "code",
      "metadata": {
        "id": "qNbbAM33C0Hu",
        "colab_type": "code",
        "colab": {
          "base_uri": "https://localhost:8080/",
          "height": 563
        },
        "outputId": "1a09193c-a9d7-448e-999c-28d6cc1b9fdb"
      },
      "source": [
        "fig, ax = plt.subplots(nrows = 1, ncols = 2, figsize = (20,6))\n",
        "\n",
        "#Gráfico linear\n",
        "ax[0].plot(covid_brasil.total_cases, color = \"#ff304f\")\n",
        "ax[0].set_xlabel(\"Datas\")\n",
        "ax[0].set_title(\"Número de casos no Brasil\")\n",
        "\n",
        "#Gráfico logaritimico\n",
        "ax[1].plot(covid_brasil.total_cases, color = \"#ff304f\")\n",
        "ax[1].set_title(\"Número de casos no Brasil em logaritimica\")\n",
        "ax[1].set_xlabel(\"Datas\")\n",
        "plt.yscale(\"log\")\n",
        "plt.show()"
      ],
      "execution_count": 281,
      "outputs": [
        {
          "output_type": "display_data",
          "data": {
            "text/plain": [
              "<Figure size 1440x432 with 2 Axes>"
            ],
            "image/svg+xml": "<?xml version=\"1.0\" encoding=\"utf-8\" standalone=\"no\"?>\n<!DOCTYPE svg PUBLIC \"-//W3C//DTD SVG 1.1//EN\"\n  \"http://www.w3.org/Graphics/SVG/1.1/DTD/svg11.dtd\">\n<!-- Created with matplotlib (https://matplotlib.org/) -->\n<svg height=\"391.917812pt\" version=\"1.1\" viewBox=\"0 0 1157.393438 391.917812\" width=\"1157.393438pt\" xmlns=\"http://www.w3.org/2000/svg\" xmlns:xlink=\"http://www.w3.org/1999/xlink\">\n <defs>\n  <style type=\"text/css\">\n*{stroke-linecap:butt;stroke-linejoin:round;}\n  </style>\n </defs>\n <g id=\"figure_1\">\n  <g id=\"patch_1\">\n   <path d=\"M 0 391.917812 \nL 1157.393438 391.917812 \nL 1157.393438 0 \nL 0 0 \nz\n\" style=\"fill:none;\"/>\n  </g>\n  <g id=\"axes_1\">\n   <g id=\"patch_2\">\n    <path d=\"M 34.193438 348.958125 \nL 541.466165 348.958125 \nL 541.466165 22.798125 \nL 34.193438 22.798125 \nz\n\" style=\"fill:#eaeaf2;\"/>\n   </g>\n   <g id=\"matplotlib.axis_1\">\n    <g id=\"xtick_1\">\n     <g id=\"line2d_1\">\n      <path clip-path=\"url(#p6c70884438)\" d=\"M 59.963977 348.958125 \nL 59.963977 22.798125 \n\" style=\"fill:none;stroke:#ffffff;stroke-linecap:round;\"/>\n     </g>\n     <g id=\"text_1\">\n      <!-- 2020-01 -->\n      <defs>\n       <path d=\"M 19.1875 8.296875 \nL 53.609375 8.296875 \nL 53.609375 0 \nL 7.328125 0 \nL 7.328125 8.296875 \nQ 12.9375 14.109375 22.625 23.890625 \nQ 32.328125 33.6875 34.8125 36.53125 \nQ 39.546875 41.84375 41.421875 45.53125 \nQ 43.3125 49.21875 43.3125 52.78125 \nQ 43.3125 58.59375 39.234375 62.25 \nQ 35.15625 65.921875 28.609375 65.921875 \nQ 23.96875 65.921875 18.8125 64.3125 \nQ 13.671875 62.703125 7.8125 59.421875 \nL 7.8125 69.390625 \nQ 13.765625 71.78125 18.9375 73 \nQ 24.125 74.21875 28.421875 74.21875 \nQ 39.75 74.21875 46.484375 68.546875 \nQ 53.21875 62.890625 53.21875 53.421875 \nQ 53.21875 48.921875 51.53125 44.890625 \nQ 49.859375 40.875 45.40625 35.40625 \nQ 44.1875 33.984375 37.640625 27.21875 \nQ 31.109375 20.453125 19.1875 8.296875 \nz\n\" id=\"DejaVuSans-50\"/>\n       <path d=\"M 31.78125 66.40625 \nQ 24.171875 66.40625 20.328125 58.90625 \nQ 16.5 51.421875 16.5 36.375 \nQ 16.5 21.390625 20.328125 13.890625 \nQ 24.171875 6.390625 31.78125 6.390625 \nQ 39.453125 6.390625 43.28125 13.890625 \nQ 47.125 21.390625 47.125 36.375 \nQ 47.125 51.421875 43.28125 58.90625 \nQ 39.453125 66.40625 31.78125 66.40625 \nz\nM 31.78125 74.21875 \nQ 44.046875 74.21875 50.515625 64.515625 \nQ 56.984375 54.828125 56.984375 36.375 \nQ 56.984375 17.96875 50.515625 8.265625 \nQ 44.046875 -1.421875 31.78125 -1.421875 \nQ 19.53125 -1.421875 13.0625 8.265625 \nQ 6.59375 17.96875 6.59375 36.375 \nQ 6.59375 54.828125 13.0625 64.515625 \nQ 19.53125 74.21875 31.78125 74.21875 \nz\n\" id=\"DejaVuSans-48\"/>\n       <path d=\"M 4.890625 31.390625 \nL 31.203125 31.390625 \nL 31.203125 23.390625 \nL 4.890625 23.390625 \nz\n\" id=\"DejaVuSans-45\"/>\n       <path d=\"M 12.40625 8.296875 \nL 28.515625 8.296875 \nL 28.515625 63.921875 \nL 10.984375 60.40625 \nL 10.984375 69.390625 \nL 28.421875 72.90625 \nL 38.28125 72.90625 \nL 38.28125 8.296875 \nL 54.390625 8.296875 \nL 54.390625 0 \nL 12.40625 0 \nz\n\" id=\"DejaVuSans-49\"/>\n      </defs>\n      <g style=\"fill:#262626;\" transform=\"translate(36.98343 366.816406)scale(0.11 -0.11)\">\n       <use xlink:href=\"#DejaVuSans-50\"/>\n       <use x=\"63.623047\" xlink:href=\"#DejaVuSans-48\"/>\n       <use x=\"127.246094\" xlink:href=\"#DejaVuSans-50\"/>\n       <use x=\"190.869141\" xlink:href=\"#DejaVuSans-48\"/>\n       <use x=\"254.492188\" xlink:href=\"#DejaVuSans-45\"/>\n       <use x=\"290.576172\" xlink:href=\"#DejaVuSans-48\"/>\n       <use x=\"354.199219\" xlink:href=\"#DejaVuSans-49\"/>\n      </g>\n     </g>\n    </g>\n    <g id=\"xtick_2\">\n     <g id=\"line2d_2\">\n      <path clip-path=\"url(#p6c70884438)\" d=\"M 144.057317 348.958125 \nL 144.057317 22.798125 \n\" style=\"fill:none;stroke:#ffffff;stroke-linecap:round;\"/>\n     </g>\n     <g id=\"text_2\">\n      <!-- 2020-02 -->\n      <g style=\"fill:#262626;\" transform=\"translate(121.07677 366.816406)scale(0.11 -0.11)\">\n       <use xlink:href=\"#DejaVuSans-50\"/>\n       <use x=\"63.623047\" xlink:href=\"#DejaVuSans-48\"/>\n       <use x=\"127.246094\" xlink:href=\"#DejaVuSans-50\"/>\n       <use x=\"190.869141\" xlink:href=\"#DejaVuSans-48\"/>\n       <use x=\"254.492188\" xlink:href=\"#DejaVuSans-45\"/>\n       <use x=\"290.576172\" xlink:href=\"#DejaVuSans-48\"/>\n       <use x=\"354.199219\" xlink:href=\"#DejaVuSans-50\"/>\n      </g>\n     </g>\n    </g>\n    <g id=\"xtick_3\">\n     <g id=\"line2d_3\">\n      <path clip-path=\"url(#p6c70884438)\" d=\"M 222.72528 348.958125 \nL 222.72528 22.798125 \n\" style=\"fill:none;stroke:#ffffff;stroke-linecap:round;\"/>\n     </g>\n     <g id=\"text_3\">\n      <!-- 2020-03 -->\n      <defs>\n       <path d=\"M 40.578125 39.3125 \nQ 47.65625 37.796875 51.625 33 \nQ 55.609375 28.21875 55.609375 21.1875 \nQ 55.609375 10.40625 48.1875 4.484375 \nQ 40.765625 -1.421875 27.09375 -1.421875 \nQ 22.515625 -1.421875 17.65625 -0.515625 \nQ 12.796875 0.390625 7.625 2.203125 \nL 7.625 11.71875 \nQ 11.71875 9.328125 16.59375 8.109375 \nQ 21.484375 6.890625 26.8125 6.890625 \nQ 36.078125 6.890625 40.9375 10.546875 \nQ 45.796875 14.203125 45.796875 21.1875 \nQ 45.796875 27.640625 41.28125 31.265625 \nQ 36.765625 34.90625 28.71875 34.90625 \nL 20.21875 34.90625 \nL 20.21875 43.015625 \nL 29.109375 43.015625 \nQ 36.375 43.015625 40.234375 45.921875 \nQ 44.09375 48.828125 44.09375 54.296875 \nQ 44.09375 59.90625 40.109375 62.90625 \nQ 36.140625 65.921875 28.71875 65.921875 \nQ 24.65625 65.921875 20.015625 65.03125 \nQ 15.375 64.15625 9.8125 62.3125 \nL 9.8125 71.09375 \nQ 15.4375 72.65625 20.34375 73.4375 \nQ 25.25 74.21875 29.59375 74.21875 \nQ 40.828125 74.21875 47.359375 69.109375 \nQ 53.90625 64.015625 53.90625 55.328125 \nQ 53.90625 49.265625 50.4375 45.09375 \nQ 46.96875 40.921875 40.578125 39.3125 \nz\n\" id=\"DejaVuSans-51\"/>\n      </defs>\n      <g style=\"fill:#262626;\" transform=\"translate(199.744733 366.816406)scale(0.11 -0.11)\">\n       <use xlink:href=\"#DejaVuSans-50\"/>\n       <use x=\"63.623047\" xlink:href=\"#DejaVuSans-48\"/>\n       <use x=\"127.246094\" xlink:href=\"#DejaVuSans-50\"/>\n       <use x=\"190.869141\" xlink:href=\"#DejaVuSans-48\"/>\n       <use x=\"254.492188\" xlink:href=\"#DejaVuSans-45\"/>\n       <use x=\"290.576172\" xlink:href=\"#DejaVuSans-48\"/>\n       <use x=\"354.199219\" xlink:href=\"#DejaVuSans-51\"/>\n      </g>\n     </g>\n    </g>\n    <g id=\"xtick_4\">\n     <g id=\"line2d_4\">\n      <path clip-path=\"url(#p6c70884438)\" d=\"M 306.81862 348.958125 \nL 306.81862 22.798125 \n\" style=\"fill:none;stroke:#ffffff;stroke-linecap:round;\"/>\n     </g>\n     <g id=\"text_4\">\n      <!-- 2020-04 -->\n      <defs>\n       <path d=\"M 37.796875 64.3125 \nL 12.890625 25.390625 \nL 37.796875 25.390625 \nz\nM 35.203125 72.90625 \nL 47.609375 72.90625 \nL 47.609375 25.390625 \nL 58.015625 25.390625 \nL 58.015625 17.1875 \nL 47.609375 17.1875 \nL 47.609375 0 \nL 37.796875 0 \nL 37.796875 17.1875 \nL 4.890625 17.1875 \nL 4.890625 26.703125 \nz\n\" id=\"DejaVuSans-52\"/>\n      </defs>\n      <g style=\"fill:#262626;\" transform=\"translate(283.838073 366.816406)scale(0.11 -0.11)\">\n       <use xlink:href=\"#DejaVuSans-50\"/>\n       <use x=\"63.623047\" xlink:href=\"#DejaVuSans-48\"/>\n       <use x=\"127.246094\" xlink:href=\"#DejaVuSans-50\"/>\n       <use x=\"190.869141\" xlink:href=\"#DejaVuSans-48\"/>\n       <use x=\"254.492188\" xlink:href=\"#DejaVuSans-45\"/>\n       <use x=\"290.576172\" xlink:href=\"#DejaVuSans-48\"/>\n       <use x=\"354.199219\" xlink:href=\"#DejaVuSans-52\"/>\n      </g>\n     </g>\n    </g>\n    <g id=\"xtick_5\">\n     <g id=\"line2d_5\">\n      <path clip-path=\"url(#p6c70884438)\" d=\"M 388.199271 348.958125 \nL 388.199271 22.798125 \n\" style=\"fill:none;stroke:#ffffff;stroke-linecap:round;\"/>\n     </g>\n     <g id=\"text_5\">\n      <!-- 2020-05 -->\n      <defs>\n       <path d=\"M 10.796875 72.90625 \nL 49.515625 72.90625 \nL 49.515625 64.59375 \nL 19.828125 64.59375 \nL 19.828125 46.734375 \nQ 21.96875 47.46875 24.109375 47.828125 \nQ 26.265625 48.1875 28.421875 48.1875 \nQ 40.625 48.1875 47.75 41.5 \nQ 54.890625 34.8125 54.890625 23.390625 \nQ 54.890625 11.625 47.5625 5.09375 \nQ 40.234375 -1.421875 26.90625 -1.421875 \nQ 22.3125 -1.421875 17.546875 -0.640625 \nQ 12.796875 0.140625 7.71875 1.703125 \nL 7.71875 11.625 \nQ 12.109375 9.234375 16.796875 8.0625 \nQ 21.484375 6.890625 26.703125 6.890625 \nQ 35.15625 6.890625 40.078125 11.328125 \nQ 45.015625 15.765625 45.015625 23.390625 \nQ 45.015625 31 40.078125 35.4375 \nQ 35.15625 39.890625 26.703125 39.890625 \nQ 22.75 39.890625 18.8125 39.015625 \nQ 14.890625 38.140625 10.796875 36.28125 \nz\n\" id=\"DejaVuSans-53\"/>\n      </defs>\n      <g style=\"fill:#262626;\" transform=\"translate(365.218724 366.816406)scale(0.11 -0.11)\">\n       <use xlink:href=\"#DejaVuSans-50\"/>\n       <use x=\"63.623047\" xlink:href=\"#DejaVuSans-48\"/>\n       <use x=\"127.246094\" xlink:href=\"#DejaVuSans-50\"/>\n       <use x=\"190.869141\" xlink:href=\"#DejaVuSans-48\"/>\n       <use x=\"254.492188\" xlink:href=\"#DejaVuSans-45\"/>\n       <use x=\"290.576172\" xlink:href=\"#DejaVuSans-48\"/>\n       <use x=\"354.199219\" xlink:href=\"#DejaVuSans-53\"/>\n      </g>\n     </g>\n    </g>\n    <g id=\"xtick_6\">\n     <g id=\"line2d_6\">\n      <path clip-path=\"url(#p6c70884438)\" d=\"M 472.292611 348.958125 \nL 472.292611 22.798125 \n\" style=\"fill:none;stroke:#ffffff;stroke-linecap:round;\"/>\n     </g>\n     <g id=\"text_6\">\n      <!-- 2020-06 -->\n      <defs>\n       <path d=\"M 33.015625 40.375 \nQ 26.375 40.375 22.484375 35.828125 \nQ 18.609375 31.296875 18.609375 23.390625 \nQ 18.609375 15.53125 22.484375 10.953125 \nQ 26.375 6.390625 33.015625 6.390625 \nQ 39.65625 6.390625 43.53125 10.953125 \nQ 47.40625 15.53125 47.40625 23.390625 \nQ 47.40625 31.296875 43.53125 35.828125 \nQ 39.65625 40.375 33.015625 40.375 \nz\nM 52.59375 71.296875 \nL 52.59375 62.3125 \nQ 48.875 64.0625 45.09375 64.984375 \nQ 41.3125 65.921875 37.59375 65.921875 \nQ 27.828125 65.921875 22.671875 59.328125 \nQ 17.53125 52.734375 16.796875 39.40625 \nQ 19.671875 43.65625 24.015625 45.921875 \nQ 28.375 48.1875 33.59375 48.1875 \nQ 44.578125 48.1875 50.953125 41.515625 \nQ 57.328125 34.859375 57.328125 23.390625 \nQ 57.328125 12.15625 50.6875 5.359375 \nQ 44.046875 -1.421875 33.015625 -1.421875 \nQ 20.359375 -1.421875 13.671875 8.265625 \nQ 6.984375 17.96875 6.984375 36.375 \nQ 6.984375 53.65625 15.1875 63.9375 \nQ 23.390625 74.21875 37.203125 74.21875 \nQ 40.921875 74.21875 44.703125 73.484375 \nQ 48.484375 72.75 52.59375 71.296875 \nz\n\" id=\"DejaVuSans-54\"/>\n      </defs>\n      <g style=\"fill:#262626;\" transform=\"translate(449.312064 366.816406)scale(0.11 -0.11)\">\n       <use xlink:href=\"#DejaVuSans-50\"/>\n       <use x=\"63.623047\" xlink:href=\"#DejaVuSans-48\"/>\n       <use x=\"127.246094\" xlink:href=\"#DejaVuSans-50\"/>\n       <use x=\"190.869141\" xlink:href=\"#DejaVuSans-48\"/>\n       <use x=\"254.492188\" xlink:href=\"#DejaVuSans-45\"/>\n       <use x=\"290.576172\" xlink:href=\"#DejaVuSans-48\"/>\n       <use x=\"354.199219\" xlink:href=\"#DejaVuSans-54\"/>\n      </g>\n     </g>\n    </g>\n    <g id=\"text_7\">\n     <!-- Datas -->\n     <defs>\n      <path d=\"M 19.671875 64.796875 \nL 19.671875 8.109375 \nL 31.59375 8.109375 \nQ 46.6875 8.109375 53.6875 14.9375 \nQ 60.6875 21.78125 60.6875 36.53125 \nQ 60.6875 51.171875 53.6875 57.984375 \nQ 46.6875 64.796875 31.59375 64.796875 \nz\nM 9.8125 72.90625 \nL 30.078125 72.90625 \nQ 51.265625 72.90625 61.171875 64.09375 \nQ 71.09375 55.28125 71.09375 36.53125 \nQ 71.09375 17.671875 61.125 8.828125 \nQ 51.171875 0 30.078125 0 \nL 9.8125 0 \nz\n\" id=\"DejaVuSans-68\"/>\n      <path d=\"M 34.28125 27.484375 \nQ 23.390625 27.484375 19.1875 25 \nQ 14.984375 22.515625 14.984375 16.5 \nQ 14.984375 11.71875 18.140625 8.90625 \nQ 21.296875 6.109375 26.703125 6.109375 \nQ 34.1875 6.109375 38.703125 11.40625 \nQ 43.21875 16.703125 43.21875 25.484375 \nL 43.21875 27.484375 \nz\nM 52.203125 31.203125 \nL 52.203125 0 \nL 43.21875 0 \nL 43.21875 8.296875 \nQ 40.140625 3.328125 35.546875 0.953125 \nQ 30.953125 -1.421875 24.3125 -1.421875 \nQ 15.921875 -1.421875 10.953125 3.296875 \nQ 6 8.015625 6 15.921875 \nQ 6 25.140625 12.171875 29.828125 \nQ 18.359375 34.515625 30.609375 34.515625 \nL 43.21875 34.515625 \nL 43.21875 35.40625 \nQ 43.21875 41.609375 39.140625 45 \nQ 35.0625 48.390625 27.6875 48.390625 \nQ 23 48.390625 18.546875 47.265625 \nQ 14.109375 46.140625 10.015625 43.890625 \nL 10.015625 52.203125 \nQ 14.9375 54.109375 19.578125 55.046875 \nQ 24.21875 56 28.609375 56 \nQ 40.484375 56 46.34375 49.84375 \nQ 52.203125 43.703125 52.203125 31.203125 \nz\n\" id=\"DejaVuSans-97\"/>\n      <path d=\"M 18.3125 70.21875 \nL 18.3125 54.6875 \nL 36.8125 54.6875 \nL 36.8125 47.703125 \nL 18.3125 47.703125 \nL 18.3125 18.015625 \nQ 18.3125 11.328125 20.140625 9.421875 \nQ 21.96875 7.515625 27.59375 7.515625 \nL 36.8125 7.515625 \nL 36.8125 0 \nL 27.59375 0 \nQ 17.1875 0 13.234375 3.875 \nQ 9.28125 7.765625 9.28125 18.015625 \nL 9.28125 47.703125 \nL 2.6875 47.703125 \nL 2.6875 54.6875 \nL 9.28125 54.6875 \nL 9.28125 70.21875 \nz\n\" id=\"DejaVuSans-116\"/>\n      <path d=\"M 44.28125 53.078125 \nL 44.28125 44.578125 \nQ 40.484375 46.53125 36.375 47.5 \nQ 32.28125 48.484375 27.875 48.484375 \nQ 21.1875 48.484375 17.84375 46.4375 \nQ 14.5 44.390625 14.5 40.28125 \nQ 14.5 37.15625 16.890625 35.375 \nQ 19.28125 33.59375 26.515625 31.984375 \nL 29.59375 31.296875 \nQ 39.15625 29.25 43.1875 25.515625 \nQ 47.21875 21.78125 47.21875 15.09375 \nQ 47.21875 7.46875 41.1875 3.015625 \nQ 35.15625 -1.421875 24.609375 -1.421875 \nQ 20.21875 -1.421875 15.453125 -0.5625 \nQ 10.6875 0.296875 5.421875 2 \nL 5.421875 11.28125 \nQ 10.40625 8.6875 15.234375 7.390625 \nQ 20.0625 6.109375 24.8125 6.109375 \nQ 31.15625 6.109375 34.5625 8.28125 \nQ 37.984375 10.453125 37.984375 14.40625 \nQ 37.984375 18.0625 35.515625 20.015625 \nQ 33.0625 21.96875 24.703125 23.78125 \nL 21.578125 24.515625 \nQ 13.234375 26.265625 9.515625 29.90625 \nQ 5.8125 33.546875 5.8125 39.890625 \nQ 5.8125 47.609375 11.28125 51.796875 \nQ 16.75 56 26.8125 56 \nQ 31.78125 56 36.171875 55.265625 \nQ 40.578125 54.546875 44.28125 53.078125 \nz\n\" id=\"DejaVuSans-115\"/>\n     </defs>\n     <g style=\"fill:#262626;\" transform=\"translate(270.378239 382.222187)scale(0.12 -0.12)\">\n      <use xlink:href=\"#DejaVuSans-68\"/>\n      <use x=\"77.001953\" xlink:href=\"#DejaVuSans-97\"/>\n      <use x=\"138.28125\" xlink:href=\"#DejaVuSans-116\"/>\n      <use x=\"177.490234\" xlink:href=\"#DejaVuSans-97\"/>\n      <use x=\"238.769531\" xlink:href=\"#DejaVuSans-115\"/>\n     </g>\n    </g>\n   </g>\n   <g id=\"matplotlib.axis_2\">\n    <g id=\"ytick_1\">\n     <g id=\"line2d_7\">\n      <path clip-path=\"url(#p6c70884438)\" d=\"M 34.193438 334.13267 \nL 541.466165 334.13267 \n\" style=\"fill:none;stroke:#ffffff;stroke-linecap:round;\"/>\n     </g>\n     <g id=\"text_8\">\n      <!-- 0.0 -->\n      <defs>\n       <path d=\"M 10.6875 12.40625 \nL 21 12.40625 \nL 21 0 \nL 10.6875 0 \nz\n\" id=\"DejaVuSans-46\"/>\n      </defs>\n      <g style=\"fill:#262626;\" transform=\"translate(7.2 338.311811)scale(0.11 -0.11)\">\n       <use xlink:href=\"#DejaVuSans-48\"/>\n       <use x=\"63.623047\" xlink:href=\"#DejaVuSans-46\"/>\n       <use x=\"95.410156\" xlink:href=\"#DejaVuSans-48\"/>\n      </g>\n     </g>\n    </g>\n    <g id=\"ytick_2\">\n     <g id=\"line2d_8\">\n      <path clip-path=\"url(#p6c70884438)\" d=\"M 34.193438 272.061029 \nL 541.466165 272.061029 \n\" style=\"fill:none;stroke:#ffffff;stroke-linecap:round;\"/>\n     </g>\n     <g id=\"text_9\">\n      <!-- 0.2 -->\n      <g style=\"fill:#262626;\" transform=\"translate(7.2 276.24017)scale(0.11 -0.11)\">\n       <use xlink:href=\"#DejaVuSans-48\"/>\n       <use x=\"63.623047\" xlink:href=\"#DejaVuSans-46\"/>\n       <use x=\"95.410156\" xlink:href=\"#DejaVuSans-50\"/>\n      </g>\n     </g>\n    </g>\n    <g id=\"ytick_3\">\n     <g id=\"line2d_9\">\n      <path clip-path=\"url(#p6c70884438)\" d=\"M 34.193438 209.989388 \nL 541.466165 209.989388 \n\" style=\"fill:none;stroke:#ffffff;stroke-linecap:round;\"/>\n     </g>\n     <g id=\"text_10\">\n      <!-- 0.4 -->\n      <g style=\"fill:#262626;\" transform=\"translate(7.2 214.168529)scale(0.11 -0.11)\">\n       <use xlink:href=\"#DejaVuSans-48\"/>\n       <use x=\"63.623047\" xlink:href=\"#DejaVuSans-46\"/>\n       <use x=\"95.410156\" xlink:href=\"#DejaVuSans-52\"/>\n      </g>\n     </g>\n    </g>\n    <g id=\"ytick_4\">\n     <g id=\"line2d_10\">\n      <path clip-path=\"url(#p6c70884438)\" d=\"M 34.193438 147.917747 \nL 541.466165 147.917747 \n\" style=\"fill:none;stroke:#ffffff;stroke-linecap:round;\"/>\n     </g>\n     <g id=\"text_11\">\n      <!-- 0.6 -->\n      <g style=\"fill:#262626;\" transform=\"translate(7.2 152.096888)scale(0.11 -0.11)\">\n       <use xlink:href=\"#DejaVuSans-48\"/>\n       <use x=\"63.623047\" xlink:href=\"#DejaVuSans-46\"/>\n       <use x=\"95.410156\" xlink:href=\"#DejaVuSans-54\"/>\n      </g>\n     </g>\n    </g>\n    <g id=\"ytick_5\">\n     <g id=\"line2d_11\">\n      <path clip-path=\"url(#p6c70884438)\" d=\"M 34.193438 85.846106 \nL 541.466165 85.846106 \n\" style=\"fill:none;stroke:#ffffff;stroke-linecap:round;\"/>\n     </g>\n     <g id=\"text_12\">\n      <!-- 0.8 -->\n      <defs>\n       <path d=\"M 31.78125 34.625 \nQ 24.75 34.625 20.71875 30.859375 \nQ 16.703125 27.09375 16.703125 20.515625 \nQ 16.703125 13.921875 20.71875 10.15625 \nQ 24.75 6.390625 31.78125 6.390625 \nQ 38.8125 6.390625 42.859375 10.171875 \nQ 46.921875 13.96875 46.921875 20.515625 \nQ 46.921875 27.09375 42.890625 30.859375 \nQ 38.875 34.625 31.78125 34.625 \nz\nM 21.921875 38.8125 \nQ 15.578125 40.375 12.03125 44.71875 \nQ 8.5 49.078125 8.5 55.328125 \nQ 8.5 64.0625 14.71875 69.140625 \nQ 20.953125 74.21875 31.78125 74.21875 \nQ 42.671875 74.21875 48.875 69.140625 \nQ 55.078125 64.0625 55.078125 55.328125 \nQ 55.078125 49.078125 51.53125 44.71875 \nQ 48 40.375 41.703125 38.8125 \nQ 48.828125 37.15625 52.796875 32.3125 \nQ 56.78125 27.484375 56.78125 20.515625 \nQ 56.78125 9.90625 50.3125 4.234375 \nQ 43.84375 -1.421875 31.78125 -1.421875 \nQ 19.734375 -1.421875 13.25 4.234375 \nQ 6.78125 9.90625 6.78125 20.515625 \nQ 6.78125 27.484375 10.78125 32.3125 \nQ 14.796875 37.15625 21.921875 38.8125 \nz\nM 18.3125 54.390625 \nQ 18.3125 48.734375 21.84375 45.5625 \nQ 25.390625 42.390625 31.78125 42.390625 \nQ 38.140625 42.390625 41.71875 45.5625 \nQ 45.3125 48.734375 45.3125 54.390625 \nQ 45.3125 60.0625 41.71875 63.234375 \nQ 38.140625 66.40625 31.78125 66.40625 \nQ 25.390625 66.40625 21.84375 63.234375 \nQ 18.3125 60.0625 18.3125 54.390625 \nz\n\" id=\"DejaVuSans-56\"/>\n      </defs>\n      <g style=\"fill:#262626;\" transform=\"translate(7.2 90.025247)scale(0.11 -0.11)\">\n       <use xlink:href=\"#DejaVuSans-48\"/>\n       <use x=\"63.623047\" xlink:href=\"#DejaVuSans-46\"/>\n       <use x=\"95.410156\" xlink:href=\"#DejaVuSans-56\"/>\n      </g>\n     </g>\n    </g>\n    <g id=\"ytick_6\">\n     <g id=\"line2d_12\">\n      <path clip-path=\"url(#p6c70884438)\" d=\"M 34.193438 23.774465 \nL 541.466165 23.774465 \n\" style=\"fill:none;stroke:#ffffff;stroke-linecap:round;\"/>\n     </g>\n     <g id=\"text_13\">\n      <!-- 1.0 -->\n      <g style=\"fill:#262626;\" transform=\"translate(7.2 27.953606)scale(0.11 -0.11)\">\n       <use xlink:href=\"#DejaVuSans-49\"/>\n       <use x=\"63.623047\" xlink:href=\"#DejaVuSans-46\"/>\n       <use x=\"95.410156\" xlink:href=\"#DejaVuSans-48\"/>\n      </g>\n     </g>\n    </g>\n    <g id=\"text_14\">\n     <!-- 1e6 -->\n     <defs>\n      <path d=\"M 56.203125 29.59375 \nL 56.203125 25.203125 \nL 14.890625 25.203125 \nQ 15.484375 15.921875 20.484375 11.0625 \nQ 25.484375 6.203125 34.421875 6.203125 \nQ 39.59375 6.203125 44.453125 7.46875 \nQ 49.3125 8.734375 54.109375 11.28125 \nL 54.109375 2.78125 \nQ 49.265625 0.734375 44.1875 -0.34375 \nQ 39.109375 -1.421875 33.890625 -1.421875 \nQ 20.796875 -1.421875 13.15625 6.1875 \nQ 5.515625 13.8125 5.515625 26.8125 \nQ 5.515625 40.234375 12.765625 48.109375 \nQ 20.015625 56 32.328125 56 \nQ 43.359375 56 49.78125 48.890625 \nQ 56.203125 41.796875 56.203125 29.59375 \nz\nM 47.21875 32.234375 \nQ 47.125 39.59375 43.09375 43.984375 \nQ 39.0625 48.390625 32.421875 48.390625 \nQ 24.90625 48.390625 20.390625 44.140625 \nQ 15.875 39.890625 15.1875 32.171875 \nz\n\" id=\"DejaVuSans-101\"/>\n     </defs>\n     <g style=\"fill:#262626;\" transform=\"translate(34.193438 19.798125)scale(0.11 -0.11)\">\n      <use xlink:href=\"#DejaVuSans-49\"/>\n      <use x=\"63.623047\" xlink:href=\"#DejaVuSans-101\"/>\n      <use x=\"125.146484\" xlink:href=\"#DejaVuSans-54\"/>\n     </g>\n    </g>\n   </g>\n   <g id=\"line2d_13\">\n    <path clip-path=\"url(#p6c70884438)\" d=\"M 57.251289 334.13267 \nL 268.840982 334.042356 \nL 279.691736 333.782586 \nL 287.829801 333.449572 \nL 293.255178 333.227976 \nL 306.81862 332.358353 \nL 320.382062 330.678384 \nL 323.09475 330.390992 \nL 325.807438 329.875487 \nL 331.232815 328.590604 \nL 333.945504 328.037856 \nL 339.37088 327.252339 \nL 342.083569 326.860978 \nL 344.796257 326.292401 \nL 347.508946 325.343326 \nL 350.221634 324.690022 \nL 355.647011 322.773871 \nL 363.785076 320.762749 \nL 366.497764 319.93161 \nL 371.923141 317.685237 \nL 374.635829 315.973922 \nL 377.348518 314.925222 \nL 380.061206 313.493539 \nL 382.773894 311.822261 \nL 385.486583 309.874452 \nL 388.199271 307.634287 \nL 390.91196 305.707273 \nL 396.337336 302.740869 \nL 401.762713 298.529929 \nL 404.475402 295.270237 \nL 409.900778 289.028933 \nL 412.613467 285.735722 \nL 415.326155 283.637701 \nL 418.038843 281.889763 \nL 420.751532 279.016467 \nL 423.46422 275.483039 \nL 426.176909 271.155404 \nL 431.602285 261.775138 \nL 434.314974 259.311514 \nL 437.027662 255.233408 \nL 439.74035 249.830692 \nL 442.453039 243.638735 \nL 445.165727 237.894626 \nL 447.878416 231.438244 \nL 453.303792 221.407156 \nL 456.016481 217.78 \nL 458.729169 212.713713 \nL 461.441858 206.320644 \nL 466.867234 189.764586 \nL 469.579923 179.437727 \nL 472.292611 174.345059 \nL 475.005299 170.745524 \nL 480.430676 152.878513 \nL 485.856053 133.715135 \nL 488.568741 125.312187 \nL 491.28143 119.439899 \nL 493.994118 114.581552 \nL 502.132183 84.968413 \nL 504.844872 76.904686 \nL 507.55756 70.168672 \nL 510.270248 64.858443 \nL 512.982937 58.450477 \nL 515.695625 47.613389 \nL 518.408314 37.62358 \nL 518.408314 37.62358 \n\" style=\"fill:none;stroke:#ff304f;stroke-linecap:round;stroke-width:1.5;\"/>\n   </g>\n   <g id=\"patch_3\">\n    <path d=\"M 34.193438 348.958125 \nL 34.193438 22.798125 \n\" style=\"fill:none;stroke:#ffffff;stroke-linecap:square;stroke-linejoin:miter;stroke-width:1.25;\"/>\n   </g>\n   <g id=\"patch_4\">\n    <path d=\"M 541.466165 348.958125 \nL 541.466165 22.798125 \n\" style=\"fill:none;stroke:#ffffff;stroke-linecap:square;stroke-linejoin:miter;stroke-width:1.25;\"/>\n   </g>\n   <g id=\"patch_5\">\n    <path d=\"M 34.193437 348.958125 \nL 541.466165 348.958125 \n\" style=\"fill:none;stroke:#ffffff;stroke-linecap:square;stroke-linejoin:miter;stroke-width:1.25;\"/>\n   </g>\n   <g id=\"patch_6\">\n    <path d=\"M 34.193437 22.798125 \nL 541.466165 22.798125 \n\" style=\"fill:none;stroke:#ffffff;stroke-linecap:square;stroke-linejoin:miter;stroke-width:1.25;\"/>\n   </g>\n   <g id=\"text_15\">\n    <!-- Número de casos no Brasil -->\n    <defs>\n     <path d=\"M 9.8125 72.90625 \nL 23.09375 72.90625 \nL 55.421875 11.921875 \nL 55.421875 72.90625 \nL 64.984375 72.90625 \nL 64.984375 0 \nL 51.703125 0 \nL 19.390625 60.984375 \nL 19.390625 0 \nL 9.8125 0 \nz\n\" id=\"DejaVuSans-78\"/>\n     <path d=\"M 8.5 21.578125 \nL 8.5 54.6875 \nL 17.484375 54.6875 \nL 17.484375 21.921875 \nQ 17.484375 14.15625 20.5 10.265625 \nQ 23.53125 6.390625 29.59375 6.390625 \nQ 36.859375 6.390625 41.078125 11.03125 \nQ 45.3125 15.671875 45.3125 23.6875 \nL 45.3125 54.6875 \nL 54.296875 54.6875 \nL 54.296875 0 \nL 45.3125 0 \nL 45.3125 8.40625 \nQ 42.046875 3.421875 37.71875 1 \nQ 33.40625 -1.421875 27.6875 -1.421875 \nQ 18.265625 -1.421875 13.375 4.4375 \nQ 8.5 10.296875 8.5 21.578125 \nz\nM 31.109375 56 \nz\nM 37.78125 79.984375 \nL 47.5 79.984375 \nL 31.59375 61.625 \nL 24.109375 61.625 \nz\n\" id=\"DejaVuSans-250\"/>\n     <path d=\"M 52 44.1875 \nQ 55.375 50.25 60.0625 53.125 \nQ 64.75 56 71.09375 56 \nQ 79.640625 56 84.28125 50.015625 \nQ 88.921875 44.046875 88.921875 33.015625 \nL 88.921875 0 \nL 79.890625 0 \nL 79.890625 32.71875 \nQ 79.890625 40.578125 77.09375 44.375 \nQ 74.3125 48.1875 68.609375 48.1875 \nQ 61.625 48.1875 57.5625 43.546875 \nQ 53.515625 38.921875 53.515625 30.90625 \nL 53.515625 0 \nL 44.484375 0 \nL 44.484375 32.71875 \nQ 44.484375 40.625 41.703125 44.40625 \nQ 38.921875 48.1875 33.109375 48.1875 \nQ 26.21875 48.1875 22.15625 43.53125 \nQ 18.109375 38.875 18.109375 30.90625 \nL 18.109375 0 \nL 9.078125 0 \nL 9.078125 54.6875 \nL 18.109375 54.6875 \nL 18.109375 46.1875 \nQ 21.1875 51.21875 25.484375 53.609375 \nQ 29.78125 56 35.6875 56 \nQ 41.65625 56 45.828125 52.96875 \nQ 50 49.953125 52 44.1875 \nz\n\" id=\"DejaVuSans-109\"/>\n     <path d=\"M 41.109375 46.296875 \nQ 39.59375 47.171875 37.8125 47.578125 \nQ 36.03125 48 33.890625 48 \nQ 26.265625 48 22.1875 43.046875 \nQ 18.109375 38.09375 18.109375 28.8125 \nL 18.109375 0 \nL 9.078125 0 \nL 9.078125 54.6875 \nL 18.109375 54.6875 \nL 18.109375 46.1875 \nQ 20.953125 51.171875 25.484375 53.578125 \nQ 30.03125 56 36.53125 56 \nQ 37.453125 56 38.578125 55.875 \nQ 39.703125 55.765625 41.0625 55.515625 \nz\n\" id=\"DejaVuSans-114\"/>\n     <path d=\"M 30.609375 48.390625 \nQ 23.390625 48.390625 19.1875 42.75 \nQ 14.984375 37.109375 14.984375 27.296875 \nQ 14.984375 17.484375 19.15625 11.84375 \nQ 23.34375 6.203125 30.609375 6.203125 \nQ 37.796875 6.203125 41.984375 11.859375 \nQ 46.1875 17.53125 46.1875 27.296875 \nQ 46.1875 37.015625 41.984375 42.703125 \nQ 37.796875 48.390625 30.609375 48.390625 \nz\nM 30.609375 56 \nQ 42.328125 56 49.015625 48.375 \nQ 55.71875 40.765625 55.71875 27.296875 \nQ 55.71875 13.875 49.015625 6.21875 \nQ 42.328125 -1.421875 30.609375 -1.421875 \nQ 18.84375 -1.421875 12.171875 6.21875 \nQ 5.515625 13.875 5.515625 27.296875 \nQ 5.515625 40.765625 12.171875 48.375 \nQ 18.84375 56 30.609375 56 \nz\n\" id=\"DejaVuSans-111\"/>\n     <path id=\"DejaVuSans-32\"/>\n     <path d=\"M 45.40625 46.390625 \nL 45.40625 75.984375 \nL 54.390625 75.984375 \nL 54.390625 0 \nL 45.40625 0 \nL 45.40625 8.203125 \nQ 42.578125 3.328125 38.25 0.953125 \nQ 33.9375 -1.421875 27.875 -1.421875 \nQ 17.96875 -1.421875 11.734375 6.484375 \nQ 5.515625 14.40625 5.515625 27.296875 \nQ 5.515625 40.1875 11.734375 48.09375 \nQ 17.96875 56 27.875 56 \nQ 33.9375 56 38.25 53.625 \nQ 42.578125 51.265625 45.40625 46.390625 \nz\nM 14.796875 27.296875 \nQ 14.796875 17.390625 18.875 11.75 \nQ 22.953125 6.109375 30.078125 6.109375 \nQ 37.203125 6.109375 41.296875 11.75 \nQ 45.40625 17.390625 45.40625 27.296875 \nQ 45.40625 37.203125 41.296875 42.84375 \nQ 37.203125 48.484375 30.078125 48.484375 \nQ 22.953125 48.484375 18.875 42.84375 \nQ 14.796875 37.203125 14.796875 27.296875 \nz\n\" id=\"DejaVuSans-100\"/>\n     <path d=\"M 48.78125 52.59375 \nL 48.78125 44.1875 \nQ 44.96875 46.296875 41.140625 47.34375 \nQ 37.3125 48.390625 33.40625 48.390625 \nQ 24.65625 48.390625 19.8125 42.84375 \nQ 14.984375 37.3125 14.984375 27.296875 \nQ 14.984375 17.28125 19.8125 11.734375 \nQ 24.65625 6.203125 33.40625 6.203125 \nQ 37.3125 6.203125 41.140625 7.25 \nQ 44.96875 8.296875 48.78125 10.40625 \nL 48.78125 2.09375 \nQ 45.015625 0.34375 40.984375 -0.53125 \nQ 36.96875 -1.421875 32.421875 -1.421875 \nQ 20.0625 -1.421875 12.78125 6.34375 \nQ 5.515625 14.109375 5.515625 27.296875 \nQ 5.515625 40.671875 12.859375 48.328125 \nQ 20.21875 56 33.015625 56 \nQ 37.15625 56 41.109375 55.140625 \nQ 45.0625 54.296875 48.78125 52.59375 \nz\n\" id=\"DejaVuSans-99\"/>\n     <path d=\"M 54.890625 33.015625 \nL 54.890625 0 \nL 45.90625 0 \nL 45.90625 32.71875 \nQ 45.90625 40.484375 42.875 44.328125 \nQ 39.84375 48.1875 33.796875 48.1875 \nQ 26.515625 48.1875 22.3125 43.546875 \nQ 18.109375 38.921875 18.109375 30.90625 \nL 18.109375 0 \nL 9.078125 0 \nL 9.078125 54.6875 \nL 18.109375 54.6875 \nL 18.109375 46.1875 \nQ 21.34375 51.125 25.703125 53.5625 \nQ 30.078125 56 35.796875 56 \nQ 45.21875 56 50.046875 50.171875 \nQ 54.890625 44.34375 54.890625 33.015625 \nz\n\" id=\"DejaVuSans-110\"/>\n     <path d=\"M 19.671875 34.8125 \nL 19.671875 8.109375 \nL 35.5 8.109375 \nQ 43.453125 8.109375 47.28125 11.40625 \nQ 51.125 14.703125 51.125 21.484375 \nQ 51.125 28.328125 47.28125 31.5625 \nQ 43.453125 34.8125 35.5 34.8125 \nz\nM 19.671875 64.796875 \nL 19.671875 42.828125 \nL 34.28125 42.828125 \nQ 41.5 42.828125 45.03125 45.53125 \nQ 48.578125 48.25 48.578125 53.8125 \nQ 48.578125 59.328125 45.03125 62.0625 \nQ 41.5 64.796875 34.28125 64.796875 \nz\nM 9.8125 72.90625 \nL 35.015625 72.90625 \nQ 46.296875 72.90625 52.390625 68.21875 \nQ 58.5 63.53125 58.5 54.890625 \nQ 58.5 48.1875 55.375 44.234375 \nQ 52.25 40.28125 46.1875 39.3125 \nQ 53.46875 37.75 57.5 32.78125 \nQ 61.53125 27.828125 61.53125 20.40625 \nQ 61.53125 10.640625 54.890625 5.3125 \nQ 48.25 0 35.984375 0 \nL 9.8125 0 \nz\n\" id=\"DejaVuSans-66\"/>\n     <path d=\"M 9.421875 54.6875 \nL 18.40625 54.6875 \nL 18.40625 0 \nL 9.421875 0 \nz\nM 9.421875 75.984375 \nL 18.40625 75.984375 \nL 18.40625 64.59375 \nL 9.421875 64.59375 \nz\n\" id=\"DejaVuSans-105\"/>\n     <path d=\"M 9.421875 75.984375 \nL 18.40625 75.984375 \nL 18.40625 0 \nL 9.421875 0 \nz\n\" id=\"DejaVuSans-108\"/>\n    </defs>\n    <g style=\"fill:#262626;\" transform=\"translate(207.779489 16.798125)scale(0.12 -0.12)\">\n     <use xlink:href=\"#DejaVuSans-78\"/>\n     <use x=\"74.804688\" xlink:href=\"#DejaVuSans-250\"/>\n     <use x=\"138.183594\" xlink:href=\"#DejaVuSans-109\"/>\n     <use x=\"235.595703\" xlink:href=\"#DejaVuSans-101\"/>\n     <use x=\"297.119141\" xlink:href=\"#DejaVuSans-114\"/>\n     <use x=\"335.982422\" xlink:href=\"#DejaVuSans-111\"/>\n     <use x=\"397.164062\" xlink:href=\"#DejaVuSans-32\"/>\n     <use x=\"428.951172\" xlink:href=\"#DejaVuSans-100\"/>\n     <use x=\"492.427734\" xlink:href=\"#DejaVuSans-101\"/>\n     <use x=\"553.951172\" xlink:href=\"#DejaVuSans-32\"/>\n     <use x=\"585.738281\" xlink:href=\"#DejaVuSans-99\"/>\n     <use x=\"640.71875\" xlink:href=\"#DejaVuSans-97\"/>\n     <use x=\"701.998047\" xlink:href=\"#DejaVuSans-115\"/>\n     <use x=\"754.097656\" xlink:href=\"#DejaVuSans-111\"/>\n     <use x=\"815.279297\" xlink:href=\"#DejaVuSans-115\"/>\n     <use x=\"867.378906\" xlink:href=\"#DejaVuSans-32\"/>\n     <use x=\"899.166016\" xlink:href=\"#DejaVuSans-110\"/>\n     <use x=\"962.544922\" xlink:href=\"#DejaVuSans-111\"/>\n     <use x=\"1023.726562\" xlink:href=\"#DejaVuSans-32\"/>\n     <use x=\"1055.513672\" xlink:href=\"#DejaVuSans-66\"/>\n     <use x=\"1124.117188\" xlink:href=\"#DejaVuSans-114\"/>\n     <use x=\"1165.230469\" xlink:href=\"#DejaVuSans-97\"/>\n     <use x=\"1226.509766\" xlink:href=\"#DejaVuSans-115\"/>\n     <use x=\"1278.609375\" xlink:href=\"#DejaVuSans-105\"/>\n     <use x=\"1306.392578\" xlink:href=\"#DejaVuSans-108\"/>\n    </g>\n   </g>\n  </g>\n  <g id=\"axes_2\">\n   <g id=\"patch_7\">\n    <path d=\"M 642.92071 348.958125 \nL 1150.193437 348.958125 \nL 1150.193437 22.798125 \nL 642.92071 22.798125 \nz\n\" style=\"fill:#eaeaf2;\"/>\n   </g>\n   <g id=\"matplotlib.axis_3\">\n    <g id=\"xtick_7\">\n     <g id=\"line2d_14\">\n      <path clip-path=\"url(#p08333fe429)\" d=\"M 668.69125 348.958125 \nL 668.69125 22.798125 \n\" style=\"fill:none;stroke:#ffffff;stroke-linecap:round;\"/>\n     </g>\n     <g id=\"text_16\">\n      <!-- 2020-01 -->\n      <g style=\"fill:#262626;\" transform=\"translate(645.710703 366.816406)scale(0.11 -0.11)\">\n       <use xlink:href=\"#DejaVuSans-50\"/>\n       <use x=\"63.623047\" xlink:href=\"#DejaVuSans-48\"/>\n       <use x=\"127.246094\" xlink:href=\"#DejaVuSans-50\"/>\n       <use x=\"190.869141\" xlink:href=\"#DejaVuSans-48\"/>\n       <use x=\"254.492188\" xlink:href=\"#DejaVuSans-45\"/>\n       <use x=\"290.576172\" xlink:href=\"#DejaVuSans-48\"/>\n       <use x=\"354.199219\" xlink:href=\"#DejaVuSans-49\"/>\n      </g>\n     </g>\n    </g>\n    <g id=\"xtick_8\">\n     <g id=\"line2d_15\">\n      <path clip-path=\"url(#p08333fe429)\" d=\"M 752.78459 348.958125 \nL 752.78459 22.798125 \n\" style=\"fill:none;stroke:#ffffff;stroke-linecap:round;\"/>\n     </g>\n     <g id=\"text_17\">\n      <!-- 2020-02 -->\n      <g style=\"fill:#262626;\" transform=\"translate(729.804043 366.816406)scale(0.11 -0.11)\">\n       <use xlink:href=\"#DejaVuSans-50\"/>\n       <use x=\"63.623047\" xlink:href=\"#DejaVuSans-48\"/>\n       <use x=\"127.246094\" xlink:href=\"#DejaVuSans-50\"/>\n       <use x=\"190.869141\" xlink:href=\"#DejaVuSans-48\"/>\n       <use x=\"254.492188\" xlink:href=\"#DejaVuSans-45\"/>\n       <use x=\"290.576172\" xlink:href=\"#DejaVuSans-48\"/>\n       <use x=\"354.199219\" xlink:href=\"#DejaVuSans-50\"/>\n      </g>\n     </g>\n    </g>\n    <g id=\"xtick_9\">\n     <g id=\"line2d_16\">\n      <path clip-path=\"url(#p08333fe429)\" d=\"M 831.452553 348.958125 \nL 831.452553 22.798125 \n\" style=\"fill:none;stroke:#ffffff;stroke-linecap:round;\"/>\n     </g>\n     <g id=\"text_18\">\n      <!-- 2020-03 -->\n      <g style=\"fill:#262626;\" transform=\"translate(808.472006 366.816406)scale(0.11 -0.11)\">\n       <use xlink:href=\"#DejaVuSans-50\"/>\n       <use x=\"63.623047\" xlink:href=\"#DejaVuSans-48\"/>\n       <use x=\"127.246094\" xlink:href=\"#DejaVuSans-50\"/>\n       <use x=\"190.869141\" xlink:href=\"#DejaVuSans-48\"/>\n       <use x=\"254.492188\" xlink:href=\"#DejaVuSans-45\"/>\n       <use x=\"290.576172\" xlink:href=\"#DejaVuSans-48\"/>\n       <use x=\"354.199219\" xlink:href=\"#DejaVuSans-51\"/>\n      </g>\n     </g>\n    </g>\n    <g id=\"xtick_10\">\n     <g id=\"line2d_17\">\n      <path clip-path=\"url(#p08333fe429)\" d=\"M 915.545893 348.958125 \nL 915.545893 22.798125 \n\" style=\"fill:none;stroke:#ffffff;stroke-linecap:round;\"/>\n     </g>\n     <g id=\"text_19\">\n      <!-- 2020-04 -->\n      <g style=\"fill:#262626;\" transform=\"translate(892.565346 366.816406)scale(0.11 -0.11)\">\n       <use xlink:href=\"#DejaVuSans-50\"/>\n       <use x=\"63.623047\" xlink:href=\"#DejaVuSans-48\"/>\n       <use x=\"127.246094\" xlink:href=\"#DejaVuSans-50\"/>\n       <use x=\"190.869141\" xlink:href=\"#DejaVuSans-48\"/>\n       <use x=\"254.492188\" xlink:href=\"#DejaVuSans-45\"/>\n       <use x=\"290.576172\" xlink:href=\"#DejaVuSans-48\"/>\n       <use x=\"354.199219\" xlink:href=\"#DejaVuSans-52\"/>\n      </g>\n     </g>\n    </g>\n    <g id=\"xtick_11\">\n     <g id=\"line2d_18\">\n      <path clip-path=\"url(#p08333fe429)\" d=\"M 996.926544 348.958125 \nL 996.926544 22.798125 \n\" style=\"fill:none;stroke:#ffffff;stroke-linecap:round;\"/>\n     </g>\n     <g id=\"text_20\">\n      <!-- 2020-05 -->\n      <g style=\"fill:#262626;\" transform=\"translate(973.945997 366.816406)scale(0.11 -0.11)\">\n       <use xlink:href=\"#DejaVuSans-50\"/>\n       <use x=\"63.623047\" xlink:href=\"#DejaVuSans-48\"/>\n       <use x=\"127.246094\" xlink:href=\"#DejaVuSans-50\"/>\n       <use x=\"190.869141\" xlink:href=\"#DejaVuSans-48\"/>\n       <use x=\"254.492188\" xlink:href=\"#DejaVuSans-45\"/>\n       <use x=\"290.576172\" xlink:href=\"#DejaVuSans-48\"/>\n       <use x=\"354.199219\" xlink:href=\"#DejaVuSans-53\"/>\n      </g>\n     </g>\n    </g>\n    <g id=\"xtick_12\">\n     <g id=\"line2d_19\">\n      <path clip-path=\"url(#p08333fe429)\" d=\"M 1081.019884 348.958125 \nL 1081.019884 22.798125 \n\" style=\"fill:none;stroke:#ffffff;stroke-linecap:round;\"/>\n     </g>\n     <g id=\"text_21\">\n      <!-- 2020-06 -->\n      <g style=\"fill:#262626;\" transform=\"translate(1058.039337 366.816406)scale(0.11 -0.11)\">\n       <use xlink:href=\"#DejaVuSans-50\"/>\n       <use x=\"63.623047\" xlink:href=\"#DejaVuSans-48\"/>\n       <use x=\"127.246094\" xlink:href=\"#DejaVuSans-50\"/>\n       <use x=\"190.869141\" xlink:href=\"#DejaVuSans-48\"/>\n       <use x=\"254.492188\" xlink:href=\"#DejaVuSans-45\"/>\n       <use x=\"290.576172\" xlink:href=\"#DejaVuSans-48\"/>\n       <use x=\"354.199219\" xlink:href=\"#DejaVuSans-54\"/>\n      </g>\n     </g>\n    </g>\n    <g id=\"text_22\">\n     <!-- Datas -->\n     <g style=\"fill:#262626;\" transform=\"translate(879.105511 382.222187)scale(0.12 -0.12)\">\n      <use xlink:href=\"#DejaVuSans-68\"/>\n      <use x=\"77.001953\" xlink:href=\"#DejaVuSans-97\"/>\n      <use x=\"138.28125\" xlink:href=\"#DejaVuSans-116\"/>\n      <use x=\"177.490234\" xlink:href=\"#DejaVuSans-97\"/>\n      <use x=\"238.769531\" xlink:href=\"#DejaVuSans-115\"/>\n     </g>\n    </g>\n   </g>\n   <g id=\"matplotlib.axis_4\">\n    <g id=\"ytick_7\">\n     <g id=\"line2d_20\">\n      <path clip-path=\"url(#p08333fe429)\" d=\"M 642.92071 334.13267 \nL 1150.193437 334.13267 \n\" style=\"fill:none;stroke:#ffffff;stroke-linecap:round;\"/>\n     </g>\n     <g id=\"text_23\">\n      <!-- $\\mathdefault{10^{0}}$ -->\n      <g style=\"fill:#262626;\" transform=\"translate(614.06071 338.311811)scale(0.11 -0.11)\">\n       <use transform=\"translate(0 0.765625)\" xlink:href=\"#DejaVuSans-49\"/>\n       <use transform=\"translate(63.623047 0.765625)\" xlink:href=\"#DejaVuSans-48\"/>\n       <use transform=\"translate(128.203125 39.046875)scale(0.7)\" xlink:href=\"#DejaVuSans-48\"/>\n      </g>\n     </g>\n    </g>\n    <g id=\"ytick_8\">\n     <g id=\"line2d_21\">\n      <path clip-path=\"url(#p08333fe429)\" d=\"M 642.92071 284.55066 \nL 1150.193437 284.55066 \n\" style=\"fill:none;stroke:#ffffff;stroke-linecap:round;\"/>\n     </g>\n     <g id=\"text_24\">\n      <!-- $\\mathdefault{10^{1}}$ -->\n      <g style=\"fill:#262626;\" transform=\"translate(614.06071 288.7298)scale(0.11 -0.11)\">\n       <use transform=\"translate(0 0.684375)\" xlink:href=\"#DejaVuSans-49\"/>\n       <use transform=\"translate(63.623047 0.684375)\" xlink:href=\"#DejaVuSans-48\"/>\n       <use transform=\"translate(128.203125 38.965625)scale(0.7)\" xlink:href=\"#DejaVuSans-49\"/>\n      </g>\n     </g>\n    </g>\n    <g id=\"ytick_9\">\n     <g id=\"line2d_22\">\n      <path clip-path=\"url(#p08333fe429)\" d=\"M 642.92071 234.968649 \nL 1150.193437 234.968649 \n\" style=\"fill:none;stroke:#ffffff;stroke-linecap:round;\"/>\n     </g>\n     <g id=\"text_25\">\n      <!-- $\\mathdefault{10^{2}}$ -->\n      <g style=\"fill:#262626;\" transform=\"translate(614.06071 239.147789)scale(0.11 -0.11)\">\n       <use transform=\"translate(0 0.765625)\" xlink:href=\"#DejaVuSans-49\"/>\n       <use transform=\"translate(63.623047 0.765625)\" xlink:href=\"#DejaVuSans-48\"/>\n       <use transform=\"translate(128.203125 39.046875)scale(0.7)\" xlink:href=\"#DejaVuSans-50\"/>\n      </g>\n     </g>\n    </g>\n    <g id=\"ytick_10\">\n     <g id=\"line2d_23\">\n      <path clip-path=\"url(#p08333fe429)\" d=\"M 642.92071 185.386638 \nL 1150.193437 185.386638 \n\" style=\"fill:none;stroke:#ffffff;stroke-linecap:round;\"/>\n     </g>\n     <g id=\"text_26\">\n      <!-- $\\mathdefault{10^{3}}$ -->\n      <g style=\"fill:#262626;\" transform=\"translate(614.06071 189.565779)scale(0.11 -0.11)\">\n       <use transform=\"translate(0 0.765625)\" xlink:href=\"#DejaVuSans-49\"/>\n       <use transform=\"translate(63.623047 0.765625)\" xlink:href=\"#DejaVuSans-48\"/>\n       <use transform=\"translate(128.203125 39.046875)scale(0.7)\" xlink:href=\"#DejaVuSans-51\"/>\n      </g>\n     </g>\n    </g>\n    <g id=\"ytick_11\">\n     <g id=\"line2d_24\">\n      <path clip-path=\"url(#p08333fe429)\" d=\"M 642.92071 135.804627 \nL 1150.193437 135.804627 \n\" style=\"fill:none;stroke:#ffffff;stroke-linecap:round;\"/>\n     </g>\n     <g id=\"text_27\">\n      <!-- $\\mathdefault{10^{4}}$ -->\n      <g style=\"fill:#262626;\" transform=\"translate(614.06071 139.983768)scale(0.11 -0.11)\">\n       <use transform=\"translate(0 0.684375)\" xlink:href=\"#DejaVuSans-49\"/>\n       <use transform=\"translate(63.623047 0.684375)\" xlink:href=\"#DejaVuSans-48\"/>\n       <use transform=\"translate(128.203125 38.965625)scale(0.7)\" xlink:href=\"#DejaVuSans-52\"/>\n      </g>\n     </g>\n    </g>\n    <g id=\"ytick_12\">\n     <g id=\"line2d_25\">\n      <path clip-path=\"url(#p08333fe429)\" d=\"M 642.92071 86.222616 \nL 1150.193437 86.222616 \n\" style=\"fill:none;stroke:#ffffff;stroke-linecap:round;\"/>\n     </g>\n     <g id=\"text_28\">\n      <!-- $\\mathdefault{10^{5}}$ -->\n      <g style=\"fill:#262626;\" transform=\"translate(614.06071 90.401757)scale(0.11 -0.11)\">\n       <use transform=\"translate(0 0.684375)\" xlink:href=\"#DejaVuSans-49\"/>\n       <use transform=\"translate(63.623047 0.684375)\" xlink:href=\"#DejaVuSans-48\"/>\n       <use transform=\"translate(128.203125 38.965625)scale(0.7)\" xlink:href=\"#DejaVuSans-53\"/>\n      </g>\n     </g>\n    </g>\n    <g id=\"ytick_13\">\n     <g id=\"line2d_26\">\n      <path clip-path=\"url(#p08333fe429)\" d=\"M 642.92071 36.640605 \nL 1150.193437 36.640605 \n\" style=\"fill:none;stroke:#ffffff;stroke-linecap:round;\"/>\n     </g>\n     <g id=\"text_29\">\n      <!-- $\\mathdefault{10^{6}}$ -->\n      <g style=\"fill:#262626;\" transform=\"translate(614.06071 40.819746)scale(0.11 -0.11)\">\n       <use transform=\"translate(0 0.765625)\" xlink:href=\"#DejaVuSans-49\"/>\n       <use transform=\"translate(63.623047 0.765625)\" xlink:href=\"#DejaVuSans-48\"/>\n       <use transform=\"translate(128.203125 39.046875)scale(0.7)\" xlink:href=\"#DejaVuSans-54\"/>\n      </g>\n     </g>\n    </g>\n    <g id=\"ytick_14\"/>\n    <g id=\"ytick_15\"/>\n    <g id=\"ytick_16\"/>\n    <g id=\"ytick_17\"/>\n    <g id=\"ytick_18\"/>\n    <g id=\"ytick_19\"/>\n    <g id=\"ytick_20\"/>\n    <g id=\"ytick_21\"/>\n    <g id=\"ytick_22\"/>\n    <g id=\"ytick_23\"/>\n    <g id=\"ytick_24\"/>\n    <g id=\"ytick_25\"/>\n    <g id=\"ytick_26\"/>\n    <g id=\"ytick_27\"/>\n    <g id=\"ytick_28\"/>\n    <g id=\"ytick_29\"/>\n    <g id=\"ytick_30\"/>\n    <g id=\"ytick_31\"/>\n    <g id=\"ytick_32\"/>\n    <g id=\"ytick_33\"/>\n    <g id=\"ytick_34\"/>\n    <g id=\"ytick_35\"/>\n    <g id=\"ytick_36\"/>\n    <g id=\"ytick_37\"/>\n    <g id=\"ytick_38\"/>\n    <g id=\"ytick_39\"/>\n    <g id=\"ytick_40\"/>\n    <g id=\"ytick_41\"/>\n    <g id=\"ytick_42\"/>\n    <g id=\"ytick_43\"/>\n    <g id=\"ytick_44\"/>\n    <g id=\"ytick_45\"/>\n    <g id=\"ytick_46\"/>\n    <g id=\"ytick_47\"/>\n    <g id=\"ytick_48\"/>\n    <g id=\"ytick_49\"/>\n    <g id=\"ytick_50\"/>\n    <g id=\"ytick_51\"/>\n    <g id=\"ytick_52\"/>\n    <g id=\"ytick_53\"/>\n    <g id=\"ytick_54\"/>\n    <g id=\"ytick_55\"/>\n    <g id=\"ytick_56\"/>\n    <g id=\"ytick_57\"/>\n    <g id=\"ytick_58\"/>\n    <g id=\"ytick_59\"/>\n    <g id=\"ytick_60\"/>\n    <g id=\"ytick_61\"/>\n    <g id=\"ytick_62\"/>\n    <g id=\"ytick_63\"/>\n    <g id=\"ytick_64\"/>\n    <g id=\"ytick_65\"/>\n   </g>\n   <g id=\"line2d_27\">\n    <path clip-path=\"url(#p08333fe429)\" d=\"M 820.598583 392.917812 \nL 820.601799 334.13267 \nL 828.739864 334.13267 \nL 831.452553 319.206998 \nL 839.590618 319.206998 \nL 842.303306 310.476039 \nL 845.015995 289.355653 \nL 847.728683 278.901119 \nL 850.441371 278.901119 \nL 853.15406 264.819994 \nL 855.866748 264.819994 \nL 858.579437 258.198866 \nL 861.292125 249.049774 \nL 864.004813 240.596667 \nL 866.717502 235.403678 \nL 869.43019 230.863984 \nL 872.142878 220.042976 \nL 874.855567 216.662184 \nL 877.568255 211.967902 \nL 882.993632 195.645572 \nL 885.70632 187.559895 \nL 888.419009 182.793048 \nL 891.131697 176.005251 \nL 893.844385 171.667716 \nL 896.557074 168.398847 \nL 899.269762 166.240936 \nL 901.982451 162.348924 \nL 904.695139 158.927447 \nL 907.407827 156.058392 \nL 910.120516 154.199473 \nL 912.833204 152.624301 \nL 915.545893 147.844716 \nL 918.258581 143.995473 \nL 920.971269 140.853242 \nL 923.683958 137.939806 \nL 926.396646 135.214174 \nL 931.822023 131.778407 \nL 934.534711 128.999043 \nL 937.2474 125.782418 \nL 939.960088 123.319455 \nL 942.672776 121.272276 \nL 945.385465 120.110113 \nL 948.098153 118.66184 \nL 950.810841 117.470573 \nL 953.52353 115.849468 \nL 956.236218 113.388935 \nL 958.948907 111.845083 \nL 961.661595 109.65518 \nL 964.374283 107.86669 \nL 967.086972 106.690346 \nL 969.79966 105.642762 \nL 975.225037 103.057814 \nL 977.937725 101.368185 \nL 980.650414 99.895605 \nL 983.363102 97.764184 \nL 986.07579 96.555188 \nL 988.788479 95.007152 \nL 994.213856 91.528106 \nL 996.926544 89.626116 \nL 999.639232 88.114501 \nL 1002.351921 86.976622 \nL 1005.064609 85.977036 \nL 1010.489986 83.266526 \nL 1013.202674 81.380102 \nL 1018.628051 78.173012 \nL 1021.340739 76.655532 \nL 1024.053428 75.741729 \nL 1026.766116 75.008945 \nL 1029.478805 73.856066 \nL 1032.191493 72.518046 \nL 1040.329558 67.995252 \nL 1043.042246 67.274296 \nL 1045.754935 66.131504 \nL 1056.605688 60.455656 \nL 1062.031065 58.448807 \nL 1064.743753 57.766849 \nL 1067.456442 56.849079 \nL 1070.16913 55.744133 \nL 1078.307195 51.633566 \nL 1081.019884 50.936097 \nL 1083.732572 50.456402 \nL 1091.870637 47.110983 \nL 1094.583326 46.057593 \nL 1097.296014 45.17318 \nL 1100.008702 44.575998 \nL 1102.721391 44.094149 \nL 1108.146768 42.201165 \nL 1110.859456 41.369613 \nL 1113.572144 40.683771 \nL 1116.284833 40.12714 \nL 1121.710209 39.191824 \nL 1127.135586 37.62358 \nL 1127.135586 37.62358 \n\" style=\"fill:none;stroke:#ff304f;stroke-linecap:round;stroke-width:1.5;\"/>\n   </g>\n   <g id=\"patch_8\">\n    <path d=\"M 642.92071 348.958125 \nL 642.92071 22.798125 \n\" style=\"fill:none;stroke:#ffffff;stroke-linecap:square;stroke-linejoin:miter;stroke-width:1.25;\"/>\n   </g>\n   <g id=\"patch_9\">\n    <path d=\"M 1150.193437 348.958125 \nL 1150.193437 22.798125 \n\" style=\"fill:none;stroke:#ffffff;stroke-linecap:square;stroke-linejoin:miter;stroke-width:1.25;\"/>\n   </g>\n   <g id=\"patch_10\">\n    <path d=\"M 642.92071 348.958125 \nL 1150.193437 348.958125 \n\" style=\"fill:none;stroke:#ffffff;stroke-linecap:square;stroke-linejoin:miter;stroke-width:1.25;\"/>\n   </g>\n   <g id=\"patch_11\">\n    <path d=\"M 642.92071 22.798125 \nL 1150.193437 22.798125 \n\" style=\"fill:none;stroke:#ffffff;stroke-linecap:square;stroke-linejoin:miter;stroke-width:1.25;\"/>\n   </g>\n   <g id=\"text_30\">\n    <!-- Número de casos no Brasil em logaritimica -->\n    <defs>\n     <path d=\"M 45.40625 27.984375 \nQ 45.40625 37.75 41.375 43.109375 \nQ 37.359375 48.484375 30.078125 48.484375 \nQ 22.859375 48.484375 18.828125 43.109375 \nQ 14.796875 37.75 14.796875 27.984375 \nQ 14.796875 18.265625 18.828125 12.890625 \nQ 22.859375 7.515625 30.078125 7.515625 \nQ 37.359375 7.515625 41.375 12.890625 \nQ 45.40625 18.265625 45.40625 27.984375 \nz\nM 54.390625 6.78125 \nQ 54.390625 -7.171875 48.1875 -13.984375 \nQ 42 -20.796875 29.203125 -20.796875 \nQ 24.46875 -20.796875 20.265625 -20.09375 \nQ 16.0625 -19.390625 12.109375 -17.921875 \nL 12.109375 -9.1875 \nQ 16.0625 -11.328125 19.921875 -12.34375 \nQ 23.78125 -13.375 27.78125 -13.375 \nQ 36.625 -13.375 41.015625 -8.765625 \nQ 45.40625 -4.15625 45.40625 5.171875 \nL 45.40625 9.625 \nQ 42.625 4.78125 38.28125 2.390625 \nQ 33.9375 0 27.875 0 \nQ 17.828125 0 11.671875 7.65625 \nQ 5.515625 15.328125 5.515625 27.984375 \nQ 5.515625 40.671875 11.671875 48.328125 \nQ 17.828125 56 27.875 56 \nQ 33.9375 56 38.28125 53.609375 \nQ 42.625 51.21875 45.40625 46.390625 \nL 45.40625 54.6875 \nL 54.390625 54.6875 \nz\n\" id=\"DejaVuSans-103\"/>\n    </defs>\n    <g style=\"fill:#262626;\" transform=\"translate(767.693011 16.798125)scale(0.12 -0.12)\">\n     <use xlink:href=\"#DejaVuSans-78\"/>\n     <use x=\"74.804688\" xlink:href=\"#DejaVuSans-250\"/>\n     <use x=\"138.183594\" xlink:href=\"#DejaVuSans-109\"/>\n     <use x=\"235.595703\" xlink:href=\"#DejaVuSans-101\"/>\n     <use x=\"297.119141\" xlink:href=\"#DejaVuSans-114\"/>\n     <use x=\"335.982422\" xlink:href=\"#DejaVuSans-111\"/>\n     <use x=\"397.164062\" xlink:href=\"#DejaVuSans-32\"/>\n     <use x=\"428.951172\" xlink:href=\"#DejaVuSans-100\"/>\n     <use x=\"492.427734\" xlink:href=\"#DejaVuSans-101\"/>\n     <use x=\"553.951172\" xlink:href=\"#DejaVuSans-32\"/>\n     <use x=\"585.738281\" xlink:href=\"#DejaVuSans-99\"/>\n     <use x=\"640.71875\" xlink:href=\"#DejaVuSans-97\"/>\n     <use x=\"701.998047\" xlink:href=\"#DejaVuSans-115\"/>\n     <use x=\"754.097656\" xlink:href=\"#DejaVuSans-111\"/>\n     <use x=\"815.279297\" xlink:href=\"#DejaVuSans-115\"/>\n     <use x=\"867.378906\" xlink:href=\"#DejaVuSans-32\"/>\n     <use x=\"899.166016\" xlink:href=\"#DejaVuSans-110\"/>\n     <use x=\"962.544922\" xlink:href=\"#DejaVuSans-111\"/>\n     <use x=\"1023.726562\" xlink:href=\"#DejaVuSans-32\"/>\n     <use x=\"1055.513672\" xlink:href=\"#DejaVuSans-66\"/>\n     <use x=\"1124.117188\" xlink:href=\"#DejaVuSans-114\"/>\n     <use x=\"1165.230469\" xlink:href=\"#DejaVuSans-97\"/>\n     <use x=\"1226.509766\" xlink:href=\"#DejaVuSans-115\"/>\n     <use x=\"1278.609375\" xlink:href=\"#DejaVuSans-105\"/>\n     <use x=\"1306.392578\" xlink:href=\"#DejaVuSans-108\"/>\n     <use x=\"1334.175781\" xlink:href=\"#DejaVuSans-32\"/>\n     <use x=\"1365.962891\" xlink:href=\"#DejaVuSans-101\"/>\n     <use x=\"1427.486328\" xlink:href=\"#DejaVuSans-109\"/>\n     <use x=\"1524.898438\" xlink:href=\"#DejaVuSans-32\"/>\n     <use x=\"1556.685547\" xlink:href=\"#DejaVuSans-108\"/>\n     <use x=\"1584.46875\" xlink:href=\"#DejaVuSans-111\"/>\n     <use x=\"1645.650391\" xlink:href=\"#DejaVuSans-103\"/>\n     <use x=\"1709.126953\" xlink:href=\"#DejaVuSans-97\"/>\n     <use x=\"1770.40625\" xlink:href=\"#DejaVuSans-114\"/>\n     <use x=\"1811.519531\" xlink:href=\"#DejaVuSans-105\"/>\n     <use x=\"1839.302734\" xlink:href=\"#DejaVuSans-116\"/>\n     <use x=\"1878.511719\" xlink:href=\"#DejaVuSans-105\"/>\n     <use x=\"1906.294922\" xlink:href=\"#DejaVuSans-109\"/>\n     <use x=\"2003.707031\" xlink:href=\"#DejaVuSans-105\"/>\n     <use x=\"2031.490234\" xlink:href=\"#DejaVuSans-99\"/>\n     <use x=\"2086.470703\" xlink:href=\"#DejaVuSans-97\"/>\n    </g>\n   </g>\n  </g>\n </g>\n <defs>\n  <clipPath id=\"p6c70884438\">\n   <rect height=\"326.16\" width=\"507.272727\" x=\"34.193438\" y=\"22.798125\"/>\n  </clipPath>\n  <clipPath id=\"p08333fe429\">\n   <rect height=\"326.16\" width=\"507.272727\" x=\"642.92071\" y=\"22.798125\"/>\n  </clipPath>\n </defs>\n</svg>\n"
          },
          "metadata": {
            "tags": [],
            "needs_background": "light"
          }
        }
      ]
    },
    {
      "cell_type": "markdown",
      "metadata": {
        "id": "wG4JiocqIGbI",
        "colab_type": "text"
      },
      "source": [
        "Texto ..."
      ]
    },
    {
      "cell_type": "markdown",
      "metadata": {
        "id": "LCsiXvM3BcsO",
        "colab_type": "text"
      },
      "source": [
        "## Conclusão\n",
        "\n",
        "*Escreva suas conclusões e análises sobre os dados relativos à COVID-19...*"
      ]
    }
  ]
}