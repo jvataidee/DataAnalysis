{
  "nbformat": 4,
  "nbformat_minor": 0,
  "metadata": {
    "colab": {
      "name": "Otimização_Abate_de_Gado_de_Corte.ipynb",
      "provenance": [],
      "collapsed_sections": [],
      "include_colab_link": true
    },
    "kernelspec": {
      "name": "python3",
      "display_name": "Python 3"
    },
    "language_info": {
      "name": "python"
    }
  },
  "cells": [
    {
      "cell_type": "markdown",
      "metadata": {
        "id": "view-in-github",
        "colab_type": "text"
      },
      "source": [
        "<a href=\"https://colab.research.google.com/github/jvataidee/DataAnalysis/blob/master/Otimiza%C3%A7%C3%A3o_Abate_de_Gado_de_Corte.ipynb\" target=\"_parent\"><img src=\"https://colab.research.google.com/assets/colab-badge.svg\" alt=\"Open In Colab\"/></a>"
      ]
    },
    {
      "cell_type": "markdown",
      "metadata": {
        "id": "iyF3cpCh9xBf"
      },
      "source": [
        "**by: [João Ataíde](https://www.joaoataide.com)**\n",
        "# Análise Mercado Financeira de Gado de Corte\n",
        "\n",
        "\n",
        "---\n"
      ]
    },
    {
      "cell_type": "markdown",
      "metadata": {
        "id": "-jEcTjEbDMfM"
      },
      "source": [
        "## Importanto bibliotecas básicas"
      ]
    },
    {
      "cell_type": "code",
      "metadata": {
        "id": "iHyBpQRa9lg5"
      },
      "source": [
        "#importar bibliotecas básicas\n",
        "import pandas as pd\n",
        "import numpy as np\n",
        "import matplotlib.pyplot as plt\n",
        "import seaborn as sns\n",
        "from datetime import date\n",
        "\n",
        "# configurar a visualização\n",
        "sns.set()\n",
        "%matplotlib inline\n",
        "%config InlineBackend.figure_format = 'svg'"
      ],
      "execution_count": 24,
      "outputs": []
    },
    {
      "cell_type": "markdown",
      "metadata": {
        "id": "7iwDAi1hA_Nu"
      },
      "source": [
        "## Obtenção dos dados"
      ]
    },
    {
      "cell_type": "code",
      "metadata": {
        "id": "aFfpT5tHBfhs"
      },
      "source": [
        "!pip install investpy -q"
      ],
      "execution_count": null,
      "outputs": []
    },
    {
      "cell_type": "code",
      "metadata": {
        "id": "rEVIsMYn7RGH"
      },
      "source": [
        "!pip install yfinance -q"
      ],
      "execution_count": null,
      "outputs": []
    },
    {
      "cell_type": "code",
      "metadata": {
        "id": "R_iTVMN7HPES"
      },
      "source": [
        "pip install -U sidrapy -q"
      ],
      "execution_count": 4,
      "outputs": []
    },
    {
      "cell_type": "code",
      "metadata": {
        "id": "BPSmATfGDQSp"
      },
      "source": [
        "#importar bibliotecas financeiras\n",
        "import investpy\n",
        "import yfinance as yf\n",
        "import sidrapy"
      ],
      "execution_count": 5,
      "outputs": []
    },
    {
      "cell_type": "code",
      "metadata": {
        "id": "JNLqIvJwgO1Y"
      },
      "source": [
        "#Lista de commodities\n",
        "commodities = [\"Live Cattle\", \"Feeder Cattle\", ]\n",
        "\n",
        "#Data de inicio e fim de análise\n",
        "inicio = \"01/07/2014\"\n",
        "fim = \"01/07/2021\""
      ],
      "execution_count": 6,
      "outputs": []
    },
    {
      "cell_type": "code",
      "metadata": {
        "id": "FuwlmI-8a3_D"
      },
      "source": [
        "#Função para importar dados das commodities\n",
        "def commodities_df(commodities, inicio,fim):\n",
        "  precos = pd.DataFrame()\n",
        "  for i in commodities:\n",
        "    df = investpy.commodities.get_commodity_historical_data(commodity=i, from_date=inicio, to_date=fim).Close\n",
        "    df.rename(i, inplace=True)\n",
        "    df.columns = [i]\n",
        "    precos = pd.concat([precos,df], axis=1)\n",
        "    precos.index.name=\"Date\"\n",
        "  return precos"
      ],
      "execution_count": 7,
      "outputs": []
    },
    {
      "cell_type": "code",
      "metadata": {
        "colab": {
          "base_uri": "https://localhost:8080/",
          "height": 234
        },
        "id": "OsLp0Ck9f0Ke",
        "outputId": "602404f7-2cb4-4e55-d882-56569c636cf4"
      },
      "source": [
        "#Data Frame de commodites\n",
        "df = commodities_df(commodities,inicio,fim)\n",
        "df.head()"
      ],
      "execution_count": 8,
      "outputs": [
        {
          "output_type": "execute_result",
          "data": {
            "text/html": [
              "<div>\n",
              "<style scoped>\n",
              "    .dataframe tbody tr th:only-of-type {\n",
              "        vertical-align: middle;\n",
              "    }\n",
              "\n",
              "    .dataframe tbody tr th {\n",
              "        vertical-align: top;\n",
              "    }\n",
              "\n",
              "    .dataframe thead th {\n",
              "        text-align: right;\n",
              "    }\n",
              "</style>\n",
              "<table border=\"1\" class=\"dataframe\">\n",
              "  <thead>\n",
              "    <tr style=\"text-align: right;\">\n",
              "      <th></th>\n",
              "      <th>Live Cattle</th>\n",
              "      <th>Feeder Cattle</th>\n",
              "    </tr>\n",
              "    <tr>\n",
              "      <th>Date</th>\n",
              "      <th></th>\n",
              "      <th></th>\n",
              "    </tr>\n",
              "  </thead>\n",
              "  <tbody>\n",
              "    <tr>\n",
              "      <th>2014-07-01 00:00:00</th>\n",
              "      <td>151.500</td>\n",
              "      <td>215.78</td>\n",
              "    </tr>\n",
              "    <tr>\n",
              "      <th>2014-07-02 00:00:00</th>\n",
              "      <td>152.325</td>\n",
              "      <td>216.20</td>\n",
              "    </tr>\n",
              "    <tr>\n",
              "      <th>2014-07-03 00:00:00</th>\n",
              "      <td>155.000</td>\n",
              "      <td>217.62</td>\n",
              "    </tr>\n",
              "    <tr>\n",
              "      <th>2014-07-07 00:00:00</th>\n",
              "      <td>154.950</td>\n",
              "      <td>218.00</td>\n",
              "    </tr>\n",
              "    <tr>\n",
              "      <th>2014-07-08 00:00:00</th>\n",
              "      <td>153.525</td>\n",
              "      <td>215.90</td>\n",
              "    </tr>\n",
              "  </tbody>\n",
              "</table>\n",
              "</div>"
            ],
            "text/plain": [
              "                     Live Cattle  Feeder Cattle\n",
              "Date                                           \n",
              "2014-07-01 00:00:00      151.500         215.78\n",
              "2014-07-02 00:00:00      152.325         216.20\n",
              "2014-07-03 00:00:00      155.000         217.62\n",
              "2014-07-07 00:00:00      154.950         218.00\n",
              "2014-07-08 00:00:00      153.525         215.90"
            ]
          },
          "metadata": {
            "tags": []
          },
          "execution_count": 8
        }
      ]
    },
    {
      "cell_type": "code",
      "metadata": {
        "colab": {
          "base_uri": "https://localhost:8080/",
          "height": 234
        },
        "id": "yUnF6IAXnq6-",
        "outputId": "cb93b68a-601a-46c3-a374-ac7f8f40589e"
      },
      "source": [
        "#Importar historico do dollar\n",
        "doll = yf.Ticker(\"USDBRL=x\")\n",
        "dollar = pd.DataFrame(doll.history(start =\"2014-07-01\", end =\"2021-07-01\" ).Close)\n",
        "dollar.columns = [\"Dollar\"]\n",
        "dollar.index.name=\"Date\"\n",
        "dollar.head()"
      ],
      "execution_count": 9,
      "outputs": [
        {
          "output_type": "execute_result",
          "data": {
            "text/html": [
              "<div>\n",
              "<style scoped>\n",
              "    .dataframe tbody tr th:only-of-type {\n",
              "        vertical-align: middle;\n",
              "    }\n",
              "\n",
              "    .dataframe tbody tr th {\n",
              "        vertical-align: top;\n",
              "    }\n",
              "\n",
              "    .dataframe thead th {\n",
              "        text-align: right;\n",
              "    }\n",
              "</style>\n",
              "<table border=\"1\" class=\"dataframe\">\n",
              "  <thead>\n",
              "    <tr style=\"text-align: right;\">\n",
              "      <th></th>\n",
              "      <th>Dollar</th>\n",
              "    </tr>\n",
              "    <tr>\n",
              "      <th>Date</th>\n",
              "      <th></th>\n",
              "    </tr>\n",
              "  </thead>\n",
              "  <tbody>\n",
              "    <tr>\n",
              "      <th>2014-07-01</th>\n",
              "      <td>2.2117</td>\n",
              "    </tr>\n",
              "    <tr>\n",
              "      <th>2014-07-02</th>\n",
              "      <td>2.1981</td>\n",
              "    </tr>\n",
              "    <tr>\n",
              "      <th>2014-07-03</th>\n",
              "      <td>2.2223</td>\n",
              "    </tr>\n",
              "    <tr>\n",
              "      <th>2014-07-04</th>\n",
              "      <td>2.2068</td>\n",
              "    </tr>\n",
              "    <tr>\n",
              "      <th>2014-07-07</th>\n",
              "      <td>2.2098</td>\n",
              "    </tr>\n",
              "  </tbody>\n",
              "</table>\n",
              "</div>"
            ],
            "text/plain": [
              "            Dollar\n",
              "Date              \n",
              "2014-07-01  2.2117\n",
              "2014-07-02  2.1981\n",
              "2014-07-03  2.2223\n",
              "2014-07-04  2.2068\n",
              "2014-07-07  2.2098"
            ]
          },
          "metadata": {
            "tags": []
          },
          "execution_count": 9
        }
      ]
    },
    {
      "cell_type": "code",
      "metadata": {
        "colab": {
          "base_uri": "https://localhost:8080/",
          "height": 234
        },
        "id": "Kys23TS-wldr",
        "outputId": "b5582ace-ca00-4b80-a637-3221819f211e"
      },
      "source": [
        "data = pd.merge(df, dollar, how='inner', right_index=True, left_index=True)\n",
        "data.head()"
      ],
      "execution_count": 41,
      "outputs": [
        {
          "output_type": "execute_result",
          "data": {
            "text/html": [
              "<div>\n",
              "<style scoped>\n",
              "    .dataframe tbody tr th:only-of-type {\n",
              "        vertical-align: middle;\n",
              "    }\n",
              "\n",
              "    .dataframe tbody tr th {\n",
              "        vertical-align: top;\n",
              "    }\n",
              "\n",
              "    .dataframe thead th {\n",
              "        text-align: right;\n",
              "    }\n",
              "</style>\n",
              "<table border=\"1\" class=\"dataframe\">\n",
              "  <thead>\n",
              "    <tr style=\"text-align: right;\">\n",
              "      <th></th>\n",
              "      <th>Live Cattle</th>\n",
              "      <th>Feeder Cattle</th>\n",
              "      <th>Dollar</th>\n",
              "    </tr>\n",
              "    <tr>\n",
              "      <th>Date</th>\n",
              "      <th></th>\n",
              "      <th></th>\n",
              "      <th></th>\n",
              "    </tr>\n",
              "  </thead>\n",
              "  <tbody>\n",
              "    <tr>\n",
              "      <th>2014-07-01</th>\n",
              "      <td>151.500</td>\n",
              "      <td>215.78</td>\n",
              "      <td>2.2117</td>\n",
              "    </tr>\n",
              "    <tr>\n",
              "      <th>2014-07-02</th>\n",
              "      <td>152.325</td>\n",
              "      <td>216.20</td>\n",
              "      <td>2.1981</td>\n",
              "    </tr>\n",
              "    <tr>\n",
              "      <th>2014-07-03</th>\n",
              "      <td>155.000</td>\n",
              "      <td>217.62</td>\n",
              "      <td>2.2223</td>\n",
              "    </tr>\n",
              "    <tr>\n",
              "      <th>2014-07-07</th>\n",
              "      <td>154.950</td>\n",
              "      <td>218.00</td>\n",
              "      <td>2.2098</td>\n",
              "    </tr>\n",
              "    <tr>\n",
              "      <th>2014-07-08</th>\n",
              "      <td>153.525</td>\n",
              "      <td>215.90</td>\n",
              "      <td>2.2225</td>\n",
              "    </tr>\n",
              "  </tbody>\n",
              "</table>\n",
              "</div>"
            ],
            "text/plain": [
              "            Live Cattle  Feeder Cattle  Dollar\n",
              "Date                                          \n",
              "2014-07-01      151.500         215.78  2.2117\n",
              "2014-07-02      152.325         216.20  2.1981\n",
              "2014-07-03      155.000         217.62  2.2223\n",
              "2014-07-07      154.950         218.00  2.2098\n",
              "2014-07-08      153.525         215.90  2.2225"
            ]
          },
          "metadata": {
            "tags": []
          },
          "execution_count": 41
        }
      ]
    },
    {
      "cell_type": "code",
      "metadata": {
        "id": "FrO8UDy8ytwY",
        "outputId": "a6bdf79f-9f42-42ba-bb77-f836d10258a5",
        "colab": {
          "base_uri": "https://localhost:8080/",
          "height": 327
        }
      },
      "source": [
        "#Tranformar em Trimestre\n",
        "opsd_weekly_mean = data.timedelta_range(0, periods=10, freq='W')\n",
        "opsd_weekly_mean"
      ],
      "execution_count": 43,
      "outputs": [
        {
          "output_type": "error",
          "ename": "AttributeError",
          "evalue": "ignored",
          "traceback": [
            "\u001b[0;31m---------------------------------------------------------------------------\u001b[0m",
            "\u001b[0;31mAttributeError\u001b[0m                            Traceback (most recent call last)",
            "\u001b[0;32m<ipython-input-43-8b6084e9ea41>\u001b[0m in \u001b[0;36m<module>\u001b[0;34m()\u001b[0m\n\u001b[1;32m      1\u001b[0m \u001b[0;31m#Tranformar em Trimestre\u001b[0m\u001b[0;34m\u001b[0m\u001b[0;34m\u001b[0m\u001b[0;34m\u001b[0m\u001b[0m\n\u001b[0;32m----> 2\u001b[0;31m \u001b[0mopsd_weekly_mean\u001b[0m \u001b[0;34m=\u001b[0m \u001b[0mdata\u001b[0m\u001b[0;34m.\u001b[0m\u001b[0mtimedelta_range\u001b[0m\u001b[0;34m(\u001b[0m\u001b[0;36m0\u001b[0m\u001b[0;34m,\u001b[0m \u001b[0mperiods\u001b[0m\u001b[0;34m=\u001b[0m\u001b[0;36m10\u001b[0m\u001b[0;34m,\u001b[0m \u001b[0mfreq\u001b[0m\u001b[0;34m=\u001b[0m\u001b[0;34m'W'\u001b[0m\u001b[0;34m)\u001b[0m\u001b[0;34m\u001b[0m\u001b[0;34m\u001b[0m\u001b[0m\n\u001b[0m\u001b[1;32m      3\u001b[0m \u001b[0mopsd_weekly_mean\u001b[0m\u001b[0;34m\u001b[0m\u001b[0;34m\u001b[0m\u001b[0m\n",
            "\u001b[0;32m/usr/local/lib/python3.7/dist-packages/pandas/core/generic.py\u001b[0m in \u001b[0;36m__getattr__\u001b[0;34m(self, name)\u001b[0m\n\u001b[1;32m   5139\u001b[0m             \u001b[0;32mif\u001b[0m \u001b[0mself\u001b[0m\u001b[0;34m.\u001b[0m\u001b[0m_info_axis\u001b[0m\u001b[0;34m.\u001b[0m\u001b[0m_can_hold_identifiers_and_holds_name\u001b[0m\u001b[0;34m(\u001b[0m\u001b[0mname\u001b[0m\u001b[0;34m)\u001b[0m\u001b[0;34m:\u001b[0m\u001b[0;34m\u001b[0m\u001b[0;34m\u001b[0m\u001b[0m\n\u001b[1;32m   5140\u001b[0m                 \u001b[0;32mreturn\u001b[0m \u001b[0mself\u001b[0m\u001b[0;34m[\u001b[0m\u001b[0mname\u001b[0m\u001b[0;34m]\u001b[0m\u001b[0;34m\u001b[0m\u001b[0;34m\u001b[0m\u001b[0m\n\u001b[0;32m-> 5141\u001b[0;31m             \u001b[0;32mreturn\u001b[0m \u001b[0mobject\u001b[0m\u001b[0;34m.\u001b[0m\u001b[0m__getattribute__\u001b[0m\u001b[0;34m(\u001b[0m\u001b[0mself\u001b[0m\u001b[0;34m,\u001b[0m \u001b[0mname\u001b[0m\u001b[0;34m)\u001b[0m\u001b[0;34m\u001b[0m\u001b[0;34m\u001b[0m\u001b[0m\n\u001b[0m\u001b[1;32m   5142\u001b[0m \u001b[0;34m\u001b[0m\u001b[0m\n\u001b[1;32m   5143\u001b[0m     \u001b[0;32mdef\u001b[0m \u001b[0m__setattr__\u001b[0m\u001b[0;34m(\u001b[0m\u001b[0mself\u001b[0m\u001b[0;34m,\u001b[0m \u001b[0mname\u001b[0m\u001b[0;34m:\u001b[0m \u001b[0mstr\u001b[0m\u001b[0;34m,\u001b[0m \u001b[0mvalue\u001b[0m\u001b[0;34m)\u001b[0m \u001b[0;34m->\u001b[0m \u001b[0;32mNone\u001b[0m\u001b[0;34m:\u001b[0m\u001b[0;34m\u001b[0m\u001b[0;34m\u001b[0m\u001b[0m\n",
            "\u001b[0;31mAttributeError\u001b[0m: 'DataFrame' object has no attribute 'timedelta_range'"
          ]
        }
      ]
    },
    {
      "cell_type": "markdown",
      "metadata": {
        "id": "IY3o8ZVvCfy7"
      },
      "source": [
        "##Análises exploratória"
      ]
    },
    {
      "cell_type": "code",
      "metadata": {
        "id": "MXl5ykdWxP4l",
        "outputId": "f820d34a-4b2e-4a15-b06c-2d97d1c8d507",
        "colab": {
          "base_uri": "https://localhost:8080/",
          "height": 348
        }
      },
      "source": [
        "print(\"Data Inicial: \", data.Date.min())\n",
        "print(\"Data Final: \", data.Date.max())\n",
        "print(\"Dias de análise: \", data.Date.max() - data.Date.min() )\n",
        "\n",
        "data.describe()"
      ],
      "execution_count": 23,
      "outputs": [
        {
          "output_type": "stream",
          "text": [
            "Data Inicial:  2014-07-01 00:00:00\n",
            "Data Final:  2021-07-01 00:00:00\n",
            "Dias de análise:  2557 days 00:00:00\n"
          ],
          "name": "stdout"
        },
        {
          "output_type": "execute_result",
          "data": {
            "text/html": [
              "<div>\n",
              "<style scoped>\n",
              "    .dataframe tbody tr th:only-of-type {\n",
              "        vertical-align: middle;\n",
              "    }\n",
              "\n",
              "    .dataframe tbody tr th {\n",
              "        vertical-align: top;\n",
              "    }\n",
              "\n",
              "    .dataframe thead th {\n",
              "        text-align: right;\n",
              "    }\n",
              "</style>\n",
              "<table border=\"1\" class=\"dataframe\">\n",
              "  <thead>\n",
              "    <tr style=\"text-align: right;\">\n",
              "      <th></th>\n",
              "      <th>Live Cattle</th>\n",
              "      <th>Feeder Cattle</th>\n",
              "      <th>Dollar</th>\n",
              "    </tr>\n",
              "  </thead>\n",
              "  <tbody>\n",
              "    <tr>\n",
              "      <th>count</th>\n",
              "      <td>1752.000000</td>\n",
              "      <td>1747.000000</td>\n",
              "      <td>1752.000000</td>\n",
              "    </tr>\n",
              "    <tr>\n",
              "      <th>mean</th>\n",
              "      <td>122.772504</td>\n",
              "      <td>156.767905</td>\n",
              "      <td>3.802801</td>\n",
              "    </tr>\n",
              "    <tr>\n",
              "      <th>std</th>\n",
              "      <td>18.320894</td>\n",
              "      <td>31.269586</td>\n",
              "      <td>0.887515</td>\n",
              "    </tr>\n",
              "    <tr>\n",
              "      <th>min</th>\n",
              "      <td>83.825000</td>\n",
              "      <td>108.250000</td>\n",
              "      <td>2.198100</td>\n",
              "    </tr>\n",
              "    <tr>\n",
              "      <th>25%</th>\n",
              "      <td>109.450000</td>\n",
              "      <td>137.725000</td>\n",
              "      <td>3.191750</td>\n",
              "    </tr>\n",
              "    <tr>\n",
              "      <th>50%</th>\n",
              "      <td>118.900000</td>\n",
              "      <td>145.450000</td>\n",
              "      <td>3.703600</td>\n",
              "    </tr>\n",
              "    <tr>\n",
              "      <th>75%</th>\n",
              "      <td>129.912500</td>\n",
              "      <td>157.310000</td>\n",
              "      <td>4.093250</td>\n",
              "    </tr>\n",
              "    <tr>\n",
              "      <th>max</th>\n",
              "      <td>171.000000</td>\n",
              "      <td>242.320000</td>\n",
              "      <td>5.886400</td>\n",
              "    </tr>\n",
              "  </tbody>\n",
              "</table>\n",
              "</div>"
            ],
            "text/plain": [
              "       Live Cattle  Feeder Cattle       Dollar\n",
              "count  1752.000000    1747.000000  1752.000000\n",
              "mean    122.772504     156.767905     3.802801\n",
              "std      18.320894      31.269586     0.887515\n",
              "min      83.825000     108.250000     2.198100\n",
              "25%     109.450000     137.725000     3.191750\n",
              "50%     118.900000     145.450000     3.703600\n",
              "75%     129.912500     157.310000     4.093250\n",
              "max     171.000000     242.320000     5.886400"
            ]
          },
          "metadata": {
            "tags": []
          },
          "execution_count": 23
        }
      ]
    },
    {
      "cell_type": "code",
      "metadata": {
        "id": "oHW0UI1byaJ6"
      },
      "source": [
        ""
      ],
      "execution_count": null,
      "outputs": []
    },
    {
      "cell_type": "markdown",
      "metadata": {
        "id": "HAr3xfQfCDXW"
      },
      "source": [
        "###Pré-processamento\n"
      ]
    },
    {
      "cell_type": "markdown",
      "metadata": {
        "id": "5C85F-gHCKJE"
      },
      "source": [
        "### Análises da série temporal"
      ]
    },
    {
      "cell_type": "markdown",
      "metadata": {
        "id": "BHiCF_sbCVp1"
      },
      "source": [
        "## Modelo de previsão"
      ]
    },
    {
      "cell_type": "markdown",
      "metadata": {
        "id": "z9wObyKVDEAe"
      },
      "source": [
        "### Tratamento dos dados"
      ]
    },
    {
      "cell_type": "markdown",
      "metadata": {
        "id": "JFrit6o9DYRD"
      },
      "source": [
        "##Conclusão"
      ]
    }
  ]
}