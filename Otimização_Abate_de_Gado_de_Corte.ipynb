{
  "nbformat": 4,
  "nbformat_minor": 0,
  "metadata": {
    "colab": {
      "name": "Otimização_Abate_de_Gado_de_Corte.ipynb",
      "provenance": [],
      "collapsed_sections": [],
      "include_colab_link": true
    },
    "kernelspec": {
      "name": "python3",
      "display_name": "Python 3"
    },
    "language_info": {
      "name": "python"
    }
  },
  "cells": [
    {
      "cell_type": "markdown",
      "metadata": {
        "id": "view-in-github",
        "colab_type": "text"
      },
      "source": [
        "<a href=\"https://colab.research.google.com/github/jvataidee/DataAnalysis/blob/master/Otimiza%C3%A7%C3%A3o_Abate_de_Gado_de_Corte.ipynb\" target=\"_parent\"><img src=\"https://colab.research.google.com/assets/colab-badge.svg\" alt=\"Open In Colab\"/></a>"
      ]
    },
    {
      "cell_type": "markdown",
      "metadata": {
        "id": "iyF3cpCh9xBf"
      },
      "source": [
        "**by: [João Ataíde](https://www.joaoataide.com)**\n",
        "# Análise Mercado Financeira de Gado de Corte\n",
        "\n",
        "\n",
        "---\n"
      ]
    },
    {
      "cell_type": "markdown",
      "metadata": {
        "id": "-jEcTjEbDMfM"
      },
      "source": [
        "## Importanto bibliotecas básicas"
      ]
    },
    {
      "cell_type": "code",
      "metadata": {
        "id": "iHyBpQRa9lg5"
      },
      "source": [
        "#importar bibliotecas básicas\n",
        "import pandas as pd\n",
        "import numpy as np\n",
        "import matplotlib.pyplot as plt\n",
        "import seaborn as sns\n",
        "\n",
        "# configurar a visualização\n",
        "sns.set()\n",
        "%matplotlib inline\n",
        "%config InlineBackend.figure_format = 'svg'"
      ],
      "execution_count": 1,
      "outputs": []
    },
    {
      "cell_type": "markdown",
      "metadata": {
        "id": "7iwDAi1hA_Nu"
      },
      "source": [
        "## Obtenção dos dados"
      ]
    },
    {
      "cell_type": "code",
      "metadata": {
        "id": "aFfpT5tHBfhs"
      },
      "source": [
        "!pip install investpy -q"
      ],
      "execution_count": null,
      "outputs": []
    },
    {
      "cell_type": "code",
      "metadata": {
        "id": "rEVIsMYn7RGH"
      },
      "source": [
        "!pip install yfinance -q"
      ],
      "execution_count": null,
      "outputs": []
    },
    {
      "cell_type": "code",
      "metadata": {
        "id": "R_iTVMN7HPES"
      },
      "source": [
        "pip install -U sidrapy -q"
      ],
      "execution_count": 4,
      "outputs": []
    },
    {
      "cell_type": "code",
      "metadata": {
        "id": "BPSmATfGDQSp"
      },
      "source": [
        "#importar bibliotecas financeiras\n",
        "import investpy\n",
        "import yfinance as yf\n",
        "import sidrapy"
      ],
      "execution_count": 5,
      "outputs": []
    },
    {
      "cell_type": "code",
      "metadata": {
        "id": "JNLqIvJwgO1Y"
      },
      "source": [
        "#Lista de commodities\n",
        "commodities = [\"Live Cattle\", \"Feeder Cattle\", ]\n",
        "\n",
        "#Data de inicio e fim de análise\n",
        "inicio = \"01/07/2014\"\n",
        "fim = \"01/07/2021\""
      ],
      "execution_count": 6,
      "outputs": []
    },
    {
      "cell_type": "code",
      "metadata": {
        "id": "FuwlmI-8a3_D"
      },
      "source": [
        "#Função para importar dados das commodities\n",
        "def commodities_df(commodities, inicio,fim):\n",
        "  precos = pd.DataFrame()\n",
        "  for i in commodities:\n",
        "    df = investpy.commodities.get_commodity_historical_data(commodity=i, from_date=inicio, to_date=fim).Close\n",
        "    df.rename(i, inplace=True)\n",
        "    df.columns = [i]\n",
        "    precos = pd.concat([precos,df], axis=1)\n",
        "    precos.index.name=\"Date\"\n",
        "  return precos"
      ],
      "execution_count": 7,
      "outputs": []
    },
    {
      "cell_type": "code",
      "metadata": {
        "colab": {
          "base_uri": "https://localhost:8080/",
          "height": 234
        },
        "id": "OsLp0Ck9f0Ke",
        "outputId": "602404f7-2cb4-4e55-d882-56569c636cf4"
      },
      "source": [
        "#Data Frame de commodites\n",
        "df = commodities_df(commodities,inicio,fim)\n",
        "df.head()"
      ],
      "execution_count": 8,
      "outputs": [
        {
          "output_type": "execute_result",
          "data": {
            "text/html": [
              "<div>\n",
              "<style scoped>\n",
              "    .dataframe tbody tr th:only-of-type {\n",
              "        vertical-align: middle;\n",
              "    }\n",
              "\n",
              "    .dataframe tbody tr th {\n",
              "        vertical-align: top;\n",
              "    }\n",
              "\n",
              "    .dataframe thead th {\n",
              "        text-align: right;\n",
              "    }\n",
              "</style>\n",
              "<table border=\"1\" class=\"dataframe\">\n",
              "  <thead>\n",
              "    <tr style=\"text-align: right;\">\n",
              "      <th></th>\n",
              "      <th>Live Cattle</th>\n",
              "      <th>Feeder Cattle</th>\n",
              "    </tr>\n",
              "    <tr>\n",
              "      <th>Date</th>\n",
              "      <th></th>\n",
              "      <th></th>\n",
              "    </tr>\n",
              "  </thead>\n",
              "  <tbody>\n",
              "    <tr>\n",
              "      <th>2014-07-01 00:00:00</th>\n",
              "      <td>151.500</td>\n",
              "      <td>215.78</td>\n",
              "    </tr>\n",
              "    <tr>\n",
              "      <th>2014-07-02 00:00:00</th>\n",
              "      <td>152.325</td>\n",
              "      <td>216.20</td>\n",
              "    </tr>\n",
              "    <tr>\n",
              "      <th>2014-07-03 00:00:00</th>\n",
              "      <td>155.000</td>\n",
              "      <td>217.62</td>\n",
              "    </tr>\n",
              "    <tr>\n",
              "      <th>2014-07-07 00:00:00</th>\n",
              "      <td>154.950</td>\n",
              "      <td>218.00</td>\n",
              "    </tr>\n",
              "    <tr>\n",
              "      <th>2014-07-08 00:00:00</th>\n",
              "      <td>153.525</td>\n",
              "      <td>215.90</td>\n",
              "    </tr>\n",
              "  </tbody>\n",
              "</table>\n",
              "</div>"
            ],
            "text/plain": [
              "                     Live Cattle  Feeder Cattle\n",
              "Date                                           \n",
              "2014-07-01 00:00:00      151.500         215.78\n",
              "2014-07-02 00:00:00      152.325         216.20\n",
              "2014-07-03 00:00:00      155.000         217.62\n",
              "2014-07-07 00:00:00      154.950         218.00\n",
              "2014-07-08 00:00:00      153.525         215.90"
            ]
          },
          "metadata": {
            "tags": []
          },
          "execution_count": 8
        }
      ]
    },
    {
      "cell_type": "code",
      "metadata": {
        "colab": {
          "base_uri": "https://localhost:8080/",
          "height": 234
        },
        "id": "yUnF6IAXnq6-",
        "outputId": "cb93b68a-601a-46c3-a374-ac7f8f40589e"
      },
      "source": [
        "#Importar historico do dollar\n",
        "doll = yf.Ticker(\"USDBRL=x\")\n",
        "dollar = pd.DataFrame(doll.history(start =\"2014-07-01\", end =\"2021-07-01\" ).Close)\n",
        "dollar.columns = [\"Dollar\"]\n",
        "dollar.index.name=\"Date\"\n",
        "dollar.head()"
      ],
      "execution_count": 9,
      "outputs": [
        {
          "output_type": "execute_result",
          "data": {
            "text/html": [
              "<div>\n",
              "<style scoped>\n",
              "    .dataframe tbody tr th:only-of-type {\n",
              "        vertical-align: middle;\n",
              "    }\n",
              "\n",
              "    .dataframe tbody tr th {\n",
              "        vertical-align: top;\n",
              "    }\n",
              "\n",
              "    .dataframe thead th {\n",
              "        text-align: right;\n",
              "    }\n",
              "</style>\n",
              "<table border=\"1\" class=\"dataframe\">\n",
              "  <thead>\n",
              "    <tr style=\"text-align: right;\">\n",
              "      <th></th>\n",
              "      <th>Dollar</th>\n",
              "    </tr>\n",
              "    <tr>\n",
              "      <th>Date</th>\n",
              "      <th></th>\n",
              "    </tr>\n",
              "  </thead>\n",
              "  <tbody>\n",
              "    <tr>\n",
              "      <th>2014-07-01</th>\n",
              "      <td>2.2117</td>\n",
              "    </tr>\n",
              "    <tr>\n",
              "      <th>2014-07-02</th>\n",
              "      <td>2.1981</td>\n",
              "    </tr>\n",
              "    <tr>\n",
              "      <th>2014-07-03</th>\n",
              "      <td>2.2223</td>\n",
              "    </tr>\n",
              "    <tr>\n",
              "      <th>2014-07-04</th>\n",
              "      <td>2.2068</td>\n",
              "    </tr>\n",
              "    <tr>\n",
              "      <th>2014-07-07</th>\n",
              "      <td>2.2098</td>\n",
              "    </tr>\n",
              "  </tbody>\n",
              "</table>\n",
              "</div>"
            ],
            "text/plain": [
              "            Dollar\n",
              "Date              \n",
              "2014-07-01  2.2117\n",
              "2014-07-02  2.1981\n",
              "2014-07-03  2.2223\n",
              "2014-07-04  2.2068\n",
              "2014-07-07  2.2098"
            ]
          },
          "metadata": {
            "tags": []
          },
          "execution_count": 9
        }
      ]
    },
    {
      "cell_type": "code",
      "metadata": {
        "id": "Kys23TS-wldr"
      },
      "source": [
        "data = pd.merge(df, dollar, how='inner', right_index=True, left_index=True)\n",
        "data.head()"
      ],
      "execution_count": null,
      "outputs": []
    },
    {
      "cell_type": "markdown",
      "metadata": {
        "id": "IY3o8ZVvCfy7"
      },
      "source": [
        "##Análises exploratória"
      ]
    },
    {
      "cell_type": "markdown",
      "metadata": {
        "id": "HAr3xfQfCDXW"
      },
      "source": [
        "###Pré-processamento\n"
      ]
    },
    {
      "cell_type": "markdown",
      "metadata": {
        "id": "5C85F-gHCKJE"
      },
      "source": [
        "### Análises da série temporal"
      ]
    },
    {
      "cell_type": "markdown",
      "metadata": {
        "id": "BHiCF_sbCVp1"
      },
      "source": [
        "## Modelo de previsão"
      ]
    },
    {
      "cell_type": "markdown",
      "metadata": {
        "id": "z9wObyKVDEAe"
      },
      "source": [
        "### Tratamento dos dados"
      ]
    },
    {
      "cell_type": "markdown",
      "metadata": {
        "id": "JFrit6o9DYRD"
      },
      "source": [
        "##Conclusão"
      ]
    }
  ]
}